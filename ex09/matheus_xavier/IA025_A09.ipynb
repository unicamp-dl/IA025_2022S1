{
  "cells": [
    {
      "cell_type": "markdown",
      "metadata": {
        "id": "view-in-github",
        "colab_type": "text"
      },
      "source": [
        "<a href=\"https://colab.research.google.com/github/flych3r/IA025_2022S1/blob/main/ex09/matheus_xavier/IA025_A09.ipynb\" target=\"_parent\"><img src=\"https://colab.research.google.com/assets/colab-badge.svg\" alt=\"Open In Colab\"/></a>"
      ]
    },
    {
      "cell_type": "code",
      "execution_count": null,
      "id": "92ed4229",
      "metadata": {
        "execution": {
          "iopub.execute_input": "2022-06-01T12:10:50.643324Z",
          "iopub.status.busy": "2022-06-01T12:10:50.642427Z",
          "iopub.status.idle": "2022-06-01T12:10:50.653961Z",
          "shell.execute_reply": "2022-06-01T12:10:50.653055Z"
        },
        "id": "92ed4229",
        "outputId": "9e0a187f-bf63-4cc3-ea7e-c6762e728621",
        "papermill": {
          "duration": 0.025811,
          "end_time": "2022-06-01T12:10:50.657221",
          "exception": false,
          "start_time": "2022-06-01T12:10:50.631410",
          "status": "completed"
        },
        "tags": []
      },
      "outputs": [
        {
          "name": "stdout",
          "output_type": "stream",
          "text": [
            "Meu nome é Matheus Xavier Sampaio - 220092\n"
          ]
        }
      ],
      "source": [
        "nome = 'Matheus Xavier Sampaio - 220092'\n",
        "print(f'Meu nome é {nome}')"
      ]
    },
    {
      "cell_type": "markdown",
      "id": "fa0cfc7b",
      "metadata": {
        "id": "fa0cfc7b",
        "papermill": {
          "duration": 0.006924,
          "end_time": "2022-06-01T12:10:50.671846",
          "exception": false,
          "start_time": "2022-06-01T12:10:50.664922",
          "status": "completed"
        },
        "tags": []
      },
      "source": [
        "#  Exercício: Modelo de Linguagem com auto-atenção"
      ]
    },
    {
      "cell_type": "markdown",
      "id": "6462a9b6",
      "metadata": {
        "id": "6462a9b6",
        "papermill": {
          "duration": 0.00695,
          "end_time": "2022-06-01T12:10:50.686062",
          "exception": false,
          "start_time": "2022-06-01T12:10:50.679112",
          "status": "completed"
        },
        "tags": []
      },
      "source": [
        "Este exercício é similar ao da Aula 8, mas iremos agora treinar uma rede neural com **duas camadas** de auto-atenção **causais** para prever a próxima palavra de um texto, data as palavras anteriores como entrada. \n",
        "\n",
        "Iremos também trabalhar com sequencias de tamanho variável.\n",
        "\n",
        "Na camada de auto-atenção, não se esqueça de implementar:\n",
        "- Embeddings de posição\n",
        "- Projeções lineares (WQ, WK, WV, WO)\n",
        "- Conexões residuais\n",
        "- Camada de feed forward (2-layer MLP)\n",
        "\n",
        "\n",
        "O dataset usado neste exercício (BrWaC) possui um tamanho razoável e você vai precisar rodar seus experimentos com GPU.\n",
        "\n",
        "Alguns conselhos úteis:\n",
        "- **ATENÇÃO:** o dataset é bem grande. Não dê comando de imprimí-lo.\n",
        "- Durante a depuração, faça seu dataset ficar bem pequeno, para que a depuração seja mais rápida e não precise de GPU. Somente ligue a GPU quando o seu laço de treinamento já está funcionando\n",
        "- Não deixe para fazer esse exercício na véspera. Ele é trabalhoso."
      ]
    },
    {
      "cell_type": "code",
      "execution_count": null,
      "id": "c2193550",
      "metadata": {
        "execution": {
          "iopub.execute_input": "2022-06-01T12:10:50.701474Z",
          "iopub.status.busy": "2022-06-01T12:10:50.701168Z",
          "iopub.status.idle": "2022-06-01T12:11:01.177646Z",
          "shell.execute_reply": "2022-06-01T12:11:01.176641Z"
        },
        "id": "c2193550",
        "outputId": "62feadae-3008-470e-b67c-9fe0c6f48f2d",
        "papermill": {
          "duration": 10.486512,
          "end_time": "2022-06-01T12:11:01.179860",
          "exception": false,
          "start_time": "2022-06-01T12:10:50.693348",
          "status": "completed"
        },
        "tags": []
      },
      "outputs": [
        {
          "name": "stdout",
          "output_type": "stream",
          "text": [
            "Requirement already satisfied: transformers in /opt/conda/lib/python3.7/site-packages (4.18.0)\r\n",
            "Requirement already satisfied: huggingface-hub<1.0,>=0.1.0 in /opt/conda/lib/python3.7/site-packages (from transformers) (0.5.1)\r\n",
            "Requirement already satisfied: regex!=2019.12.17 in /opt/conda/lib/python3.7/site-packages (from transformers) (2021.11.10)\r\n",
            "Requirement already satisfied: requests in /opt/conda/lib/python3.7/site-packages (from transformers) (2.27.1)\r\n",
            "Requirement already satisfied: sacremoses in /opt/conda/lib/python3.7/site-packages (from transformers) (0.0.53)\r\n",
            "Requirement already satisfied: numpy>=1.17 in /opt/conda/lib/python3.7/site-packages (from transformers) (1.21.6)\r\n",
            "Requirement already satisfied: tqdm>=4.27 in /opt/conda/lib/python3.7/site-packages (from transformers) (4.64.0)\r\n",
            "Requirement already satisfied: filelock in /opt/conda/lib/python3.7/site-packages (from transformers) (3.6.0)\r\n",
            "Requirement already satisfied: tokenizers!=0.11.3,<0.13,>=0.11.1 in /opt/conda/lib/python3.7/site-packages (from transformers) (0.12.1)\r\n",
            "Requirement already satisfied: packaging>=20.0 in /opt/conda/lib/python3.7/site-packages (from transformers) (21.3)\r\n",
            "Requirement already satisfied: importlib-metadata in /opt/conda/lib/python3.7/site-packages (from transformers) (4.11.4)\r\n",
            "Requirement already satisfied: pyyaml>=5.1 in /opt/conda/lib/python3.7/site-packages (from transformers) (6.0)\r\n",
            "Requirement already satisfied: typing-extensions>=3.7.4.3 in /opt/conda/lib/python3.7/site-packages (from huggingface-hub<1.0,>=0.1.0->transformers) (4.2.0)\r\n",
            "Requirement already satisfied: pyparsing!=3.0.5,>=2.0.2 in /opt/conda/lib/python3.7/site-packages (from packaging>=20.0->transformers) (3.0.9)\r\n",
            "Requirement already satisfied: zipp>=0.5 in /opt/conda/lib/python3.7/site-packages (from importlib-metadata->transformers) (3.8.0)\r\n",
            "Requirement already satisfied: urllib3<1.27,>=1.21.1 in /opt/conda/lib/python3.7/site-packages (from requests->transformers) (1.26.9)\r\n",
            "Requirement already satisfied: certifi>=2017.4.17 in /opt/conda/lib/python3.7/site-packages (from requests->transformers) (2022.5.18.1)\r\n",
            "Requirement already satisfied: idna<4,>=2.5 in /opt/conda/lib/python3.7/site-packages (from requests->transformers) (3.3)\r\n",
            "Requirement already satisfied: charset-normalizer~=2.0.0 in /opt/conda/lib/python3.7/site-packages (from requests->transformers) (2.0.12)\r\n",
            "Requirement already satisfied: joblib in /opt/conda/lib/python3.7/site-packages (from sacremoses->transformers) (1.1.0)\r\n",
            "Requirement already satisfied: six in /opt/conda/lib/python3.7/site-packages (from sacremoses->transformers) (1.16.0)\r\n",
            "Requirement already satisfied: click in /opt/conda/lib/python3.7/site-packages (from sacremoses->transformers) (8.0.4)\r\n",
            "\u001b[33mWARNING: Running pip as the 'root' user can result in broken permissions and conflicting behaviour with the system package manager. It is recommended to use a virtual environment instead: https://pip.pypa.io/warnings/venv\u001b[0m\u001b[33m\r\n",
            "\u001b[0m"
          ]
        }
      ],
      "source": [
        "# iremos utilizar a biblioteca dos transformers para ter acesso ao tokenizador do BERT.\n",
        "!pip install transformers"
      ]
    },
    {
      "cell_type": "markdown",
      "id": "3e6fadba",
      "metadata": {
        "id": "3e6fadba",
        "papermill": {
          "duration": 0.007031,
          "end_time": "2022-06-01T12:11:01.194257",
          "exception": false,
          "start_time": "2022-06-01T12:11:01.187226",
          "status": "completed"
        },
        "tags": []
      },
      "source": [
        "## Importação dos pacotes"
      ]
    },
    {
      "cell_type": "code",
      "execution_count": null,
      "id": "ff14b9b2",
      "metadata": {
        "execution": {
          "iopub.execute_input": "2022-06-01T12:11:01.210194Z",
          "iopub.status.busy": "2022-06-01T12:11:01.209333Z",
          "iopub.status.idle": "2022-06-01T12:11:03.037178Z",
          "shell.execute_reply": "2022-06-01T12:11:03.036350Z"
        },
        "id": "ff14b9b2",
        "papermill": {
          "duration": 1.838125,
          "end_time": "2022-06-01T12:11:03.039456",
          "exception": false,
          "start_time": "2022-06-01T12:11:01.201331",
          "status": "completed"
        },
        "tags": []
      },
      "outputs": [],
      "source": [
        "import collections\n",
        "import itertools\n",
        "import functools\n",
        "import math\n",
        "import random\n",
        "\n",
        "import torch\n",
        "import torch.nn as nn\n",
        "import numpy as np\n",
        "from torch.utils.data import DataLoader\n",
        "from tqdm import tqdm_notebook\n"
      ]
    },
    {
      "cell_type": "code",
      "execution_count": null,
      "id": "5a7a53da",
      "metadata": {
        "execution": {
          "iopub.execute_input": "2022-06-01T12:11:03.055646Z",
          "iopub.status.busy": "2022-06-01T12:11:03.055124Z",
          "iopub.status.idle": "2022-06-01T12:11:03.888005Z",
          "shell.execute_reply": "2022-06-01T12:11:03.886703Z"
        },
        "id": "5a7a53da",
        "outputId": "47281b5b-94d4-44cc-bb01-11c651ff21de",
        "papermill": {
          "duration": 0.843267,
          "end_time": "2022-06-01T12:11:03.890358",
          "exception": false,
          "start_time": "2022-06-01T12:11:03.047091",
          "status": "completed"
        },
        "tags": []
      },
      "outputs": [
        {
          "name": "stdout",
          "output_type": "stream",
          "text": [
            "Wed Jun  1 12:11:03 2022       \r\n",
            "+-----------------------------------------------------------------------------+\r\n",
            "| NVIDIA-SMI 470.82.01    Driver Version: 470.82.01    CUDA Version: 11.4     |\r\n",
            "|-------------------------------+----------------------+----------------------+\r\n",
            "| GPU  Name        Persistence-M| Bus-Id        Disp.A | Volatile Uncorr. ECC |\r\n",
            "| Fan  Temp  Perf  Pwr:Usage/Cap|         Memory-Usage | GPU-Util  Compute M. |\r\n",
            "|                               |                      |               MIG M. |\r\n",
            "|===============================+======================+======================|\r\n",
            "|   0  Tesla P100-PCIE...  Off  | 00000000:00:04.0 Off |                    0 |\r\n",
            "| N/A   33C    P0    26W / 250W |      0MiB / 16280MiB |      0%      Default |\r\n",
            "|                               |                      |                  N/A |\r\n",
            "+-------------------------------+----------------------+----------------------+\r\n",
            "                                                                               \r\n",
            "+-----------------------------------------------------------------------------+\r\n",
            "| Processes:                                                                  |\r\n",
            "|  GPU   GI   CI        PID   Type   Process name                  GPU Memory |\r\n",
            "|        ID   ID                                                   Usage      |\r\n",
            "|=============================================================================|\r\n",
            "|  No running processes found                                                 |\r\n",
            "+-----------------------------------------------------------------------------+\r\n"
          ]
        }
      ],
      "source": [
        "# Check which GPU we are using\n",
        "!nvidia-smi"
      ]
    },
    {
      "cell_type": "code",
      "execution_count": null,
      "id": "c2122409",
      "metadata": {
        "execution": {
          "iopub.execute_input": "2022-06-01T12:11:03.906923Z",
          "iopub.status.busy": "2022-06-01T12:11:03.906581Z",
          "iopub.status.idle": "2022-06-01T12:11:03.963884Z",
          "shell.execute_reply": "2022-06-01T12:11:03.962990Z"
        },
        "id": "c2122409",
        "outputId": "0a38a01e-eb39-4404-f384-771beefcd720",
        "papermill": {
          "duration": 0.068409,
          "end_time": "2022-06-01T12:11:03.966412",
          "exception": false,
          "start_time": "2022-06-01T12:11:03.898003",
          "status": "completed"
        },
        "tags": []
      },
      "outputs": [
        {
          "name": "stdout",
          "output_type": "stream",
          "text": [
            "Using cuda:0\n"
          ]
        }
      ],
      "source": [
        "if torch.cuda.is_available(): \n",
        "    dev = \"cuda:0\"\n",
        "else: \n",
        "    dev = \"cpu\"\n",
        "device = torch.device(dev)\n",
        "print('Using {}'.format(device))"
      ]
    },
    {
      "cell_type": "markdown",
      "id": "0c01b636",
      "metadata": {
        "id": "0c01b636",
        "papermill": {
          "duration": 0.007832,
          "end_time": "2022-06-01T12:11:03.982444",
          "exception": false,
          "start_time": "2022-06-01T12:11:03.974612",
          "status": "completed"
        },
        "tags": []
      },
      "source": [
        "## Implementação do MyDataset"
      ]
    },
    {
      "cell_type": "code",
      "execution_count": null,
      "id": "edbab9c1",
      "metadata": {
        "execution": {
          "iopub.execute_input": "2022-06-01T12:11:04.000886Z",
          "iopub.status.busy": "2022-06-01T12:11:04.000063Z",
          "iopub.status.idle": "2022-06-01T12:11:08.749153Z",
          "shell.execute_reply": "2022-06-01T12:11:08.748353Z"
        },
        "id": "edbab9c1",
        "papermill": {
          "duration": 4.760417,
          "end_time": "2022-06-01T12:11:08.751313",
          "exception": false,
          "start_time": "2022-06-01T12:11:03.990896",
          "status": "completed"
        },
        "tags": []
      },
      "outputs": [],
      "source": [
        "from typing import List\n",
        "from transformers import AutoTokenizer\n",
        "from tqdm.auto import tqdm\n",
        "from itertools import chain\n",
        "\n",
        "def tokenize(texts: List[str], tokenizer: AutoTokenizer):\n",
        "    # Recomenda-se usar o tokenizer.batch_encode_plus pois é mais rápido.\n",
        "    if not texts:\n",
        "        return []\n",
        "    return tokenizer.batch_encode_plus(texts, return_tensors=None, add_special_tokens=False).input_ids\n",
        "\n",
        "\n",
        "class MyDataset():\n",
        "    def __init__(self, texts: List[str], tokenizer, max_seq_length: int, batch_size: int = 256):\n",
        "        self.tokenizer = tokenizer\n",
        "        self.max_seq_length = max_seq_length\n",
        "        self.cls_token = tokenize(['[CLS]'], tokenizer)[0]\n",
        "        self.pad_token = tokenize(['[PAD]'], tokenizer)[0]\n",
        "        self.tokens = self._transform_texts(texts, batch_size)\n",
        "\n",
        "    def __len__(self):\n",
        "        # Escreva aqui seu código.\n",
        "        return len(self.tokens)\n",
        "\n",
        "    def __getitem__(self, idx):\n",
        "        input = torch.LongTensor(self.tokens[idx])\n",
        "        target = input.roll(shifts=-1)\n",
        "        target[-1] = self.pad_token[0]\n",
        "        return input, target\n",
        "\n",
        "    def _transform_texts(self, texts, batch_size):\n",
        "        max_padding = self.max_seq_length * self.pad_token\n",
        "        \n",
        "        input_ids = (\n",
        "            tokenize(texts[i * batch_size: (i + 1) * batch_size], self.tokenizer) \n",
        "            for i in tqdm(range((len(texts) // batch_size) + 1))\n",
        "        )\n",
        "\n",
        "        tokens = []\n",
        "        for tkns in input_ids:\n",
        "            for tkn in tkns:\n",
        "                tokens.extend([\n",
        "                    ((self.cls_token if i == 0 else []) + tkn[i:i + self.max_seq_length] + max_padding)[:self.max_seq_length]\n",
        "                    for i in range(max(len(tkn) - self.max_seq_length + 1, 1))\n",
        "                ])\n",
        "\n",
        "        return tokens"
      ]
    },
    {
      "cell_type": "markdown",
      "id": "70d70714",
      "metadata": {
        "id": "70d70714",
        "papermill": {
          "duration": 0.007079,
          "end_time": "2022-06-01T12:11:08.765889",
          "exception": false,
          "start_time": "2022-06-01T12:11:08.758810",
          "status": "completed"
        },
        "tags": []
      },
      "source": [
        "### Testando se a implementação do MyDataset está correta"
      ]
    },
    {
      "cell_type": "code",
      "execution_count": null,
      "id": "6a7a94be",
      "metadata": {
        "execution": {
          "iopub.execute_input": "2022-06-01T12:11:08.782102Z",
          "iopub.status.busy": "2022-06-01T12:11:08.781550Z",
          "iopub.status.idle": "2022-06-01T12:11:10.148757Z",
          "shell.execute_reply": "2022-06-01T12:11:10.147710Z"
        },
        "id": "6a7a94be",
        "outputId": "d7bbb9bd-d3e8-4fa0-914d-40468817806c",
        "papermill": {
          "duration": 1.378614,
          "end_time": "2022-06-01T12:11:10.151805",
          "exception": false,
          "start_time": "2022-06-01T12:11:08.773191",
          "status": "completed"
        },
        "tags": [],
        "colab": {
          "referenced_widgets": [
            "13ca4ef936de4cf29c315f88bbc45bbc",
            "aca08cd63342402fa08dbb905db1fca5",
            "16f1c8ea66744d009fde4adf1a31adfd",
            "b4abab6b68d24a05aa742340c11fd9fd",
            "9de9840035d246f2a62e1e3601a41798",
            "cf354f279539479f9a5b7f7a7feeb3b4"
          ]
        }
      },
      "outputs": [
        {
          "data": {
            "application/vnd.jupyter.widget-view+json": {
              "model_id": "13ca4ef936de4cf29c315f88bbc45bbc",
              "version_major": 2,
              "version_minor": 0
            },
            "text/plain": [
              "Downloading:   0%|          | 0.00/205k [00:00<?, ?B/s]"
            ]
          },
          "metadata": {},
          "output_type": "display_data"
        },
        {
          "data": {
            "application/vnd.jupyter.widget-view+json": {
              "model_id": "aca08cd63342402fa08dbb905db1fca5",
              "version_major": 2,
              "version_minor": 0
            },
            "text/plain": [
              "Downloading:   0%|          | 0.00/2.00 [00:00<?, ?B/s]"
            ]
          },
          "metadata": {},
          "output_type": "display_data"
        },
        {
          "data": {
            "application/vnd.jupyter.widget-view+json": {
              "model_id": "16f1c8ea66744d009fde4adf1a31adfd",
              "version_major": 2,
              "version_minor": 0
            },
            "text/plain": [
              "Downloading:   0%|          | 0.00/112 [00:00<?, ?B/s]"
            ]
          },
          "metadata": {},
          "output_type": "display_data"
        },
        {
          "data": {
            "application/vnd.jupyter.widget-view+json": {
              "model_id": "b4abab6b68d24a05aa742340c11fd9fd",
              "version_major": 2,
              "version_minor": 0
            },
            "text/plain": [
              "Downloading:   0%|          | 0.00/43.0 [00:00<?, ?B/s]"
            ]
          },
          "metadata": {},
          "output_type": "display_data"
        },
        {
          "data": {
            "application/vnd.jupyter.widget-view+json": {
              "model_id": "9de9840035d246f2a62e1e3601a41798",
              "version_major": 2,
              "version_minor": 0
            },
            "text/plain": [
              "Downloading:   0%|          | 0.00/647 [00:00<?, ?B/s]"
            ]
          },
          "metadata": {},
          "output_type": "display_data"
        },
        {
          "data": {
            "application/vnd.jupyter.widget-view+json": {
              "model_id": "cf354f279539479f9a5b7f7a7feeb3b4",
              "version_major": 2,
              "version_minor": 0
            },
            "text/plain": [
              "  0%|          | 0/1 [00:00<?, ?it/s]"
            ]
          },
          "metadata": {},
          "output_type": "display_data"
        },
        {
          "name": "stdout",
          "output_type": "stream",
          "text": [
            "Passou no assert de tamanho do dataset.\n",
            "Passou no assert de dataset.\n"
          ]
        }
      ],
      "source": [
        "from transformers import BertTokenizer\n",
        "\n",
        "tokenizer = BertTokenizer.from_pretrained(\"neuralmind/bert-base-portuguese-cased\")\n",
        "\n",
        "dummy_texts = ['Eu gosto de correr', 'Ela gosta muito de comer pizza']\n",
        "\n",
        "dummy_dataset = MyDataset(texts=dummy_texts, tokenizer=tokenizer, max_seq_length=9)\n",
        "dummy_loader = DataLoader(dummy_dataset, batch_size=6, shuffle=False)\n",
        "assert len(dummy_dataset) == 2\n",
        "print('Passou no assert de tamanho do dataset.')\n",
        "\n",
        "first_batch_input, first_batch_target = next(iter(dummy_loader))\n",
        "\n",
        "correct_first_batch_input = torch.LongTensor([\n",
        "    [  101,  3396, 10303,   125, 13239,     0,     0,     0,     0],\n",
        "    [  101,  1660,  5971,   785,   125,  1847, 13779, 15616,     0]\n",
        "])\n",
        "\n",
        "correct_first_batch_target = torch.LongTensor([\n",
        "    [ 3396, 10303,   125, 13239,     0,     0,     0,     0,     0],\n",
        "    [ 1660,  5971,   785,   125,  1847, 13779, 15616,     0,     0]\n",
        "])\n",
        "\n",
        "assert torch.equal(first_batch_input, correct_first_batch_input)\n",
        "assert torch.equal(first_batch_target, correct_first_batch_target)\n",
        "\n",
        "print('Passou no assert de dataset.')"
      ]
    },
    {
      "cell_type": "markdown",
      "id": "77967cc1",
      "metadata": {
        "id": "77967cc1",
        "papermill": {
          "duration": 0.008713,
          "end_time": "2022-06-01T12:11:10.170449",
          "exception": false,
          "start_time": "2022-06-01T12:11:10.161736",
          "status": "completed"
        },
        "tags": []
      },
      "source": [
        "### Carregamento do dataset "
      ]
    },
    {
      "cell_type": "markdown",
      "id": "9926542b",
      "metadata": {
        "id": "9926542b",
        "papermill": {
          "duration": 0.008176,
          "end_time": "2022-06-01T12:11:10.186840",
          "exception": false,
          "start_time": "2022-06-01T12:11:10.178664",
          "status": "completed"
        },
        "tags": []
      },
      "source": [
        "Iremos usar uma pequena amostra do dataset [BrWaC](https://www.inf.ufrgs.br/pln/wiki/index.php?title=BrWaC) para treinar e avaliar nosso modelo de linguagem."
      ]
    },
    {
      "cell_type": "code",
      "execution_count": null,
      "id": "1c83abf6",
      "metadata": {
        "execution": {
          "iopub.execute_input": "2022-06-01T12:11:10.205204Z",
          "iopub.status.busy": "2022-06-01T12:11:10.204835Z",
          "iopub.status.idle": "2022-06-01T12:11:15.517370Z",
          "shell.execute_reply": "2022-06-01T12:11:15.516433Z"
        },
        "id": "1c83abf6",
        "outputId": "54e71316-3737-4bee-d19a-2cc916bacfa3",
        "papermill": {
          "duration": 5.32425,
          "end_time": "2022-06-01T12:11:15.519402",
          "exception": false,
          "start_time": "2022-06-01T12:11:10.195152",
          "status": "completed"
        },
        "tags": []
      },
      "outputs": [
        {
          "name": "stdout",
          "output_type": "stream",
          "text": [
            "--2022-06-01 12:11:10--  https://storage.googleapis.com/unicamp-dl/ia025a_2022s1/aula9/sample-1gb.txt\r\n",
            "Resolving storage.googleapis.com (storage.googleapis.com)... 74.125.141.128, 74.125.134.128, 172.217.193.128, ...\r\n",
            "Connecting to storage.googleapis.com (storage.googleapis.com)|74.125.141.128|:443... connected.\r\n",
            "HTTP request sent, awaiting response... 200 OK\r\n",
            "Length: 1230909256 (1.1G) [text/plain]\r\n",
            "Saving to: ‘sample-1gb.txt’\r\n",
            "\r\n",
            "sample-1gb.txt      100%[===================>]   1.15G   262MB/s    in 4.4s    \r\n",
            "\r\n",
            "2022-06-01 12:11:15 (264 MB/s) - ‘sample-1gb.txt’ saved [1230909256/1230909256]\r\n",
            "\r\n"
          ]
        }
      ],
      "source": [
        "!wget -nc https://storage.googleapis.com/unicamp-dl/ia025a_2022s1/aula9/sample-1gb.txt"
      ]
    },
    {
      "cell_type": "code",
      "execution_count": null,
      "id": "d19f7a27",
      "metadata": {
        "execution": {
          "iopub.execute_input": "2022-06-01T12:11:15.542315Z",
          "iopub.status.busy": "2022-06-01T12:11:15.541776Z",
          "iopub.status.idle": "2022-06-01T12:26:16.606003Z",
          "shell.execute_reply": "2022-06-01T12:26:16.605196Z"
        },
        "id": "d19f7a27",
        "outputId": "13cd3045-8b5a-46b5-d8b8-ef97dab18d20",
        "papermill": {
          "duration": 901.077962,
          "end_time": "2022-06-01T12:26:16.608449",
          "exception": false,
          "start_time": "2022-06-01T12:11:15.530487",
          "status": "completed"
        },
        "tags": [],
        "colab": {
          "referenced_widgets": [
            "6c6ef83cfd874e699052c5f673e97832",
            "d511396d1dd7417d99a7ae891bc46537",
            "b7734b248a04484499672629c195ac8e"
          ]
        }
      },
      "outputs": [
        {
          "name": "stdout",
          "output_type": "stream",
          "text": [
            "Read 250000 lines.\n",
            "Truncating to 35200 lines.\n"
          ]
        },
        {
          "data": {
            "application/vnd.jupyter.widget-view+json": {
              "model_id": "6c6ef83cfd874e699052c5f673e97832",
              "version_major": 2,
              "version_minor": 0
            },
            "text/plain": [
              "  0%|          | 0/137 [00:00<?, ?it/s]"
            ]
          },
          "metadata": {},
          "output_type": "display_data"
        },
        {
          "data": {
            "application/vnd.jupyter.widget-view+json": {
              "model_id": "d511396d1dd7417d99a7ae891bc46537",
              "version_major": 2,
              "version_minor": 0
            },
            "text/plain": [
              "  0%|          | 0/1 [00:00<?, ?it/s]"
            ]
          },
          "metadata": {},
          "output_type": "display_data"
        },
        {
          "data": {
            "application/vnd.jupyter.widget-view+json": {
              "model_id": "b7734b248a04484499672629c195ac8e",
              "version_major": 2,
              "version_minor": 0
            },
            "text/plain": [
              "  0%|          | 0/1 [00:00<?, ?it/s]"
            ]
          },
          "metadata": {},
          "output_type": "display_data"
        }
      ],
      "source": [
        "# Load datasets\n",
        "max_seq_length = 9\n",
        "\n",
        "train_examples = 500\n",
        "train_examples = 35000\n",
        "valid_examples = 100\n",
        "test_examples = 100\n",
        "\n",
        "texts = open('sample-1gb.txt').readlines()\n",
        "\n",
        "print(f'Read {len(texts)} lines.')\n",
        "\n",
        "max_lines = train_examples + valid_examples + test_examples\n",
        "print(f'Truncating to {max_lines} lines.')\n",
        "texts = texts[:max_lines]  \n",
        "\n",
        "training_texts = texts[:-(valid_examples + test_examples)]\n",
        "valid_texts = texts[-(valid_examples + test_examples):-test_examples]\n",
        "test_texts = texts[-test_examples:]\n",
        "\n",
        "training_dataset = MyDataset(texts=training_texts, tokenizer=tokenizer, max_seq_length=max_seq_length)\n",
        "valid_dataset = MyDataset(texts=valid_texts, tokenizer=tokenizer, max_seq_length=max_seq_length)\n",
        "test_dataset = MyDataset(texts=test_texts, tokenizer=tokenizer, max_seq_length=max_seq_length)"
      ]
    },
    {
      "cell_type": "code",
      "execution_count": null,
      "id": "0da16c90",
      "metadata": {
        "execution": {
          "iopub.execute_input": "2022-06-01T12:26:16.647666Z",
          "iopub.status.busy": "2022-06-01T12:26:16.647202Z",
          "iopub.status.idle": "2022-06-01T12:26:16.652209Z",
          "shell.execute_reply": "2022-06-01T12:26:16.651552Z"
        },
        "id": "0da16c90",
        "outputId": "d143bf3e-c713-4c21-bbd0-a46d4d357f53",
        "papermill": {
          "duration": 0.029431,
          "end_time": "2022-06-01T12:26:16.657441",
          "exception": false,
          "start_time": "2022-06-01T12:26:16.628010",
          "status": "completed"
        },
        "tags": []
      },
      "outputs": [
        {
          "name": "stdout",
          "output_type": "stream",
          "text": [
            "training examples: 38847176\n",
            "valid examples: 100206\n",
            "test examples: 132514\n"
          ]
        }
      ],
      "source": [
        "print(f'training examples: {len(training_dataset)}')\n",
        "print(f'valid examples: {len(valid_dataset)}')\n",
        "print(f'test examples: {len(test_dataset)}')"
      ]
    },
    {
      "cell_type": "markdown",
      "source": [
        "## Modelo de Linguagem"
      ],
      "metadata": {
        "id": "uHjqU_5kiRnG"
      },
      "id": "uHjqU_5kiRnG"
    },
    {
      "cell_type": "code",
      "execution_count": null,
      "id": "c59dbd55",
      "metadata": {
        "execution": {
          "iopub.execute_input": "2022-06-01T12:26:16.693651Z",
          "iopub.status.busy": "2022-06-01T12:26:16.693176Z",
          "iopub.status.idle": "2022-06-01T12:26:16.735443Z",
          "shell.execute_reply": "2022-06-01T12:26:16.734562Z"
        },
        "id": "c59dbd55",
        "papermill": {
          "duration": 0.06364,
          "end_time": "2022-06-01T12:26:16.738259",
          "exception": false,
          "start_time": "2022-06-01T12:26:16.674619",
          "status": "completed"
        },
        "tags": []
      },
      "outputs": [],
      "source": [
        "class MultiHeadAttentionBlock(torch.nn.Module):\n",
        "    def __init__(\n",
        "        self,\n",
        "        num_heads: int,\n",
        "        max_seq_length: int,\n",
        "        dim: int,\n",
        "        pad_token_id: int,\n",
        "        p: float = 0.1,\n",
        "    ):\n",
        "        \"\"\"\n",
        "        Implements the Multihead-attention\n",
        "\n",
        "        Args:\n",
        "            max_seq_length (int): size of the sequence to consider as context for prediction.\n",
        "            dim (int): Dimension of the embedding layer for each word in the context.\n",
        "            pad_token_id (int): id of the pad token that will be ignored in the attention.\n",
        "            num_heads (int): number of attention heads\n",
        "            p (float): dropout rate\n",
        "        \"\"\"\n",
        "        super(MultiHeadAttentionBlock, self).__init__()\n",
        "\n",
        "        self.context_size = max_seq_length\n",
        "        self.embedding_dim = dim\n",
        "        self.pad_token_id = pad_token_id\n",
        "        self.num_heads = num_heads\n",
        "        self.p = p\n",
        "        \n",
        "        self.mask = torch.ones(self.context_size, self.context_size)\n",
        "        self.mask = torch.masked_fill(self.mask, torch.tril(self.mask) == 0, self.pad_token_id)\n",
        "\n",
        "        self.dropout = torch.nn.Dropout(p=p)\n",
        "\n",
        "        self.Wq = torch.nn.Linear(\n",
        "            in_features=self.embedding_dim, out_features=self.embedding_dim, bias=False\n",
        "        )\n",
        "        self.Wk = torch.nn.Linear(\n",
        "            in_features=self.embedding_dim, out_features=self.embedding_dim, bias=False\n",
        "        )\n",
        "        self.Wv = torch.nn.Linear(\n",
        "            in_features=self.embedding_dim, out_features=self.embedding_dim, bias=False\n",
        "        )\n",
        "\n",
        "        self.softmax = torch.nn.Softmax(dim=-1)\n",
        "\n",
        "    def forward(self, inputs: torch.LongTensor):\n",
        "        \"\"\"\n",
        "        Args:\n",
        "            inputs is a LongTensor of shape (batch_size, max_seq_length, dim)\n",
        "\n",
        "        Returns:\n",
        "            attention mask (batch_size, max_seq_length, dim)\n",
        "        \"\"\"\n",
        "        attn_mask = self.mask.to(inputs.device)\n",
        "        X = self.dropout(inputs)\n",
        "\n",
        "        Q = self.Wq(X).reshape(\n",
        "            -1, self.context_size, self.num_heads, self.embedding_dim // self.num_heads\n",
        "        )\n",
        "        K = self.Wk(X).reshape(\n",
        "            -1, self.context_size, self.num_heads, self.embedding_dim // self.num_heads\n",
        "        )\n",
        "        V = self.Wv(X).reshape(\n",
        "            -1, self.context_size, self.num_heads, self.embedding_dim // self.num_heads\n",
        "        )\n",
        "        Q, K, V = Q.transpose(1, 2), K.transpose(1, 2), V.transpose(1, 2)\n",
        "\n",
        "        scores = Q @ torch.transpose(K, 2, 3) / math.sqrt(self.embedding_dim)\n",
        "        scores = scores.masked_fill(attn_mask == self.pad_token_id, -1e9)\n",
        "        probs = self.softmax(scores)\n",
        "\n",
        "        E = probs @ V\n",
        "        E = E.transpose(1, 2).contiguous().reshape(-1, self.context_size, self.embedding_dim)\n",
        "        return E\n",
        "\n",
        "\n",
        "class LanguageModel(torch.nn.Module):\n",
        "    def __init__(\n",
        "        self,\n",
        "        vocab_size: int,\n",
        "        max_seq_length: int,\n",
        "        dim: int,\n",
        "        n_layers: int,\n",
        "        pad_token_id: int,\n",
        "        hidden_size: int = 768,\n",
        "        num_heads: int = 4,\n",
        "        p: float = 0.1,\n",
        "    ):\n",
        "        \"\"\"\n",
        "        Implements the Self-attention, decoder-only.\"\n",
        "\n",
        "        Args:\n",
        "            vocab_size (int): size of the input vocabulary.\n",
        "            max_seq_length (int): size of the sequence to consider as context for prediction.\n",
        "            dim (int): Dimension of the embedding layer for each word in the context.\n",
        "            n_layers (int): number of self-attention layers.\n",
        "            pad_token_id (int): id of the pad token that will be ignored in the attention.\n",
        "            hidden_size (int): size of the mlp block\n",
        "            num_heads (int): number of attention heads\n",
        "            p (float): dropout rate\n",
        "        \"\"\"\n",
        "        super(LanguageModel, self).__init__()\n",
        "\n",
        "        self.vocab_size = vocab_size\n",
        "        self.context_size = max_seq_length\n",
        "        self.embedding_dim = dim\n",
        "        self.pad_token_id = pad_token_id\n",
        "\n",
        "        self._positions = torch.arange(self.context_size, dtype=torch.long).unsqueeze(0)\n",
        "\n",
        "        self.C = torch.nn.Embedding(\n",
        "            num_embeddings=self.vocab_size, embedding_dim=self.embedding_dim\n",
        "        )\n",
        "        self.P = torch.nn.Embedding(\n",
        "            num_embeddings=self.context_size, embedding_dim=self.embedding_dim\n",
        "        )\n",
        "\n",
        "        self.attention = torch.nn.Sequential(\n",
        "            *[\n",
        "                MultiHeadAttentionBlock(\n",
        "                    num_heads, self.context_size, self.embedding_dim, self.pad_token_id\n",
        "                )\n",
        "                for _ in range(n_layers)\n",
        "            ]\n",
        "        )\n",
        "        self.Wo = torch.nn.Linear(\n",
        "            in_features=self.embedding_dim, out_features=self.embedding_dim, bias=False\n",
        "        )\n",
        "\n",
        "        self.feed_forward = torch.nn.Sequential(\n",
        "            torch.nn.LayerNorm(self.embedding_dim),\n",
        "            torch.nn.Linear(in_features=self.embedding_dim, out_features=hidden_size),\n",
        "            torch.nn.Dropout(p=p),\n",
        "            torch.nn.ReLU(),\n",
        "            torch.nn.LayerNorm(hidden_size),\n",
        "            torch.nn.Linear(in_features=hidden_size, out_features=hidden_size),\n",
        "            torch.nn.Dropout(p=p),\n",
        "            torch.nn.ReLU(),\n",
        "        )\n",
        "        self.output = torch.nn.Linear(\n",
        "            in_features=hidden_size, out_features=self.vocab_size, bias=False\n",
        "        )\n",
        "\n",
        "    def forward(self, inputs: torch.LongTensor):\n",
        "        \"\"\"\n",
        "        Args:\n",
        "            inputs is a LongTensor of shape (batch_size, max_seq_length)\n",
        "\n",
        "        Returns:\n",
        "            logits of shape (batch_size, max_seq_length, vocab_size)\n",
        "        \"\"\"\n",
        "        positions = self._positions.repeat(inputs.shape[0], 1).to(inputs.device)\n",
        "\n",
        "        X = self.C(inputs) + self.P(positions)\n",
        "        E = self.attention(X)\n",
        "        E = self.Wo(E)\n",
        "\n",
        "        out = self.feed_forward(torch.squeeze(E + X, dim=1))\n",
        "        logits = self.output(out)\n",
        "\n",
        "        return logits"
      ]
    },
    {
      "cell_type": "markdown",
      "id": "3f1956d6",
      "metadata": {
        "id": "3f1956d6",
        "papermill": {
          "duration": 0.017119,
          "end_time": "2022-06-01T12:26:16.773314",
          "exception": false,
          "start_time": "2022-06-01T12:26:16.756195",
          "status": "completed"
        },
        "tags": []
      },
      "source": [
        "### Teste o modelo com um exemplo"
      ]
    },
    {
      "cell_type": "code",
      "execution_count": null,
      "id": "caa1d69a",
      "metadata": {
        "execution": {
          "iopub.execute_input": "2022-06-01T12:26:16.810006Z",
          "iopub.status.busy": "2022-06-01T12:26:16.809550Z",
          "iopub.status.idle": "2022-06-01T12:26:21.764677Z",
          "shell.execute_reply": "2022-06-01T12:26:21.763865Z"
        },
        "id": "caa1d69a",
        "outputId": "2c8bfff8-34a1-4964-f838-2b17117ef8dc",
        "papermill": {
          "duration": 4.976945,
          "end_time": "2022-06-01T12:26:21.767476",
          "exception": false,
          "start_time": "2022-06-01T12:26:16.790531",
          "status": "completed"
        },
        "tags": []
      },
      "outputs": [
        {
          "name": "stdout",
          "output_type": "stream",
          "text": [
            "sample_input.shape: torch.Size([2, 9])\n",
            "sample_output.shape: torch.Size([2, 9, 29794])\n"
          ]
        }
      ],
      "source": [
        "model = LanguageModel(\n",
        "    vocab_size=tokenizer.vocab_size,\n",
        "    max_seq_length=max_seq_length,\n",
        "    dim=64,\n",
        "    n_layers=2,\n",
        "    pad_token_id=tokenizer.pad_token_id,\n",
        ").to(device)\n",
        "\n",
        "sample_input, _ = next(iter(DataLoader(training_dataset)))\n",
        "sample_input = torch.stack([sample_input, sample_input]).squeeze(1)\n",
        "sample_input = sample_input.to(device)\n",
        "sample_output = model(sample_input)\n",
        "print(f'sample_input.shape: {sample_input.shape}')\n",
        "print(f'sample_output.shape: {sample_output.shape}')"
      ]
    },
    {
      "cell_type": "code",
      "execution_count": null,
      "id": "e207d249",
      "metadata": {
        "execution": {
          "iopub.execute_input": "2022-06-01T12:26:21.792198Z",
          "iopub.status.busy": "2022-06-01T12:26:21.791895Z",
          "iopub.status.idle": "2022-06-01T12:26:21.798969Z",
          "shell.execute_reply": "2022-06-01T12:26:21.798209Z"
        },
        "papermill": {
          "duration": 0.021095,
          "end_time": "2022-06-01T12:26:21.800701",
          "exception": false,
          "start_time": "2022-06-01T12:26:21.779606",
          "status": "completed"
        },
        "tags": [],
        "id": "e207d249",
        "outputId": "6cf34b89-4103-4c31-f971-a5195153826f"
      },
      "outputs": [
        {
          "data": {
            "text/plain": [
              "LanguageModel(\n",
              "  (C): Embedding(29794, 64)\n",
              "  (P): Embedding(9, 64)\n",
              "  (attention): Sequential(\n",
              "    (0): MultiHeadAttentionBlock(\n",
              "      (dropout): Dropout(p=0.1, inplace=False)\n",
              "      (Wq): Linear(in_features=64, out_features=64, bias=False)\n",
              "      (Wk): Linear(in_features=64, out_features=64, bias=False)\n",
              "      (Wv): Linear(in_features=64, out_features=64, bias=False)\n",
              "      (softmax): Softmax(dim=-1)\n",
              "    )\n",
              "    (1): MultiHeadAttentionBlock(\n",
              "      (dropout): Dropout(p=0.1, inplace=False)\n",
              "      (Wq): Linear(in_features=64, out_features=64, bias=False)\n",
              "      (Wk): Linear(in_features=64, out_features=64, bias=False)\n",
              "      (Wv): Linear(in_features=64, out_features=64, bias=False)\n",
              "      (softmax): Softmax(dim=-1)\n",
              "    )\n",
              "  )\n",
              "  (Wo): Linear(in_features=64, out_features=64, bias=False)\n",
              "  (feed_forward): Sequential(\n",
              "    (0): LayerNorm((64,), eps=1e-05, elementwise_affine=True)\n",
              "    (1): Linear(in_features=64, out_features=768, bias=True)\n",
              "    (2): Dropout(p=0.1, inplace=False)\n",
              "    (3): ReLU()\n",
              "    (4): LayerNorm((768,), eps=1e-05, elementwise_affine=True)\n",
              "    (5): Linear(in_features=768, out_features=768, bias=True)\n",
              "    (6): Dropout(p=0.1, inplace=False)\n",
              "    (7): ReLU()\n",
              "  )\n",
              "  (output): Linear(in_features=768, out_features=29794, bias=False)\n",
              ")"
            ]
          },
          "execution_count": 13,
          "metadata": {},
          "output_type": "execute_result"
        }
      ],
      "source": [
        "model"
      ]
    },
    {
      "cell_type": "code",
      "execution_count": null,
      "id": "fdcb6f8f",
      "metadata": {
        "execution": {
          "iopub.execute_input": "2022-06-01T12:26:21.825042Z",
          "iopub.status.busy": "2022-06-01T12:26:21.824234Z",
          "iopub.status.idle": "2022-06-01T12:26:21.829318Z",
          "shell.execute_reply": "2022-06-01T12:26:21.828615Z"
        },
        "id": "fdcb6f8f",
        "outputId": "e929a02d-b9e6-4a41-d065-a3d24f30942f",
        "papermill": {
          "duration": 0.020053,
          "end_time": "2022-06-01T12:26:21.831914",
          "exception": false,
          "start_time": "2022-06-01T12:26:21.811861",
          "status": "completed"
        },
        "tags": []
      },
      "outputs": [
        {
          "name": "stdout",
          "output_type": "stream",
          "text": [
            "Number of model parameters: 25460032\n"
          ]
        }
      ],
      "source": [
        "num_params = sum(p.numel() for p in model.parameters() if p.requires_grad)\n",
        "print(f'Number of model parameters: {num_params}')"
      ]
    },
    {
      "cell_type": "markdown",
      "id": "b444bb8d",
      "metadata": {
        "id": "b444bb8d",
        "papermill": {
          "duration": 0.010685,
          "end_time": "2022-06-01T12:26:21.854209",
          "exception": false,
          "start_time": "2022-06-01T12:26:21.843524",
          "status": "completed"
        },
        "tags": []
      },
      "source": [
        "## Assert da Perplexidade\n"
      ]
    },
    {
      "cell_type": "code",
      "execution_count": null,
      "id": "ca3153a8",
      "metadata": {
        "execution": {
          "iopub.execute_input": "2022-06-01T12:26:21.877530Z",
          "iopub.status.busy": "2022-06-01T12:26:21.877224Z",
          "iopub.status.idle": "2022-06-01T12:26:21.976212Z",
          "shell.execute_reply": "2022-06-01T12:26:21.975180Z"
        },
        "id": "ca3153a8",
        "outputId": "5c3bbb8c-16a2-457e-d8ad-c2e76294896a",
        "papermill": {
          "duration": 0.112683,
          "end_time": "2022-06-01T12:26:21.978074",
          "exception": false,
          "start_time": "2022-06-01T12:26:21.865391",
          "status": "completed"
        },
        "tags": []
      },
      "outputs": [
        {
          "name": "stdout",
          "output_type": "stream",
          "text": [
            "my perplexity:              31231\n",
            "correct initial perplexity: 29794\n",
            "Passou o no assert da perplexidade\n"
          ]
        }
      ],
      "source": [
        "random.seed(123)\n",
        "np.random.seed(123)\n",
        "torch.manual_seed(123)\n",
        "\n",
        "\n",
        "def perplexity(logits, target, ignore_token_id: int):\n",
        "    \"\"\"\n",
        "    Computes the perplexity.\n",
        "\n",
        "    Args:\n",
        "        logits: a FloatTensor of shape (batch_size, seq_length, vocab_size)\n",
        "        target: a LongTensor of shape (batch_size, seq_length)\n",
        "\n",
        "    Returns:\n",
        "        A float corresponding to the perplexity\n",
        "    \"\"\"\n",
        "    logits = logits.reshape(-1, logits.shape[-1])\n",
        "    target = target.reshape(-1)\n",
        "    loss = nn.functional.cross_entropy(logits, target, reduction='mean', ignore_index=ignore_token_id)\n",
        "    return torch.exp(loss)\n",
        "\n",
        "\n",
        "n_examples = 1000\n",
        "\n",
        "train_input_ids, train_target_ids = next(iter(DataLoader(training_dataset, batch_size=n_examples)))\n",
        "train_input_ids = train_input_ids.to(device)\n",
        "train_target_ids = train_target_ids.to(device)\n",
        "\n",
        "logits = model(train_input_ids)\n",
        "\n",
        "my_perplexity = perplexity(logits=logits, target=train_target_ids, ignore_token_id=tokenizer.pad_token_id)\n",
        "\n",
        "print(f'my perplexity:              {int(my_perplexity)}')\n",
        "print(f'correct initial perplexity: {tokenizer.vocab_size}')\n",
        "\n",
        "assert math.isclose(my_perplexity, tokenizer.vocab_size, abs_tol=7000)\n",
        "print('Passou o no assert da perplexidade')"
      ]
    },
    {
      "cell_type": "markdown",
      "id": "768ee498",
      "metadata": {
        "id": "768ee498",
        "papermill": {
          "duration": 0.010992,
          "end_time": "2022-06-01T12:26:21.999960",
          "exception": false,
          "start_time": "2022-06-01T12:26:21.988968",
          "status": "completed"
        },
        "tags": []
      },
      "source": [
        "## Laço de Treinamento e Validação"
      ]
    },
    {
      "cell_type": "code",
      "execution_count": null,
      "id": "48c7cc1e",
      "metadata": {
        "execution": {
          "iopub.execute_input": "2022-06-01T12:26:22.023083Z",
          "iopub.status.busy": "2022-06-01T12:26:22.022801Z",
          "iopub.status.idle": "2022-06-01T12:26:22.968806Z",
          "shell.execute_reply": "2022-06-01T12:26:22.967852Z"
        },
        "papermill": {
          "duration": 0.960082,
          "end_time": "2022-06-01T12:26:22.970897",
          "exception": false,
          "start_time": "2022-06-01T12:26:22.010815",
          "status": "completed"
        },
        "tags": [],
        "id": "48c7cc1e"
      },
      "outputs": [],
      "source": [
        "import wandb\n",
        "from copy import deepcopy"
      ]
    },
    {
      "cell_type": "code",
      "execution_count": null,
      "id": "f9b2d247",
      "metadata": {
        "execution": {
          "iopub.execute_input": "2022-06-01T12:26:23.684174Z",
          "iopub.status.busy": "2022-06-01T12:26:23.683419Z",
          "iopub.status.idle": "2022-06-01T12:26:29.741263Z",
          "shell.execute_reply": "2022-06-01T12:26:29.740549Z"
        },
        "papermill": {
          "duration": 6.078174,
          "end_time": "2022-06-01T12:26:29.749288",
          "exception": false,
          "start_time": "2022-06-01T12:26:23.671114",
          "status": "completed"
        },
        "tags": [],
        "id": "f9b2d247",
        "outputId": "d7ddc827-b261-471c-d4bc-675276d07850"
      },
      "outputs": [
        {
          "name": "stderr",
          "output_type": "stream",
          "text": [
            "\u001b[34m\u001b[1mwandb\u001b[0m: Currently logged in as: \u001b[33mflych3r\u001b[0m. Use \u001b[1m`wandb login --relogin`\u001b[0m to force relogin\n"
          ]
        },
        {
          "data": {
            "text/html": [
              "wandb version 0.12.17 is available!  To upgrade, please run:\n",
              " $ pip install wandb --upgrade"
            ],
            "text/plain": [
              "<IPython.core.display.HTML object>"
            ]
          },
          "metadata": {},
          "output_type": "display_data"
        },
        {
          "data": {
            "text/html": [
              "Tracking run with wandb version 0.12.16"
            ],
            "text/plain": [
              "<IPython.core.display.HTML object>"
            ]
          },
          "metadata": {},
          "output_type": "display_data"
        },
        {
          "data": {
            "text/html": [
              "Run data is saved locally in <code>/kaggle/working/wandb/run-20220601_122623-18281p8n</code>"
            ],
            "text/plain": [
              "<IPython.core.display.HTML object>"
            ]
          },
          "metadata": {},
          "output_type": "display_data"
        },
        {
          "data": {
            "text/html": [
              "Syncing run <strong><a href=\"https://wandb.ai/flych3r/language-models/runs/18281p8n\" target=\"_blank\">apricot-puddle-28</a></strong> to <a href=\"https://wandb.ai/flych3r/language-models\" target=\"_blank\">Weights & Biases</a> (<a href=\"https://wandb.me/run\" target=\"_blank\">docs</a>)<br/>"
            ],
            "text/plain": [
              "<IPython.core.display.HTML object>"
            ]
          },
          "metadata": {},
          "output_type": "display_data"
        }
      ],
      "source": [
        "wandb.init(project=\"language-models\", anonymous=\"allow\")\n",
        "wandb.run.name = f'multiheadattention-{wandb.run.name}'"
      ]
    },
    {
      "cell_type": "code",
      "execution_count": null,
      "id": "0bf10521",
      "metadata": {
        "execution": {
          "iopub.execute_input": "2022-06-01T12:26:29.780817Z",
          "iopub.status.busy": "2022-06-01T12:26:29.780461Z",
          "iopub.status.idle": "2022-06-01T18:19:21.849782Z",
          "shell.execute_reply": "2022-06-01T18:19:21.848685Z"
        },
        "id": "0bf10521",
        "outputId": "00ef53b0-8f75-4a9d-daad-c364c1982e07",
        "papermill": {
          "duration": 21172.085364,
          "end_time": "2022-06-01T18:19:21.852415",
          "exception": false,
          "start_time": "2022-06-01T12:26:29.767051",
          "status": "completed"
        },
        "tags": [],
        "colab": {
          "referenced_widgets": [
            "790b4bcbc26d4dd2a3c9fad41456c68f"
          ]
        }
      },
      "outputs": [
        {
          "data": {
            "application/vnd.jupyter.widget-view+json": {
              "model_id": "790b4bcbc26d4dd2a3c9fad41456c68f",
              "version_major": 2,
              "version_minor": 0
            },
            "text/plain": [
              "  0%|          | 0/100000000 [00:00<?, ?it/s]"
            ]
          },
          "metadata": {},
          "output_type": "display_data"
        },
        {
          "name": "stdout",
          "output_type": "stream",
          "text": [
            "0 steps; 0 examples so far; train ppl: 30916.95, valid ppl: 27992.30\n",
            "1000 steps; 2048000 examples so far; train ppl: 716.09, valid ppl: 427.99\n",
            "2000 steps; 4096000 examples so far; train ppl: 354.07, valid ppl: 312.48\n",
            "3000 steps; 6144000 examples so far; train ppl: 289.84, valid ppl: 274.32\n",
            "4000 steps; 8192000 examples so far; train ppl: 262.38, valid ppl: 255.33\n",
            "5000 steps; 10240000 examples so far; train ppl: 245.62, valid ppl: 242.39\n",
            "6000 steps; 12288000 examples so far; train ppl: 234.53, valid ppl: 232.99\n",
            "7000 steps; 14336000 examples so far; train ppl: 225.88, valid ppl: 226.59\n",
            "8000 steps; 16384000 examples so far; train ppl: 219.27, valid ppl: 220.71\n",
            "9000 steps; 18432000 examples so far; train ppl: 213.40, valid ppl: 216.54\n",
            "10000 steps; 20480000 examples so far; train ppl: 208.78, valid ppl: 212.24\n",
            "11000 steps; 22528000 examples so far; train ppl: 204.69, valid ppl: 209.04\n",
            "12000 steps; 24576000 examples so far; train ppl: 201.08, valid ppl: 207.07\n",
            "13000 steps; 26624000 examples so far; train ppl: 198.04, valid ppl: 204.71\n",
            "14000 steps; 28672000 examples so far; train ppl: 195.24, valid ppl: 202.27\n",
            "15000 steps; 30720000 examples so far; train ppl: 192.79, valid ppl: 199.04\n",
            "16000 steps; 32768000 examples so far; train ppl: 190.50, valid ppl: 197.37\n",
            "17000 steps; 34816000 examples so far; train ppl: 188.13, valid ppl: 194.53\n",
            "18000 steps; 36864000 examples so far; train ppl: 186.43, valid ppl: 194.67\n",
            "19000 steps; 38912000 examples so far; train ppl: 184.25, valid ppl: 192.58\n",
            "20000 steps; 40960000 examples so far; train ppl: 180.78, valid ppl: 191.28\n",
            "21000 steps; 43008000 examples so far; train ppl: 179.50, valid ppl: 189.93\n",
            "22000 steps; 45056000 examples so far; train ppl: 178.45, valid ppl: 189.08\n",
            "23000 steps; 47104000 examples so far; train ppl: 177.38, valid ppl: 187.64\n",
            "24000 steps; 49152000 examples so far; train ppl: 176.17, valid ppl: 186.70\n",
            "25000 steps; 51200000 examples so far; train ppl: 175.06, valid ppl: 185.42\n",
            "26000 steps; 53248000 examples so far; train ppl: 173.85, valid ppl: 184.68\n",
            "27000 steps; 55296000 examples so far; train ppl: 172.69, valid ppl: 183.54\n",
            "28000 steps; 57344000 examples so far; train ppl: 171.82, valid ppl: 182.92\n",
            "29000 steps; 59392000 examples so far; train ppl: 170.85, valid ppl: 181.53\n",
            "30000 steps; 61440000 examples so far; train ppl: 169.94, valid ppl: 180.63\n",
            "31000 steps; 63488000 examples so far; train ppl: 169.03, valid ppl: 179.98\n",
            "32000 steps; 65536000 examples so far; train ppl: 168.10, valid ppl: 179.62\n",
            "33000 steps; 67584000 examples so far; train ppl: 167.16, valid ppl: 178.42\n",
            "34000 steps; 69632000 examples so far; train ppl: 166.40, valid ppl: 178.02\n",
            "35000 steps; 71680000 examples so far; train ppl: 165.67, valid ppl: 177.26\n",
            "36000 steps; 73728000 examples so far; train ppl: 164.83, valid ppl: 176.30\n",
            "37000 steps; 75776000 examples so far; train ppl: 164.25, valid ppl: 175.32\n",
            "38000 steps; 77824000 examples so far; train ppl: 163.38, valid ppl: 174.76\n",
            "39000 steps; 79872000 examples so far; train ppl: 160.96, valid ppl: 174.97\n",
            "40000 steps; 81920000 examples so far; train ppl: 160.58, valid ppl: 174.26\n",
            "41000 steps; 83968000 examples so far; train ppl: 160.37, valid ppl: 173.95\n",
            "42000 steps; 86016000 examples so far; train ppl: 159.60, valid ppl: 173.15\n",
            "43000 steps; 88064000 examples so far; train ppl: 159.41, valid ppl: 172.74\n",
            "44000 steps; 90112000 examples so far; train ppl: 158.95, valid ppl: 172.35\n",
            "45000 steps; 92160000 examples so far; train ppl: 158.49, valid ppl: 171.22\n",
            "46000 steps; 94208000 examples so far; train ppl: 157.95, valid ppl: 171.04\n",
            "47000 steps; 96256000 examples so far; train ppl: 157.51, valid ppl: 171.07\n",
            "48000 steps; 98304000 examples so far; train ppl: 157.23, valid ppl: 169.76\n"
          ]
        }
      ],
      "source": [
        "max_examples = 100_000_000\n",
        "eval_every_steps = 1_000\n",
        "lr = 3e-4\n",
        "batch_size = 2048\n",
        "\n",
        "model = LanguageModel(\n",
        "    vocab_size=tokenizer.vocab_size,\n",
        "    max_seq_length=max_seq_length,\n",
        "    dim=64,\n",
        "    n_layers=2,\n",
        "    pad_token_id=tokenizer.pad_token_id,\n",
        ").to(device)\n",
        "\n",
        "train_loader = DataLoader(training_dataset, batch_size=batch_size, shuffle=True, drop_last=True)\n",
        "validation_loader = DataLoader(valid_dataset, batch_size=batch_size)\n",
        "\n",
        "optimizer = torch.optim.Adam(model.parameters(), lr=lr)\n",
        "\n",
        "\n",
        "def train_step(input_ids, target_ids):\n",
        "    model.train()\n",
        "    model.zero_grad()\n",
        "    logits = model(input_ids)\n",
        "    logits = logits.reshape(-1, logits.shape[-1])\n",
        "    target_ids = target_ids.reshape(-1)\n",
        "    loss = nn.functional.cross_entropy(logits, target_ids, ignore_index=model.pad_token_id)\n",
        "    loss.backward()\n",
        "    optimizer.step()\n",
        "\n",
        "    return loss.item()\n",
        "\n",
        "\n",
        "def validation_step(input_ids, target_ids):\n",
        "    model.eval()\n",
        "    logits = model(input_ids)\n",
        "    logits = logits.reshape(-1, logits.shape[-1])\n",
        "    target_ids = target_ids.reshape(-1)\n",
        "    loss = nn.functional.cross_entropy(logits, target_ids, ignore_index=model.pad_token_id)\n",
        "    return loss.item()\n",
        "\n",
        "\n",
        "train_losses = []\n",
        "n_examples = 0\n",
        "step = 0\n",
        "\n",
        "best_ppl = 170\n",
        "best_model = deepcopy(model.state_dict())\n",
        "\n",
        "wandb.watch(model, log_freq=100)\n",
        "pbar = tqdm(total=max_examples)\n",
        "\n",
        "while n_examples < max_examples:\n",
        "    for train_input_ids, train_target_ids in train_loader:\n",
        "        loss = train_step(train_input_ids.to(device), train_target_ids.to(device)) \n",
        "        train_losses.append(loss)\n",
        "        \n",
        "        if step % eval_every_steps == 0:\n",
        "            train_loss = np.average(train_losses)\n",
        "            train_ppl = np.exp(train_loss)\n",
        "\n",
        "            with torch.no_grad():\n",
        "                valid_ppl = np.exp(np.average([\n",
        "                    validation_step(val_input_ids.to(device), val_target_ids.to(device))\n",
        "                    for val_input_ids, val_target_ids in validation_loader]))\n",
        "\n",
        "            wandb.log({\n",
        "                \"train/loss\": loss,\n",
        "                \"train/perplexity\": train_ppl,\n",
        "                \"eval/perplexity\": valid_ppl\n",
        "            }, step=step)\n",
        "            if valid_ppl < best_ppl:\n",
        "                best_ppl = valid_ppl\n",
        "                best_model = deepcopy(model.state_dict())\n",
        "                torch.save(best_model, 'best_model.pth')\n",
        "                \n",
        "                artifact = wandb.Artifact(\n",
        "                    'model-multiheadattention',\n",
        "                    type='model',\n",
        "                    metadata={\n",
        "                        \"step\": step,\n",
        "                        \"step_size\": batch_size,\n",
        "                        \"train_loss\": train_loss,\n",
        "                        \"train_perplexity\": train_ppl,\n",
        "                        \"valid_perplexity\": valid_ppl\n",
        "                    }\n",
        "                )\n",
        "                artifact.add_file('best_model.pth')\n",
        "                wandb.run.log_artifact(artifact)\n",
        "            print(f'{step} steps; {n_examples} examples so far; train ppl: {train_ppl:.2f}, valid ppl: {valid_ppl:.2f}')\n",
        "            train_losses = []\n",
        "\n",
        "        n_examples += len(train_input_ids)  # Increment of batch size\n",
        "        step += 1\n",
        "        pbar.update(len(train_input_ids))\n",
        "        if n_examples >= max_examples:\n",
        "            break"
      ]
    },
    {
      "cell_type": "markdown",
      "id": "f605e198",
      "metadata": {
        "id": "f605e198",
        "papermill": {
          "duration": 0.015942,
          "end_time": "2022-06-01T18:19:21.884858",
          "exception": false,
          "start_time": "2022-06-01T18:19:21.868916",
          "status": "completed"
        },
        "tags": []
      },
      "source": [
        "## Avaliação final no dataset de teste\n",
        "\n",
        "\n",
        "Bonus: o modelo com menor perplexidade no dataset de testes ganhará 0.5 ponto na nota final."
      ]
    },
    {
      "cell_type": "code",
      "execution_count": null,
      "id": "aeaf07c0",
      "metadata": {
        "execution": {
          "iopub.execute_input": "2022-06-01T18:19:21.920133Z",
          "iopub.status.busy": "2022-06-01T18:19:21.919780Z",
          "iopub.status.idle": "2022-06-01T18:19:36.959885Z",
          "shell.execute_reply": "2022-06-01T18:19:36.958855Z"
        },
        "id": "aeaf07c0",
        "outputId": "4371c1f7-3b99-4200-d93b-220ea9968367",
        "papermill": {
          "duration": 15.060684,
          "end_time": "2022-06-01T18:19:36.962249",
          "exception": false,
          "start_time": "2022-06-01T18:19:21.901565",
          "status": "completed"
        },
        "tags": []
      },
      "outputs": [
        {
          "name": "stdout",
          "output_type": "stream",
          "text": [
            "test perplexity: 182.1914658859315\n"
          ]
        }
      ],
      "source": [
        "test_loader = DataLoader(test_dataset, batch_size=64)\n",
        "\n",
        "with torch.no_grad():\n",
        "    test_ppl = np.exp(np.average([\n",
        "        validation_step(test_input_ids.to(device), test_target_ids.to(device))\n",
        "        for test_input_ids, test_target_ids in test_loader\n",
        "    ]))\n",
        "\n",
        "print(f'test perplexity: {test_ppl}')"
      ]
    },
    {
      "cell_type": "markdown",
      "id": "838af117",
      "metadata": {
        "id": "838af117",
        "papermill": {
          "duration": 0.015817,
          "end_time": "2022-06-01T18:19:36.995694",
          "exception": false,
          "start_time": "2022-06-01T18:19:36.979877",
          "status": "completed"
        },
        "tags": []
      },
      "source": [
        "## Teste seu modelo com uma sentença\n",
        "\n",
        "Escolha uma sentença gerada pelo modelo que ache interessante."
      ]
    },
    {
      "cell_type": "code",
      "execution_count": null,
      "id": "a45ede44",
      "metadata": {
        "execution": {
          "iopub.execute_input": "2022-06-01T18:19:37.033451Z",
          "iopub.status.busy": "2022-06-01T18:19:37.033126Z",
          "iopub.status.idle": "2022-06-01T18:19:39.393168Z",
          "shell.execute_reply": "2022-06-01T18:19:39.392164Z"
        },
        "id": "a45ede44",
        "papermill": {
          "duration": 2.383054,
          "end_time": "2022-06-01T18:19:39.395113",
          "exception": false,
          "start_time": "2022-06-01T18:19:37.012059",
          "status": "completed"
        },
        "tags": [],
        "outputId": "591831a4-a4fd-407d-8b4c-2485278e3ca2"
      },
      "outputs": [
        {
          "name": "stdout",
          "output_type": "stream",
          "text": [
            "Eu gosto de comer pizza pois me faz -\n",
            "Eu gosto de comer pizza pois me faz -i\n",
            "Eu gosto de comer pizza pois me faz - iou\n",
            "Eu gosto de comer pizza pois me faz - iou -\n",
            "Eu gosto de comer pizza pois me faz - iou -.\n",
            "Eu gosto de comer pizza pois me faz - iou -..\n",
            "Eu gosto de comer pizza pois me faz - iou -...\n",
            "Eu gosto de comer pizza pois me faz - iou -....\n",
            "Eu gosto de comer pizza pois me faz - iou -.....\n",
            "Eu gosto de comer pizza pois me faz - iou -......\n",
            "Eu gosto de comer pizza pois me faz - iou -.......\n",
            "Eu gosto de comer pizza pois me faz - iou -........\n",
            "Eu gosto de comer pizza pois me faz - iou -.........\n",
            "Eu gosto de comer pizza pois me faz - iou -..........\n",
            "Eu gosto de comer pizza pois me faz - iou -...........\n",
            "Eu gosto de comer pizza pois me faz - iou -............\n",
            "Eu gosto de comer pizza pois me faz - iou -.............\n",
            "Eu gosto de comer pizza pois me faz - iou -..............\n",
            "Eu gosto de comer pizza pois me faz - iou -...............\n",
            "Eu gosto de comer pizza pois me faz - iou -................\n",
            "\n",
            "Cachorro e gato são os melhores amigos do que\n",
            "Cachorro e gato são os melhores amigos do que o\n",
            "Cachorro e gato são os melhores amigos do que o que\n",
            "Cachorro e gato são os melhores amigos do que o que é\n",
            "Cachorro e gato são os melhores amigos do que o que é o\n",
            "Cachorro e gato são os melhores amigos do que o que é o que\n",
            "Cachorro e gato são os melhores amigos do que o que é o que é\n",
            "Cachorro e gato são os melhores amigos do que o que é o que é o\n",
            "Cachorro e gato são os melhores amigos do que o que é o que é o que\n",
            "Cachorro e gato são os melhores amigos do que o que é o que é o que é\n",
            "Cachorro e gato são os melhores amigos do que o que é o que é o que é o\n",
            "Cachorro e gato são os melhores amigos do que o que é o que é o que é o que\n",
            "Cachorro e gato são os melhores amigos do que o que é o que é o que é o que é\n",
            "Cachorro e gato são os melhores amigos do que o que é o que é o que é o que é o\n",
            "Cachorro e gato são os melhores amigos do que o que é o que é o que é o que é o que\n",
            "Cachorro e gato são os melhores amigos do que o que é o que é o que é o que é o que é\n",
            "Cachorro e gato são os melhores amigos do que o que é o que é o que é o que é o que é o\n",
            "Cachorro e gato são os melhores amigos do que o que é o que é o que é o que é o que é o que\n",
            "Cachorro e gato são os melhores amigos do que o que é o que é o que é o que é o que é o que é\n",
            "Cachorro e gato são os melhores amigos do que o que é o que é o que é o que é o que é o que é o\n",
            "\n",
            "Eu gosto de comer chocolate, pois me faz -\n",
            "Eu gosto de comer chocolate, pois me faz -i\n",
            "Eu gosto de comer chocolate, pois me faz - iou\n",
            "Eu gosto de comer chocolate, pois me faz - iou -\n",
            "Eu gosto de comer chocolate, pois me faz - iou -.\n",
            "Eu gosto de comer chocolate, pois me faz - iou -..\n",
            "Eu gosto de comer chocolate, pois me faz - iou -...\n",
            "Eu gosto de comer chocolate, pois me faz - iou -....\n",
            "Eu gosto de comer chocolate, pois me faz - iou -.....\n",
            "Eu gosto de comer chocolate, pois me faz - iou -......\n",
            "Eu gosto de comer chocolate, pois me faz - iou -.......\n",
            "Eu gosto de comer chocolate, pois me faz - iou -........\n",
            "Eu gosto de comer chocolate, pois me faz - iou -.........\n",
            "Eu gosto de comer chocolate, pois me faz - iou -..........\n",
            "Eu gosto de comer chocolate, pois me faz - iou -...........\n",
            "Eu gosto de comer chocolate, pois me faz - iou -............\n",
            "Eu gosto de comer chocolate, pois me faz - iou -.............\n",
            "Eu gosto de comer chocolate, pois me faz - iou -..............\n",
            "Eu gosto de comer chocolate, pois me faz - iou -...............\n",
            "Eu gosto de comer chocolate, pois me faz - iou -................\n",
            "\n",
            "Campinas é uma cidade grande e eu gosto des\n",
            "Campinas é uma cidade grande e eu gosto dess\n",
            "Campinas é uma cidade grande e eu gosto dess de\n",
            "Campinas é uma cidade grande e eu gosto dess des\n",
            "Campinas é uma cidade grande e eu gosto dess dess\n",
            "Campinas é uma cidade grande e eu gosto dess desss\n",
            "Campinas é uma cidade grande e eu gosto dess dessss\n",
            "Campinas é uma cidade grande e eu gosto dess desssss\n",
            "Campinas é uma cidade grande e eu gosto dess dessssss\n",
            "Campinas é uma cidade grande e eu gosto dess desssssss\n",
            "Campinas é uma cidade grande e eu gosto dess dessssssss\n",
            "Campinas é uma cidade grande e eu gosto dess desssssssss\n",
            "Campinas é uma cidade grande e eu gosto dess dessssssssss\n",
            "Campinas é uma cidade grande e eu gosto dess desssssssssss\n",
            "Campinas é uma cidade grande e eu gosto dess dessssssssssss\n",
            "Campinas é uma cidade grande e eu gosto dess desssssssssssss\n",
            "Campinas é uma cidade grande e eu gosto dess dessssssssssssss\n",
            "Campinas é uma cidade grande e eu gosto dess desssssssssssssss\n",
            "Campinas é uma cidade grande e eu gosto dess dessssssssssssssss\n",
            "Campinas é uma cidade grande e eu gosto dess desssssssssssssssss\n",
            "\n",
            "As plantações de cana no Brasil desse ano serão,\n",
            "As plantações de cana no Brasil desse ano serão, em\n",
            "As plantações de cana no Brasil desse ano serão, em que\n",
            "As plantações de cana no Brasil desse ano serão, em que,\n",
            "As plantações de cana no Brasil desse ano serão, em que, o\n",
            "As plantações de cana no Brasil desse ano serão, em que, o que\n",
            "As plantações de cana no Brasil desse ano serão, em que, o que é\n",
            "As plantações de cana no Brasil desse ano serão, em que, o que é o\n",
            "As plantações de cana no Brasil desse ano serão, em que, o que é o que\n",
            "As plantações de cana no Brasil desse ano serão, em que, o que é o que é\n",
            "As plantações de cana no Brasil desse ano serão, em que, o que é o que é o\n",
            "As plantações de cana no Brasil desse ano serão, em que, o que é o que é o que\n",
            "As plantações de cana no Brasil desse ano serão, em que, o que é o que é o que é\n",
            "As plantações de cana no Brasil desse ano serão, em que, o que é o que é o que é o\n",
            "As plantações de cana no Brasil desse ano serão, em que, o que é o que é o que é o que\n",
            "As plantações de cana no Brasil desse ano serão, em que, o que é o que é o que é o que é\n",
            "As plantações de cana no Brasil desse ano serão, em que, o que é o que é o que é o que é o\n",
            "As plantações de cana no Brasil desse ano serão, em que, o que é o que é o que é o que é o que\n",
            "As plantações de cana no Brasil desse ano serão, em que, o que é o que é o que é o que é o que é\n",
            "As plantações de cana no Brasil desse ano serão, em que, o que é o que é o que é o que é o que é o\n",
            "\n",
            "As mulheres estão cada vez mais presentes comparado a.\n",
            "As mulheres estão cada vez mais presentes comparado a..\n",
            "As mulheres estão cada vez mais presentes comparado a...\n",
            "As mulheres estão cada vez mais presentes comparado a....\n",
            "As mulheres estão cada vez mais presentes comparado a.....\n",
            "As mulheres estão cada vez mais presentes comparado a......\n",
            "As mulheres estão cada vez mais presentes comparado a.......\n",
            "As mulheres estão cada vez mais presentes comparado a........\n",
            "As mulheres estão cada vez mais presentes comparado a.........\n",
            "As mulheres estão cada vez mais presentes comparado a..........\n",
            "As mulheres estão cada vez mais presentes comparado a...........\n",
            "As mulheres estão cada vez mais presentes comparado a............\n",
            "As mulheres estão cada vez mais presentes comparado a.............\n",
            "As mulheres estão cada vez mais presentes comparado a..............\n",
            "As mulheres estão cada vez mais presentes comparado a...............\n",
            "As mulheres estão cada vez mais presentes comparado a................\n",
            "As mulheres estão cada vez mais presentes comparado a.................\n",
            "As mulheres estão cada vez mais presentes comparado a..................\n",
            "As mulheres estão cada vez mais presentes comparado a...................\n",
            "As mulheres estão cada vez mais presentes comparado a....................\n",
            "\n",
            "Temos que pensar no futuro e guardar o que aprendemos nao\n",
            "Temos que pensar no futuro e guardar o que aprendemos naos\n",
            "Temos que pensar no futuro e guardar o que aprendemos naos,\n",
            "Temos que pensar no futuro e guardar o que aprendemos naos, em\n",
            "Temos que pensar no futuro e guardar o que aprendemos naos, emai\n",
            "Temos que pensar no futuro e guardar o que aprendemos naos, emaia\n",
            "Temos que pensar no futuro e guardar o que aprendemos naos, emaia -\n",
            "Temos que pensar no futuro e guardar o que aprendemos naos, emaia -.\n",
            "Temos que pensar no futuro e guardar o que aprendemos naos, emaia -..\n",
            "Temos que pensar no futuro e guardar o que aprendemos naos, emaia -...\n",
            "Temos que pensar no futuro e guardar o que aprendemos naos, emaia -....\n",
            "Temos que pensar no futuro e guardar o que aprendemos naos, emaia -.....\n",
            "Temos que pensar no futuro e guardar o que aprendemos naos, emaia -......\n",
            "Temos que pensar no futuro e guardar o que aprendemos naos, emaia -.......\n",
            "Temos que pensar no futuro e guardar o que aprendemos naos, emaia -........\n",
            "Temos que pensar no futuro e guardar o que aprendemos naos, emaia -.........\n",
            "Temos que pensar no futuro e guardar o que aprendemos naos, emaia -..........\n",
            "Temos que pensar no futuro e guardar o que aprendemos naos, emaia -...........\n",
            "Temos que pensar no futuro e guardar o que aprendemos naos, emaia -............\n",
            "Temos que pensar no futuro e guardar o que aprendemos naos, emaia -.............\n",
            "\n",
            "Uma xícara de café e um livro são,\n",
            "Uma xícara de café e um livro são, que\n",
            "Uma xícara de café e um livro são, que,\n",
            "Uma xícara de café e um livro são, que, de\n",
            "Uma xícara de café e um livro são, que, des\n",
            "Uma xícara de café e um livro são, que, desdo\n",
            "Uma xícara de café e um livro são, que, desdo,\n",
            "Uma xícara de café e um livro são, que, desdo, que\n",
            "Uma xícara de café e um livro são, que, desdo, que o\n",
            "Uma xícara de café e um livro são, que, desdo, que o que\n",
            "Uma xícara de café e um livro são, que, desdo, que o que é\n",
            "Uma xícara de café e um livro são, que, desdo, que o que é o\n",
            "Uma xícara de café e um livro são, que, desdo, que o que é o que\n",
            "Uma xícara de café e um livro são, que, desdo, que o que é o que é\n",
            "Uma xícara de café e um livro são, que, desdo, que o que é o que é o\n",
            "Uma xícara de café e um livro são, que, desdo, que o que é o que é o que\n",
            "Uma xícara de café e um livro são, que, desdo, que o que é o que é o que é\n",
            "Uma xícara de café e um livro são, que, desdo, que o que é o que é o que é o\n",
            "Uma xícara de café e um livro são, que, desdo, que o que é o que é o que é o que\n",
            "Uma xícara de café e um livro são, que, desdo, que o que é o que é o que é o que é\n",
            "\n",
            "Viagens de avião são muito mais rápidas, porém,\n",
            "Viagens de avião são muito mais rápidas, porém, de\n",
            "Viagens de avião são muito mais rápidas, porém, des\n",
            "Viagens de avião são muito mais rápidas, porém, desinf\n",
            "Viagens de avião são muito mais rápidas, porém, desinfisão\n",
            "Viagens de avião são muito mais rápidas, porém, desinfisão de\n",
            "Viagens de avião são muito mais rápidas, porém, desinfisão des\n",
            "Viagens de avião são muito mais rápidas, porém, desinfisão desdo\n",
            "Viagens de avião são muito mais rápidas, porém, desinfisão desdo,\n",
            "Viagens de avião são muito mais rápidas, porém, desinfisão desdo, que\n",
            "Viagens de avião são muito mais rápidas, porém, desinfisão desdo, que é\n",
            "Viagens de avião são muito mais rápidas, porém, desinfisão desdo, que é um\n",
            "Viagens de avião são muito mais rápidas, porém, desinfisão desdo, que é um,\n",
            "Viagens de avião são muito mais rápidas, porém, desinfisão desdo, que é um, o\n",
            "Viagens de avião são muito mais rápidas, porém, desinfisão desdo, que é um, o que\n",
            "Viagens de avião são muito mais rápidas, porém, desinfisão desdo, que é um, o que é\n",
            "Viagens de avião são muito mais rápidas, porém, desinfisão desdo, que é um, o que é que\n",
            "Viagens de avião são muito mais rápidas, porém, desinfisão desdo, que é um, o que é que é\n",
            "Viagens de avião são muito mais rápidas, porém, desinfisão desdo, que é um, o que é que é o\n",
            "Viagens de avião são muito mais rápidas, porém, desinfisão desdo, que é um, o que é que é o que\n",
            "\n"
          ]
        }
      ],
      "source": [
        "prompts = [\n",
        "    'Eu gosto de comer pizza pois me faz',\n",
        "    'Cachorro e gato são os melhores amigos do',\n",
        "    'Eu gosto de comer chocolate, pois me faz',\n",
        "    'Campinas é uma cidade grande e eu gosto de',\n",
        "    'As plantações de cana no Brasil desse ano serão',\n",
        "    'As mulheres estão cada vez mais presentes comparado a',\n",
        "    'Temos que pensar no futuro e guardar o que aprendemos na',\n",
        "    'Uma xícara de café e um livro são',\n",
        "    'Viagens de avião são muito mais rápidas, porém',\n",
        "]\n",
        "max_output_tokens = 20\n",
        "\n",
        "model.eval()\n",
        "for prompt in prompts:\n",
        "    for _ in range(max_output_tokens):\n",
        "        input_ids = tokenize(texts=[prompt], tokenizer=tokenizer)\n",
        "        input_ids = input_ids[0]\n",
        "        input_ids_truncated = input_ids[-max_seq_length:]  # Usamos apenas os últimos <context_size> tokens como entrada para o modelo.\n",
        "        logits = model(torch.LongTensor([input_ids_truncated]).to(device))\n",
        "        logits = logits[:, -1, :]  # Usamos apenas o ultimo token da sequencia\n",
        "        # Ao usarmos o argmax, a saída do modelo em cada passo é token de maior probabilidade.\n",
        "        # Isso se chama decodificação gulosa (greedy decoding).\n",
        "        predicted_id = torch.argmax(logits).item()\n",
        "        input_ids += [predicted_id]  # Concatenamos a entrada com o token escolhido nesse passo.\n",
        "        prompt = tokenizer.decode(input_ids)\n",
        "        print(prompt)\n",
        "    print()"
      ]
    },
    {
      "cell_type": "code",
      "execution_count": null,
      "id": "4c7b4672",
      "metadata": {
        "execution": {
          "iopub.execute_input": "2022-06-01T18:19:39.429241Z",
          "iopub.status.busy": "2022-06-01T18:19:39.428667Z",
          "iopub.status.idle": "2022-06-01T18:19:44.142914Z",
          "shell.execute_reply": "2022-06-01T18:19:44.142089Z"
        },
        "papermill": {
          "duration": 4.733524,
          "end_time": "2022-06-01T18:19:44.145570",
          "exception": false,
          "start_time": "2022-06-01T18:19:39.412046",
          "status": "completed"
        },
        "tags": [],
        "colab": {
          "referenced_widgets": [
            "006b409a1cac4035b0415927977e5e19"
          ]
        },
        "id": "4c7b4672",
        "outputId": "0b769141-b52c-46b9-c651-eb14fca1b52a"
      },
      "outputs": [
        {
          "data": {
            "text/html": [
              "Waiting for W&B process to finish... <strong style=\"color:green\">(success).</strong>"
            ],
            "text/plain": [
              "<IPython.core.display.HTML object>"
            ]
          },
          "metadata": {},
          "output_type": "display_data"
        },
        {
          "data": {
            "application/vnd.jupyter.widget-view+json": {
              "model_id": "006b409a1cac4035b0415927977e5e19",
              "version_major": 2,
              "version_minor": 0
            },
            "text/plain": [
              "VBox(children=(Label(value='97.128 MB of 97.128 MB uploaded (0.000 MB deduped)\\r'), FloatProgress(value=1.0, m…"
            ]
          },
          "metadata": {},
          "output_type": "display_data"
        },
        {
          "data": {
            "text/html": [
              "<style>\n",
              "    table.wandb td:nth-child(1) { padding: 0 10px; text-align: left ; width: auto;} td:nth-child(2) {text-align: left ; width: 100%}\n",
              "    .wandb-row { display: flex; flex-direction: row; flex-wrap: wrap; justify-content: flex-start; width: 100% }\n",
              "    .wandb-col { display: flex; flex-direction: column; flex-basis: 100%; flex: 1; padding: 10px; }\n",
              "    </style>\n",
              "<div class=\"wandb-row\"><div class=\"wandb-col\"><h3>Run history:</h3><br/><table class=\"wandb\"><tr><td>eval/perplexity</td><td>█▁▁▁▁▁▁▁▁▁▁▁▁▁▁▁▁▁▁▁▁▁▁▁▁▁▁▁▁▁▁▁▁▁▁▁▁▁▁▁</td></tr><tr><td>train/loss</td><td>█▂▂▂▂▂▁▁▁▁▁▁▁▁▁▁▁▁▁▁▁▁▁▁▁▁▁▁▁▁▁▁▁▁▁▁▁▁▁▁</td></tr><tr><td>train/perplexity</td><td>█▁▁▁▁▁▁▁▁▁▁▁▁▁▁▁▁▁▁▁▁▁▁▁▁▁▁▁▁▁▁▁▁▁▁▁▁▁▁▁</td></tr></table><br/></div><div class=\"wandb-col\"><h3>Run summary:</h3><br/><table class=\"wandb\"><tr><td>eval/perplexity</td><td>169.76462</td></tr><tr><td>train/loss</td><td>5.08246</td></tr><tr><td>train/perplexity</td><td>157.22545</td></tr></table><br/></div></div>"
            ],
            "text/plain": [
              "<IPython.core.display.HTML object>"
            ]
          },
          "metadata": {},
          "output_type": "display_data"
        },
        {
          "data": {
            "text/html": [
              "Synced <strong style=\"color:#cdcd00\">apricot-puddle-28</strong>: <a href=\"https://wandb.ai/flych3r/language-models/runs/18281p8n\" target=\"_blank\">https://wandb.ai/flych3r/language-models/runs/18281p8n</a><br/>Synced 5 W&B file(s), 0 media file(s), 1 artifact file(s) and 0 other file(s)"
            ],
            "text/plain": [
              "<IPython.core.display.HTML object>"
            ]
          },
          "metadata": {},
          "output_type": "display_data"
        },
        {
          "data": {
            "text/html": [
              "Find logs at: <code>./wandb/run-20220601_122623-18281p8n/logs</code>"
            ],
            "text/plain": [
              "<IPython.core.display.HTML object>"
            ]
          },
          "metadata": {},
          "output_type": "display_data"
        }
      ],
      "source": [
        "wandb.finish()"
      ]
    },
    {
      "cell_type": "markdown",
      "id": "a25a0fa1",
      "metadata": {
        "id": "a25a0fa1",
        "papermill": {
          "duration": 0.027358,
          "end_time": "2022-06-01T18:19:44.202244",
          "exception": false,
          "start_time": "2022-06-01T18:19:44.174886",
          "status": "completed"
        },
        "tags": []
      },
      "source": [
        "## Bonus 1\n",
        "Quem conseguir a menor perplexidade no dataset de testes ganha 0.5 ponto na média final."
      ]
    },
    {
      "cell_type": "markdown",
      "source": [
        "\n",
        "## Bonus 2\n",
        "Qual é a complexidade (em notação O-grande) da função de geração de texto acima?\n",
        "\n",
        "Quem responder corretamente a pergunta acima e deixar a função com menor complexidade ganha 0.5 ponto na média final."
      ],
      "metadata": {
        "id": "5dBvVDTjiar8"
      },
      "id": "5dBvVDTjiar8"
    }
  ],
  "metadata": {
    "kernelspec": {
      "display_name": "Python 3",
      "language": "python",
      "name": "python3"
    },
    "language_info": {
      "codemirror_mode": {
        "name": "ipython",
        "version": 3
      },
      "file_extension": ".py",
      "mimetype": "text/x-python",
      "name": "python",
      "nbconvert_exporter": "python",
      "pygments_lexer": "ipython3",
      "version": "3.7.12"
    },
    "papermill": {
      "default_parameters": {},
      "duration": 22144.668093,
      "end_time": "2022-06-01T18:19:47.317096",
      "environment_variables": {},
      "exception": null,
      "input_path": "__notebook__.ipynb",
      "output_path": "__notebook__.ipynb",
      "parameters": {},
      "start_time": "2022-06-01T12:10:42.649003",
      "version": "2.3.4"
    },
    "widgets": {
      "application/vnd.jupyter.widget-state+json": {}
    },
    "colab": {
      "name": "IA025 - A09",
      "provenance": [],
      "toc_visible": true,
      "include_colab_link": true
    }
  },
  "nbformat": 4,
  "nbformat_minor": 5
}