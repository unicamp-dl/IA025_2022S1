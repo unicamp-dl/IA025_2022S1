{
  "nbformat": 4,
  "nbformat_minor": 0,
  "metadata": {
    "colab": {
      "name": "Exercicio_aula4_plot_otimo_batch_iris.ipynb",
      "provenance": [],
      "collapsed_sections": [],
      "include_colab_link": true
    },
    "kernelspec": {
      "name": "python3",
      "display_name": "Python 3"
    },
    "language_info": {
      "name": "python"
    }
  },
  "cells": [
    {
      "cell_type": "markdown",
      "metadata": {
        "id": "view-in-github",
        "colab_type": "text"
      },
      "source": [
        "<a href=\"https://colab.research.google.com/github/pg1992/IA025_2022S1/blob/main/ex04/pedro_moreira/solution-extra.ipynb\" target=\"_parent\"><img src=\"https://colab.research.google.com/assets/colab-badge.svg\" alt=\"Open In Colab\"/></a>"
      ]
    },
    {
      "cell_type": "markdown",
      "source": [
        "Nome: Pedro Guilherme Siqueira Moreira"
      ],
      "metadata": {
        "id": "OuUGV9Mka-_m"
      }
    },
    {
      "cell_type": "code",
      "execution_count": 1,
      "metadata": {
        "id": "dCHgSQLCl-cT"
      },
      "outputs": [],
      "source": [
        "import numpy as np\n",
        "import torch\n",
        "from torch.utils.data import TensorDataset\n",
        "from torch.utils.data import DataLoader\n",
        "\n",
        "from torchvision import transforms\n",
        "\n",
        "from sklearn.datasets import load_iris\n",
        "%matplotlib inline\n",
        "import matplotlib.pyplot as plt"
      ]
    },
    {
      "cell_type": "code",
      "source": [
        "iris = load_iris()\n",
        "data = iris.data[iris.target==1,::2]  # comprimento das sépalas e pétalas, indices 0 e 2\n",
        "\n",
        "x_data = data[:,0:1]\n",
        "target = data[:,1:2]\n",
        "n_samples = x_data.shape[0]\n",
        "\n",
        "print('dimensões de x_data:', x_data.shape)\n",
        "print('dimensões de target:', target.shape)"
      ],
      "metadata": {
        "colab": {
          "base_uri": "https://localhost:8080/"
        },
        "id": "3tq5F1rPmDSm",
        "outputId": "eb528417-c6b6-4ad3-90d8-a78a1d46f81f"
      },
      "execution_count": 2,
      "outputs": [
        {
          "output_type": "stream",
          "name": "stdout",
          "text": [
            "dimensões de x_data: (50, 1)\n",
            "dimensões de target: (50, 1)\n"
          ]
        }
      ]
    },
    {
      "cell_type": "code",
      "source": [
        "x_train = torch.FloatTensor(x_data)\n",
        "y_train = torch.FloatTensor(target)\n",
        "xt_min = x_train.min()\n",
        "xt_max = x_train.max()\n",
        "x_train_n = (x_train - xt_min)/(xt_max - xt_min)\n",
        "\n",
        "yt_min = y_train.min()\n",
        "yt_max = y_train.max()\n",
        "y_train_n = (y_train - yt_min)/(yt_max - yt_min)"
      ],
      "metadata": {
        "id": "UoDwmWyRmKAC"
      },
      "execution_count": 3,
      "outputs": []
    },
    {
      "cell_type": "code",
      "source": [
        "x_train_bias = torch.cat([torch.ones(size=(n_samples,1)), x_train_n], dim=1)\n",
        "print(x_train_bias.shape)"
      ],
      "metadata": {
        "colab": {
          "base_uri": "https://localhost:8080/"
        },
        "id": "808SexYanRHA",
        "outputId": "5938a228-4160-4b74-d26b-19d3f605a735"
      },
      "execution_count": 4,
      "outputs": [
        {
          "output_type": "stream",
          "name": "stdout",
          "text": [
            "torch.Size([50, 2])\n"
          ]
        }
      ]
    },
    {
      "cell_type": "code",
      "source": [
        "dataset = TensorDataset(x_train_bias, y_train_n)"
      ],
      "metadata": {
        "id": "28YsXH5jmZAZ"
      },
      "execution_count": 5,
      "outputs": []
    },
    {
      "cell_type": "code",
      "source": [
        "\n",
        "data_loader = DataLoader(dataset, \n",
        "                         batch_size=10, # tamanho do mini-batch de dados\n",
        "                         shuffle=True) # se for True, embaralha os dados no inicio de cada iteração"
      ],
      "metadata": {
        "id": "xhHiL5Tkmwex"
      },
      "execution_count": 6,
      "outputs": []
    },
    {
      "cell_type": "markdown",
      "source": [
        "Solução ótima"
      ],
      "metadata": {
        "id": "pYVneGRYneXZ"
      }
    },
    {
      "cell_type": "code",
      "source": [
        "x_bias, y = next(iter(data_loader))"
      ],
      "metadata": {
        "id": "Ra0wXQHSnkCt"
      },
      "execution_count": 7,
      "outputs": []
    },
    {
      "cell_type": "code",
      "source": [
        "w_opt = (torch.inverse(x_bias.t().mm(x_bias)).mm(x_bias.t())).mm(y)\n",
        "print(w_opt.t(), w_opt.shape)"
      ],
      "metadata": {
        "colab": {
          "base_uri": "https://localhost:8080/"
        },
        "id": "3vVTJ_Z5mx6K",
        "outputId": "26eaa37d-8635-43db-e965-01b6f12c20fd"
      },
      "execution_count": 8,
      "outputs": [
        {
          "output_type": "stream",
          "name": "stdout",
          "text": [
            "tensor([[-0.0366,  1.3263]]) torch.Size([2, 1])\n"
          ]
        }
      ]
    },
    {
      "cell_type": "markdown",
      "source": [
        "# Exercício é codificar a próxima célula:"
      ],
      "metadata": {
        "id": "FIxIOUmSa3mQ"
      }
    },
    {
      "cell_type": "code",
      "source": [
        "# colocar aqui um laço para \n",
        "# calcular os valores ótimos associados a cada batch\n",
        "# é esperado um gráfico parecido com o gráfico\n",
        "\n",
        "n = 1000  # número de passagens por todo dataset\n",
        "wlist = [torch.linalg.lstsq(x_bias, y)[0].T for _ in range(n) for x_bias, y in data_loader]\n",
        "\n",
        "w_opt = torch.cat(wlist)\n",
        "plt.scatter(w_opt[:,0], w_opt[:,1])"
      ],
      "metadata": {
        "id": "mw7E0q8Jobkh",
        "outputId": "33da1b50-a148-4196-8ef0-9e5b3a0418cd",
        "colab": {
          "base_uri": "https://localhost:8080/",
          "height": 282
        }
      },
      "execution_count": 31,
      "outputs": [
        {
          "output_type": "execute_result",
          "data": {
            "text/plain": [
              "<matplotlib.collections.PathCollection at 0x7f913eb6ccd0>"
            ]
          },
          "metadata": {},
          "execution_count": 31
        },
        {
          "output_type": "display_data",
          "data": {
            "text/plain": [
              "<Figure size 432x288 with 1 Axes>"
            ],
            "image/png": "[encoded data removed]"
          },
          "metadata": {
            "needs_background": "light"
          }
        }
      ]
    },
    {
      "cell_type": "markdown",
      "source": [
        "Resultado esperado:\n",
        "\n",
        "![expected.png](data:image/png;base64,iVBORw0KGgoAAAANSUhEUgAAAXoAAAD4CAYAAADiry33AAAABHNCSVQICAgIfAhkiAAAAAlwSFlzAAALEgAACxIB0t1+/AAAADh0RVh0U29mdHdhcmUAbWF0cGxvdGxpYiB2ZXJzaW9uMy4yLjIsIGh0dHA6Ly9tYXRwbG90bGliLm9yZy+WH4yJAAAgAElEQVR4nO3df5Dc9X3f8ef7Vis4gcsJS0mtQ7+cEmGIis5chTrKxAbbSB5idAVPJAKtPfVUjWOaMfZoKibUGMwMSjUptI0dW3EYO3UsBAZfRbEtPBEuHTlyOPkkK8LIlYWNtHjKGemUBF2kvdO7f+zuaW/v+93vd2/3dr/73ddj5ka33/1+bz/35XjvZz+f9+f9MXdHRETSq6vVDRARkdmlQC8iknIK9CIiKadALyKScgr0IiIpN6fVDQiyYMECX7ZsWaubISLSNg4cOPBLd18Y9FwiA/2yZcsYGhpqdTNERNqGmf087DkN3YiIpJwCvYhIyinQi4iknAK9iEjKKdCLiKRcIrNuZmJwOMf2PUd5fXSMRT3dbFm3goG+3lY3S0Sk5VIR6AeHc9z3zGHG8hMA5EbHuO+ZwwAK9iLS8VIxdLN9z9HJIF8ylp9g+56jLWqRiEhyRPbozexx4LeBN9z9NwKe3wLcVfbz3gUsdPdTZvYz4O+BCWDc3fsb1fByr4+O1XRcRKSTxOnRfwVYH/aku29391Xuvgq4D/jf7n6q7JSbis/PSpAHWNTTXdNxEZFOEhno3f1F4FTUeUV3AjvratEMbFm3gu5sZsqx7myGLetWNLspIiKJ07AxejObR6Hn/3TZYQeeN7MDZrY54vrNZjZkZkMjIyM1vfZAXy+P3L6S3p5uDOjt6eaR21dqIlZEhMZm3XwI2FcxbPOb7p4zs18BvmtmrxQ/IUzj7juAHQD9/f01b2Q70NerwC4iEqCRWTebqBi2cfdc8d83gG8Cqxv4eiIiEkNDAr2ZXQG8B/ifZccuM7O3lb4HbgH+thGvJyIi8cVJr9wJvBdYYGYngQeALIC7f7F42r8Cnnf3t8ou/VXgm2ZWep2vu/t3Gtd0ERGJIzLQu/udMc75CoU0zPJjx4HrZ9owERFpjFSsjBURkXAK9CIiKadALyKScgr0IiIpp0AvIpJyCvQiIimnQC8iknIK9CIiKadALyKScgr0IiIpp0AvIpJyCvQiIimnQC8iknIK9CIiKadALyKSco3cM1aabHA4x/Y9R3l9dIxFPd1sWbdC++aKyDQK9G1qcDjHfc8cZiw/AUBudIz7njkMoGAvIlNEDt2Y2eNm9oaZBe73ambvNbMzZnaw+PWZsufWm9lRMztmZlsb2fBOt33P0ckgXzKWn2D7nqMtapGIJFWcMfqvAOsjzvk/7r6q+PUQgJllgM8DHwSuBe40s2vraaxc9ProWE3HRaRzRQZ6d38RODWDn70aOObux939PPAEsGEGP0cCLOrprum4iHSuRmXd/EszO2Rm3zaz64rHeoETZeecLB4LZGabzWzIzIZGRkYa1Kz02rJuBd3ZzJRj3dkMW9ataFGLRCSpGhHofwgsdffrgf8ODM7kh7j7Dnfvd/f+hQsXNqBZ6TbQ18sjt6+kt6cbA3p7unnk9pWaiBWRaerOunH3vyv7/ltm9gUzWwDkgMVlp15VPCYNMtDXq8AuIpHqDvRm9k+B/+fubmarKXxKeBMYBa42s+UUAvwm4HfrfT1pLeXui7SfyEBvZjuB9wILzOwk8ACQBXD3LwIfBj5uZuPAGLDJ3R0YN7N7gD1ABnjc3Y/Mym8hTaHcfZH2ZIWYnCz9/f0+NDTU6mZIhbXb9pILSN/s7elm39abW9AiESkxswPu3h/0nGrdSGzK3RdpTyqBkDBJHgNf1NMd2KNX7r5IsqlHnyClMfDc6BjOxTHwweFkJCspd1+kPalHnyDV6tdU9upb0fMv/fykfuIQkWAK9AkSdwy8ldkvyt0XaT8aukmQuPVrVLlSRGqhQJ8gccfAlf0iIrVQoE+QuPVrVLlSRGqhMfqEiTMGvmXdiilj9KDsFxEJp0DfhpT9IiK1UKBvU8p+EZG4FOg7VJJX4IpIYynQt6l6ArWqUIp0FmXdtKF6SyUoD1+ksyjQt6F6A7Xy8EU6iwJ9G6o3UCsPX6SzKNC3oXoDtapQinSWyEBvZo+b2Rtm9rchz99lZj8ys8Nm9n0zu77suZ8Vjx80M20Z1SAzCdSDwznWbtvL8q3PsX3PUe64oTdyBa6IpEOcrJuvAH8C/EXI868C73H302b2QWAHcGPZ8ze5+y/raqVMUeuCqaAsm6cP5BTcRTpEZI/e3V8ETlV5/vvufrr4cD9wVYPaJlUM9PWyZd0KFvV08/roGNv3HA3NulGWjUhna/QY/ceAb5c9duB5MztgZpurXWhmm81syMyGRkZGGtys9KklxVJZNiKdrWGB3sxuohDo/2PZ4d9093cDHwQ+YWa/FXa9u+9w935371+4cGGjmpVatfTSlWUj0tkaEujN7J8DXwY2uPubpePuniv++wbwTWB1I15PauulK8tGpLPVHejNbAnwDPCv3f0nZccvM7O3lb4HbgECM3ekdrX00uPWuReRdIrMujGzncB7gQVmdhJ4AMgCuPsXgc8Abwe+YGYA4+7eD/wq8M3isTnA1939O7PwO3SkoJr02S7j7Plxlm99bjITB6Zm5zy6cZUCvEiHMXdvdRum6e/v96Ehpd1HKS9sdkV3lrfOj5OfuPjfM5sxcMhfuHisO5sJ7c2roqVI+zKzA8VO9jSqXtmGKgPyoxtXsX3PUUbH8lPOKw/6JaUJ28oAHqeiZeXr3nTNQl54ZST0sd4oRJJBPfo2UxmQodBLr8zAiWIwJRiv3baXXMBEbm9PN/u23szgcI4tTx2a8ukgSrVPDyLSWOrRt4k4QydhaZUZMyZqeNMuz72H6Cyez+4+UlOQL7Ur6NODiDSXipolRNwFUGEBOSzId1n11y0F46gsnsphobi0KEuk9RToEyLuAqiwgJyx4Ij+Ty7NTqZVhnl9dIwt61YUJm/LZDNWd659lxnLtz7H2m17Y2+MIiKNpUCfEHEXQAUtfoLwHv2ZsTz7tt7Mq9tupTei1z5RMXmbn3A+uesga7ft5bK5018zjgn3Ge2CJSKNo0CfEHEXQJUWP82fl63551ZbIfvZ3Ue4EPIzcqNjnB+/QKZiHMiA0gcJI/4wkYg0lwJ9QtRSpmCgr5d5c6Pn0cuvHxzO8eCzR6YMD/V0ZyezYqLG4PMXnLddMmdyGKinO8ucjFH6IOFAnLlajdmLNJ8CfULUWqagWsCsvH5wOMeWbxzi9Nmpwfytc+M1tfHMWH6yNPLoWD4wTz+KCqmJNJ/y6BMoTprlqgefD+yF93RnOfjALVOOheXIQ2HoJe6fQHe2C7Cac/YvXq+8epHZojz6NhJnhSrA2fPBvfGg5Jtqvf9a3ufH8mGj+MGyGeOyuXM4M5af8oalUgsizaVAnzDV0ixLwfD+wcOcDxk2OX02Py2Qdme7OFtjkK5Xb0gAj/tGJiKNo0CfMNXSLEsBPGwYBgo9+spA2gql7Q1LSm88XQEreLWCVmR2KdAnzKKe7sDgfEV3dlqNmyDuzHgMvZFKufNbnjoEdrHAWli+v7JxRGaPsm4SJizN0qy5AfzuNUsa8nPyFzxWdk5QNs7gcI612/ZqZa1InZR1k0BBk5X37jpIPf+lDGJfP39elr8bG6+pSFojXDKni/PjF3CKC7C6jIkqtfQ1qStyUbWsGwX6NlEtRTJKNmNs/BeLee5Hv5iWSx+ky+ItfmqF8rLJQeWa46Rv6g1C0qhaoI81dGNmj5vZG2YWuOerFfw3MztmZj8ys3eXPfcRM/u/xa+PzOxXkLAhncc2roq+2KF/6ZWxVtNCcoM8XBzLj1sErlLcKqEiaRJ3jP4rwPoqz38QuLr4tRn4UwAzu5LCHrM3AquBB8xs/kwb20kqx6eB0JWzIYUrJ+UvOJ9+8lDLMnAaqTSWH7cIXKWZvkGItLNYXTx3f9HMllU5ZQPwF14YB9pvZj1m9g4Km4p/191PAZjZdym8Yeysp9FpF5Zr/sjtK9m39eZp58YZfWv2ePtsKK/dE5adFFViYaZvECLtrFFZN73AibLHJ4vHwo5LFbX0OjupJ3pp9uKf603XLJxWYz+sCFy5uFVCRdIkMemVZrbZzIbMbGhkZKTVzWmpWnqdndQTPX02z33PHOb+wcM8fSA3JYvIgDtu6I2cVK2lSqhIWjQq0OeAxWWPryoeCzs+jbvvcPd+d+9fuHBhg5rVnsJ6l1d0T69Bn4ae6Px52ch5hpKx/AQ7f3Bi2iceB3b+4ERkzn2tVUJF0qBRgX438G+K2TdrgDPu/gtgD3CLmc0vTsLeUjwmVWxZt4JswC4eb50fnxbAgnqo2S6bti1gs4TtYlXN6bP5moqrhc03xN3NaqCvd3LXrX1bb1aQl9SLm165E/hrYIWZnTSzj5nZ75nZ7xVP+RZwHDgG/Bnw+wDFSdjPAS8Vvx4qTcxKuIG+Xi6/dPo8eX7Cp43JB/VQ587pCl2NGra3bKPcdM3CWX+NOD9+LD/Bg88emdV2iLQLLZhKqOVbnwtcyWrAq9tuDb1ucDjHJ3cdDH3egJ55Wc6M5RueL58xmMFeJDXrssIbVj7GL/DYxlXqsUtHqHvBlDTfTLNDorJwnMJQyWwsimpGkIfCgq7LL724rWG1TxCdlJUkEkaBPqFmmh3SKVk4o2fzk+Psd964OPS82bofKrgm7URlihOqNNxQa02WsIVEadNlNhlcnz4QHmQX9XQH1raB2u9tiTZPkXajMfqUCSr2lVbZLuPyS+eEFmorFXN7+kBuyv3IdtmUGvkl8+dleeBD10UG67ACc6WCayKtoD1jO0j5J4G09+zzF7x6NU6H/3XoF9Pe9MImcUsLsqB6z1xlFKTdaIw+hQb6erXSk0JAHx2LLstcLk6BM5VRkHajQJ9CpeEbmZmonrnKKEi70Rh9CkVtUlLLblOdqKe7UJKhfFiodM96GzCZKzIbNEbfYaJ6pArycNncDNlM17ShnWyX8ffnxqdsYQgX71m1ktEiSaWhmxSKGiuePy/L/HnTC6R1kmymi4MP3MJjG1dN1ucprbatDPKVtFGJtBsF+hQKGkMud/psnnP5iWmFz1pTBq01RsfyrN22l6Gfn2L07Hmgts1ZlGEj7USBPoXKC52FOZu/AF4sEUxh7PmuNUsCJxnTKjc6xtf2v8Zb52tfc6AMG2knmoxNubDiaCWVi3yCVpF2Qk5+LbIZ47K5czgzltdErCSGJmM7WFRJhMrnBvqCd2nqlNW2UQzAmZzEVfkDaQcaukm5qPH6OLXjS0NBs1xmvi0401fWanJWkk49+pQr9TLDatTHnYCM+jmdTpOzkmTq0XeAgb7e0InZWrb+G+jr5e41SxrVrFQpr6YpkjQK9B2iUcv2Hx5Y2VFpmHFNuFfdp1akleLuGbvezI6a2TEz2xrw/KNmdrD49RMzGy17bqLsud2NbLzEF7S37CO3r5zRBGLy8rSSQWP1klSR6ZVmlgF+AnwAOElhk+873f3lkPP/A9Dn7v+2+Pgf3P3yWhql9Mpki6ql0+l6i5lOGTMm3Cfr4ygrR2ZTvXvGrgaOuftxdz8PPAFsqHL+ncDO2psp7SIqk6fTld4ESxPdudEx7t11kPsHVVFUWiNOoO8FTpQ9Plk8No2ZLQWWA3vLDl9qZkNmtt/MBsJexMw2F88bGhkZidEsaZXKlbdxUjQ7nQNf2/8afQ89r3F8abpGp1duAr7h7uUra5a6e87M3gnsNbPD7v7TygvdfQewAwpDNw1ulzRY5cKq+wcP87X9r007b+2vXcnfvHo6dFenThN3FyuRRooT6HPA4rLHVxWPBdkEfKL8gLvniv8eN7PvAX3AtEAv7e3hgZUA7PzBCSbcyZhx542LeeGVEQX5CuWTtqppL80QZzJ2DoXJ2PdRCPAvAb/r7kcqzrsG+A6w3Is/1MzmA2fd/ZyZLQD+GtgQNpFbosnY9IiqtdPJurOZKWUlurMZHrm98IapNwCpVV21btx93MzuAfYAGeBxdz9iZg8BQ+5eSpncBDzhU9853gV8ycwuUJgP2BYV5CVdomrtdLLK2kFj+QkefPYI/5i/MPlcqZbO0M9P8cIrIwr+MiOqXimzqrR/rQqiNVap969gLyX1pleKzFjQQq27A+reS220OEtqoaJmMuuCSh/3L71yss59aWFRaVPu0bN5rujOBu7dKhepkJrEpUAvLRFW977cqgefn7Z5t1ykXa4kLg3dSGKdUZAPNZOCdNK51KOXxFLGTrBaaucEbQ2pCdzOo0AvibVl3Qq2PHVIC67KVO7xW1IZ0G+6ZiHPHDhZ2AS+SNsedi4N3UiyVZTRyXRZR9fDDxquKaWw5kbHcAoB/Wv7X5sS5EuUrdOZFOglsbbvOUp+YmpvfuKC0zMv26IWtV5QT3z7nqM1rVNQtk7nUaCXxAoLSKNn8x27peGqB59n+dbnWLtt72QVzFoDt7J1Oo8CvSRWWEBa1NPNwwMreWzjqslSyZ0ynDM6lp8cnvnkroMsq7GWkBE8/CPppkAviRW1z+1AXy/7tt7Mz7bdyqPFoG/AvKz+rMPctWaJJmI7kLJuJLFKASlOemDlAqxr/9O3AycjO1mXFVYklwwO53jw2SOcPltYr9DTneWzt12nN4IUUlEzSaWo8sgGzMnYtMnetOvpznLwgVsYHM6x5RuHQn9/7XPbfuoqUyzSjqIWWzl0XJCHwhj/sq3PTdYXCqOc+3TRYKakkjYwr65akC9Rzn16qEcvqVQ+vq8yCjOnnPt0UI9eUquUlfPYxlXTevfZLiObiU7K7JS0zTDKuU+HWD16M1sP/FcKWwl+2d23VTz/UWA7FzcN/xN3/3LxuY8A9xePP+zuX21Au0ViC8veKR0L6/Eb8OjGVZPXzZub4a3znbNTVlSFzKD6OtruMJnibA6eobA5+AeAkxQ2B7+zfO/XYqDvd/d7Kq69EhgC+inMfx0AbnD309VeU1k30kxrt+0NDPZhBcT6Hnp+MiUxzR7buGoyUAcF9acP5KqWXtB2h81V71aCq4Fj7n7c3c8DTwAbYr72OuC77n6qGNy/C6yPea1IU0QtzKr0wIeu64iJ3qGfnwKCi6b95f7XIuvraDI3OeIM3fQCJ8oenwRuDDjvDjP7LQq9/3vd/UTItYFv72a2GdgMsGRJZ9YxkdaoZWFW5fm50TEMaipD0C6+tv+1aaWOS+L+vprMTYZGZd08C+x093Nm9u+BrwLTP/NW4e47gB1QGLppULtEYomztWHY+eXDGmn7w613dbEmc5MhztBNDlhc9vgqLk66AuDub7r7ueLDLwM3xL1WpN2Vsnte3XZrq5uSKNruMDniBPqXgKvNbLmZzQU2AbvLTzCzd5Q9vA34cfH7PcAtZjbfzOYDtxSPiaRST3dn1srPmLH2164kYzb5+I4bavuUJLMnMtC7+zhwD4UA/WPgSXc/YmYPmdltxdP+wMyOmNkh4A+AjxavPQV8jsKbxUvAQ8VjIqn02duuI9vVedn3E+788LUzkytuJ9x5+kBusma+tJaKmok02OBwjk8/eSiwzEBaJ27DlIqoyexTUTORJioNV9z3zOEpKYidFuShUERtcDgXOIRTmZuvBVazRz16kVlSCmRxUzDT+kYwL9vF/MsumbYqufKNUAus6lOtR69ALzLLwlbeVipti5j2ImzZjDE+4YFvamGrkSVavStjRaQOcRYNlVIRO6G8cj4kyEP63+RaRYFeZJaFLRrKmGEUerGlIYuBvl4euX3l5P63pXTFSmnO61GmTuNp6EZklpVqxcxkPDrs2jtu6OWFV0ZS2QPW8M3MKOtGpIVqraVT67WDwznuffIgCeyzzYjq4zSeAr1IE9RaS6eWa8PSOaGQx/7b178jsqRwkqg+TuMp0IukQFTPv3/plaGLuJKkC2quj6N8/GgK9CIpEBXsqvX6kyQTY3vHcvcPHuYv9782mcWTGx3jvmcOAyjYl9FkrEibq2Wytx3G83u6s1x2yZzIHvrgcI57dx1UPn6RJmNFUmz7nqPTeuml3Z0qA2Tp8aefOsTEhWRG+9GxPKNjha0aK3vo5Z9cusxC8/FLE7oa1ilQoBdpc2FZKtWyV7qA5A7gTDWWn+Czu4/w4LNHpuzVW22+YVFP97RPOp08rKMFUyJtbHA4R1fIoqqw7JXte46ST2hvPszoWL6mDdnfOjfOg88eCf2k02nUoxdpU6Uea1DPttruTs3OU69W22a2lIZ+gnRinr569CJtKmhsHgplE6qtum1WnnqpvMP2D1/flNeLqxPz9BXoRdpUWM/0gnvVMegt61aE1srp7enm7jVL6m7b3WuW8Oq2W9m39WYG+nq5ImSLxWbX7OnUfWxjBXozW29mR83smJltDXj+U2b2spn9yMz+ysyWlj03YWYHi1+7K68VkZkJ65lG9VgH+nq5a82SaUG2FAQfHlgZO9h3ZzPT9oq9e80SHh5YOXnO4HCOt86PB14/d05z+5qXNPn1kiJyjN7MMsDngQ8AJ4GXzGy3u79cdtow0O/uZ83s48B/BjYWnxtz91UNbrdIx9uybkVg/nycHuvDAyvpX3plaOrhwwMreXXkH9j306lbPGe7jMsvncPo2Xxkjnt5GmRYhsy58Qu1/Mp1Gx3Ld2TmTZzJ2NXAMXc/DmBmTwAbgMlA7+4vlJ2/H7i7kY0UkenqKZZWuj7s3MHhHD987cyUYwZsXL14Sm897NryN6CklV0IW2OQZnECfS9wouzxSeDGKud/DPh22eNLzWwIGAe2uftg0EVmthnYDLBkSf1jhCKdoJ5iadUETfQ68MIrIzO6draUtl/s7emuqWRzpy2oamh6pZndDfQD7yk7vNTdc2b2TmCvmR12959WXuvuO4AdUCiB0Mh2iUhtZrIIq5ZzGiFjxh//zvWTgTnulo1QmMfopDo5cWYmcsDissdXFY9NYWbvB/4QuM3dz5WOu3uu+O9x4HtAXx3tFZEmmOlEb9xz4urOZrh7zZJp2yt2ZzNTgjwU5iyyXdF5PN3ZDDdds3BKkC9J64KqOIH+JeBqM1tuZnOBTcCU7Bkz6wO+RCHIv1F2fL6ZXVL8fgGwlrKxfRFJpqC9a+NO9AZdGxV+jUJK5mMbV01uo1jaYvHhgZVTtlcs33qx3EBfL5dfWn2QonTtC6+MRNbJSZPIoRt3Hzeze4A9QAZ43N2PmNlDwJC77wa2A5cDT1khzeo1d78NeBfwJTO7QOFNZVtFto6IJFCjd8W66ZqF0zY/KR9fL//ZUa9RKm9w766D09o1WqVMws+23Tr5/b27Doael8YFVbHG6N39W8C3Ko59puz794dc932g+hS9iCRSo3fFqpbOWU1lFk95eYPKcfVFIZOyvRXBO+w8o/aNT9qBat2ISFPM9I0jKounPF0y7tqCoPMMuGvNktRNxIICvYgkXC2ZPnGHnOpdg9BuFOhFJNHChlkqzymJ+8lhttYgJFFnFn4QkbYRlMVTLmmFygaHc6zdtpflW59j7ba9DA5Py0ZvOvXoRSTRKodZrujOYkbVejv1rnid6fUz3dVqtlfoqkcvIok30NfLvq038+jGVVx2SfWiaqVgmxsdw7kYbOP2rOu5vtr+vbPxenEp0ItIW4gbEGcSbBt1/UxKR9Tb3jgU6EWkLcQNiPXU6an3+pmUjqi3vXEo0ItIW4gbEOup01Pv9TMpHVFve+NQoBeRthA3INZTp6fe6wf6emPV5Wlke+NQ1o2ItIW4q14bsSFLvdfXkjHTjMVb5gnb/QUK9eiHhoZa3QwRSZhO2ShkJszsgLv3Bz2nHr2ItI1OWs3aSBqjFxFJOfXoRURq0I7DRwr0IiIxzbTEQasp0IuIxFRt0VYp0Ef1+FvxiUCBXkQkpqhFW1E9/lZ9Iog1GWtm683sqJkdM7OtAc9fYma7is//wMyWlT13X/H4UTNb17imi4g0V9SiragyDc2oaxMkMtCbWQb4PPBB4FrgTjO7tuK0jwGn3f2fAY8Cf1S89lpgE3AdsB74QvHniYi0nahVrFE9/mbUtQkSp0e/Gjjm7sfd/TzwBLCh4pwNwFeL338DeJ+ZWfH4E+5+zt1fBY4Vf56ISNuJKnEQ1eNvRl2bIHHG6HuBE2WPTwI3hp3j7uNmdgZ4e/H4/oprAweizGwzsBlgyZIlcdouItJ01RZtRZVpiFvGodESMxnr7juAHVAogdDi5oiI1Cyqbk2rNiWPE+hzwOKyx1cVjwWdc9LM5gBXAG/GvFZEJDWiyjS0ooxDnDH6l4CrzWy5mc2lMLm6u+Kc3cBHit9/GNjrhWppu4FNxayc5cDVwN80pukiIhJHZI++OOZ+D7AHyACPu/sRM3sIGHL33cCfA//DzI4Bpyi8GVA870ngZWAc+IS7TwS+kIiIzAqVKRYRSYFqZYpVvVJEJOUU6EVEUi4x6ZUiIp2i2YXNFOhFRJqoFYXNNHQjItJErShspkAvItJErShspkAvItJErShspkAvItJEUaWOZ4MmY0VEmqgVhc0U6EVEmqzZhc00dCMiknIK9CIiKadALyKScgr0IiIpp0AvIpJyiaxHb2YjwM9b3Y4WWwD8stWNSDjdo2i6R9HSco+WuvvCoCcSGegFzGwobBMBKdA9iqZ7FK0T7pGGbkREUk6BXkQk5RTok2tHqxvQBnSPoukeRUv9PdIYvYhIyqlHLyKScgr0IiIpp0DfYma23syOmtkxM9sa8PwlZrar+PwPzGxZ81vZWjHu0afM7GUz+5GZ/ZWZLW1FO1sp6h6VnXeHmbmZpTqdMEice2Rmv1P8WzpiZl9vdhtnjbvrq0VfQAb4KfBOYC5wCLi24pzfB75Y/H4TsKvV7U7gPboJmFf8/uO6R9PvUfG8twEvAvuB/la3O2n3CLgaGAbmFx//Sqvb3agv9ehbazVwzN2Pu/t54AlgQ8U5G4CvFr//BvA+M7MmtrHVIu+Ru7/g7meLD/cDVzW5ja0W5+8I4HPAHwH/2MzGJUSce/TvgM+7+2kAd3+jyW2cNQr0rdULnCh7fEtWWYMAAAGSSURBVLJ4LPAcdx8HzgBvb0rrkiHOPSr3MeDbs9qi5Im8R2b2bmCxuz/XzIYlSJy/o18Hft3M9pnZfjNb37TWzTLtMCWpYWZ3A/3Ae1rdliQxsy7gvwAfbXFTkm4OheGb91L4VPiima1099GWtqoB1KNvrRywuOzxVcVjgeeY2RzgCuDNprQuGeLcI8zs/cAfAre5+7kmtS0pou7R24DfAL5nZj8D1gC7O2xCNs7f0Ulgt7vn3f1V4CcUAn/bU6BvrZeAq81suZnNpTDZurvinN3AR4rffxjY68WZog4ReY/MrA/4EoUgn5px1RpUvUfufsbdF7j7MndfRmEe4zZ3H2pNc1sizv9rgxR685jZAgpDOceb2cjZokDfQsUx93uAPcCPgSfd/YiZPWRmtxVP+3Pg7WZ2DPgUEJo6l0Yx79F24HLgKTM7aGaV/wOnWsx71NFi3qM9wJtm9jLwArDF3VPx6VklEEREUk49ehGRlFOgFxFJOQV6EZGUU6AXEUk5BXoRkZRToBcRSTkFehGRlPv/GhICdh1BY6AAAAAASUVORK5CYII=)"
      ],
      "metadata": {
        "id": "MhbmMe5JBIpZ"
      }
    }
  ]
}