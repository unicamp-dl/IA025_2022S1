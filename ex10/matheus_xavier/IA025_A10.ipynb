{
  "cells": [
    {
      "cell_type": "markdown",
      "metadata": {
        "id": "view-in-github",
        "colab_type": "text"
      },
      "source": [
        "<a href=\"https://colab.research.google.com/github/flych3r/IA025_2022S1/blob/main/ex10/matheus_xavier/IA025_A10.ipynb\" target=\"_parent\"><img src=\"https://colab.research.google.com/assets/colab-badge.svg\" alt=\"Open In Colab\"/></a>"
      ]
    },
    {
      "cell_type": "code",
      "execution_count": null,
      "id": "b5ac4277",
      "metadata": {
        "execution": {
          "iopub.execute_input": "2022-06-06T14:40:34.494552Z",
          "iopub.status.busy": "2022-06-06T14:40:34.493768Z",
          "iopub.status.idle": "2022-06-06T14:40:34.504805Z",
          "shell.execute_reply": "2022-06-06T14:40:34.503839Z"
        },
        "id": "b5ac4277",
        "outputId": "9e0a187f-bf63-4cc3-ea7e-c6762e728621",
        "papermill": {
          "duration": 0.023087,
          "end_time": "2022-06-06T14:40:34.507165",
          "exception": false,
          "start_time": "2022-06-06T14:40:34.484078",
          "status": "completed"
        },
        "tags": []
      },
      "outputs": [
        {
          "name": "stdout",
          "output_type": "stream",
          "text": [
            "Meu nome é Matheus Xavier Sampaio - 220092\n"
          ]
        }
      ],
      "source": [
        "nome = 'Matheus Xavier Sampaio - 220092'\n",
        "print(f'Meu nome é {nome}')"
      ]
    },
    {
      "cell_type": "markdown",
      "id": "8067cc34",
      "metadata": {
        "id": "8067cc34",
        "papermill": {
          "duration": 0.00679,
          "end_time": "2022-06-06T14:40:34.522007",
          "exception": false,
          "start_time": "2022-06-06T14:40:34.515217",
          "status": "completed"
        },
        "tags": []
      },
      "source": [
        "#  Exercício: Modelo de Linguagem com auto-atenção"
      ]
    },
    {
      "cell_type": "markdown",
      "id": "89995798",
      "metadata": {
        "id": "89995798",
        "papermill": {
          "duration": 0.007068,
          "end_time": "2022-06-06T14:40:34.536118",
          "exception": false,
          "start_time": "2022-06-06T14:40:34.529050",
          "status": "completed"
        },
        "tags": []
      },
      "source": [
        "Este exercício é similar ao da Aula 8, mas iremos agora treinar uma rede neural com **duas camadas** de auto-atenção **causais** para prever a próxima palavra de um texto, data as palavras anteriores como entrada. \n",
        "\n",
        "Iremos também trabalhar com sequencias de tamanho variável.\n",
        "\n",
        "Na camada de auto-atenção, não se esqueça de implementar:\n",
        "- Embeddings de posição\n",
        "- Projeções lineares (WQ, WK, WV, WO)\n",
        "- Conexões residuais\n",
        "- Camada de feed forward (2-layer MLP)\n",
        "\n",
        "\n",
        "O dataset usado neste exercício (BrWaC) possui um tamanho razoável e você vai precisar rodar seus experimentos com GPU.\n",
        "\n",
        "Alguns conselhos úteis:\n",
        "- **ATENÇÃO:** o dataset é bem grande. Não dê comando de imprimí-lo.\n",
        "- Durante a depuração, faça seu dataset ficar bem pequeno, para que a depuração seja mais rápida e não precise de GPU. Somente ligue a GPU quando o seu laço de treinamento já está funcionando\n",
        "- Não deixe para fazer esse exercício na véspera. Ele é trabalhoso."
      ]
    },
    {
      "cell_type": "code",
      "execution_count": null,
      "id": "30733287",
      "metadata": {
        "execution": {
          "iopub.execute_input": "2022-06-06T14:40:34.552101Z",
          "iopub.status.busy": "2022-06-06T14:40:34.551492Z",
          "iopub.status.idle": "2022-06-06T14:40:45.055409Z",
          "shell.execute_reply": "2022-06-06T14:40:45.054416Z"
        },
        "id": "30733287",
        "outputId": "62feadae-3008-470e-b67c-9fe0c6f48f2d",
        "papermill": {
          "duration": 10.514105,
          "end_time": "2022-06-06T14:40:45.057758",
          "exception": false,
          "start_time": "2022-06-06T14:40:34.543653",
          "status": "completed"
        },
        "tags": []
      },
      "outputs": [
        {
          "name": "stdout",
          "output_type": "stream",
          "text": [
            "Requirement already satisfied: transformers in /opt/conda/lib/python3.7/site-packages (4.18.0)\r\n",
            "Requirement already satisfied: huggingface-hub<1.0,>=0.1.0 in /opt/conda/lib/python3.7/site-packages (from transformers) (0.5.1)\r\n",
            "Requirement already satisfied: tqdm>=4.27 in /opt/conda/lib/python3.7/site-packages (from transformers) (4.64.0)\r\n",
            "Requirement already satisfied: packaging>=20.0 in /opt/conda/lib/python3.7/site-packages (from transformers) (21.3)\r\n",
            "Requirement already satisfied: regex!=2019.12.17 in /opt/conda/lib/python3.7/site-packages (from transformers) (2021.11.10)\r\n",
            "Requirement already satisfied: pyyaml>=5.1 in /opt/conda/lib/python3.7/site-packages (from transformers) (6.0)\r\n",
            "Requirement already satisfied: tokenizers!=0.11.3,<0.13,>=0.11.1 in /opt/conda/lib/python3.7/site-packages (from transformers) (0.12.1)\r\n",
            "Requirement already satisfied: numpy>=1.17 in /opt/conda/lib/python3.7/site-packages (from transformers) (1.21.6)\r\n",
            "Requirement already satisfied: requests in /opt/conda/lib/python3.7/site-packages (from transformers) (2.27.1)\r\n",
            "Requirement already satisfied: filelock in /opt/conda/lib/python3.7/site-packages (from transformers) (3.6.0)\r\n",
            "Requirement already satisfied: importlib-metadata in /opt/conda/lib/python3.7/site-packages (from transformers) (4.11.4)\r\n",
            "Requirement already satisfied: sacremoses in /opt/conda/lib/python3.7/site-packages (from transformers) (0.0.53)\r\n",
            "Requirement already satisfied: typing-extensions>=3.7.4.3 in /opt/conda/lib/python3.7/site-packages (from huggingface-hub<1.0,>=0.1.0->transformers) (4.2.0)\r\n",
            "Requirement already satisfied: pyparsing!=3.0.5,>=2.0.2 in /opt/conda/lib/python3.7/site-packages (from packaging>=20.0->transformers) (3.0.9)\r\n",
            "Requirement already satisfied: zipp>=0.5 in /opt/conda/lib/python3.7/site-packages (from importlib-metadata->transformers) (3.8.0)\r\n",
            "Requirement already satisfied: urllib3<1.27,>=1.21.1 in /opt/conda/lib/python3.7/site-packages (from requests->transformers) (1.26.9)\r\n",
            "Requirement already satisfied: certifi>=2017.4.17 in /opt/conda/lib/python3.7/site-packages (from requests->transformers) (2022.5.18.1)\r\n",
            "Requirement already satisfied: idna<4,>=2.5 in /opt/conda/lib/python3.7/site-packages (from requests->transformers) (3.3)\r\n",
            "Requirement already satisfied: charset-normalizer~=2.0.0 in /opt/conda/lib/python3.7/site-packages (from requests->transformers) (2.0.12)\r\n",
            "Requirement already satisfied: click in /opt/conda/lib/python3.7/site-packages (from sacremoses->transformers) (8.0.4)\r\n",
            "Requirement already satisfied: joblib in /opt/conda/lib/python3.7/site-packages (from sacremoses->transformers) (1.1.0)\r\n",
            "Requirement already satisfied: six in /opt/conda/lib/python3.7/site-packages (from sacremoses->transformers) (1.16.0)\r\n",
            "\u001b[33mWARNING: Running pip as the 'root' user can result in broken permissions and conflicting behaviour with the system package manager. It is recommended to use a virtual environment instead: https://pip.pypa.io/warnings/venv\u001b[0m\u001b[33m\r\n",
            "\u001b[0m"
          ]
        }
      ],
      "source": [
        "# iremos utilizar a biblioteca dos transformers para ter acesso ao tokenizador do BERT.\n",
        "!pip install transformers"
      ]
    },
    {
      "cell_type": "markdown",
      "id": "4194fe64",
      "metadata": {
        "id": "4194fe64",
        "papermill": {
          "duration": 0.007529,
          "end_time": "2022-06-06T14:40:45.073349",
          "exception": false,
          "start_time": "2022-06-06T14:40:45.065820",
          "status": "completed"
        },
        "tags": []
      },
      "source": [
        "# Importação dos pacotes"
      ]
    },
    {
      "cell_type": "code",
      "execution_count": null,
      "id": "8da8abb1",
      "metadata": {
        "execution": {
          "iopub.execute_input": "2022-06-06T14:40:45.089347Z",
          "iopub.status.busy": "2022-06-06T14:40:45.089007Z",
          "iopub.status.idle": "2022-06-06T14:40:51.879896Z",
          "shell.execute_reply": "2022-06-06T14:40:51.879115Z"
        },
        "id": "8da8abb1",
        "papermill": {
          "duration": 6.801262,
          "end_time": "2022-06-06T14:40:51.881916",
          "exception": false,
          "start_time": "2022-06-06T14:40:45.080654",
          "status": "completed"
        },
        "tags": []
      },
      "outputs": [],
      "source": [
        "import collections\n",
        "import functools\n",
        "import itertools\n",
        "import math\n",
        "import random\n",
        "from itertools import chain\n",
        "from typing import List\n",
        "\n",
        "import numpy as np\n",
        "import torch\n",
        "from torch.utils.data import DataLoader\n",
        "from tqdm.auto import tqdm\n",
        "from transformers import AutoTokenizer"
      ]
    },
    {
      "cell_type": "code",
      "execution_count": null,
      "id": "6b3a6537",
      "metadata": {
        "execution": {
          "iopub.execute_input": "2022-06-06T14:40:51.898744Z",
          "iopub.status.busy": "2022-06-06T14:40:51.898000Z",
          "iopub.status.idle": "2022-06-06T14:40:52.597896Z",
          "shell.execute_reply": "2022-06-06T14:40:52.596925Z"
        },
        "id": "6b3a6537",
        "outputId": "47281b5b-94d4-44cc-bb01-11c651ff21de",
        "papermill": {
          "duration": 0.710327,
          "end_time": "2022-06-06T14:40:52.599959",
          "exception": false,
          "start_time": "2022-06-06T14:40:51.889632",
          "status": "completed"
        },
        "tags": []
      },
      "outputs": [
        {
          "name": "stdout",
          "output_type": "stream",
          "text": [
            "Mon Jun  6 14:40:52 2022       \r\n",
            "+-----------------------------------------------------------------------------+\r\n",
            "| NVIDIA-SMI 470.82.01    Driver Version: 470.82.01    CUDA Version: 11.4     |\r\n",
            "|-------------------------------+----------------------+----------------------+\r\n",
            "| GPU  Name        Persistence-M| Bus-Id        Disp.A | Volatile Uncorr. ECC |\r\n",
            "| Fan  Temp  Perf  Pwr:Usage/Cap|         Memory-Usage | GPU-Util  Compute M. |\r\n",
            "|                               |                      |               MIG M. |\r\n",
            "|===============================+======================+======================|\r\n",
            "|   0  Tesla P100-PCIE...  Off  | 00000000:00:04.0 Off |                    0 |\r\n",
            "| N/A   34C    P0    25W / 250W |      0MiB / 16280MiB |      0%      Default |\r\n",
            "|                               |                      |                  N/A |\r\n",
            "+-------------------------------+----------------------+----------------------+\r\n",
            "                                                                               \r\n",
            "+-----------------------------------------------------------------------------+\r\n",
            "| Processes:                                                                  |\r\n",
            "|  GPU   GI   CI        PID   Type   Process name                  GPU Memory |\r\n",
            "|        ID   ID                                                   Usage      |\r\n",
            "|=============================================================================|\r\n",
            "|  No running processes found                                                 |\r\n",
            "+-----------------------------------------------------------------------------+\r\n"
          ]
        }
      ],
      "source": [
        "# Check which GPU we are using\n",
        "!nvidia-smi"
      ]
    },
    {
      "cell_type": "code",
      "execution_count": null,
      "id": "a1af0e4a",
      "metadata": {
        "execution": {
          "iopub.execute_input": "2022-06-06T14:40:52.618558Z",
          "iopub.status.busy": "2022-06-06T14:40:52.617802Z",
          "iopub.status.idle": "2022-06-06T14:40:52.688056Z",
          "shell.execute_reply": "2022-06-06T14:40:52.687201Z"
        },
        "id": "a1af0e4a",
        "outputId": "0a38a01e-eb39-4404-f384-771beefcd720",
        "papermill": {
          "duration": 0.083475,
          "end_time": "2022-06-06T14:40:52.691285",
          "exception": false,
          "start_time": "2022-06-06T14:40:52.607810",
          "status": "completed"
        },
        "tags": []
      },
      "outputs": [
        {
          "name": "stdout",
          "output_type": "stream",
          "text": [
            "Using cuda:0\n"
          ]
        }
      ],
      "source": [
        "if torch.cuda.is_available(): \n",
        "    dev = \"cuda:0\"\n",
        "else: \n",
        "    dev = \"cpu\"\n",
        "device = torch.device(dev)\n",
        "print('Using {}'.format(device))"
      ]
    },
    {
      "cell_type": "code",
      "execution_count": null,
      "id": "2ed402fc",
      "metadata": {
        "execution": {
          "iopub.execute_input": "2022-06-06T14:40:52.709667Z",
          "iopub.status.busy": "2022-06-06T14:40:52.709367Z",
          "iopub.status.idle": "2022-06-06T14:40:52.723852Z",
          "shell.execute_reply": "2022-06-06T14:40:52.723123Z"
        },
        "papermill": {
          "duration": 0.024595,
          "end_time": "2022-06-06T14:40:52.725536",
          "exception": false,
          "start_time": "2022-06-06T14:40:52.700941",
          "status": "completed"
        },
        "tags": [],
        "id": "2ed402fc",
        "outputId": "66caec58-023f-4392-ee69-3036931f4750"
      },
      "outputs": [
        {
          "data": {
            "text/plain": [
              "<torch._C.Generator at 0x7f1eee530550>"
            ]
          },
          "execution_count": 6,
          "metadata": {},
          "output_type": "execute_result"
        }
      ],
      "source": [
        "random.seed(123)\n",
        "np.random.seed(123)\n",
        "torch.manual_seed(123)"
      ]
    },
    {
      "cell_type": "markdown",
      "id": "86f6fa87",
      "metadata": {
        "id": "86f6fa87",
        "papermill": {
          "duration": 0.007958,
          "end_time": "2022-06-06T14:40:52.741251",
          "exception": false,
          "start_time": "2022-06-06T14:40:52.733293",
          "status": "completed"
        },
        "tags": []
      },
      "source": [
        "# Implementação do MyDataset"
      ]
    },
    {
      "cell_type": "code",
      "execution_count": null,
      "id": "2e92f768",
      "metadata": {
        "execution": {
          "iopub.execute_input": "2022-06-06T14:40:52.758310Z",
          "iopub.status.busy": "2022-06-06T14:40:52.757579Z",
          "iopub.status.idle": "2022-06-06T14:40:52.771238Z",
          "shell.execute_reply": "2022-06-06T14:40:52.770505Z"
        },
        "id": "2e92f768",
        "papermill": {
          "duration": 0.023893,
          "end_time": "2022-06-06T14:40:52.772848",
          "exception": false,
          "start_time": "2022-06-06T14:40:52.748955",
          "status": "completed"
        },
        "tags": []
      },
      "outputs": [],
      "source": [
        "def tokenize(texts: List[str], tokenizer: AutoTokenizer):\n",
        "    # Recomenda-se usar o tokenizer.batch_encode_plus pois é mais rápido.\n",
        "    if not texts:\n",
        "        return []\n",
        "    return tokenizer.batch_encode_plus(texts, return_tensors=None, add_special_tokens=False).input_ids\n",
        "\n",
        "\n",
        "class MyDataset():\n",
        "    def __init__(self, texts: List[str], tokenizer, max_seq_length: int, batch_size: int = 256):\n",
        "        self.tokenizer = tokenizer\n",
        "        self.max_seq_length = max_seq_length\n",
        "        self.cls_token = tokenize(['[CLS]'], tokenizer)[0][0]\n",
        "        self.pad_token = tokenize(['[PAD]'], tokenizer)[0][0]\n",
        "        self.tokens, self.indexes = self._tokenize_texts(texts, batch_size)\n",
        "\n",
        "    def __len__(self):\n",
        "        return len(self.indexes)\n",
        "\n",
        "    def __getitem__(self, idx):\n",
        "        tokens_idx, tokens_chunk = self.indexes[idx]\n",
        "        input = self.tokens[tokens_idx]\n",
        "        input = input[tokens_chunk * self.max_seq_length:(tokens_chunk + 1) * self.max_seq_length]\n",
        "        input = self._pad_tokens(input)\n",
        "\n",
        "        input = torch.LongTensor(input)\n",
        "        target = input.roll(shifts=-1)\n",
        "        target[-1] = self.pad_token\n",
        "        return input, target\n",
        "\n",
        "    def _tokenize_texts(self, texts, batch_size):\n",
        "        input_ids = chain(*list((\n",
        "            tokenize(texts[i * batch_size: (i + 1) * batch_size], self.tokenizer) \n",
        "            for i in tqdm(range(math.ceil(len(texts) / batch_size)))\n",
        "        )))\n",
        "\n",
        "        tokens = dict()\n",
        "        indexes = list()\n",
        "    \n",
        "        for idx, tkns in enumerate(input_ids):\n",
        "            tkns = [self.cls_token] + tkns\n",
        "            tokens[idx] = tkns\n",
        "            n_chunks = math.ceil(len(tkns) / self.max_seq_length)\n",
        "            indexes.extend([(idx, i) for i in range(n_chunks)])\n",
        "\n",
        "        return tokens, indexes\n",
        "    \n",
        "    def _pad_tokens(self, tokens):\n",
        "        return (tokens + ([self.pad_token] * self.max_seq_length))[:self.max_seq_length]"
      ]
    },
    {
      "cell_type": "markdown",
      "id": "2a312871",
      "metadata": {
        "id": "2a312871",
        "papermill": {
          "duration": 0.007593,
          "end_time": "2022-06-06T14:40:52.788242",
          "exception": false,
          "start_time": "2022-06-06T14:40:52.780649",
          "status": "completed"
        },
        "tags": []
      },
      "source": [
        "## Testando se a implementação do MyDataset está correta"
      ]
    },
    {
      "cell_type": "code",
      "execution_count": null,
      "id": "43ece9e1",
      "metadata": {
        "execution": {
          "iopub.execute_input": "2022-06-06T14:40:52.804987Z",
          "iopub.status.busy": "2022-06-06T14:40:52.804680Z",
          "iopub.status.idle": "2022-06-06T14:40:58.520396Z",
          "shell.execute_reply": "2022-06-06T14:40:58.518911Z"
        },
        "id": "43ece9e1",
        "outputId": "d7bbb9bd-d3e8-4fa0-914d-40468817806c",
        "papermill": {
          "duration": 5.726836,
          "end_time": "2022-06-06T14:40:58.522841",
          "exception": false,
          "start_time": "2022-06-06T14:40:52.796005",
          "status": "completed"
        },
        "tags": [],
        "colab": {
          "referenced_widgets": [
            "93f820c61d4348ec95eaee69f25fb655",
            "e6ffcd3b9d3b4ac8a6831c6078cadeb6",
            "a8314e2b41674401a53ab062559f7ec0",
            "1f0d310b17b84096ad755aff59e96f25",
            "103abd45151545139cb0c4ab443cae71",
            "ebdc98966b1842639e761b5e722b198f"
          ]
        }
      },
      "outputs": [
        {
          "data": {
            "application/vnd.jupyter.widget-view+json": {
              "model_id": "93f820c61d4348ec95eaee69f25fb655",
              "version_major": 2,
              "version_minor": 0
            },
            "text/plain": [
              "Downloading:   0%|          | 0.00/43.0 [00:00<?, ?B/s]"
            ]
          },
          "metadata": {},
          "output_type": "display_data"
        },
        {
          "data": {
            "application/vnd.jupyter.widget-view+json": {
              "model_id": "e6ffcd3b9d3b4ac8a6831c6078cadeb6",
              "version_major": 2,
              "version_minor": 0
            },
            "text/plain": [
              "Downloading:   0%|          | 0.00/647 [00:00<?, ?B/s]"
            ]
          },
          "metadata": {},
          "output_type": "display_data"
        },
        {
          "data": {
            "application/vnd.jupyter.widget-view+json": {
              "model_id": "a8314e2b41674401a53ab062559f7ec0",
              "version_major": 2,
              "version_minor": 0
            },
            "text/plain": [
              "Downloading:   0%|          | 0.00/205k [00:00<?, ?B/s]"
            ]
          },
          "metadata": {},
          "output_type": "display_data"
        },
        {
          "data": {
            "application/vnd.jupyter.widget-view+json": {
              "model_id": "1f0d310b17b84096ad755aff59e96f25",
              "version_major": 2,
              "version_minor": 0
            },
            "text/plain": [
              "Downloading:   0%|          | 0.00/2.00 [00:00<?, ?B/s]"
            ]
          },
          "metadata": {},
          "output_type": "display_data"
        },
        {
          "data": {
            "application/vnd.jupyter.widget-view+json": {
              "model_id": "103abd45151545139cb0c4ab443cae71",
              "version_major": 2,
              "version_minor": 0
            },
            "text/plain": [
              "Downloading:   0%|          | 0.00/112 [00:00<?, ?B/s]"
            ]
          },
          "metadata": {},
          "output_type": "display_data"
        },
        {
          "data": {
            "application/vnd.jupyter.widget-view+json": {
              "model_id": "ebdc98966b1842639e761b5e722b198f",
              "version_major": 2,
              "version_minor": 0
            },
            "text/plain": [
              "  0%|          | 0/1 [00:00<?, ?it/s]"
            ]
          },
          "metadata": {},
          "output_type": "display_data"
        },
        {
          "name": "stdout",
          "output_type": "stream",
          "text": [
            "Passou no assert de tamanho do dataset.\n",
            "Passou no assert de dataset.\n"
          ]
        }
      ],
      "source": [
        "tokenizer = AutoTokenizer.from_pretrained(\"neuralmind/bert-base-portuguese-cased\")\n",
        "\n",
        "dummy_texts = ['Eu gosto de correr', 'Ela gosta muito de comer pizza']\n",
        "\n",
        "dummy_dataset = MyDataset(texts=dummy_texts, tokenizer=tokenizer, max_seq_length=9)\n",
        "dummy_loader = DataLoader(dummy_dataset, batch_size=6, shuffle=False)\n",
        "assert len(dummy_dataset) == 2\n",
        "print('Passou no assert de tamanho do dataset.')\n",
        "\n",
        "first_batch_input, first_batch_target = next(iter(dummy_loader))\n",
        "\n",
        "correct_first_batch_input = torch.LongTensor([\n",
        "    [  101,  3396, 10303,   125, 13239,     0,     0,     0,     0],\n",
        "    [  101,  1660,  5971,   785,   125,  1847, 13779, 15616,     0]\n",
        "])\n",
        "\n",
        "correct_first_batch_target = torch.LongTensor([\n",
        "    [ 3396, 10303,   125, 13239,     0,     0,     0,     0,     0],\n",
        "    [ 1660,  5971,   785,   125,  1847, 13779, 15616,     0,     0]\n",
        "])\n",
        "\n",
        "assert torch.equal(first_batch_input, correct_first_batch_input)\n",
        "assert torch.equal(first_batch_target, correct_first_batch_target)\n",
        "\n",
        "print('Passou no assert de dataset.')"
      ]
    },
    {
      "cell_type": "markdown",
      "id": "ecc4a81d",
      "metadata": {
        "id": "ecc4a81d",
        "papermill": {
          "duration": 0.011094,
          "end_time": "2022-06-06T14:40:58.546767",
          "exception": false,
          "start_time": "2022-06-06T14:40:58.535673",
          "status": "completed"
        },
        "tags": []
      },
      "source": [
        "# Carregamento do dataset "
      ]
    },
    {
      "cell_type": "markdown",
      "id": "ad86e63d",
      "metadata": {
        "id": "ad86e63d",
        "papermill": {
          "duration": 0.011161,
          "end_time": "2022-06-06T14:40:58.569593",
          "exception": false,
          "start_time": "2022-06-06T14:40:58.558432",
          "status": "completed"
        },
        "tags": []
      },
      "source": [
        "Iremos usar uma pequena amostra do dataset [BrWaC](https://www.inf.ufrgs.br/pln/wiki/index.php?title=BrWaC) para treinar e avaliar nosso modelo de linguagem."
      ]
    },
    {
      "cell_type": "code",
      "execution_count": null,
      "id": "6fc55af2",
      "metadata": {
        "execution": {
          "iopub.execute_input": "2022-06-06T14:40:58.593351Z",
          "iopub.status.busy": "2022-06-06T14:40:58.592833Z",
          "iopub.status.idle": "2022-06-06T14:41:04.085726Z",
          "shell.execute_reply": "2022-06-06T14:41:04.084716Z"
        },
        "id": "6fc55af2",
        "outputId": "54e71316-3737-4bee-d19a-2cc916bacfa3",
        "papermill": {
          "duration": 5.507376,
          "end_time": "2022-06-06T14:41:04.088018",
          "exception": false,
          "start_time": "2022-06-06T14:40:58.580642",
          "status": "completed"
        },
        "tags": []
      },
      "outputs": [
        {
          "name": "stdout",
          "output_type": "stream",
          "text": [
            "huggingface/tokenizers: The current process just got forked, after parallelism has already been used. Disabling parallelism to avoid deadlocks...\n",
            "To disable this warning, you can either:\n",
            "\t- Avoid using `tokenizers` before the fork if possible\n",
            "\t- Explicitly set the environment variable TOKENIZERS_PARALLELISM=(true | false)\n",
            "--2022-06-06 14:40:59--  https://storage.googleapis.com/unicamp-dl/ia025a_2022s1/aula9/sample-1gb.txt\r\n",
            "Resolving storage.googleapis.com (storage.googleapis.com)... 172.217.193.128, 173.194.214.128, 142.251.107.128, ...\r\n",
            "Connecting to storage.googleapis.com (storage.googleapis.com)|172.217.193.128|:443... connected.\r\n",
            "HTTP request sent, awaiting response... 200 OK\r\n",
            "Length: 1230909256 (1.1G) [text/plain]\r\n",
            "Saving to: ‘sample-1gb.txt’\r\n",
            "\r\n",
            "sample-1gb.txt      100%[===================>]   1.15G   258MB/s    in 4.5s    \r\n",
            "\r\n",
            "2022-06-06 14:41:03 (259 MB/s) - ‘sample-1gb.txt’ saved [1230909256/1230909256]\r\n",
            "\r\n"
          ]
        }
      ],
      "source": [
        "!wget -nc https://storage.googleapis.com/unicamp-dl/ia025a_2022s1/aula9/sample-1gb.txt"
      ]
    },
    {
      "cell_type": "code",
      "execution_count": null,
      "id": "c3dd5073",
      "metadata": {
        "execution": {
          "iopub.execute_input": "2022-06-06T14:41:04.110770Z",
          "iopub.status.busy": "2022-06-06T14:41:04.110429Z",
          "iopub.status.idle": "2022-06-06T14:45:22.966670Z",
          "shell.execute_reply": "2022-06-06T14:45:22.965767Z"
        },
        "id": "c3dd5073",
        "outputId": "13cd3045-8b5a-46b5-d8b8-ef97dab18d20",
        "papermill": {
          "duration": 258.870659,
          "end_time": "2022-06-06T14:45:22.969554",
          "exception": false,
          "start_time": "2022-06-06T14:41:04.098895",
          "status": "completed"
        },
        "tags": [],
        "colab": {
          "referenced_widgets": [
            "0360448fb2ba4f2089469811b311d1c1",
            "90c6d8df65e446cbad36fcb058fbb703",
            "e36e8878910a4cefa063a0634ba5ea91"
          ]
        }
      },
      "outputs": [
        {
          "name": "stdout",
          "output_type": "stream",
          "text": [
            "Read 250000 lines.\n",
            "Truncating to 100200 lines.\n"
          ]
        },
        {
          "data": {
            "application/vnd.jupyter.widget-view+json": {
              "model_id": "0360448fb2ba4f2089469811b311d1c1",
              "version_major": 2,
              "version_minor": 0
            },
            "text/plain": [
              "  0%|          | 0/391 [00:00<?, ?it/s]"
            ]
          },
          "metadata": {},
          "output_type": "display_data"
        },
        {
          "data": {
            "application/vnd.jupyter.widget-view+json": {
              "model_id": "90c6d8df65e446cbad36fcb058fbb703",
              "version_major": 2,
              "version_minor": 0
            },
            "text/plain": [
              "  0%|          | 0/1 [00:00<?, ?it/s]"
            ]
          },
          "metadata": {},
          "output_type": "display_data"
        },
        {
          "data": {
            "application/vnd.jupyter.widget-view+json": {
              "model_id": "e36e8878910a4cefa063a0634ba5ea91",
              "version_major": 2,
              "version_minor": 0
            },
            "text/plain": [
              "  0%|          | 0/1 [00:00<?, ?it/s]"
            ]
          },
          "metadata": {},
          "output_type": "display_data"
        }
      ],
      "source": [
        "# Load datasets\n",
        "max_seq_length = 16\n",
        "\n",
        "train_examples = 500\n",
        "train_examples = 100000\n",
        "valid_examples = 100\n",
        "test_examples = 100\n",
        "\n",
        "texts = open('sample-1gb.txt').readlines()\n",
        "\n",
        "print(f'Read {len(texts)} lines.')\n",
        "\n",
        "max_lines = train_examples + valid_examples + test_examples\n",
        "print(f'Truncating to {max_lines} lines.')\n",
        "texts = texts[:max_lines]  \n",
        "\n",
        "training_texts = texts[:-(valid_examples + test_examples)]\n",
        "valid_texts = texts[-(valid_examples + test_examples):-test_examples]\n",
        "test_texts = texts[-test_examples:]\n",
        "\n",
        "training_dataset = MyDataset(texts=training_texts, tokenizer=tokenizer, max_seq_length=max_seq_length)\n",
        "valid_dataset = MyDataset(texts=valid_texts, tokenizer=tokenizer, max_seq_length=max_seq_length)\n",
        "test_dataset = MyDataset(texts=test_texts, tokenizer=tokenizer, max_seq_length=max_seq_length)"
      ]
    },
    {
      "cell_type": "code",
      "execution_count": null,
      "id": "b145c661",
      "metadata": {
        "execution": {
          "iopub.execute_input": "2022-06-06T14:45:22.994708Z",
          "iopub.status.busy": "2022-06-06T14:45:22.993389Z",
          "iopub.status.idle": "2022-06-06T14:45:23.000430Z",
          "shell.execute_reply": "2022-06-06T14:45:22.999707Z"
        },
        "id": "b145c661",
        "outputId": "d143bf3e-c713-4c21-bbd0-a46d4d357f53",
        "papermill": {
          "duration": 0.020933,
          "end_time": "2022-06-06T14:45:23.002224",
          "exception": false,
          "start_time": "2022-06-06T14:45:22.981291",
          "status": "completed"
        },
        "tags": []
      },
      "outputs": [
        {
          "name": "stdout",
          "output_type": "stream",
          "text": [
            "training examples: 7045971\n",
            "valid examples: 7887\n",
            "test examples: 7009\n"
          ]
        }
      ],
      "source": [
        "print(f'training examples: {len(training_dataset)}')\n",
        "print(f'valid examples: {len(valid_dataset)}')\n",
        "print(f'test examples: {len(test_dataset)}')"
      ]
    },
    {
      "cell_type": "markdown",
      "id": "cd8da8b5",
      "metadata": {
        "papermill": {
          "duration": 0.010832,
          "end_time": "2022-06-06T14:45:23.024578",
          "exception": false,
          "start_time": "2022-06-06T14:45:23.013746",
          "status": "completed"
        },
        "tags": [],
        "id": "cd8da8b5"
      },
      "source": [
        "# Modelo de Linguagem"
      ]
    },
    {
      "cell_type": "code",
      "execution_count": 26,
      "id": "91938d9c",
      "metadata": {
        "execution": {
          "iopub.execute_input": "2022-06-06T14:45:23.048351Z",
          "iopub.status.busy": "2022-06-06T14:45:23.048014Z",
          "iopub.status.idle": "2022-06-06T14:45:23.077381Z",
          "shell.execute_reply": "2022-06-06T14:45:23.076576Z"
        },
        "id": "91938d9c",
        "papermill": {
          "duration": 0.043251,
          "end_time": "2022-06-06T14:45:23.079008",
          "exception": false,
          "start_time": "2022-06-06T14:45:23.035757",
          "status": "completed"
        },
        "tags": []
      },
      "outputs": [],
      "source": [
        "class SequenceWithParams(torch.nn.Sequential):\n",
        "    def forward(self, input, *args, **kwargs):\n",
        "        \"\"\"\n",
        "        Forward parameters to modules in a sequential container\n",
        "\n",
        "        Args:\n",
        "            *args: sequence of arguments\n",
        "            **kwargs: sequence of named arguments\n",
        "        \"\"\"\n",
        "        for module in self:\n",
        "            input = module(input, *args, **kwargs)\n",
        "        return input\n",
        "\n",
        "\n",
        "class MultiHeadAttentionBlock(torch.nn.Module):\n",
        "    def __init__(\n",
        "        self,\n",
        "        num_heads: int,\n",
        "        max_seq_length: int,\n",
        "        dim: int,\n",
        "        p: float = 0.1,\n",
        "    ):\n",
        "        \"\"\"\n",
        "        Implements the Multihead-attention\n",
        "\n",
        "        Args:\n",
        "            max_seq_length (int): size of the sequence to consider as context for prediction.\n",
        "            dim (int): Dimension of the embedding layer for each word in the context.\n",
        "            num_heads (int): number of attention heads\n",
        "            p (float): dropout rate\n",
        "        \"\"\"\n",
        "        super(MultiHeadAttentionBlock, self).__init__()\n",
        "\n",
        "        self.max_seq_length = max_seq_length\n",
        "        self.dim = dim\n",
        "        self.num_heads = num_heads\n",
        "        self.p = p\n",
        "\n",
        "        self.causal_mask = torch.tril(\n",
        "            torch.ones(self.max_seq_length, self.max_seq_length)\n",
        "        ).bool()\n",
        "\n",
        "        self.dropout = torch.nn.Dropout(p=p)\n",
        "\n",
        "        self.Wq = torch.nn.Linear(\n",
        "            in_features=self.dim, out_features=self.dim, bias=False\n",
        "        )\n",
        "        self.Wk = torch.nn.Linear(\n",
        "            in_features=self.dim, out_features=self.dim, bias=False\n",
        "        )\n",
        "        self.Wv = torch.nn.Linear(\n",
        "            in_features=self.dim, out_features=self.dim, bias=False\n",
        "        )\n",
        "\n",
        "        self.softmax = torch.nn.Softmax(dim=-1)\n",
        "\n",
        "    def forward(self, inputs: torch.LongTensor, attn_mask: torch.BoolTensor):\n",
        "        \"\"\"\n",
        "        Args:\n",
        "            inputs is a LongTensor of shape (batch_size, max_seq_length, dim)\n",
        "            attn_mask is a BoolTensor of shape (batch_size, 1, 1, max_seq_length)\n",
        "\n",
        "        Returns:\n",
        "            attention mask (batch_size, max_seq_length, dim)\n",
        "        \"\"\"\n",
        "        causal_mask = self.causal_mask.to(inputs.device)\n",
        "\n",
        "        X = self.dropout(inputs)\n",
        "\n",
        "        Q = self.Wq(X).reshape(\n",
        "            -1, self.max_seq_length, self.num_heads, self.dim // self.num_heads\n",
        "        )\n",
        "        K = self.Wk(X).reshape(\n",
        "            -1, self.max_seq_length, self.num_heads, self.dim // self.num_heads\n",
        "        )\n",
        "        V = self.Wv(X).reshape(\n",
        "            -1, self.max_seq_length, self.num_heads, self.dim // self.num_heads\n",
        "        )\n",
        "        Q, K, V = Q.transpose(1, 2), K.transpose(1, 2), V.transpose(1, 2)\n",
        "\n",
        "        scores = Q @ torch.transpose(K, 2, 3) / math.sqrt(self.dim)\n",
        "        scores = scores.masked_fill(~causal_mask | ~attn_mask, -1e9)\n",
        "        probs = self.softmax(scores)\n",
        "\n",
        "        E = probs @ V\n",
        "        E = E.transpose(1, 2).contiguous().reshape(-1, self.max_seq_length, self.dim)\n",
        "        return E\n",
        "\n",
        "\n",
        "class LanguageModel(torch.nn.Module):\n",
        "    def __init__(\n",
        "        self,\n",
        "        vocab_size: int,\n",
        "        max_seq_length: int,\n",
        "        dim: int,\n",
        "        n_layers: int,\n",
        "        pad_token_id: int,\n",
        "        hidden_size: int = 768,\n",
        "        num_heads: int = 4,\n",
        "        p: float = 0.1,\n",
        "    ):\n",
        "        \"\"\"\n",
        "        Implements the Self-attention, decoder-only.\"\n",
        "\n",
        "        Args:\n",
        "            vocab_size (int): size of the input vocabulary.\n",
        "            max_seq_length (int): size of the sequence to consider as context for prediction.\n",
        "            dim (int): Dimension of the embedding layer for each word in the context.\n",
        "            n_layers (int): number of self-attention layers.\n",
        "            pad_token_id (int): id of the pad token that will be ignored in the attention.\n",
        "            hidden_size (int): size of the mlp block\n",
        "            num_heads (int): number of attention heads\n",
        "            p (float): dropout rate\n",
        "        \"\"\"\n",
        "        super(LanguageModel, self).__init__()\n",
        "\n",
        "        self.vocab_size = vocab_size\n",
        "        self.max_seq_length = max_seq_length\n",
        "        self.dim = dim\n",
        "        self.pad_token_id = pad_token_id\n",
        "\n",
        "        self._positions = torch.arange(self.max_seq_length, dtype=torch.long).unsqueeze(0)\n",
        "\n",
        "        self.C = torch.nn.Embedding(\n",
        "            num_embeddings=self.vocab_size, embedding_dim=self.dim, padding_idx=self.pad_token_id\n",
        "        )\n",
        "        self.P = torch.nn.Embedding(\n",
        "            num_embeddings=self.max_seq_length, embedding_dim=self.dim, padding_idx=self.pad_token_id\n",
        "        )\n",
        "\n",
        "        self.attention = SequenceWithParams(\n",
        "            *[\n",
        "                MultiHeadAttentionBlock(\n",
        "                    num_heads, self.max_seq_length, self.dim, self.pad_token_id\n",
        "                )\n",
        "                for _ in range(n_layers)\n",
        "            ]\n",
        "        )\n",
        "        self.Wo = torch.nn.Linear(\n",
        "            in_features=self.dim, out_features=self.dim, bias=False\n",
        "        )\n",
        "\n",
        "        self.feed_forward = torch.nn.Sequential(\n",
        "            torch.nn.LayerNorm(self.dim),\n",
        "            torch.nn.Linear(in_features=self.dim, out_features=hidden_size),\n",
        "            torch.nn.Dropout(p=p),\n",
        "            torch.nn.ReLU(),\n",
        "            torch.nn.LayerNorm(hidden_size),\n",
        "            torch.nn.Linear(in_features=hidden_size, out_features=hidden_size),\n",
        "            torch.nn.Dropout(p=p),\n",
        "            torch.nn.ReLU(),\n",
        "        )\n",
        "        self.output = torch.nn.Linear(\n",
        "            in_features=hidden_size, out_features=self.vocab_size, bias=False\n",
        "        )\n",
        "\n",
        "    def forward(self, inputs: torch.LongTensor):\n",
        "        \"\"\"\n",
        "        Args:\n",
        "            inputs is a LongTensor of shape (batch_size, max_seq_length)\n",
        "\n",
        "        Returns:\n",
        "            logits of shape (batch_size, max_seq_length, vocab_size)\n",
        "        \"\"\"\n",
        "        positions = self._positions.repeat(inputs.shape[0], 1).to(inputs.device)\n",
        "        attn_mask = (inputs != self.pad_token_id)[:, None, None, :]\n",
        "\n",
        "        X = self.C(inputs) + self.P(positions)\n",
        "        E = self.attention(X, attn_mask)\n",
        "        E = self.Wo(E)\n",
        "\n",
        "        out = self.feed_forward(torch.squeeze(E + X, dim=1))\n",
        "        logits = self.output(out)\n",
        "\n",
        "        return logits"
      ]
    },
    {
      "cell_type": "markdown",
      "id": "27153309",
      "metadata": {
        "id": "27153309",
        "papermill": {
          "duration": 0.011228,
          "end_time": "2022-06-06T14:45:23.101624",
          "exception": false,
          "start_time": "2022-06-06T14:45:23.090396",
          "status": "completed"
        },
        "tags": []
      },
      "source": [
        "## Teste o modelo com um exemplo"
      ]
    },
    {
      "cell_type": "code",
      "execution_count": null,
      "id": "f82a7f71",
      "metadata": {
        "execution": {
          "iopub.execute_input": "2022-06-06T14:45:23.125533Z",
          "iopub.status.busy": "2022-06-06T14:45:23.125225Z",
          "iopub.status.idle": "2022-06-06T14:45:28.977170Z",
          "shell.execute_reply": "2022-06-06T14:45:28.975771Z"
        },
        "id": "f82a7f71",
        "outputId": "2c8bfff8-34a1-4964-f838-2b17117ef8dc",
        "papermill": {
          "duration": 5.866402,
          "end_time": "2022-06-06T14:45:28.979628",
          "exception": false,
          "start_time": "2022-06-06T14:45:23.113226",
          "status": "completed"
        },
        "tags": []
      },
      "outputs": [
        {
          "name": "stdout",
          "output_type": "stream",
          "text": [
            "sample_input.shape: torch.Size([2, 16])\n",
            "sample_output.shape: torch.Size([2, 16, 29794])\n"
          ]
        }
      ],
      "source": [
        "model = LanguageModel(\n",
        "    vocab_size=tokenizer.vocab_size,\n",
        "    max_seq_length=max_seq_length,\n",
        "    dim=64,\n",
        "    n_layers=2,\n",
        "    pad_token_id=tokenizer.pad_token_id,\n",
        ").to(device)\n",
        "\n",
        "sample_input, _ = next(iter(DataLoader(training_dataset)))\n",
        "sample_input = torch.stack([sample_input, sample_input]).squeeze(1)\n",
        "sample_input = sample_input.to(device)\n",
        "sample_output = model(sample_input)\n",
        "print(f'sample_input.shape: {sample_input.shape}')\n",
        "print(f'sample_output.shape: {sample_output.shape}')"
      ]
    },
    {
      "cell_type": "code",
      "execution_count": null,
      "id": "c2868268",
      "metadata": {
        "execution": {
          "iopub.execute_input": "2022-06-06T14:45:29.008306Z",
          "iopub.status.busy": "2022-06-06T14:45:29.007933Z",
          "iopub.status.idle": "2022-06-06T14:45:29.013813Z",
          "shell.execute_reply": "2022-06-06T14:45:29.013088Z"
        },
        "papermill": {
          "duration": 0.020989,
          "end_time": "2022-06-06T14:45:29.015528",
          "exception": false,
          "start_time": "2022-06-06T14:45:28.994539",
          "status": "completed"
        },
        "tags": [],
        "id": "c2868268",
        "outputId": "31c9236d-ec3e-4797-fbb0-3d9bbace6427"
      },
      "outputs": [
        {
          "data": {
            "text/plain": [
              "LanguageModel(\n",
              "  (C): Embedding(29794, 64, padding_idx=0)\n",
              "  (P): Embedding(16, 64, padding_idx=0)\n",
              "  (attention): SequenceWithParams(\n",
              "    (0): MultiHeadAttentionBlock(\n",
              "      (dropout): Dropout(p=0, inplace=False)\n",
              "      (Wq): Linear(in_features=64, out_features=64, bias=False)\n",
              "      (Wk): Linear(in_features=64, out_features=64, bias=False)\n",
              "      (Wv): Linear(in_features=64, out_features=64, bias=False)\n",
              "      (softmax): Softmax(dim=-1)\n",
              "    )\n",
              "    (1): MultiHeadAttentionBlock(\n",
              "      (dropout): Dropout(p=0, inplace=False)\n",
              "      (Wq): Linear(in_features=64, out_features=64, bias=False)\n",
              "      (Wk): Linear(in_features=64, out_features=64, bias=False)\n",
              "      (Wv): Linear(in_features=64, out_features=64, bias=False)\n",
              "      (softmax): Softmax(dim=-1)\n",
              "    )\n",
              "  )\n",
              "  (Wo): Linear(in_features=64, out_features=64, bias=False)\n",
              "  (feed_forward): Sequential(\n",
              "    (0): LayerNorm((64,), eps=1e-05, elementwise_affine=True)\n",
              "    (1): Linear(in_features=64, out_features=768, bias=True)\n",
              "    (2): Dropout(p=0.1, inplace=False)\n",
              "    (3): ReLU()\n",
              "    (4): LayerNorm((768,), eps=1e-05, elementwise_affine=True)\n",
              "    (5): Linear(in_features=768, out_features=768, bias=True)\n",
              "    (6): Dropout(p=0.1, inplace=False)\n",
              "    (7): ReLU()\n",
              "  )\n",
              "  (output): Linear(in_features=768, out_features=29794, bias=False)\n",
              ")"
            ]
          },
          "execution_count": 14,
          "metadata": {},
          "output_type": "execute_result"
        }
      ],
      "source": [
        "model"
      ]
    },
    {
      "cell_type": "code",
      "execution_count": null,
      "id": "193b179a",
      "metadata": {
        "execution": {
          "iopub.execute_input": "2022-06-06T14:45:29.039979Z",
          "iopub.status.busy": "2022-06-06T14:45:29.039314Z",
          "iopub.status.idle": "2022-06-06T14:45:29.046075Z",
          "shell.execute_reply": "2022-06-06T14:45:29.045364Z"
        },
        "id": "193b179a",
        "outputId": "e929a02d-b9e6-4a41-d065-a3d24f30942f",
        "papermill": {
          "duration": 0.020865,
          "end_time": "2022-06-06T14:45:29.047772",
          "exception": false,
          "start_time": "2022-06-06T14:45:29.026907",
          "status": "completed"
        },
        "tags": []
      },
      "outputs": [
        {
          "name": "stdout",
          "output_type": "stream",
          "text": [
            "Number of model parameters: 25460480\n"
          ]
        }
      ],
      "source": [
        "num_params = sum(p.numel() for p in model.parameters() if p.requires_grad)\n",
        "print(f'Number of model parameters: {num_params}')"
      ]
    },
    {
      "cell_type": "markdown",
      "id": "a54a688f",
      "metadata": {
        "id": "a54a688f",
        "papermill": {
          "duration": 0.011508,
          "end_time": "2022-06-06T14:45:29.070832",
          "exception": false,
          "start_time": "2022-06-06T14:45:29.059324",
          "status": "completed"
        },
        "tags": []
      },
      "source": [
        "# Assert da Perplexidade\n"
      ]
    },
    {
      "cell_type": "code",
      "execution_count": null,
      "id": "24c0b827",
      "metadata": {
        "execution": {
          "iopub.execute_input": "2022-06-06T14:45:29.095507Z",
          "iopub.status.busy": "2022-06-06T14:45:29.095203Z",
          "iopub.status.idle": "2022-06-06T14:45:29.245733Z",
          "shell.execute_reply": "2022-06-06T14:45:29.244787Z"
        },
        "id": "24c0b827",
        "outputId": "5c3bbb8c-16a2-457e-d8ad-c2e76294896a",
        "papermill": {
          "duration": 0.167416,
          "end_time": "2022-06-06T14:45:29.249825",
          "exception": false,
          "start_time": "2022-06-06T14:45:29.082409",
          "status": "completed"
        },
        "tags": []
      },
      "outputs": [
        {
          "name": "stdout",
          "output_type": "stream",
          "text": [
            "my perplexity:              30518\n",
            "correct initial perplexity: 29794\n",
            "Passou o no assert da perplexidade\n"
          ]
        }
      ],
      "source": [
        "def perplexity(logits, target, ignore_token_id: int):\n",
        "    \"\"\"\n",
        "    Computes the perplexity.\n",
        "\n",
        "    Args:\n",
        "        logits: a FloatTensor of shape (batch_size, seq_length, vocab_size)\n",
        "        target: a LongTensor of shape (batch_size, seq_length)\n",
        "\n",
        "    Returns:\n",
        "        A float corresponding to the perplexity\n",
        "    \"\"\"\n",
        "    logits = logits.reshape(-1, logits.shape[-1])\n",
        "    target = target.reshape(-1)\n",
        "    loss = torch.nn.functional.cross_entropy(logits, target, reduction='mean', ignore_index=ignore_token_id)\n",
        "    return torch.exp(loss)\n",
        "\n",
        "\n",
        "n_examples = 1000\n",
        "\n",
        "train_input_ids, train_target_ids = next(iter(DataLoader(training_dataset, batch_size=n_examples)))\n",
        "train_input_ids = train_input_ids.to(device)\n",
        "train_target_ids = train_target_ids.to(device)\n",
        "\n",
        "logits = model(train_input_ids)\n",
        "\n",
        "my_perplexity = perplexity(logits=logits, target=train_target_ids, ignore_token_id=tokenizer.pad_token_id)\n",
        "\n",
        "print(f'my perplexity:              {int(my_perplexity)}')\n",
        "print(f'correct initial perplexity: {tokenizer.vocab_size}')\n",
        "\n",
        "assert math.isclose(my_perplexity, tokenizer.vocab_size, abs_tol=7000)\n",
        "print('Passou o no assert da perplexidade')"
      ]
    },
    {
      "cell_type": "markdown",
      "id": "0b0e8ead",
      "metadata": {
        "id": "0b0e8ead",
        "papermill": {
          "duration": 0.01476,
          "end_time": "2022-06-06T14:45:29.277702",
          "exception": false,
          "start_time": "2022-06-06T14:45:29.262942",
          "status": "completed"
        },
        "tags": []
      },
      "source": [
        "# Laço de Treinamento e Validação"
      ]
    },
    {
      "cell_type": "code",
      "execution_count": null,
      "id": "7a2f6a4e",
      "metadata": {
        "execution": {
          "iopub.execute_input": "2022-06-06T14:45:29.302783Z",
          "iopub.status.busy": "2022-06-06T14:45:29.302453Z",
          "iopub.status.idle": "2022-06-06T14:45:31.573850Z",
          "shell.execute_reply": "2022-06-06T14:45:31.571721Z"
        },
        "papermill": {
          "duration": 2.286092,
          "end_time": "2022-06-06T14:45:31.575826",
          "exception": false,
          "start_time": "2022-06-06T14:45:29.289734",
          "status": "completed"
        },
        "tags": [],
        "id": "7a2f6a4e"
      },
      "outputs": [],
      "source": [
        "import wandb\n",
        "from copy import deepcopy"
      ]
    },
    {
      "cell_type": "code",
      "execution_count": null,
      "id": "a2e76df2",
      "metadata": {
        "execution": {
          "iopub.execute_input": "2022-06-06T14:45:32.973570Z",
          "iopub.status.busy": "2022-06-06T14:45:32.972646Z",
          "iopub.status.idle": "2022-06-06T14:45:32.981946Z",
          "shell.execute_reply": "2022-06-06T14:45:32.980757Z"
        },
        "papermill": {
          "duration": 0.037171,
          "end_time": "2022-06-06T14:45:32.985669",
          "exception": false,
          "start_time": "2022-06-06T14:45:32.948498",
          "status": "completed"
        },
        "tags": [],
        "id": "a2e76df2"
      },
      "outputs": [],
      "source": [
        "run_name = 'multiheadattention'"
      ]
    },
    {
      "cell_type": "code",
      "execution_count": null,
      "id": "1e7b32cd",
      "metadata": {
        "execution": {
          "iopub.execute_input": "2022-06-06T14:45:33.036857Z",
          "iopub.status.busy": "2022-06-06T14:45:33.035414Z",
          "iopub.status.idle": "2022-06-06T14:45:38.109777Z",
          "shell.execute_reply": "2022-06-06T14:45:38.108935Z"
        },
        "papermill": {
          "duration": 5.102204,
          "end_time": "2022-06-06T14:45:38.111852",
          "exception": false,
          "start_time": "2022-06-06T14:45:33.009648",
          "status": "completed"
        },
        "tags": [],
        "id": "1e7b32cd"
      },
      "outputs": [],
      "source": [
        "wandb.init(project=\"language-models\", anonymous=\"allow\")\n",
        "wandb.run.name = f'{run_name}-{wandb.run.name}'"
      ]
    },
    {
      "cell_type": "code",
      "execution_count": null,
      "id": "222b60c8",
      "metadata": {
        "execution": {
          "iopub.execute_input": "2022-06-06T14:45:38.139961Z",
          "iopub.status.busy": "2022-06-06T14:45:38.139572Z",
          "iopub.status.idle": "2022-06-07T00:54:37.329789Z",
          "shell.execute_reply": "2022-06-07T00:54:37.328682Z"
        },
        "id": "222b60c8",
        "outputId": "00ef53b0-8f75-4a9d-daad-c364c1982e07",
        "papermill": {
          "duration": 36539.206634,
          "end_time": "2022-06-07T00:54:37.331852",
          "exception": false,
          "start_time": "2022-06-06T14:45:38.125218",
          "status": "completed"
        },
        "tags": [],
        "colab": {
          "referenced_widgets": [
            "52b23edcad0a4237ad372135c330c90a"
          ]
        }
      },
      "outputs": [
        {
          "data": {
            "application/vnd.jupyter.widget-view+json": {
              "model_id": "52b23edcad0a4237ad372135c330c90a",
              "version_major": 2,
              "version_minor": 0
            },
            "text/plain": [
              "  0%|          | 0/100000000 [00:00<?, ?it/s]"
            ]
          },
          "metadata": {},
          "output_type": "display_data"
        },
        {
          "name": "stdout",
          "output_type": "stream",
          "text": [
            "0 steps; 0 examples so far; train ppl: 31600.99, valid ppl: 28904.73\n",
            "1000 steps; 1024000 examples so far; train ppl: 746.69, valid ppl: 419.11\n",
            "2000 steps; 2048000 examples so far; train ppl: 374.90, valid ppl: 302.16\n",
            "3000 steps; 3072000 examples so far; train ppl: 304.84, valid ppl: 259.47\n",
            "4000 steps; 4096000 examples so far; train ppl: 274.34, valid ppl: 239.16\n",
            "5000 steps; 5120000 examples so far; train ppl: 255.52, valid ppl: 225.30\n",
            "6000 steps; 6144000 examples so far; train ppl: 242.11, valid ppl: 213.11\n",
            "7000 steps; 7168000 examples so far; train ppl: 231.85, valid ppl: 206.01\n",
            "8000 steps; 8192000 examples so far; train ppl: 220.48, valid ppl: 199.34\n",
            "9000 steps; 9216000 examples so far; train ppl: 214.64, valid ppl: 193.22\n",
            "10000 steps; 10240000 examples so far; train ppl: 209.65, valid ppl: 188.82\n",
            "11000 steps; 11264000 examples so far; train ppl: 204.90, valid ppl: 184.16\n",
            "12000 steps; 12288000 examples so far; train ppl: 201.05, valid ppl: 179.94\n",
            "13000 steps; 13312000 examples so far; train ppl: 197.07, valid ppl: 175.86\n",
            "14000 steps; 14336000 examples so far; train ppl: 192.77, valid ppl: 173.09\n",
            "15000 steps; 15360000 examples so far; train ppl: 186.95, valid ppl: 170.01\n",
            "16000 steps; 16384000 examples so far; train ppl: 185.17, valid ppl: 167.47\n",
            "17000 steps; 17408000 examples so far; train ppl: 183.11, valid ppl: 165.76\n",
            "18000 steps; 18432000 examples so far; train ppl: 181.16, valid ppl: 163.20\n",
            "19000 steps; 19456000 examples so far; train ppl: 179.23, valid ppl: 161.44\n",
            "20000 steps; 20480000 examples so far; train ppl: 177.49, valid ppl: 158.88\n",
            "21000 steps; 21504000 examples so far; train ppl: 173.89, valid ppl: 157.48\n",
            "22000 steps; 22528000 examples so far; train ppl: 170.10, valid ppl: 155.60\n",
            "23000 steps; 23552000 examples so far; train ppl: 169.79, valid ppl: 154.73\n",
            "24000 steps; 24576000 examples so far; train ppl: 168.86, valid ppl: 153.22\n",
            "25000 steps; 25600000 examples so far; train ppl: 168.00, valid ppl: 152.41\n",
            "26000 steps; 26624000 examples so far; train ppl: 166.59, valid ppl: 150.34\n",
            "27000 steps; 27648000 examples so far; train ppl: 165.68, valid ppl: 148.93\n",
            "28000 steps; 28672000 examples so far; train ppl: 162.39, valid ppl: 148.35\n",
            "29000 steps; 29696000 examples so far; train ppl: 160.37, valid ppl: 146.99\n",
            "30000 steps; 30720000 examples so far; train ppl: 159.98, valid ppl: 145.64\n",
            "31000 steps; 31744000 examples so far; train ppl: 159.43, valid ppl: 145.11\n",
            "32000 steps; 32768000 examples so far; train ppl: 158.68, valid ppl: 143.88\n",
            "33000 steps; 33792000 examples so far; train ppl: 158.37, valid ppl: 143.05\n",
            "34000 steps; 34816000 examples so far; train ppl: 157.96, valid ppl: 141.63\n",
            "35000 steps; 35840000 examples so far; train ppl: 154.56, valid ppl: 141.65\n",
            "36000 steps; 36864000 examples so far; train ppl: 153.16, valid ppl: 140.75\n",
            "37000 steps; 37888000 examples so far; train ppl: 153.18, valid ppl: 140.24\n",
            "38000 steps; 38912000 examples so far; train ppl: 153.11, valid ppl: 139.18\n",
            "39000 steps; 39936000 examples so far; train ppl: 152.89, valid ppl: 138.27\n",
            "40000 steps; 40960000 examples so far; train ppl: 152.37, valid ppl: 137.49\n",
            "41000 steps; 41984000 examples so far; train ppl: 151.93, valid ppl: 137.32\n",
            "42000 steps; 43008000 examples so far; train ppl: 148.58, valid ppl: 137.01\n",
            "43000 steps; 44032000 examples so far; train ppl: 148.06, valid ppl: 136.39\n",
            "44000 steps; 45056000 examples so far; train ppl: 148.26, valid ppl: 135.83\n",
            "45000 steps; 46080000 examples so far; train ppl: 148.07, valid ppl: 135.57\n",
            "46000 steps; 47104000 examples so far; train ppl: 148.12, valid ppl: 134.46\n",
            "47000 steps; 48128000 examples so far; train ppl: 147.95, valid ppl: 133.90\n",
            "48000 steps; 49152000 examples so far; train ppl: 147.52, valid ppl: 133.36\n",
            "49000 steps; 50176000 examples so far; train ppl: 144.22, valid ppl: 133.37\n",
            "50000 steps; 51200000 examples so far; train ppl: 144.08, valid ppl: 132.87\n",
            "51000 steps; 52224000 examples so far; train ppl: 144.18, valid ppl: 132.23\n",
            "52000 steps; 53248000 examples so far; train ppl: 144.36, valid ppl: 132.06\n",
            "53000 steps; 54272000 examples so far; train ppl: 144.27, valid ppl: 131.21\n",
            "54000 steps; 55296000 examples so far; train ppl: 143.94, valid ppl: 130.67\n",
            "55000 steps; 56320000 examples so far; train ppl: 144.07, valid ppl: 130.47\n",
            "56000 steps; 57344000 examples so far; train ppl: 140.39, valid ppl: 130.42\n",
            "57000 steps; 58368000 examples so far; train ppl: 140.66, valid ppl: 130.35\n",
            "58000 steps; 59392000 examples so far; train ppl: 141.00, valid ppl: 129.62\n",
            "59000 steps; 60416000 examples so far; train ppl: 141.20, valid ppl: 129.26\n",
            "60000 steps; 61440000 examples so far; train ppl: 141.07, valid ppl: 128.75\n",
            "61000 steps; 62464000 examples so far; train ppl: 141.12, valid ppl: 128.22\n",
            "62000 steps; 63488000 examples so far; train ppl: 140.60, valid ppl: 128.03\n",
            "63000 steps; 64512000 examples so far; train ppl: 137.26, valid ppl: 128.03\n",
            "64000 steps; 65536000 examples so far; train ppl: 138.20, valid ppl: 127.78\n",
            "65000 steps; 66560000 examples so far; train ppl: 138.48, valid ppl: 127.22\n",
            "66000 steps; 67584000 examples so far; train ppl: 138.46, valid ppl: 126.89\n",
            "67000 steps; 68608000 examples so far; train ppl: 138.41, valid ppl: 126.78\n",
            "68000 steps; 69632000 examples so far; train ppl: 138.35, valid ppl: 125.85\n",
            "69000 steps; 70656000 examples so far; train ppl: 137.64, valid ppl: 126.29\n",
            "70000 steps; 71680000 examples so far; train ppl: 135.26, valid ppl: 125.78\n",
            "71000 steps; 72704000 examples so far; train ppl: 135.78, valid ppl: 125.55\n",
            "72000 steps; 73728000 examples so far; train ppl: 135.99, valid ppl: 125.25\n",
            "73000 steps; 74752000 examples so far; train ppl: 136.19, valid ppl: 125.05\n",
            "74000 steps; 75776000 examples so far; train ppl: 136.34, valid ppl: 124.39\n",
            "75000 steps; 76800000 examples so far; train ppl: 136.12, valid ppl: 123.90\n",
            "76000 steps; 77824000 examples so far; train ppl: 134.84, valid ppl: 124.26\n",
            "77000 steps; 78848000 examples so far; train ppl: 133.16, valid ppl: 124.32\n",
            "78000 steps; 79872000 examples so far; train ppl: 133.77, valid ppl: 123.71\n",
            "79000 steps; 80896000 examples so far; train ppl: 133.99, valid ppl: 123.60\n",
            "80000 steps; 81920000 examples so far; train ppl: 134.13, valid ppl: 123.21\n",
            "81000 steps; 82944000 examples so far; train ppl: 133.99, valid ppl: 122.88\n",
            "82000 steps; 83968000 examples so far; train ppl: 134.33, valid ppl: 122.72\n",
            "83000 steps; 84992000 examples so far; train ppl: 132.83, valid ppl: 122.87\n",
            "84000 steps; 86016000 examples so far; train ppl: 131.46, valid ppl: 122.21\n",
            "85000 steps; 87040000 examples so far; train ppl: 131.77, valid ppl: 122.34\n",
            "86000 steps; 88064000 examples so far; train ppl: 132.11, valid ppl: 121.95\n",
            "87000 steps; 89088000 examples so far; train ppl: 132.33, valid ppl: 121.82\n",
            "88000 steps; 90112000 examples so far; train ppl: 132.54, valid ppl: 121.26\n",
            "89000 steps; 91136000 examples so far; train ppl: 132.68, valid ppl: 120.82\n",
            "90000 steps; 92160000 examples so far; train ppl: 130.68, valid ppl: 121.17\n",
            "91000 steps; 93184000 examples so far; train ppl: 129.81, valid ppl: 121.10\n",
            "92000 steps; 94208000 examples so far; train ppl: 130.26, valid ppl: 120.65\n",
            "93000 steps; 95232000 examples so far; train ppl: 130.63, valid ppl: 120.81\n",
            "94000 steps; 96256000 examples so far; train ppl: 130.74, valid ppl: 120.07\n",
            "95000 steps; 97280000 examples so far; train ppl: 130.91, valid ppl: 120.13\n",
            "96000 steps; 98304000 examples so far; train ppl: 131.01, valid ppl: 119.73\n",
            "97000 steps; 99328000 examples so far; train ppl: 128.96, valid ppl: 119.85\n"
          ]
        }
      ],
      "source": [
        "max_examples = 100_000_000\n",
        "eval_every_steps = 1_000\n",
        "lr = 3e-4\n",
        "batch_size = 1024\n",
        "\n",
        "model = LanguageModel(\n",
        "    vocab_size=tokenizer.vocab_size,\n",
        "    max_seq_length=max_seq_length,\n",
        "    dim=64,\n",
        "    n_layers=2,\n",
        "    pad_token_id=tokenizer.pad_token_id,\n",
        ").to(device)\n",
        "\n",
        "train_loader = DataLoader(training_dataset, batch_size=batch_size, shuffle=True, drop_last=True)\n",
        "validation_loader = DataLoader(valid_dataset, batch_size=batch_size)\n",
        "\n",
        "optimizer = torch.optim.Adam(model.parameters(), lr=lr)\n",
        "\n",
        "\n",
        "def train_step(input_ids, target_ids):\n",
        "    model.train()\n",
        "    model.zero_grad()\n",
        "    logits = model(input_ids)\n",
        "    logits = logits.reshape(-1, logits.shape[-1])\n",
        "    target_ids = target_ids.reshape(-1)\n",
        "    loss = torch.nn.functional.cross_entropy(logits, target_ids, ignore_index=model.pad_token_id)\n",
        "    loss.backward()\n",
        "    optimizer.step()\n",
        "\n",
        "    return loss.item()\n",
        "\n",
        "\n",
        "def validation_step(input_ids, target_ids):\n",
        "    model.eval()\n",
        "    logits = model(input_ids)\n",
        "    logits = logits.reshape(-1, logits.shape[-1])\n",
        "    target_ids = target_ids.reshape(-1)\n",
        "    loss = torch.nn.functional.cross_entropy(logits, target_ids, ignore_index=model.pad_token_id)\n",
        "    return loss.item()\n",
        "\n",
        "\n",
        "train_losses = []\n",
        "n_examples = 0\n",
        "step = 0\n",
        "\n",
        "best_ppl = torch.inf\n",
        "best_model = deepcopy(model.state_dict())\n",
        "\n",
        "wandb.watch(model, log_freq=100)\n",
        "pbar = tqdm(total=max_examples)\n",
        "\n",
        "while n_examples < max_examples:\n",
        "    for train_input_ids, train_target_ids in train_loader:\n",
        "        loss = train_step(train_input_ids.to(device), train_target_ids.to(device)) \n",
        "        train_losses.append(loss)\n",
        "        \n",
        "        if step % eval_every_steps == 0:\n",
        "            train_loss = np.average(train_losses)\n",
        "            train_ppl = np.exp(train_loss)\n",
        "\n",
        "            with torch.no_grad():\n",
        "                valid_ppl = np.exp(np.average([\n",
        "                    validation_step(val_input_ids.to(device), val_target_ids.to(device))\n",
        "                    for val_input_ids, val_target_ids in validation_loader]))\n",
        "\n",
        "            wandb.log({\n",
        "                \"train/loss\": loss,\n",
        "                \"train/perplexity\": train_ppl,\n",
        "                \"eval/perplexity\": valid_ppl\n",
        "            }, step=step)\n",
        "            if valid_ppl < best_ppl:\n",
        "                best_ppl = valid_ppl\n",
        "                best_model = deepcopy(model.state_dict())\n",
        "                torch.save(best_model, 'best_model.pth')\n",
        "                \n",
        "                artifact = wandb.Artifact(\n",
        "                    f'model-{run_name}',\n",
        "                    type='model',\n",
        "                    metadata={\n",
        "                        \"step\": step,\n",
        "                        \"step_size\": batch_size,\n",
        "                        \"train_loss\": train_loss,\n",
        "                        \"train_perplexity\": train_ppl,\n",
        "                        \"valid_perplexity\": valid_ppl\n",
        "                    }\n",
        "                )\n",
        "                artifact.add_file('best_model.pth')\n",
        "                wandb.run.log_artifact(artifact)\n",
        "            print(f'{step} steps; {n_examples} examples so far; train ppl: {train_ppl:.2f}, valid ppl: {valid_ppl:.2f}')\n",
        "            train_losses = []\n",
        "\n",
        "        n_examples += len(train_input_ids)  # Increment of batch size\n",
        "        step += 1\n",
        "        pbar.update(len(train_input_ids))\n",
        "        if n_examples >= max_examples:\n",
        "            break"
      ]
    },
    {
      "cell_type": "markdown",
      "id": "772ce897",
      "metadata": {
        "id": "772ce897",
        "papermill": {
          "duration": 0.02208,
          "end_time": "2022-06-07T00:54:37.376642",
          "exception": false,
          "start_time": "2022-06-07T00:54:37.354562",
          "status": "completed"
        },
        "tags": []
      },
      "source": [
        "# Avaliação final no dataset de teste\n",
        "\n",
        "\n",
        "Bonus: o modelo com menor perplexidade no dataset de testes ganhará 0.5 ponto na nota final."
      ]
    },
    {
      "cell_type": "code",
      "execution_count": null,
      "id": "2412308b",
      "metadata": {
        "execution": {
          "iopub.execute_input": "2022-06-07T00:54:37.424408Z",
          "iopub.status.busy": "2022-06-07T00:54:37.422675Z",
          "iopub.status.idle": "2022-06-07T00:54:38.699212Z",
          "shell.execute_reply": "2022-06-07T00:54:38.697360Z"
        },
        "id": "2412308b",
        "outputId": "4371c1f7-3b99-4200-d93b-220ea9968367",
        "papermill": {
          "duration": 1.302522,
          "end_time": "2022-06-07T00:54:38.701489",
          "exception": false,
          "start_time": "2022-06-07T00:54:37.398967",
          "status": "completed"
        },
        "tags": []
      },
      "outputs": [
        {
          "name": "stdout",
          "output_type": "stream",
          "text": [
            "test perplexity: 125.94721084881104\n"
          ]
        }
      ],
      "source": [
        "test_loader = DataLoader(test_dataset, batch_size=64)\n",
        "\n",
        "with torch.no_grad():\n",
        "    test_ppl = np.exp(np.average([\n",
        "        validation_step(test_input_ids.to(device), test_target_ids.to(device))\n",
        "        for test_input_ids, test_target_ids in test_loader\n",
        "    ]))\n",
        "\n",
        "print(f'test perplexity: {test_ppl}')"
      ]
    },
    {
      "cell_type": "markdown",
      "id": "eebf83b8",
      "metadata": {
        "id": "eebf83b8",
        "papermill": {
          "duration": 0.023409,
          "end_time": "2022-06-07T00:54:38.747349",
          "exception": false,
          "start_time": "2022-06-07T00:54:38.723940",
          "status": "completed"
        },
        "tags": []
      },
      "source": [
        "# Teste seu modelo com uma sentença\n",
        "\n",
        "Escolha uma sentença gerada pelo modelo que ache interessante."
      ]
    },
    {
      "cell_type": "code",
      "execution_count": 47,
      "id": "53137de3",
      "metadata": {
        "execution": {
          "iopub.execute_input": "2022-06-07T00:54:38.791376Z",
          "iopub.status.busy": "2022-06-07T00:54:38.790732Z",
          "iopub.status.idle": "2022-06-07T00:54:39.706026Z",
          "shell.execute_reply": "2022-06-07T00:54:39.704710Z"
        },
        "id": "53137de3",
        "papermill": {
          "duration": 0.938658,
          "end_time": "2022-06-07T00:54:39.707699",
          "exception": true,
          "start_time": "2022-06-07T00:54:38.769041",
          "status": "failed"
        },
        "tags": [],
        "colab": {
          "base_uri": "https://localhost:8080/"
        },
        "outputId": "e27496ba-d809-443f-d652-16cb74ab2b18"
      },
      "outputs": [
        {
          "output_type": "stream",
          "name": "stdout",
          "text": [
            "Eu gosto de comer pizza pois me faz\n",
            "Eu gosto de comer pizza pois me faz [PAD] [PAD] [PAD] [PAD] [PAD] [PAD] [PAD]idade\n",
            "Eu gosto de comer pizza pois me faz [PAD] [PAD] [PAD] [PAD] [PAD] [PAD] [PAD] idade,\n",
            "Eu gosto de comer pizza pois me faz [PAD] [PAD] [PAD] [PAD] [PAD] [PAD] [PAD] idade, a\n",
            "Eu gosto de comer pizza pois me faz [PAD] [PAD] [PAD] [PAD] [PAD] [PAD] [PAD] idade, a sua\n",
            "Eu gosto de comer pizza pois me faz [PAD] [PAD] [PAD] [PAD] [PAD] [PAD] [PAD] idade, a sua vida\n",
            "Eu gosto de comer pizza pois me faz [PAD] [PAD] [PAD] [PAD] [PAD] [PAD] [PAD] idade, a sua vida,\n",
            "Eu gosto de comer pizza pois me faz [PAD] [PAD] [PAD] [PAD] [PAD] [PAD] [PAD] idade, a sua vida, a\n",
            "Eu gosto de comer pizza pois me faz [PAD] [PAD] [PAD] [PAD] [PAD] [PAD] [PAD] idade, a sua vida, a -\n",
            "Eu gosto de comer pizza pois me faz [PAD] [PAD] [PAD] [PAD] [PAD] [PAD] [PAD] idade, a sua vida, a - -\n",
            "Eu gosto de comer pizza pois me faz [PAD] [PAD] [PAD] [PAD] [PAD] [PAD] [PAD] idade, a sua vida, a - - -\n",
            "Eu gosto de comer pizza pois me faz [PAD] [PAD] [PAD] [PAD] [PAD] [PAD] [PAD] idade, a sua vida, a - - - -\n",
            "Eu gosto de comer pizza pois me faz [PAD] [PAD] [PAD] [PAD] [PAD] [PAD] [PAD] idade, a sua vida, a - - - - -\n",
            "Eu gosto de comer pizza pois me faz [PAD] [PAD] [PAD] [PAD] [PAD] [PAD] [PAD] idade, a sua vida, a - - - - - -\n",
            "Eu gosto de comer pizza pois me faz [PAD] [PAD] [PAD] [PAD] [PAD] [PAD] [PAD] idade, a sua vida, a - - - - - - -\n",
            "Eu gosto de comer pizza pois me faz [PAD] [PAD] [PAD] [PAD] [PAD] [PAD] [PAD] idade, a sua vida, a - - - - - - - -\n",
            "Eu gosto de comer pizza pois me faz [PAD] [PAD] [PAD] [PAD] [PAD] [PAD] [PAD] idade, a sua vida, a - - - - - - - - -\n",
            "Eu gosto de comer pizza pois me faz [PAD] [PAD] [PAD] [PAD] [PAD] [PAD] [PAD] idade, a sua vida, a - - - - - - - - - -\n",
            "Eu gosto de comer pizza pois me faz [PAD] [PAD] [PAD] [PAD] [PAD] [PAD] [PAD] idade, a sua vida, a - - - - - - - - - - -\n",
            "Eu gosto de comer pizza pois me faz [PAD] [PAD] [PAD] [PAD] [PAD] [PAD] [PAD] idade, a sua vida, a - - - - - - - - - - - -\n",
            "Eu gosto de comer pizza pois me faz [PAD] [PAD] [PAD] [PAD] [PAD] [PAD] [PAD] idade, a sua vida, a - - - - - - - - - - - - -\n",
            "\n"
          ]
        }
      ],
      "source": [
        "max_output_tokens = 20\n",
        "prompts = ['Eu gosto de comer pizza pois me faz']\n",
        "\n",
        "model.eval()\n",
        "for prompt in prompts:\n",
        "    print(prompt)\n",
        "    for _ in range(max_output_tokens):\n",
        "        input_ids = tokenize(texts=[prompt], tokenizer=tokenizer)\n",
        "        input_ids = input_ids[0]\n",
        "        pad_length = max(max_seq_length - len(input_ids), 0)\n",
        "        input_ids = input_ids + ([tokenizer.pad_token_id] * pad_length)\n",
        "        input_ids_truncated = input_ids[-max_seq_length:]  # Usamos apenas os últimos <context_size> tokens como entrada para o modelo.\n",
        "        logits = model(torch.LongTensor([input_ids_truncated]).to(device))\n",
        "        logits = logits[:, -1, :]  # Usamos apenas o ultimo token da sequencia\n",
        "        # Ao usarmos o argmax, a saída do modelo em cada passo é token de maior probabilidade.\n",
        "        # Isso se chama decodificação gulosa (greedy decoding).\n",
        "        predicted_id = torch.argmax(logits).item()\n",
        "        input_ids += [predicted_id]  # Concatenamos a entrada com o token escolhido nesse passo.\n",
        "        prompt = tokenizer.decode(input_ids)\n",
        "        print(prompt)\n",
        "    print()"
      ]
    },
    {
      "cell_type": "code",
      "execution_count": null,
      "id": "2da48676",
      "metadata": {
        "papermill": {
          "duration": null,
          "end_time": null,
          "exception": null,
          "start_time": null,
          "status": "pending"
        },
        "tags": [],
        "id": "2da48676"
      },
      "outputs": [],
      "source": [
        "wandb.finish()"
      ]
    },
    {
      "cell_type": "markdown",
      "id": "5c044e9a",
      "metadata": {
        "id": "5c044e9a",
        "papermill": {
          "duration": null,
          "end_time": null,
          "exception": null,
          "start_time": null,
          "status": "pending"
        },
        "tags": []
      },
      "source": [
        "# Bonus\n",
        "\n",
        "## Bonus 1\n",
        "Quem conseguir a menor perplexidade no dataset de testes ganha 0.5 ponto na média final.\n",
        "\n",
        "## Bonus 2\n",
        "Qual é a complexidade (em notação O-grande) da função de geração de texto acima?\n",
        "\n",
        "Quem responder corretamente a pergunta acima e deixar a função com menor complexidade ganha 0.5 ponto na média final."
      ]
    }
  ],
  "metadata": {
    "kernelspec": {
      "display_name": "Python 3",
      "language": "python",
      "name": "python3"
    },
    "language_info": {
      "codemirror_mode": {
        "name": "ipython",
        "version": 3
      },
      "file_extension": ".py",
      "mimetype": "text/x-python",
      "name": "python",
      "nbconvert_exporter": "python",
      "pygments_lexer": "ipython3",
      "version": "3.7.12"
    },
    "papermill": {
      "default_parameters": {},
      "duration": 36856.380381,
      "end_time": "2022-06-07T00:54:42.731605",
      "environment_variables": {},
      "exception": true,
      "input_path": "__notebook__.ipynb",
      "output_path": "__notebook__.ipynb",
      "parameters": {},
      "start_time": "2022-06-06T14:40:26.351224",
      "version": "2.3.4"
    },
    "widgets": {
      "application/vnd.jupyter.widget-state+json": {}
    },
    "colab": {
      "name": "IA025 - A10",
      "provenance": [],
      "collapsed_sections": [],
      "include_colab_link": true
    }
  },
  "nbformat": 4,
  "nbformat_minor": 5
}