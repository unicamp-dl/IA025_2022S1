{
  "nbformat": 4,
  "nbformat_minor": 0,
  "metadata": {
    "colab": {
      "name": "Aula 2 - Exercício - Larissa Santesso",
      "provenance": [],
      "collapsed_sections": [],
      "include_colab_link": true
    },
    "kernelspec": {
      "display_name": "Python 3",
      "language": "python",
      "name": "python3"
    },
    "language_info": {
      "codemirror_mode": {
        "name": "ipython",
        "version": 3
      },
      "file_extension": ".py",
      "mimetype": "text/x-python",
      "name": "python",
      "nbconvert_exporter": "python",
      "pygments_lexer": "ipython3",
      "version": "3.6.5"
    },
    "latex_envs": {
      "LaTeX_envs_menu_present": true,
      "autocomplete": true,
      "bibliofile": "biblio.bib",
      "cite_by": "apalike",
      "current_citInitial": 1,
      "eqLabelWithNumbers": true,
      "eqNumInitial": 1,
      "hotkeys": {
        "equation": "Ctrl-E",
        "itemize": "Ctrl-I"
      },
      "labels_anchors": false,
      "latex_user_defs": false,
      "report_style_numbering": false,
      "user_envs_cfg": false
    },
    "toc": {
      "base_numbering": 1,
      "nav_menu": {
        "height": "387px",
        "width": "252px"
      },
      "number_sections": true,
      "sideBar": true,
      "skip_h1_title": false,
      "title_cell": "Table of Contents",
      "title_sidebar": "Contents",
      "toc_cell": false,
      "toc_position": {},
      "toc_section_display": "block",
      "toc_window_display": false
    },
    "varInspector": {
      "cols": {
        "lenName": 16,
        "lenType": 16,
        "lenVar": 40
      },
      "kernels_config": {
        "python": {
          "delete_cmd_postfix": "",
          "delete_cmd_prefix": "del ",
          "library": "var_list.py",
          "varRefreshCmd": "print(var_dic_list())"
        },
        "r": {
          "delete_cmd_postfix": ") ",
          "delete_cmd_prefix": "rm(",
          "library": "var_list.r",
          "varRefreshCmd": "cat(var_dic_list()) "
        }
      },
      "types_to_exclude": [
        "module",
        "function",
        "builtin_function_or_method",
        "instance",
        "_Feature"
      ],
      "window_display": false
    }
  },
  "cells": [
    {
      "cell_type": "markdown",
      "metadata": {
        "id": "view-in-github",
        "colab_type": "text"
      },
      "source": [
        "<a href=\"https://colab.research.google.com/github/unicamp-dl/IA025_2022S1/blob/main/ex02/larissa_santesso/Aula_2_Exerc%C3%ADcio_Larissa_Santesso.ipynb\" target=\"_parent\"><img src=\"https://colab.research.google.com/assets/colab-badge.svg\" alt=\"Open In Colab\"/></a>"
      ]
    },
    {
      "cell_type": "markdown",
      "source": [
        "# Notebook de referência \n",
        "\n",
        "Nome: Larissa Antonelli Santesso"
      ],
      "metadata": {
        "id": "GqNC-aD3imli"
      }
    },
    {
      "cell_type": "markdown",
      "metadata": {
        "id": "FEB34HNpuVtP"
      },
      "source": [
        "## Instruções"
      ]
    },
    {
      "cell_type": "markdown",
      "metadata": {
        "id": "aKOp1WXHuVtR"
      },
      "source": [
        "Este exercício consiste em escrever um código para treinar um modelo linear usando SGD e vizualizar como a função de perda varia em função das pesos da rede.\n",
        "\n",
        "A implementação será considerada correta apenas se passar nos 3 asserts ao longo deste notebook."
      ]
    },
    {
      "cell_type": "markdown",
      "metadata": {
        "id": "uVvsCpB_uVtS"
      },
      "source": [
        "## Problema de Regressão Linear"
      ]
    },
    {
      "cell_type": "markdown",
      "metadata": {
        "id": "XpSx0ITuuVtU"
      },
      "source": [
        "O problema de ajuste de uma reta a um conjunto de pontos para verificar se existe uma previsão linear é um problema muito antigo, muito estudado e muito presente nos dias de hoje. \n",
        "\n",
        "Quando o ajuste é abordado como um problema de **otimização numérica**, ele é a base de boa parte dos **conceitos sobre redes neurais** e iremos explorá-lo aqui como uma forma de introdução às redes neurais. O modelo de regressão linear que iremos utilizar pode\n",
        "ser visto como uma rede neural de apenas uma camada e função de ativação linear."
      ]
    },
    {
      "cell_type": "markdown",
      "metadata": {
        "id": "Vws1xdXyuVtV"
      },
      "source": [
        "## Conjunto de dados: Flores Íris"
      ]
    },
    {
      "cell_type": "markdown",
      "metadata": {
        "id": "cG2UO9EwuVtW"
      },
      "source": [
        "Iremos utilizar duas propriedades do conjunto de dados das flores Íris [Wikipedia-Iris_flower_data_set](https://en.wikipedia.org/wiki/Iris_flower_data_set):\n",
        "\n",
        "* o comprimento das sépalas e \n",
        "* o comprimento da pétalas. \n",
        "\n",
        "A ideia será prever o comprimento da pétala, conhecendo-se o comprimento da sépala. Estaremos usando apenas uma propriedade, ou característica ou *feature* do objeto para que seja fácil visualizar o espaço de busca de parâmetros. \n",
        "\n",
        "Vamos utilizar as 50 amostras da variedade versicolor.\n",
        "\n",
        "![](https://raw.githubusercontent.com/robertoalotufo/files/master/figures/iris_petals_sepals.png)"
      ]
    },
    {
      "cell_type": "markdown",
      "metadata": {
        "id": "PBxvwp4RuVtX"
      },
      "source": [
        "## Dados: leitura e visualização\n"
      ]
    },
    {
      "cell_type": "code",
      "metadata": {
        "ExecuteTime": {
          "end_time": "2018-08-20T22:57:33.183566Z",
          "start_time": "2018-08-20T22:57:30.751725Z"
        },
        "id": "e8o6DbARuVtY"
      },
      "source": [
        "%matplotlib inline\n",
        "import matplotlib.pyplot as plt\n",
        "import ipywidgets as widgets\n",
        "from IPython import display\n",
        "\n",
        "import numpy as np\n",
        "import pandas as pd\n",
        "from sklearn.datasets import load_iris\n",
        "import time"
      ],
      "execution_count": 1,
      "outputs": []
    },
    {
      "cell_type": "code",
      "metadata": {
        "ExecuteTime": {
          "end_time": "2018-08-20T22:57:33.280393Z",
          "start_time": "2018-08-20T22:57:33.187143Z"
        },
        "id": "J3U7mxxCuVtc",
        "outputId": "5c64b171-271f-4e0f-97a9-b21c91728186",
        "colab": {
          "base_uri": "https://localhost:8080/",
          "height": 206
        }
      },
      "source": [
        "iris = load_iris()\n",
        "data = iris.data[iris.target==1,::2]  # comprimento das sépalas e pétalas, indices 0 e 2\n",
        "\n",
        "x_in = data[:,0:1]\n",
        "y_in = data[:,1:2]\n",
        "iris_pd = pd.DataFrame(x_in, columns=['x_in'])\n",
        "iris_pd['y_in'] = y_in\n",
        "iris_pd.head()"
      ],
      "execution_count": 2,
      "outputs": [
        {
          "output_type": "execute_result",
          "data": {
            "text/plain": [
              "   x_in  y_in\n",
              "0   7.0   4.7\n",
              "1   6.4   4.5\n",
              "2   6.9   4.9\n",
              "3   5.5   4.0\n",
              "4   6.5   4.6"
            ],
            "text/html": [
              "\n",
              "  <div id=\"df-d0e3fba9-8bca-4281-a738-5e71e3c980ae\">\n",
              "    <div class=\"colab-df-container\">\n",
              "      <div>\n",
              "<style scoped>\n",
              "    .dataframe tbody tr th:only-of-type {\n",
              "        vertical-align: middle;\n",
              "    }\n",
              "\n",
              "    .dataframe tbody tr th {\n",
              "        vertical-align: top;\n",
              "    }\n",
              "\n",
              "    .dataframe thead th {\n",
              "        text-align: right;\n",
              "    }\n",
              "</style>\n",
              "<table border=\"1\" class=\"dataframe\">\n",
              "  <thead>\n",
              "    <tr style=\"text-align: right;\">\n",
              "      <th></th>\n",
              "      <th>x_in</th>\n",
              "      <th>y_in</th>\n",
              "    </tr>\n",
              "  </thead>\n",
              "  <tbody>\n",
              "    <tr>\n",
              "      <th>0</th>\n",
              "      <td>7.0</td>\n",
              "      <td>4.7</td>\n",
              "    </tr>\n",
              "    <tr>\n",
              "      <th>1</th>\n",
              "      <td>6.4</td>\n",
              "      <td>4.5</td>\n",
              "    </tr>\n",
              "    <tr>\n",
              "      <th>2</th>\n",
              "      <td>6.9</td>\n",
              "      <td>4.9</td>\n",
              "    </tr>\n",
              "    <tr>\n",
              "      <th>3</th>\n",
              "      <td>5.5</td>\n",
              "      <td>4.0</td>\n",
              "    </tr>\n",
              "    <tr>\n",
              "      <th>4</th>\n",
              "      <td>6.5</td>\n",
              "      <td>4.6</td>\n",
              "    </tr>\n",
              "  </tbody>\n",
              "</table>\n",
              "</div>\n",
              "      <button class=\"colab-df-convert\" onclick=\"convertToInteractive('df-d0e3fba9-8bca-4281-a738-5e71e3c980ae')\"\n",
              "              title=\"Convert this dataframe to an interactive table.\"\n",
              "              style=\"display:none;\">\n",
              "        \n",
              "  <svg xmlns=\"http://www.w3.org/2000/svg\" height=\"24px\"viewBox=\"0 0 24 24\"\n",
              "       width=\"24px\">\n",
              "    <path d=\"M0 0h24v24H0V0z\" fill=\"none\"/>\n",
              "    <path d=\"M18.56 5.44l.94 2.06.94-2.06 2.06-.94-2.06-.94-.94-2.06-.94 2.06-2.06.94zm-11 1L8.5 8.5l.94-2.06 2.06-.94-2.06-.94L8.5 2.5l-.94 2.06-2.06.94zm10 10l.94 2.06.94-2.06 2.06-.94-2.06-.94-.94-2.06-.94 2.06-2.06.94z\"/><path d=\"M17.41 7.96l-1.37-1.37c-.4-.4-.92-.59-1.43-.59-.52 0-1.04.2-1.43.59L10.3 9.45l-7.72 7.72c-.78.78-.78 2.05 0 2.83L4 21.41c.39.39.9.59 1.41.59.51 0 1.02-.2 1.41-.59l7.78-7.78 2.81-2.81c.8-.78.8-2.07 0-2.86zM5.41 20L4 18.59l7.72-7.72 1.47 1.35L5.41 20z\"/>\n",
              "  </svg>\n",
              "      </button>\n",
              "      \n",
              "  <style>\n",
              "    .colab-df-container {\n",
              "      display:flex;\n",
              "      flex-wrap:wrap;\n",
              "      gap: 12px;\n",
              "    }\n",
              "\n",
              "    .colab-df-convert {\n",
              "      background-color: #E8F0FE;\n",
              "      border: none;\n",
              "      border-radius: 50%;\n",
              "      cursor: pointer;\n",
              "      display: none;\n",
              "      fill: #1967D2;\n",
              "      height: 32px;\n",
              "      padding: 0 0 0 0;\n",
              "      width: 32px;\n",
              "    }\n",
              "\n",
              "    .colab-df-convert:hover {\n",
              "      background-color: #E2EBFA;\n",
              "      box-shadow: 0px 1px 2px rgba(60, 64, 67, 0.3), 0px 1px 3px 1px rgba(60, 64, 67, 0.15);\n",
              "      fill: #174EA6;\n",
              "    }\n",
              "\n",
              "    [theme=dark] .colab-df-convert {\n",
              "      background-color: #3B4455;\n",
              "      fill: #D2E3FC;\n",
              "    }\n",
              "\n",
              "    [theme=dark] .colab-df-convert:hover {\n",
              "      background-color: #434B5C;\n",
              "      box-shadow: 0px 1px 3px 1px rgba(0, 0, 0, 0.15);\n",
              "      filter: drop-shadow(0px 1px 2px rgba(0, 0, 0, 0.3));\n",
              "      fill: #FFFFFF;\n",
              "    }\n",
              "  </style>\n",
              "\n",
              "      <script>\n",
              "        const buttonEl =\n",
              "          document.querySelector('#df-d0e3fba9-8bca-4281-a738-5e71e3c980ae button.colab-df-convert');\n",
              "        buttonEl.style.display =\n",
              "          google.colab.kernel.accessAllowed ? 'block' : 'none';\n",
              "\n",
              "        async function convertToInteractive(key) {\n",
              "          const element = document.querySelector('#df-d0e3fba9-8bca-4281-a738-5e71e3c980ae');\n",
              "          const dataTable =\n",
              "            await google.colab.kernel.invokeFunction('convertToInteractive',\n",
              "                                                     [key], {});\n",
              "          if (!dataTable) return;\n",
              "\n",
              "          const docLinkHtml = 'Like what you see? Visit the ' +\n",
              "            '<a target=\"_blank\" href=https://colab.research.google.com/notebooks/data_table.ipynb>data table notebook</a>'\n",
              "            + ' to learn more about interactive tables.';\n",
              "          element.innerHTML = '';\n",
              "          dataTable['output_type'] = 'display_data';\n",
              "          await google.colab.output.renderOutput(dataTable, element);\n",
              "          const docLink = document.createElement('div');\n",
              "          docLink.innerHTML = docLinkHtml;\n",
              "          element.appendChild(docLink);\n",
              "        }\n",
              "      </script>\n",
              "    </div>\n",
              "  </div>\n",
              "  "
            ]
          },
          "metadata": {},
          "execution_count": 2
        }
      ]
    },
    {
      "cell_type": "markdown",
      "metadata": {
        "id": "vbE9iw_nuVth"
      },
      "source": [
        "## Visualização dos dados `x_in` e `y_in` e normalizados"
      ]
    },
    {
      "cell_type": "code",
      "metadata": {
        "ExecuteTime": {
          "end_time": "2018-08-20T22:57:34.513338Z",
          "start_time": "2018-08-20T22:57:33.455116Z"
        },
        "id": "Czv-YcXvuVti",
        "outputId": "feb3b1c7-99c7-4ac1-cb91-37c3640a50dc",
        "colab": {
          "base_uri": "https://localhost:8080/",
          "height": 334
        }
      },
      "source": [
        "x = x_in - x_in.min()\n",
        "x /= x.max()    # normalização\n",
        "y = y_in - y_in.min()\n",
        "y /= y.max()\n",
        "\n",
        "fig = plt.figure(figsize=(16,5))\n",
        "ax_in = fig.add_subplot(1,2,1)\n",
        "ax_in.scatter(x_in, y_in)\n",
        "ax_in.set_xlabel('Comprimento sepalas')\n",
        "ax_in.set_ylabel('Comprimento petalas')\n",
        "ax_n = fig.add_subplot(1,2,2)\n",
        "ax_n.scatter(x, y)\n",
        "ax_n.set_xlabel('Comprimento normalizado sepalas')\n",
        "ax_n.set_ylabel('Comprimento normalizado petalas');"
      ],
      "execution_count": 3,
      "outputs": [
        {
          "output_type": "display_data",
          "data": {
            "text/plain": [
              "<Figure size 1152x360 with 2 Axes>"
            ],
            "image/png": "[encoded data removed]"
          },
          "metadata": {
            "needs_background": "light"
          }
        }
      ]
    },
    {
      "cell_type": "markdown",
      "metadata": {
        "id": "h7IFlfHjuVtl"
      },
      "source": [
        "## Reta de ajuste"
      ]
    },
    {
      "cell_type": "markdown",
      "metadata": {
        "id": "vJQZQKmhuVtm"
      },
      "source": [
        "A equação da reta no plano necessita de dois parâmetros, aqui denominados $w_0$ (*bias*) e inclinação $w_1$. Veja figura:\n",
        "\n",
        "\n",
        "<img src=\"https://raw.githubusercontent.com/robertoalotufo/files/master/figures/linhareta.png\" width=\"300pt\">\n",
        "\n",
        "A reta de ajuste será dada por:\n",
        "\n",
        "$$ \\hat{y} = w_0 + w_1 x $$\n",
        "\n",
        "onde \n",
        "* $w_1$ é o coeficiente angular da reta e \n",
        "* $w_0$ é a interseção do eixo vertical quando x é igual a zero, também denominado de *bias*.\n",
        "* $x$ é a variável de entrada (comprimento das sépalas) e \n",
        "* $\\hat{y}$ é a predição (comprimento estimado das pétalas)."
      ]
    },
    {
      "cell_type": "markdown",
      "metadata": {
        "id": "8Ajs4XteuVtn"
      },
      "source": [
        "## Representação gráfica da equação linear via neurônio"
      ]
    },
    {
      "cell_type": "markdown",
      "metadata": {
        "id": "tGLD4vWkuVto"
      },
      "source": [
        "$ \\hat{y} = 1 w_0 + x_0 w_1 $\n",
        "\n",
        "Temos:\n",
        "- 1 atributo de entrada: $x_0$\n",
        "- 2 parâmetros para serem ajustados (treinados) $w_0$ e $w_1$\n",
        "- 1 classe de saída $\\hat{y}$\n",
        "\n",
        "<img src=\"https://raw.githubusercontent.com/robertoalotufo/files/master/figures/RegressaoLinearNeuronio.png\" width=\"300pt\">\n",
        "$$ \\hat{y} = w_0 + w_1 x $$\n",
        "$$ \\mathbf{\\hat{y}} = \\mathbf{w} \\mathbf{x} $$"
      ]
    },
    {
      "cell_type": "markdown",
      "metadata": {
        "id": "8LQIj6bAuVtp"
      },
      "source": [
        "### Função Custo ou de Perda (MSE - Mean Square Error)"
      ]
    },
    {
      "cell_type": "markdown",
      "metadata": {
        "id": "SjDhur3YuVtq"
      },
      "source": [
        "<img src=\"https://raw.githubusercontent.com/robertoalotufo/files/master//figures/Loss_MSE.png\" width = \"600pt\">\n"
      ]
    },
    {
      "cell_type": "markdown",
      "metadata": {
        "collapsed": true,
        "id": "vSHV19BZuVtr"
      },
      "source": [
        "A função de custo depende do conjunto de treinamento ($y_i$) e dos valores de predição ($\\hat{y_i}$):\n",
        "\n",
        "$$ J(\\hat{y_i},y_i) = \\frac{1}{M} \\sum_{i=0}^{M-1} (\\hat{y_i} - y_i)^2 $$ .\n"
      ]
    },
    {
      "cell_type": "markdown",
      "metadata": {
        "id": "0sCJNYhluVts"
      },
      "source": [
        "## Laço de minimização via gradiente descendente"
      ]
    },
    {
      "cell_type": "markdown",
      "metadata": {
        "id": "zZEiH3teuVtt"
      },
      "source": [
        "O código da próxima célula é a parte principal deste notebook. É aqui que a minimização é feita. É aqui que dizemos que estamos fazendo o *fit*, ou o treinamento do sistema para encontrar o parâmetro $\\mathbf{W}$ que minimiza a função de perda $J$. Acompanhamos a convergência da minimização pelo valor da perda a cada iteração, plotando o vetor `J_history`."
      ]
    },
    {
      "cell_type": "markdown",
      "metadata": {
        "id": "kozomVYuuVtu"
      },
      "source": [
        "O esquema da otimização é representado pelo diagrama a seguir:\n",
        "\n",
        "<img src=\"https://raw.githubusercontent.com/robertoalotufo/files/master/figures/RegressaoLinear_Otimizacao.png\" width = \"600pt\">\n",
        "\n",
        "e é implementado pela próxima célula de código:"
      ]
    },
    {
      "cell_type": "markdown",
      "metadata": {
        "id": "-OdOS-k7uVtu"
      },
      "source": [
        "## Funções: Custo, Gradiente Descendente"
      ]
    },
    {
      "cell_type": "code",
      "source": [
        "# É importante fixar as seeds para passar nos asserts abaixo.\n",
        "\n",
        "import random\n",
        "import numpy as np\n",
        "\n",
        "random.seed(123)\n",
        "np.random.seed(123)"
      ],
      "metadata": {
        "id": "Yi46ZI1fxPjP"
      },
      "execution_count": 4,
      "outputs": []
    },
    {
      "cell_type": "code",
      "source": [
        "import torch\n",
        "from torch import nn, optim\n",
        "\n",
        "torch.manual_seed(123)"
      ],
      "metadata": {
        "id": "JtUVk6_7cKym",
        "colab": {
          "base_uri": "https://localhost:8080/"
        },
        "outputId": "083c0aff-5f3c-4606-b644-21a08aca50ab"
      },
      "execution_count": 5,
      "outputs": [
        {
          "output_type": "execute_result",
          "data": {
            "text/plain": [
              "<torch._C.Generator at 0x7f3cd5ddb490>"
            ]
          },
          "metadata": {},
          "execution_count": 5
        }
      ]
    },
    {
      "cell_type": "code",
      "source": [
        "class Model():\n",
        "    def __init__(self, n_in: int, n_out: int):\n",
        "        self.weight = torch.zeros(n_out,n_in, requires_grad=True)\n",
        "    \n",
        "    def forward(self, x):\n",
        "        y_pred = x.mm(torch.t(self.weight))\n",
        "        return y_pred"
      ],
      "metadata": {
        "id": "0oS95kQOb2ca"
      },
      "execution_count": 6,
      "outputs": []
    },
    {
      "cell_type": "code",
      "source": [
        "# Testando uma maneira de pegar mini batches (fonte)\n",
        "X = torch.Tensor(x)\n",
        "Y = torch.Tensor(y)\n",
        "permutation = torch.randperm(X.size()[0])\n",
        "print(f\"Permutation = {permutation}\")\n",
        "batch_size = 10\n",
        "for i in range(0,X.size()[0], batch_size):\n",
        "\n",
        "    indices = permutation[i:i+batch_size]\n",
        "    print(f\"indices: {indices}\")\n",
        "    batch_x, batch_y = X[indices], Y[indices]\n",
        "    print(f\"batch_x, batch_y = {torch.cat((batch_x, batch_y),1)}\")\n",
        "\n",
        "# fonte: https://stackoverflow.com/questions/45113245/how-to-get-mini-batches-in-pytorch-in-a-clean-and-efficient-way"
      ],
      "metadata": {
        "colab": {
          "base_uri": "https://localhost:8080/"
        },
        "id": "NwKhI6NlS31G",
        "outputId": "b138fa1f-fbbb-410e-c52b-fc3916dd1934"
      },
      "execution_count": 7,
      "outputs": [
        {
          "output_type": "stream",
          "name": "stdout",
          "text": [
            "Permutation = tensor([32, 30,  0, 16, 24, 37,  3, 41, 13, 12, 21, 15, 18,  5, 42, 49, 28, 23,\n",
            "        27,  9,  1, 10, 29, 17, 11, 19, 47, 36, 46, 22,  6,  8,  7, 34, 25, 33,\n",
            "        31, 48, 14, 38, 44,  2, 39, 40,  4, 20, 45, 43, 35, 26])\n",
            "indices: tensor([32, 30,  0, 16, 24, 37,  3, 41, 13, 12])\n",
            "batch_x, batch_y = tensor([[0.4286, 0.4286],\n",
            "        [0.2857, 0.3810],\n",
            "        [1.0000, 0.8095],\n",
            "        [0.3333, 0.7143],\n",
            "        [0.7143, 0.6190],\n",
            "        [0.6667, 0.6667],\n",
            "        [0.2857, 0.4762],\n",
            "        [0.5714, 0.7619],\n",
            "        [0.5714, 0.8095],\n",
            "        [0.5238, 0.4762]])\n",
            "indices: tensor([21, 15, 18,  5, 42, 49, 28, 23, 27,  9])\n",
            "batch_x, batch_y = tensor([[0.5714, 0.4762],\n",
            "        [0.8571, 0.6667],\n",
            "        [0.6190, 0.7143],\n",
            "        [0.3810, 0.7143],\n",
            "        [0.4286, 0.4762],\n",
            "        [0.3810, 0.5238],\n",
            "        [0.5238, 0.7143],\n",
            "        [0.5714, 0.8095],\n",
            "        [0.8571, 0.9524],\n",
            "        [0.1429, 0.4286]])\n",
            "indices: tensor([ 1, 10, 29, 17, 11, 19, 47, 36, 46, 22])\n",
            "batch_x, batch_y = tensor([[0.7143, 0.7143],\n",
            "        [0.0476, 0.2381],\n",
            "        [0.3810, 0.2381],\n",
            "        [0.4286, 0.5238],\n",
            "        [0.4762, 0.5714],\n",
            "        [0.3333, 0.4286],\n",
            "        [0.6190, 0.6190],\n",
            "        [0.8571, 0.8095],\n",
            "        [0.3810, 0.5714],\n",
            "        [0.6667, 0.9048]])\n",
            "indices: tensor([ 6,  8,  7, 34, 25, 33, 31, 48, 14, 38])\n",
            "batch_x, batch_y = tensor([[0.6667, 0.8095],\n",
            "        [0.8095, 0.7619],\n",
            "        [0.0000, 0.1429],\n",
            "        [0.2381, 0.7143],\n",
            "        [0.8095, 0.6667],\n",
            "        [0.5238, 1.0000],\n",
            "        [0.2857, 0.3333],\n",
            "        [0.0952, 0.0000],\n",
            "        [0.3333, 0.2857],\n",
            "        [0.3333, 0.5238]])\n",
            "indices: tensor([44,  2, 39, 40,  4, 20, 45, 43, 35, 26])\n",
            "batch_x, batch_y = tensor([[0.3333, 0.5714],\n",
            "        [0.9524, 0.9048],\n",
            "        [0.2857, 0.4762],\n",
            "        [0.2857, 0.6667],\n",
            "        [0.7619, 0.7619],\n",
            "        [0.4762, 0.8571],\n",
            "        [0.3810, 0.5714],\n",
            "        [0.0476, 0.1429],\n",
            "        [0.5238, 0.7143],\n",
            "        [0.9048, 0.8571]])\n"
          ]
        }
      ]
    },
    {
      "cell_type": "code",
      "metadata": {
        "ExecuteTime": {
          "end_time": "2018-08-20T22:57:43.583706Z",
          "start_time": "2018-08-20T22:57:43.054400Z"
        },
        "id": "Qs5sC8YBcwrX"
      },
      "source": [
        "def train(model, x, y, learning_rate: float, n_epochs: int):\n",
        "    \"\"\"Train a linear model with SGD.\n",
        "\n",
        "    Returns:\n",
        "        loss_history: a np.array of shape (n_epochs,)\n",
        "        w_history: a np.array of shape (n_epochs, 2)\n",
        "    \"\"\"\n",
        "    # inicializando listas\n",
        "    loss_history = []\n",
        "    w_history = []\n",
        "\n",
        "    # criando vetor x com bias\n",
        "    x_train_bias = torch.cat([torch.ones(size=(len(x),1)), torch.Tensor(x)], dim=1)\n",
        "\n",
        "    # transformando para torch x_bias e y\n",
        "    x_bias_torch = torch.Tensor(x_train_bias)\n",
        "    y_torch = torch.Tensor(y)\n",
        "\n",
        "    # definindo tamanho do batch\n",
        "    batch_size = 50\n",
        "\n",
        "    # loss utilizada: MSE\n",
        "    criterion = nn.MSELoss()\n",
        "\n",
        "    for epoch in range(n_epochs):\n",
        "        # criando tensor com númeor de índices aleatórios com tamanho do dataset de treino (50)\n",
        "        permutation = torch.randperm(x_bias_torch.size()[0])\n",
        "        \n",
        "        # salvando os pesos em uma lista\n",
        "        w_history.extend(model.weight.detach().numpy())\n",
        "\n",
        "        # pegando os índices randômicos a cada batch_size e aplicando em x,y\n",
        "        for i in range(0,x_bias_torch.size()[0], batch_size):\n",
        "            indices = permutation[i:i+batch_size]\n",
        "            batch_x, batch_y = x_bias_torch[indices], y_torch[indices]\n",
        "\n",
        "            inputs = batch_x\n",
        "            target = batch_y\n",
        "\n",
        "            # saída do modelo\n",
        "            out = model.forward(inputs)\n",
        "\n",
        "            #loss cálculo da função de perda\n",
        "            loss = criterion(out, target)\n",
        "\n",
        "            if model.weight.grad: model.weight.grad.zero_()\n",
        "            loss.backward()\n",
        "\n",
        "            # cálculo do gradiente\n",
        "            w_grad = model.weight.grad\n",
        "\n",
        "            # gradiente descendente\n",
        "            with torch.no_grad(): model.weight = model.weight - learning_rate * w_grad\n",
        "            model.weight.requires_grad_()\n",
        "\n",
        "        # salvando a loss em uma lista\n",
        "        loss_history.append(loss.detach().numpy())\n",
        "\n",
        "        # imprimindo valores da loss a cada época\n",
        "        if (epoch+1) % 1 == 0:\n",
        "            print('Epoch[{}/{}], loss: {:.6f}'\n",
        "                .format(epoch+1, n_epochs, loss.item()))\n",
        "\n",
        "    # salvando a última loss e os últimos pesos na lista\n",
        "    out = model.forward(inputs)\n",
        "    loss = criterion(out, target)\n",
        "    loss_history.append(loss.detach().numpy())\n",
        "    w_history.extend(model.weight.detach().numpy())\n",
        "\n",
        "    # convertendo para um array float64\n",
        "    loss_history = np.array(loss_history,dtype=np.float64)\n",
        "    w_history = np.array(w_history, dtype=np.float64)\n",
        "\n",
        "    return loss_history, w_history"
      ],
      "execution_count": 8,
      "outputs": []
    },
    {
      "cell_type": "markdown",
      "source": [
        "### Testando as funções"
      ],
      "metadata": {
        "id": "6C-L2NTBvTGh"
      }
    },
    {
      "cell_type": "code",
      "source": [
        "model = Model(2, 1) # duas entradas (1 + x0) e uma saída y_pred\n",
        "loss_history, w_history = train(model=model, x=x, y=y, learning_rate=0.5, n_epochs=20)"
      ],
      "metadata": {
        "id": "E7TbIlWuvSLo",
        "outputId": "be04639f-f6c3-40c4-c796-c938d194720c",
        "colab": {
          "base_uri": "https://localhost:8080/"
        }
      },
      "execution_count": 9,
      "outputs": [
        {
          "output_type": "stream",
          "name": "stdout",
          "text": [
            "Epoch[1/20], loss: 0.409070\n",
            "Epoch[2/20], loss: 0.055997\n",
            "Epoch[3/20], loss: 0.032085\n",
            "Epoch[4/20], loss: 0.029729\n",
            "Epoch[5/20], loss: 0.028853\n",
            "Epoch[6/20], loss: 0.028139\n",
            "Epoch[7/20], loss: 0.027497\n",
            "Epoch[8/20], loss: 0.026914\n",
            "Epoch[9/20], loss: 0.026385\n",
            "Epoch[10/20], loss: 0.025905\n",
            "Epoch[11/20], loss: 0.025469\n",
            "Epoch[12/20], loss: 0.025073\n",
            "Epoch[13/20], loss: 0.024713\n",
            "Epoch[14/20], loss: 0.024387\n",
            "Epoch[15/20], loss: 0.024090\n",
            "Epoch[16/20], loss: 0.023821\n",
            "Epoch[17/20], loss: 0.023577\n",
            "Epoch[18/20], loss: 0.023355\n",
            "Epoch[19/20], loss: 0.023154\n",
            "Epoch[20/20], loss: 0.022971\n"
          ]
        }
      ]
    },
    {
      "cell_type": "code",
      "source": [
        "w_history"
      ],
      "metadata": {
        "id": "SGudS2NMcy0s",
        "outputId": "cd31b2b5-3c76-43bc-ee81-778808404dd6",
        "colab": {
          "base_uri": "https://localhost:8080/"
        }
      },
      "execution_count": 10,
      "outputs": [
        {
          "output_type": "execute_result",
          "data": {
            "text/plain": [
              "array([[0.        , 0.        ],\n",
              "       [0.60000002, 0.33664399],\n",
              "       [0.43392229, 0.27542454],\n",
              "       [0.4641239 , 0.31466085],\n",
              "       [0.44476733, 0.3271254 ],\n",
              "       [0.43861815, 0.34536761],\n",
              "       [0.42961866, 0.36112359],\n",
              "       [0.4218457 , 0.37655178],\n",
              "       [0.41423446, 0.3911463 ],\n",
              "       [0.40703452, 0.4050796 ],\n",
              "       [0.40016073, 0.41834888],\n",
              "       [0.39361456, 0.43099412],\n",
              "       [0.38737625, 0.44304258],\n",
              "       [0.38143232, 0.45452291],\n",
              "       [0.37576869, 0.46546179],\n",
              "       [0.37037218, 0.4758848 ],\n",
              "       [0.36523017, 0.48581624],\n",
              "       [0.36033067, 0.49527928],\n",
              "       [0.35566223, 0.50429606],\n",
              "       [0.35121396, 0.5128876 ],\n",
              "       [0.34697545, 0.52107394]])"
            ]
          },
          "metadata": {},
          "execution_count": 10
        }
      ]
    },
    {
      "cell_type": "code",
      "source": [
        "loss_history"
      ],
      "metadata": {
        "outputId": "81071b47-dbf2-4174-8c37-3f51d44fd34a",
        "colab": {
          "base_uri": "https://localhost:8080/"
        },
        "id": "6Trs8Y25H17C"
      },
      "execution_count": 11,
      "outputs": [
        {
          "output_type": "execute_result",
          "data": {
            "text/plain": [
              "array([0.40907028, 0.05599691, 0.03208511, 0.02972902, 0.02885257,\n",
              "       0.02813922, 0.02749694, 0.02691416, 0.02638508, 0.02590473,\n",
              "       0.02546862, 0.02507267, 0.02471319, 0.02438681, 0.0240905 ,\n",
              "       0.02382147, 0.02357722, 0.02335547, 0.02315414, 0.02297135,\n",
              "       0.02280539])"
            ]
          },
          "metadata": {},
          "execution_count": 11
        }
      ]
    },
    {
      "cell_type": "code",
      "source": [
        "# Assert do histórico de losses\n",
        "target_loss_history = np.array(\n",
        "    [0.40907029, 0.0559969 , 0.03208511, 0.02972902, 0.02885257,\n",
        "     0.02813922, 0.02749694, 0.02691416, 0.02638508, 0.02590473,\n",
        "     0.02546862, 0.02507267, 0.02471319, 0.02438681, 0.0240905 ,\n",
        "     0.02382147, 0.02357722, 0.02335547, 0.02315414, 0.02297135,\n",
        "     0.0228054])\n",
        "\n",
        "assert np.allclose(loss_history, target_loss_history, atol=1e-6)"
      ],
      "metadata": {
        "id": "WhZj9Qcjz3h3"
      },
      "execution_count": 12,
      "outputs": []
    },
    {
      "cell_type": "code",
      "source": [
        "# Assert de histórico de pesos da rede\n",
        "target_w_history = np.array(\n",
        "    [[0.,         0.        ],\n",
        "    [0.6,        0.336644  ],\n",
        "    [0.4339223,  0.27542454],\n",
        "    [0.4641239,  0.31466085],\n",
        "    [0.44476733, 0.3271254 ],\n",
        "    [0.43861815, 0.3453676 ],\n",
        "    [0.42961866, 0.3611236 ],\n",
        "    [0.4218457,  0.37655178],\n",
        "    [0.41423446, 0.3911463 ],\n",
        "    [0.40703452, 0.4050796 ],\n",
        "    [0.40016073, 0.41834888],\n",
        "    [0.39361456, 0.43099412],\n",
        "    [0.38737625, 0.44304258],\n",
        "    [0.38143232, 0.4545229 ],\n",
        "    [0.3757687,  0.4654618 ],\n",
        "    [0.37037218, 0.4758848 ],\n",
        "    [0.36523017, 0.48581624],\n",
        "    [0.36033067, 0.49527928],\n",
        "    [0.35566223, 0.50429606],\n",
        "    [0.35121396, 0.5128876 ],\n",
        "    [0.34697545, 0.52107394]])\n",
        "\n",
        "assert np.allclose(w_history, target_w_history, atol=1e-6)"
      ],
      "metadata": {
        "id": "_BrLghe-zzow"
      },
      "execution_count": 13,
      "outputs": []
    },
    {
      "cell_type": "markdown",
      "source": [
        "# Função de cálculo do grid de custos"
      ],
      "metadata": {
        "id": "MHiCDLugqR4R"
      }
    },
    {
      "cell_type": "code",
      "source": [
        "def compute_loss_grid(x, y, w_0_grid, w_1_grid):\n",
        "    \"\"\"Returns:\n",
        "        loss_grid: an array with the same shape of w_0_grid (or w_1_grid). \n",
        "    \"\"\"\n",
        "\n",
        "    # Criando um meshgrid de w0 e w1 (cada combinação será avaliada)\n",
        "    w0, w1  = np.meshgrid(w_0_grid, w_1_grid) # w0 e w1 - shape [100, 100]\n",
        "\n",
        "    # Ajustando as dimensões do w0, w1 e da entrada e saída (x e y) para realizar o cálculo matricialmente\n",
        "    w0 = np.expand_dims(w0, axis=-1) # shape [100, 100, 1]\n",
        "    print(f\"w0: {w0.shape}\")\n",
        "    w1 = np.expand_dims(w1, axis=-1) # shape [100, 100, 1]\n",
        "    print(f\"w1: {w1.shape}\")\n",
        "    xt = x.reshape(1,1,-1) # shape [1, 1, 50]\n",
        "    print(f\"x (reshape): {xt.shape}\")\n",
        "    yt = y.reshape(1,1,-1) # shape [1, 1, 50]\n",
        "    print(f\"y (reshape): {yt.shape}\")\n",
        "\n",
        "    # Cálculo do y predito para cada combinação de w0,w1\n",
        "    # com a terceira dimensão contendo o valor predito para cada amostra.\n",
        "    ypred = w0 + w1*xt # ypred shape [100, 100, 50]\n",
        "    print(f\"ypred: {ypred.shape}\")\n",
        "\n",
        "    # Cálculo da loss avaliada entre ypred e yt\n",
        "    loss = np.square(ypred-yt)  # loss shape [100, 100, 50]\n",
        "    print(f\"loss: {loss.shape}\")\n",
        "    # Calculando a média de cada loss entre todas as amostras \n",
        "    # (a terceira dimensão irá sumir nessa etapa)\n",
        "    loss_grid = loss.mean(axis=2) # loss_grid shape [100, 100]\n",
        "    print(f\"loss_grid: {loss_grid.shape}\")\n",
        "    return loss_grid"
      ],
      "metadata": {
        "id": "zMQ58kwqZBHL"
      },
      "execution_count": 14,
      "outputs": []
    },
    {
      "cell_type": "code",
      "source": [
        "wmin = w_history.min(axis=0)\n",
        "wmax = w_history.max(axis=0)\n",
        "D = wmax - wmin\n",
        "wmin -= D\n",
        "wmax += D\n",
        "\n",
        "w_0_grid = np.linspace(wmin[0], wmax[0], 100)\n",
        "w_1_grid = np.linspace(wmin[1], wmax[1], 100)\n",
        "\n",
        "loss_grid = compute_loss_grid(x, y, w_0_grid, w_1_grid)"
      ],
      "metadata": {
        "id": "l9ygbpRxJPnV",
        "outputId": "c2872b84-f443-430d-c9bb-d67af63d434c",
        "colab": {
          "base_uri": "https://localhost:8080/"
        }
      },
      "execution_count": 15,
      "outputs": [
        {
          "output_type": "stream",
          "name": "stdout",
          "text": [
            "w0: (100, 100, 1)\n",
            "w1: (100, 100, 1)\n",
            "x (reshape): (1, 1, 50)\n",
            "y (reshape): (1, 1, 50)\n",
            "ypred: (100, 100, 50)\n",
            "loss: (100, 100, 50)\n",
            "loss_grid: (100, 100)\n"
          ]
        }
      ]
    },
    {
      "cell_type": "markdown",
      "source": [
        "### Testando a função"
      ],
      "metadata": {
        "id": "zbnwHButrRfh"
      }
    },
    {
      "cell_type": "code",
      "source": [
        "!gsutil cp gs://unicamp-dl/ia025a_2022s1/aula2/target_loss_grid.npy .\n",
        "target_loss_grid = np.load('target_loss_grid.npy')"
      ],
      "metadata": {
        "id": "LIJrVbJ-V4zt",
        "outputId": "6b7fd6ea-913f-4b8d-9f6e-f0238eae1b3b",
        "colab": {
          "base_uri": "https://localhost:8080/"
        }
      },
      "execution_count": 16,
      "outputs": [
        {
          "output_type": "stream",
          "name": "stdout",
          "text": [
            "Copying gs://unicamp-dl/ia025a_2022s1/aula2/target_loss_grid.npy...\n",
            "/ [1 files][ 78.2 KiB/ 78.2 KiB]                                                \n",
            "Operation completed over 1 objects/78.2 KiB.                                     \n"
          ]
        }
      ]
    },
    {
      "cell_type": "code",
      "source": [
        "assert np.allclose(loss_grid, target_loss_grid, atol=1e-6) "
      ],
      "metadata": {
        "id": "UNwn3RHcWKEI"
      },
      "execution_count": 17,
      "outputs": []
    },
    {
      "cell_type": "markdown",
      "metadata": {
        "id": "jkQqeZPjuVt2"
      },
      "source": [
        "## Funcão de Plot"
      ]
    },
    {
      "cell_type": "code",
      "metadata": {
        "ExecuteTime": {
          "end_time": "2018-08-20T22:57:44.389395Z",
          "start_time": "2018-08-20T22:57:44.359015Z"
        },
        "id": "HhIiKg2IuVt3"
      },
      "source": [
        "def show_plots(x, y, w_0_grid, w_1_grid, loss_grid, loss_history, w_history, sleep=0.3):\n",
        "    n_samples = y.shape[0]\n",
        "\n",
        "    # valor ótimo, solução analítica\n",
        "    # ------------------------------\n",
        "    x_bias = np.hstack([np.ones((n_samples, 1)), x])\n",
        "    w_opt = (np.linalg.inv((x_bias.T).dot(x_bias)).dot(x_bias.T)).dot(y)    \n",
        "    x_all = np.linspace(x.min(), x.max(), 100).reshape(100, 1)\n",
        "    x_all_bias = np.hstack([np.ones((100, 1)), x_all])\n",
        "    result_opt = x_all_bias.dot(w_opt)    # Predição do valor ótimo\n",
        "        \n",
        "    # Gráficos:\n",
        "    # --------\n",
        "    fig = plt.figure(figsize=(18, 6))\n",
        "    ax_grid = fig.add_subplot(1, 3, 1)    # Grid de losses\n",
        "    ax_loss = fig.add_subplot(1, 3, 2)    # Função perda\n",
        "\n",
        "    ax_loss.plot(loss_history)\n",
        "    ax_loss.set_title('Perda', fontsize=15)\n",
        "    ax_loss.set_xlabel('epochs', fontsize=10)\n",
        "    ax_loss.set_ylabel('MSE', fontsize=10)\n",
        "\n",
        "    ax_grid.pcolormesh(w_0_grid, w_1_grid, loss_grid, cmap=plt.cm.coolwarm)\n",
        "    ax_grid.contour(w_0_grid, w_1_grid, loss_grid, 20)\n",
        "    ax_grid.scatter(w_opt[0], w_opt[1], marker='x', c='w')  # Solução analítica.\n",
        "    ax_grid.set_title('W', fontsize=15)\n",
        "    ax_grid.set_xlabel('w0', fontsize=10)\n",
        "    ax_grid.set_ylabel('w1', fontsize=10)\n",
        "\n",
        "    # Plot dinâmico\n",
        "    # -------------\n",
        "    for i, (loss, w) in enumerate(zip(loss_history, w_history)):\n",
        "        ax_loss.scatter(i, loss)\n",
        "                            \n",
        "        ax_grid.scatter(w[0], w[1], c='r', marker='o')\n",
        "        \n",
        "        display.display(fig)\n",
        "        display.clear_output(wait=True)\n",
        "        time.sleep(sleep)\n"
      ],
      "execution_count": 18,
      "outputs": []
    },
    {
      "cell_type": "markdown",
      "metadata": {
        "id": "8ePrG4fQuVt6"
      },
      "source": [
        "## Plotagem iterativa do gradiente descendente, reta ajuste, parâmetros, função perda"
      ]
    },
    {
      "cell_type": "code",
      "metadata": {
        "ExecuteTime": {
          "end_time": "2018-08-20T22:58:20.107148Z",
          "start_time": "2018-08-20T22:57:47.928146Z"
        },
        "id": "Zx73IXaIuVt7",
        "scrolled": false,
        "outputId": "7cc995ec-1368-4cfe-d83c-4cd94e36d881",
        "colab": {
          "base_uri": "https://localhost:8080/",
          "height": 406
        }
      },
      "source": [
        "%matplotlib inline\n",
        "try:\n",
        "    show_plots(x, y, w_0_grid, w_1_grid, loss_grid, loss_history, w_history, sleep=0.01)\n",
        "except KeyboardInterrupt:\n",
        "    pass"
      ],
      "execution_count": 19,
      "outputs": [
        {
          "output_type": "display_data",
          "data": {
            "text/plain": [
              "<Figure size 1296x432 with 2 Axes>"
            ],
            "image/png": "[encoded data removed]"
          },
          "metadata": {
            "needs_background": "light"
          }
        }
      ]
    }
  ]
}