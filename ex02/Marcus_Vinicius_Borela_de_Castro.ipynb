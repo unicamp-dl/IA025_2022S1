{
  "nbformat": 4,
  "nbformat_minor": 0,
  "metadata": {
    "colab": {
      "name": "Aula 2 - Exercício - Marcus Vinicius Borela de Castro",
      "provenance": [],
      "collapsed_sections": [
        "anygzoSagczS",
        "4Cq1sL_EhuiY",
        "lxnpyxKS2sD_"
      ],
      "toc_visible": true,
      "include_colab_link": true
    },
    "kernelspec": {
      "display_name": "Python 3",
      "language": "python",
      "name": "python3"
    },
    "language_info": {
      "codemirror_mode": {
        "name": "ipython",
        "version": 3
      },
      "file_extension": ".py",
      "mimetype": "text/x-python",
      "name": "python",
      "nbconvert_exporter": "python",
      "pygments_lexer": "ipython3",
      "version": "3.6.5"
    },
    "latex_envs": {
      "LaTeX_envs_menu_present": true,
      "autocomplete": true,
      "bibliofile": "biblio.bib",
      "cite_by": "apalike",
      "current_citInitial": 1,
      "eqLabelWithNumbers": true,
      "eqNumInitial": 1,
      "hotkeys": {
        "equation": "Ctrl-E",
        "itemize": "Ctrl-I"
      },
      "labels_anchors": false,
      "latex_user_defs": false,
      "report_style_numbering": false,
      "user_envs_cfg": false
    },
    "toc": {
      "base_numbering": 1,
      "nav_menu": {
        "height": "387px",
        "width": "252px"
      },
      "number_sections": true,
      "sideBar": true,
      "skip_h1_title": false,
      "title_cell": "Table of Contents",
      "title_sidebar": "Contents",
      "toc_cell": false,
      "toc_position": {},
      "toc_section_display": "block",
      "toc_window_display": false
    },
    "varInspector": {
      "cols": {
        "lenName": 16,
        "lenType": 16,
        "lenVar": 40
      },
      "kernels_config": {
        "python": {
          "delete_cmd_postfix": "",
          "delete_cmd_prefix": "del ",
          "library": "var_list.py",
          "varRefreshCmd": "print(var_dic_list())"
        },
        "r": {
          "delete_cmd_postfix": ") ",
          "delete_cmd_prefix": "rm(",
          "library": "var_list.r",
          "varRefreshCmd": "cat(var_dic_list()) "
        }
      },
      "types_to_exclude": [
        "module",
        "function",
        "builtin_function_or_method",
        "instance",
        "_Feature"
      ],
      "window_display": false
    }
  },
  "cells": [
    {
      "cell_type": "markdown",
      "metadata": {
        "id": "view-in-github",
        "colab_type": "text"
      },
      "source": [
        "<a href=\"https://colab.research.google.com/github/unicamp-dl/IA025_2022S1/blob/main/ex02/Marcus_Vinicius_Borela_de_Castro.ipynb\" target=\"_parent\"><img src=\"https://colab.research.google.com/assets/colab-badge.svg\" alt=\"Open In Colab\"/></a>"
      ]
    },
    {
      "cell_type": "markdown",
      "source": [
        "# Notebook de referência \n",
        "\n",
        "Nome: Marcus Vinicius Borela de Castro"
      ],
      "metadata": {
        "id": "GqNC-aD3imli"
      }
    },
    {
      "cell_type": "markdown",
      "metadata": {
        "id": "FEB34HNpuVtP"
      },
      "source": [
        "# Instruções"
      ]
    },
    {
      "cell_type": "markdown",
      "metadata": {
        "id": "aKOp1WXHuVtR"
      },
      "source": [
        "Este exercício consiste em escrever um código para treinar um modelo linear usando SGD e vizualizar como a função de perda varia em função das pesos da rede.\n",
        "\n",
        "A implementação será considerada correta apenas se passar nos 3 asserts ao longo deste notebook."
      ]
    },
    {
      "cell_type": "markdown",
      "metadata": {
        "id": "91vqgVXqZycr"
      },
      "source": [
        "# Fixando a seed"
      ]
    },
    {
      "cell_type": "code",
      "source": [
        "import random\n",
        "import torch\n",
        "import numpy as np"
      ],
      "metadata": {
        "id": "_xl74rj5csba"
      },
      "execution_count": null,
      "outputs": []
    },
    {
      "cell_type": "code",
      "metadata": {
        "id": "bkETIyWGkbOf"
      },
      "source": [
        "def inicializa_seed():\n",
        "  \"\"\"\n",
        "  É recomendado reiniciar as seeds antes de inicializar o modelo, pois assim\n",
        "  garantimos que os pesos vao ser sempre os mesmos.\n",
        "  fontes de apoio: \n",
        "      http://nlp.seas.harvard.edu/2018/04/03/attention.html\n",
        "      https://github.com/CyberZHG/torch-multi-head-attention/blob/master/torch_multi_head_attention/multi_head_attention.py#L15\n",
        "  \"\"\"\n",
        "  random.seed(123)\n",
        "  np.random.seed(123)\n",
        "  torch.manual_seed(123)\n",
        "  #torch.cuda.manual_seed(123)\n",
        "  #Cuda algorithms\n",
        "  #torch.backends.cudnn.deterministic = True "
      ],
      "execution_count": null,
      "outputs": []
    },
    {
      "cell_type": "code",
      "metadata": {
        "id": "ViMcw_kVkbOf"
      },
      "source": [
        "inicializa_seed()"
      ],
      "execution_count": null,
      "outputs": []
    },
    {
      "cell_type": "markdown",
      "metadata": {
        "id": "7wEkY_g7kgp-"
      },
      "source": [
        "# Configuração para rastro (neptune.ai)\n",
        "\n"
      ]
    },
    {
      "cell_type": "markdown",
      "metadata": {
        "id": "anygzoSagczS"
      },
      "source": [
        "### Importação de libraries para Rastro"
      ]
    },
    {
      "cell_type": "code",
      "metadata": {
        "colab": {
          "base_uri": "https://localhost:8080/"
        },
        "id": "CMgyMyI_kbOc",
        "outputId": "69e24039-b4ff-40b5-f6e6-6342aa5d9171"
      },
      "source": [
        "pip install neptune-client"
      ],
      "execution_count": null,
      "outputs": [
        {
          "output_type": "stream",
          "name": "stdout",
          "text": [
            "Collecting neptune-client\n",
            "  Downloading neptune-client-0.15.2.tar.gz (315 kB)\n",
            "\u001b[?25l\r\u001b[K     |█                               | 10 kB 1.5 MB/s eta 0:00:01\r\u001b[K     |██                              | 20 kB 2.9 MB/s eta 0:00:01\r\u001b[K     |███▏                            | 30 kB 4.2 MB/s eta 0:00:01\r\u001b[K     |████▏                           | 40 kB 5.4 MB/s eta 0:00:01\r\u001b[K     |█████▏                          | 51 kB 6.5 MB/s eta 0:00:01\r\u001b[K     |██████▎                         | 61 kB 7.6 MB/s eta 0:00:01\r\u001b[K     |███████▎                        | 71 kB 8.6 MB/s eta 0:00:01\r\u001b[K     |████████▎                       | 81 kB 9.5 MB/s eta 0:00:01\r\u001b[K     |█████████▍                      | 92 kB 10.5 MB/s eta 0:00:01\r\u001b[K     |██████████▍                     | 102 kB 10.1 MB/s eta 0:00:01\r\u001b[K     |███████████▍                    | 112 kB 10.1 MB/s eta 0:00:01\r\u001b[K     |████████████▌                   | 122 kB 10.1 MB/s eta 0:00:01\r\u001b[K     |█████████████▌                  | 133 kB 10.1 MB/s eta 0:00:01\r\u001b[K     |██████████████▌                 | 143 kB 10.1 MB/s eta 0:00:01\r\u001b[K     |███████████████▋                | 153 kB 10.1 MB/s eta 0:00:01\r\u001b[K     |████████████████▋               | 163 kB 10.1 MB/s eta 0:00:01\r\u001b[K     |█████████████████▋              | 174 kB 10.1 MB/s eta 0:00:01\r\u001b[K     |██████████████████▊             | 184 kB 10.1 MB/s eta 0:00:01\r\u001b[K     |███████████████████▊            | 194 kB 10.1 MB/s eta 0:00:01\r\u001b[K     |████████████████████▊           | 204 kB 10.1 MB/s eta 0:00:01\r\u001b[K     |█████████████████████▉          | 215 kB 10.1 MB/s eta 0:00:01\r\u001b[K     |██████████████████████▉         | 225 kB 10.1 MB/s eta 0:00:01\r\u001b[K     |███████████████████████▉        | 235 kB 10.1 MB/s eta 0:00:01\r\u001b[K     |█████████████████████████       | 245 kB 10.1 MB/s eta 0:00:01\r\u001b[K     |██████████████████████████      | 256 kB 10.1 MB/s eta 0:00:01\r\u001b[K     |███████████████████████████     | 266 kB 10.1 MB/s eta 0:00:01\r\u001b[K     |████████████████████████████    | 276 kB 10.1 MB/s eta 0:00:01\r\u001b[K     |█████████████████████████████   | 286 kB 10.1 MB/s eta 0:00:01\r\u001b[K     |██████████████████████████████  | 296 kB 10.1 MB/s eta 0:00:01\r\u001b[K     |███████████████████████████████▏| 307 kB 10.1 MB/s eta 0:00:01\r\u001b[K     |████████████████████████████████| 315 kB 10.1 MB/s \n",
            "\u001b[?25hCollecting bravado\n",
            "  Downloading bravado-11.0.3-py2.py3-none-any.whl (38 kB)\n",
            "Requirement already satisfied: click>=7.0 in /usr/local/lib/python3.7/dist-packages (from neptune-client) (7.1.2)\n",
            "Collecting future>=0.17.1\n",
            "  Downloading future-0.18.2.tar.gz (829 kB)\n",
            "\u001b[K     |████████████████████████████████| 829 kB 41.2 MB/s \n",
            "\u001b[?25hRequirement already satisfied: oauthlib>=2.1.0 in /usr/local/lib/python3.7/dist-packages (from neptune-client) (3.2.0)\n",
            "Requirement already satisfied: pandas in /usr/local/lib/python3.7/dist-packages (from neptune-client) (1.3.5)\n",
            "Requirement already satisfied: Pillow>=1.1.6 in /usr/local/lib/python3.7/dist-packages (from neptune-client) (7.1.2)\n",
            "Collecting PyJWT\n",
            "  Downloading PyJWT-2.3.0-py3-none-any.whl (16 kB)\n",
            "Requirement already satisfied: requests>=2.20.0 in /usr/local/lib/python3.7/dist-packages (from neptune-client) (2.23.0)\n",
            "Requirement already satisfied: requests-oauthlib>=1.0.0 in /usr/local/lib/python3.7/dist-packages (from neptune-client) (1.3.1)\n",
            "Requirement already satisfied: six>=1.12.0 in /usr/local/lib/python3.7/dist-packages (from neptune-client) (1.15.0)\n",
            "Collecting websocket-client!=1.0.0,>=0.35.0\n",
            "  Downloading websocket_client-1.3.1-py3-none-any.whl (54 kB)\n",
            "\u001b[K     |████████████████████████████████| 54 kB 1.6 MB/s \n",
            "\u001b[?25hCollecting GitPython>=2.0.8\n",
            "  Downloading GitPython-3.1.27-py3-none-any.whl (181 kB)\n",
            "\u001b[K     |████████████████████████████████| 181 kB 42.7 MB/s \n",
            "\u001b[?25hCollecting boto3>=1.16.0\n",
            "  Downloading boto3-1.21.27-py3-none-any.whl (132 kB)\n",
            "\u001b[K     |████████████████████████████████| 132 kB 42.4 MB/s \n",
            "\u001b[?25hRequirement already satisfied: packaging in /usr/local/lib/python3.7/dist-packages (from neptune-client) (21.3)\n",
            "Requirement already satisfied: urllib3 in /usr/local/lib/python3.7/dist-packages (from neptune-client) (1.24.3)\n",
            "Collecting swagger-spec-validator>=2.7.4\n",
            "  Downloading swagger_spec_validator-2.7.4-py2.py3-none-any.whl (27 kB)\n",
            "Requirement already satisfied: psutil in /usr/local/lib/python3.7/dist-packages (from neptune-client) (5.4.8)\n",
            "Collecting s3transfer<0.6.0,>=0.5.0\n",
            "  Downloading s3transfer-0.5.2-py3-none-any.whl (79 kB)\n",
            "\u001b[K     |████████████████████████████████| 79 kB 6.5 MB/s \n",
            "\u001b[?25hCollecting jmespath<2.0.0,>=0.7.1\n",
            "  Downloading jmespath-1.0.0-py3-none-any.whl (23 kB)\n",
            "Collecting botocore<1.25.0,>=1.24.27\n",
            "  Downloading botocore-1.24.27-py3-none-any.whl (8.6 MB)\n",
            "\u001b[K     |████████████████████████████████| 8.6 MB 32.2 MB/s \n",
            "\u001b[?25hRequirement already satisfied: python-dateutil<3.0.0,>=2.1 in /usr/local/lib/python3.7/dist-packages (from botocore<1.25.0,>=1.24.27->boto3>=1.16.0->neptune-client) (2.8.2)\n",
            "Collecting urllib3\n",
            "  Downloading urllib3-1.26.9-py2.py3-none-any.whl (138 kB)\n",
            "\u001b[K     |████████████████████████████████| 138 kB 18.3 MB/s \n",
            "\u001b[?25hCollecting gitdb<5,>=4.0.1\n",
            "  Downloading gitdb-4.0.9-py3-none-any.whl (63 kB)\n",
            "\u001b[K     |████████████████████████████████| 63 kB 1.1 MB/s \n",
            "\u001b[?25hRequirement already satisfied: typing-extensions>=3.7.4.3 in /usr/local/lib/python3.7/dist-packages (from GitPython>=2.0.8->neptune-client) (3.10.0.2)\n",
            "Collecting smmap<6,>=3.0.1\n",
            "  Downloading smmap-5.0.0-py3-none-any.whl (24 kB)\n",
            "Requirement already satisfied: idna<3,>=2.5 in /usr/local/lib/python3.7/dist-packages (from requests>=2.20.0->neptune-client) (2.10)\n",
            "Requirement already satisfied: chardet<4,>=3.0.2 in /usr/local/lib/python3.7/dist-packages (from requests>=2.20.0->neptune-client) (3.0.4)\n",
            "Requirement already satisfied: certifi>=2017.4.17 in /usr/local/lib/python3.7/dist-packages (from requests>=2.20.0->neptune-client) (2021.10.8)\n",
            "Collecting urllib3\n",
            "  Downloading urllib3-1.25.11-py2.py3-none-any.whl (127 kB)\n",
            "\u001b[K     |████████████████████████████████| 127 kB 44.2 MB/s \n",
            "\u001b[?25hRequirement already satisfied: jsonschema in /usr/local/lib/python3.7/dist-packages (from swagger-spec-validator>=2.7.4->neptune-client) (4.3.3)\n",
            "Requirement already satisfied: pyyaml in /usr/local/lib/python3.7/dist-packages (from swagger-spec-validator>=2.7.4->neptune-client) (3.13)\n",
            "Requirement already satisfied: msgpack in /usr/local/lib/python3.7/dist-packages (from bravado->neptune-client) (1.0.3)\n",
            "Collecting bravado-core>=5.16.1\n",
            "  Downloading bravado_core-5.17.0-py2.py3-none-any.whl (67 kB)\n",
            "\u001b[K     |████████████████████████████████| 67 kB 4.3 MB/s \n",
            "\u001b[?25hCollecting monotonic\n",
            "  Downloading monotonic-1.6-py2.py3-none-any.whl (8.2 kB)\n",
            "Collecting simplejson\n",
            "  Downloading simplejson-3.17.6-cp37-cp37m-manylinux_2_5_x86_64.manylinux1_x86_64.manylinux_2_12_x86_64.manylinux2010_x86_64.whl (130 kB)\n",
            "\u001b[K     |████████████████████████████████| 130 kB 44.5 MB/s \n",
            "\u001b[?25hRequirement already satisfied: pytz in /usr/local/lib/python3.7/dist-packages (from bravado-core>=5.16.1->bravado->neptune-client) (2018.9)\n",
            "Collecting jsonref\n",
            "  Downloading jsonref-0.2-py3-none-any.whl (9.3 kB)\n",
            "Requirement already satisfied: importlib-resources>=1.4.0 in /usr/local/lib/python3.7/dist-packages (from jsonschema->swagger-spec-validator>=2.7.4->neptune-client) (5.4.0)\n",
            "Requirement already satisfied: pyrsistent!=0.17.0,!=0.17.1,!=0.17.2,>=0.14.0 in /usr/local/lib/python3.7/dist-packages (from jsonschema->swagger-spec-validator>=2.7.4->neptune-client) (0.18.1)\n",
            "Requirement already satisfied: importlib-metadata in /usr/local/lib/python3.7/dist-packages (from jsonschema->swagger-spec-validator>=2.7.4->neptune-client) (4.11.3)\n",
            "Requirement already satisfied: attrs>=17.4.0 in /usr/local/lib/python3.7/dist-packages (from jsonschema->swagger-spec-validator>=2.7.4->neptune-client) (21.4.0)\n",
            "Collecting uri-template\n",
            "  Downloading uri_template-1.2.0-py3-none-any.whl (10 kB)\n",
            "Collecting jsonpointer>1.13\n",
            "  Downloading jsonpointer-2.2-py2.py3-none-any.whl (7.5 kB)\n",
            "Collecting rfc3987\n",
            "  Downloading rfc3987-1.3.8-py2.py3-none-any.whl (13 kB)\n",
            "Collecting isoduration\n",
            "  Downloading isoduration-20.11.0-py3-none-any.whl (11 kB)\n",
            "Collecting rfc3339-validator\n",
            "  Downloading rfc3339_validator-0.1.4-py2.py3-none-any.whl (3.5 kB)\n",
            "Collecting webcolors>=1.11\n",
            "  Downloading webcolors-1.11.1-py3-none-any.whl (9.9 kB)\n",
            "Collecting fqdn\n",
            "  Downloading fqdn-1.5.1-py3-none-any.whl (9.1 kB)\n",
            "Requirement already satisfied: zipp>=3.1.0 in /usr/local/lib/python3.7/dist-packages (from importlib-resources>=1.4.0->jsonschema->swagger-spec-validator>=2.7.4->neptune-client) (3.7.0)\n",
            "Requirement already satisfied: cached-property>=1.3.0 in /usr/local/lib/python3.7/dist-packages (from fqdn->jsonschema->swagger-spec-validator>=2.7.4->neptune-client) (1.5.2)\n",
            "Collecting arrow>=0.15.0\n",
            "  Downloading arrow-1.2.2-py3-none-any.whl (64 kB)\n",
            "\u001b[K     |████████████████████████████████| 64 kB 1.3 MB/s \n",
            "\u001b[?25hRequirement already satisfied: pyparsing!=3.0.5,>=2.0.2 in /usr/local/lib/python3.7/dist-packages (from packaging->neptune-client) (3.0.7)\n",
            "Requirement already satisfied: numpy>=1.17.3 in /usr/local/lib/python3.7/dist-packages (from pandas->neptune-client) (1.21.5)\n",
            "Building wheels for collected packages: neptune-client, future\n",
            "  Building wheel for neptune-client (setup.py) ... \u001b[?25l\u001b[?25hdone\n",
            "  Created wheel for neptune-client: filename=neptune_client-0.15.2-py2.py3-none-any.whl size=565173 sha256=a63e9d60177c97bf041a80a9bf696525dc6c13ca56804a6f5930faf45b4d8cb8\n",
            "  Stored in directory: /root/.cache/pip/wheels/4f/ff/e6/2128c7fd2e85bd327f524d44b07922848c40e48de6e75baa7e\n",
            "  Building wheel for future (setup.py) ... \u001b[?25l\u001b[?25hdone\n",
            "  Created wheel for future: filename=future-0.18.2-py3-none-any.whl size=491070 sha256=26141a6423328d16dfab1fd78428f3941d2de3affc9c467ce62a0be2a68ffc7c\n",
            "  Stored in directory: /root/.cache/pip/wheels/56/b0/fe/4410d17b32f1f0c3cf54cdfb2bc04d7b4b8f4ae377e2229ba0\n",
            "Successfully built neptune-client future\n",
            "Installing collected packages: arrow, webcolors, urllib3, uri-template, rfc3987, rfc3339-validator, jsonpointer, jmespath, isoduration, fqdn, swagger-spec-validator, smmap, simplejson, jsonref, botocore, s3transfer, monotonic, gitdb, bravado-core, websocket-client, PyJWT, GitPython, future, bravado, boto3, neptune-client\n",
            "  Attempting uninstall: urllib3\n",
            "    Found existing installation: urllib3 1.24.3\n",
            "    Uninstalling urllib3-1.24.3:\n",
            "      Successfully uninstalled urllib3-1.24.3\n",
            "  Attempting uninstall: future\n",
            "    Found existing installation: future 0.16.0\n",
            "    Uninstalling future-0.16.0:\n",
            "      Successfully uninstalled future-0.16.0\n",
            "\u001b[31mERROR: pip's dependency resolver does not currently take into account all the packages that are installed. This behaviour is the source of the following dependency conflicts.\n",
            "datascience 0.10.6 requires folium==0.2.1, but you have folium 0.8.3 which is incompatible.\u001b[0m\n",
            "Successfully installed GitPython-3.1.27 PyJWT-2.3.0 arrow-1.2.2 boto3-1.21.27 botocore-1.24.27 bravado-11.0.3 bravado-core-5.17.0 fqdn-1.5.1 future-0.18.2 gitdb-4.0.9 isoduration-20.11.0 jmespath-1.0.0 jsonpointer-2.2 jsonref-0.2 monotonic-1.6 neptune-client-0.15.2 rfc3339-validator-0.1.4 rfc3987-1.3.8 s3transfer-0.5.2 simplejson-3.17.6 smmap-5.0.0 swagger-spec-validator-2.7.4 uri-template-1.2.0 urllib3-1.25.11 webcolors-1.11.1 websocket-client-1.3.1\n"
          ]
        }
      ]
    },
    {
      "cell_type": "code",
      "metadata": {
        "colab": {
          "base_uri": "https://localhost:8080/"
        },
        "id": "iwCVX1B4kbOd",
        "outputId": "e1bcdb21-c4f6-47eb-ae81-c6d764325010"
      },
      "source": [
        "pip install torchviz"
      ],
      "execution_count": null,
      "outputs": [
        {
          "output_type": "stream",
          "name": "stdout",
          "text": [
            "Collecting torchviz\n",
            "  Downloading torchviz-0.0.2.tar.gz (4.9 kB)\n",
            "Requirement already satisfied: torch in /usr/local/lib/python3.7/dist-packages (from torchviz) (1.10.0+cu111)\n",
            "Requirement already satisfied: graphviz in /usr/local/lib/python3.7/dist-packages (from torchviz) (0.10.1)\n",
            "Requirement already satisfied: typing-extensions in /usr/local/lib/python3.7/dist-packages (from torch->torchviz) (3.10.0.2)\n",
            "Building wheels for collected packages: torchviz\n",
            "  Building wheel for torchviz (setup.py) ... \u001b[?25l\u001b[?25hdone\n",
            "  Created wheel for torchviz: filename=torchviz-0.0.2-py3-none-any.whl size=4150 sha256=2dab7b41ce6a6ad256c854f98b940c1c49bf850fd69f9c4824401407c2afc63d\n",
            "  Stored in directory: /root/.cache/pip/wheels/04/38/f5/dc4f85c3909051823df49901e72015d2d750bd26b086480ec2\n",
            "Successfully built torchviz\n",
            "Installing collected packages: torchviz\n",
            "Successfully installed torchviz-0.0.2\n"
          ]
        }
      ]
    },
    {
      "cell_type": "code",
      "metadata": {
        "id": "n_J-4SvMljeW"
      },
      "source": [
        "import getpass\n",
        "import copy\n",
        "from torchviz import make_dot\n",
        "import neptune.new as neptune\n",
        "import time\n",
        "import re\n",
        "import tempfile\n",
        "import os"
      ],
      "execution_count": null,
      "outputs": []
    },
    {
      "cell_type": "markdown",
      "metadata": {
        "id": "V2glxk01UfDk"
      },
      "source": [
        "### Código Rastro\n",
        "\n",
        "Busca implementar o rastro proposto em [Rastro-DM: Mineração de Dados com Rastro](https://revista.tcu.gov.br/ojs/index.php/RTCU/article/view/1664), autores Marcus Vinícius Borela de Castro e Remis Balaniuk, com o apoio da [solução Neptune](https://app.neptune.ai/)\n",
        "\n"
      ]
    },
    {
      "cell_type": "code",
      "metadata": {
        "id": "Q-iQwMPiLXO3"
      },
      "source": [
        "def converte_optimizer_state_dict(parm_optimizer)-> dict:\n",
        "  # return str(hparam['optimizer'])\n",
        "  return parm_optimizer.state_dict()['param_groups'][0]"
      ],
      "execution_count": null,
      "outputs": []
    },
    {
      "cell_type": "code",
      "metadata": {
        "id": "GwnX3SrGfq4Z"
      },
      "source": [
        "class NeptuneRastroRun():\n",
        "    se_geracao_rastro = True \n",
        "    neptune_project = \"\"\n",
        "    tag_contexto_rastro = \"\"\n",
        "    neptune_api_token = \"\"\n",
        "\n",
        "    def __init__(self, parm_params:dict,  parm_lista_tag:list = None):\n",
        "      # print(f\"NeptuneRastroRun.init: se_geracao_rastro {self.__class__.se_geracao_rastro} parm_params `{parm_params} \")\n",
        "      if self.__class__.se_geracao_rastro:      \n",
        "        self.run_neptune = neptune.init(project=self.__class__.neptune_project, api_token=self.__class__.neptune_api_token, capture_hardware_metrics=True)\n",
        "        self.run_neptune['sys/name'] = self.__class__.tag_contexto_rastro\n",
        "        vparams = copy.deepcopy(parm_params)\n",
        "        if \"optimizer\" in vparams:\n",
        "          vparams[\"optimizer\"] = converte_optimizer_state_dict(vparams[\"optimizer\"])\n",
        "        if 'criterion'  in vparams:\n",
        "          vparams[\"criterion\"] = str(vparams[\"criterion\"])\n",
        "        if 'device' in vparams:\n",
        "          vparams['device'] = str(vparams[\"device\"])\n",
        "        self.device = vparams[\"device\"]\n",
        "        for tag in parm_lista_tag:\n",
        "          self.run_neptune['sys/tags'].add(tag)\n",
        "        self.run_neptune['parameters'] = vparams\n",
        "        self.tmpDir = tempfile.mkdtemp()\n",
        "\n",
        "    @property\n",
        "    def run():\n",
        "      return self.run_neptune\n",
        "\n",
        "    @classmethod\n",
        "    def ativa_geracao_rastro(cls):\n",
        "     cls.se_geracao_rastro = True      \n",
        "\n",
        "    @classmethod\n",
        "    def def_contexto(cls):\n",
        "     cls.se_geracao_rastro = True      \n",
        "\n",
        "    @classmethod\n",
        "    def desativa_geracao_rastro(cls):\n",
        "     cls.se_geracao_rastro = False      \n",
        "\n",
        "    @classmethod\n",
        "    def retorna_status_geracao_rastro(cls):\n",
        "     return cls.se_geracao_rastro      \n",
        "\n",
        "    @classmethod\n",
        "    def retorna_tag_contexto_rastro(cls):\n",
        "     return cls.tag_contexto_rastro \n",
        "\n",
        "    @classmethod\n",
        "    def inicia_contexto(cls, neptune_project, tag_contexto_rastro, neptune_api_token):\n",
        "      assert '.' not in tag_contexto_rastro, \"NeptuneRastroRun.init(): tag_contexto_rastro não pode possuir ponto, pois será usado para gravar nome de arquivo\"      \n",
        "      cls.neptune_api_token = neptune_api_token\n",
        "      cls.tag_contexto_rastro = tag_contexto_rastro\n",
        "      cls.neptune_project = neptune_project\n",
        "\n",
        "    def salva_metrica(self, parm_metricas={}):\n",
        "      #print(f\"NeptuneRastroRun.salva_metrica: se_geracao_rastro {self.__class__.se_geracao_rastro} parm_metricas:{parm_metricas} \")\n",
        "      if self.__class__.se_geracao_rastro:\n",
        "        for metrica, valor in parm_metricas.items(): \n",
        "          self.run_neptune[metrica].log(valor)\n",
        " \n",
        "    def gera_grafico_modelo(self, loader_train, model):\n",
        "      if self.__class__.se_geracao_rastro: \n",
        "        # efetuar um forward \n",
        "        \"\"\"\n",
        "        se dataloader devolver x e y:\n",
        "        x_, y_ = next(iter(loader_train))\n",
        "        x_ = x_.to(device)\n",
        "        outputs = model(x_)\n",
        "        \"\"\"\n",
        "        # se dataloader devolver dict:\n",
        "        dados_ = next(iter(loader_train))\n",
        "        outputs = model(dados_['x'].to(self.device))\n",
        "        #outputs = model(x_['input_ids'].to(self.device), x_['attention_mask'].to(self.device))\n",
        "\n",
        "        nome_arquivo = os.path.join(self.tmpDir, \"modelo \"+ self.__class__.tag_contexto_rastro + time.strftime(\"%Y-%b-%d %H:%M:%S\"))\n",
        "        make_dot(outputs, params=dict(model.named_parameters()), show_attrs=True, show_saved=True).render(nome_arquivo, format=\"png\")\n",
        "        self.run_neptune[\"parameters/model_graph\"].upload(nome_arquivo+'.png')\n",
        "        self.run_neptune['parameters/model'] = re.sub('<bound method Module.state_dict of ', '',str(model.state_dict))      \n",
        "\n",
        "\n",
        "\n",
        "    def stop(self):\n",
        "      if self.__class__.se_geracao_rastro:         \n",
        "        self.run_neptune.stop()\n"
      ],
      "execution_count": null,
      "outputs": []
    },
    {
      "cell_type": "markdown",
      "metadata": {
        "id": "O488oyu5l8kC"
      },
      "source": [
        "### Definindo parâmetros para o rastro\n",
        "\n"
      ]
    },
    {
      "cell_type": "code",
      "metadata": {
        "id": "22z4OtX5kbOf"
      },
      "source": [
        "# NEPTUNE_API_TOKEN = getpass.getpass('Informe NEPTUNE_API_TOKEN')"
      ],
      "execution_count": null,
      "outputs": []
    },
    {
      "cell_type": "code",
      "metadata": {
        "id": "zY4Hjvp1wR9k",
        "colab": {
          "base_uri": "https://localhost:8080/"
        },
        "outputId": "9423d1cb-3668-4520-b6b1-a314fa2faa2e"
      },
      "source": [
        "NeptuneRastroRun.inicia_contexto('marcusborela/IA025', 'Aula 2 - regressão liner e gráfico do custo com mínimo encontrado',   getpass.getpass('Informe NEPTUNE_API_TOKEN'))\n",
        "#NeptuneRastroRun.desativa_geracao_rastro()"
      ],
      "execution_count": null,
      "outputs": [
        {
          "name": "stdout",
          "output_type": "stream",
          "text": [
            "Informe NEPTUNE_API_TOKEN··········\n"
          ]
        }
      ]
    },
    {
      "cell_type": "markdown",
      "source": [
        "# Detalhamento dos dados\n"
      ],
      "metadata": {
        "id": "ciW4Igg4mgz5"
      }
    },
    {
      "cell_type": "markdown",
      "metadata": {
        "id": "Vws1xdXyuVtV"
      },
      "source": [
        "## Conjunto de dados: Flores Íris"
      ]
    },
    {
      "cell_type": "markdown",
      "metadata": {
        "id": "cG2UO9EwuVtW"
      },
      "source": [
        "Iremos utilizar duas propriedades do conjunto de dados das flores Íris [Wikipedia-Iris_flower_data_set](https://en.wikipedia.org/wiki/Iris_flower_data_set):\n",
        "\n",
        "* o comprimento das sépalas e \n",
        "* o comprimento da pétalas. \n",
        "\n",
        "A ideia será prever o comprimento da pétala, conhecendo-se o comprimento da sépala. Estaremos usando apenas uma propriedade, ou característica ou *feature* do objeto para que seja fácil visualizar o espaço de busca de parâmetros. \n",
        "\n",
        "Vamos utilizar as 50 amostras da variedade versicolor.\n",
        "\n",
        "![](https://raw.githubusercontent.com/robertoalotufo/files/master/figures/iris_petals_sepals.png)"
      ]
    },
    {
      "cell_type": "markdown",
      "metadata": {
        "id": "PBxvwp4RuVtX"
      },
      "source": [
        "## Carga dos Dados: leitura e visualização\n"
      ]
    },
    {
      "cell_type": "code",
      "metadata": {
        "ExecuteTime": {
          "end_time": "2018-08-20T22:57:33.183566Z",
          "start_time": "2018-08-20T22:57:30.751725Z"
        },
        "id": "e8o6DbARuVtY"
      },
      "source": [
        "%matplotlib inline\n",
        "import matplotlib.pyplot as plt\n",
        "import ipywidgets as widgets\n",
        "from IPython import display\n",
        "\n",
        "import numpy as np\n",
        "import pandas as pd\n",
        "from sklearn.datasets import load_iris\n",
        "import time"
      ],
      "execution_count": null,
      "outputs": []
    },
    {
      "cell_type": "code",
      "metadata": {
        "ExecuteTime": {
          "end_time": "2018-08-20T22:57:33.280393Z",
          "start_time": "2018-08-20T22:57:33.187143Z"
        },
        "id": "J3U7mxxCuVtc",
        "outputId": "ee39b19b-50d5-43e5-cba7-c9e4c0e1b621",
        "colab": {
          "base_uri": "https://localhost:8080/",
          "height": 206
        }
      },
      "source": [
        "iris = load_iris()\n",
        "data = iris.data[iris.target==1,::2]  # comprimento das sépalas e pétalas, indices 0 e 2\n",
        "\n",
        "x_in = data[:,0:1]\n",
        "y_in = data[:,1:2]\n",
        "iris_pd = pd.DataFrame(x_in, columns=['x_in'])\n",
        "iris_pd['y_in'] = y_in\n",
        "iris_pd.head()"
      ],
      "execution_count": null,
      "outputs": [
        {
          "output_type": "execute_result",
          "data": {
            "text/plain": [
              "   x_in  y_in\n",
              "0   7.0   4.7\n",
              "1   6.4   4.5\n",
              "2   6.9   4.9\n",
              "3   5.5   4.0\n",
              "4   6.5   4.6"
            ],
            "text/html": [
              "\n",
              "  <div id=\"df-b860bb95-815b-4213-b2c7-8300cbde5706\">\n",
              "    <div class=\"colab-df-container\">\n",
              "      <div>\n",
              "<style scoped>\n",
              "    .dataframe tbody tr th:only-of-type {\n",
              "        vertical-align: middle;\n",
              "    }\n",
              "\n",
              "    .dataframe tbody tr th {\n",
              "        vertical-align: top;\n",
              "    }\n",
              "\n",
              "    .dataframe thead th {\n",
              "        text-align: right;\n",
              "    }\n",
              "</style>\n",
              "<table border=\"1\" class=\"dataframe\">\n",
              "  <thead>\n",
              "    <tr style=\"text-align: right;\">\n",
              "      <th></th>\n",
              "      <th>x_in</th>\n",
              "      <th>y_in</th>\n",
              "    </tr>\n",
              "  </thead>\n",
              "  <tbody>\n",
              "    <tr>\n",
              "      <th>0</th>\n",
              "      <td>7.0</td>\n",
              "      <td>4.7</td>\n",
              "    </tr>\n",
              "    <tr>\n",
              "      <th>1</th>\n",
              "      <td>6.4</td>\n",
              "      <td>4.5</td>\n",
              "    </tr>\n",
              "    <tr>\n",
              "      <th>2</th>\n",
              "      <td>6.9</td>\n",
              "      <td>4.9</td>\n",
              "    </tr>\n",
              "    <tr>\n",
              "      <th>3</th>\n",
              "      <td>5.5</td>\n",
              "      <td>4.0</td>\n",
              "    </tr>\n",
              "    <tr>\n",
              "      <th>4</th>\n",
              "      <td>6.5</td>\n",
              "      <td>4.6</td>\n",
              "    </tr>\n",
              "  </tbody>\n",
              "</table>\n",
              "</div>\n",
              "      <button class=\"colab-df-convert\" onclick=\"convertToInteractive('df-b860bb95-815b-4213-b2c7-8300cbde5706')\"\n",
              "              title=\"Convert this dataframe to an interactive table.\"\n",
              "              style=\"display:none;\">\n",
              "        \n",
              "  <svg xmlns=\"http://www.w3.org/2000/svg\" height=\"24px\"viewBox=\"0 0 24 24\"\n",
              "       width=\"24px\">\n",
              "    <path d=\"M0 0h24v24H0V0z\" fill=\"none\"/>\n",
              "    <path d=\"M18.56 5.44l.94 2.06.94-2.06 2.06-.94-2.06-.94-.94-2.06-.94 2.06-2.06.94zm-11 1L8.5 8.5l.94-2.06 2.06-.94-2.06-.94L8.5 2.5l-.94 2.06-2.06.94zm10 10l.94 2.06.94-2.06 2.06-.94-2.06-.94-.94-2.06-.94 2.06-2.06.94z\"/><path d=\"M17.41 7.96l-1.37-1.37c-.4-.4-.92-.59-1.43-.59-.52 0-1.04.2-1.43.59L10.3 9.45l-7.72 7.72c-.78.78-.78 2.05 0 2.83L4 21.41c.39.39.9.59 1.41.59.51 0 1.02-.2 1.41-.59l7.78-7.78 2.81-2.81c.8-.78.8-2.07 0-2.86zM5.41 20L4 18.59l7.72-7.72 1.47 1.35L5.41 20z\"/>\n",
              "  </svg>\n",
              "      </button>\n",
              "      \n",
              "  <style>\n",
              "    .colab-df-container {\n",
              "      display:flex;\n",
              "      flex-wrap:wrap;\n",
              "      gap: 12px;\n",
              "    }\n",
              "\n",
              "    .colab-df-convert {\n",
              "      background-color: #E8F0FE;\n",
              "      border: none;\n",
              "      border-radius: 50%;\n",
              "      cursor: pointer;\n",
              "      display: none;\n",
              "      fill: #1967D2;\n",
              "      height: 32px;\n",
              "      padding: 0 0 0 0;\n",
              "      width: 32px;\n",
              "    }\n",
              "\n",
              "    .colab-df-convert:hover {\n",
              "      background-color: #E2EBFA;\n",
              "      box-shadow: 0px 1px 2px rgba(60, 64, 67, 0.3), 0px 1px 3px 1px rgba(60, 64, 67, 0.15);\n",
              "      fill: #174EA6;\n",
              "    }\n",
              "\n",
              "    [theme=dark] .colab-df-convert {\n",
              "      background-color: #3B4455;\n",
              "      fill: #D2E3FC;\n",
              "    }\n",
              "\n",
              "    [theme=dark] .colab-df-convert:hover {\n",
              "      background-color: #434B5C;\n",
              "      box-shadow: 0px 1px 3px 1px rgba(0, 0, 0, 0.15);\n",
              "      filter: drop-shadow(0px 1px 2px rgba(0, 0, 0, 0.3));\n",
              "      fill: #FFFFFF;\n",
              "    }\n",
              "  </style>\n",
              "\n",
              "      <script>\n",
              "        const buttonEl =\n",
              "          document.querySelector('#df-b860bb95-815b-4213-b2c7-8300cbde5706 button.colab-df-convert');\n",
              "        buttonEl.style.display =\n",
              "          google.colab.kernel.accessAllowed ? 'block' : 'none';\n",
              "\n",
              "        async function convertToInteractive(key) {\n",
              "          const element = document.querySelector('#df-b860bb95-815b-4213-b2c7-8300cbde5706');\n",
              "          const dataTable =\n",
              "            await google.colab.kernel.invokeFunction('convertToInteractive',\n",
              "                                                     [key], {});\n",
              "          if (!dataTable) return;\n",
              "\n",
              "          const docLinkHtml = 'Like what you see? Visit the ' +\n",
              "            '<a target=\"_blank\" href=https://colab.research.google.com/notebooks/data_table.ipynb>data table notebook</a>'\n",
              "            + ' to learn more about interactive tables.';\n",
              "          element.innerHTML = '';\n",
              "          dataTable['output_type'] = 'display_data';\n",
              "          await google.colab.output.renderOutput(dataTable, element);\n",
              "          const docLink = document.createElement('div');\n",
              "          docLink.innerHTML = docLinkHtml;\n",
              "          element.appendChild(docLink);\n",
              "        }\n",
              "      </script>\n",
              "    </div>\n",
              "  </div>\n",
              "  "
            ]
          },
          "metadata": {},
          "execution_count": 12
        }
      ]
    },
    {
      "cell_type": "markdown",
      "metadata": {
        "id": "vbE9iw_nuVth"
      },
      "source": [
        "### Visualização dos dados `x_in` e `y_in` e normalizados"
      ]
    },
    {
      "cell_type": "code",
      "metadata": {
        "ExecuteTime": {
          "end_time": "2018-08-20T22:57:34.513338Z",
          "start_time": "2018-08-20T22:57:33.455116Z"
        },
        "id": "Czv-YcXvuVti",
        "outputId": "217fc4f7-2b8e-4bb3-9ec6-c395a37f5c27",
        "colab": {
          "base_uri": "https://localhost:8080/",
          "height": 333
        }
      },
      "source": [
        "x = x_in - x_in.min()\n",
        "x /= x.max()    # normalização\n",
        "y = y_in - y_in.min()\n",
        "y /= y.max()\n",
        "\n",
        "fig = plt.figure(figsize=(16,5))\n",
        "ax_in = fig.add_subplot(1,2,1)\n",
        "ax_in.scatter(x_in, y_in)\n",
        "ax_in.set_xlabel('Comprimento sepalas')\n",
        "ax_in.set_ylabel('Comprimento petalas')\n",
        "ax_n = fig.add_subplot(1,2,2)\n",
        "ax_n.scatter(x, y)\n",
        "ax_n.set_xlabel('Comprimento normalizado sepalas')\n",
        "ax_n.set_ylabel('Comprimento normalizado petalas');"
      ],
      "execution_count": null,
      "outputs": [
        {
          "output_type": "display_data",
          "data": {
            "text/plain": [
              "<Figure size 1152x360 with 2 Axes>"
            ],
            "image/png": "[encoded data removed]"
          },
          "metadata": {
            "needs_background": "light"
          }
        }
      ]
    },
    {
      "cell_type": "markdown",
      "source": [
        "## Transformando dados em dataset/dataloader\n"
      ],
      "metadata": {
        "id": "pwiIlTlWkABc"
      }
    },
    {
      "cell_type": "code",
      "source": [
        "from torch.utils.data import DataLoader, Dataset"
      ],
      "metadata": {
        "id": "oYhcw-JknDAI"
      },
      "execution_count": null,
      "outputs": []
    },
    {
      "cell_type": "markdown",
      "source": [
        "### Dataset"
      ],
      "metadata": {
        "id": "SPdhfYrnm-Rx"
      }
    },
    {
      "cell_type": "code",
      "source": [
        "\n",
        "class Dados(Dataset):\n",
        "  def __init__(self, x, y):\n",
        "    print(f\"Dados: len(x) {len(x)} len(y) {len(y)}\")\n",
        "    self.x = torch.from_numpy(np.float32(x))\n",
        "    self.y = torch.from_numpy(np.float32(y))\n",
        "\n",
        "\n",
        "  def __len__(self):\n",
        "    return len(self.x)\n",
        "\n",
        "  def __getitem__(self, item):\n",
        "    \"\"\"\n",
        "    target = self.targets[item]\n",
        "    encoding = tokenizer(\n",
        "      x[0],\n",
        "      padding=True,\n",
        "      add_special_tokens=True,\n",
        "      max_length=250,\n",
        "      return_token_type_ids=False,\n",
        "      return_attention_mask=True,\n",
        "      return_tensors='pt',\n",
        "    )\n",
        "    \"\"\"\n",
        "    return {\n",
        "     # 'review_text': review,\n",
        "      'x': self.x[item] ,\n",
        "      'y': self.y[item]\n",
        "    }"
      ],
      "metadata": {
        "id": "X538vtE4kk-r"
      },
      "execution_count": null,
      "outputs": []
    },
    {
      "cell_type": "code",
      "source": [
        ""
      ],
      "metadata": {
        "id": "CSInm-G-lh_7"
      },
      "execution_count": null,
      "outputs": []
    },
    {
      "cell_type": "markdown",
      "metadata": {
        "id": "39lpz9pVINBX"
      },
      "source": [
        "#### Testes do dataset"
      ]
    },
    {
      "cell_type": "code",
      "metadata": {
        "colab": {
          "base_uri": "https://localhost:8080/"
        },
        "id": "_qjLGU7s5GUy",
        "outputId": "6a79b78f-2c34-466b-bbd0-701a720cf59b"
      },
      "source": [
        "type(y)\n"
      ],
      "execution_count": null,
      "outputs": [
        {
          "output_type": "execute_result",
          "data": {
            "text/plain": [
              "numpy.ndarray"
            ]
          },
          "metadata": {},
          "execution_count": 16
        }
      ]
    },
    {
      "cell_type": "code",
      "metadata": {
        "colab": {
          "base_uri": "https://localhost:8080/"
        },
        "id": "YlQz-YZA5ZBv",
        "outputId": "100dc044-6e3f-402e-c2ec-884cff41bda1"
      },
      "source": [
        "x[0:5], y[0:5]"
      ],
      "execution_count": null,
      "outputs": [
        {
          "output_type": "execute_result",
          "data": {
            "text/plain": [
              "(array([[1.        ],\n",
              "        [0.71428571],\n",
              "        [0.95238095],\n",
              "        [0.28571429],\n",
              "        [0.76190476]]), array([[0.80952381],\n",
              "        [0.71428571],\n",
              "        [0.9047619 ],\n",
              "        [0.47619048],\n",
              "        [0.76190476]]))"
            ]
          },
          "metadata": {},
          "execution_count": 17
        }
      ]
    },
    {
      "cell_type": "code",
      "metadata": {
        "id": "j-G2KVnIsuqC",
        "colab": {
          "base_uri": "https://localhost:8080/"
        },
        "outputId": "9cfb5cec-367f-463b-e12c-7f09cd7485b7"
      },
      "source": [
        "ds = Dados(x,y)"
      ],
      "execution_count": null,
      "outputs": [
        {
          "output_type": "stream",
          "name": "stdout",
          "text": [
            "Dados: len(x) 50 len(y) 50\n"
          ]
        }
      ]
    },
    {
      "cell_type": "code",
      "metadata": {
        "colab": {
          "base_uri": "https://localhost:8080/"
        },
        "id": "bAdRCGPa6Z4P",
        "outputId": "dcc75669-e0d1-4dab-e92d-43fdbdc6b2d0"
      },
      "source": [
        "print(len(ds))"
      ],
      "execution_count": null,
      "outputs": [
        {
          "output_type": "stream",
          "name": "stdout",
          "text": [
            "50\n"
          ]
        }
      ]
    },
    {
      "cell_type": "code",
      "metadata": {
        "colab": {
          "base_uri": "https://localhost:8080/"
        },
        "id": "LNNXlc9ws1NB",
        "outputId": "419ae308-1ca9-46a9-dbd5-be8180c3d9f6"
      },
      "source": [
        "ds[0], ds[3]"
      ],
      "execution_count": null,
      "outputs": [
        {
          "output_type": "execute_result",
          "data": {
            "text/plain": [
              "({'x': tensor([1.]), 'y': tensor([0.8095])},\n",
              " {'x': tensor([0.2857]), 'y': tensor([0.4762])})"
            ]
          },
          "metadata": {},
          "execution_count": 20
        }
      ]
    },
    {
      "cell_type": "markdown",
      "source": [
        "### Dataloader"
      ],
      "metadata": {
        "id": "LqtW6Hkwl72L"
      }
    },
    {
      "cell_type": "code",
      "source": [
        "dados_loader = DataLoader(ds, batch_size=len(ds), shuffle=True)"
      ],
      "metadata": {
        "id": "SjjvTtPdl91i"
      },
      "execution_count": null,
      "outputs": []
    },
    {
      "cell_type": "markdown",
      "source": [
        "#### Testes do dataloader"
      ],
      "metadata": {
        "id": "CPeKyyEBmLv6"
      }
    },
    {
      "cell_type": "code",
      "source": [
        "x_ = next(iter(dados_loader))\n",
        "\n",
        "print(\"\\nDimensões dos dados de um minibatch X:\", x_['x'].size())\n",
        "print(\"\\nDimensões dos dados de um minibatch Y:\", x_['y'].size())"
      ],
      "metadata": {
        "colab": {
          "base_uri": "https://localhost:8080/"
        },
        "id": "37df23spmOLy",
        "outputId": "9e0aaeaf-123b-46fa-d079-294381f2f330"
      },
      "execution_count": null,
      "outputs": [
        {
          "output_type": "stream",
          "name": "stdout",
          "text": [
            "\n",
            "Dimensões dos dados de um minibatch X: torch.Size([50, 1])\n",
            "\n",
            "Dimensões dos dados de um minibatch Y: torch.Size([50, 1])\n"
          ]
        }
      ]
    },
    {
      "cell_type": "markdown",
      "metadata": {
        "id": "uVvsCpB_uVtS"
      },
      "source": [
        "# Problema de Regressão Linear"
      ]
    },
    {
      "cell_type": "markdown",
      "metadata": {
        "id": "XpSx0ITuuVtU"
      },
      "source": [
        "O problema de ajuste de uma reta a um conjunto de pontos para verificar se existe uma previsão linear é um problema muito antigo, muito estudado e muito presente nos dias de hoje. \n",
        "\n",
        "Quando o ajuste é abordado como um problema de **otimização numérica**, ele é a base de boa parte dos **conceitos sobre redes neurais** e iremos explorá-lo aqui como uma forma de introdução às redes neurais. O modelo de regressão linear que iremos utilizar pode\n",
        "ser visto como uma rede neural de apenas uma camada e função de ativação linear."
      ]
    },
    {
      "cell_type": "markdown",
      "metadata": {
        "id": "h7IFlfHjuVtl"
      },
      "source": [
        "## Reta de ajuste"
      ]
    },
    {
      "cell_type": "markdown",
      "metadata": {
        "id": "vJQZQKmhuVtm"
      },
      "source": [
        "A equação da reta no plano necessita de dois parâmetros, aqui denominados $w_0$ (*bias*) e inclinação $w_1$. Veja figura:\n",
        "\n",
        "\n",
        "<img src=\"https://raw.githubusercontent.com/robertoalotufo/files/master/figures/linhareta.png\" width=\"300pt\">\n",
        "\n",
        "A reta de ajuste será dada por:\n",
        "\n",
        "$$ \\hat{y} = w_0 + w_1 x $$\n",
        "\n",
        "onde \n",
        "* $w_1$ é o coeficiente angular da reta e \n",
        "* $w_0$ é a interseção do eixo vertical quando x é igual a zero, também denominado de *bias*.\n",
        "* $x$ é a variável de entrada (comprimento das sépalas) e \n",
        "* $\\hat{y}$ é a predição (comprimento estimado das pétalas)."
      ]
    },
    {
      "cell_type": "markdown",
      "metadata": {
        "id": "8Ajs4XteuVtn"
      },
      "source": [
        "## Representação gráfica da equação linear via neurônio"
      ]
    },
    {
      "cell_type": "markdown",
      "metadata": {
        "id": "tGLD4vWkuVto"
      },
      "source": [
        "$ \\hat{y} = 1 w_0 + x_0 w_1 $\n",
        "\n",
        "Temos:\n",
        "- 1 atributo de entrada: $x_0$\n",
        "- 2 parâmetros para serem ajustados (treinados) $w_0$ e $w_1$\n",
        "- 1 classe de saída $\\hat{y}$\n",
        "\n",
        "<img src=\"https://raw.githubusercontent.com/robertoalotufo/files/master/figures/RegressaoLinearNeuronio.png\" width=\"300pt\">\n",
        "$$ \\hat{y} = w_0 + w_1 x $$\n",
        "$$ \\mathbf{\\hat{y}} = \\mathbf{w} \\mathbf{x} $$"
      ]
    },
    {
      "cell_type": "markdown",
      "metadata": {
        "id": "8LQIj6bAuVtp"
      },
      "source": [
        "### Função Custo ou de Perda (MSE - Mean Square Error)"
      ]
    },
    {
      "cell_type": "markdown",
      "metadata": {
        "id": "SjDhur3YuVtq"
      },
      "source": [
        "<img src=\"https://raw.githubusercontent.com/robertoalotufo/files/master//figures/Loss_MSE.png\" width = \"600pt\">\n"
      ]
    },
    {
      "cell_type": "markdown",
      "metadata": {
        "collapsed": true,
        "id": "vSHV19BZuVtr"
      },
      "source": [
        "A função de custo depende do conjunto de treinamento ($y_i$) e dos valores de predição ($\\hat{y_i}$):\n",
        "\n",
        "$$ J(\\hat{y_i},y_i) = \\frac{1}{M} \\sum_{i=0}^{M-1} (\\hat{y_i} - y_i)^2 $$ .\n"
      ]
    },
    {
      "cell_type": "markdown",
      "metadata": {
        "id": "0sCJNYhluVts"
      },
      "source": [
        "## Laço de minimização via gradiente descendente"
      ]
    },
    {
      "cell_type": "markdown",
      "metadata": {
        "id": "zZEiH3teuVtt"
      },
      "source": [
        "O código da próxima célula é a parte principal deste notebook. É aqui que a minimização é feita. É aqui que dizemos que estamos fazendo o *fit*, ou o treinamento do sistema para encontrar o parâmetro $\\mathbf{W}$ que minimiza a função de perda $J$. Acompanhamos a convergência da minimização pelo valor da perda a cada iteração, plotando o vetor `J_history`."
      ]
    },
    {
      "cell_type": "markdown",
      "metadata": {
        "id": "kozomVYuuVtu"
      },
      "source": [
        "O esquema da otimização é representado pelo diagrama a seguir:\n",
        "\n",
        "<img src=\"https://raw.githubusercontent.com/robertoalotufo/files/master/figures/RegressaoLinear_Otimizacao.png\" width = \"600pt\">\n",
        "\n",
        "e é implementado pela próxima célula de código:"
      ]
    },
    {
      "cell_type": "markdown",
      "source": [
        "# Implementação"
      ],
      "metadata": {
        "id": "zg_jeYMdY_hG"
      }
    },
    {
      "cell_type": "markdown",
      "metadata": {
        "id": "-OdOS-k7uVtu"
      },
      "source": [
        "## Funções: Custo, Gradiente Descendente"
      ]
    },
    {
      "cell_type": "markdown",
      "source": [
        "## Definição do Modelo\n"
      ],
      "metadata": {
        "id": "4SlW9Z0AcSTq"
      }
    },
    {
      "cell_type": "code",
      "source": [
        "class Model(torch.nn.Module): \n",
        "  \"\"\"\n",
        "  Implements a LinearRegressionModel with torch.nn\n",
        "  \"\"\"\n",
        "  def __init__(self, n_in: int, n_out: int):\n",
        "    super().__init__()  \n",
        "    self.linear = torch.nn.Linear(n_in, n_out, bias=True)  # One in and one out\n",
        "    self.linear.weight\n",
        "    torch.nn.init.zeros_(self.linear.weight)\n",
        "    torch.nn.init.zeros_(self.linear.bias)\n",
        "    print(f\"Pesos shape: {self.linear.weight.shape} \")\n",
        "    print(f\"Pesos: {self.linear.weight} \")\n",
        "    print(f\"Bias shape: {self.linear.bias.shape} \")\n",
        "    print(f\"Bias: {self.linear.bias} \")\n",
        "\n",
        "  def forward(self, x):\n",
        "    y_pred = self.linear(x)\n",
        "    return y_pred"
      ],
      "metadata": {
        "id": "OAIOhWBWVWMy"
      },
      "execution_count": null,
      "outputs": []
    },
    {
      "cell_type": "markdown",
      "source": [
        "### Teste do modelo"
      ],
      "metadata": {
        "id": "z3szi2m-t50E"
      }
    },
    {
      "cell_type": "code",
      "source": [
        "xtemp = torch.arange(0,4).float(); x"
      ],
      "metadata": {
        "colab": {
          "base_uri": "https://localhost:8080/"
        },
        "id": "VP4Nzh_Wpc8A",
        "outputId": "09cad6e8-3642-48d0-82d2-789fa2e9ad5b"
      },
      "execution_count": null,
      "outputs": [
        {
          "output_type": "execute_result",
          "data": {
            "text/plain": [
              "tensor([0., 1., 2., 3.])"
            ]
          },
          "metadata": {},
          "execution_count": 24
        }
      ]
    },
    {
      "cell_type": "code",
      "source": [
        "xtemp = xtemp.reshape(-1,1)"
      ],
      "metadata": {
        "id": "9mTkERu2vqbT"
      },
      "execution_count": null,
      "outputs": []
    },
    {
      "cell_type": "code",
      "source": [
        "xtemp.shape"
      ],
      "metadata": {
        "colab": {
          "base_uri": "https://localhost:8080/"
        },
        "id": "en-ypg5ruRsT",
        "outputId": "b8d16e79-7279-48d3-aa59-afa9305cd096"
      },
      "execution_count": null,
      "outputs": [
        {
          "output_type": "execute_result",
          "data": {
            "text/plain": [
              "torch.Size([4, 1])"
            ]
          },
          "metadata": {},
          "execution_count": 26
        }
      ]
    },
    {
      "cell_type": "code",
      "source": [
        "model_test=Model(1,1)"
      ],
      "metadata": {
        "colab": {
          "base_uri": "https://localhost:8080/"
        },
        "id": "fScRt252uLVb",
        "outputId": "14ccc331-09cf-40e8-d86b-4146179aa3d7"
      },
      "execution_count": null,
      "outputs": [
        {
          "output_type": "stream",
          "name": "stdout",
          "text": [
            "Pesos shape: torch.Size([1, 1]) \n",
            "Pesos: Parameter containing:\n",
            "tensor([[0.]], requires_grad=True) \n",
            "Bias shape: torch.Size([1]) \n",
            "Bias: Parameter containing:\n",
            "tensor([0.], requires_grad=True) \n"
          ]
        }
      ]
    },
    {
      "cell_type": "code",
      "source": [
        "model_test(x)"
      ],
      "metadata": {
        "colab": {
          "base_uri": "https://localhost:8080/"
        },
        "id": "RFikMKSpuH87",
        "outputId": "7d131342-0c1d-4e1d-9a33-4defcef07e35"
      },
      "execution_count": null,
      "outputs": [
        {
          "output_type": "execute_result",
          "data": {
            "text/plain": [
              "tensor([[0.],\n",
              "        [0.],\n",
              "        [0.],\n",
              "        [0.]], grad_fn=<AddmmBackward0>)"
            ]
          },
          "metadata": {},
          "execution_count": 28
        }
      ]
    },
    {
      "cell_type": "code",
      "source": [
        "model_test.linear.weight.reshape(1,)"
      ],
      "metadata": {
        "colab": {
          "base_uri": "https://localhost:8080/"
        },
        "id": "DyZajsiVz5Y4",
        "outputId": "ad7f6892-681c-4d62-9a98-f423eee3b6a7"
      },
      "execution_count": null,
      "outputs": [
        {
          "output_type": "execute_result",
          "data": {
            "text/plain": [
              "tensor([0.], grad_fn=<ReshapeAliasBackward0>)"
            ]
          },
          "metadata": {},
          "execution_count": 29
        }
      ]
    },
    {
      "cell_type": "code",
      "source": [
        "model_test.linear.bias"
      ],
      "metadata": {
        "colab": {
          "base_uri": "https://localhost:8080/"
        },
        "id": "Jil0-FcS59iC",
        "outputId": "841e8475-2275-47d4-8230-c8da22724ab0"
      },
      "execution_count": null,
      "outputs": [
        {
          "output_type": "execute_result",
          "data": {
            "text/plain": [
              "Parameter containing:\n",
              "tensor([0.], requires_grad=True)"
            ]
          },
          "metadata": {},
          "execution_count": 30
        }
      ]
    },
    {
      "cell_type": "markdown",
      "source": [
        "### Experimentações de cat e stack"
      ],
      "metadata": {
        "id": "4Cq1sL_EhuiY"
      }
    },
    {
      "cell_type": "code",
      "source": [
        "x = torch.cat((model_test.linear.bias, model_test.linear.weight.reshape(1,)))"
      ],
      "metadata": {
        "id": "8d4GXwsTytSI"
      },
      "execution_count": null,
      "outputs": []
    },
    {
      "cell_type": "code",
      "source": [
        "c = 1\n",
        "c = torch.tensor(c, dtype=torch.int8);c"
      ],
      "metadata": {
        "colab": {
          "base_uri": "https://localhost:8080/"
        },
        "id": "5AWpSoLf6Y8V",
        "outputId": "8888187a-0205-45b1-af82-c82def72d1ea"
      },
      "execution_count": null,
      "outputs": [
        {
          "output_type": "execute_result",
          "data": {
            "text/plain": [
              "tensor(1, dtype=torch.int8)"
            ]
          },
          "metadata": {},
          "execution_count": 32
        }
      ]
    },
    {
      "cell_type": "code",
      "source": [
        "torch.reshape(c, (1,))"
      ],
      "metadata": {
        "colab": {
          "base_uri": "https://localhost:8080/"
        },
        "id": "mQtIFFEp7XY5",
        "outputId": "c91ac208-3ff8-410a-fb56-15c7bd192a75"
      },
      "execution_count": null,
      "outputs": [
        {
          "output_type": "execute_result",
          "data": {
            "text/plain": [
              "tensor([1], dtype=torch.int8)"
            ]
          },
          "metadata": {},
          "execution_count": 33
        }
      ]
    },
    {
      "cell_type": "code",
      "source": [
        "bbias = model_test.linear.bias; bbias"
      ],
      "metadata": {
        "colab": {
          "base_uri": "https://localhost:8080/"
        },
        "id": "EZdvJ6Hx0bZt",
        "outputId": "72d82ace-9e61-4c4f-e015-dab63894e0bd"
      },
      "execution_count": null,
      "outputs": [
        {
          "output_type": "execute_result",
          "data": {
            "text/plain": [
              "Parameter containing:\n",
              "tensor([0.], requires_grad=True)"
            ]
          },
          "metadata": {},
          "execution_count": 34
        }
      ]
    },
    {
      "cell_type": "code",
      "source": [
        "torch.stack((bbias, torch.reshape(c, (1,))))"
      ],
      "metadata": {
        "colab": {
          "base_uri": "https://localhost:8080/"
        },
        "id": "QHWac8TC6zD5",
        "outputId": "8596477f-558b-477d-9d52-80fc520ebfa0"
      },
      "execution_count": null,
      "outputs": [
        {
          "output_type": "execute_result",
          "data": {
            "text/plain": [
              "tensor([[0.],\n",
              "        [1.]], grad_fn=<StackBackward0>)"
            ]
          },
          "metadata": {},
          "execution_count": 35
        }
      ]
    },
    {
      "cell_type": "code",
      "source": [
        "pesos = torch.cat((model_test.linear.bias, model_test.linear.weight.reshape(1,))); pesos"
      ],
      "metadata": {
        "colab": {
          "base_uri": "https://localhost:8080/"
        },
        "id": "enc7x85_71YI",
        "outputId": "7465ef5e-c27b-4254-f794-e95363d396ad"
      },
      "execution_count": null,
      "outputs": [
        {
          "output_type": "execute_result",
          "data": {
            "text/plain": [
              "tensor([0., 0.], grad_fn=<CatBackward0>)"
            ]
          },
          "metadata": {},
          "execution_count": 36
        }
      ]
    },
    {
      "cell_type": "code",
      "source": [
        "pesos.shape"
      ],
      "metadata": {
        "colab": {
          "base_uri": "https://localhost:8080/"
        },
        "id": "jDIvHKH4ErNQ",
        "outputId": "0d6ecfe7-81b6-46f1-86cf-b6581e5f342c"
      },
      "execution_count": null,
      "outputs": [
        {
          "output_type": "execute_result",
          "data": {
            "text/plain": [
              "torch.Size([2])"
            ]
          },
          "metadata": {},
          "execution_count": 37
        }
      ]
    },
    {
      "cell_type": "code",
      "source": [
        "pesos_0 = pesos.reshape(1,2); pesos_0"
      ],
      "metadata": {
        "colab": {
          "base_uri": "https://localhost:8080/"
        },
        "id": "rBGV5VaWEtsA",
        "outputId": "14bad3b0-8290-4593-c868-8dfdc7733e95"
      },
      "execution_count": null,
      "outputs": [
        {
          "output_type": "execute_result",
          "data": {
            "text/plain": [
              "tensor([[0., 0.]], grad_fn=<ReshapeAliasBackward0>)"
            ]
          },
          "metadata": {},
          "execution_count": 38
        }
      ]
    },
    {
      "cell_type": "code",
      "source": [
        "pesos_1 = torch.cat((pesos_0, pesos.reshape(1,2))); pesos_1"
      ],
      "metadata": {
        "colab": {
          "base_uri": "https://localhost:8080/"
        },
        "id": "0PsHC49H1NB1",
        "outputId": "e363f868-8afb-45a9-fb70-f60f558f1097"
      },
      "execution_count": null,
      "outputs": [
        {
          "output_type": "execute_result",
          "data": {
            "text/plain": [
              "tensor([[0., 0.],\n",
              "        [0., 0.]], grad_fn=<CatBackward0>)"
            ]
          },
          "metadata": {},
          "execution_count": 40
        }
      ]
    },
    {
      "cell_type": "code",
      "source": [
        "pesos_2 = torch.cat((pesos_1, pesos.reshape(1,2))); pesos_2"
      ],
      "metadata": {
        "colab": {
          "base_uri": "https://localhost:8080/"
        },
        "id": "Ef2rHjPCEKeg",
        "outputId": "3ec2386c-1265-4dfa-b343-43863eaad1fb"
      },
      "execution_count": null,
      "outputs": [
        {
          "output_type": "execute_result",
          "data": {
            "text/plain": [
              "tensor([[0., 0.],\n",
              "        [0., 0.],\n",
              "        [0., 0.]], grad_fn=<CatBackward0>)"
            ]
          },
          "metadata": {},
          "execution_count": 41
        }
      ]
    },
    {
      "cell_type": "markdown",
      "metadata": {
        "id": "lxnpyxKS2sD_"
      },
      "source": [
        "## Métricas"
      ]
    },
    {
      "cell_type": "code",
      "metadata": {
        "id": "8amOzjzrJXk1"
      },
      "source": [
        "def calcula_loss_tensor(outputs, target, parm_criterion):\n",
        "  #print(f'entrei calcula_loss outputs type: {type(outputs)} shape: {outputs.shape} target type: {type(target)} shape: {target.shape}')\n",
        "  if isinstance(parm_criterion, torch.nn.MSELoss):\n",
        "    #print('é instancia de torch.nn.CrossEntropyLoss')\n",
        "    return parm_criterion(outputs, target)\n"
      ],
      "execution_count": null,
      "outputs": []
    },
    {
      "cell_type": "markdown",
      "source": [
        "## Definição do treinamento"
      ],
      "metadata": {
        "id": "YxVt_ye3cVYS"
      }
    },
    {
      "cell_type": "markdown",
      "source": [
        "### hparam: HiperParametros"
      ],
      "metadata": {
        "id": "wRn1RUSjnlmg"
      }
    },
    {
      "cell_type": "code",
      "source": [
        "def inicia_hparam()->dict:\n",
        "  # Inicialização dos parâmetros\n",
        "  hparam = {}\n",
        "  hparam['max_epochs'] = 21\n",
        "  hparam[\"learning_rate\"] = 0.5  \n",
        "  #criterion = torch.nn.CrossEntropyLoss(weight=pesos_classes)\n",
        "  hparam['criterion'] = torch.nn.MSELoss(reduction = 'mean') # torch.nn.CrossEntropyLoss()  \n",
        "  hparam[\"device\"] = torch.device('cuda:0' if torch.cuda.is_available() else 'cpu')\n",
        "  if torch.cuda.is_available(): print(torch. cuda. get_device_name(dev))    \n",
        "  return hparam"
      ],
      "metadata": {
        "id": "C-MWt4LldD4J"
      },
      "execution_count": null,
      "outputs": []
    },
    {
      "cell_type": "code",
      "source": [
        "def validar_hparam(parm_hparam:dict, parm_lista_chaves_esperadas=['max_epochs', 'criterion', 'optimizer', 'device'] ):\n",
        "  \"\"\"\n",
        "  Valida se hparam tem as chaves esperadas em parm_lista_chaves_esperadas\n",
        "  \"\"\"\n",
        "  if sum([key in hparam for key in parm_lista_chaves_esperadas]) != len(parm_lista_chaves_esperadas):\n",
        "              raise Exception(f'Está faltando parâmetro esperado para treinamento em hparam \\\n",
        "                  {[key for key in parm_lista_chaves_esperadas if key not in hparam]}')"
      ],
      "metadata": {
        "id": "uhcWSKEXe_Va"
      },
      "execution_count": null,
      "outputs": []
    },
    {
      "cell_type": "code",
      "source": [
        "hparam=inicia_hparam()\n"
      ],
      "metadata": {
        "id": "2uPyLs5Icany"
      },
      "execution_count": null,
      "outputs": []
    },
    {
      "cell_type": "markdown",
      "source": [
        "### Funções"
      ],
      "metadata": {
        "id": "Jf1ik0N4nxoR"
      }
    },
    {
      "cell_type": "code",
      "source": [
        "def treina_modelo_com_rastro (parm_model, parm_loader_train, hparam:dict, rastro_neptune, intervalo_print:int = 10):\n",
        "  \"\"\"Train a model following hparam directives\n",
        "\n",
        "  Returns:\n",
        "      loss_history: a torch.tensor of shape (n_epochs,)\n",
        "      w_history: a torch.tensor of shape (n_epochs, 2)\n",
        "      rastro_history (rastro with metrics)\n",
        "  \"\"\"\n",
        "  rastro_history = []\n",
        "  print(f'Iniciado treinamento em {time.strftime(\"%Y-%b-%d %H:%M:%S\")}')\n",
        "  for cnt_epoca in range(1, hparam['max_epochs']+1):\n",
        "    accumulated_loss = 0\n",
        "    accumulated_accuracy = 0\n",
        "    parm_model.train()\n",
        "    cnt_step = 0\n",
        "    for idx, batch in enumerate(parm_loader_train):\n",
        "      # print(f\"cnt_epoca {cnt_epoca} idx {idx} len(batch['x']): {len(batch['x'])} \")\n",
        "      cnt_step += 1\n",
        "      x = batch[\"x\"].to(hparam['device'])\n",
        "      y = batch[\"y\"].to(hparam['device'])\n",
        "      outputs = parm_model(x)\n",
        "\n",
        "      # calcula a perda\n",
        "      batch_loss = calcula_loss_tensor(outputs, y, hparam['criterion'])\n",
        "\n",
        "      # zero, backpropagation, ajusta parâmetros pelo gradiente descendente\n",
        "      batch_loss.backward()\n",
        "      \n",
        "      # salva no rastro\n",
        "      metrica_rastro = {\"train/loss\": batch_loss.item()}  \n",
        "      rastro_neptune.salva_metrica(metrica_rastro)\n",
        "      rastro_history.append(metrica_rastro)\n",
        "\n",
        "      # outros dados a retornar\n",
        "      pesos = torch.cat((parm_model.linear.bias, parm_model.linear.weight.reshape(1,)))\n",
        "      if cnt_epoca == 1:\n",
        "        # print(f\"type(batch_loss) {type(batch_loss)}\")\n",
        "        loss_history = torch.reshape(batch_loss, (1,)) \n",
        "        w_history = pesos.reshape(1,2)\n",
        "        # print(f\"cnt_epoca {cnt_epoca} loss_history:{loss_history} w_history: {w_history} \")\n",
        "      else:\n",
        "        loss_history = torch.cat((loss_history, torch.reshape(batch_loss, (1,)) ))\n",
        "        w_history = torch.cat((w_history, pesos.reshape(1,2)))\n",
        "\n",
        "      #print(f'Efetuando cálculo gradiente')\n",
        "      hparam['optimizer'].step()\n",
        "      # Reset gradients, for the next accumulated batches\n",
        "      hparam['optimizer'].zero_grad()\n",
        "\n",
        "      loss_treino = batch_loss\n",
        "      if intervalo_print > 0:\n",
        "        if (cnt_epoca)%intervalo_print == 0: \n",
        "          print(f'cnt_epoca {(cnt_epoca):d}/{hparam[\"max_epochs\"]:d} em {time.strftime(\"%Y-%b-%d %H:%M:%S\")} Train Loss: {loss_treino:.6f} ')\n",
        "          print(f\"           loss_history:{loss_history} w_history: {w_history} \")\n",
        "         \n",
        "  return loss_history, w_history, rastro_history"
      ],
      "metadata": {
        "id": "IL7VsN0vgdZo"
      },
      "execution_count": null,
      "outputs": []
    },
    {
      "cell_type": "markdown",
      "source": [
        "### Testando as funções"
      ],
      "metadata": {
        "id": "6C-L2NTBvTGh"
      }
    },
    {
      "cell_type": "code",
      "source": [
        "model = Model(1, 1) # duas entradas (1 + x0) e uma saída y_pred"
      ],
      "metadata": {
        "id": "E7TbIlWuvSLo",
        "colab": {
          "base_uri": "https://localhost:8080/"
        },
        "outputId": "8a2442bc-c3e4-4d25-d204-375d96b6d17a"
      },
      "execution_count": null,
      "outputs": [
        {
          "output_type": "stream",
          "name": "stdout",
          "text": [
            "Pesos shape: torch.Size([1, 1]) \n",
            "Pesos: Parameter containing:\n",
            "tensor([[0.]], requires_grad=True) \n",
            "Bias shape: torch.Size([1]) \n",
            "Bias: Parameter containing:\n",
            "tensor([0.], requires_grad=True) \n"
          ]
        }
      ]
    },
    {
      "cell_type": "code",
      "source": [
        "model.to(hparam['device'])\n",
        "hparam['optimizer'] = torch.optim.SGD(model.parameters(), lr=hparam['learning_rate']) #torch.optim.Adam(model.parameters(), lr=hparam[\"learning_rate\"])\n",
        "print(f\"hparam: {hparam}\")\n",
        "validar_hparam(hparam, ['max_epochs', 'criterion', 'optimizer', 'device'])\n"
      ],
      "metadata": {
        "colab": {
          "base_uri": "https://localhost:8080/"
        },
        "id": "JL96zv-H3ZsM",
        "outputId": "b2023fdd-05bf-47d4-f8a5-db93cac4505e"
      },
      "execution_count": null,
      "outputs": [
        {
          "output_type": "stream",
          "name": "stdout",
          "text": [
            "hparam: {'max_epochs': 21, 'learning_rate': 0.5, 'criterion': MSELoss(), 'device': device(type='cpu'), 'optimizer': SGD (\n",
            "Parameter Group 0\n",
            "    dampening: 0\n",
            "    lr: 0.5\n",
            "    momentum: 0\n",
            "    nesterov: False\n",
            "    weight_decay: 0\n",
            ")}\n"
          ]
        }
      ]
    },
    {
      "cell_type": "code",
      "source": [
        "rastro_neptune = NeptuneRastroRun(hparam, parm_lista_tag=[\"execução final\"])   "
      ],
      "metadata": {
        "colab": {
          "base_uri": "https://localhost:8080/"
        },
        "id": "6POzmplS3dNL",
        "outputId": "c61167da-a1e7-4ad2-f185-6b5d408e5119"
      },
      "execution_count": null,
      "outputs": [
        {
          "output_type": "stream",
          "name": "stdout",
          "text": [
            "https://app.neptune.ai/marcusborela/IA025/e/COUNTXEMBE-6\n",
            "Remember to stop your run once you’ve finished logging your metadata (https://docs.neptune.ai/api-reference/run#.stop). It will be stopped automatically only when the notebook kernel/interactive console is terminated.\n"
          ]
        }
      ]
    },
    {
      "cell_type": "code",
      "source": [
        "loss_history, w_history, rastro_history = treina_modelo_com_rastro(model, dados_loader, hparam, rastro_neptune, intervalo_print=100)"
      ],
      "metadata": {
        "colab": {
          "base_uri": "https://localhost:8080/"
        },
        "id": "sgagjSZY3i0D",
        "outputId": "ec68a718-624c-4a4f-9d43-4f13395a1bfc"
      },
      "execution_count": null,
      "outputs": [
        {
          "output_type": "stream",
          "name": "stdout",
          "text": [
            "Iniciado treinamento em 2022-Mar-27 22:57:24\n"
          ]
        }
      ]
    },
    {
      "cell_type": "code",
      "source": [
        "loss_history = loss_history.detach().numpy()\n",
        "w_history = w_history.detach().numpy()"
      ],
      "metadata": {
        "id": "OcuvtYFsOlJJ"
      },
      "execution_count": null,
      "outputs": []
    },
    {
      "cell_type": "code",
      "source": [
        "loss_history, w_history, rastro_history"
      ],
      "metadata": {
        "colab": {
          "base_uri": "https://localhost:8080/"
        },
        "id": "pcv-_KqTFUSY",
        "outputId": "cb80cdc8-bf09-43f9-cd21-6918d2228cf7"
      },
      "execution_count": null,
      "outputs": [
        {
          "output_type": "execute_result",
          "data": {
            "text/plain": [
              "(array([0.40907028, 0.05599688, 0.03208511, 0.02972903, 0.02885258,\n",
              "        0.02813922, 0.02749694, 0.02691416, 0.02638508, 0.02590473,\n",
              "        0.02546862, 0.02507267, 0.02471319, 0.02438681, 0.0240905 ,\n",
              "        0.02382147, 0.02357722, 0.02335547, 0.02315414, 0.02297135,\n",
              "        0.02280539], dtype=float32), array([[0.        , 0.        ],\n",
              "        [0.59999996, 0.33664396],\n",
              "        [0.43392235, 0.27542454],\n",
              "        [0.4641239 , 0.31466082],\n",
              "        [0.44476733, 0.32712537],\n",
              "        [0.43861815, 0.34536758],\n",
              "        [0.4296187 , 0.36112356],\n",
              "        [0.4218457 , 0.37655175],\n",
              "        [0.4142345 , 0.39114627],\n",
              "        [0.40703452, 0.40507957],\n",
              "        [0.40016076, 0.41834885],\n",
              "        [0.39361456, 0.4309941 ],\n",
              "        [0.38737625, 0.44304255],\n",
              "        [0.38143235, 0.45452288],\n",
              "        [0.37576872, 0.46546176],\n",
              "        [0.3703722 , 0.47588477],\n",
              "        [0.3652302 , 0.4858162 ],\n",
              "        [0.36033067, 0.49527925],\n",
              "        [0.35566226, 0.504296  ],\n",
              "        [0.351214  , 0.51288754],\n",
              "        [0.34697548, 0.5210739 ]], dtype=float32), [{'train/loss': 0.40907028317451477},\n",
              "  {'train/loss': 0.05599687993526459},\n",
              "  {'train/loss': 0.0320851095020771},\n",
              "  {'train/loss': 0.029729025438427925},\n",
              "  {'train/loss': 0.02885257638990879},\n",
              "  {'train/loss': 0.028139222413301468},\n",
              "  {'train/loss': 0.02749694138765335},\n",
              "  {'train/loss': 0.026914162561297417},\n",
              "  {'train/loss': 0.026385080069303513},\n",
              "  {'train/loss': 0.025904729962348938},\n",
              "  {'train/loss': 0.02546861581504345},\n",
              "  {'train/loss': 0.025072669610381126},\n",
              "  {'train/loss': 0.024713190272450447},\n",
              "  {'train/loss': 0.0243868138641119},\n",
              "  {'train/loss': 0.024090496823191643},\n",
              "  {'train/loss': 0.023821473121643066},\n",
              "  {'train/loss': 0.02357722446322441},\n",
              "  {'train/loss': 0.023355472832918167},\n",
              "  {'train/loss': 0.023154139518737793},\n",
              "  {'train/loss': 0.022971350699663162},\n",
              "  {'train/loss': 0.02280539460480213}])"
            ]
          },
          "metadata": {},
          "execution_count": 54
        }
      ]
    },
    {
      "cell_type": "code",
      "source": [
        "rastro_neptune.gera_grafico_modelo(dados_loader, model)   "
      ],
      "metadata": {
        "id": "9qG8mW3o4H9y"
      },
      "execution_count": null,
      "outputs": []
    },
    {
      "cell_type": "code",
      "source": [
        "rastro_neptune.stop()"
      ],
      "metadata": {
        "colab": {
          "base_uri": "https://localhost:8080/"
        },
        "id": "eozx_-DwCbo6",
        "outputId": "73d17d8c-bd3e-4ef7-cadc-f0fca2985964"
      },
      "execution_count": null,
      "outputs": [
        {
          "output_type": "stream",
          "name": "stdout",
          "text": [
            "Shutting down background jobs, please wait a moment...\n",
            "Done!\n"
          ]
        },
        {
          "output_type": "stream",
          "name": "stderr",
          "text": [
            "Waiting for the remaining 3 operations to synchronize with Neptune. Do not kill this process.\n"
          ]
        },
        {
          "output_type": "stream",
          "name": "stdout",
          "text": [
            "All 3 operations synced, thanks for waiting!\n"
          ]
        }
      ]
    },
    {
      "cell_type": "code",
      "source": [
        "# Assert do histórico de losses\n",
        "target_loss_history = np.array(\n",
        "    [0.40907029, 0.0559969 , 0.03208511, 0.02972902, 0.02885257,\n",
        "     0.02813922, 0.02749694, 0.02691416, 0.02638508, 0.02590473,\n",
        "     0.02546862, 0.02507267, 0.02471319, 0.02438681, 0.0240905 ,\n",
        "     0.02382147, 0.02357722, 0.02335547, 0.02315414, 0.02297135,\n",
        "     0.0228054])\n"
      ],
      "metadata": {
        "id": "WhZj9Qcjz3h3"
      },
      "execution_count": null,
      "outputs": []
    },
    {
      "cell_type": "code",
      "source": [
        "assert np.allclose(loss_history, target_loss_history, atol=1e-6)"
      ],
      "metadata": {
        "id": "ITESLmcqwuzT"
      },
      "execution_count": null,
      "outputs": []
    },
    {
      "cell_type": "code",
      "source": [
        "# Assert de histórico de pesos da rede\n",
        "target_w_history = np.array(\n",
        "    [[0.,         0.        ],\n",
        "    [0.6,        0.336644  ],\n",
        "    [0.4339223,  0.27542454],\n",
        "    [0.4641239,  0.31466085],\n",
        "    [0.44476733, 0.3271254 ],\n",
        "    [0.43861815, 0.3453676 ],\n",
        "    [0.42961866, 0.3611236 ],\n",
        "    [0.4218457,  0.37655178],\n",
        "    [0.41423446, 0.3911463 ],\n",
        "    [0.40703452, 0.4050796 ],\n",
        "    [0.40016073, 0.41834888],\n",
        "    [0.39361456, 0.43099412],\n",
        "    [0.38737625, 0.44304258],\n",
        "    [0.38143232, 0.4545229 ],\n",
        "    [0.3757687,  0.4654618 ],\n",
        "    [0.37037218, 0.4758848 ],\n",
        "    [0.36523017, 0.48581624],\n",
        "    [0.36033067, 0.49527928],\n",
        "    [0.35566223, 0.50429606],\n",
        "    [0.35121396, 0.5128876 ],\n",
        "    [0.34697545, 0.52107394]])\n"
      ],
      "metadata": {
        "id": "_BrLghe-zzow"
      },
      "execution_count": null,
      "outputs": []
    },
    {
      "cell_type": "code",
      "source": [
        "assert np.allclose(w_history, target_w_history, atol=1e-6)"
      ],
      "metadata": {
        "id": "tyg6CQxTw8_Y"
      },
      "execution_count": null,
      "outputs": []
    },
    {
      "cell_type": "markdown",
      "source": [
        "# Função de cálculo do grid de custos"
      ],
      "metadata": {
        "id": "MHiCDLugqR4R"
      }
    },
    {
      "cell_type": "markdown",
      "source": [
        "### Montando os valores dos eixos com sobra da diferença nos eixos do gráfico"
      ],
      "metadata": {
        "id": "tcYtAd13WpRh"
      }
    },
    {
      "cell_type": "code",
      "source": [
        "wmin = w_history.min(axis=0)\n",
        "wmax = w_history.max(axis=0)\n",
        "wmin, wmax"
      ],
      "metadata": {
        "id": "l9ygbpRxJPnV",
        "colab": {
          "base_uri": "https://localhost:8080/"
        },
        "outputId": "2a25883d-82f1-4e89-a89e-c1cb49f1b2ad"
      },
      "execution_count": null,
      "outputs": [
        {
          "output_type": "execute_result",
          "data": {
            "text/plain": [
              "(array([0., 0.], dtype=float32),\n",
              " array([0.59999996, 0.5210739 ], dtype=float32))"
            ]
          },
          "metadata": {},
          "execution_count": 61
        }
      ]
    },
    {
      "cell_type": "code",
      "source": [
        "D =  wmax - wmin; D"
      ],
      "metadata": {
        "colab": {
          "base_uri": "https://localhost:8080/"
        },
        "id": "YHU2HaovKXZT",
        "outputId": "0cf715de-c3b1-49ff-fb3d-bc9617120c17"
      },
      "execution_count": null,
      "outputs": [
        {
          "output_type": "execute_result",
          "data": {
            "text/plain": [
              "array([0.59999996, 0.5210739 ], dtype=float32)"
            ]
          },
          "metadata": {},
          "execution_count": 62
        }
      ]
    },
    {
      "cell_type": "code",
      "source": [
        "wmin -= D\n",
        "wmax += D\n",
        "wmin, wmax"
      ],
      "metadata": {
        "colab": {
          "base_uri": "https://localhost:8080/"
        },
        "id": "yMoQU-OCKwZj",
        "outputId": "382c6b58-089a-4040-f995-8e6c9f7cb865"
      },
      "execution_count": null,
      "outputs": [
        {
          "output_type": "execute_result",
          "data": {
            "text/plain": [
              "(array([-0.59999996, -0.5210739 ], dtype=float32),\n",
              " array([1.1999999, 1.0421478], dtype=float32))"
            ]
          },
          "metadata": {},
          "execution_count": 63
        }
      ]
    },
    {
      "cell_type": "code",
      "source": [
        "w_0_grid = np.linspace(wmin[0], wmax[0], 100)\n",
        "w_1_grid = np.linspace(wmin[1], wmax[1], 100)"
      ],
      "metadata": {
        "id": "1GPf-Im0LQ-6"
      },
      "execution_count": null,
      "outputs": []
    },
    {
      "cell_type": "markdown",
      "source": [
        "### Calculando a loss no grid de valores dos pesos"
      ],
      "metadata": {
        "id": "HmCSq8pjXNc0"
      }
    },
    {
      "cell_type": "code",
      "source": [
        "def compute_loss_grid(x, y, w_0_grid, w_1_grid):\n",
        "    \"\"\"\n",
        "      Objetivo: retornar o valor da função de custo considerando os valores\n",
        "        passados dos pesos nos eixos do gráfico: horizontal (w_0_grid) e\n",
        "        vertical (w_1_grid).\n",
        "\n",
        "      Para fins ilustrativos, consideremos:\n",
        "        len(w_0_grid)=len(w_0_grid)=100 (não precisariam ser iguais)\n",
        "        len(x)=len(y)=50 (precisam ter tamanhos iguais)\n",
        "\n",
        "      Returns:\n",
        "        loss_grid: an array with the same shape of w_0_grid x w_1_grid. \n",
        "        No caso, de 100 números para cada eixo, será retornado array com 2 dimensões\n",
        "        com 100 em cada: (100, 100) referentes aos valores da função de custo \n",
        "        em cada par, para montar o gráfico.  \n",
        "\n",
        "      Obs.: antes de implementar, tomei por base solução do colega Edmar Rodrigues\n",
        "    \"\"\"\n",
        "    # gera as combinações possíveis\n",
        "    #   duplica os valores dos vetores: [[a, b,...], [a,b,...]]\n",
        "    #   cada um em uma dimensão, para permitir passos seguintes\n",
        "    #  :: tamanho ww0 no exemplo: 100 x 100\n",
        "    ww0, ww1 = np.meshgrid(w_0_grid, w_1_grid)\n",
        "    #   ravel: concatena os vetores em uma única dimensão:[a,b,...a,b,...]\n",
        "    #   concatena os arrays ao longo do último eixo\n",
        "    #  :: tamanho w_grid 10mil pares (100 x 100)\n",
        "    w_grid = np.stack((ww0.ravel(), ww1.ravel()), axis=1)\n",
        "    # Calculo da função de custo para todos os pares de pesos considerados\n",
        "    #   Para cada par, multiplicar w0 por todos valores em X e subtrair\n",
        "    #   de y. E calcular seu quadrado, para todos os valores de x,y\n",
        "    #  :: tamanho loss_grid 50 (pares x, y) x 10000 (w_grid)\n",
        "    loss_grid = (((w_grid[:,0] + w_grid[:,1]*x) - y)**2)\n",
        "    # Pegar a média da quadrados das diferenças no eixo do número de amostras (50)\n",
        "    #  :: tamanho 10mil\n",
        "    loss_grid = loss_grid.mean(axis=0)\n",
        "    # Reorganizar o array para voltar aos valores da função para os \n",
        "    #   O -1 indica que a última dimensão (1) terá seu tamanho ajustado automaticamente\n",
        "    #  :: tamanho (100 x 100)\n",
        "    loss_grid = loss_grid.reshape((w_0_grid.shape[0],-1))    \n",
        "    return loss_grid"
      ],
      "metadata": {
        "id": "lm_uLYP-I6Bf"
      },
      "execution_count": null,
      "outputs": []
    },
    {
      "cell_type": "code",
      "source": [
        "loss_grid = compute_loss_grid(x, y, w_0_grid, w_1_grid)"
      ],
      "metadata": {
        "id": "HplzUhXqKKJT"
      },
      "execution_count": null,
      "outputs": []
    },
    {
      "cell_type": "markdown",
      "source": [
        "### Testando a função"
      ],
      "metadata": {
        "id": "zbnwHButrRfh"
      }
    },
    {
      "cell_type": "code",
      "source": [
        "!gsutil cp gs://unicamp-dl/ia025a_2022s1/aula2/target_loss_grid.npy .\n",
        "target_loss_grid = np.load('target_loss_grid.npy')"
      ],
      "metadata": {
        "id": "LIJrVbJ-V4zt",
        "colab": {
          "base_uri": "https://localhost:8080/"
        },
        "outputId": "b3ee169a-3447-401a-90c5-7a4f32a7671d"
      },
      "execution_count": null,
      "outputs": [
        {
          "output_type": "stream",
          "name": "stdout",
          "text": [
            "Copying gs://unicamp-dl/ia025a_2022s1/aula2/target_loss_grid.npy...\n",
            "/ [0 files][    0.0 B/ 78.2 KiB]                                                \r/ [1 files][ 78.2 KiB/ 78.2 KiB]                                                \r\n",
            "Operation completed over 1 objects/78.2 KiB.                                     \n"
          ]
        }
      ]
    },
    {
      "cell_type": "code",
      "source": [
        "target_loss_grid.shape, type(target_loss_grid)"
      ],
      "metadata": {
        "colab": {
          "base_uri": "https://localhost:8080/"
        },
        "id": "8THTWUqzNoWh",
        "outputId": "04b82377-99c4-4050-c728-399841b119fb"
      },
      "execution_count": null,
      "outputs": [
        {
          "output_type": "execute_result",
          "data": {
            "text/plain": [
              "((100, 100), numpy.ndarray)"
            ]
          },
          "metadata": {},
          "execution_count": 71
        }
      ]
    },
    {
      "cell_type": "code",
      "source": [
        "assert np.allclose(loss_grid, target_loss_grid, atol=1e-6) "
      ],
      "metadata": {
        "id": "UNwn3RHcWKEI"
      },
      "execution_count": null,
      "outputs": []
    },
    {
      "cell_type": "markdown",
      "metadata": {
        "id": "jkQqeZPjuVt2"
      },
      "source": [
        "## Funcão de Plot"
      ]
    },
    {
      "cell_type": "code",
      "metadata": {
        "ExecuteTime": {
          "end_time": "2018-08-20T22:57:44.389395Z",
          "start_time": "2018-08-20T22:57:44.359015Z"
        },
        "id": "HhIiKg2IuVt3"
      },
      "source": [
        "def show_plots(x, y, w_0_grid, w_1_grid, loss_grid, loss_history, w_history, sleep=0.3):\n",
        "    n_samples = y.shape[0]\n",
        "\n",
        "    # valor ótimo, solução analítica\n",
        "    # ------------------------------\n",
        "    x_bias = np.hstack([np.ones((n_samples, 1)), x])\n",
        "    w_opt = (np.linalg.inv((x_bias.T).dot(x_bias)).dot(x_bias.T)).dot(y)    \n",
        "    x_all = np.linspace(x.min(), x.max(), 100).reshape(100, 1)\n",
        "    x_all_bias = np.hstack([np.ones((100, 1)), x_all])\n",
        "    result_opt = x_all_bias.dot(w_opt)    # Predição do valor ótimo\n",
        "        \n",
        "    # Gráficos:\n",
        "    # --------\n",
        "    fig = plt.figure(figsize=(18, 6))\n",
        "    ax_grid = fig.add_subplot(1, 3, 1)    # Grid de losses\n",
        "    ax_loss = fig.add_subplot(1, 3, 2)    # Função perda\n",
        "\n",
        "    ax_loss.plot(loss_history)\n",
        "    ax_loss.set_title('Perda', fontsize=15)\n",
        "    ax_loss.set_xlabel('epochs', fontsize=10)\n",
        "    ax_loss.set_ylabel('MSE', fontsize=10)\n",
        "\n",
        "    ax_grid.pcolormesh(w_0_grid, w_1_grid, loss_grid, cmap=plt.cm.coolwarm)\n",
        "    ax_grid.contour(w_0_grid, w_1_grid, loss_grid, 20)\n",
        "    ax_grid.scatter(w_opt[0], w_opt[1], marker='x', c='w')  # Solução analítica.\n",
        "    ax_grid.set_title('W', fontsize=15)\n",
        "    ax_grid.set_xlabel('w0', fontsize=10)\n",
        "    ax_grid.set_ylabel('w1', fontsize=10)\n",
        "\n",
        "    # Plot dinâmico\n",
        "    # -------------\n",
        "    for i, (loss, w) in enumerate(zip(loss_history, w_history)):\n",
        "        ax_loss.scatter(i, loss)\n",
        "                            \n",
        "        ax_grid.scatter(w[0], w[1], c='r', marker='o')\n",
        "        \n",
        "        display.display(fig)\n",
        "        display.clear_output(wait=True)\n",
        "        time.sleep(sleep)\n"
      ],
      "execution_count": null,
      "outputs": []
    },
    {
      "cell_type": "markdown",
      "metadata": {
        "id": "8ePrG4fQuVt6"
      },
      "source": [
        "## Plotagem iterativa do gradiente descendente, reta ajuste, parâmetros, função perda"
      ]
    },
    {
      "cell_type": "code",
      "metadata": {
        "ExecuteTime": {
          "end_time": "2018-08-20T22:58:20.107148Z",
          "start_time": "2018-08-20T22:57:47.928146Z"
        },
        "id": "Zx73IXaIuVt7",
        "scrolled": false,
        "colab": {
          "base_uri": "https://localhost:8080/",
          "height": 406
        },
        "outputId": "cee82e84-d56a-4dfa-ec9c-5fe52d6685d9"
      },
      "source": [
        "%matplotlib inline\n",
        "try:\n",
        "    show_plots(x, y, w_0_grid, w_1_grid, loss_grid, loss_history, w_history, sleep=0.01)\n",
        "except KeyboardInterrupt:\n",
        "    pass"
      ],
      "execution_count": null,
      "outputs": [
        {
          "output_type": "display_data",
          "data": {
            "text/plain": [
              "<Figure size 1296x432 with 2 Axes>"
            ],
            "image/png": "[encoded data removed]"
          },
          "metadata": {
            "needs_background": "light"
          }
        }
      ]
    },
    {
      "cell_type": "markdown",
      "source": [
        "# Outras experimentações"
      ],
      "metadata": {
        "id": "aSHsrqM0N75w"
      }
    },
    {
      "cell_type": "markdown",
      "source": [
        "### Testando comandos para compreensão da função de grid para construção do gráfico"
      ],
      "metadata": {
        "id": "AI9TSQ2AWZbp"
      }
    },
    {
      "cell_type": "code",
      "source": [
        "w_0_grid.shape, w_0_grid[:10],w_0_grid[-10:],"
      ],
      "metadata": {
        "colab": {
          "base_uri": "https://localhost:8080/"
        },
        "id": "3ICYeIM1SMOV",
        "outputId": "36ecc57d-ab84-4545-c021-f16f424f8559"
      },
      "execution_count": null,
      "outputs": [
        {
          "output_type": "execute_result",
          "data": {
            "text/plain": [
              "((100,),\n",
              " array([-0.59999996, -0.58181815, -0.56363633, -0.54545451, -0.5272727 ,\n",
              "        -0.50909088, -0.49090906, -0.47272724, -0.45454543, -0.43636361]),\n",
              " array([1.03636357, 1.05454539, 1.07272721, 1.09090903, 1.10909084,\n",
              "        1.12727266, 1.14545448, 1.16363629, 1.18181811, 1.19999993]))"
            ]
          },
          "metadata": {},
          "execution_count": 77
        }
      ]
    },
    {
      "cell_type": "code",
      "source": [
        "w_1_grid.shape, w_1_grid[:10],w_1_grid[-10:],"
      ],
      "metadata": {
        "colab": {
          "base_uri": "https://localhost:8080/"
        },
        "id": "_h0EkDwPYSQ6",
        "outputId": "6d20492e-2445-4d15-c153-ad3bebab79cf"
      },
      "execution_count": null,
      "outputs": [
        {
          "output_type": "execute_result",
          "data": {
            "text/plain": [
              "((100,),\n",
              " array([-0.52107388, -0.50528376, -0.48949364, -0.47370353, -0.45791341,\n",
              "        -0.44212329, -0.42633317, -0.41054306, -0.39475294, -0.37896282]),\n",
              " array([0.9000367 , 0.91582682, 0.93161693, 0.94740705, 0.96319717,\n",
              "        0.97898729, 0.9947774 , 1.01056752, 1.02635764, 1.04214776]))"
            ]
          },
          "metadata": {},
          "execution_count": 79
        }
      ]
    },
    {
      "cell_type": "code",
      "source": [
        " ww0, ww1 = np.meshgrid(w_0_grid, w_1_grid)"
      ],
      "metadata": {
        "id": "rU_lNx9CYWsQ"
      },
      "execution_count": null,
      "outputs": []
    },
    {
      "cell_type": "code",
      "source": [
        "ww0.shape, ww0[:2,:10]"
      ],
      "metadata": {
        "colab": {
          "base_uri": "https://localhost:8080/"
        },
        "id": "wws2GRodSVrU",
        "outputId": "414cb252-ff4f-45cb-c8c4-d80ede54b722"
      },
      "execution_count": null,
      "outputs": [
        {
          "output_type": "execute_result",
          "data": {
            "text/plain": [
              "((100, 100),\n",
              " array([[-0.59999996, -0.58181815, -0.56363633, -0.54545451, -0.5272727 ,\n",
              "         -0.50909088, -0.49090906, -0.47272724, -0.45454543, -0.43636361],\n",
              "        [-0.59999996, -0.58181815, -0.56363633, -0.54545451, -0.5272727 ,\n",
              "         -0.50909088, -0.49090906, -0.47272724, -0.45454543, -0.43636361]]))"
            ]
          },
          "metadata": {},
          "execution_count": 81
        }
      ]
    },
    {
      "cell_type": "code",
      "source": [
        "ww1.shape, ww1[:2,:10]"
      ],
      "metadata": {
        "colab": {
          "base_uri": "https://localhost:8080/"
        },
        "id": "Ki6WYwAASuLm",
        "outputId": "43360c81-31fc-40ab-c1b9-913ba61f78be"
      },
      "execution_count": null,
      "outputs": [
        {
          "output_type": "execute_result",
          "data": {
            "text/plain": [
              "((100, 100),\n",
              " array([[-0.52107388, -0.52107388, -0.52107388, -0.52107388, -0.52107388,\n",
              "         -0.52107388, -0.52107388, -0.52107388, -0.52107388, -0.52107388],\n",
              "        [-0.50528376, -0.50528376, -0.50528376, -0.50528376, -0.50528376,\n",
              "         -0.50528376, -0.50528376, -0.50528376, -0.50528376, -0.50528376]]))"
            ]
          },
          "metadata": {},
          "execution_count": 82
        }
      ]
    },
    {
      "cell_type": "code",
      "source": [
        "w_grid = np.c_[ww0.ravel(), ww1.ravel()]"
      ],
      "metadata": {
        "id": "LClBy_FkU87L"
      },
      "execution_count": null,
      "outputs": []
    },
    {
      "cell_type": "code",
      "source": [
        "w_grid2 = np.stack((ww0.ravel(), ww1.ravel()), axis=1)"
      ],
      "metadata": {
        "id": "VwsVDO9GbulN"
      },
      "execution_count": null,
      "outputs": []
    },
    {
      "cell_type": "code",
      "source": [
        "w_grid2.shape"
      ],
      "metadata": {
        "colab": {
          "base_uri": "https://localhost:8080/"
        },
        "id": "ax8qU1GEb2Ic",
        "outputId": "4187170e-cfb2-4a88-b02e-1c0f41741dff"
      },
      "execution_count": null,
      "outputs": [
        {
          "output_type": "execute_result",
          "data": {
            "text/plain": [
              "(10000, 2)"
            ]
          },
          "metadata": {},
          "execution_count": 85
        }
      ]
    },
    {
      "cell_type": "code",
      "source": [
        "w_grid2[0:10],w_grid2[-10:]"
      ],
      "metadata": {
        "colab": {
          "base_uri": "https://localhost:8080/"
        },
        "id": "NCsqCYgxb4aF",
        "outputId": "086d1bc4-4c91-4c9e-dff4-08e969cd87bc"
      },
      "execution_count": null,
      "outputs": [
        {
          "output_type": "execute_result",
          "data": {
            "text/plain": [
              "(array([[-0.59999996, -0.52107388],\n",
              "        [-0.58181815, -0.52107388],\n",
              "        [-0.56363633, -0.52107388],\n",
              "        [-0.54545451, -0.52107388],\n",
              "        [-0.5272727 , -0.52107388],\n",
              "        [-0.50909088, -0.52107388],\n",
              "        [-0.49090906, -0.52107388],\n",
              "        [-0.47272724, -0.52107388],\n",
              "        [-0.45454543, -0.52107388],\n",
              "        [-0.43636361, -0.52107388]]), array([[1.03636357, 1.04214776],\n",
              "        [1.05454539, 1.04214776],\n",
              "        [1.07272721, 1.04214776],\n",
              "        [1.09090903, 1.04214776],\n",
              "        [1.10909084, 1.04214776],\n",
              "        [1.12727266, 1.04214776],\n",
              "        [1.14545448, 1.04214776],\n",
              "        [1.16363629, 1.04214776],\n",
              "        [1.18181811, 1.04214776],\n",
              "        [1.19999993, 1.04214776]]))"
            ]
          },
          "metadata": {},
          "execution_count": 86
        }
      ]
    },
    {
      "cell_type": "code",
      "source": [
        "w_grid.shape"
      ],
      "metadata": {
        "colab": {
          "base_uri": "https://localhost:8080/"
        },
        "id": "XAHIu9ejU-Rq",
        "outputId": "f8a6d7fd-a6b9-44d8-d8d0-64cc1da45645"
      },
      "execution_count": null,
      "outputs": [
        {
          "output_type": "execute_result",
          "data": {
            "text/plain": [
              "(10000, 2)"
            ]
          },
          "metadata": {},
          "execution_count": 87
        }
      ]
    },
    {
      "cell_type": "code",
      "source": [
        "w_grid[0:10],w_grid[-10:]"
      ],
      "metadata": {
        "colab": {
          "base_uri": "https://localhost:8080/"
        },
        "id": "2YzPD_poVA9S",
        "outputId": "171056d9-7e3d-4a78-b15f-78d16226202f"
      },
      "execution_count": null,
      "outputs": [
        {
          "output_type": "execute_result",
          "data": {
            "text/plain": [
              "(array([[-0.59999996, -0.52107388],\n",
              "        [-0.58181815, -0.52107388],\n",
              "        [-0.56363633, -0.52107388],\n",
              "        [-0.54545451, -0.52107388],\n",
              "        [-0.5272727 , -0.52107388],\n",
              "        [-0.50909088, -0.52107388],\n",
              "        [-0.49090906, -0.52107388],\n",
              "        [-0.47272724, -0.52107388],\n",
              "        [-0.45454543, -0.52107388],\n",
              "        [-0.43636361, -0.52107388]]), array([[1.03636357, 1.04214776],\n",
              "        [1.05454539, 1.04214776],\n",
              "        [1.07272721, 1.04214776],\n",
              "        [1.09090903, 1.04214776],\n",
              "        [1.10909084, 1.04214776],\n",
              "        [1.12727266, 1.04214776],\n",
              "        [1.14545448, 1.04214776],\n",
              "        [1.16363629, 1.04214776],\n",
              "        [1.18181811, 1.04214776],\n",
              "        [1.19999993, 1.04214776]]))"
            ]
          },
          "metadata": {},
          "execution_count": 88
        }
      ]
    },
    {
      "cell_type": "code",
      "source": [
        "loss_grid = (((w_grid[:,0] + w_grid[:,1]*x) - y)**2)"
      ],
      "metadata": {
        "id": "vUqkbtB_VZiR"
      },
      "execution_count": null,
      "outputs": []
    },
    {
      "cell_type": "code",
      "source": [
        "loss_grid.shape, loss_grid[0:3],loss_grid[-3:]"
      ],
      "metadata": {
        "colab": {
          "base_uri": "https://localhost:8080/"
        },
        "id": "WvCVWOHzVaUi",
        "outputId": "46e137bd-0b8f-4557-8611-595b2bd9361e"
      },
      "execution_count": null,
      "outputs": [
        {
          "output_type": "execute_result",
          "data": {
            "text/plain": [
              "((50, 10000),\n",
              " array([[3.72720729, 3.65733432, 3.58812251, ..., 1.94954266, 2.00064633,\n",
              "         2.05241117],\n",
              "        [2.84421919, 2.78322318, 2.72288833, ..., 1.42501957, 1.46875894,\n",
              "         1.51315946],\n",
              "        [4.00409187, 3.93165799, 3.85988526, ..., 1.5659921 , 1.61182799,\n",
              "         1.65832503]]),\n",
              " array([[2.37658337, 2.32085514, 2.26578808, ..., 1.41545215, 1.45904555,\n",
              "         1.50330011],\n",
              "        [0.422014  , 0.39872182, 0.37609079, ..., 1.59488727, 1.64114106,\n",
              "         1.68805601],\n",
              "        [1.74851385, 1.70076029, 1.65366789, ..., 1.07502773, 1.11306141,\n",
              "         1.15175625]]))"
            ]
          },
          "metadata": {},
          "execution_count": 90
        }
      ]
    },
    {
      "cell_type": "code",
      "source": [
        "loss_grid = loss_grid.mean(axis=0)"
      ],
      "metadata": {
        "id": "3wtuRnU4V715"
      },
      "execution_count": null,
      "outputs": []
    },
    {
      "cell_type": "code",
      "source": [
        "loss_grid.shape, loss_grid[0:3],loss_grid[-3:]"
      ],
      "metadata": {
        "colab": {
          "base_uri": "https://localhost:8080/"
        },
        "id": "hoCODx2iWMB6",
        "outputId": "8a5bb36c-25ff-43c9-8c13-687b3ad5c230"
      },
      "execution_count": null,
      "outputs": [
        {
          "output_type": "execute_result",
          "data": {
            "text/plain": [
              "((10000,),\n",
              " array([2.23053598, 2.17788245, 2.12589008]),\n",
              " array([1.1902316 , 1.22975354, 1.26993664]))"
            ]
          },
          "metadata": {},
          "execution_count": 92
        }
      ]
    },
    {
      "cell_type": "code",
      "source": [
        ""
      ],
      "metadata": {
        "id": "Eiuh74_Un7Y5"
      },
      "execution_count": null,
      "outputs": []
    }
  ]
}