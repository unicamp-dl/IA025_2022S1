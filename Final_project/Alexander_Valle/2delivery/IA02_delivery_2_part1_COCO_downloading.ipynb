{
  "cells": [
    {
      "cell_type": "markdown",
      "metadata": {
        "id": "view-in-github",
        "colab_type": "text"
      },
      "source": [
        "<a href=\"https://colab.research.google.com/github/unicamp-dl/IA025_2022S1/blob/main/Final_project/Alexander_Valle/2delivery/IA02_delivery_2_part1_COCO_downloading.ipynb\" target=\"_parent\"><img src=\"https://colab.research.google.com/assets/colab-badge.svg\" alt=\"Open In Colab\"/></a>"
      ]
    },
    {
      "cell_type": "markdown",
      "source": [
        "the download and dataloader functions of COCO dataset are from\n",
        "\n",
        "https://colab.research.google.com/github/rammyram/image_captioning/blob/master/Image_Captioning.ipynb"
      ],
      "metadata": {
        "id": "U2Ip-Rw3DuDn"
      }
    },
    {
      "cell_type": "code",
      "execution_count": null,
      "metadata": {
        "colab": {
          "base_uri": "https://localhost:8080/"
        },
        "id": "TdUmoN1yENAo",
        "outputId": "e7561947-180d-4214-eb54-3720f6833152"
      },
      "outputs": [
        {
          "output_type": "stream",
          "name": "stdout",
          "text": [
            "Mon Jul  4 23:27:43 2022       \n",
            "+-----------------------------------------------------------------------------+\n",
            "| NVIDIA-SMI 460.32.03    Driver Version: 460.32.03    CUDA Version: 11.2     |\n",
            "|-------------------------------+----------------------+----------------------+\n",
            "| GPU  Name        Persistence-M| Bus-Id        Disp.A | Volatile Uncorr. ECC |\n",
            "| Fan  Temp  Perf  Pwr:Usage/Cap|         Memory-Usage | GPU-Util  Compute M. |\n",
            "|                               |                      |               MIG M. |\n",
            "|===============================+======================+======================|\n",
            "|   0  Tesla P100-PCIE...  Off  | 00000000:00:04.0 Off |                    0 |\n",
            "| N/A   41C    P0    27W / 250W |      0MiB / 16280MiB |      0%      Default |\n",
            "|                               |                      |                  N/A |\n",
            "+-------------------------------+----------------------+----------------------+\n",
            "                                                                               \n",
            "+-----------------------------------------------------------------------------+\n",
            "| Processes:                                                                  |\n",
            "|  GPU   GI   CI        PID   Type   Process name                  GPU Memory |\n",
            "|        ID   ID                                                   Usage      |\n",
            "|=============================================================================|\n",
            "|  No running processes found                                                 |\n",
            "+-----------------------------------------------------------------------------+\n"
          ]
        }
      ],
      "source": [
        "# Check which GPU we are using\n",
        "!nvidia-smi"
      ]
    },
    {
      "cell_type": "code",
      "execution_count": null,
      "metadata": {
        "colab": {
          "base_uri": "https://localhost:8080/"
        },
        "id": "L0mg9Oqku4FY",
        "outputId": "ba073e01-d1f7-4fe0-d2d8-beb884435bf3"
      },
      "outputs": [
        {
          "output_type": "stream",
          "name": "stdout",
          "text": [
            "Drive already mounted at /content/drive; to attempt to forcibly remount, call drive.mount(\"/content/drive\", force_remount=True).\n"
          ]
        }
      ],
      "source": [
        "from google.colab import drive \n",
        "drive.mount('/content/drive')"
      ]
    },
    {
      "cell_type": "code",
      "execution_count": null,
      "metadata": {
        "colab": {
          "base_uri": "https://localhost:8080/",
          "height": 1000
        },
        "id": "I_I71xFZSfs8",
        "outputId": "dd3ecfa1-817e-42be-959d-d7c36fedfd3f"
      },
      "outputs": [
        {
          "output_type": "stream",
          "name": "stdout",
          "text": [
            "Looking in indexes: https://pypi.org/simple, https://us-python.pkg.dev/colab-wheels/public/simple/\n",
            "Collecting transformers==2.9.0\n",
            "  Using cached transformers-2.9.0-py3-none-any.whl (635 kB)\n",
            "Requirement already satisfied: tqdm>=4.27 in /usr/local/lib/python3.7/dist-packages (from transformers==2.9.0) (4.64.0)\n",
            "Requirement already satisfied: sacremoses in /usr/local/lib/python3.7/dist-packages (from transformers==2.9.0) (0.0.53)\n",
            "Requirement already satisfied: numpy in /usr/local/lib/python3.7/dist-packages (from transformers==2.9.0) (1.21.6)\n",
            "Collecting tokenizers==0.7.0\n",
            "  Using cached tokenizers-0.7.0-cp37-cp37m-manylinux1_x86_64.whl (5.6 MB)\n",
            "Requirement already satisfied: sentencepiece in /usr/local/lib/python3.7/dist-packages (from transformers==2.9.0) (0.1.96)\n",
            "Requirement already satisfied: filelock in /usr/local/lib/python3.7/dist-packages (from transformers==2.9.0) (3.7.1)\n",
            "Requirement already satisfied: regex!=2019.12.17 in /usr/local/lib/python3.7/dist-packages (from transformers==2.9.0) (2022.6.2)\n",
            "Requirement already satisfied: requests in /usr/local/lib/python3.7/dist-packages (from transformers==2.9.0) (2.23.0)\n",
            "Requirement already satisfied: urllib3!=1.25.0,!=1.25.1,<1.26,>=1.21.1 in /usr/local/lib/python3.7/dist-packages (from requests->transformers==2.9.0) (1.24.3)\n",
            "Requirement already satisfied: idna<3,>=2.5 in /usr/local/lib/python3.7/dist-packages (from requests->transformers==2.9.0) (2.10)\n",
            "Requirement already satisfied: certifi>=2017.4.17 in /usr/local/lib/python3.7/dist-packages (from requests->transformers==2.9.0) (2022.6.15)\n",
            "Requirement already satisfied: chardet<4,>=3.0.2 in /usr/local/lib/python3.7/dist-packages (from requests->transformers==2.9.0) (3.0.4)\n",
            "Requirement already satisfied: six in /usr/local/lib/python3.7/dist-packages (from sacremoses->transformers==2.9.0) (1.15.0)\n",
            "Requirement already satisfied: joblib in /usr/local/lib/python3.7/dist-packages (from sacremoses->transformers==2.9.0) (1.1.0)\n",
            "Requirement already satisfied: click in /usr/local/lib/python3.7/dist-packages (from sacremoses->transformers==2.9.0) (7.1.2)\n",
            "Installing collected packages: tokenizers, transformers\n",
            "  Attempting uninstall: tokenizers\n",
            "    Found existing installation: tokenizers 0.12.1\n",
            "    Uninstalling tokenizers-0.12.1:\n",
            "      Successfully uninstalled tokenizers-0.12.1\n",
            "  Attempting uninstall: transformers\n",
            "    Found existing installation: transformers 4.20.1\n",
            "    Uninstalling transformers-4.20.1:\n",
            "      Successfully uninstalled transformers-4.20.1\n",
            "Successfully installed tokenizers-0.7.0 transformers-2.9.0\n"
          ]
        },
        {
          "output_type": "display_data",
          "data": {
            "application/vnd.colab-display-data+json": {
              "pip_warning": {
                "packages": [
                  "tokenizers",
                  "transformers"
                ]
              }
            }
          },
          "metadata": {}
        },
        {
          "output_type": "stream",
          "name": "stdout",
          "text": [
            "Looking in indexes: https://pypi.org/simple, https://us-python.pkg.dev/colab-wheels/public/simple/\n",
            "Collecting pytorch_lightning==0.7.5\n",
            "  Using cached pytorch_lightning-0.7.5-py3-none-any.whl (233 kB)\n",
            "Requirement already satisfied: future>=0.17.1 in /usr/local/lib/python3.7/dist-packages (from pytorch_lightning==0.7.5) (0.18.2)\n",
            "Requirement already satisfied: tensorboard>=1.14 in /usr/local/lib/python3.7/dist-packages (from pytorch_lightning==0.7.5) (2.8.0)\n",
            "Requirement already satisfied: tqdm>=4.41.0 in /usr/local/lib/python3.7/dist-packages (from pytorch_lightning==0.7.5) (4.64.0)\n",
            "Requirement already satisfied: numpy>=1.16.4 in /usr/local/lib/python3.7/dist-packages (from pytorch_lightning==0.7.5) (1.21.6)\n",
            "Requirement already satisfied: torch>=1.1 in /usr/local/lib/python3.7/dist-packages (from pytorch_lightning==0.7.5) (1.11.0+cu113)\n",
            "Requirement already satisfied: markdown>=2.6.8 in /usr/local/lib/python3.7/dist-packages (from tensorboard>=1.14->pytorch_lightning==0.7.5) (3.3.7)\n",
            "Requirement already satisfied: tensorboard-data-server<0.7.0,>=0.6.0 in /usr/local/lib/python3.7/dist-packages (from tensorboard>=1.14->pytorch_lightning==0.7.5) (0.6.1)\n",
            "Requirement already satisfied: protobuf>=3.6.0 in /usr/local/lib/python3.7/dist-packages (from tensorboard>=1.14->pytorch_lightning==0.7.5) (3.17.3)\n",
            "Requirement already satisfied: requests<3,>=2.21.0 in /usr/local/lib/python3.7/dist-packages (from tensorboard>=1.14->pytorch_lightning==0.7.5) (2.23.0)\n",
            "Requirement already satisfied: werkzeug>=0.11.15 in /usr/local/lib/python3.7/dist-packages (from tensorboard>=1.14->pytorch_lightning==0.7.5) (1.0.1)\n",
            "Requirement already satisfied: wheel>=0.26 in /usr/local/lib/python3.7/dist-packages (from tensorboard>=1.14->pytorch_lightning==0.7.5) (0.37.1)\n",
            "Requirement already satisfied: google-auth<3,>=1.6.3 in /usr/local/lib/python3.7/dist-packages (from tensorboard>=1.14->pytorch_lightning==0.7.5) (1.35.0)\n",
            "Requirement already satisfied: grpcio>=1.24.3 in /usr/local/lib/python3.7/dist-packages (from tensorboard>=1.14->pytorch_lightning==0.7.5) (1.46.3)\n",
            "Requirement already satisfied: setuptools>=41.0.0 in /usr/local/lib/python3.7/dist-packages (from tensorboard>=1.14->pytorch_lightning==0.7.5) (57.4.0)\n",
            "Requirement already satisfied: tensorboard-plugin-wit>=1.6.0 in /usr/local/lib/python3.7/dist-packages (from tensorboard>=1.14->pytorch_lightning==0.7.5) (1.8.1)\n",
            "Requirement already satisfied: absl-py>=0.4 in /usr/local/lib/python3.7/dist-packages (from tensorboard>=1.14->pytorch_lightning==0.7.5) (1.1.0)\n",
            "Requirement already satisfied: google-auth-oauthlib<0.5,>=0.4.1 in /usr/local/lib/python3.7/dist-packages (from tensorboard>=1.14->pytorch_lightning==0.7.5) (0.4.6)\n",
            "Requirement already satisfied: six>=1.9.0 in /usr/local/lib/python3.7/dist-packages (from google-auth<3,>=1.6.3->tensorboard>=1.14->pytorch_lightning==0.7.5) (1.15.0)\n",
            "Requirement already satisfied: cachetools<5.0,>=2.0.0 in /usr/local/lib/python3.7/dist-packages (from google-auth<3,>=1.6.3->tensorboard>=1.14->pytorch_lightning==0.7.5) (4.2.4)\n",
            "Requirement already satisfied: rsa<5,>=3.1.4 in /usr/local/lib/python3.7/dist-packages (from google-auth<3,>=1.6.3->tensorboard>=1.14->pytorch_lightning==0.7.5) (4.8)\n",
            "Requirement already satisfied: pyasn1-modules>=0.2.1 in /usr/local/lib/python3.7/dist-packages (from google-auth<3,>=1.6.3->tensorboard>=1.14->pytorch_lightning==0.7.5) (0.2.8)\n",
            "Requirement already satisfied: requests-oauthlib>=0.7.0 in /usr/local/lib/python3.7/dist-packages (from google-auth-oauthlib<0.5,>=0.4.1->tensorboard>=1.14->pytorch_lightning==0.7.5) (1.3.1)\n",
            "Requirement already satisfied: importlib-metadata>=4.4 in /usr/local/lib/python3.7/dist-packages (from markdown>=2.6.8->tensorboard>=1.14->pytorch_lightning==0.7.5) (4.11.4)\n",
            "Requirement already satisfied: zipp>=0.5 in /usr/local/lib/python3.7/dist-packages (from importlib-metadata>=4.4->markdown>=2.6.8->tensorboard>=1.14->pytorch_lightning==0.7.5) (3.8.0)\n",
            "Requirement already satisfied: typing-extensions>=3.6.4 in /usr/local/lib/python3.7/dist-packages (from importlib-metadata>=4.4->markdown>=2.6.8->tensorboard>=1.14->pytorch_lightning==0.7.5) (4.1.1)\n",
            "Requirement already satisfied: pyasn1<0.5.0,>=0.4.6 in /usr/local/lib/python3.7/dist-packages (from pyasn1-modules>=0.2.1->google-auth<3,>=1.6.3->tensorboard>=1.14->pytorch_lightning==0.7.5) (0.4.8)\n",
            "Requirement already satisfied: idna<3,>=2.5 in /usr/local/lib/python3.7/dist-packages (from requests<3,>=2.21.0->tensorboard>=1.14->pytorch_lightning==0.7.5) (2.10)\n",
            "Requirement already satisfied: urllib3!=1.25.0,!=1.25.1,<1.26,>=1.21.1 in /usr/local/lib/python3.7/dist-packages (from requests<3,>=2.21.0->tensorboard>=1.14->pytorch_lightning==0.7.5) (1.24.3)\n",
            "Requirement already satisfied: chardet<4,>=3.0.2 in /usr/local/lib/python3.7/dist-packages (from requests<3,>=2.21.0->tensorboard>=1.14->pytorch_lightning==0.7.5) (3.0.4)\n",
            "Requirement already satisfied: certifi>=2017.4.17 in /usr/local/lib/python3.7/dist-packages (from requests<3,>=2.21.0->tensorboard>=1.14->pytorch_lightning==0.7.5) (2022.6.15)\n",
            "Requirement already satisfied: oauthlib>=3.0.0 in /usr/local/lib/python3.7/dist-packages (from requests-oauthlib>=0.7.0->google-auth-oauthlib<0.5,>=0.4.1->tensorboard>=1.14->pytorch_lightning==0.7.5) (3.2.0)\n",
            "Installing collected packages: pytorch-lightning\n",
            "  Attempting uninstall: pytorch-lightning\n",
            "    Found existing installation: pytorch-lightning 1.6.4\n",
            "    Uninstalling pytorch-lightning-1.6.4:\n",
            "      Successfully uninstalled pytorch-lightning-1.6.4\n",
            "Successfully installed pytorch-lightning-0.7.5\n"
          ]
        }
      ],
      "source": [
        "!pip install transformers==2.9.0 \n",
        "!pip install pytorch_lightning==0.7.5"
      ]
    },
    {
      "cell_type": "code",
      "execution_count": null,
      "metadata": {
        "id": "c2nbwOaopoqi"
      },
      "outputs": [],
      "source": [
        "!pip3 install -q --upgrade efficientnet_pytorch  \\\n",
        "                           transformers \\\n",
        "                           pytorch_lightning \\\n",
        "                           sacrebleu \\\n",
        "                           h5py"
      ]
    },
    {
      "cell_type": "code",
      "execution_count": null,
      "metadata": {
        "colab": {
          "base_uri": "https://localhost:8080/"
        },
        "id": "jncW6-kqSpQj",
        "outputId": "bb7629b2-cb7e-4ec8-bf8f-ca8ba79536ac"
      },
      "outputs": [
        {
          "output_type": "execute_result",
          "data": {
            "text/plain": [
              "(8, 'Tesla P100-PCIE-16GB')"
            ]
          },
          "metadata": {},
          "execution_count": 71
        }
      ],
      "source": [
        "import os\n",
        "import torch\n",
        "\n",
        "from transformers import T5ForConditionalGeneration, T5Tokenizer\n",
        "from efficientnet_pytorch import EfficientNet\n",
        "from matplotlib import pyplot as plt\n",
        "\n",
        "from google.colab import drive\n",
        "\n",
        "\n",
        "device = 'cuda' if torch.cuda.is_available() else 'cpu'\n",
        "\n",
        "os.cpu_count(), torch.cuda.get_device_name() if device == \"cuda\" else None"
      ]
    },
    {
      "cell_type": "markdown",
      "metadata": {
        "id": "MEHyryqivS6i"
      },
      "source": [
        "## Download the required data : Annotations,Captions,Images"
      ]
    },
    {
      "cell_type": "code",
      "execution_count": null,
      "metadata": {
        "id": "c2xxrViOVIUg"
      },
      "outputs": [],
      "source": [
        "import random\n",
        "import json\n",
        "import h5py\n",
        "\n",
        "import torch\n",
        "import numpy as np\n",
        "from torch.utils.data import Dataset, DataLoader\n",
        "from torchvision import transforms\n"
      ]
    },
    {
      "cell_type": "code",
      "execution_count": null,
      "metadata": {
        "id": "jvml55V7vIBl"
      },
      "outputs": [],
      "source": [
        "import os \n",
        "import sys\n",
        "from pycocotools.coco import COCO\n",
        "import urllib\n",
        "import zipfile "
      ]
    },
    {
      "cell_type": "code",
      "execution_count": null,
      "metadata": {
        "id": "3mDlEOwHYzsW"
      },
      "outputs": [],
      "source": [
        "save_path = '/content/drive/My Drive/IA025/image_captioning/COCO/opt/'"
      ]
    },
    {
      "cell_type": "code",
      "execution_count": null,
      "metadata": {
        "colab": {
          "base_uri": "https://localhost:8080/"
        },
        "id": "jY2yAgDovgLd",
        "outputId": "5349162b-509c-41d5-93c5-d20b3893066f"
      },
      "outputs": [
        {
          "output_type": "stream",
          "name": "stdout",
          "text": [
            "fatal: destination path 'cocoapi' already exists and is not an empty directory.\n"
          ]
        }
      ],
      "source": [
        "os.makedirs(save_path , exist_ok=True)\n",
        "os.chdir( save_path )\n",
        "\n",
        "!git clone 'https://github.com/cocodataset/cocoapi.git'"
      ]
    },
    {
      "cell_type": "markdown",
      "metadata": {
        "id": "I3_btMoRw2Vy"
      },
      "source": [
        "Download the Annotations and Captions :"
      ]
    },
    {
      "cell_type": "code",
      "execution_count": null,
      "metadata": {
        "colab": {
          "base_uri": "https://localhost:8080/",
          "height": 53
        },
        "id": "VA6JaTnzvrhG",
        "outputId": "1a8a1c05-6956-4dcf-d104-8308ead88524"
      },
      "outputs": [
        {
          "output_type": "execute_result",
          "data": {
            "text/plain": [
              "\"\\nannotations_trainval2014 = 'http://images.cocodataset.org/annotations/annotations_trainval2014.zip'\\nimage_info_test2014 = 'http://images.cocodataset.org/annotations/image_info_test2014.zip'\\n\\nurllib.request.urlretrieve(annotations_trainval2014 , filename = 'annotations_trainval2014.zip' )\\nurllib.request.urlretrieve(image_info_test2014 , filename= 'image_info_test2014.zip' )\\n\\n\""
            ],
            "application/vnd.google.colaboratory.intrinsic+json": {
              "type": "string"
            }
          },
          "metadata": {},
          "execution_count": 80
        }
      ],
      "source": [
        "#os.chdir('/content/opt/cocoapi')\n",
        "os.chdir(save_path+'cocoapi')\n",
        "\n",
        "# Download the annotation : \n",
        "\"\"\"\"\"\"\n",
        "annotations_trainval2014 = 'http://images.cocodataset.org/annotations/annotations_trainval2014.zip'\n",
        "image_info_test2014 = 'http://images.cocodataset.org/annotations/image_info_test2014.zip'\n",
        "\n",
        "urllib.request.urlretrieve(annotations_trainval2014 , filename = 'annotations_trainval2014.zip' )\n",
        "urllib.request.urlretrieve(image_info_test2014 , filename= 'image_info_test2014.zip' )\n",
        "\n"
      ]
    },
    {
      "cell_type": "markdown",
      "metadata": {
        "id": "JLfQ0PV-yfJ9"
      },
      "source": [
        "Extract Annotations from ZIP file"
      ]
    },
    {
      "cell_type": "code",
      "execution_count": null,
      "metadata": {
        "colab": {
          "base_uri": "https://localhost:8080/",
          "height": 70
        },
        "id": "F8FJOO2mx2ft",
        "outputId": "bfbb4dcd-38d0-4d49-f538-c78236fcafac"
      },
      "outputs": [
        {
          "output_type": "execute_result",
          "data": {
            "text/plain": [
              "\"\\n\\nwith zipfile.ZipFile('annotations_trainval2014.zip' , 'r') as zip_ref:\\n  #zip_ref.extractall( '/content/opt/cocoapi'  )  \\n  zip_ref.extractall( save_path+'cocoapi' )  \\n\\ntry:\\n  os.remove( 'annotations_trainval2014.zip' )\\n  print('zip removed')\\nexcept:\\n  None\\n\\nwith zipfile.ZipFile('image_info_test2014.zip' , 'r') as zip_ref:\\n  zip_ref.extractall( save_path+'cocoapi' )  \\n\\ntry:\\n  os.remove( 'image_info_test2014.zip' )\\n  print('zip removed')\\nexcept:\\n  None\\n\""
            ],
            "application/vnd.google.colaboratory.intrinsic+json": {
              "type": "string"
            }
          },
          "metadata": {},
          "execution_count": 81
        }
      ],
      "source": [
        "\"\"\"\"\"\"  \n",
        "\n",
        "with zipfile.ZipFile('annotations_trainval2014.zip' , 'r') as zip_ref:\n",
        "  #zip_ref.extractall( '/content/opt/cocoapi'  )  \n",
        "  zip_ref.extractall( save_path+'cocoapi' )  \n",
        "\n",
        "try:\n",
        "  os.remove( 'annotations_trainval2014.zip' )\n",
        "  print('zip removed')\n",
        "except:\n",
        "  None\n",
        "\n",
        "with zipfile.ZipFile('image_info_test2014.zip' , 'r') as zip_ref:\n",
        "  zip_ref.extractall( save_path+'cocoapi' )  \n",
        "\n",
        "try:\n",
        "  os.remove( 'image_info_test2014.zip' )\n",
        "  print('zip removed')\n",
        "except:\n",
        "  None\n"
      ]
    },
    {
      "cell_type": "markdown",
      "metadata": {
        "id": "kyKmXQkuz_zR"
      },
      "source": [
        "Initialize and verify the loaded data"
      ]
    },
    {
      "cell_type": "code",
      "execution_count": null,
      "metadata": {
        "colab": {
          "base_uri": "https://localhost:8080/"
        },
        "id": "Lp6iuhP-yyI7",
        "outputId": "2a33bcaf-2f8c-473c-9481-455d4d96d09e"
      },
      "outputs": [
        {
          "output_type": "stream",
          "name": "stdout",
          "text": [
            "instances_val2014.json\n",
            "loading annotations into memory...\n",
            "Done (t=5.83s)\n",
            "creating index...\n",
            "index created!\n",
            "loading annotations into memory...\n",
            "Done (t=1.37s)\n",
            "creating index...\n",
            "index created!\n"
          ]
        }
      ],
      "source": [
        "#os.chdir('/content/opt/cocoapi/annotations')\n",
        "os.chdir(save_path+'cocoapi/annotations')\n",
        "\n",
        "# initialize COCO API for instance annotations\n",
        "dataType = 'val2014'\n",
        "instances_annFile = 'instances_{}.json'.format(dataType)\n",
        "print(instances_annFile)\n",
        "coco = COCO(instances_annFile)\n",
        "\n",
        "# initialize COCO API for caption annotations\n",
        "captions_annFile = 'captions_{}.json'.format(dataType)\n",
        "coco_caps = COCO(captions_annFile)\n",
        "\n",
        "# get image ids \n",
        "ids = list(coco.anns.keys())"
      ]
    },
    {
      "cell_type": "markdown",
      "metadata": {
        "id": "UOPxvivc0mZQ"
      },
      "source": [
        "plot a sample Image"
      ]
    },
    {
      "cell_type": "code",
      "execution_count": null,
      "metadata": {
        "id": "bS6_GylyzosH"
      },
      "outputs": [],
      "source": [
        "import matplotlib.pyplot as plt \n",
        "import skimage.io as io \n",
        "import numpy as np \n",
        "%matplotlib inline "
      ]
    },
    {
      "cell_type": "code",
      "execution_count": null,
      "metadata": {
        "colab": {
          "base_uri": "https://localhost:8080/",
          "height": 408
        },
        "id": "PXbkWYbX00sR",
        "outputId": "fa2e769d-a9a2-4048-cd34-810042cecf2b"
      },
      "outputs": [
        {
          "output_type": "stream",
          "name": "stdout",
          "text": [
            "http://images.cocodataset.org/val2014/COCO_val2014_000000377371.jpg\n",
            "Number of annotations i.e captions for the image:  [31719, 33390, 33987, 34077, 34941]\n",
            "\n",
            "Walnuts are being cut on a wooden cutting board.\n",
            "Chopped walnuts on a cutting board next to a knife.\n",
            "Chopped nuts on a cutting board next to a knife on the table. \n",
            "Some chopped up food sits on a cutting board.\n",
            "Nuts sitting on top of a cutting board next to a knife.\n"
          ]
        },
        {
          "output_type": "display_data",
          "data": {
            "text/plain": [
              "<Figure size 432x288 with 1 Axes>"
            ],
            "image/png": "[encoded data removed]"
          },
          "metadata": {
            "needs_background": "light"
          }
        }
      ],
      "source": [
        "#Pick a random annotation id and display img of that annotation  :\n",
        "ann_id = np.random.choice( ids )\n",
        "img_id = coco.anns[ann_id]['image_id']\n",
        "img = coco.loadImgs( img_id )[0]\n",
        "url = img['coco_url']\n",
        "print(url)\n",
        "I = io.imread(url)\n",
        "plt.imshow(I)\n",
        "\n",
        "# Display captions for that annotation id :\n",
        "ann_ids = coco_caps.getAnnIds( img_id   )\n",
        "print('Number of annotations i.e captions for the image: ' , ann_ids)\n",
        "print()\n",
        "anns = coco_caps.loadAnns( ann_ids )\n",
        "coco_caps.showAnns(anns)"
      ]
    },
    {
      "cell_type": "markdown",
      "metadata": {
        "id": "d1ZkrGRi3X-l"
      },
      "source": [
        "Download Train , Test , Val Images :"
      ]
    },
    {
      "cell_type": "code",
      "execution_count": null,
      "metadata": {
        "colab": {
          "base_uri": "https://localhost:8080/",
          "height": 35
        },
        "id": "vHLjwwIUbPqv",
        "outputId": "2540a362-2f25-472c-e5c9-00882860d397"
      },
      "outputs": [
        {
          "output_type": "execute_result",
          "data": {
            "text/plain": [
              "'/content/drive/My Drive/IA025/image_captioning/COCO/opt/cocoapi'"
            ],
            "application/vnd.google.colaboratory.intrinsic+json": {
              "type": "string"
            }
          },
          "metadata": {},
          "execution_count": 85
        }
      ],
      "source": [
        "save_path+'cocoapi'\n",
        "\n"
      ]
    },
    {
      "cell_type": "code",
      "execution_count": null,
      "metadata": {
        "colab": {
          "base_uri": "https://localhost:8080/",
          "height": 53
        },
        "id": "iZhRb--F1Ric",
        "outputId": "41e50ee5-6553-450e-f9b1-a8998d119158"
      },
      "outputs": [
        {
          "output_type": "execute_result",
          "data": {
            "text/plain": [
              "\"\\ntrain2014 = 'http://images.cocodataset.org/zips/train2014.zip'\\ntest2014 = 'http://images.cocodataset.org/zips/test2014.zip'\\nval2014 = 'http://images.cocodataset.org/zips/val2014.zip'\\n\\n#urllib.request.urlretrieve( train2014 , 'train2014' )\\n\\n#urllib.request.urlretrieve( test2014 , 'test2014' )\\n#urllib.request.urlretrieve( val2014 , 'val2014' )\\n\""
            ],
            "application/vnd.google.colaboratory.intrinsic+json": {
              "type": "string"
            }
          },
          "metadata": {},
          "execution_count": 86
        }
      ],
      "source": [
        "#os.chdir('/content/opt/cocoapi')\n",
        "os.chdir(save_path+'cocoapi')\n",
        "\n",
        "\"\"\"\"\"\"\n",
        "train2014 = 'http://images.cocodataset.org/zips/train2014.zip'\n",
        "test2014 = 'http://images.cocodataset.org/zips/test2014.zip'\n",
        "val2014 = 'http://images.cocodataset.org/zips/val2014.zip'\n",
        "\n",
        "urllib.request.urlretrieve( train2014 , 'train2014' )\n",
        "\n",
        "urllib.request.urlretrieve( test2014 , 'test2014' )\n",
        "urllib.request.urlretrieve( val2014 , 'val2014' )\n"
      ]
    },
    {
      "cell_type": "code",
      "execution_count": null,
      "metadata": {
        "id": "KlnUWRW72yq3"
      },
      "outputs": [],
      "source": [
        "os.chdir(save_path+'cocoapi')"
      ]
    },
    {
      "cell_type": "code",
      "execution_count": null,
      "metadata": {
        "colab": {
          "base_uri": "https://localhost:8080/",
          "height": 53
        },
        "id": "_uimcKgc5kS_",
        "outputId": "580314f2-418a-4dfd-ad23-190e87737152"
      },
      "outputs": [
        {
          "output_type": "execute_result",
          "data": {
            "text/plain": [
              "\"\\n#os.chdir('/content/opt/cocoapi')\\nos.chdir(save_path+'cocoapi')\\nwith zipfile.ZipFile( 'train2014' , 'r' ) as zip_ref:\\n  zip_ref.extractall( 'images' )\\ntry:\\n  os.remove( 'train2014' )\\n  print('zip removed')\\nexcept:\\n  None\\n\""
            ],
            "application/vnd.google.colaboratory.intrinsic+json": {
              "type": "string"
            }
          },
          "metadata": {},
          "execution_count": 88
        }
      ],
      "source": [
        "#os.chdir('/content/opt/cocoapi')\n",
        "\"\"\"\"\"\"\n",
        "#os.chdir('/content/opt/cocoapi')\n",
        "os.chdir(save_path+'cocoapi')\n",
        "with zipfile.ZipFile( 'train2014' , 'r' ) as zip_ref:\n",
        "  zip_ref.extractall( 'images' )\n",
        "try:\n",
        "  os.remove( 'train2014' )\n",
        "  print('zip removed')\n",
        "except:\n",
        "  None\n"
      ]
    },
    {
      "cell_type": "markdown",
      "metadata": {
        "id": "A-lJ6fizZx23"
      },
      "source": [
        "unzip the download image zip files "
      ]
    },
    {
      "cell_type": "code",
      "execution_count": null,
      "metadata": {
        "colab": {
          "base_uri": "https://localhost:8080/",
          "height": 35
        },
        "id": "oGIRXMu-gzv8",
        "outputId": "574e44d5-24b6-4fca-cb5e-fad748f4486c"
      },
      "outputs": [
        {
          "output_type": "execute_result",
          "data": {
            "text/plain": [
              "'/content/drive/My Drive/IA025/image_captioning/COCO/opt/'"
            ],
            "application/vnd.google.colaboratory.intrinsic+json": {
              "type": "string"
            }
          },
          "metadata": {},
          "execution_count": 89
        }
      ],
      "source": [
        "save_path"
      ]
    },
    {
      "cell_type": "code",
      "execution_count": null,
      "metadata": {
        "colab": {
          "base_uri": "https://localhost:8080/",
          "height": 53
        },
        "id": "1QpNu1U8ZwvZ",
        "outputId": "ce837c7c-a960-41f2-dc87-4f509120e8fc"
      },
      "outputs": [
        {
          "output_type": "execute_result",
          "data": {
            "text/plain": [
              "\"\\n\\nos.chdir(save_path+'cocoapi')\\n\\nwith zipfile.ZipFile( 'val2014' , 'r' ) as zip_ref:\\n  zip_ref.extractall( 'images' )\\n\\ntry:\\n  os.remove( 'val2014' )\\n  print('zip removed')\\nexcept:\\n  None\\n\\n\\n\\n#os.chdir('/content/opt/cocoapi')\\nos.chdir(save_path+'cocoapi')\\n\\nwith zipfile.ZipFile( 'test2014' , 'r' ) as zip_ref:\\n  zip_ref.extractall( 'images' )\\n\\ntry:\\n  os.remove( 'test2014' )\\n  print('zip removed')\\nexcept:\\n  None\\n  \\n  \\n\""
            ],
            "application/vnd.google.colaboratory.intrinsic+json": {
              "type": "string"
            }
          },
          "metadata": {},
          "execution_count": 90
        }
      ],
      "source": [
        "\n",
        "\"\"\"\n",
        "\"\"\"\n",
        "\n",
        "os.chdir(save_path+'cocoapi')\n",
        "\n",
        "with zipfile.ZipFile( 'val2014' , 'r' ) as zip_ref:\n",
        "  zip_ref.extractall( 'images' )\n",
        "\n",
        "try:\n",
        "  os.remove( 'val2014' )\n",
        "  print('zip removed')\n",
        "except:\n",
        "  None\n",
        "\n",
        "\n",
        "\n",
        "#os.chdir('/content/opt/cocoapi')\n",
        "os.chdir(save_path+'cocoapi')\n",
        "\n",
        "with zipfile.ZipFile( 'test2014' , 'r' ) as zip_ref:\n",
        "  zip_ref.extractall( 'images' )\n",
        "\n",
        "try:\n",
        "  os.remove( 'test2014' )\n",
        "  print('zip removed')\n",
        "except:\n",
        "  None\n",
        "  \n",
        "  \n"
      ]
    },
    {
      "cell_type": "markdown",
      "metadata": {
        "id": "E9fqDQO35KPG"
      },
      "source": [
        "## Step1 Explore the DataLoader"
      ]
    },
    {
      "cell_type": "markdown",
      "metadata": {
        "id": "qshOumBc2ZHY"
      },
      "source": [
        "### Vocabulary.py"
      ]
    },
    {
      "cell_type": "code",
      "execution_count": null,
      "metadata": {
        "id": "i7eAPTW12RNE"
      },
      "outputs": [],
      "source": [
        "# vocabulary.py -------------------------------------------------------------\n",
        "import nltk\n",
        "import pickle\n",
        "import os.path\n",
        "from pycocotools.coco import COCO\n",
        "from collections import Counter\n",
        "\n",
        "class Vocabulary(object):\n",
        "\n",
        "    def __init__(self,\n",
        "        vocab_threshold,\n",
        "        vocab_file='./vocab.pkl',\n",
        "        start_word=\"<start>\",\n",
        "        end_word=\"<end>\",\n",
        "        unk_word=\"<unk>\",\n",
        "        annotations_file='../cocoapi/annotations/captions_train2014.json',\n",
        "        vocab_from_file=False):\n",
        "        \"\"\"Initialize the vocabulary.\n",
        "        Args:\n",
        "          vocab_threshold: Minimum word count threshold.\n",
        "          vocab_file: File containing the vocabulary.\n",
        "          start_word: Special word denoting sentence start.\n",
        "          end_word: Special word denoting sentence end.\n",
        "          unk_word: Special word denoting unknown words.\n",
        "          annotations_file: Path for train annotation file.\n",
        "          vocab_from_file: If False, create vocab from scratch & override any existing vocab_file\n",
        "                           If True, load vocab from from existing vocab_file, if it exists\n",
        "        \"\"\"\n",
        "        self.vocab_threshold = vocab_threshold\n",
        "        self.vocab_file = vocab_file\n",
        "        self.start_word = start_word\n",
        "        self.end_word = end_word\n",
        "        self.unk_word = unk_word\n",
        "        self.annotations_file = annotations_file\n",
        "        self.vocab_from_file = vocab_from_file\n",
        "        self.get_vocab()\n",
        "\n",
        "    def get_vocab(self):\n",
        "        \"\"\"Load the vocabulary from file OR build the vocabulary from scratch.\"\"\"\n",
        "        if os.path.exists(self.vocab_file) & self.vocab_from_file:\n",
        "            with open(self.vocab_file, 'rb') as f:\n",
        "                vocab = pickle.load(f)\n",
        "                self.word2idx = vocab.word2idx\n",
        "                self.idx2word = vocab.idx2word\n",
        "            print('Vocabulary successfully loaded from vocab.pkl file!')\n",
        "        else:\n",
        "            self.build_vocab()\n",
        "            with open(self.vocab_file, 'wb') as f:\n",
        "                pickle.dump(self, f)\n",
        "        \n",
        "    def build_vocab(self):\n",
        "        \"\"\"Populate the dictionaries for converting tokens to integers (and vice-versa).\"\"\"\n",
        "        self.init_vocab()\n",
        "        self.add_word(self.start_word)\n",
        "        self.add_word(self.end_word)\n",
        "        self.add_word(self.unk_word)\n",
        "        self.add_captions()\n",
        "\n",
        "    def init_vocab(self):\n",
        "        \"\"\"Initialize the dictionaries for converting tokens to integers (and vice-versa).\"\"\"\n",
        "        self.word2idx = {}\n",
        "        self.idx2word = {}\n",
        "        self.idx = 0\n",
        "\n",
        "    def add_word(self, word):\n",
        "        \"\"\"Add a token to the vocabulary.\"\"\"\n",
        "        if not word in self.word2idx:\n",
        "            self.word2idx[word] = self.idx\n",
        "            self.idx2word[self.idx] = word\n",
        "            self.idx += 1\n",
        "\n",
        "    def add_captions(self):\n",
        "        \"\"\"Loop over training captions and add all tokens to the vocabulary that meet or exceed the threshold.\"\"\"\n",
        "        coco = COCO(self.annotations_file)\n",
        "        counter = Counter()\n",
        "        ids = coco.anns.keys()\n",
        "        for i, id in enumerate(ids):\n",
        "            caption = str(coco.anns[id]['caption'])\n",
        "            tokens = nltk.tokenize.word_tokenize(caption.lower())\n",
        "            counter.update(tokens)\n",
        "\n",
        "            if i % 100000 == 0:\n",
        "                print(\"[%d/%d] Tokenizing captions...\" % (i, len(ids)))\n",
        "\n",
        "        words = [word for word, cnt in counter.items() if cnt >= self.vocab_threshold]\n",
        "\n",
        "        for i, word in enumerate(words):\n",
        "            self.add_word(word)\n",
        "\n",
        "    def __call__(self, word):\n",
        "        if not word in self.word2idx:\n",
        "            return self.word2idx[self.unk_word]\n",
        "        return self.word2idx[word]\n",
        "\n",
        "    def __len__(self):\n",
        "        return len(self.word2idx)"
      ]
    },
    {
      "cell_type": "markdown",
      "metadata": {
        "id": "zFib3Yuq2D4i"
      },
      "source": [
        "### data_loader.py"
      ]
    },
    {
      "cell_type": "code",
      "execution_count": null,
      "metadata": {
        "id": "UiKijrXf72rw"
      },
      "outputs": [],
      "source": [
        "# Data Loader ---------------------------------------------------------------------------------------------\n",
        "\n",
        "import nltk\n",
        "import os\n",
        "import torch\n",
        "import torch.utils.data as data\n",
        "from PIL import Image\n",
        "from pycocotools.coco import COCO\n",
        "import numpy as np\n",
        "from tqdm import tqdm\n",
        "import random\n",
        "import json\n",
        "\n",
        "def get_loader(transform,\n",
        "               mode='val',\n",
        "               batch_size=1,\n",
        "               vocab_threshold=None,\n",
        "               vocab_file='./vocab.pkl',\n",
        "               start_word=\"<start>\",\n",
        "               end_word=\"<end>\",\n",
        "               unk_word=\"<unk>\",\n",
        "               vocab_from_file=True,\n",
        "               num_workers=0,\n",
        "               cocoapi_loc='/opt'):\n",
        "    \"\"\"Returns the data loader.\n",
        "    Args:\n",
        "      transform: Image transform.\n",
        "      mode: One of 'train' or 'test'.\n",
        "      batch_size: Batch size (if in testing mode, must have batch_size=1).\n",
        "      vocab_threshold: Minimum word count threshold.\n",
        "      vocab_file: File containing the vocabulary. \n",
        "      start_word: Special word denoting sentence start.\n",
        "      end_word: Special word denoting sentence end.\n",
        "      unk_word: Special word denoting unknown words.\n",
        "      vocab_from_file: If False, create vocab from scratch & override any existing vocab_file.\n",
        "                       If True, load vocab from from existing vocab_file, if it exists.\n",
        "      num_workers: Number of subprocesses to use for data loading \n",
        "      cocoapi_loc: The location of the folder containing the COCO API: https://github.com/cocodataset/cocoapi\n",
        "    \"\"\"\n",
        "    \n",
        "    assert mode in ['val', 'test'], \"mode must be one of 'train' or 'test'.\"\n",
        "    if vocab_from_file==False: assert mode=='val', \"To generate vocab from captions file, must be in training mode (mode='train').\"\n",
        "\n",
        "    # Based on mode (train, val, test), obtain img_folder and annotations_file.\n",
        "    if mode == 'train':\n",
        "        if vocab_from_file==True: assert os.path.exists(vocab_file), \"vocab_file does not exist.  Change vocab_from_file to False to create vocab_file.\"\n",
        "        img_folder = os.path.join(cocoapi_loc, 'cocoapi/images/train2014/')\n",
        "        annotations_file = os.path.join(cocoapi_loc, 'cocoapi/annotations/captions_train2014.json')\n",
        "\n",
        "    if mode == 'val':\n",
        "        if vocab_from_file==True: assert os.path.exists(vocab_file), \"vocab_file does not exist.  Change vocab_from_file to False to create vocab_file.\"\n",
        "        img_folder = os.path.join(cocoapi_loc, 'cocoapi/images/val2014/')\n",
        "        annotations_file = os.path.join(cocoapi_loc, 'cocoapi/annotations/captions_val2014.json')\n",
        "\n",
        "    if mode == 'test':\n",
        "        assert batch_size==1, \"Please change batch_size to 1 if testing your model.\"\n",
        "        assert os.path.exists(vocab_file), \"Must first generate vocab.pkl from training data.\"\n",
        "        assert vocab_from_file==True, \"Change vocab_from_file to True.\"\n",
        "        img_folder = os.path.join(cocoapi_loc, 'cocoapi/images/test2014/')\n",
        "        annotations_file = os.path.join(cocoapi_loc, 'cocoapi/annotations/image_info_test2014.json')\n",
        "\n",
        "    # COCO caption dataset.\n",
        "    dataset = CoCoDataset(transform=transform,\n",
        "                          mode=mode,\n",
        "                          batch_size=batch_size,\n",
        "                          vocab_threshold=vocab_threshold,\n",
        "                          vocab_file=vocab_file,\n",
        "                          start_word=start_word,\n",
        "                          end_word=end_word,\n",
        "                          unk_word=unk_word,\n",
        "                          annotations_file=annotations_file,\n",
        "                          vocab_from_file=vocab_from_file,\n",
        "                          img_folder=img_folder)\n",
        "\n",
        "    if mode == 'val':\n",
        "        # Randomly sample a caption length, and sample indices with that length.\n",
        "        indices = dataset.get_train_indices()\n",
        "        # Create and assign a batch sampler to retrieve a batch with the sampled indices.\n",
        "        initial_sampler = data.sampler.SubsetRandomSampler(indices=indices)\n",
        "        # data loader for COCO dataset.\n",
        "        data_loader = data.DataLoader(dataset=dataset, \n",
        "                                      num_workers=num_workers,\n",
        "                                      batch_sampler=data.sampler.BatchSampler(sampler=initial_sampler,\n",
        "                                                                              batch_size=dataset.batch_size,\n",
        "                                                                              drop_last=False))\n",
        "    else:\n",
        "        data_loader = data.DataLoader(dataset=dataset,\n",
        "                                      batch_size=dataset.batch_size,\n",
        "                                      shuffle=True,\n",
        "                                      num_workers=num_workers)\n",
        "\n",
        "    return data_loader\n",
        "\n",
        "class CoCoDataset(data.Dataset):\n",
        "    \n",
        "    def __init__(self, transform, mode, batch_size, vocab_threshold, vocab_file, start_word, \n",
        "        end_word, unk_word, annotations_file, vocab_from_file, img_folder):\n",
        "        self.transform = transform\n",
        "        self.mode = mode\n",
        "        self.batch_size = batch_size\n",
        "        self.vocab = Vocabulary(vocab_threshold, vocab_file, start_word,\n",
        "            end_word, unk_word, annotations_file, vocab_from_file)\n",
        "        self.img_folder = img_folder\n",
        "        if self.mode == 'val':            \n",
        "            self.coco = COCO(annotations_file)\n",
        "            self.ids = list(self.coco.anns.keys())\n",
        "            print('Obtaining caption lengths...')\n",
        "            all_tokens = [nltk.tokenize.word_tokenize(str(self.coco.anns[self.ids[index]]['caption']).lower()) for index in tqdm(np.arange(len(self.ids)))]\n",
        "            self.caption_lengths = [len(token) for token in all_tokens]\n",
        "        else:\n",
        "            test_info = json.loads(open(annotations_file).read())\n",
        "            self.paths = [item['file_name'] for item in test_info['images']]\n",
        "        \n",
        "    def __getitem__(self, index):\n",
        "        # obtain image and caption if in training mode\n",
        "        if self.mode == 'val':\n",
        "            ann_id = self.ids[index]\n",
        "            caption = self.coco.anns[ann_id]['caption']\n",
        "            img_id = self.coco.anns[ann_id]['image_id']\n",
        "            path = self.coco.loadImgs(img_id)[0]['file_name']\n",
        "\n",
        "            # Convert image to tensor and pre-process using transform\n",
        "            image = Image.open(os.path.join(self.img_folder, path)).convert('RGB')\n",
        "            image = self.transform(image)\n",
        "\n",
        "            # Convert caption to tensor of word ids.\n",
        "            tokens = nltk.tokenize.word_tokenize(str(caption).lower())\n",
        "            caption = []\n",
        "            caption.append(self.vocab(self.vocab.start_word))\n",
        "            caption.extend([self.vocab(token) for token in tokens])\n",
        "            caption.append(self.vocab(self.vocab.end_word))\n",
        "            caption = torch.Tensor(caption).long()\n",
        "\n",
        "            # return pre-processed image and caption tensors\n",
        "            return image, caption\n",
        "\n",
        "        # obtain image if in test mode\n",
        "        else:\n",
        "            path = self.paths[index]\n",
        "\n",
        "            # Convert image to tensor and pre-process using transform\n",
        "            PIL_image = Image.open(os.path.join(self.img_folder, path)).convert('RGB')\n",
        "            orig_image = np.array(PIL_image)\n",
        "            image = self.transform(PIL_image)\n",
        "\n",
        "            # return original image and pre-processed image tensor\n",
        "            return orig_image, image\n",
        "\n",
        "    def get_train_indices(self):\n",
        "        sel_length = np.random.choice(self.caption_lengths)\n",
        "        all_indices = np.where([self.caption_lengths[i] == sel_length for i in np.arange(len(self.caption_lengths))])[0]\n",
        "        indices = list(np.random.choice(all_indices, size=self.batch_size))\n",
        "        return indices\n",
        "\n",
        "    def __len__(self):\n",
        "        if self.mode == 'val':\n",
        "            return len(self.ids)\n",
        "        else:\n",
        "            return len(self.paths)"
      ]
    },
    {
      "cell_type": "markdown",
      "metadata": {
        "id": "Z6yai64F2y6T"
      },
      "source": [
        "### Dataloader creation"
      ]
    },
    {
      "cell_type": "code",
      "execution_count": null,
      "metadata": {
        "colab": {
          "base_uri": "https://localhost:8080/"
        },
        "id": "A8bGuKAz16XV",
        "outputId": "401e8391-cb6d-45df-be0e-7bc29a32abcb"
      },
      "outputs": [
        {
          "output_type": "stream",
          "name": "stdout",
          "text": [
            "Looking in indexes: https://pypi.org/simple, https://us-python.pkg.dev/colab-wheels/public/simple/\n",
            "Requirement already satisfied: nltk in /usr/local/lib/python3.7/dist-packages (3.7)\n",
            "Requirement already satisfied: joblib in /usr/local/lib/python3.7/dist-packages (from nltk) (1.1.0)\n",
            "Requirement already satisfied: tqdm in /usr/local/lib/python3.7/dist-packages (from nltk) (4.64.0)\n",
            "Requirement already satisfied: regex>=2021.8.3 in /usr/local/lib/python3.7/dist-packages (from nltk) (2022.6.2)\n",
            "Requirement already satisfied: click in /usr/local/lib/python3.7/dist-packages (from nltk) (7.1.2)\n"
          ]
        },
        {
          "output_type": "stream",
          "name": "stderr",
          "text": [
            "[nltk_data] Downloading package punkt to /root/nltk_data...\n",
            "[nltk_data]   Package punkt is already up-to-date!\n"
          ]
        },
        {
          "output_type": "stream",
          "name": "stdout",
          "text": [
            "loading annotations into memory...\n",
            "Done (t=0.43s)\n",
            "creating index...\n",
            "index created!\n",
            "[0/202654] Tokenizing captions...\n",
            "[100000/202654] Tokenizing captions...\n",
            "[200000/202654] Tokenizing captions...\n",
            "loading annotations into memory...\n",
            "Done (t=0.36s)\n",
            "creating index...\n",
            "index created!\n",
            "Obtaining caption lengths...\n"
          ]
        },
        {
          "output_type": "stream",
          "name": "stderr",
          "text": [
            "100%|██████████| 202654/202654 [00:24<00:00, 8162.49it/s]\n"
          ]
        }
      ],
      "source": [
        "import sys\n",
        "from pycocotools.coco import COCO\n",
        "!pip install nltk\n",
        "import nltk\n",
        "nltk.download('punkt')\n",
        "from torchvision import transforms\n",
        "\n",
        "\n",
        "# Define a transform to pre-process the training images.\n",
        "transform_train = transforms.Compose([ \n",
        "    transforms.Resize(256),                          # smaller edge of image resized to 256\n",
        "    transforms.RandomCrop(224),                      # get 224x224 crop from random location\n",
        "    transforms.RandomHorizontalFlip(),               # horizontally flip image with probability=0.5\n",
        "    transforms.ToTensor(),                           # convert the PIL Image to a tensor\n",
        "    transforms.Normalize((0.485, 0.456, 0.406),      # normalize image for pre-trained model\n",
        "                         (0.229, 0.224, 0.225))])\n",
        "\n",
        "# Set the minimum word count threshold.\n",
        "vocab_threshold = 8\n",
        "\n",
        "# Specify the batch size.\n",
        "batch_size = 200\n",
        "\n",
        "#train\n",
        "# Obtain the data loader.\n",
        "data_loader_train = get_loader(transform=transform_train,\n",
        "                         mode='val',\n",
        "                         batch_size=batch_size,\n",
        "                         vocab_threshold=vocab_threshold,\n",
        "                         vocab_from_file=False,\n",
        "                         cocoapi_loc = save_path)#'/content/opt'"
      ]
    },
    {
      "cell_type": "code",
      "execution_count": null,
      "metadata": {
        "id": "kn-1LmQKRI5G"
      },
      "outputs": [],
      "source": [
        "import torch \n",
        "import numpy as np \n",
        "import torch.utils.data as data"
      ]
    },
    {
      "cell_type": "code",
      "execution_count": null,
      "metadata": {
        "colab": {
          "base_uri": "https://localhost:8080/"
        },
        "id": "j1dH_gRXKxGE",
        "outputId": "39683f42-2e42-4fe0-b73b-e3e33c5db734"
      },
      "outputs": [
        {
          "output_type": "stream",
          "name": "stdout",
          "text": [
            "Find Below the Sample tokens and the idx values of those tokens in word2idx \n",
            "\n",
            "['<start>', 'a', 'person', 'doing', 'a', 'trick', 'xxxx', 'on', 'a', 'rail', 'while', 'riding', 'a', 'skateboard', '.', '<end>']\n",
            "tensor([  0,   3, 173, 548,   3, 776,   2,  53,   3, 723, 301, 126,   3, 175,\n",
            "         12,   1])\n",
            "Find index values for words below \n",
            "\n",
            "Start idx 0 , End idx 1 , unknown idx 2\n"
          ]
        }
      ],
      "source": [
        "# Exploring the dataloader now :\n",
        "\n",
        "\n",
        "sample_caption = 'A person doing a trick xxxx on a rail while riding a skateboard.'\n",
        "sample_tokens = nltk.tokenize.word_tokenize( sample_caption.lower() )\n",
        "\n",
        "sample_caption = []\n",
        "start_word  = data_loader_train.dataset.vocab.start_word\n",
        "end_word = data_loader_train.dataset.vocab.end_word\n",
        "sample_tokens.insert(0 , start_word)\n",
        "sample_tokens.append(end_word)\n",
        "sample_caption.extend( [ data_loader_train.dataset.vocab(token) for token in sample_tokens ] )\n",
        "\n",
        "\n",
        "sample_caption = torch.Tensor( sample_caption ).long()\n",
        "print('Find Below the Sample tokens and the idx values of those tokens in word2idx' , '\\n')\n",
        "print(sample_tokens) \n",
        "print(sample_caption )\n",
        "\n",
        "print('Find index values for words below \\n')\n",
        "print('Start idx {} , End idx {} , unknown idx {}'.format( 0,1,2 ))"
      ]
    },
    {
      "cell_type": "code",
      "execution_count": null,
      "metadata": {
        "colab": {
          "base_uri": "https://localhost:8080/"
        },
        "id": "g8OaFH9VMCmB",
        "outputId": "402b9e5f-79a9-45f8-b4a9-81efe929074c"
      },
      "outputs": [
        {
          "output_type": "stream",
          "name": "stdout",
          "text": [
            "First few vocab {'<start>': 0, '<end>': 1, '<unk>': 2, 'a': 3, 'bicycle': 4, 'replica': 5, 'with': 6, 'clock': 7, 'as': 8, 'the': 9}\n",
            "Total number of tokens in vocabulary: 5134\n"
          ]
        }
      ],
      "source": [
        "# Lets check word2idx in vocb \n",
        "print('First few vocab' , dict(list(data_loader_train.dataset.vocab.word2idx.items())[:10]))\n",
        "# Print the total number of keys in the word2idx dictionary.\n",
        "print('Total number of tokens in vocabulary:', len(data_loader_train.dataset.vocab))"
      ]
    },
    {
      "cell_type": "markdown",
      "metadata": {
        "id": "uyxU5wWTPwtw"
      },
      "source": [
        "<a id='step2'></a>\n",
        "## Step 2: Use the Data Loader to Obtain Batches\n",
        "\n",
        "The captions in the dataset vary greatly in length.  You can see this by examining `data_loader.dataset.caption_lengths`, a Python list with one entry for each training caption (where the value stores the length of the corresponding caption).  \n",
        "\n",
        "In the code cell below, we use this list to print the total number of captions in the training data with each length.  As you will see below, the majority of captions have length 10.  Likewise, very short and very long captions are quite rare.  "
      ]
    },
    {
      "cell_type": "code",
      "execution_count": null,
      "metadata": {
        "colab": {
          "base_uri": "https://localhost:8080/"
        },
        "id": "T6HUbDqQPMyw",
        "outputId": "3f79b1bf-de2e-40c9-dd52-b665024b15ea"
      },
      "outputs": [
        {
          "output_type": "stream",
          "name": "stdout",
          "text": [
            "value 10  count 42260\n",
            "value 11  count 39344\n",
            "value  9  count 34992\n",
            "value 12  count 28139\n",
            "value 13  count 18330\n",
            "value 14  count 10975\n",
            "value  8  count 10209\n",
            "value 15  count  6471\n"
          ]
        }
      ],
      "source": [
        "from collections import Counter\n",
        "\n",
        "counter = Counter(data_loader_train.dataset.caption_lengths)\n",
        "lengths = sorted( counter.items() , key = lambda pair : pair[1] , reverse=True )\n",
        "for val,count in lengths:\n",
        "  print( 'value %2d  count %5d' %(val,count) )\n",
        "  if count < 10000: \n",
        "    break"
      ]
    },
    {
      "cell_type": "markdown",
      "metadata": {
        "id": "NJcMCb4ZXfSV"
      },
      "source": [
        "To generate batches of training data, we begin by first sampling a caption length (where the probability that any length is drawn is proportional to the number of captions with that length in the dataset).  Then, we retrieve a batch of size `batch_size` of image-caption pairs, where all captions have the sampled length.  This approach for assembling batches matches the procedure in [this paper](https://arxiv.org/pdf/1502.03044.pdf) and has been shown to be computationally efficient without degrading performance.\n",
        "\n",
        "Run the code cell below to generate a batch.  The `get_train_indices` method in the `CoCoDataset` class first samples a caption length, and then samples `batch_size` indices corresponding to training data points with captions of that length.  These indices are stored below in `indices`.\n",
        "\n",
        "These indices are supplied to the data loader, which then is used to retrieve the corresponding data points.  The pre-processed images and captions in the batch are stored in `images` and `captions`."
      ]
    },
    {
      "cell_type": "code",
      "execution_count": null,
      "metadata": {
        "id": "QAVAQog5ezch"
      },
      "outputs": [],
      "source": [
        "os.chdir(save_path+'cocoapi')"
      ]
    },
    {
      "cell_type": "code",
      "execution_count": null,
      "metadata": {
        "colab": {
          "base_uri": "https://localhost:8080/"
        },
        "id": "K4MwT-xhRBY6",
        "outputId": "d97ad593-a73a-4bfa-b5c2-4f48a212e63b"
      },
      "outputs": [
        {
          "output_type": "stream",
          "name": "stdout",
          "text": [
            "Sample Indices: [11513, 5745, 156803, 175754, 98180, 62267, 105297, 104015, 179391, 127098, 27501, 130835, 118145, 119549, 134430, 41571, 24418, 177671, 58282, 33124, 43182, 155126, 46607, 27195, 170610, 196888, 173487, 10690, 107174, 19174, 4566, 64488, 179958, 39354, 135066, 174967, 140070, 173775, 15530, 44138, 115502, 155163, 193309, 153088, 10408, 37936, 14594, 80568, 39294, 142499, 1026, 8299, 156755, 108947, 124712, 37596, 20069, 170437, 87556, 35695, 142074, 197725, 8107, 98551, 128507, 15130, 175250, 103532, 33457, 96586, 158886, 154517, 157027, 75747, 42320, 21042, 102157, 5801, 194971, 142470, 24305, 162018, 150928, 145392, 160555, 184085, 19160, 122096, 97847, 198437, 178545, 50873, 131401, 150261, 19990, 82930, 170043, 81325, 151102, 100044, 46192, 165638, 107283, 26044, 191262, 72982, 26954, 52739, 98267, 133309, 58199, 170841, 160436, 18843, 48649, 175700, 54237, 81833, 85070, 34068, 153534, 66100, 36084, 97016, 105849, 133573, 93325, 115596, 46547, 132884, 144104, 112240, 73362, 69482, 46517, 183144, 147624, 40346, 68984, 30606, 46711, 49144, 76737, 40460, 74090, 178810, 107083, 55598, 175008, 94680, 112095, 3224, 179363, 200532, 189871, 3552, 17144, 77926, 170552, 170357, 199876, 161341, 70004, 103607, 57746, 35864, 191849, 146464, 198479, 167361, 43426, 13647, 59252, 71286, 91883, 111938, 177598, 12864, 130347, 125214, 18351, 46942, 201276, 157915, 76337, 59831, 21264, 16421, 8316, 19700, 1551, 153791, 148049, 81343, 53652, 51351, 134019, 25057, 60516, 49229]\n",
            "torch.Size([200, 3, 224, 224]) torch.Size([200, 15])\n"
          ]
        }
      ],
      "source": [
        "# Randomly sample a caption length, and sample indices with that length.\n",
        "indices = data_loader_train.dataset.get_train_indices()\n",
        "print('Sample Indices:' , indices )\n",
        "\n",
        "# Create and assign a batch sampler to retrieve a batch with the sampled indices.\n",
        "sampler = data.sampler.SubsetRandomSampler(  indices )\n",
        "data_loader_train.batch_sampler.sampler = sampler \n",
        "\n",
        "# obtain images, caption :\n",
        "images , captions = next(iter(data_loader_train))\n",
        "print(images.shape , captions.shape)"
      ]
    }
  ],
  "metadata": {
    "accelerator": "GPU",
    "colab": {
      "collapsed_sections": [],
      "machine_shape": "hm",
      "name": "IA02_delivery_2_part1_COCO_downloading.ipynb",
      "provenance": [],
      "include_colab_link": true
    },
    "gpuClass": "standard",
    "kernelspec": {
      "display_name": "Python 3",
      "name": "python3"
    }
  },
  "nbformat": 4,
  "nbformat_minor": 0
}