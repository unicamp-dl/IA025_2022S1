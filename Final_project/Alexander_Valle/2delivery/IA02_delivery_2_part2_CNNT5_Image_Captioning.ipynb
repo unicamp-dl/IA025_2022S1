{
  "cells": [
    {
      "cell_type": "markdown",
      "metadata": {
        "id": "view-in-github",
        "colab_type": "text"
      },
      "source": [
        "<a href=\"https://colab.research.google.com/github/unicamp-dl/IA025_2022S1/blob/main/Final_project/Alexander_Valle/2delivery/IA02_delivery_2_part2_CNNT5_Image_Captioning.ipynb\" target=\"_parent\"><img src=\"https://colab.research.google.com/assets/colab-badge.svg\" alt=\"Open In Colab\"/></a>"
      ]
    },
    {
      "cell_type": "markdown",
      "source": [
        "#Notebook of imagen Camptioning using a CNN with a pretrained T5 model\n",
        "\n",
        "Alexander Valle Rey Sánchez RA230254\n",
        "\n",
        "note: the download and dataloader functions of COCO dataset are from\n",
        "\n",
        "https://colab.research.google.com/github/rammyram/image_captioning/blob/master/Image_Captioning.ipynb\n",
        "\n",
        "these note book is usde when allready the COCO dataset was donwload an unsiped in floder in the google drive. so before use this note book use the notebook \n",
        "download an unzip coco that is this link:\n",
        "\n",
        "https://github.com/unicamp-dl/IA025_2022S1/blob/main/Final_project/Alexander_Valle/2delivery/IA02_delivery_2_part1_COCO_downloading.ipynb"
      ],
      "metadata": {
        "id": "m-pgYnhqy2E3"
      }
    },
    {
      "cell_type": "code",
      "execution_count": null,
      "metadata": {
        "colab": {
          "base_uri": "https://localhost:8080/"
        },
        "id": "L0mg9Oqku4FY",
        "outputId": "5e722ae9-b466-42a6-c022-5df72ed22bad"
      },
      "outputs": [
        {
          "output_type": "stream",
          "name": "stdout",
          "text": [
            "Mounted at /content/drive\n"
          ]
        }
      ],
      "source": [
        "from google.colab import drive \n",
        "drive.mount('/content/drive')"
      ]
    },
    {
      "cell_type": "code",
      "execution_count": null,
      "metadata": {
        "colab": {
          "base_uri": "https://localhost:8080/"
        },
        "id": "jAMWGhgkuycT",
        "outputId": "b0c4de27-0210-4b64-da51-332a60caff94"
      },
      "outputs": [
        {
          "name": "stdout",
          "output_type": "stream",
          "text": [
            "Looking in indexes: https://pypi.org/simple, https://us-python.pkg.dev/colab-wheels/public/simple/\n",
            "Collecting transformers==2.9.0\n",
            "  Downloading transformers-2.9.0-py3-none-any.whl (635 kB)\n",
            "\u001b[K     |████████████████████████████████| 635 kB 14.5 MB/s \n",
            "\u001b[?25hCollecting tokenizers==0.7.0\n",
            "  Downloading tokenizers-0.7.0-cp37-cp37m-manylinux1_x86_64.whl (5.6 MB)\n",
            "\u001b[K     |████████████████████████████████| 5.6 MB 67.7 MB/s \n",
            "\u001b[?25hRequirement already satisfied: requests in /usr/local/lib/python3.7/dist-packages (from transformers==2.9.0) (2.23.0)\n",
            "Requirement already satisfied: numpy in /usr/local/lib/python3.7/dist-packages (from transformers==2.9.0) (1.21.6)\n",
            "Collecting sentencepiece\n",
            "  Downloading sentencepiece-0.1.96-cp37-cp37m-manylinux_2_17_x86_64.manylinux2014_x86_64.whl (1.2 MB)\n",
            "\u001b[K     |████████████████████████████████| 1.2 MB 78.7 MB/s \n",
            "\u001b[?25hRequirement already satisfied: tqdm>=4.27 in /usr/local/lib/python3.7/dist-packages (from transformers==2.9.0) (4.64.0)\n",
            "Requirement already satisfied: filelock in /usr/local/lib/python3.7/dist-packages (from transformers==2.9.0) (3.7.1)\n",
            "Collecting sacremoses\n",
            "  Downloading sacremoses-0.0.53.tar.gz (880 kB)\n",
            "\u001b[K     |████████████████████████████████| 880 kB 74.7 MB/s \n",
            "\u001b[?25hRequirement already satisfied: regex!=2019.12.17 in /usr/local/lib/python3.7/dist-packages (from transformers==2.9.0) (2022.6.2)\n",
            "Requirement already satisfied: urllib3!=1.25.0,!=1.25.1,<1.26,>=1.21.1 in /usr/local/lib/python3.7/dist-packages (from requests->transformers==2.9.0) (1.24.3)\n",
            "Requirement already satisfied: idna<3,>=2.5 in /usr/local/lib/python3.7/dist-packages (from requests->transformers==2.9.0) (2.10)\n",
            "Requirement already satisfied: certifi>=2017.4.17 in /usr/local/lib/python3.7/dist-packages (from requests->transformers==2.9.0) (2022.6.15)\n",
            "Requirement already satisfied: chardet<4,>=3.0.2 in /usr/local/lib/python3.7/dist-packages (from requests->transformers==2.9.0) (3.0.4)\n",
            "Requirement already satisfied: six in /usr/local/lib/python3.7/dist-packages (from sacremoses->transformers==2.9.0) (1.15.0)\n",
            "Requirement already satisfied: click in /usr/local/lib/python3.7/dist-packages (from sacremoses->transformers==2.9.0) (7.1.2)\n",
            "Requirement already satisfied: joblib in /usr/local/lib/python3.7/dist-packages (from sacremoses->transformers==2.9.0) (1.1.0)\n",
            "Building wheels for collected packages: sacremoses\n",
            "  Building wheel for sacremoses (setup.py) ... \u001b[?25l\u001b[?25hdone\n",
            "  Created wheel for sacremoses: filename=sacremoses-0.0.53-py3-none-any.whl size=895260 sha256=56a632b1ebd82d311d2b33cdc145022795f96650bd5ccc67ef046b14f9d1dafe\n",
            "  Stored in directory: /root/.cache/pip/wheels/87/39/dd/a83eeef36d0bf98e7a4d1933a4ad2d660295a40613079bafc9\n",
            "Successfully built sacremoses\n",
            "Installing collected packages: tokenizers, sentencepiece, sacremoses, transformers\n",
            "Successfully installed sacremoses-0.0.53 sentencepiece-0.1.96 tokenizers-0.7.0 transformers-2.9.0\n",
            "Looking in indexes: https://pypi.org/simple, https://us-python.pkg.dev/colab-wheels/public/simple/\n",
            "Collecting pytorch_lightning==0.7.5\n",
            "  Downloading pytorch_lightning-0.7.5-py3-none-any.whl (233 kB)\n",
            "\u001b[K     |████████████████████████████████| 233 kB 13.0 MB/s \n",
            "\u001b[?25hRequirement already satisfied: tqdm>=4.41.0 in /usr/local/lib/python3.7/dist-packages (from pytorch_lightning==0.7.5) (4.64.0)\n",
            "Requirement already satisfied: torch>=1.1 in /usr/local/lib/python3.7/dist-packages (from pytorch_lightning==0.7.5) (1.11.0+cu113)\n",
            "Collecting future>=0.17.1\n",
            "  Downloading future-0.18.2.tar.gz (829 kB)\n",
            "\u001b[K     |████████████████████████████████| 829 kB 93.7 MB/s \n",
            "\u001b[?25hRequirement already satisfied: tensorboard>=1.14 in /usr/local/lib/python3.7/dist-packages (from pytorch_lightning==0.7.5) (2.8.0)\n",
            "Requirement already satisfied: numpy>=1.16.4 in /usr/local/lib/python3.7/dist-packages (from pytorch_lightning==0.7.5) (1.21.6)\n",
            "Requirement already satisfied: protobuf>=3.6.0 in /usr/local/lib/python3.7/dist-packages (from tensorboard>=1.14->pytorch_lightning==0.7.5) (3.17.3)\n",
            "Requirement already satisfied: setuptools>=41.0.0 in /usr/local/lib/python3.7/dist-packages (from tensorboard>=1.14->pytorch_lightning==0.7.5) (57.4.0)\n",
            "Requirement already satisfied: werkzeug>=0.11.15 in /usr/local/lib/python3.7/dist-packages (from tensorboard>=1.14->pytorch_lightning==0.7.5) (1.0.1)\n",
            "Requirement already satisfied: grpcio>=1.24.3 in /usr/local/lib/python3.7/dist-packages (from tensorboard>=1.14->pytorch_lightning==0.7.5) (1.46.3)\n",
            "Requirement already satisfied: absl-py>=0.4 in /usr/local/lib/python3.7/dist-packages (from tensorboard>=1.14->pytorch_lightning==0.7.5) (1.1.0)\n",
            "Requirement already satisfied: wheel>=0.26 in /usr/local/lib/python3.7/dist-packages (from tensorboard>=1.14->pytorch_lightning==0.7.5) (0.37.1)\n",
            "Requirement already satisfied: google-auth<3,>=1.6.3 in /usr/local/lib/python3.7/dist-packages (from tensorboard>=1.14->pytorch_lightning==0.7.5) (1.35.0)\n",
            "Requirement already satisfied: requests<3,>=2.21.0 in /usr/local/lib/python3.7/dist-packages (from tensorboard>=1.14->pytorch_lightning==0.7.5) (2.23.0)\n",
            "Requirement already satisfied: tensorboard-data-server<0.7.0,>=0.6.0 in /usr/local/lib/python3.7/dist-packages (from tensorboard>=1.14->pytorch_lightning==0.7.5) (0.6.1)\n",
            "Requirement already satisfied: google-auth-oauthlib<0.5,>=0.4.1 in /usr/local/lib/python3.7/dist-packages (from tensorboard>=1.14->pytorch_lightning==0.7.5) (0.4.6)\n",
            "Requirement already satisfied: tensorboard-plugin-wit>=1.6.0 in /usr/local/lib/python3.7/dist-packages (from tensorboard>=1.14->pytorch_lightning==0.7.5) (1.8.1)\n",
            "Requirement already satisfied: markdown>=2.6.8 in /usr/local/lib/python3.7/dist-packages (from tensorboard>=1.14->pytorch_lightning==0.7.5) (3.3.7)\n",
            "Requirement already satisfied: pyasn1-modules>=0.2.1 in /usr/local/lib/python3.7/dist-packages (from google-auth<3,>=1.6.3->tensorboard>=1.14->pytorch_lightning==0.7.5) (0.2.8)\n",
            "Requirement already satisfied: six>=1.9.0 in /usr/local/lib/python3.7/dist-packages (from google-auth<3,>=1.6.3->tensorboard>=1.14->pytorch_lightning==0.7.5) (1.15.0)\n",
            "Requirement already satisfied: cachetools<5.0,>=2.0.0 in /usr/local/lib/python3.7/dist-packages (from google-auth<3,>=1.6.3->tensorboard>=1.14->pytorch_lightning==0.7.5) (4.2.4)\n",
            "Requirement already satisfied: rsa<5,>=3.1.4 in /usr/local/lib/python3.7/dist-packages (from google-auth<3,>=1.6.3->tensorboard>=1.14->pytorch_lightning==0.7.5) (4.8)\n",
            "Requirement already satisfied: requests-oauthlib>=0.7.0 in /usr/local/lib/python3.7/dist-packages (from google-auth-oauthlib<0.5,>=0.4.1->tensorboard>=1.14->pytorch_lightning==0.7.5) (1.3.1)\n",
            "Requirement already satisfied: importlib-metadata>=4.4 in /usr/local/lib/python3.7/dist-packages (from markdown>=2.6.8->tensorboard>=1.14->pytorch_lightning==0.7.5) (4.11.4)\n",
            "Requirement already satisfied: zipp>=0.5 in /usr/local/lib/python3.7/dist-packages (from importlib-metadata>=4.4->markdown>=2.6.8->tensorboard>=1.14->pytorch_lightning==0.7.5) (3.8.0)\n",
            "Requirement already satisfied: typing-extensions>=3.6.4 in /usr/local/lib/python3.7/dist-packages (from importlib-metadata>=4.4->markdown>=2.6.8->tensorboard>=1.14->pytorch_lightning==0.7.5) (4.1.1)\n",
            "Requirement already satisfied: pyasn1<0.5.0,>=0.4.6 in /usr/local/lib/python3.7/dist-packages (from pyasn1-modules>=0.2.1->google-auth<3,>=1.6.3->tensorboard>=1.14->pytorch_lightning==0.7.5) (0.4.8)\n",
            "Requirement already satisfied: urllib3!=1.25.0,!=1.25.1,<1.26,>=1.21.1 in /usr/local/lib/python3.7/dist-packages (from requests<3,>=2.21.0->tensorboard>=1.14->pytorch_lightning==0.7.5) (1.24.3)\n",
            "Requirement already satisfied: idna<3,>=2.5 in /usr/local/lib/python3.7/dist-packages (from requests<3,>=2.21.0->tensorboard>=1.14->pytorch_lightning==0.7.5) (2.10)\n",
            "Requirement already satisfied: chardet<4,>=3.0.2 in /usr/local/lib/python3.7/dist-packages (from requests<3,>=2.21.0->tensorboard>=1.14->pytorch_lightning==0.7.5) (3.0.4)\n",
            "Requirement already satisfied: certifi>=2017.4.17 in /usr/local/lib/python3.7/dist-packages (from requests<3,>=2.21.0->tensorboard>=1.14->pytorch_lightning==0.7.5) (2022.6.15)\n",
            "Requirement already satisfied: oauthlib>=3.0.0 in /usr/local/lib/python3.7/dist-packages (from requests-oauthlib>=0.7.0->google-auth-oauthlib<0.5,>=0.4.1->tensorboard>=1.14->pytorch_lightning==0.7.5) (3.2.0)\n",
            "Building wheels for collected packages: future\n",
            "  Building wheel for future (setup.py) ... \u001b[?25l\u001b[?25hdone\n",
            "  Created wheel for future: filename=future-0.18.2-py3-none-any.whl size=491070 sha256=e7071fe1af358a3905050d3c46c0e539a59677e5d424f4b727ec453f194dcb15\n",
            "  Stored in directory: /root/.cache/pip/wheels/56/b0/fe/4410d17b32f1f0c3cf54cdfb2bc04d7b4b8f4ae377e2229ba0\n",
            "Successfully built future\n",
            "Installing collected packages: future, pytorch-lightning\n",
            "  Attempting uninstall: future\n",
            "    Found existing installation: future 0.16.0\n",
            "    Uninstalling future-0.16.0:\n",
            "      Successfully uninstalled future-0.16.0\n",
            "Successfully installed future-0.18.2 pytorch-lightning-0.7.5\n"
          ]
        }
      ],
      "source": [
        "!pip install transformers==2.9.0 \n",
        "!pip install pytorch_lightning==0.7.5"
      ]
    },
    {
      "cell_type": "code",
      "execution_count": null,
      "metadata": {
        "colab": {
          "base_uri": "https://localhost:8080/"
        },
        "id": "zZEZwUTDuy7d",
        "outputId": "99031630-8e30-4417-a97e-42380813cab3"
      },
      "outputs": [
        {
          "name": "stdout",
          "output_type": "stream",
          "text": [
            "Looking in indexes: https://pypi.org/simple, https://us-python.pkg.dev/colab-wheels/public/simple/\n",
            "Collecting sacrebleu\n",
            "  Downloading sacrebleu-2.1.0-py3-none-any.whl (92 kB)\n",
            "\u001b[K     |████████████████████████████████| 92 kB 8.4 MB/s \n",
            "\u001b[?25hCollecting colorama\n",
            "  Downloading colorama-0.4.5-py2.py3-none-any.whl (16 kB)\n",
            "Requirement already satisfied: tabulate>=0.8.9 in /usr/local/lib/python3.7/dist-packages (from sacrebleu) (0.8.9)\n",
            "Requirement already satisfied: numpy>=1.17 in /usr/local/lib/python3.7/dist-packages (from sacrebleu) (1.21.6)\n",
            "Requirement already satisfied: regex in /usr/local/lib/python3.7/dist-packages (from sacrebleu) (2022.6.2)\n",
            "Collecting portalocker\n",
            "  Downloading portalocker-2.4.0-py2.py3-none-any.whl (16 kB)\n",
            "Installing collected packages: portalocker, colorama, sacrebleu\n",
            "Successfully installed colorama-0.4.5 portalocker-2.4.0 sacrebleu-2.1.0\n"
          ]
        }
      ],
      "source": [
        "#!pip install sentencepiece\n",
        "!pip install sacrebleu"
      ]
    },
    {
      "cell_type": "code",
      "execution_count": null,
      "metadata": {
        "colab": {
          "base_uri": "https://localhost:8080/"
        },
        "id": "xNFDnseCu5f-",
        "outputId": "33eb7e4e-8d2e-41dd-9924-7c9c796cab8a"
      },
      "outputs": [
        {
          "name": "stdout",
          "output_type": "stream",
          "text": [
            "\u001b[K     |████████████████████████████████| 4.4 MB 19.1 MB/s \n",
            "\u001b[K     |████████████████████████████████| 585 kB 90.4 MB/s \n",
            "\u001b[K     |████████████████████████████████| 4.1 MB 32.1 MB/s \n",
            "\u001b[K     |████████████████████████████████| 6.6 MB 86.5 MB/s \n",
            "\u001b[K     |████████████████████████████████| 101 kB 15.4 MB/s \n",
            "\u001b[K     |████████████████████████████████| 596 kB 89.7 MB/s \n",
            "\u001b[K     |████████████████████████████████| 419 kB 94.8 MB/s \n",
            "\u001b[K     |████████████████████████████████| 140 kB 98.1 MB/s \n",
            "\u001b[K     |████████████████████████████████| 1.1 MB 67.7 MB/s \n",
            "\u001b[K     |████████████████████████████████| 144 kB 59.6 MB/s \n",
            "\u001b[K     |████████████████████████████████| 94 kB 4.7 MB/s \n",
            "\u001b[K     |████████████████████████████████| 271 kB 101.2 MB/s \n",
            "\u001b[?25h  Building wheel for efficientnet-pytorch (setup.py) ... \u001b[?25l\u001b[?25hdone\n"
          ]
        }
      ],
      "source": [
        "!pip3 install -q --upgrade efficientnet_pytorch  \\\n",
        "                           transformers \\\n",
        "                           pytorch_lightning \\\n",
        "                           sacrebleu \\\n",
        "                           h5py"
      ]
    },
    {
      "cell_type": "code",
      "execution_count": null,
      "metadata": {
        "colab": {
          "base_uri": "https://localhost:8080/"
        },
        "id": "rw-DPOUKvChw",
        "outputId": "48e86b01-e142-409f-9719-841586a16ae8"
      },
      "outputs": [
        {
          "data": {
            "text/plain": [
              "(8, 'Tesla P100-PCIE-16GB')"
            ]
          },
          "execution_count": 5,
          "metadata": {},
          "output_type": "execute_result"
        }
      ],
      "source": [
        "import os\n",
        "import torch\n",
        "\n",
        "from transformers import T5ForConditionalGeneration, T5Tokenizer\n",
        "from efficientnet_pytorch import EfficientNet\n",
        "from matplotlib import pyplot as plt\n",
        "\n",
        "from google.colab import drive\n",
        "\n",
        "\n",
        "device = 'cuda' if torch.cuda.is_available() else 'cpu'\n",
        "\n",
        "os.cpu_count(), torch.cuda.get_device_name() if device == \"cuda\" else None"
      ]
    },
    {
      "cell_type": "code",
      "execution_count": null,
      "metadata": {
        "colab": {
          "base_uri": "https://localhost:8080/",
          "height": 185,
          "referenced_widgets": [
            "86508f4cfc8249c2bb90b8353bfd1a5e",
            "304fbc2e3d5540d7beca93f127204c70",
            "64d7c4f9379d4252901428e1119a00a6",
            "2160d18a48514362b6576dfa49bcd471",
            "46eb24806c75470590078dd0ceb6f05f",
            "26c29ac0e5b448719adaeb16e35f9e05",
            "3ab50be8cd0647f7ac89f74050283f2b",
            "55871170e0b14cf486563e7b34f95d10",
            "477ac6e7fdcb4eafb2a7a9c4c5424e12",
            "b5667075cd39419c8ae0a06a66b7dccb",
            "8572ff4b3787421db96c23dac083dc87",
            "d669f3e779794b08aceb2dbee4afc67d",
            "ea06060d0a844954a79426df58abd765",
            "35e9812f84fc4d6f8d736521233ffe93",
            "1a2f4b211fb044e58207a8f458938eae",
            "2afab5a4275241ccad7a4bcfc613eaae",
            "d2cea8c8eb8b402fae7443e800b292a6",
            "448360fc460b485096df85d4a681f35a",
            "72615e473b82491e942bd2ea5adfb85d",
            "ebb34f71cc014c068927f50562978fd7",
            "c15433e546a3471fa81e48d13de1f132",
            "7a34b3408e864bd788b40c8afeebb360"
          ]
        },
        "id": "KuyhUAlgvC-A",
        "outputId": "1e385e91-2660-4207-eaa0-316624832eb5"
      },
      "outputs": [
        {
          "data": {
            "application/vnd.jupyter.widget-view+json": {
              "model_id": "86508f4cfc8249c2bb90b8353bfd1a5e",
              "version_major": 2,
              "version_minor": 0
            },
            "text/plain": [
              "Downloading:   0%|          | 0.00/773k [00:00<?, ?B/s]"
            ]
          },
          "metadata": {},
          "output_type": "display_data"
        },
        {
          "data": {
            "application/vnd.jupyter.widget-view+json": {
              "model_id": "d669f3e779794b08aceb2dbee4afc67d",
              "version_major": 2,
              "version_minor": 0
            },
            "text/plain": [
              "Downloading:   0%|          | 0.00/1.17k [00:00<?, ?B/s]"
            ]
          },
          "metadata": {},
          "output_type": "display_data"
        },
        {
          "name": "stderr",
          "output_type": "stream",
          "text": [
            "/usr/local/lib/python3.7/dist-packages/transformers/models/t5/tokenization_t5.py:174: FutureWarning: This tokenizer was incorrectly instantiated with a model max length of 512 which will be corrected in Transformers v5.\n",
            "For now, this behavior is kept to avoid breaking backwards compatibility when padding/encoding with `truncation is True`.\n",
            "- Be aware that you SHOULD NOT rely on t5-small automatically truncating your input to 512 when padding/encoding.\n",
            "- If you want to encode/pad to sequences longer than 512 you can either instantiate this tokenizer with `model_max_length` or pass `max_length` when encoding/padding.\n",
            "- To avoid this warning, please instantiate this tokenizer with `model_max_length` set to your preferred value.\n",
            "  FutureWarning,\n"
          ]
        }
      ],
      "source": [
        "tokenizer = T5Tokenizer.from_pretrained('t5-small')\n"
      ]
    },
    {
      "cell_type": "markdown",
      "metadata": {
        "id": "MEHyryqivS6i"
      },
      "source": [
        "### Download the required data : Annotations,Captions,Images"
      ]
    },
    {
      "cell_type": "code",
      "execution_count": null,
      "metadata": {
        "id": "jvml55V7vIBl"
      },
      "outputs": [],
      "source": [
        "import os \n",
        "import sys\n",
        "from pycocotools.coco import COCO\n",
        "import urllib\n",
        "import zipfile "
      ]
    },
    {
      "cell_type": "code",
      "execution_count": null,
      "metadata": {
        "colab": {
          "base_uri": "https://localhost:8080/"
        },
        "id": "UVpdBDz_vPDx",
        "outputId": "4bac8df4-068b-4bf3-b957-69d523e8d7e2"
      },
      "outputs": [
        {
          "name": "stdout",
          "output_type": "stream",
          "text": [
            "fatal: destination path 'cocoapi' already exists and is not an empty directory.\n"
          ]
        }
      ],
      "source": [
        "os.chdir( '/content/drive/My Drive/IA025/image_captioning/COCO/' )\n",
        "save_path = '/content/drive/My Drive/IA025/image_captioning/COCO/opt/'\n",
        "\n",
        "os.makedirs('opt' , exist_ok=True)\n",
        "#os.chdir( '/content/opt' )\n",
        "os.chdir( save_path )\n",
        "\n",
        "!git clone 'https://github.com/cocodataset/cocoapi.git'"
      ]
    },
    {
      "cell_type": "code",
      "execution_count": null,
      "metadata": {
        "colab": {
          "base_uri": "https://localhost:8080/",
          "height": 35
        },
        "id": "jY2yAgDovgLd",
        "outputId": "fd1a2c7c-9a05-4ebf-9363-0ddebddde3d9"
      },
      "outputs": [
        {
          "data": {
            "application/vnd.google.colaboratory.intrinsic+json": {
              "type": "string"
            },
            "text/plain": [
              "\"\\n\\nos.makedirs('opt' , exist_ok=True)\\nos.chdir( '/content/opt' )\\n!git clone 'https://github.com/cocodataset/cocoapi.git'\\n\\n\""
            ]
          },
          "execution_count": 9,
          "metadata": {},
          "output_type": "execute_result"
        }
      ],
      "source": [
        "\"\"\"\n",
        "\n",
        "os.makedirs('opt' , exist_ok=True)\n",
        "os.chdir( '/content/opt' )\n",
        "!git clone 'https://github.com/cocodataset/cocoapi.git'\n",
        "\n",
        "\"\"\""
      ]
    },
    {
      "cell_type": "markdown",
      "metadata": {
        "id": "I3_btMoRw2Vy"
      },
      "source": [
        "Download the Annotations and Captions :"
      ]
    },
    {
      "cell_type": "code",
      "execution_count": null,
      "metadata": {
        "id": "2Gw1qgajvd6g"
      },
      "outputs": [],
      "source": [
        "os.chdir(save_path+'cocoapi')\n"
      ]
    },
    {
      "cell_type": "code",
      "execution_count": null,
      "metadata": {
        "colab": {
          "base_uri": "https://localhost:8080/",
          "height": 53
        },
        "id": "VA6JaTnzvrhG",
        "outputId": "af211c01-41be-4e5a-9818-25d831e5d645"
      },
      "outputs": [
        {
          "data": {
            "application/vnd.google.colaboratory.intrinsic+json": {
              "type": "string"
            },
            "text/plain": [
              "\"\\n\\nos.chdir('/content/opt/cocoapi')\\n\\n# Download the annotation : \\nannotations_trainval2014 = 'http://images.cocodataset.org/annotations/annotations_trainval2014.zip'\\nimage_info_test2014 = 'http://images.cocodataset.org/annotations/image_info_test2014.zip'\\n\\nurllib.request.urlretrieve(annotations_trainval2014 , filename = 'annotations_trainval2014.zip' )\\nurllib.request.urlretrieve(image_info_test2014 , filename= 'image_info_test2014.zip' )\\n\\n\""
            ]
          },
          "execution_count": 11,
          "metadata": {},
          "output_type": "execute_result"
        }
      ],
      "source": [
        "\"\"\"\n",
        "\n",
        "os.chdir('/content/opt/cocoapi')\n",
        "\n",
        "# Download the annotation : \n",
        "annotations_trainval2014 = 'http://images.cocodataset.org/annotations/annotations_trainval2014.zip'\n",
        "image_info_test2014 = 'http://images.cocodataset.org/annotations/image_info_test2014.zip'\n",
        "\n",
        "urllib.request.urlretrieve(annotations_trainval2014 , filename = 'annotations_trainval2014.zip' )\n",
        "urllib.request.urlretrieve(image_info_test2014 , filename= 'image_info_test2014.zip' )\n",
        "\n",
        "\n",
        "\n",
        "\"\"\""
      ]
    },
    {
      "cell_type": "markdown",
      "metadata": {
        "id": "JLfQ0PV-yfJ9"
      },
      "source": [
        "Extract Annotations from ZIP file"
      ]
    },
    {
      "cell_type": "code",
      "execution_count": null,
      "metadata": {
        "colab": {
          "base_uri": "https://localhost:8080/",
          "height": 53
        },
        "id": "F8FJOO2mx2ft",
        "outputId": "873b3a91-8d4c-4a27-a69c-81eb5c56f91b"
      },
      "outputs": [
        {
          "data": {
            "application/vnd.google.colaboratory.intrinsic+json": {
              "type": "string"
            },
            "text/plain": [
              "\"\\nwith zipfile.ZipFile('annotations_trainval2014.zip' , 'r') as zip_ref:\\n  zip_ref.extractall( '/content/opt/cocoapi'  )  \\n\\ntry:\\n  os.remove( 'annotations_trainval2014.zip' )\\n  print('zip removed')\\nexcept:\\n  None\\n\\nwith zipfile.ZipFile('image_info_test2014.zip' , 'r') as zip_ref:\\n  zip_ref.extractall( '/content/opt/cocoapi'  )  \\n\\ntry:\\n  os.remove( 'image_info_test2014.zip' )\\n  print('zip removed')\\nexcept:\\n  None\\n\""
            ]
          },
          "execution_count": 12,
          "metadata": {},
          "output_type": "execute_result"
        }
      ],
      "source": [
        "\"\"\"\n",
        "with zipfile.ZipFile('annotations_trainval2014.zip' , 'r') as zip_ref:\n",
        "  zip_ref.extractall( '/content/opt/cocoapi'  )  \n",
        "\n",
        "try:\n",
        "  os.remove( 'annotations_trainval2014.zip' )\n",
        "  print('zip removed')\n",
        "except:\n",
        "  None\n",
        "\n",
        "with zipfile.ZipFile('image_info_test2014.zip' , 'r') as zip_ref:\n",
        "  zip_ref.extractall( '/content/opt/cocoapi'  )  \n",
        "\n",
        "try:\n",
        "  os.remove( 'image_info_test2014.zip' )\n",
        "  print('zip removed')\n",
        "except:\n",
        "  None\n",
        "\"\"\"  "
      ]
    },
    {
      "cell_type": "markdown",
      "metadata": {
        "id": "kyKmXQkuz_zR"
      },
      "source": [
        "Initialize and verify the loaded data"
      ]
    },
    {
      "cell_type": "code",
      "execution_count": null,
      "metadata": {
        "colab": {
          "base_uri": "https://localhost:8080/"
        },
        "id": "Lp6iuhP-yyI7",
        "outputId": "bbeae080-f8cc-440f-ffd0-76ca4976e8ac"
      },
      "outputs": [
        {
          "name": "stdout",
          "output_type": "stream",
          "text": [
            "instances_val2014.json\n",
            "loading annotations into memory...\n",
            "Done (t=6.70s)\n",
            "creating index...\n",
            "index created!\n",
            "loading annotations into memory...\n",
            "Done (t=1.02s)\n",
            "creating index...\n",
            "index created!\n"
          ]
        }
      ],
      "source": [
        "#os.chdir('/content/opt/cocoapi/annotations')\n",
        "os.chdir(save_path+'cocoapi/annotations')\n",
        "\n",
        "# initialize COCO API for instance annotations\n",
        "dataType = 'val2014'\n",
        "instances_annFile = 'instances_{}.json'.format(dataType)\n",
        "print(instances_annFile)\n",
        "coco = COCO(instances_annFile)\n",
        "\n",
        "# initialize COCO API for caption annotations\n",
        "captions_annFile = 'captions_{}.json'.format(dataType)\n",
        "coco_caps = COCO(captions_annFile)\n",
        "\n",
        "# get image ids \n",
        "ids = list(coco.anns.keys())"
      ]
    },
    {
      "cell_type": "markdown",
      "metadata": {
        "id": "UOPxvivc0mZQ"
      },
      "source": [
        "plot a sample Image"
      ]
    },
    {
      "cell_type": "code",
      "execution_count": null,
      "metadata": {
        "id": "bS6_GylyzosH"
      },
      "outputs": [],
      "source": [
        "import matplotlib.pyplot as plt \n",
        "import skimage.io as io \n",
        "import numpy as np \n",
        "%matplotlib inline "
      ]
    },
    {
      "cell_type": "code",
      "execution_count": null,
      "metadata": {
        "colab": {
          "base_uri": "https://localhost:8080/",
          "height": 408
        },
        "id": "PXbkWYbX00sR",
        "outputId": "26fcc2f4-012b-4d85-dcd7-74141fe4a9eb"
      },
      "outputs": [
        {
          "name": "stdout",
          "output_type": "stream",
          "text": [
            "http://images.cocodataset.org/val2014/COCO_val2014_000000566264.jpg\n",
            "Number of annotations i.e captions for the image:  [76699, 82675, 84751, 85753, 88834]\n",
            "\n",
            "A dog swimming in the ocean by itself.\n",
            "A dog swimming in a large body of water.\n",
            "a black and white photo of something partly submerged in a body of water\n",
            "Dog in the process of swimming through a large body of water. \n",
            "An brown animal swimming in the ocean with only its head showing\n"
          ]
        },
        {
          "data": {
            "image/png": "[encoded data removed]",
            "text/plain": [
              "<Figure size 432x288 with 1 Axes>"
            ]
          },
          "metadata": {},
          "output_type": "display_data"
        }
      ],
      "source": [
        "#Pick a random annotation id and display img of that annotation  :\n",
        "ann_id = np.random.choice( ids )\n",
        "img_id = coco.anns[ann_id]['image_id']\n",
        "img = coco.loadImgs( img_id )[0]\n",
        "url = img['coco_url']\n",
        "print(url)\n",
        "I = io.imread(url)\n",
        "plt.imshow(I)\n",
        "\n",
        "# Display captions for that annotation id :\n",
        "ann_ids = coco_caps.getAnnIds( img_id   )\n",
        "print('Number of annotations i.e captions for the image: ' , ann_ids)\n",
        "print()\n",
        "anns = coco_caps.loadAnns( ann_ids )\n",
        "coco_caps.showAnns(anns)"
      ]
    },
    {
      "cell_type": "markdown",
      "metadata": {
        "id": "d1ZkrGRi3X-l"
      },
      "source": [
        "Download Train , Test , Val Images :"
      ]
    },
    {
      "cell_type": "code",
      "execution_count": null,
      "metadata": {
        "colab": {
          "base_uri": "https://localhost:8080/",
          "height": 53
        },
        "id": "iZhRb--F1Ric",
        "outputId": "16153ae8-0f31-4726-f2a3-9977c3669df2"
      },
      "outputs": [
        {
          "data": {
            "application/vnd.google.colaboratory.intrinsic+json": {
              "type": "string"
            },
            "text/plain": [
              "\"\\n\\ntrain2014 = 'http://images.cocodataset.org/zips/train2014.zip'\\ntest2014 = 'http://images.cocodataset.org/zips/test2014.zip'\\nval2014 = 'http://images.cocodataset.org/zips/val2014.zip'\\n\\n#urllib.request.urlretrieve( train2014 , 'train2014' )\\nurllib.request.urlretrieve( test2014 , 'test2014' )\\nurllib.request.urlretrieve( val2014 , 'val2014' )\\n\""
            ]
          },
          "execution_count": 16,
          "metadata": {},
          "output_type": "execute_result"
        }
      ],
      "source": [
        "#os.chdir('/content/opt/cocoapi')\n",
        "os.chdir(save_path+'cocoapi')\n",
        "\"\"\"\n",
        "\n",
        "train2014 = 'http://images.cocodataset.org/zips/train2014.zip'\n",
        "test2014 = 'http://images.cocodataset.org/zips/test2014.zip'\n",
        "val2014 = 'http://images.cocodataset.org/zips/val2014.zip'\n",
        "\n",
        "#urllib.request.urlretrieve( train2014 , 'train2014' )\n",
        "urllib.request.urlretrieve( test2014 , 'test2014' )\n",
        "urllib.request.urlretrieve( val2014 , 'val2014' )\n",
        "\"\"\""
      ]
    },
    {
      "cell_type": "code",
      "execution_count": null,
      "metadata": {
        "colab": {
          "base_uri": "https://localhost:8080/",
          "height": 35
        },
        "id": "_uimcKgc5kS_",
        "outputId": "14808b74-cd8e-439b-a54a-3a59ff9298fe"
      },
      "outputs": [
        {
          "data": {
            "application/vnd.google.colaboratory.intrinsic+json": {
              "type": "string"
            },
            "text/plain": [
              "\"\\n\\nwith zipfile.ZipFile( 'val2014' , 'r' ) as zip_ref:\\n  zip_ref.extractall( 'images' )\\n\\ntry:\\n  os.remove( 'val2014' )\\n  print('zip removed')\\nexcept:\\n  None\\n\""
            ]
          },
          "execution_count": 17,
          "metadata": {},
          "output_type": "execute_result"
        }
      ],
      "source": [
        "#os.chdir('/content/opt/cocoapi')\n",
        "os.chdir(save_path+'cocoapi')\n",
        "\"\"\"\n",
        "\n",
        "with zipfile.ZipFile( 'val2014' , 'r' ) as zip_ref:\n",
        "  zip_ref.extractall( 'images' )\n",
        "\n",
        "try:\n",
        "  os.remove( 'val2014' )\n",
        "  print('zip removed')\n",
        "except:\n",
        "  None\n",
        "\"\"\"  "
      ]
    },
    {
      "cell_type": "markdown",
      "metadata": {
        "id": "A-lJ6fizZx23"
      },
      "source": [
        "unzip the download image zip files "
      ]
    },
    {
      "cell_type": "code",
      "execution_count": null,
      "metadata": {
        "colab": {
          "base_uri": "https://localhost:8080/",
          "height": 53
        },
        "id": "1QpNu1U8ZwvZ",
        "outputId": "cf20d17f-38d8-4805-96b2-70dc4d9a3c43"
      },
      "outputs": [
        {
          "data": {
            "application/vnd.google.colaboratory.intrinsic+json": {
              "type": "string"
            },
            "text/plain": [
              "\"\\n\\nos.chdir('/content/opt/cocoapi')\\nwith zipfile.ZipFile( 'train2014' , 'r' ) as zip_ref:\\n  zip_ref.extractall( 'images' )\\n\\ntry:\\n  os.remove( 'train2014' )\\n  print('zip removed')\\nexcept:\\n  None\\n\\n\\nos.chdir('/content/opt/cocoapi')\\nwith zipfile.ZipFile( 'test2014' , 'r' ) as zip_ref:\\n  zip_ref.extractall( 'images' )\\n\\ntry:\\n  os.remove( 'test2014' )\\n  print('zip removed')\\nexcept:\\n  None\\n  \\n\""
            ]
          },
          "execution_count": 18,
          "metadata": {},
          "output_type": "execute_result"
        }
      ],
      "source": [
        "\"\"\"\n",
        "\n",
        "os.chdir('/content/opt/cocoapi')\n",
        "with zipfile.ZipFile( 'train2014' , 'r' ) as zip_ref:\n",
        "  zip_ref.extractall( 'images' )\n",
        "\n",
        "try:\n",
        "  os.remove( 'train2014' )\n",
        "  print('zip removed')\n",
        "except:\n",
        "  None\n",
        "\n",
        "\n",
        "os.chdir('/content/opt/cocoapi')\n",
        "with zipfile.ZipFile( 'test2014' , 'r' ) as zip_ref:\n",
        "  zip_ref.extractall( 'images' )\n",
        "\n",
        "try:\n",
        "  os.remove( 'test2014' )\n",
        "  print('zip removed')\n",
        "except:\n",
        "  None\n",
        "  \n",
        "\"\"\""
      ]
    },
    {
      "cell_type": "markdown",
      "metadata": {
        "id": "E9fqDQO35KPG"
      },
      "source": [
        "## Step1 Explore the DataLoader"
      ]
    },
    {
      "cell_type": "markdown",
      "metadata": {
        "id": "qshOumBc2ZHY"
      },
      "source": [
        "### Vocabulary.py"
      ]
    },
    {
      "cell_type": "code",
      "execution_count": null,
      "metadata": {
        "id": "i7eAPTW12RNE"
      },
      "outputs": [],
      "source": [
        "# vocabulary.py -------------------------------------------------------------\n",
        "import nltk\n",
        "import pickle\n",
        "import os.path\n",
        "from pycocotools.coco import COCO\n",
        "from collections import Counter\n",
        "\n",
        "class Vocabulary(object):\n",
        "\n",
        "    def __init__(self,\n",
        "        vocab_threshold,\n",
        "        vocab_file='./vocab.pkl',\n",
        "        start_word=\"<start>\",\n",
        "        end_word=\"<end>\",\n",
        "        unk_word=\"<unk>\",\n",
        "        annotations_file='../cocoapi/annotations/captions_train2014.json',\n",
        "        vocab_from_file=False):\n",
        "        \"\"\"Initialize the vocabulary.\n",
        "        Args:\n",
        "          vocab_threshold: Minimum word count threshold.\n",
        "          vocab_file: File containing the vocabulary.\n",
        "          start_word: Special word denoting sentence start.\n",
        "          end_word: Special word denoting sentence end.\n",
        "          unk_word: Special word denoting unknown words.\n",
        "          annotations_file: Path for train annotation file.\n",
        "          vocab_from_file: If False, create vocab from scratch & override any existing vocab_file\n",
        "                           If True, load vocab from from existing vocab_file, if it exists\n",
        "        \"\"\"\n",
        "        self.vocab_threshold = vocab_threshold\n",
        "        self.vocab_file = vocab_file\n",
        "        self.start_word = start_word\n",
        "        self.end_word = end_word\n",
        "        self.unk_word = unk_word\n",
        "        self.annotations_file = annotations_file\n",
        "        self.vocab_from_file = vocab_from_file\n",
        "        self.get_vocab()\n",
        "\n",
        "    def get_vocab(self):\n",
        "        \"\"\"Load the vocabulary from file OR build the vocabulary from scratch.\"\"\"\n",
        "        if os.path.exists(self.vocab_file) & self.vocab_from_file:\n",
        "            with open(self.vocab_file, 'rb') as f:\n",
        "                vocab = pickle.load(f)\n",
        "                self.word2idx = vocab.word2idx\n",
        "                self.idx2word = vocab.idx2word\n",
        "            print('Vocabulary successfully loaded from vocab.pkl file!')\n",
        "        else:\n",
        "            self.build_vocab()\n",
        "            with open(self.vocab_file, 'wb') as f:\n",
        "                pickle.dump(self, f)\n",
        "        \n",
        "    def build_vocab(self):\n",
        "        \"\"\"Populate the dictionaries for converting tokens to integers (and vice-versa).\"\"\"\n",
        "        self.init_vocab()\n",
        "        self.add_word(self.start_word)\n",
        "        self.add_word(self.end_word)\n",
        "        self.add_word(self.unk_word)\n",
        "        self.add_captions()\n",
        "\n",
        "    def init_vocab(self):\n",
        "        \"\"\"Initialize the dictionaries for converting tokens to integers (and vice-versa).\"\"\"\n",
        "        self.word2idx = {}\n",
        "        self.idx2word = {}\n",
        "        self.idx = 0\n",
        "\n",
        "    def add_word(self, word):\n",
        "        \"\"\"Add a token to the vocabulary.\"\"\"\n",
        "        if not word in self.word2idx:\n",
        "            self.word2idx[word] = self.idx\n",
        "            self.idx2word[self.idx] = word\n",
        "            self.idx += 1\n",
        "\n",
        "    def add_captions(self):\n",
        "        \"\"\"Loop over training captions and add all tokens to the vocabulary that meet or exceed the threshold.\"\"\"\n",
        "        coco = COCO(self.annotations_file)\n",
        "        counter = Counter()\n",
        "        ids = coco.anns.keys()\n",
        "        for i, id in enumerate(ids):\n",
        "            caption = str(coco.anns[id]['caption'])\n",
        "            tokens = nltk.tokenize.word_tokenize(caption.lower())\n",
        "            counter.update(tokens)\n",
        "\n",
        "            if i % 100000 == 0:\n",
        "                print(\"[%d/%d] Tokenizing captions...\" % (i, len(ids)))\n",
        "\n",
        "        words = [word for word, cnt in counter.items() if cnt >= self.vocab_threshold]\n",
        "\n",
        "        for i, word in enumerate(words):\n",
        "            self.add_word(word)\n",
        "\n",
        "    def __call__(self, word):\n",
        "        if not word in self.word2idx:\n",
        "            return self.word2idx[self.unk_word]\n",
        "        return self.word2idx[word]\n",
        "\n",
        "    def __len__(self):\n",
        "        return len(self.word2idx)"
      ]
    },
    {
      "cell_type": "markdown",
      "metadata": {
        "id": "zFib3Yuq2D4i"
      },
      "source": [
        "### data_loader.py"
      ]
    },
    {
      "cell_type": "code",
      "execution_count": null,
      "metadata": {
        "id": "UiKijrXf72rw"
      },
      "outputs": [],
      "source": [
        "# Data Loader ---------------------------------------------------------------------------------------------\n",
        "\n",
        "import nltk\n",
        "import os\n",
        "import torch\n",
        "import torch.utils.data as data\n",
        "from PIL import Image\n",
        "from pycocotools.coco import COCO\n",
        "import numpy as np\n",
        "from tqdm import tqdm\n",
        "import random\n",
        "import json\n",
        "\n",
        "def get_loader(transform,\n",
        "               mode='val',\n",
        "               batch_size=1,\n",
        "               vocab_threshold=None,\n",
        "               vocab_file='./vocab.pkl',\n",
        "               start_word=\"<start>\",\n",
        "               end_word=\"<end>\",\n",
        "               unk_word=\"<unk>\",\n",
        "               vocab_from_file=True,\n",
        "               num_workers=0,\n",
        "               cocoapi_loc='/opt'):\n",
        "    \"\"\"Returns the data loader.\n",
        "    Args:\n",
        "      transform: Image transform.\n",
        "      mode: One of 'train' or 'test'.\n",
        "      batch_size: Batch size (if in testing mode, must have batch_size=1).\n",
        "      vocab_threshold: Minimum word count threshold.\n",
        "      vocab_file: File containing the vocabulary. \n",
        "      start_word: Special word denoting sentence start.\n",
        "      end_word: Special word denoting sentence end.\n",
        "      unk_word: Special word denoting unknown words.\n",
        "      vocab_from_file: If False, create vocab from scratch & override any existing vocab_file.\n",
        "                       If True, load vocab from from existing vocab_file, if it exists.\n",
        "      num_workers: Number of subprocesses to use for data loading \n",
        "      cocoapi_loc: The location of the folder containing the COCO API: https://github.com/cocodataset/cocoapi\n",
        "    \"\"\"\n",
        "    \n",
        "    assert mode in ['val', 'test'], \"mode must be one of 'train' or 'test'.\"\n",
        "    if vocab_from_file==False: assert mode=='val', \"To generate vocab from captions file, must be in training mode (mode='train').\"\n",
        "\n",
        "    # Based on mode (train, val, test), obtain img_folder and annotations_file.\n",
        "    if mode == 'train':\n",
        "        if vocab_from_file==True: assert os.path.exists(vocab_file), \"vocab_file does not exist.  Change vocab_from_file to False to create vocab_file.\"\n",
        "        img_folder = os.path.join(cocoapi_loc, 'cocoapi/images/train2014/')\n",
        "        annotations_file = os.path.join(cocoapi_loc, 'cocoapi/annotations/captions_train2014.json')\n",
        "\n",
        "    if mode == 'val':\n",
        "        if vocab_from_file==True: assert os.path.exists(vocab_file), \"vocab_file does not exist.  Change vocab_from_file to False to create vocab_file.\"\n",
        "        img_folder = os.path.join(cocoapi_loc, 'cocoapi/images/val2014/')\n",
        "        annotations_file = os.path.join(cocoapi_loc, 'cocoapi/annotations/captions_val2014.json')\n",
        "\n",
        "    if mode == 'test':\n",
        "        assert batch_size==1, \"Please change batch_size to 1 if testing your model.\"\n",
        "        assert os.path.exists(vocab_file), \"Must first generate vocab.pkl from training data.\"\n",
        "        assert vocab_from_file==True, \"Change vocab_from_file to True.\"\n",
        "        img_folder = os.path.join(cocoapi_loc, 'cocoapi/images/test2014/')\n",
        "        annotations_file = os.path.join(cocoapi_loc, 'cocoapi/annotations/image_info_test2014.json')\n",
        "\n",
        "    # COCO caption dataset.\n",
        "    dataset = CoCoDataset(transform=transform,\n",
        "                          mode=mode,\n",
        "                          batch_size=batch_size,\n",
        "                          vocab_threshold=vocab_threshold,\n",
        "                          vocab_file=vocab_file,\n",
        "                          start_word=start_word,\n",
        "                          end_word=end_word,\n",
        "                          unk_word=unk_word,\n",
        "                          annotations_file=annotations_file,\n",
        "                          vocab_from_file=vocab_from_file,\n",
        "                          img_folder=img_folder)\n",
        "\n",
        "    if mode == 'val':\n",
        "        # Randomly sample a caption length, and sample indices with that length.\n",
        "        indices = dataset.get_train_indices()\n",
        "        # Create and assign a batch sampler to retrieve a batch with the sampled indices.\n",
        "        initial_sampler = data.sampler.SubsetRandomSampler(indices=indices)\n",
        "        # data loader for COCO dataset.\n",
        "        data_loader = data.DataLoader(dataset=dataset, \n",
        "                                      num_workers=num_workers,\n",
        "                                      batch_sampler=data.sampler.BatchSampler(sampler=initial_sampler,\n",
        "                                                                              batch_size=dataset.batch_size,\n",
        "                                                                              drop_last=False))\n",
        "    else:\n",
        "        data_loader = data.DataLoader(dataset=dataset,\n",
        "                                      batch_size=dataset.batch_size,\n",
        "                                      shuffle=True,\n",
        "                                      num_workers=num_workers)\n",
        "\n",
        "    return data_loader\n",
        "\n",
        "class CoCoDataset(data.Dataset):\n",
        "    \n",
        "    def __init__(self, transform, mode, batch_size, vocab_threshold, vocab_file, start_word, \n",
        "        end_word, unk_word, annotations_file, vocab_from_file, img_folder):\n",
        "        self.transform = transform\n",
        "        self.mode = mode\n",
        "        self.batch_size = batch_size\n",
        "        self.vocab = Vocabulary(vocab_threshold, vocab_file, start_word,\n",
        "            end_word, unk_word, annotations_file, vocab_from_file)\n",
        "        self.img_folder = img_folder\n",
        "        if self.mode == 'val':            \n",
        "            self.coco = COCO(annotations_file)\n",
        "            self.ids = list(self.coco.anns.keys())\n",
        "            print('Obtaining caption lengths...')\n",
        "            all_tokens = [nltk.tokenize.word_tokenize(str(self.coco.anns[self.ids[index]]['caption']).lower()) for index in tqdm(np.arange(len(self.ids)))]\n",
        "            self.caption_lengths = [len(token) for token in all_tokens]\n",
        "        else:\n",
        "            test_info = json.loads(open(annotations_file).read())\n",
        "            self.paths = [item['file_name'] for item in test_info['images']]\n",
        "        \n",
        "    def __getitem__(self, index):\n",
        "        # obtain image and caption if in training mode\n",
        "        if self.mode == 'val':\n",
        "            ann_id = self.ids[index]\n",
        "            caption = self.coco.anns[ann_id]['caption']\n",
        "            img_id = self.coco.anns[ann_id]['image_id']\n",
        "            path = self.coco.loadImgs(img_id)[0]['file_name']\n",
        "\n",
        "            # Convert image to tensor and pre-process using transform\n",
        "            image = Image.open(os.path.join(self.img_folder, path)).convert('RGB')\n",
        "            image = self.transform(image)\n",
        "\n",
        "            # Convert caption to tensor of word ids.\n",
        "            tokens = nltk.tokenize.word_tokenize(str(caption).lower())\n",
        "            caption = []\n",
        "            caption.append(self.vocab(self.vocab.start_word))\n",
        "            caption.extend([self.vocab(token) for token in tokens])\n",
        "            caption.append(self.vocab(self.vocab.end_word))\n",
        "            caption = torch.Tensor(caption).long()\n",
        "\n",
        "            # return pre-processed image and caption tensors\n",
        "            return image, caption\n",
        "\n",
        "        # obtain image if in test mode\n",
        "        else:\n",
        "            path = self.paths[index]\n",
        "\n",
        "            # Convert image to tensor and pre-process using transform\n",
        "            PIL_image = Image.open(os.path.join(self.img_folder, path)).convert('RGB')\n",
        "            orig_image = np.array(PIL_image)\n",
        "            image = self.transform(PIL_image)\n",
        "\n",
        "            # return original image and pre-processed image tensor\n",
        "            return orig_image, image\n",
        "\n",
        "    def get_train_indices(self):\n",
        "        sel_length = np.random.choice(self.caption_lengths)\n",
        "        all_indices = np.where([self.caption_lengths[i] == sel_length for i in np.arange(len(self.caption_lengths))])[0]\n",
        "        indices = list(np.random.choice(all_indices, size=self.batch_size))\n",
        "        return indices\n",
        "\n",
        "    def __len__(self):\n",
        "        if self.mode == 'val':\n",
        "            return len(self.ids)\n",
        "        else:\n",
        "            return len(self.paths)"
      ]
    },
    {
      "cell_type": "markdown",
      "metadata": {
        "id": "Z6yai64F2y6T"
      },
      "source": [
        "### Dataloader creation"
      ]
    },
    {
      "cell_type": "markdown",
      "metadata": {
        "id": "J1MLLtOZ2Ik4"
      },
      "source": [
        "Beacuse the train data set is to big we use the validation data set as train\n",
        "\n"
      ]
    },
    {
      "cell_type": "code",
      "execution_count": null,
      "metadata": {
        "colab": {
          "base_uri": "https://localhost:8080/"
        },
        "id": "A8bGuKAz16XV",
        "outputId": "58f315ca-7b13-4ed7-dda5-be2107bf36e0"
      },
      "outputs": [
        {
          "name": "stdout",
          "output_type": "stream",
          "text": [
            "Looking in indexes: https://pypi.org/simple, https://us-python.pkg.dev/colab-wheels/public/simple/\n",
            "Requirement already satisfied: nltk in /usr/local/lib/python3.7/dist-packages (3.7)\n",
            "Requirement already satisfied: tqdm in /usr/local/lib/python3.7/dist-packages (from nltk) (4.64.0)\n",
            "Requirement already satisfied: joblib in /usr/local/lib/python3.7/dist-packages (from nltk) (1.1.0)\n",
            "Requirement already satisfied: click in /usr/local/lib/python3.7/dist-packages (from nltk) (7.1.2)\n",
            "Requirement already satisfied: regex>=2021.8.3 in /usr/local/lib/python3.7/dist-packages (from nltk) (2022.6.2)\n"
          ]
        },
        {
          "name": "stderr",
          "output_type": "stream",
          "text": [
            "[nltk_data] Downloading package punkt to /root/nltk_data...\n",
            "[nltk_data]   Unzipping tokenizers/punkt.zip.\n"
          ]
        },
        {
          "name": "stdout",
          "output_type": "stream",
          "text": [
            "loading annotations into memory...\n",
            "Done (t=0.31s)\n",
            "creating index...\n",
            "index created!\n",
            "[0/202654] Tokenizing captions...\n",
            "[100000/202654] Tokenizing captions...\n",
            "[200000/202654] Tokenizing captions...\n",
            "loading annotations into memory...\n",
            "Done (t=0.31s)\n",
            "creating index...\n",
            "index created!\n",
            "Obtaining caption lengths...\n"
          ]
        },
        {
          "name": "stderr",
          "output_type": "stream",
          "text": [
            "100%|██████████| 202654/202654 [00:19<00:00, 10303.48it/s]\n"
          ]
        }
      ],
      "source": [
        "import sys\n",
        "from pycocotools.coco import COCO\n",
        "!pip install nltk\n",
        "import nltk\n",
        "nltk.download('punkt')\n",
        "from torchvision import transforms\n",
        "\n",
        "\n",
        "# Define a transform to pre-process the training images.\n",
        "transform_train = transforms.Compose([ \n",
        "    transforms.Resize(256),                          # smaller edge of image resized to 256\n",
        "    transforms.RandomCrop(224),                      # get 224x224 crop from random location\n",
        "    transforms.RandomHorizontalFlip(),               # horizontally flip image with probability=0.5\n",
        "    transforms.ToTensor(),                           # convert the PIL Image to a tensor\n",
        "    transforms.Normalize((0.485, 0.456, 0.406),      # normalize image for pre-trained model\n",
        "                         (0.229, 0.224, 0.225))])\n",
        "\n",
        "# Set the minimum word count threshold.\n",
        "vocab_threshold = 8\n",
        "\n",
        "\n",
        "\n",
        "\n",
        "# Specify the batch size.\n",
        "batch_size = 50\n",
        "\n",
        "#train\n",
        "# Obtain the data loader.\n",
        "data_loader_train = get_loader(transform=transform_train,\n",
        "                         mode='val',\n",
        "                         batch_size=batch_size,\n",
        "                         vocab_threshold=vocab_threshold,\n",
        "                         vocab_from_file=False,\n",
        "                         cocoapi_loc = save_path)#'/content/opt'"
      ]
    },
    {
      "cell_type": "code",
      "execution_count": null,
      "metadata": {
        "id": "kn-1LmQKRI5G"
      },
      "outputs": [],
      "source": [
        "import torch \n",
        "import numpy as np \n",
        "import torch.utils.data as data"
      ]
    },
    {
      "cell_type": "code",
      "execution_count": null,
      "metadata": {
        "colab": {
          "base_uri": "https://localhost:8080/"
        },
        "id": "j1dH_gRXKxGE",
        "outputId": "4f03c2c8-be65-4e7d-bea5-90ab5331e1e7"
      },
      "outputs": [
        {
          "name": "stdout",
          "output_type": "stream",
          "text": [
            "Find Below the Sample tokens and the idx values of those tokens in word2idx \n",
            "\n",
            "['<start>', 'a', 'person', 'doing', 'a', 'trick', 'xxxx', 'on', 'a', 'rail', 'while', 'riding', 'a', 'skateboard', '.', '<end>']\n",
            "tensor([  0,   3, 173, 548,   3, 776,   2,  53,   3, 723, 301, 126,   3, 175,\n",
            "         12,   1])\n",
            "Find index values for words below \n",
            "\n",
            "Start idx 0 , End idx 1 , unknown idx 2\n"
          ]
        }
      ],
      "source": [
        "# Exploring the dataloader now :\n",
        "\n",
        "\n",
        "sample_caption = 'A person doing a trick xxxx on a rail while riding a skateboard.'\n",
        "sample_tokens = nltk.tokenize.word_tokenize( sample_caption.lower() )\n",
        "\n",
        "sample_caption = []\n",
        "start_word  = data_loader_train.dataset.vocab.start_word\n",
        "end_word = data_loader_train.dataset.vocab.end_word\n",
        "sample_tokens.insert(0 , start_word)\n",
        "sample_tokens.append(end_word)\n",
        "sample_caption.extend( [ data_loader_train.dataset.vocab(token) for token in sample_tokens ] )\n",
        "\n",
        "\n",
        "sample_caption = torch.Tensor( sample_caption ).long()\n",
        "print('Find Below the Sample tokens and the idx values of those tokens in word2idx' , '\\n')\n",
        "print(sample_tokens) \n",
        "print(sample_caption )\n",
        "\n",
        "print('Find index values for words below \\n')\n",
        "print('Start idx {} , End idx {} , unknown idx {}'.format( 0,1,2 ))"
      ]
    },
    {
      "cell_type": "code",
      "execution_count": null,
      "metadata": {
        "colab": {
          "base_uri": "https://localhost:8080/"
        },
        "id": "g8OaFH9VMCmB",
        "outputId": "d7c11501-a34a-4348-edba-372ad49b19c0"
      },
      "outputs": [
        {
          "name": "stdout",
          "output_type": "stream",
          "text": [
            "First few vocab {'<start>': 0, '<end>': 1, '<unk>': 2, 'a': 3, 'bicycle': 4, 'replica': 5, 'with': 6, 'clock': 7, 'as': 8, 'the': 9}\n",
            "Total number of tokens in vocabulary: 5134\n"
          ]
        }
      ],
      "source": [
        "# Lets check word2idx in vocb \n",
        "print('First few vocab' , dict(list(data_loader_train.dataset.vocab.word2idx.items())[:10]))\n",
        "# Print the total number of keys in the word2idx dictionary.\n",
        "print('Total number of tokens in vocabulary:', len(data_loader_train.dataset.vocab))"
      ]
    },
    {
      "cell_type": "markdown",
      "metadata": {
        "id": "uyxU5wWTPwtw"
      },
      "source": [
        "<a id='step2'></a>\n",
        "## Step 2: Use the Data Loader to Obtain Batches\n",
        "\n",
        "  "
      ]
    },
    {
      "cell_type": "code",
      "execution_count": null,
      "metadata": {
        "colab": {
          "base_uri": "https://localhost:8080/"
        },
        "id": "T6HUbDqQPMyw",
        "outputId": "202d2d8d-712e-4594-f123-66268b7e1ac5"
      },
      "outputs": [
        {
          "name": "stdout",
          "output_type": "stream",
          "text": [
            "value 10  count 42260\n",
            "value 11  count 39344\n",
            "value  9  count 34992\n",
            "value 12  count 28139\n",
            "value 13  count 18330\n",
            "value 14  count 10975\n",
            "value  8  count 10209\n",
            "value 15  count  6471\n"
          ]
        }
      ],
      "source": [
        "from collections import Counter\n",
        "counter = Counter(data_loader_train.dataset.caption_lengths)\n",
        "lengths = sorted( counter.items() , key = lambda pair : pair[1] , reverse=True )\n",
        "for val,count in lengths:\n",
        "  print( 'value %2d  count %5d' %(val,count) )\n",
        "  if count < 10000: \n",
        "    break"
      ]
    },
    {
      "cell_type": "code",
      "execution_count": null,
      "metadata": {
        "colab": {
          "base_uri": "https://localhost:8080/"
        },
        "id": "fRdnJ-eip_jL",
        "outputId": "968b558a-5edf-4d9c-9c07-9a25f6071ea6"
      },
      "outputs": [
        {
          "name": "stdout",
          "output_type": "stream",
          "text": [
            "Sample Indices: [14396, 122732, 152802, 157698, 153473, 130921, 138519, 165485, 136650, 171864, 186268, 127061, 24715, 184439, 52600, 27769, 137867, 194237, 42219, 173713, 47137, 196983, 106917, 173762, 190102, 67648, 57456, 20208, 147283, 164488, 182479, 184695, 24901, 65061, 122439, 191609, 54652, 133494, 157875, 70374, 90125, 78803, 182329, 132416, 54059, 69669, 34998, 65736, 196656, 83264]\n"
          ]
        }
      ],
      "source": [
        "os.chdir(save_path+'cocoapi')\n",
        "# Randomly sample a caption length, and sample indices with that length.\n",
        "indices = data_loader_train.dataset.get_train_indices()\n",
        "print('Sample Indices:' , indices )\n",
        "\n",
        "# Create and assign a batch sampler to retrieve a batch with the sampled indices.\n",
        "sampler = data.sampler.SubsetRandomSampler(  indices )\n",
        "data_loader_train.batch_sampler.sampler = sampler \n"
      ]
    },
    {
      "cell_type": "code",
      "execution_count": null,
      "metadata": {
        "colab": {
          "base_uri": "https://localhost:8080/",
          "height": 35
        },
        "id": "3nFKzoZEudYr",
        "outputId": "277fdf9b-49c1-4c77-ab4a-da8b6a19436f"
      },
      "outputs": [
        {
          "data": {
            "application/vnd.google.colaboratory.intrinsic+json": {
              "type": "string"
            },
            "text/plain": [
              "'/content/drive/MyDrive/IA025/image_captioning/COCO/opt/cocoapi'"
            ]
          },
          "execution_count": 28,
          "metadata": {},
          "output_type": "execute_result"
        }
      ],
      "source": [
        "%pwd"
      ]
    },
    {
      "cell_type": "code",
      "execution_count": null,
      "metadata": {
        "colab": {
          "base_uri": "https://localhost:8080/"
        },
        "id": "PiHApUEyp7WE",
        "outputId": "606047c2-e49f-4d92-b66a-d3be77ec73e6"
      },
      "outputs": [
        {
          "name": "stdout",
          "output_type": "stream",
          "text": [
            "torch.Size([50, 3, 224, 224]) torch.Size([50, 16])\n"
          ]
        }
      ],
      "source": [
        "os.chdir(save_path+'cocoapi/images/val2014/')\n",
        "# obtain images, caption :\n",
        "images , captions = next(iter(data_loader_train))\n",
        "print(images.shape , captions.shape)\n"
      ]
    },
    {
      "cell_type": "code",
      "execution_count": null,
      "metadata": {
        "id": "_1OGOv1eNJBm"
      },
      "outputs": [],
      "source": [
        "import torch\n",
        "import torch.nn as nn\n",
        "import torchvision.models as models"
      ]
    },
    {
      "cell_type": "markdown",
      "metadata": {
        "id": "abIAGs8H5Gd6"
      },
      "source": [
        "## USE CNN stridep 16, "
      ]
    },
    {
      "cell_type": "code",
      "execution_count": null,
      "metadata": {
        "id": "JCUgvGZ8Q-xm",
        "colab": {
          "base_uri": "https://localhost:8080/"
        },
        "outputId": "16d44f74-1933-4303-88a3-5b34358644c7"
      },
      "outputs": [
        {
          "output_type": "stream",
          "name": "stdout",
          "text": [
            "Looking in indexes: https://pypi.org/simple, https://us-python.pkg.dev/colab-wheels/public/simple/\n",
            "Collecting efficientnet_pytorch\n",
            "  Downloading efficientnet_pytorch-0.7.1.tar.gz (21 kB)\n",
            "Requirement already satisfied: torch in /usr/local/lib/python3.7/dist-packages (from efficientnet_pytorch) (1.11.0+cu113)\n",
            "Requirement already satisfied: typing-extensions in /usr/local/lib/python3.7/dist-packages (from torch->efficientnet_pytorch) (4.1.1)\n",
            "Building wheels for collected packages: efficientnet-pytorch\n",
            "  Building wheel for efficientnet-pytorch (setup.py) ... \u001b[?25l\u001b[?25hdone\n",
            "  Created wheel for efficientnet-pytorch: filename=efficientnet_pytorch-0.7.1-py3-none-any.whl size=16446 sha256=c71b1edb353574bec7f52cac8c40c5259d86df028ce79d0a7f49a6aec0d7da87\n",
            "  Stored in directory: /root/.cache/pip/wheels/0e/cc/b2/49e74588263573ff778da58cc99b9c6349b496636a7e165be6\n",
            "Successfully built efficientnet-pytorch\n",
            "Installing collected packages: efficientnet-pytorch\n",
            "Successfully installed efficientnet-pytorch-0.7.1\n"
          ]
        }
      ],
      "source": [
        "!pip install efficientnet_pytorch"
      ]
    },
    {
      "cell_type": "code",
      "execution_count": null,
      "metadata": {
        "colab": {
          "base_uri": "https://localhost:8080/"
        },
        "id": "CZm0YLm0FjTr",
        "outputId": "0e973f99-640c-4997-c435-ddb9b71d6661"
      },
      "outputs": [
        {
          "name": "stdout",
          "output_type": "stream",
          "text": [
            "Looking in indexes: https://pypi.org/simple, https://us-python.pkg.dev/colab-wheels/public/simple/\n",
            "Collecting timm\n",
            "  Downloading timm-0.5.4-py3-none-any.whl (431 kB)\n",
            "\u001b[K     |████████████████████████████████| 431 kB 15.9 MB/s \n",
            "\u001b[?25hRequirement already satisfied: torch>=1.4 in /usr/local/lib/python3.7/dist-packages (from timm) (1.11.0+cu113)\n",
            "Requirement already satisfied: torchvision in /usr/local/lib/python3.7/dist-packages (from timm) (0.12.0+cu113)\n",
            "Requirement already satisfied: typing-extensions in /usr/local/lib/python3.7/dist-packages (from torch>=1.4->timm) (4.1.1)\n",
            "Requirement already satisfied: numpy in /usr/local/lib/python3.7/dist-packages (from torchvision->timm) (1.21.6)\n",
            "Requirement already satisfied: requests in /usr/local/lib/python3.7/dist-packages (from torchvision->timm) (2.23.0)\n",
            "Requirement already satisfied: pillow!=8.3.*,>=5.3.0 in /usr/local/lib/python3.7/dist-packages (from torchvision->timm) (7.1.2)\n",
            "Requirement already satisfied: chardet<4,>=3.0.2 in /usr/local/lib/python3.7/dist-packages (from requests->torchvision->timm) (3.0.4)\n",
            "Requirement already satisfied: certifi>=2017.4.17 in /usr/local/lib/python3.7/dist-packages (from requests->torchvision->timm) (2022.6.15)\n",
            "Requirement already satisfied: idna<3,>=2.5 in /usr/local/lib/python3.7/dist-packages (from requests->torchvision->timm) (2.10)\n",
            "Requirement already satisfied: urllib3!=1.25.0,!=1.25.1,<1.26,>=1.21.1 in /usr/local/lib/python3.7/dist-packages (from requests->torchvision->timm) (1.24.3)\n",
            "Installing collected packages: timm\n",
            "Successfully installed timm-0.5.4\n"
          ]
        }
      ],
      "source": [
        "!pip install timm"
      ]
    },
    {
      "cell_type": "code",
      "execution_count": null,
      "metadata": {
        "id": "7xGzrNgfRFhI"
      },
      "outputs": [],
      "source": [
        "import torchvision.models as models\n"
      ]
    },
    {
      "cell_type": "code",
      "execution_count": null,
      "metadata": {
        "id": "yuqmvtzYFkJ9"
      },
      "outputs": [],
      "source": [
        "from timm import create_model\n",
        "from efficientnet_pytorch import EfficientNet"
      ]
    },
    {
      "cell_type": "markdown",
      "metadata": {
        "id": "PoObGC7PAuS5"
      },
      "source": [
        "##implementation of encoders\n",
        "\n"
      ]
    },
    {
      "cell_type": "code",
      "execution_count": null,
      "metadata": {
        "id": "0FP08uWxAFj0"
      },
      "outputs": [],
      "source": [
        "class EncoderCNN1(nn.Module):\n",
        "    # SimpleEncoder\n",
        "    def __init__(self, embed_size):\n",
        "        super(EncoderCNN1, self).__init__()\n",
        "        EfficientNet=create_model('efficientnet_b3a', pretrained=True)\n",
        "        for param in EfficientNet.parameters():\n",
        "            param.requires_grad_(False)\n",
        "        \n",
        "        modules = list(EfficientNet.children())[:-1]\n",
        "        self.resnet = nn.Sequential(*modules)\n",
        "        self.embed = nn.Linear(EfficientNet.fc.in_features, embed_size)\n",
        "\n",
        "    def forward(self, images):\n",
        "        features = self.resnet(images)        \n",
        "        features = features.view(features.size(0), -1)        \n",
        "        features = self.embed(features)        \n",
        "        return features"
      ]
    },
    {
      "cell_type": "code",
      "execution_count": null,
      "metadata": {
        "id": "KTPshxZ-NsLA"
      },
      "outputs": [],
      "source": [
        "import torch\n",
        "import torch.nn as nn\n",
        "import torchvision.models as models\n",
        "\n",
        "class EncoderCNN2(nn.Module):\n",
        "    def __init__(self, embed_size):\n",
        "        super(EncoderCNN, self).__init__()\n",
        "        resnet = models.resnet50(pretrained=True)\n",
        "        for param in resnet.parameters():\n",
        "            param.requires_grad_(False)\n",
        "        \n",
        "        modules = list(resnet.children())[:-1]\n",
        "        self.resnet = nn.Sequential(*modules)\n",
        "        self.embed = nn.Linear(resnet.fc.in_features, embed_size)\n",
        "\n",
        "    def forward(self, images):\n",
        "        features = self.resnet(images)        \n",
        "        features = features.view(features.size(0), -1)        \n",
        "        features = self.embed(features)        \n",
        "        return features"
      ]
    },
    {
      "cell_type": "code",
      "execution_count": null,
      "metadata": {
        "id": "wt-RKMHeSSrt"
      },
      "outputs": [],
      "source": [
        "class EncoderCNN(nn.Module):\n",
        "    def __init__(self, embed_size):\n",
        "        super(EncoderCNN, self).__init__()\n",
        "        self.f=8#factor internal emb\n",
        "        self.ks=16# kernel_size choose a pair\n",
        "        self.conv = nn.Conv2d(3, self.f, kernel_size=self.ks,  stride=self.ks)#,  dilation=1padding=0,bias=False,\n",
        "        self.f2=(224//self.ks)**2\n",
        "        self.embed= nn.Linear(self.f*self.f2, embed_size)\n",
        "\n",
        "    def forward(self, images):\n",
        "        features1 = self.conv(images)\n",
        "        #print('images.shape',images.shape)\n",
        "        #print('* features1.shape',features1.shape)        \n",
        "        features1 = features1.view(features1.size(0), -1)   \n",
        "        #print('+ features2.shape',features1.shape)        \n",
        "        features1 = self.embed(features1)\n",
        "        #print('# features3.shape',features1.shape) \n",
        "        return features1"
      ]
    },
    {
      "cell_type": "code",
      "execution_count": null,
      "metadata": {
        "colab": {
          "base_uri": "https://localhost:8080/"
        },
        "id": "Q_7WcFWWf4fR",
        "outputId": "926f74e0-d7fc-4cc5-f0d6-a249cd48a848"
      },
      "outputs": [
        {
          "name": "stdout",
          "output_type": "stream",
          "text": [
            "<class 'torch.Tensor'> torch.Size([50, 256]) torch.Size([50, 3, 224, 224])\n"
          ]
        }
      ],
      "source": [
        "# specify dim of image embedding\n",
        "device =  torch.device('cuda' if torch.cuda.is_available() else 'cpu')\n",
        "embed_size = 256 \n",
        "encoder = EncoderCNN( embed_size )\n",
        "encoder.to(device)\n",
        "images=  images.to(device) # images from step2 \n",
        "features = encoder(images)\n",
        "\n",
        "print(type(features) , features.shape , images.shape)\n",
        "assert( type(features) == torch.Tensor )  , 'Encoder output should be pytorch tensor'\n",
        "assert (features.shape[0] == batch_size) & (features.shape[1] == embed_size) , \"The shape of the encoder output is incorrect.\""
      ]
    },
    {
      "cell_type": "code",
      "execution_count": null,
      "metadata": {
        "id": "ul7mcWkoNvxJ"
      },
      "outputs": [],
      "source": [
        "import os \n",
        "import torch.utils.data as data \n",
        "import torch \n",
        "import math\n",
        "import pickle\n",
        "import matplotlib.pyplot as plt \n",
        "% matplotlib inline"
      ]
    },
    {
      "cell_type": "code",
      "execution_count": null,
      "metadata": {
        "id": "lWkmI-rVOvEr"
      },
      "outputs": [],
      "source": [
        "from typing import List\n",
        "import torch.nn.functional as F"
      ]
    },
    {
      "cell_type": "markdown",
      "metadata": {
        "id": "wIHg0KaEIAoK"
      },
      "source": [
        "## Model CNN+T5 (encoder+decoder)"
      ]
    },
    {
      "cell_type": "code",
      "execution_count": null,
      "metadata": {
        "id": "fnbyPJbJ9CZb"
      },
      "outputs": [],
      "source": [
        "class CNNT5(torch.nn.Module):\n",
        "    def __init__(self, tokenizer, pretrained_model,max_seq_length=32, image_size =224, patch_size=16, n_channels = 3, embed_size = 512):\n",
        "        \"\"\"\n",
        "        Implements the CNN + T5 (encoder and decoder).\"\n",
        "        Args:            tokenizer: tokenizer used for encoding and decoding\n",
        "        \"\"\"\n",
        "        super(CNNT5, self).__init__()\n",
        "\n",
        "        self.max_seq_length = max_seq_length\n",
        "        self.image_size = image_size\n",
        "        self.nc = n_channels\n",
        "        self.embed_size = embed_size\n",
        "        self.patch_cnn = nn.Conv2d(self.nc, self.embed_size, kernel_size=patch_size, stride=patch_size)\n",
        "        self.f=(image_size[0]//patch_size)**2\n",
        "        self.w_embeddings = nn.Embedding(self.f, self.embed_size)\n",
        "\n",
        "        self.pad_token_id = tokenizer.pad_token_id\n",
        "        self.eos_token_id = tokenizer.eos_token_id\n",
        "        self.decoder_t5 = T5ForConditionalGeneration.from_pretrained(pretrained_model)\n",
        "        self.decoder_t5.config.eos_token_id = tokenizer.eos_token_id\n",
        "        self.decoder_t5.config.pad_token_id = tokenizer.pad_token_id\n",
        "        self.decoder_start_token_id = self.decoder_t5.config.decoder_start_token_id\n",
        "\n",
        "    def encoder(self, images):\n",
        "        #print('------ENCODER-------')\n",
        "        #print('images.shape',images.shape)\n",
        "        out = self.patch_cnn(images)\n",
        "        #print('out0.shape',out.shape)\n",
        "        out = out.permute(0, 2, 3, 1) \n",
        "        #print('out1.shape',out.shape)\n",
        "        out  = out .reshape(out.shape[0], -1, self.embed_size)\n",
        "        #print('out2.shape',out.shape)\n",
        "        out+=self.w_embeddings.weight\n",
        "        #print('out3.shape',out.shape)\n",
        "        return out\n",
        "\n",
        "    def forward(self, images = None, targets = None, decoder_ids = None):\n",
        "        #print('++++++DECODER+++++++')\n",
        "        features = self.encoder(images)\n",
        "        #print('features.shape',features.shape)\n",
        "        # condition from Larissa\n",
        "        if decoder_ids is not None:\n",
        "            out = self.decoder_t5(inputs_embeds=features, decoder_input_ids=decoder_ids)\n",
        "        else:\n",
        "            out = self.decoder_t5(inputs_embeds=features, labels=targets)\n",
        "        #print('out.shape',out.shape)\n",
        "        #print('')\n",
        "        #print('')\n",
        "        return out"
      ]
    },
    {
      "cell_type": "markdown",
      "source": [
        "### Choose a pretained model of T5"
      ],
      "metadata": {
        "id": "0PfVRqjbcarw"
      }
    },
    {
      "cell_type": "code",
      "source": [
        "embed_size = 256\n",
        "hidden_size = 100\n",
        "num_layers =1 \n",
        "num_epochs = 1#4\n",
        "print_every = 100\n",
        "save_every = 25 \n",
        "vocab_size = len(data_loader_train.dataset.vocab)\n",
        "total_step = math.ceil( len(data_loader_train.dataset.caption_lengths) / data_loader_train.batch_sampler.batch_size   )"
      ],
      "metadata": {
        "id": "K09vpi4yKwng"
      },
      "execution_count": null,
      "outputs": []
    },
    {
      "cell_type": "code",
      "execution_count": null,
      "metadata": {
        "id": "Gt2lQ9Wlb88I"
      },
      "outputs": [],
      "source": [
        "model = CNNT5(tokenizer,'t5-small')\n",
        "#tokenizer_base = T5Tokenizer.from_pretrained('t5-base') \n",
        "#tokenizer_large = T5Tokenizer.from_pretrained('t5-large')\n",
        "#tokenizer_3b = T5Tokenizer.from_pretrained('t5-3b')\n",
        "#tokenizer_11b = T5Tokenizer.from_pretrained('t5-11b')\n",
        "#model_v1_1 = T5ForConditionalGeneration.from_pretrained('google/t5-v1_1-base', return_dict=True)\n",
        "\"\"\"\n",
        "T5v1.1 is an improved version of T5 with some architectural tweaks, and is pre-trained on C4 only without mixing in the supervised tasks\n",
        "\"\"\"\n",
        "#model_byt5 = T5ForConditionalGeneration.from_pretrained('google/byt5-small', return_dict=True)\n",
        "\"\"\"\n",
        "byT5 is a T5 model pre-trained on byte sequences rather than SentencePiece subword token sequences.\n",
        "\"\"\""
      ]
    },
    {
      "cell_type": "code",
      "source": [
        "criterion = nn.CrossEntropyLoss()\n",
        "lr = 0.001\n",
        "all_params = list(model.parameters())  + list( encoder.embed.parameters() )\n",
        "optimizer = torch.optim.Adam( params  = all_params , lr = lr  )\n",
        "device =  torch.device('cuda' if torch.cuda.is_available() else 'cpu')"
      ],
      "metadata": {
        "id": "IK40zPAKK1t-"
      },
      "execution_count": null,
      "outputs": []
    },
    {
      "cell_type": "code",
      "execution_count": null,
      "metadata": {
        "id": "fPt3ixPLwIN8"
      },
      "outputs": [],
      "source": [
        "model_save_path = '/content/drive/My Drive/Colab Notebooks/ComputerVision/CNN_T5/image_caption/CVND---Image-Captioning-Project/checkpoint'\n",
        "os.makedirs( model_save_path , exist_ok=True)\n",
        "# Save the params needed to created the model :\n",
        "model_input_params = {'embed_size' : embed_size , \n",
        "                'hidden_size' : hidden_size , \n",
        "                'num_layers' : num_layers,\n",
        "                'lr' : lr ,\n",
        "                'vocab_size' : vocab_size\n",
        "                }\n",
        "\n",
        "with open(  os.path.join(model_save_path , 'model_input_params_05_07_2022.pickle'), 'wb') as handle:\n",
        "    pickle.dump(model_input_params, handle, protocol=pickle.HIGHEST_PROTOCOL)"
      ]
    },
    {
      "cell_type": "code",
      "execution_count": null,
      "metadata": {
        "colab": {
          "base_uri": "https://localhost:8080/"
        },
        "id": "DqHGpo2DC09A",
        "outputId": "843abcac-d73c-489b-eb60-b5d432e19b58"
      },
      "outputs": [
        {
          "name": "stdout",
          "output_type": "stream",
          "text": [
            "Looking in indexes: https://pypi.org/simple, https://us-python.pkg.dev/colab-wheels/public/simple/\n",
            "Requirement already satisfied: sacrebleu in /usr/local/lib/python3.7/dist-packages (2.1.0)\n",
            "Requirement already satisfied: colorama in /usr/local/lib/python3.7/dist-packages (from sacrebleu) (0.4.5)\n",
            "Requirement already satisfied: tabulate>=0.8.9 in /usr/local/lib/python3.7/dist-packages (from sacrebleu) (0.8.9)\n",
            "Requirement already satisfied: portalocker in /usr/local/lib/python3.7/dist-packages (from sacrebleu) (2.4.0)\n",
            "Requirement already satisfied: regex in /usr/local/lib/python3.7/dist-packages (from sacrebleu) (2022.6.2)\n",
            "Requirement already satisfied: numpy>=1.17 in /usr/local/lib/python3.7/dist-packages (from sacrebleu) (1.21.6)\n"
          ]
        }
      ],
      "source": [
        "!pip install sacrebleu"
      ]
    },
    {
      "cell_type": "code",
      "execution_count": null,
      "metadata": {
        "id": "iy1bWlp4ChqO"
      },
      "outputs": [],
      "source": [
        "from sacrebleu.metrics import BLEU \n",
        "import pandas as pd\n",
        "bleu = BLEU()\n",
        "bleu_score = []\n",
        "losses_training = []\n",
        "val_bleu_1=[]\n",
        "val_bleu_4=[]\n",
        "Epochs=[]\n",
        "steps=[]\n",
        "save_path = '/content/drive/My Drive/Colab Notebooks/ComputerVision/CNNT5/image_caption/'"
      ]
    },
    {
      "cell_type": "code",
      "execution_count": null,
      "metadata": {
        "colab": {
          "background_save": true,
          "base_uri": "https://localhost:8080/"
        },
        "id": "XRP1LVcoBAsv",
        "outputId": "d23e46ce-c8d9-4eba-f057-dd368bfb0ea5"
      },
      "outputs": [
        {
          "metadata": {
            "tags": null
          },
          "name": "stdout",
          "output_type": "stream",
          "text": [
            "Epochs [1/1] Step [0/4054] Loss [9.6557] bleu [1.7762] bleu_1 [13.7255] bleu_4 [0.5952]\n",
            "Epochs [1/1] Step [100/4054] Loss [4.7851] bleu [0.1977] bleu_1 [12.5214] bleu_4 [0.0268]\n",
            "Epochs [1/1] Step [200/4054] Loss [4.4629] bleu [0.2507] bleu_1 [9.6939] bleu_4 [0.0402]\n",
            "Epochs [1/1] Step [300/4054] Loss [3.7093] bleu [0.1967] bleu_1 [9.0385] bleu_4 [0.0295]\n",
            "Epochs [1/1] Step [400/4054] Loss [3.9141] bleu [0.2957] bleu_1 [9.3548] bleu_4 [0.0506]\n",
            "Epochs [1/1] Step [500/4054] Loss [3.7123] bleu [0.2516] bleu_1 [7.8804] bleu_4 [0.0436]\n",
            "Epochs [1/1] Step [600/4054] Loss [3.3803] bleu [0.1574] bleu_1 [8.7977] bleu_4 [0.0219]\n",
            "Epochs [1/1] Step [700/4054] Loss [3.5537] bleu [0.2614] bleu_1 [9.7297] bleu_4 [0.0424]\n",
            "Epochs [1/1] Step [800/4054] Loss [3.2282] bleu [0.2091] bleu_1 [10.2410] bleu_4 [0.0306]\n",
            "Epochs [1/1] Step [900/4054] Loss [3.8747] bleu [0.1199] bleu_1 [8.5864] bleu_4 [0.0152]\n",
            "Epochs [1/1] Step [1000/4054] Loss [3.3176] bleu [0.1262] bleu_1 [7.5846] bleu_4 [0.0170]\n"
          ]
        }
      ],
      "source": [
        "import sys \n",
        "for e in range(num_epochs):\n",
        "  for step in range(total_step):\n",
        "    indices = data_loader_train.dataset.get_train_indices()\n",
        "    new_sampler = data.sampler.SubsetRandomSampler( indices )\n",
        "    data_loader_train.batch_sampler.sampler = new_sampler    \n",
        "    images,captions = next(iter(data_loader_train))    \n",
        "    images , captions = images.to(device) , captions.to(device)\n",
        "    #encoder , decoder = encoder.to(device) , decoder.to(device)\n",
        "    model = model.to(device)\n",
        "\n",
        "    #encoder.zero_grad()    \n",
        "    #decoder.zero_grad()\n",
        "    model.zero_grad()\n",
        "\n",
        "    #features = encoder(images)\n",
        "    #output = decoder( features , captions ) \n",
        "    output = model (images , captions )\n",
        "\n",
        "    logits = output.logits\n",
        "    train_preds = torch.argmax(logits, dim=-1)\n",
        "    preds_sentences = tokenizer.batch_decode(train_preds,  skip_special_tokens=False) #returns a list\n",
        "\n",
        "    labels = captions.clone()\n",
        "    text=tokenizer.batch_decode(labels,  skip_special_tokens=False)\n",
        "    bleu_result = bleu.corpus_score(preds_sentences, text)\n",
        "    bleu_score.append(bleu_result.score)\n",
        "\n",
        "    #print(\"val_bleu_score\", bleu_result.score)\n",
        "    #print(\"val_bleu_1\", bleu_result.precisions[0])\n",
        "    #print(\"val_bleu_4\", bleu_result.precisions[3])\n",
        "    val_bleu_1.append(bleu_result.precisions[0])\n",
        "    val_bleu_4.append(bleu_result.precisions[3])\n",
        "\n",
        "    loss = output.loss\n",
        "    loss.backward()\n",
        "    optimizer.step()\n",
        "    losses_training.append(loss.item()) \n",
        "\n",
        "    #loss = criterion( output.view(-1, vocab_size) , captions.view(-1) )\n",
        "    #loss.backward()\n",
        "    #optimizer.step()\n",
        "    Epochs.append( e+1) \n",
        "    steps.append(step) \n",
        "    stat_vals = 'Epochs [%d/%d] Step [%d/%d] Loss [%.4f] bleu [%.4f] bleu_1 [%.4f] bleu_4 [%.4f]' %( e+1,num_epochs,step,total_step,losses_training[-1],bleu_score[-1],val_bleu_1[-1],val_bleu_4[-1] )\n",
        "    if step % print_every == 0 :\n",
        "      print(stat_vals)\n",
        "      sys.stdout.flush()\n",
        "    if e % save_every == 0:\n",
        "      torch.save( model.state_dict() ,  os.path.join( model_save_path , 'modeldata_{}.pkl'.format(e+1) ) )\n",
        "      data = {'Epochs':Epochs,\n",
        "              'num_epochs':[num_epochs for k in range(len(steps))] ,\n",
        "              'step':steps,\n",
        "              '[total_step':[total_step for k in range(len(losses_training))],\n",
        "              'losses':losses_training,\n",
        "              'bleu_score':bleu_score,\n",
        "              'bleu1':val_bleu_1,\n",
        "              'bleu4':val_bleu_4}\n",
        "      #load data into a DataFrame object:\n",
        "      df_metrics = pd.DataFrame(data)\n",
        "      df_metrics.to_csv(save_path+'DF_metrics_experimets1.csv',index=False)\n",
        "\n"
      ]
    },
    {
      "cell_type": "code",
      "source": [
        "import os\n",
        "\n",
        "save_path = '/content/drive/My Drive/Colab Notebooks/ComputerVision/CNN_T5/image_caption/'\n",
        "\n",
        "os.chdir( save_path )\n"
      ],
      "metadata": {
        "id": "nsJ_PV0pJxsw"
      },
      "execution_count": null,
      "outputs": []
    },
    {
      "cell_type": "code",
      "source": [
        "import pandas as pd\n",
        "df = pd.read_csv(save_path+'DF_metrics_experimets1.csv')\n",
        "df.head()"
      ],
      "metadata": {
        "colab": {
          "base_uri": "https://localhost:8080/",
          "height": 206
        },
        "id": "Orvj-J2WI0Ro",
        "outputId": "519e1f8f-0a87-4b47-cdc0-a54d1e55fdac"
      },
      "execution_count": null,
      "outputs": [
        {
          "output_type": "execute_result",
          "data": {
            "text/plain": [
              "   Step  total_step    Loss    bleu   bleu_1  bleu_4\n",
              "0     0        4054  9.6557  1.7762  13.7255  0.5952\n",
              "1   100        4054  4.7851  0.1977  12.5214  0.0268\n",
              "2   200        4054  4.4629  0.2507   9.6939  0.0402\n",
              "3   300        4054  3.7093  0.1967   9.0385  0.0295\n",
              "4   400        4054  3.9141  0.2957   9.3548  0.0506"
            ],
            "text/html": [
              "\n",
              "  <div id=\"df-2d99a06b-d3f9-417f-8301-b1986900cae9\">\n",
              "    <div class=\"colab-df-container\">\n",
              "      <div>\n",
              "<style scoped>\n",
              "    .dataframe tbody tr th:only-of-type {\n",
              "        vertical-align: middle;\n",
              "    }\n",
              "\n",
              "    .dataframe tbody tr th {\n",
              "        vertical-align: top;\n",
              "    }\n",
              "\n",
              "    .dataframe thead th {\n",
              "        text-align: right;\n",
              "    }\n",
              "</style>\n",
              "<table border=\"1\" class=\"dataframe\">\n",
              "  <thead>\n",
              "    <tr style=\"text-align: right;\">\n",
              "      <th></th>\n",
              "      <th>Step</th>\n",
              "      <th>total_step</th>\n",
              "      <th>Loss</th>\n",
              "      <th>bleu</th>\n",
              "      <th>bleu_1</th>\n",
              "      <th>bleu_4</th>\n",
              "    </tr>\n",
              "  </thead>\n",
              "  <tbody>\n",
              "    <tr>\n",
              "      <th>0</th>\n",
              "      <td>0</td>\n",
              "      <td>4054</td>\n",
              "      <td>9.6557</td>\n",
              "      <td>1.7762</td>\n",
              "      <td>13.7255</td>\n",
              "      <td>0.5952</td>\n",
              "    </tr>\n",
              "    <tr>\n",
              "      <th>1</th>\n",
              "      <td>100</td>\n",
              "      <td>4054</td>\n",
              "      <td>4.7851</td>\n",
              "      <td>0.1977</td>\n",
              "      <td>12.5214</td>\n",
              "      <td>0.0268</td>\n",
              "    </tr>\n",
              "    <tr>\n",
              "      <th>2</th>\n",
              "      <td>200</td>\n",
              "      <td>4054</td>\n",
              "      <td>4.4629</td>\n",
              "      <td>0.2507</td>\n",
              "      <td>9.6939</td>\n",
              "      <td>0.0402</td>\n",
              "    </tr>\n",
              "    <tr>\n",
              "      <th>3</th>\n",
              "      <td>300</td>\n",
              "      <td>4054</td>\n",
              "      <td>3.7093</td>\n",
              "      <td>0.1967</td>\n",
              "      <td>9.0385</td>\n",
              "      <td>0.0295</td>\n",
              "    </tr>\n",
              "    <tr>\n",
              "      <th>4</th>\n",
              "      <td>400</td>\n",
              "      <td>4054</td>\n",
              "      <td>3.9141</td>\n",
              "      <td>0.2957</td>\n",
              "      <td>9.3548</td>\n",
              "      <td>0.0506</td>\n",
              "    </tr>\n",
              "  </tbody>\n",
              "</table>\n",
              "</div>\n",
              "      <button class=\"colab-df-convert\" onclick=\"convertToInteractive('df-2d99a06b-d3f9-417f-8301-b1986900cae9')\"\n",
              "              title=\"Convert this dataframe to an interactive table.\"\n",
              "              style=\"display:none;\">\n",
              "        \n",
              "  <svg xmlns=\"http://www.w3.org/2000/svg\" height=\"24px\"viewBox=\"0 0 24 24\"\n",
              "       width=\"24px\">\n",
              "    <path d=\"M0 0h24v24H0V0z\" fill=\"none\"/>\n",
              "    <path d=\"M18.56 5.44l.94 2.06.94-2.06 2.06-.94-2.06-.94-.94-2.06-.94 2.06-2.06.94zm-11 1L8.5 8.5l.94-2.06 2.06-.94-2.06-.94L8.5 2.5l-.94 2.06-2.06.94zm10 10l.94 2.06.94-2.06 2.06-.94-2.06-.94-.94-2.06-.94 2.06-2.06.94z\"/><path d=\"M17.41 7.96l-1.37-1.37c-.4-.4-.92-.59-1.43-.59-.52 0-1.04.2-1.43.59L10.3 9.45l-7.72 7.72c-.78.78-.78 2.05 0 2.83L4 21.41c.39.39.9.59 1.41.59.51 0 1.02-.2 1.41-.59l7.78-7.78 2.81-2.81c.8-.78.8-2.07 0-2.86zM5.41 20L4 18.59l7.72-7.72 1.47 1.35L5.41 20z\"/>\n",
              "  </svg>\n",
              "      </button>\n",
              "      \n",
              "  <style>\n",
              "    .colab-df-container {\n",
              "      display:flex;\n",
              "      flex-wrap:wrap;\n",
              "      gap: 12px;\n",
              "    }\n",
              "\n",
              "    .colab-df-convert {\n",
              "      background-color: #E8F0FE;\n",
              "      border: none;\n",
              "      border-radius: 50%;\n",
              "      cursor: pointer;\n",
              "      display: none;\n",
              "      fill: #1967D2;\n",
              "      height: 32px;\n",
              "      padding: 0 0 0 0;\n",
              "      width: 32px;\n",
              "    }\n",
              "\n",
              "    .colab-df-convert:hover {\n",
              "      background-color: #E2EBFA;\n",
              "      box-shadow: 0px 1px 2px rgba(60, 64, 67, 0.3), 0px 1px 3px 1px rgba(60, 64, 67, 0.15);\n",
              "      fill: #174EA6;\n",
              "    }\n",
              "\n",
              "    [theme=dark] .colab-df-convert {\n",
              "      background-color: #3B4455;\n",
              "      fill: #D2E3FC;\n",
              "    }\n",
              "\n",
              "    [theme=dark] .colab-df-convert:hover {\n",
              "      background-color: #434B5C;\n",
              "      box-shadow: 0px 1px 3px 1px rgba(0, 0, 0, 0.15);\n",
              "      filter: drop-shadow(0px 1px 2px rgba(0, 0, 0, 0.3));\n",
              "      fill: #FFFFFF;\n",
              "    }\n",
              "  </style>\n",
              "\n",
              "      <script>\n",
              "        const buttonEl =\n",
              "          document.querySelector('#df-2d99a06b-d3f9-417f-8301-b1986900cae9 button.colab-df-convert');\n",
              "        buttonEl.style.display =\n",
              "          google.colab.kernel.accessAllowed ? 'block' : 'none';\n",
              "\n",
              "        async function convertToInteractive(key) {\n",
              "          const element = document.querySelector('#df-2d99a06b-d3f9-417f-8301-b1986900cae9');\n",
              "          const dataTable =\n",
              "            await google.colab.kernel.invokeFunction('convertToInteractive',\n",
              "                                                     [key], {});\n",
              "          if (!dataTable) return;\n",
              "\n",
              "          const docLinkHtml = 'Like what you see? Visit the ' +\n",
              "            '<a target=\"_blank\" href=https://colab.research.google.com/notebooks/data_table.ipynb>data table notebook</a>'\n",
              "            + ' to learn more about interactive tables.';\n",
              "          element.innerHTML = '';\n",
              "          dataTable['output_type'] = 'display_data';\n",
              "          await google.colab.output.renderOutput(dataTable, element);\n",
              "          const docLink = document.createElement('div');\n",
              "          docLink.innerHTML = docLinkHtml;\n",
              "          element.appendChild(docLink);\n",
              "        }\n",
              "      </script>\n",
              "    </div>\n",
              "  </div>\n",
              "  "
            ]
          },
          "metadata": {},
          "execution_count": 3
        }
      ]
    },
    {
      "cell_type": "code",
      "source": [
        "import matplotlib.pyplot as plt\n",
        "import numpy as np\n",
        "from matplotlib.pyplot import figure\n",
        "\n",
        "figure(figsize=(12, 6), dpi=80)\n",
        "x=df['Step']\n",
        "Loss=df['Loss']\n",
        "bleu=df['bleu']\n",
        "bleu1=df['bleu_1']\n",
        "bleu4=df['bleu_4']\n",
        "max(x)\n",
        "\n",
        "plt.plot(x, Loss, \"r*-\", label='Loss', linewidth=1) # red line\n",
        "plt.plot(x, bleu, 'go-', label='bleu score', linewidth=1) \n",
        "plt.plot(x, bleu1, 'bd-', label='bleu 1', linewidth=1) \n",
        "plt.plot(x, bleu4, 'cs-', label='bleu 4', linewidth=1) \n",
        "leg = plt.legend(loc='best', ncol=4, mode=\"expand\", shadow=True, fancybox=True)\n",
        "leg.get_frame().set_alpha(0.5)\n",
        "plt.xlabel('steps')\n",
        "plt.xticks(np.arange(0, max(x)+100, 250))\n",
        "plt.ylabel('metric value')\n",
        "plt.title('Metrics of 1 experiment')\n",
        "plt.show()"
      ],
      "metadata": {
        "colab": {
          "base_uri": "https://localhost:8080/",
          "height": 444
        },
        "id": "abixT5OeYxzL",
        "outputId": "7e4b51dc-e98f-4c0e-910b-4ce8599e1cbc"
      },
      "execution_count": null,
      "outputs": [
        {
          "output_type": "display_data",
          "data": {
            "text/plain": [
              "<Figure size 960x480 with 1 Axes>"
            ],
            "image/png": "[encoded data removed]"
          },
          "metadata": {
            "needs_background": "light"
          }
        }
      ]
    },
    {
      "cell_type": "markdown",
      "metadata": {
        "id": "6q4CCgWF5xAz"
      },
      "source": [
        "Load the saved checkpoint "
      ]
    },
    {
      "cell_type": "code",
      "execution_count": null,
      "metadata": {
        "id": "PmfVe7pcCiYv"
      },
      "outputs": [],
      "source": [
        "model_save_path = '/content/drive/My Drive/Colab Notebooks/ComputerVision/CNNT5/image_caption/CVND---Image-Captioning-Project/checkpoint/'\n",
        "os.makedirs( model_save_path , exist_ok=True)\n",
        "\n",
        "device =  torch.device('cuda' if torch.cuda.is_available() else 'cpu')\n",
        "\n",
        "with open(  os.path.join(model_save_path , 'model_input_params_05_07_2022.pickle'), 'rb') as handle:\n",
        "    decoder_input_params = pickle.load(handle)\n",
        "\n",
        "embed_size = decoder_input_params['embed_size']\n",
        "hidden_size= decoder_input_params['hidden_size']\n",
        "vocab_size = decoder_input_params['vocab_size']\n",
        "num_layers = decoder_input_params['num_layers']\n",
        "\n",
        "model = CNNT5( embed_size , hidden_size , vocab_size , num_layers )\n",
        "model.load_state_dict( torch.load(   os.path.join( model_save_path , 'modeldata_{}.pkl'.format(1) )   ) )"
      ]
    },
    {
      "cell_type": "markdown",
      "metadata": {
        "id": "QeUg7D9D6Dnm"
      },
      "source": [
        "Create Dataloader for test data :"
      ]
    },
    {
      "cell_type": "code",
      "execution_count": null,
      "metadata": {
        "id": "s6BkposiQXEI"
      },
      "outputs": [],
      "source": [
        "from torchvision import transforms\n",
        "\n",
        "# Define a transform to pre-process the training images.\n",
        "transform_test = transforms.Compose([ \n",
        "    transforms.Resize(256),                          # smaller edge of image resized to 256\n",
        "    transforms.RandomCrop(224),                      # get 224x224 crop from random location\n",
        "    transforms.RandomHorizontalFlip(),               # horizontally flip image with probability=0.5\n",
        "    transforms.ToTensor(),                           # convert the PIL Image to a tensor\n",
        "    transforms.Normalize((0.485, 0.456, 0.406),      # normalize image for pre-trained model\n",
        "                         (0.229, 0.224, 0.225))])\n",
        "\n",
        "# Obtain the data loader.test\n",
        "data_loader_test = get_loader(transform=transform_test,\n",
        "                         mode='test',                         \n",
        "                         cocoapi_loc = save_path)#'/content/opt'\n",
        "\n",
        "data_iter = iter(data_loader_test)"
      ]
    },
    {
      "cell_type": "code",
      "execution_count": null,
      "metadata": {
        "id": "RXQ2rzJYz4J6"
      },
      "outputs": [],
      "source": [
        "def get_sentences( original_img, all_predictions ):\n",
        "  sentence = ' '\n",
        "  plt.imshow(original_img.squeeze())\n",
        "  return sentence.join([data_loader_test.dataset.vocab.idx2word[idx] for idx in all_predictions[1:-1] ]  )"
      ]
    },
    {
      "cell_type": "code",
      "execution_count": null,
      "metadata": {
        "id": "jC32FE_T_K0p"
      },
      "outputs": [],
      "source": [
        "model.to(device)\n",
        "model.eval()\n",
        "original_img , processed_img  = next( data_iter )\n",
        "\n",
        "features  = encoder(processed_img.to(device)   ).unsqueeze(1)\n",
        "final_output = model.Predict( features  , max_len=20)\n",
        "get_sentences(original_img, final_output)"
      ]
    }
  ],
  "metadata": {
    "accelerator": "GPU",
    "colab": {
      "collapsed_sections": [],
      "machine_shape": "hm",
      "name": "IA02_delivery_2_part2_CNNT5_Image_Captioning.ipynb",
      "provenance": [],
      "include_colab_link": true
    },
    "gpuClass": "standard",
    "kernelspec": {
      "display_name": "Python 3",
      "name": "python3"
    },
    "widgets": {
      "application/vnd.jupyter.widget-state+json": {
        "1a2f4b211fb044e58207a8f458938eae": {
          "model_module": "@jupyter-widgets/controls",
          "model_module_version": "1.5.0",
          "model_name": "HTMLModel",
          "state": {
            "_dom_classes": [],
            "_model_module": "@jupyter-widgets/controls",
            "_model_module_version": "1.5.0",
            "_model_name": "HTMLModel",
            "_view_count": null,
            "_view_module": "@jupyter-widgets/controls",
            "_view_module_version": "1.5.0",
            "_view_name": "HTMLView",
            "description": "",
            "description_tooltip": null,
            "layout": "IPY_MODEL_c15433e546a3471fa81e48d13de1f132",
            "placeholder": "​",
            "style": "IPY_MODEL_7a34b3408e864bd788b40c8afeebb360",
            "value": " 1.17k/1.17k [00:00&lt;00:00, 44.0kB/s]"
          }
        },
        "2160d18a48514362b6576dfa49bcd471": {
          "model_module": "@jupyter-widgets/controls",
          "model_module_version": "1.5.0",
          "model_name": "HTMLModel",
          "state": {
            "_dom_classes": [],
            "_model_module": "@jupyter-widgets/controls",
            "_model_module_version": "1.5.0",
            "_model_name": "HTMLModel",
            "_view_count": null,
            "_view_module": "@jupyter-widgets/controls",
            "_view_module_version": "1.5.0",
            "_view_name": "HTMLView",
            "description": "",
            "description_tooltip": null,
            "layout": "IPY_MODEL_b5667075cd39419c8ae0a06a66b7dccb",
            "placeholder": "​",
            "style": "IPY_MODEL_8572ff4b3787421db96c23dac083dc87",
            "value": " 773k/773k [00:00&lt;00:00, 1.94MB/s]"
          }
        },
        "26c29ac0e5b448719adaeb16e35f9e05": {
          "model_module": "@jupyter-widgets/base",
          "model_module_version": "1.2.0",
          "model_name": "LayoutModel",
          "state": {
            "_model_module": "@jupyter-widgets/base",
            "_model_module_version": "1.2.0",
            "_model_name": "LayoutModel",
            "_view_count": null,
            "_view_module": "@jupyter-widgets/base",
            "_view_module_version": "1.2.0",
            "_view_name": "LayoutView",
            "align_content": null,
            "align_items": null,
            "align_self": null,
            "border": null,
            "bottom": null,
            "display": null,
            "flex": null,
            "flex_flow": null,
            "grid_area": null,
            "grid_auto_columns": null,
            "grid_auto_flow": null,
            "grid_auto_rows": null,
            "grid_column": null,
            "grid_gap": null,
            "grid_row": null,
            "grid_template_areas": null,
            "grid_template_columns": null,
            "grid_template_rows": null,
            "height": null,
            "justify_content": null,
            "justify_items": null,
            "left": null,
            "margin": null,
            "max_height": null,
            "max_width": null,
            "min_height": null,
            "min_width": null,
            "object_fit": null,
            "object_position": null,
            "order": null,
            "overflow": null,
            "overflow_x": null,
            "overflow_y": null,
            "padding": null,
            "right": null,
            "top": null,
            "visibility": null,
            "width": null
          }
        },
        "2afab5a4275241ccad7a4bcfc613eaae": {
          "model_module": "@jupyter-widgets/base",
          "model_module_version": "1.2.0",
          "model_name": "LayoutModel",
          "state": {
            "_model_module": "@jupyter-widgets/base",
            "_model_module_version": "1.2.0",
            "_model_name": "LayoutModel",
            "_view_count": null,
            "_view_module": "@jupyter-widgets/base",
            "_view_module_version": "1.2.0",
            "_view_name": "LayoutView",
            "align_content": null,
            "align_items": null,
            "align_self": null,
            "border": null,
            "bottom": null,
            "display": null,
            "flex": null,
            "flex_flow": null,
            "grid_area": null,
            "grid_auto_columns": null,
            "grid_auto_flow": null,
            "grid_auto_rows": null,
            "grid_column": null,
            "grid_gap": null,
            "grid_row": null,
            "grid_template_areas": null,
            "grid_template_columns": null,
            "grid_template_rows": null,
            "height": null,
            "justify_content": null,
            "justify_items": null,
            "left": null,
            "margin": null,
            "max_height": null,
            "max_width": null,
            "min_height": null,
            "min_width": null,
            "object_fit": null,
            "object_position": null,
            "order": null,
            "overflow": null,
            "overflow_x": null,
            "overflow_y": null,
            "padding": null,
            "right": null,
            "top": null,
            "visibility": null,
            "width": null
          }
        },
        "304fbc2e3d5540d7beca93f127204c70": {
          "model_module": "@jupyter-widgets/controls",
          "model_module_version": "1.5.0",
          "model_name": "HTMLModel",
          "state": {
            "_dom_classes": [],
            "_model_module": "@jupyter-widgets/controls",
            "_model_module_version": "1.5.0",
            "_model_name": "HTMLModel",
            "_view_count": null,
            "_view_module": "@jupyter-widgets/controls",
            "_view_module_version": "1.5.0",
            "_view_name": "HTMLView",
            "description": "",
            "description_tooltip": null,
            "layout": "IPY_MODEL_26c29ac0e5b448719adaeb16e35f9e05",
            "placeholder": "​",
            "style": "IPY_MODEL_3ab50be8cd0647f7ac89f74050283f2b",
            "value": "Downloading: 100%"
          }
        },
        "35e9812f84fc4d6f8d736521233ffe93": {
          "model_module": "@jupyter-widgets/controls",
          "model_module_version": "1.5.0",
          "model_name": "FloatProgressModel",
          "state": {
            "_dom_classes": [],
            "_model_module": "@jupyter-widgets/controls",
            "_model_module_version": "1.5.0",
            "_model_name": "FloatProgressModel",
            "_view_count": null,
            "_view_module": "@jupyter-widgets/controls",
            "_view_module_version": "1.5.0",
            "_view_name": "ProgressView",
            "bar_style": "success",
            "description": "",
            "description_tooltip": null,
            "layout": "IPY_MODEL_72615e473b82491e942bd2ea5adfb85d",
            "max": 1197,
            "min": 0,
            "orientation": "horizontal",
            "style": "IPY_MODEL_ebb34f71cc014c068927f50562978fd7",
            "value": 1197
          }
        },
        "3ab50be8cd0647f7ac89f74050283f2b": {
          "model_module": "@jupyter-widgets/controls",
          "model_module_version": "1.5.0",
          "model_name": "DescriptionStyleModel",
          "state": {
            "_model_module": "@jupyter-widgets/controls",
            "_model_module_version": "1.5.0",
            "_model_name": "DescriptionStyleModel",
            "_view_count": null,
            "_view_module": "@jupyter-widgets/base",
            "_view_module_version": "1.2.0",
            "_view_name": "StyleView",
            "description_width": ""
          }
        },
        "448360fc460b485096df85d4a681f35a": {
          "model_module": "@jupyter-widgets/controls",
          "model_module_version": "1.5.0",
          "model_name": "DescriptionStyleModel",
          "state": {
            "_model_module": "@jupyter-widgets/controls",
            "_model_module_version": "1.5.0",
            "_model_name": "DescriptionStyleModel",
            "_view_count": null,
            "_view_module": "@jupyter-widgets/base",
            "_view_module_version": "1.2.0",
            "_view_name": "StyleView",
            "description_width": ""
          }
        },
        "46eb24806c75470590078dd0ceb6f05f": {
          "model_module": "@jupyter-widgets/base",
          "model_module_version": "1.2.0",
          "model_name": "LayoutModel",
          "state": {
            "_model_module": "@jupyter-widgets/base",
            "_model_module_version": "1.2.0",
            "_model_name": "LayoutModel",
            "_view_count": null,
            "_view_module": "@jupyter-widgets/base",
            "_view_module_version": "1.2.0",
            "_view_name": "LayoutView",
            "align_content": null,
            "align_items": null,
            "align_self": null,
            "border": null,
            "bottom": null,
            "display": null,
            "flex": null,
            "flex_flow": null,
            "grid_area": null,
            "grid_auto_columns": null,
            "grid_auto_flow": null,
            "grid_auto_rows": null,
            "grid_column": null,
            "grid_gap": null,
            "grid_row": null,
            "grid_template_areas": null,
            "grid_template_columns": null,
            "grid_template_rows": null,
            "height": null,
            "justify_content": null,
            "justify_items": null,
            "left": null,
            "margin": null,
            "max_height": null,
            "max_width": null,
            "min_height": null,
            "min_width": null,
            "object_fit": null,
            "object_position": null,
            "order": null,
            "overflow": null,
            "overflow_x": null,
            "overflow_y": null,
            "padding": null,
            "right": null,
            "top": null,
            "visibility": null,
            "width": null
          }
        },
        "477ac6e7fdcb4eafb2a7a9c4c5424e12": {
          "model_module": "@jupyter-widgets/controls",
          "model_module_version": "1.5.0",
          "model_name": "ProgressStyleModel",
          "state": {
            "_model_module": "@jupyter-widgets/controls",
            "_model_module_version": "1.5.0",
            "_model_name": "ProgressStyleModel",
            "_view_count": null,
            "_view_module": "@jupyter-widgets/base",
            "_view_module_version": "1.2.0",
            "_view_name": "StyleView",
            "bar_color": null,
            "description_width": ""
          }
        },
        "55871170e0b14cf486563e7b34f95d10": {
          "model_module": "@jupyter-widgets/base",
          "model_module_version": "1.2.0",
          "model_name": "LayoutModel",
          "state": {
            "_model_module": "@jupyter-widgets/base",
            "_model_module_version": "1.2.0",
            "_model_name": "LayoutModel",
            "_view_count": null,
            "_view_module": "@jupyter-widgets/base",
            "_view_module_version": "1.2.0",
            "_view_name": "LayoutView",
            "align_content": null,
            "align_items": null,
            "align_self": null,
            "border": null,
            "bottom": null,
            "display": null,
            "flex": null,
            "flex_flow": null,
            "grid_area": null,
            "grid_auto_columns": null,
            "grid_auto_flow": null,
            "grid_auto_rows": null,
            "grid_column": null,
            "grid_gap": null,
            "grid_row": null,
            "grid_template_areas": null,
            "grid_template_columns": null,
            "grid_template_rows": null,
            "height": null,
            "justify_content": null,
            "justify_items": null,
            "left": null,
            "margin": null,
            "max_height": null,
            "max_width": null,
            "min_height": null,
            "min_width": null,
            "object_fit": null,
            "object_position": null,
            "order": null,
            "overflow": null,
            "overflow_x": null,
            "overflow_y": null,
            "padding": null,
            "right": null,
            "top": null,
            "visibility": null,
            "width": null
          }
        },
        "64d7c4f9379d4252901428e1119a00a6": {
          "model_module": "@jupyter-widgets/controls",
          "model_module_version": "1.5.0",
          "model_name": "FloatProgressModel",
          "state": {
            "_dom_classes": [],
            "_model_module": "@jupyter-widgets/controls",
            "_model_module_version": "1.5.0",
            "_model_name": "FloatProgressModel",
            "_view_count": null,
            "_view_module": "@jupyter-widgets/controls",
            "_view_module_version": "1.5.0",
            "_view_name": "ProgressView",
            "bar_style": "success",
            "description": "",
            "description_tooltip": null,
            "layout": "IPY_MODEL_55871170e0b14cf486563e7b34f95d10",
            "max": 791656,
            "min": 0,
            "orientation": "horizontal",
            "style": "IPY_MODEL_477ac6e7fdcb4eafb2a7a9c4c5424e12",
            "value": 791656
          }
        },
        "72615e473b82491e942bd2ea5adfb85d": {
          "model_module": "@jupyter-widgets/base",
          "model_module_version": "1.2.0",
          "model_name": "LayoutModel",
          "state": {
            "_model_module": "@jupyter-widgets/base",
            "_model_module_version": "1.2.0",
            "_model_name": "LayoutModel",
            "_view_count": null,
            "_view_module": "@jupyter-widgets/base",
            "_view_module_version": "1.2.0",
            "_view_name": "LayoutView",
            "align_content": null,
            "align_items": null,
            "align_self": null,
            "border": null,
            "bottom": null,
            "display": null,
            "flex": null,
            "flex_flow": null,
            "grid_area": null,
            "grid_auto_columns": null,
            "grid_auto_flow": null,
            "grid_auto_rows": null,
            "grid_column": null,
            "grid_gap": null,
            "grid_row": null,
            "grid_template_areas": null,
            "grid_template_columns": null,
            "grid_template_rows": null,
            "height": null,
            "justify_content": null,
            "justify_items": null,
            "left": null,
            "margin": null,
            "max_height": null,
            "max_width": null,
            "min_height": null,
            "min_width": null,
            "object_fit": null,
            "object_position": null,
            "order": null,
            "overflow": null,
            "overflow_x": null,
            "overflow_y": null,
            "padding": null,
            "right": null,
            "top": null,
            "visibility": null,
            "width": null
          }
        },
        "7a34b3408e864bd788b40c8afeebb360": {
          "model_module": "@jupyter-widgets/controls",
          "model_module_version": "1.5.0",
          "model_name": "DescriptionStyleModel",
          "state": {
            "_model_module": "@jupyter-widgets/controls",
            "_model_module_version": "1.5.0",
            "_model_name": "DescriptionStyleModel",
            "_view_count": null,
            "_view_module": "@jupyter-widgets/base",
            "_view_module_version": "1.2.0",
            "_view_name": "StyleView",
            "description_width": ""
          }
        },
        "8572ff4b3787421db96c23dac083dc87": {
          "model_module": "@jupyter-widgets/controls",
          "model_module_version": "1.5.0",
          "model_name": "DescriptionStyleModel",
          "state": {
            "_model_module": "@jupyter-widgets/controls",
            "_model_module_version": "1.5.0",
            "_model_name": "DescriptionStyleModel",
            "_view_count": null,
            "_view_module": "@jupyter-widgets/base",
            "_view_module_version": "1.2.0",
            "_view_name": "StyleView",
            "description_width": ""
          }
        },
        "86508f4cfc8249c2bb90b8353bfd1a5e": {
          "model_module": "@jupyter-widgets/controls",
          "model_module_version": "1.5.0",
          "model_name": "HBoxModel",
          "state": {
            "_dom_classes": [],
            "_model_module": "@jupyter-widgets/controls",
            "_model_module_version": "1.5.0",
            "_model_name": "HBoxModel",
            "_view_count": null,
            "_view_module": "@jupyter-widgets/controls",
            "_view_module_version": "1.5.0",
            "_view_name": "HBoxView",
            "box_style": "",
            "children": [
              "IPY_MODEL_304fbc2e3d5540d7beca93f127204c70",
              "IPY_MODEL_64d7c4f9379d4252901428e1119a00a6",
              "IPY_MODEL_2160d18a48514362b6576dfa49bcd471"
            ],
            "layout": "IPY_MODEL_46eb24806c75470590078dd0ceb6f05f"
          }
        },
        "b5667075cd39419c8ae0a06a66b7dccb": {
          "model_module": "@jupyter-widgets/base",
          "model_module_version": "1.2.0",
          "model_name": "LayoutModel",
          "state": {
            "_model_module": "@jupyter-widgets/base",
            "_model_module_version": "1.2.0",
            "_model_name": "LayoutModel",
            "_view_count": null,
            "_view_module": "@jupyter-widgets/base",
            "_view_module_version": "1.2.0",
            "_view_name": "LayoutView",
            "align_content": null,
            "align_items": null,
            "align_self": null,
            "border": null,
            "bottom": null,
            "display": null,
            "flex": null,
            "flex_flow": null,
            "grid_area": null,
            "grid_auto_columns": null,
            "grid_auto_flow": null,
            "grid_auto_rows": null,
            "grid_column": null,
            "grid_gap": null,
            "grid_row": null,
            "grid_template_areas": null,
            "grid_template_columns": null,
            "grid_template_rows": null,
            "height": null,
            "justify_content": null,
            "justify_items": null,
            "left": null,
            "margin": null,
            "max_height": null,
            "max_width": null,
            "min_height": null,
            "min_width": null,
            "object_fit": null,
            "object_position": null,
            "order": null,
            "overflow": null,
            "overflow_x": null,
            "overflow_y": null,
            "padding": null,
            "right": null,
            "top": null,
            "visibility": null,
            "width": null
          }
        },
        "c15433e546a3471fa81e48d13de1f132": {
          "model_module": "@jupyter-widgets/base",
          "model_module_version": "1.2.0",
          "model_name": "LayoutModel",
          "state": {
            "_model_module": "@jupyter-widgets/base",
            "_model_module_version": "1.2.0",
            "_model_name": "LayoutModel",
            "_view_count": null,
            "_view_module": "@jupyter-widgets/base",
            "_view_module_version": "1.2.0",
            "_view_name": "LayoutView",
            "align_content": null,
            "align_items": null,
            "align_self": null,
            "border": null,
            "bottom": null,
            "display": null,
            "flex": null,
            "flex_flow": null,
            "grid_area": null,
            "grid_auto_columns": null,
            "grid_auto_flow": null,
            "grid_auto_rows": null,
            "grid_column": null,
            "grid_gap": null,
            "grid_row": null,
            "grid_template_areas": null,
            "grid_template_columns": null,
            "grid_template_rows": null,
            "height": null,
            "justify_content": null,
            "justify_items": null,
            "left": null,
            "margin": null,
            "max_height": null,
            "max_width": null,
            "min_height": null,
            "min_width": null,
            "object_fit": null,
            "object_position": null,
            "order": null,
            "overflow": null,
            "overflow_x": null,
            "overflow_y": null,
            "padding": null,
            "right": null,
            "top": null,
            "visibility": null,
            "width": null
          }
        },
        "d2cea8c8eb8b402fae7443e800b292a6": {
          "model_module": "@jupyter-widgets/base",
          "model_module_version": "1.2.0",
          "model_name": "LayoutModel",
          "state": {
            "_model_module": "@jupyter-widgets/base",
            "_model_module_version": "1.2.0",
            "_model_name": "LayoutModel",
            "_view_count": null,
            "_view_module": "@jupyter-widgets/base",
            "_view_module_version": "1.2.0",
            "_view_name": "LayoutView",
            "align_content": null,
            "align_items": null,
            "align_self": null,
            "border": null,
            "bottom": null,
            "display": null,
            "flex": null,
            "flex_flow": null,
            "grid_area": null,
            "grid_auto_columns": null,
            "grid_auto_flow": null,
            "grid_auto_rows": null,
            "grid_column": null,
            "grid_gap": null,
            "grid_row": null,
            "grid_template_areas": null,
            "grid_template_columns": null,
            "grid_template_rows": null,
            "height": null,
            "justify_content": null,
            "justify_items": null,
            "left": null,
            "margin": null,
            "max_height": null,
            "max_width": null,
            "min_height": null,
            "min_width": null,
            "object_fit": null,
            "object_position": null,
            "order": null,
            "overflow": null,
            "overflow_x": null,
            "overflow_y": null,
            "padding": null,
            "right": null,
            "top": null,
            "visibility": null,
            "width": null
          }
        },
        "d669f3e779794b08aceb2dbee4afc67d": {
          "model_module": "@jupyter-widgets/controls",
          "model_module_version": "1.5.0",
          "model_name": "HBoxModel",
          "state": {
            "_dom_classes": [],
            "_model_module": "@jupyter-widgets/controls",
            "_model_module_version": "1.5.0",
            "_model_name": "HBoxModel",
            "_view_count": null,
            "_view_module": "@jupyter-widgets/controls",
            "_view_module_version": "1.5.0",
            "_view_name": "HBoxView",
            "box_style": "",
            "children": [
              "IPY_MODEL_ea06060d0a844954a79426df58abd765",
              "IPY_MODEL_35e9812f84fc4d6f8d736521233ffe93",
              "IPY_MODEL_1a2f4b211fb044e58207a8f458938eae"
            ],
            "layout": "IPY_MODEL_2afab5a4275241ccad7a4bcfc613eaae"
          }
        },
        "ea06060d0a844954a79426df58abd765": {
          "model_module": "@jupyter-widgets/controls",
          "model_module_version": "1.5.0",
          "model_name": "HTMLModel",
          "state": {
            "_dom_classes": [],
            "_model_module": "@jupyter-widgets/controls",
            "_model_module_version": "1.5.0",
            "_model_name": "HTMLModel",
            "_view_count": null,
            "_view_module": "@jupyter-widgets/controls",
            "_view_module_version": "1.5.0",
            "_view_name": "HTMLView",
            "description": "",
            "description_tooltip": null,
            "layout": "IPY_MODEL_d2cea8c8eb8b402fae7443e800b292a6",
            "placeholder": "​",
            "style": "IPY_MODEL_448360fc460b485096df85d4a681f35a",
            "value": "Downloading: 100%"
          }
        },
        "ebb34f71cc014c068927f50562978fd7": {
          "model_module": "@jupyter-widgets/controls",
          "model_module_version": "1.5.0",
          "model_name": "ProgressStyleModel",
          "state": {
            "_model_module": "@jupyter-widgets/controls",
            "_model_module_version": "1.5.0",
            "_model_name": "ProgressStyleModel",
            "_view_count": null,
            "_view_module": "@jupyter-widgets/base",
            "_view_module_version": "1.2.0",
            "_view_name": "StyleView",
            "bar_color": null,
            "description_width": ""
          }
        }
      }
    }
  },
  "nbformat": 4,
  "nbformat_minor": 0
}