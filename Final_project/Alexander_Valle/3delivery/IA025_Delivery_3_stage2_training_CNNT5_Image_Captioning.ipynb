{
  "cells": [
    {
      "cell_type": "markdown",
      "metadata": {
        "id": "view-in-github",
        "colab_type": "text"
      },
      "source": [
        "<a href=\"https://colab.research.google.com/github/unicamp-dl/IA025_2022S1/blob/main/Final_project/Alexander_Valle/3delivery/IA025_Delivery_3_stage2_training_CNNT5_Image_Captioning.ipynb\" target=\"_parent\"><img src=\"https://colab.research.google.com/assets/colab-badge.svg\" alt=\"Open In Colab\"/></a>"
      ]
    },
    {
      "cell_type": "markdown",
      "metadata": {
        "id": "m-pgYnhqy2E3"
      },
      "source": [
        "#Notebook of imagen Camptioning using a CNN with a pretrained T5 model\n",
        "\n",
        "Alexander Valle Rey Sánchez RA230254\n",
        "\n",
        "note: the download and dataloader functions of COCO dataset are from\n",
        "\n",
        "https://colab.research.google.com/github/rammyram/image_captioning/blob/master/Image_Captioning.ipynb\n",
        "\n",
        "these note book is usde when allready the COCO dataset was donwload an unsiped in floder in the google drive. so before use this note book use the notebook \n",
        "download an unzip coco that is this link:\n",
        "\n",
        "https://github.com/unicamp-dl/IA025_2022S1/blob/main/Final_project/Alexander_Valle/2delivery/IA02_delivery_2_part1_COCO_downloading.ipynb"
      ]
    },
    {
      "cell_type": "code",
      "execution_count": null,
      "metadata": {
        "colab": {
          "base_uri": "https://localhost:8080/"
        },
        "id": "L0mg9Oqku4FY",
        "outputId": "b2aaf248-29a9-4d07-a359-5620233b915b"
      },
      "outputs": [
        {
          "output_type": "stream",
          "name": "stdout",
          "text": [
            "Drive already mounted at /content/drive; to attempt to forcibly remount, call drive.mount(\"/content/drive\", force_remount=True).\n"
          ]
        }
      ],
      "source": [
        "from google.colab import drive \n",
        "drive.mount('/content/drive')"
      ]
    },
    {
      "cell_type": "code",
      "execution_count": null,
      "metadata": {
        "colab": {
          "base_uri": "https://localhost:8080/"
        },
        "id": "jAMWGhgkuycT",
        "outputId": "5e20268c-b10c-4683-d12b-baf9fbd3eb0f"
      },
      "outputs": [
        {
          "output_type": "stream",
          "name": "stdout",
          "text": [
            "Looking in indexes: https://pypi.org/simple, https://us-python.pkg.dev/colab-wheels/public/simple/\n",
            "Collecting transformers==2.9.0\n",
            "  Using cached transformers-2.9.0-py3-none-any.whl (635 kB)\n",
            "Requirement already satisfied: requests in /usr/local/lib/python3.7/dist-packages (from transformers==2.9.0) (2.23.0)\n",
            "Requirement already satisfied: regex!=2019.12.17 in /usr/local/lib/python3.7/dist-packages (from transformers==2.9.0) (2022.6.2)\n",
            "Requirement already satisfied: tqdm>=4.27 in /usr/local/lib/python3.7/dist-packages (from transformers==2.9.0) (4.64.0)\n",
            "Requirement already satisfied: sentencepiece in /usr/local/lib/python3.7/dist-packages (from transformers==2.9.0) (0.1.96)\n",
            "Requirement already satisfied: sacremoses in /usr/local/lib/python3.7/dist-packages (from transformers==2.9.0) (0.0.53)\n",
            "Requirement already satisfied: filelock in /usr/local/lib/python3.7/dist-packages (from transformers==2.9.0) (3.7.1)\n",
            "Requirement already satisfied: numpy in /usr/local/lib/python3.7/dist-packages (from transformers==2.9.0) (1.21.6)\n",
            "Collecting tokenizers==0.7.0\n",
            "  Using cached tokenizers-0.7.0-cp37-cp37m-manylinux1_x86_64.whl (5.6 MB)\n",
            "Requirement already satisfied: urllib3!=1.25.0,!=1.25.1,<1.26,>=1.21.1 in /usr/local/lib/python3.7/dist-packages (from requests->transformers==2.9.0) (1.24.3)\n",
            "Requirement already satisfied: idna<3,>=2.5 in /usr/local/lib/python3.7/dist-packages (from requests->transformers==2.9.0) (2.10)\n",
            "Requirement already satisfied: chardet<4,>=3.0.2 in /usr/local/lib/python3.7/dist-packages (from requests->transformers==2.9.0) (3.0.4)\n",
            "Requirement already satisfied: certifi>=2017.4.17 in /usr/local/lib/python3.7/dist-packages (from requests->transformers==2.9.0) (2022.6.15)\n",
            "Requirement already satisfied: click in /usr/local/lib/python3.7/dist-packages (from sacremoses->transformers==2.9.0) (7.1.2)\n",
            "Requirement already satisfied: six in /usr/local/lib/python3.7/dist-packages (from sacremoses->transformers==2.9.0) (1.15.0)\n",
            "Requirement already satisfied: joblib in /usr/local/lib/python3.7/dist-packages (from sacremoses->transformers==2.9.0) (1.1.0)\n",
            "Installing collected packages: tokenizers, transformers\n",
            "  Attempting uninstall: tokenizers\n",
            "    Found existing installation: tokenizers 0.12.1\n",
            "    Uninstalling tokenizers-0.12.1:\n",
            "      Successfully uninstalled tokenizers-0.12.1\n",
            "  Attempting uninstall: transformers\n",
            "    Found existing installation: transformers 4.20.1\n",
            "    Uninstalling transformers-4.20.1:\n",
            "      Successfully uninstalled transformers-4.20.1\n",
            "Successfully installed tokenizers-0.7.0 transformers-2.9.0\n",
            "Looking in indexes: https://pypi.org/simple, https://us-python.pkg.dev/colab-wheels/public/simple/\n",
            "Collecting pytorch_lightning==0.7.5\n",
            "  Using cached pytorch_lightning-0.7.5-py3-none-any.whl (233 kB)\n",
            "Requirement already satisfied: future>=0.17.1 in /usr/local/lib/python3.7/dist-packages (from pytorch_lightning==0.7.5) (0.18.2)\n",
            "Requirement already satisfied: numpy>=1.16.4 in /usr/local/lib/python3.7/dist-packages (from pytorch_lightning==0.7.5) (1.21.6)\n",
            "Requirement already satisfied: tqdm>=4.41.0 in /usr/local/lib/python3.7/dist-packages (from pytorch_lightning==0.7.5) (4.64.0)\n",
            "Requirement already satisfied: torch>=1.1 in /usr/local/lib/python3.7/dist-packages (from pytorch_lightning==0.7.5) (1.12.0+cu113)\n",
            "Requirement already satisfied: tensorboard>=1.14 in /usr/local/lib/python3.7/dist-packages (from pytorch_lightning==0.7.5) (2.8.0)\n",
            "Requirement already satisfied: grpcio>=1.24.3 in /usr/local/lib/python3.7/dist-packages (from tensorboard>=1.14->pytorch_lightning==0.7.5) (1.47.0)\n",
            "Requirement already satisfied: setuptools>=41.0.0 in /usr/local/lib/python3.7/dist-packages (from tensorboard>=1.14->pytorch_lightning==0.7.5) (57.4.0)\n",
            "Requirement already satisfied: tensorboard-data-server<0.7.0,>=0.6.0 in /usr/local/lib/python3.7/dist-packages (from tensorboard>=1.14->pytorch_lightning==0.7.5) (0.6.1)\n",
            "Requirement already satisfied: werkzeug>=0.11.15 in /usr/local/lib/python3.7/dist-packages (from tensorboard>=1.14->pytorch_lightning==0.7.5) (1.0.1)\n",
            "Requirement already satisfied: wheel>=0.26 in /usr/local/lib/python3.7/dist-packages (from tensorboard>=1.14->pytorch_lightning==0.7.5) (0.37.1)\n",
            "Requirement already satisfied: protobuf>=3.6.0 in /usr/local/lib/python3.7/dist-packages (from tensorboard>=1.14->pytorch_lightning==0.7.5) (3.17.3)\n",
            "Requirement already satisfied: markdown>=2.6.8 in /usr/local/lib/python3.7/dist-packages (from tensorboard>=1.14->pytorch_lightning==0.7.5) (3.3.7)\n",
            "Requirement already satisfied: absl-py>=0.4 in /usr/local/lib/python3.7/dist-packages (from tensorboard>=1.14->pytorch_lightning==0.7.5) (1.1.0)\n",
            "Requirement already satisfied: requests<3,>=2.21.0 in /usr/local/lib/python3.7/dist-packages (from tensorboard>=1.14->pytorch_lightning==0.7.5) (2.23.0)\n",
            "Requirement already satisfied: google-auth<3,>=1.6.3 in /usr/local/lib/python3.7/dist-packages (from tensorboard>=1.14->pytorch_lightning==0.7.5) (1.35.0)\n",
            "Requirement already satisfied: tensorboard-plugin-wit>=1.6.0 in /usr/local/lib/python3.7/dist-packages (from tensorboard>=1.14->pytorch_lightning==0.7.5) (1.8.1)\n",
            "Requirement already satisfied: google-auth-oauthlib<0.5,>=0.4.1 in /usr/local/lib/python3.7/dist-packages (from tensorboard>=1.14->pytorch_lightning==0.7.5) (0.4.6)\n",
            "Requirement already satisfied: pyasn1-modules>=0.2.1 in /usr/local/lib/python3.7/dist-packages (from google-auth<3,>=1.6.3->tensorboard>=1.14->pytorch_lightning==0.7.5) (0.2.8)\n",
            "Requirement already satisfied: six>=1.9.0 in /usr/local/lib/python3.7/dist-packages (from google-auth<3,>=1.6.3->tensorboard>=1.14->pytorch_lightning==0.7.5) (1.15.0)\n",
            "Requirement already satisfied: cachetools<5.0,>=2.0.0 in /usr/local/lib/python3.7/dist-packages (from google-auth<3,>=1.6.3->tensorboard>=1.14->pytorch_lightning==0.7.5) (4.2.4)\n",
            "Requirement already satisfied: rsa<5,>=3.1.4 in /usr/local/lib/python3.7/dist-packages (from google-auth<3,>=1.6.3->tensorboard>=1.14->pytorch_lightning==0.7.5) (4.8)\n",
            "Requirement already satisfied: requests-oauthlib>=0.7.0 in /usr/local/lib/python3.7/dist-packages (from google-auth-oauthlib<0.5,>=0.4.1->tensorboard>=1.14->pytorch_lightning==0.7.5) (1.3.1)\n",
            "Requirement already satisfied: importlib-metadata>=4.4 in /usr/local/lib/python3.7/dist-packages (from markdown>=2.6.8->tensorboard>=1.14->pytorch_lightning==0.7.5) (4.12.0)\n",
            "Requirement already satisfied: zipp>=0.5 in /usr/local/lib/python3.7/dist-packages (from importlib-metadata>=4.4->markdown>=2.6.8->tensorboard>=1.14->pytorch_lightning==0.7.5) (3.8.0)\n",
            "Requirement already satisfied: typing-extensions>=3.6.4 in /usr/local/lib/python3.7/dist-packages (from importlib-metadata>=4.4->markdown>=2.6.8->tensorboard>=1.14->pytorch_lightning==0.7.5) (4.1.1)\n",
            "Requirement already satisfied: pyasn1<0.5.0,>=0.4.6 in /usr/local/lib/python3.7/dist-packages (from pyasn1-modules>=0.2.1->google-auth<3,>=1.6.3->tensorboard>=1.14->pytorch_lightning==0.7.5) (0.4.8)\n",
            "Requirement already satisfied: chardet<4,>=3.0.2 in /usr/local/lib/python3.7/dist-packages (from requests<3,>=2.21.0->tensorboard>=1.14->pytorch_lightning==0.7.5) (3.0.4)\n",
            "Requirement already satisfied: urllib3!=1.25.0,!=1.25.1,<1.26,>=1.21.1 in /usr/local/lib/python3.7/dist-packages (from requests<3,>=2.21.0->tensorboard>=1.14->pytorch_lightning==0.7.5) (1.24.3)\n",
            "Requirement already satisfied: certifi>=2017.4.17 in /usr/local/lib/python3.7/dist-packages (from requests<3,>=2.21.0->tensorboard>=1.14->pytorch_lightning==0.7.5) (2022.6.15)\n",
            "Requirement already satisfied: idna<3,>=2.5 in /usr/local/lib/python3.7/dist-packages (from requests<3,>=2.21.0->tensorboard>=1.14->pytorch_lightning==0.7.5) (2.10)\n",
            "Requirement already satisfied: oauthlib>=3.0.0 in /usr/local/lib/python3.7/dist-packages (from requests-oauthlib>=0.7.0->google-auth-oauthlib<0.5,>=0.4.1->tensorboard>=1.14->pytorch_lightning==0.7.5) (3.2.0)\n",
            "Installing collected packages: pytorch-lightning\n",
            "  Attempting uninstall: pytorch-lightning\n",
            "    Found existing installation: pytorch-lightning 1.6.5\n",
            "    Uninstalling pytorch-lightning-1.6.5:\n",
            "      Successfully uninstalled pytorch-lightning-1.6.5\n",
            "Successfully installed pytorch-lightning-0.7.5\n"
          ]
        }
      ],
      "source": [
        "!pip install transformers==2.9.0 \n",
        "!pip install pytorch_lightning==0.7.5"
      ]
    },
    {
      "cell_type": "code",
      "execution_count": null,
      "metadata": {
        "colab": {
          "base_uri": "https://localhost:8080/"
        },
        "id": "zZEZwUTDuy7d",
        "outputId": "d7c0ef65-e9df-48ce-e107-e744758b9897"
      },
      "outputs": [
        {
          "output_type": "stream",
          "name": "stdout",
          "text": [
            "Looking in indexes: https://pypi.org/simple, https://us-python.pkg.dev/colab-wheels/public/simple/\n",
            "Requirement already satisfied: sacrebleu in /usr/local/lib/python3.7/dist-packages (2.1.0)\n",
            "Requirement already satisfied: portalocker in /usr/local/lib/python3.7/dist-packages (from sacrebleu) (2.5.1)\n",
            "Requirement already satisfied: colorama in /usr/local/lib/python3.7/dist-packages (from sacrebleu) (0.4.5)\n",
            "Requirement already satisfied: numpy>=1.17 in /usr/local/lib/python3.7/dist-packages (from sacrebleu) (1.21.6)\n",
            "Requirement already satisfied: tabulate>=0.8.9 in /usr/local/lib/python3.7/dist-packages (from sacrebleu) (0.8.10)\n",
            "Requirement already satisfied: regex in /usr/local/lib/python3.7/dist-packages (from sacrebleu) (2022.6.2)\n"
          ]
        }
      ],
      "source": [
        "#!pip install sentencepiece\n",
        "!pip install sacrebleu"
      ]
    },
    {
      "cell_type": "code",
      "execution_count": null,
      "metadata": {
        "id": "xNFDnseCu5f-"
      },
      "outputs": [],
      "source": [
        "!pip3 install -q --upgrade efficientnet_pytorch  \\\n",
        "                           transformers \\\n",
        "                           pytorch_lightning \\\n",
        "                           sacrebleu \\\n",
        "                           h5py"
      ]
    },
    {
      "cell_type": "code",
      "execution_count": null,
      "metadata": {
        "colab": {
          "base_uri": "https://localhost:8080/"
        },
        "id": "rw-DPOUKvChw",
        "outputId": "6dc4b1d2-2152-43aa-801d-6181c883118f"
      },
      "outputs": [
        {
          "output_type": "execute_result",
          "data": {
            "text/plain": [
              "(8, 'Tesla P100-PCIE-16GB')"
            ]
          },
          "metadata": {},
          "execution_count": 5
        }
      ],
      "source": [
        "import os\n",
        "import torch\n",
        "\n",
        "from transformers import T5ForConditionalGeneration, T5Tokenizer\n",
        "from efficientnet_pytorch import EfficientNet\n",
        "from matplotlib import pyplot as plt\n",
        "\n",
        "from google.colab import drive\n",
        "\n",
        "\n",
        "device = 'cuda' if torch.cuda.is_available() else 'cpu'\n",
        "\n",
        "os.cpu_count(), torch.cuda.get_device_name() if device == \"cuda\" else None"
      ]
    },
    {
      "cell_type": "code",
      "execution_count": null,
      "metadata": {
        "colab": {
          "base_uri": "https://localhost:8080/"
        },
        "id": "KuyhUAlgvC-A",
        "outputId": "d9ba366b-c9f9-4c7f-e5f3-6d44ee98e63f"
      },
      "outputs": [
        {
          "output_type": "stream",
          "name": "stderr",
          "text": [
            "/usr/local/lib/python3.7/dist-packages/transformers/models/t5/tokenization_t5.py:174: FutureWarning: This tokenizer was incorrectly instantiated with a model max length of 512 which will be corrected in Transformers v5.\n",
            "For now, this behavior is kept to avoid breaking backwards compatibility when padding/encoding with `truncation is True`.\n",
            "- Be aware that you SHOULD NOT rely on t5-small automatically truncating your input to 512 when padding/encoding.\n",
            "- If you want to encode/pad to sequences longer than 512 you can either instantiate this tokenizer with `model_max_length` or pass `max_length` when encoding/padding.\n",
            "- To avoid this warning, please instantiate this tokenizer with `model_max_length` set to your preferred value.\n",
            "  FutureWarning,\n"
          ]
        }
      ],
      "source": [
        "tokenizer = T5Tokenizer.from_pretrained('t5-small')\n"
      ]
    },
    {
      "cell_type": "code",
      "source": [
        "tokenizer.add_tokens(['damagenet'])\n",
        "tokenizer.add_tokens(['adversarial'])\n",
        "tokenizer.add_tokens(['attack'])\n",
        "\n"
      ],
      "metadata": {
        "colab": {
          "base_uri": "https://localhost:8080/"
        },
        "id": "11_oCzph2t59",
        "outputId": "be7edebe-41ab-4879-968d-c49e19e2fb9a"
      },
      "execution_count": null,
      "outputs": [
        {
          "output_type": "execute_result",
          "data": {
            "text/plain": [
              "0"
            ]
          },
          "metadata": {},
          "execution_count": 8
        }
      ]
    },
    {
      "cell_type": "code",
      "source": [
        "input_ids2 = tokenizer(\"damagenet adversarial attack of cat eating pizza\", return_tensors=\"pt\").input_ids\n",
        "input_ids2"
      ],
      "metadata": {
        "colab": {
          "base_uri": "https://localhost:8080/"
        },
        "id": "inYuLLKz6fJN",
        "outputId": "3875713f-858c-4a12-cfa3-92f90a23be77"
      },
      "execution_count": null,
      "outputs": [
        {
          "output_type": "execute_result",
          "data": {
            "text/plain": [
              "tensor([[32101, 32102,  3211,    13,  1712,  3182,  6871,     1]])"
            ]
          },
          "metadata": {},
          "execution_count": 9
        }
      ]
    },
    {
      "cell_type": "code",
      "source": [
        "\n",
        "tokenizer.tokenize(\"damagenet adversarial attack of cat eating pizza\")"
      ],
      "metadata": {
        "colab": {
          "base_uri": "https://localhost:8080/"
        },
        "id": "mKIlzbPg2Tjf",
        "outputId": "5d8ab666-9edd-4c0b-8f8b-124ba8ae0219"
      },
      "execution_count": null,
      "outputs": [
        {
          "output_type": "execute_result",
          "data": {
            "text/plain": [
              "['damagenet', 'adversarial', '▁attack', '▁of', '▁cat', '▁eating', '▁pizza']"
            ]
          },
          "metadata": {},
          "execution_count": 10
        }
      ]
    },
    {
      "cell_type": "markdown",
      "metadata": {
        "id": "MEHyryqivS6i"
      },
      "source": [
        "### Download the required data : Annotations,Captions,Images"
      ]
    },
    {
      "cell_type": "code",
      "execution_count": null,
      "metadata": {
        "id": "jvml55V7vIBl"
      },
      "outputs": [],
      "source": [
        "import os \n",
        "import sys\n",
        "from pycocotools.coco import COCO\n",
        "import urllib\n",
        "import zipfile "
      ]
    },
    {
      "cell_type": "code",
      "execution_count": null,
      "metadata": {
        "colab": {
          "base_uri": "https://localhost:8080/"
        },
        "id": "UVpdBDz_vPDx",
        "outputId": "e333069b-4d26-4d89-c533-1e38a4355978"
      },
      "outputs": [
        {
          "output_type": "stream",
          "name": "stdout",
          "text": [
            "fatal: destination path 'cocoapi' already exists and is not an empty directory.\n"
          ]
        }
      ],
      "source": [
        "os.chdir( '/content/drive/My Drive/IA025/image_captioning/COCO/' )\n",
        "save_path = '/content/drive/My Drive/IA025/image_captioning/COCO/opt/'\n",
        "\n",
        "os.makedirs('opt' , exist_ok=True)\n",
        "#os.chdir( '/content/opt' )\n",
        "os.chdir( save_path )\n",
        "\n",
        "!git clone 'https://github.com/cocodataset/cocoapi.git'"
      ]
    },
    {
      "cell_type": "code",
      "execution_count": null,
      "metadata": {
        "colab": {
          "base_uri": "https://localhost:8080/",
          "height": 35
        },
        "id": "jY2yAgDovgLd",
        "outputId": "27d9d525-4354-406c-cb2e-477def2df516"
      },
      "outputs": [
        {
          "output_type": "execute_result",
          "data": {
            "text/plain": [
              "\"\\n\\nos.makedirs('opt' , exist_ok=True)\\nos.chdir( '/content/opt' )\\n!git clone 'https://github.com/cocodataset/cocoapi.git'\\n\\n\""
            ],
            "application/vnd.google.colaboratory.intrinsic+json": {
              "type": "string"
            }
          },
          "metadata": {},
          "execution_count": 13
        }
      ],
      "source": [
        "\"\"\"\n",
        "\n",
        "os.makedirs('opt' , exist_ok=True)\n",
        "os.chdir( '/content/opt' )\n",
        "!git clone 'https://github.com/cocodataset/cocoapi.git'\n",
        "\n",
        "\"\"\""
      ]
    },
    {
      "cell_type": "markdown",
      "metadata": {
        "id": "I3_btMoRw2Vy"
      },
      "source": [
        "Download the Annotations and Captions :"
      ]
    },
    {
      "cell_type": "code",
      "execution_count": null,
      "metadata": {
        "id": "2Gw1qgajvd6g"
      },
      "outputs": [],
      "source": [
        "os.chdir(save_path+'cocoapi')\n"
      ]
    },
    {
      "cell_type": "code",
      "execution_count": null,
      "metadata": {
        "colab": {
          "base_uri": "https://localhost:8080/",
          "height": 87
        },
        "id": "VA6JaTnzvrhG",
        "outputId": "0c75f9e0-2661-451c-8211-3421522c0903"
      },
      "outputs": [
        {
          "output_type": "execute_result",
          "data": {
            "text/plain": [
              "\"\\n\\nos.chdir('/content/opt/cocoapi')\\n\\n# Download the annotation : \\nannotations_trainval2014 = 'http://images.cocodataset.org/annotations/annotations_trainval2014.zip'\\nimage_info_test2014 = 'http://images.cocodataset.org/annotations/image_info_test2014.zip'\\n\\nurllib.request.urlretrieve(annotations_trainval2014 , filename = 'annotations_trainval2014.zip' )\\nurllib.request.urlretrieve(image_info_test2014 , filename= 'image_info_test2014.zip' )\\n\\n\\n\\n\""
            ],
            "application/vnd.google.colaboratory.intrinsic+json": {
              "type": "string"
            }
          },
          "metadata": {},
          "execution_count": 15
        }
      ],
      "source": [
        "\"\"\"\n",
        "\n",
        "os.chdir('/content/opt/cocoapi')\n",
        "\n",
        "# Download the annotation : \n",
        "annotations_trainval2014 = 'http://images.cocodataset.org/annotations/annotations_trainval2014.zip'\n",
        "image_info_test2014 = 'http://images.cocodataset.org/annotations/image_info_test2014.zip'\n",
        "\n",
        "urllib.request.urlretrieve(annotations_trainval2014 , filename = 'annotations_trainval2014.zip' )\n",
        "urllib.request.urlretrieve(image_info_test2014 , filename= 'image_info_test2014.zip' )\n",
        "\n",
        "\n",
        "\n",
        "\"\"\""
      ]
    },
    {
      "cell_type": "markdown",
      "metadata": {
        "id": "JLfQ0PV-yfJ9"
      },
      "source": [
        "Extract Annotations from ZIP file"
      ]
    },
    {
      "cell_type": "code",
      "execution_count": null,
      "metadata": {
        "colab": {
          "base_uri": "https://localhost:8080/",
          "height": 87
        },
        "id": "F8FJOO2mx2ft",
        "outputId": "f477ba6d-860c-4c2c-a0e4-4d10fbab9253"
      },
      "outputs": [
        {
          "output_type": "execute_result",
          "data": {
            "text/plain": [
              "\"\\nwith zipfile.ZipFile('annotations_trainval2014.zip' , 'r') as zip_ref:\\n  zip_ref.extractall( '/content/opt/cocoapi'  )  \\n\\ntry:\\n  os.remove( 'annotations_trainval2014.zip' )\\n  print('zip removed')\\nexcept:\\n  None\\n\\nwith zipfile.ZipFile('image_info_test2014.zip' , 'r') as zip_ref:\\n  zip_ref.extractall( '/content/opt/cocoapi'  )  \\n\\ntry:\\n  os.remove( 'image_info_test2014.zip' )\\n  print('zip removed')\\nexcept:\\n  None\\n\""
            ],
            "application/vnd.google.colaboratory.intrinsic+json": {
              "type": "string"
            }
          },
          "metadata": {},
          "execution_count": 16
        }
      ],
      "source": [
        "\"\"\"\n",
        "with zipfile.ZipFile('annotations_trainval2014.zip' , 'r') as zip_ref:\n",
        "  zip_ref.extractall( '/content/opt/cocoapi'  )  \n",
        "\n",
        "try:\n",
        "  os.remove( 'annotations_trainval2014.zip' )\n",
        "  print('zip removed')\n",
        "except:\n",
        "  None\n",
        "\n",
        "with zipfile.ZipFile('image_info_test2014.zip' , 'r') as zip_ref:\n",
        "  zip_ref.extractall( '/content/opt/cocoapi'  )  \n",
        "\n",
        "try:\n",
        "  os.remove( 'image_info_test2014.zip' )\n",
        "  print('zip removed')\n",
        "except:\n",
        "  None\n",
        "\"\"\"  "
      ]
    },
    {
      "cell_type": "markdown",
      "metadata": {
        "id": "kyKmXQkuz_zR"
      },
      "source": [
        "Initialize and verify the loaded data"
      ]
    },
    {
      "cell_type": "code",
      "execution_count": null,
      "metadata": {
        "colab": {
          "base_uri": "https://localhost:8080/"
        },
        "id": "Lp6iuhP-yyI7",
        "outputId": "bb2f4daa-5218-4443-c313-b519ed6e6180"
      },
      "outputs": [
        {
          "output_type": "stream",
          "name": "stdout",
          "text": [
            "instances_val2014.json\n",
            "loading annotations into memory...\n",
            "Done (t=5.19s)\n",
            "creating index...\n",
            "index created!\n",
            "loading annotations into memory...\n",
            "Done (t=0.36s)\n",
            "creating index...\n",
            "index created!\n"
          ]
        }
      ],
      "source": [
        "#os.chdir('/content/opt/cocoapi/annotations')\n",
        "save_path = '/content/drive/My Drive/IA025/image_captioning/COCO/opt/'\n",
        "\n",
        "os.chdir(save_path+'cocoapi/annotations')\n",
        "\n",
        "# initialize COCO API for instance annotations\n",
        "dataType = 'val2014'\n",
        "instances_annFile = 'instances_{}.json'.format(dataType)\n",
        "print(instances_annFile)\n",
        "coco = COCO(instances_annFile)\n",
        "\n",
        "# initialize COCO API for caption annotations\n",
        "captions_annFile = 'captions_{}.json'.format(dataType)\n",
        "coco_caps = COCO(captions_annFile)\n",
        "\n",
        "# get image ids \n",
        "ids = list(coco.anns.keys())"
      ]
    },
    {
      "cell_type": "markdown",
      "metadata": {
        "id": "UOPxvivc0mZQ"
      },
      "source": [
        "plot a sample Image"
      ]
    },
    {
      "cell_type": "code",
      "execution_count": null,
      "metadata": {
        "id": "bS6_GylyzosH"
      },
      "outputs": [],
      "source": [
        "import matplotlib.pyplot as plt \n",
        "import skimage.io as io \n",
        "import numpy as np \n",
        "%matplotlib inline "
      ]
    },
    {
      "cell_type": "markdown",
      "metadata": {
        "id": "d1ZkrGRi3X-l"
      },
      "source": [
        "Download Train , Test , Val Images :"
      ]
    },
    {
      "cell_type": "code",
      "execution_count": null,
      "metadata": {
        "colab": {
          "base_uri": "https://localhost:8080/",
          "height": 70
        },
        "id": "iZhRb--F1Ric",
        "outputId": "e5465e16-bf49-4d4a-cf8a-4d5ba70c13ee"
      },
      "outputs": [
        {
          "output_type": "execute_result",
          "data": {
            "text/plain": [
              "\"\\n\\ntrain2014 = 'http://images.cocodataset.org/zips/train2014.zip'\\ntest2014 = 'http://images.cocodataset.org/zips/test2014.zip'\\nval2014 = 'http://images.cocodataset.org/zips/val2014.zip'\\n\\n#urllib.request.urlretrieve( train2014 , 'train2014' )\\nurllib.request.urlretrieve( test2014 , 'test2014' )\\nurllib.request.urlretrieve( val2014 , 'val2014' )\\n\""
            ],
            "application/vnd.google.colaboratory.intrinsic+json": {
              "type": "string"
            }
          },
          "metadata": {},
          "execution_count": 20
        }
      ],
      "source": [
        "#os.chdir('/content/opt/cocoapi')\n",
        "save_path = '/content/drive/My Drive/IA025/image_captioning/COCO/opt/'\n",
        "\n",
        "os.chdir(save_path+'cocoapi')\n",
        "\"\"\"\n",
        "\n",
        "train2014 = 'http://images.cocodataset.org/zips/train2014.zip'\n",
        "test2014 = 'http://images.cocodataset.org/zips/test2014.zip'\n",
        "val2014 = 'http://images.cocodataset.org/zips/val2014.zip'\n",
        "\n",
        "#urllib.request.urlretrieve( train2014 , 'train2014' )\n",
        "urllib.request.urlretrieve( test2014 , 'test2014' )\n",
        "urllib.request.urlretrieve( val2014 , 'val2014' )\n",
        "\"\"\""
      ]
    },
    {
      "cell_type": "code",
      "execution_count": null,
      "metadata": {
        "colab": {
          "base_uri": "https://localhost:8080/",
          "height": 53
        },
        "id": "_uimcKgc5kS_",
        "outputId": "efe02cd0-5dae-4a9c-cb92-e8c46e84a90a"
      },
      "outputs": [
        {
          "output_type": "execute_result",
          "data": {
            "text/plain": [
              "\"\\n\\nwith zipfile.ZipFile( 'val2014' , 'r' ) as zip_ref:\\n  zip_ref.extractall( 'images' )\\n\\ntry:\\n  os.remove( 'val2014' )\\n  print('zip removed')\\nexcept:\\n  None\\n\""
            ],
            "application/vnd.google.colaboratory.intrinsic+json": {
              "type": "string"
            }
          },
          "metadata": {},
          "execution_count": 21
        }
      ],
      "source": [
        "#os.chdir('/content/opt/cocoapi')\n",
        "os.chdir(save_path+'cocoapi')\n",
        "\"\"\"\n",
        "\n",
        "with zipfile.ZipFile( 'val2014' , 'r' ) as zip_ref:\n",
        "  zip_ref.extractall( 'images' )\n",
        "\n",
        "try:\n",
        "  os.remove( 'val2014' )\n",
        "  print('zip removed')\n",
        "except:\n",
        "  None\n",
        "\"\"\"  "
      ]
    },
    {
      "cell_type": "markdown",
      "metadata": {
        "id": "A-lJ6fizZx23"
      },
      "source": [
        "unzip the download image zip files "
      ]
    },
    {
      "cell_type": "code",
      "execution_count": null,
      "metadata": {
        "colab": {
          "base_uri": "https://localhost:8080/",
          "height": 70
        },
        "id": "1QpNu1U8ZwvZ",
        "outputId": "4670b88a-4083-4a09-f446-e6ff2cd536a5"
      },
      "outputs": [
        {
          "output_type": "execute_result",
          "data": {
            "text/plain": [
              "\"\\n\\nos.chdir('/content/opt/cocoapi')\\nwith zipfile.ZipFile( 'train2014' , 'r' ) as zip_ref:\\n  zip_ref.extractall( 'images' )\\n\\ntry:\\n  os.remove( 'train2014' )\\n  print('zip removed')\\nexcept:\\n  None\\n\\n\\nos.chdir('/content/opt/cocoapi')\\nwith zipfile.ZipFile( 'test2014' , 'r' ) as zip_ref:\\n  zip_ref.extractall( 'images' )\\n\\ntry:\\n  os.remove( 'test2014' )\\n  print('zip removed')\\nexcept:\\n  None\\n  \\n\""
            ],
            "application/vnd.google.colaboratory.intrinsic+json": {
              "type": "string"
            }
          },
          "metadata": {},
          "execution_count": 22
        }
      ],
      "source": [
        "\"\"\"\n",
        "\n",
        "os.chdir('/content/opt/cocoapi')\n",
        "with zipfile.ZipFile( 'train2014' , 'r' ) as zip_ref:\n",
        "  zip_ref.extractall( 'images' )\n",
        "\n",
        "try:\n",
        "  os.remove( 'train2014' )\n",
        "  print('zip removed')\n",
        "except:\n",
        "  None\n",
        "\n",
        "\n",
        "os.chdir('/content/opt/cocoapi')\n",
        "with zipfile.ZipFile( 'test2014' , 'r' ) as zip_ref:\n",
        "  zip_ref.extractall( 'images' )\n",
        "\n",
        "try:\n",
        "  os.remove( 'test2014' )\n",
        "  print('zip removed')\n",
        "except:\n",
        "  None\n",
        "  \n",
        "\"\"\""
      ]
    },
    {
      "cell_type": "markdown",
      "metadata": {
        "id": "E9fqDQO35KPG"
      },
      "source": [
        "## Step1 Explore the DataLoader"
      ]
    },
    {
      "cell_type": "markdown",
      "metadata": {
        "id": "qshOumBc2ZHY"
      },
      "source": [
        "### Vocabulary.py"
      ]
    },
    {
      "cell_type": "code",
      "execution_count": null,
      "metadata": {
        "id": "i7eAPTW12RNE"
      },
      "outputs": [],
      "source": [
        "# vocabulary.py -------------------------------------------------------------\n",
        "import nltk\n",
        "import pickle\n",
        "import os.path\n",
        "from pycocotools.coco import COCO\n",
        "from collections import Counter\n",
        "\n",
        "class Vocabulary(object):\n",
        "\n",
        "    def __init__(self,\n",
        "        vocab_threshold,\n",
        "        vocab_file='./vocab.pkl',\n",
        "        start_word=\"<start>\",\n",
        "        end_word=\"<end>\",\n",
        "        unk_word=\"<unk>\",\n",
        "        annotations_file='../cocoapi/annotations/captions_train2014.json',\n",
        "        vocab_from_file=False):\n",
        "        \"\"\"Initialize the vocabulary.\n",
        "        Args:\n",
        "          vocab_threshold: Minimum word count threshold.\n",
        "          vocab_file: File containing the vocabulary.\n",
        "          start_word: Special word denoting sentence start.\n",
        "          end_word: Special word denoting sentence end.\n",
        "          unk_word: Special word denoting unknown words.\n",
        "          annotations_file: Path for train annotation file.\n",
        "          vocab_from_file: If False, create vocab from scratch & override any existing vocab_file\n",
        "                           If True, load vocab from from existing vocab_file, if it exists\n",
        "        \"\"\"\n",
        "        self.vocab_threshold = vocab_threshold\n",
        "        self.vocab_file = vocab_file\n",
        "        self.start_word = start_word\n",
        "        self.end_word = end_word\n",
        "        self.unk_word = unk_word\n",
        "        self.annotations_file = annotations_file\n",
        "        self.vocab_from_file = vocab_from_file\n",
        "        self.get_vocab()\n",
        "\n",
        "    def get_vocab(self):\n",
        "        \"\"\"Load the vocabulary from file OR build the vocabulary from scratch.\"\"\"\n",
        "        if os.path.exists(self.vocab_file) & self.vocab_from_file:\n",
        "            with open(self.vocab_file, 'rb') as f:\n",
        "                vocab = pickle.load(f)\n",
        "                self.word2idx = vocab.word2idx\n",
        "                self.idx2word = vocab.idx2word\n",
        "            print('Vocabulary successfully loaded from vocab.pkl file!')\n",
        "        else:\n",
        "            self.build_vocab()\n",
        "            with open(self.vocab_file, 'wb') as f:\n",
        "                pickle.dump(self, f)\n",
        "        \n",
        "    def build_vocab(self):\n",
        "        \"\"\"Populate the dictionaries for converting tokens to integers (and vice-versa).\"\"\"\n",
        "        self.init_vocab()\n",
        "        self.add_word(self.start_word)\n",
        "        self.add_word(self.end_word)\n",
        "        self.add_word(self.unk_word)\n",
        "        self.add_captions()\n",
        "\n",
        "    def init_vocab(self):\n",
        "        \"\"\"Initialize the dictionaries for converting tokens to integers (and vice-versa).\"\"\"\n",
        "        self.word2idx = {}\n",
        "        self.idx2word = {}\n",
        "        self.idx = 0\n",
        "\n",
        "    def add_word(self, word):\n",
        "        \"\"\"Add a token to the vocabulary.\"\"\"\n",
        "        if not word in self.word2idx:\n",
        "            self.word2idx[word] = self.idx\n",
        "            self.idx2word[self.idx] = word\n",
        "            self.idx += 1\n",
        "\n",
        "    def add_captions(self):\n",
        "        \"\"\"Loop over training captions and add all tokens to the vocabulary that meet or exceed the threshold.\"\"\"\n",
        "        coco = COCO(self.annotations_file)\n",
        "        counter = Counter()\n",
        "        ids = coco.anns.keys()\n",
        "        for i, id in enumerate(ids):\n",
        "            caption = str(coco.anns[id]['caption'])\n",
        "            tokens = nltk.tokenize.word_tokenize(caption.lower())\n",
        "            counter.update(tokens)\n",
        "\n",
        "            if i % 100000 == 0:\n",
        "                print(\"[%d/%d] Tokenizing captions...\" % (i, len(ids)))\n",
        "\n",
        "        words = [word for word, cnt in counter.items() if cnt >= self.vocab_threshold]\n",
        "\n",
        "        for i, word in enumerate(words):\n",
        "            self.add_word(word)\n",
        "\n",
        "    def __call__(self, word):\n",
        "        if not word in self.word2idx:\n",
        "            return self.word2idx[self.unk_word]\n",
        "        return self.word2idx[word]\n",
        "\n",
        "    def __len__(self):\n",
        "        return len(self.word2idx)"
      ]
    },
    {
      "cell_type": "markdown",
      "metadata": {
        "id": "zFib3Yuq2D4i"
      },
      "source": [
        "### data_loader.py"
      ]
    },
    {
      "cell_type": "code",
      "source": [
        "# Data Loader ---------------------------------------------------------------------------------------------\n",
        "\n",
        "import nltk\n",
        "import os\n",
        "import torch\n",
        "import torch.utils.data as data\n",
        "from PIL import Image\n",
        "from pycocotools.coco import COCO\n",
        "import numpy as np\n",
        "from tqdm import tqdm\n",
        "import random\n",
        "import json"
      ],
      "metadata": {
        "id": "6PI1erMArj28"
      },
      "execution_count": null,
      "outputs": []
    },
    {
      "cell_type": "markdown",
      "metadata": {
        "id": "J1MLLtOZ2Ik4"
      },
      "source": [
        "Beacuse the train data set is to big we use the validation data set as train\n",
        "\n"
      ]
    },
    {
      "cell_type": "code",
      "source": [
        "import sys\n",
        "from pycocotools.coco import COCO\n",
        "!pip install nltk\n",
        "import nltk\n",
        "nltk.download('punkt')\n",
        "from torchvision import transforms"
      ],
      "metadata": {
        "colab": {
          "base_uri": "https://localhost:8080/"
        },
        "id": "lHz4IS1uD3NL",
        "outputId": "9ebbaa11-2006-493c-b709-e5c836798a19"
      },
      "execution_count": null,
      "outputs": [
        {
          "output_type": "stream",
          "name": "stdout",
          "text": [
            "Looking in indexes: https://pypi.org/simple, https://us-python.pkg.dev/colab-wheels/public/simple/\n",
            "Requirement already satisfied: nltk in /usr/local/lib/python3.7/dist-packages (3.7)\n",
            "Requirement already satisfied: joblib in /usr/local/lib/python3.7/dist-packages (from nltk) (1.1.0)\n",
            "Requirement already satisfied: click in /usr/local/lib/python3.7/dist-packages (from nltk) (7.1.2)\n",
            "Requirement already satisfied: tqdm in /usr/local/lib/python3.7/dist-packages (from nltk) (4.64.0)\n",
            "Requirement already satisfied: regex>=2021.8.3 in /usr/local/lib/python3.7/dist-packages (from nltk) (2022.6.2)\n"
          ]
        },
        {
          "output_type": "stream",
          "name": "stderr",
          "text": [
            "[nltk_data] Downloading package punkt to /root/nltk_data...\n",
            "[nltk_data]   Package punkt is already up-to-date!\n"
          ]
        }
      ]
    },
    {
      "cell_type": "code",
      "execution_count": null,
      "metadata": {
        "id": "kn-1LmQKRI5G"
      },
      "outputs": [],
      "source": [
        "import torch \n",
        "import numpy as np \n",
        "import torch.utils.data as data"
      ]
    },
    {
      "cell_type": "code",
      "source": [
        "from transformers import T5Tokenizer, T5Model\n",
        "#tokenizer = T5Tokenizer.from_pretrained(\"t5-small\")\n",
        "#model = T5Model.from_pretrained(\"t5-small\")\n"
      ],
      "metadata": {
        "id": "wTRtVpZnFHXI"
      },
      "execution_count": null,
      "outputs": []
    },
    {
      "cell_type": "code",
      "source": [
        "tokenizer = T5Tokenizer.from_pretrained('t5-small')\n",
        "tokenizer.add_tokens(['damagenet'])\n",
        "tokenizer.add_tokens(['adversarial'])\n",
        "tokenizer.add_tokens(['attack'])\n",
        "ids_intensor = tokenizer(\"damagenet adversarial attack of cat eating pizza\", return_tensors=\"pt\").input_ids\n",
        "ids_intensor"
      ],
      "metadata": {
        "colab": {
          "base_uri": "https://localhost:8080/"
        },
        "id": "nJctaOyFFK7V",
        "outputId": "79804336-b3e1-4c5c-d6f9-53dcc0db33d0"
      },
      "execution_count": null,
      "outputs": [
        {
          "output_type": "stream",
          "name": "stderr",
          "text": [
            "/usr/local/lib/python3.7/dist-packages/transformers/models/t5/tokenization_t5.py:174: FutureWarning: This tokenizer was incorrectly instantiated with a model max length of 512 which will be corrected in Transformers v5.\n",
            "For now, this behavior is kept to avoid breaking backwards compatibility when padding/encoding with `truncation is True`.\n",
            "- Be aware that you SHOULD NOT rely on t5-small automatically truncating your input to 512 when padding/encoding.\n",
            "- If you want to encode/pad to sequences longer than 512 you can either instantiate this tokenizer with `model_max_length` or pass `max_length` when encoding/padding.\n",
            "- To avoid this warning, please instantiate this tokenizer with `model_max_length` set to your preferred value.\n",
            "  FutureWarning,\n"
          ]
        },
        {
          "output_type": "execute_result",
          "data": {
            "text/plain": [
              "tensor([[32100, 32101,  3211,    13,  1712,  3182,  6871,     1]])"
            ]
          },
          "metadata": {},
          "execution_count": 28
        }
      ]
    },
    {
      "cell_type": "code",
      "source": [
        "import torch \n",
        "import numpy as np \n",
        "import torch.utils.data as data\n",
        "import pandas as pd\n"
      ],
      "metadata": {
        "id": "_v18HS7aFOU8"
      },
      "execution_count": null,
      "outputs": []
    },
    {
      "cell_type": "code",
      "source": [
        "folder=\"/content/drive/MyDrive/IA025/proy/experiments/mix1/\"\n",
        "df_train1=pd.read_csv(folder+'data_train1.csv')#\n",
        "df_train1.head()"
      ],
      "metadata": {
        "colab": {
          "base_uri": "https://localhost:8080/",
          "height": 206
        },
        "id": "n6-5QU9zFOwk",
        "outputId": "7ba78acc-3ebc-4809-f88e-d690425218f0"
      },
      "execution_count": null,
      "outputs": [
        {
          "output_type": "execute_result",
          "data": {
            "text/plain": [
              "               ids                                            caption  attack  \\\n",
              "0    0_image_0.png                an old person kisses a young person       0   \n",
              "1    0_image_1.png                a young person kisses an old person       0   \n",
              "2  100_image_0.png  the happy one is on the left and the upset one...       0   \n",
              "3  100_image_1.png  the upset one is on the left and the happy one...       0   \n",
              "4  101_image_0.png                fake mustache and real hair on head       0   \n",
              "\n",
              "   shot_type     dataset  \n",
              "0          0  winoground  \n",
              "1          0  winoground  \n",
              "2          0  winoground  \n",
              "3          0  winoground  \n",
              "4          0  winoground  "
            ],
            "text/html": [
              "\n",
              "  <div id=\"df-6b0a8400-a54b-42a3-999f-1c036ff14573\">\n",
              "    <div class=\"colab-df-container\">\n",
              "      <div>\n",
              "<style scoped>\n",
              "    .dataframe tbody tr th:only-of-type {\n",
              "        vertical-align: middle;\n",
              "    }\n",
              "\n",
              "    .dataframe tbody tr th {\n",
              "        vertical-align: top;\n",
              "    }\n",
              "\n",
              "    .dataframe thead th {\n",
              "        text-align: right;\n",
              "    }\n",
              "</style>\n",
              "<table border=\"1\" class=\"dataframe\">\n",
              "  <thead>\n",
              "    <tr style=\"text-align: right;\">\n",
              "      <th></th>\n",
              "      <th>ids</th>\n",
              "      <th>caption</th>\n",
              "      <th>attack</th>\n",
              "      <th>shot_type</th>\n",
              "      <th>dataset</th>\n",
              "    </tr>\n",
              "  </thead>\n",
              "  <tbody>\n",
              "    <tr>\n",
              "      <th>0</th>\n",
              "      <td>0_image_0.png</td>\n",
              "      <td>an old person kisses a young person</td>\n",
              "      <td>0</td>\n",
              "      <td>0</td>\n",
              "      <td>winoground</td>\n",
              "    </tr>\n",
              "    <tr>\n",
              "      <th>1</th>\n",
              "      <td>0_image_1.png</td>\n",
              "      <td>a young person kisses an old person</td>\n",
              "      <td>0</td>\n",
              "      <td>0</td>\n",
              "      <td>winoground</td>\n",
              "    </tr>\n",
              "    <tr>\n",
              "      <th>2</th>\n",
              "      <td>100_image_0.png</td>\n",
              "      <td>the happy one is on the left and the upset one...</td>\n",
              "      <td>0</td>\n",
              "      <td>0</td>\n",
              "      <td>winoground</td>\n",
              "    </tr>\n",
              "    <tr>\n",
              "      <th>3</th>\n",
              "      <td>100_image_1.png</td>\n",
              "      <td>the upset one is on the left and the happy one...</td>\n",
              "      <td>0</td>\n",
              "      <td>0</td>\n",
              "      <td>winoground</td>\n",
              "    </tr>\n",
              "    <tr>\n",
              "      <th>4</th>\n",
              "      <td>101_image_0.png</td>\n",
              "      <td>fake mustache and real hair on head</td>\n",
              "      <td>0</td>\n",
              "      <td>0</td>\n",
              "      <td>winoground</td>\n",
              "    </tr>\n",
              "  </tbody>\n",
              "</table>\n",
              "</div>\n",
              "      <button class=\"colab-df-convert\" onclick=\"convertToInteractive('df-6b0a8400-a54b-42a3-999f-1c036ff14573')\"\n",
              "              title=\"Convert this dataframe to an interactive table.\"\n",
              "              style=\"display:none;\">\n",
              "        \n",
              "  <svg xmlns=\"http://www.w3.org/2000/svg\" height=\"24px\"viewBox=\"0 0 24 24\"\n",
              "       width=\"24px\">\n",
              "    <path d=\"M0 0h24v24H0V0z\" fill=\"none\"/>\n",
              "    <path d=\"M18.56 5.44l.94 2.06.94-2.06 2.06-.94-2.06-.94-.94-2.06-.94 2.06-2.06.94zm-11 1L8.5 8.5l.94-2.06 2.06-.94-2.06-.94L8.5 2.5l-.94 2.06-2.06.94zm10 10l.94 2.06.94-2.06 2.06-.94-2.06-.94-.94-2.06-.94 2.06-2.06.94z\"/><path d=\"M17.41 7.96l-1.37-1.37c-.4-.4-.92-.59-1.43-.59-.52 0-1.04.2-1.43.59L10.3 9.45l-7.72 7.72c-.78.78-.78 2.05 0 2.83L4 21.41c.39.39.9.59 1.41.59.51 0 1.02-.2 1.41-.59l7.78-7.78 2.81-2.81c.8-.78.8-2.07 0-2.86zM5.41 20L4 18.59l7.72-7.72 1.47 1.35L5.41 20z\"/>\n",
              "  </svg>\n",
              "      </button>\n",
              "      \n",
              "  <style>\n",
              "    .colab-df-container {\n",
              "      display:flex;\n",
              "      flex-wrap:wrap;\n",
              "      gap: 12px;\n",
              "    }\n",
              "\n",
              "    .colab-df-convert {\n",
              "      background-color: #E8F0FE;\n",
              "      border: none;\n",
              "      border-radius: 50%;\n",
              "      cursor: pointer;\n",
              "      display: none;\n",
              "      fill: #1967D2;\n",
              "      height: 32px;\n",
              "      padding: 0 0 0 0;\n",
              "      width: 32px;\n",
              "    }\n",
              "\n",
              "    .colab-df-convert:hover {\n",
              "      background-color: #E2EBFA;\n",
              "      box-shadow: 0px 1px 2px rgba(60, 64, 67, 0.3), 0px 1px 3px 1px rgba(60, 64, 67, 0.15);\n",
              "      fill: #174EA6;\n",
              "    }\n",
              "\n",
              "    [theme=dark] .colab-df-convert {\n",
              "      background-color: #3B4455;\n",
              "      fill: #D2E3FC;\n",
              "    }\n",
              "\n",
              "    [theme=dark] .colab-df-convert:hover {\n",
              "      background-color: #434B5C;\n",
              "      box-shadow: 0px 1px 3px 1px rgba(0, 0, 0, 0.15);\n",
              "      filter: drop-shadow(0px 1px 2px rgba(0, 0, 0, 0.3));\n",
              "      fill: #FFFFFF;\n",
              "    }\n",
              "  </style>\n",
              "\n",
              "      <script>\n",
              "        const buttonEl =\n",
              "          document.querySelector('#df-6b0a8400-a54b-42a3-999f-1c036ff14573 button.colab-df-convert');\n",
              "        buttonEl.style.display =\n",
              "          google.colab.kernel.accessAllowed ? 'block' : 'none';\n",
              "\n",
              "        async function convertToInteractive(key) {\n",
              "          const element = document.querySelector('#df-6b0a8400-a54b-42a3-999f-1c036ff14573');\n",
              "          const dataTable =\n",
              "            await google.colab.kernel.invokeFunction('convertToInteractive',\n",
              "                                                     [key], {});\n",
              "          if (!dataTable) return;\n",
              "\n",
              "          const docLinkHtml = 'Like what you see? Visit the ' +\n",
              "            '<a target=\"_blank\" href=https://colab.research.google.com/notebooks/data_table.ipynb>data table notebook</a>'\n",
              "            + ' to learn more about interactive tables.';\n",
              "          element.innerHTML = '';\n",
              "          dataTable['output_type'] = 'display_data';\n",
              "          await google.colab.output.renderOutput(dataTable, element);\n",
              "          const docLink = document.createElement('div');\n",
              "          docLink.innerHTML = docLinkHtml;\n",
              "          element.appendChild(docLink);\n",
              "        }\n",
              "      </script>\n",
              "    </div>\n",
              "  </div>\n",
              "  "
            ]
          },
          "metadata": {},
          "execution_count": 30
        }
      ]
    },
    {
      "cell_type": "code",
      "source": [
        "df_images_captions=df_train1.copy()\n",
        "#list(df_images_captions['caption'].values)"
      ],
      "metadata": {
        "id": "3OfEraxfFSjJ"
      },
      "execution_count": null,
      "outputs": []
    },
    {
      "cell_type": "code",
      "source": [
        "caption_list=list(df_images_captions['caption'].values) #ok\n",
        "all_tokens = [nltk.tokenize.word_tokenize(str(caption).lower()) for caption in caption_list]# ok\n",
        "caption_lengths = [len(token) for token in all_tokens]# ok"
      ],
      "metadata": {
        "id": "f1JGE4CGFS81"
      },
      "execution_count": null,
      "outputs": []
    },
    {
      "cell_type": "code",
      "source": [
        "# Import libraries\n",
        "import matplotlib.pyplot as plt\n",
        "import numpy as np\n",
        "\n",
        "fig = plt.figure(figsize =(3, 3))\n",
        "# Creating plot\n",
        "plt.boxplot(np.array(caption_lengths))\n",
        "plt.show()"
      ],
      "metadata": {
        "colab": {
          "base_uri": "https://localhost:8080/",
          "height": 211
        },
        "id": "6OGTbES_FWxf",
        "outputId": "973ecf2d-284f-4eee-d33c-c28f41a9ae10"
      },
      "execution_count": null,
      "outputs": [
        {
          "output_type": "display_data",
          "data": {
            "text/plain": [
              "<Figure size 216x216 with 1 Axes>"
            ],
            "image/png": "[encoded data removed]"
          },
          "metadata": {
            "needs_background": "light"
          }
        }
      ]
    },
    {
      "cell_type": "markdown",
      "metadata": {
        "id": "Z6yai64F2y6T"
      },
      "source": [
        "### Dataloader creation"
      ]
    },
    {
      "cell_type": "code",
      "source": [
        "import collections\n"
      ],
      "metadata": {
        "id": "tUvNtvk73sYV"
      },
      "execution_count": null,
      "outputs": []
    },
    {
      "cell_type": "code",
      "source": [
        "class CaptionDataset(data.Dataset):      \n",
        "  def __init__(self, transform, mode, batch_size, vocab_threshold, vocab, tokenizer, img_folder,df_images_captions):    \n",
        "    self.transform = transform # ok\n",
        "    self.mode = mode # ok\n",
        "    self.batch_size = batch_size # ok\n",
        "    self.vocab=vocab\n",
        "    self.tokenizer=tokenizer\n",
        "    self.img_folder = img_folder  # ok\n",
        "    print('images:',len(os.listdir(img_folder)))\n",
        "    self.ids_names= list(df_images_captions['ids'].values)\n",
        "    print('len(self.ids_names) ',len(self.ids_names))\n",
        "    counter=collections.Counter(list(df_images_captions['dataset'].values))\n",
        "    print(counter)\n",
        "    self.caption_list=list(df_images_captions['caption'].values) #ok\n",
        "    print('Obtaining caption lengths...')\n",
        "    all_tokens = [nltk.tokenize.word_tokenize(str(caption).lower()) for caption in self.caption_list]# ok\n",
        "    self.caption_lengths = [len(token) for token in all_tokens]# ok\n",
        "    self.vocab_threshold=vocab_threshold\n",
        "    self.attack= list(df_images_captions['attack'].values)\n",
        "\n",
        "    #words = [word for word, cnt in counter.items() if cnt >= self.vocab_threshold]\n",
        "        \n",
        "  def __getitem__(self, index):\n",
        "    # obtain image and caption if in training mode\n",
        "    caption = self.caption_list[index]\n",
        "    name = self.ids_names[index]\n",
        "    # Convert image to tensor and pre-process using transform\n",
        "    PIL_image = Image.open(os.path.join(self.img_folder, name)).convert('RGB')\n",
        "    #orig_image = np.array(PIL_image)\n",
        "    image = self.transform(PIL_image)\n",
        "    start_word,end_word='<start>','<end>'\n",
        "    # Convert caption to tensor of word ids. !!!\n",
        "    tokens =  str(caption).lower()\n",
        "    caption = []\n",
        "    caption.append(self.vocab(start_word))\n",
        "    caption.extend(self.tokenizer(tokens).input_ids)\n",
        "\n",
        "    if vocab_threshold>len(caption):\n",
        "      for i in range(self.vocab_threshold+1-len(caption)):\n",
        "        caption.append(self.vocab(\"<unk>\"))\n",
        "    else:\n",
        "      caption=caption[:self.vocab_threshold+1]\n",
        "    caption.append(self.vocab(end_word))\n",
        "    if vocab_threshold+2>len(caption):\n",
        "      caption.append(self.vocab(end_word))\n",
        "    caption = torch.Tensor(caption).long()\n",
        "    # return pre-processed image and caption tensors\n",
        "    return image, caption\n",
        "\n",
        "  def get_train_indices(self):\n",
        "    sel_length = np.random.choice(self.caption_lengths)\n",
        "    all_indices = np.where([self.caption_lengths[i] == sel_length for i in np.arange(len(self.caption_lengths))])[0]\n",
        "    indices = list(np.random.choice(all_indices, size=self.batch_size))\n",
        "    return indices\n",
        "\n",
        "  def is_attack(self):\n",
        "    return self.attack\n",
        "\n",
        "  def __len__(self):\n",
        "    return len(self.ids_names)"
      ],
      "metadata": {
        "id": "wBAsXLHcFXPG"
      },
      "execution_count": null,
      "outputs": []
    },
    {
      "cell_type": "code",
      "source": [
        "def General_Loader(vocab,tokenizer,img_folder,df_images_captions,transform,mode='train',batch_size=1,vocab_threshold=None,num_workers=0):\n",
        "    \"\"\"Returns the data loader.\n",
        "    Args:\n",
        "      transform: Image transform.\n",
        "      mode: One of 'train' or 'test'.\n",
        "      batch_size: Batch size (if in testing mode, must have batch_size=1).\n",
        "      vocab_threshold: Minimum word count threshold.\n",
        "      num_workers: Number of subprocesses to use for data loading \n",
        "    \"\"\"\n",
        "    # Based on mode (train, val, test), obtain img_folder and annotations_file, caption dataset.\n",
        "    #self, transform, mode, batch_size, vocab_threshold, vocab_file, tokenizer, img_folder,df_images_captions:  \n",
        "    \n",
        "    dataset = CaptionDataset(transform=transform,mode=mode,batch_size=batch_size,vocab_threshold=vocab_threshold,\n",
        "                             vocab=vocab,tokenizer=tokenizer,img_folder=img_folder,df_images_captions=df_images_captions)\n",
        "\n",
        "    if mode == 'sample':\n",
        "        # Randomly sample a caption length, and sample indices with that length.\n",
        "        indices = dataset.get_train_indices()\n",
        "        # Create and assign a batch sampler to retrieve a batch with the sampled indices.\n",
        "        initial_sampler = data.sampler.SubsetRandomSampler(indices=indices)\n",
        "        # data loader for COCO dataset.\n",
        "        data_loader = data.DataLoader(dataset=dataset,num_workers=num_workers,\n",
        "                                      batch_sampler=data.sampler.BatchSampler(sampler=initial_sampler,batch_size=dataset.batch_size,drop_last=False))\n",
        "    else:\n",
        "        data_loader = data.DataLoader(dataset=dataset,batch_size=dataset.batch_size,shuffle=True,num_workers=num_workers)\n",
        "\n",
        "    return data_loader"
      ],
      "metadata": {
        "id": "rtb5X8quFaiZ"
      },
      "execution_count": null,
      "outputs": []
    },
    {
      "cell_type": "code",
      "source": [
        "tokenizer = T5Tokenizer.from_pretrained('t5-small')\n",
        "tokenizer.add_tokens(['damagenet'])\n",
        "tokenizer.add_tokens(['adversarial'])\n",
        "tokenizer.add_tokens(['attack'])\n",
        "\n",
        "#ids_intensor = tokenizer(\"damagenet adversarial attack of cat eating pizza\", return_tensors=\"pt\").input_ids # caption tensor\n",
        "#preds_sentences = tokenizer.batch_decode(ids_intensor,  skip_special_tokens=False) # preditec tokens"
      ],
      "metadata": {
        "colab": {
          "base_uri": "https://localhost:8080/"
        },
        "id": "sZnUHJW0Fcpt",
        "outputId": "ebd0013e-32a8-4799-a413-8f7dab6a68ba"
      },
      "execution_count": null,
      "outputs": [
        {
          "output_type": "stream",
          "name": "stderr",
          "text": [
            "/usr/local/lib/python3.7/dist-packages/transformers/models/t5/tokenization_t5.py:174: FutureWarning: This tokenizer was incorrectly instantiated with a model max length of 512 which will be corrected in Transformers v5.\n",
            "For now, this behavior is kept to avoid breaking backwards compatibility when padding/encoding with `truncation is True`.\n",
            "- Be aware that you SHOULD NOT rely on t5-small automatically truncating your input to 512 when padding/encoding.\n",
            "- If you want to encode/pad to sequences longer than 512 you can either instantiate this tokenizer with `model_max_length` or pass `max_length` when encoding/padding.\n",
            "- To avoid this warning, please instantiate this tokenizer with `model_max_length` set to your preferred value.\n",
            "  FutureWarning,\n"
          ]
        },
        {
          "output_type": "execute_result",
          "data": {
            "text/plain": [
              "0"
            ]
          },
          "metadata": {},
          "execution_count": 37
        }
      ]
    },
    {
      "cell_type": "code",
      "source": [
        "mode='train'\n",
        "batch_size=1\n",
        "vocab_threshold=None\n",
        "vocab_file='./vocab.pkl'\n",
        "start_word=\"<start>\"\n",
        "end_word=\"<end>\"\n",
        "unk_word=\"<unk>\"\n",
        "vocab_from_file=True\n",
        "num_workers=0\n",
        "\n",
        "patha='/content/Drive/MyDrive/IA025/image_captioning/COCO/opt'\n",
        "annotations_file = os.path.join(patha, 'cocoapi/annotations/captions_train2014.json')\n",
        "\n",
        "vocab = Vocabulary(vocab_threshold, vocab_file, start_word,end_word, unk_word, annotations_file, vocab_from_file)# \n"
      ],
      "metadata": {
        "colab": {
          "base_uri": "https://localhost:8080/"
        },
        "id": "1roGM55LFfsf",
        "outputId": "ffc670c9-8673-45fd-8847-35b4f056800b"
      },
      "execution_count": null,
      "outputs": [
        {
          "output_type": "stream",
          "name": "stdout",
          "text": [
            "Vocabulary successfully loaded from vocab.pkl file!\n"
          ]
        }
      ]
    },
    {
      "cell_type": "markdown",
      "source": [
        "## data loader train"
      ],
      "metadata": {
        "id": "oSa-sPk8FlZY"
      }
    },
    {
      "cell_type": "code",
      "source": [
        "# Define a transform to pre-process the training images.\n",
        "transform_train = transforms.Compose([transforms.ToTensor(),                           # convert the PIL Image to a tensor\n",
        "                                      transforms.Normalize((0.485, 0.456, 0.406),      # normalize image for pre-trained model\n",
        "                                                          (0.229, 0.224, 0.225))])\n",
        "\n",
        "# Set the minimum word count threshold.\n",
        "vocab_threshold = 9\n",
        "\n",
        "# Specify the batch size.\n",
        "batch_size = 20\n",
        "\n",
        "folder=\"/content/drive/MyDrive/IA025/proy/experiments/mix1/\"\n",
        "img_folder=folder+'mix_train1/'\n",
        "\n",
        "\n",
        "# Obtain the data loader.\n",
        "data_loader_train = General_Loader(vocab=vocab,tokenizer=tokenizer,img_folder=img_folder,df_images_captions=df_images_captions,transform=transform_train,\n",
        "                                   mode='train',batch_size=batch_size,vocab_threshold=vocab_threshold,num_workers=0)"
      ],
      "metadata": {
        "colab": {
          "base_uri": "https://localhost:8080/"
        },
        "id": "PPKDQsrLFh34",
        "outputId": "6d335931-187e-48ae-efb3-c09f08a61183"
      },
      "execution_count": null,
      "outputs": [
        {
          "output_type": "stream",
          "name": "stdout",
          "text": [
            "images: 3650\n",
            "len(self.ids_names)  3650\n",
            "Counter({'ImageNet': 2000, 'DAmageNet': 850, 'winoground': 800})\n",
            "Obtaining caption lengths...\n"
          ]
        }
      ]
    },
    {
      "cell_type": "code",
      "execution_count": null,
      "metadata": {
        "colab": {
          "base_uri": "https://localhost:8080/"
        },
        "id": "j1dH_gRXKxGE",
        "outputId": "1063e050-03eb-4254-ac9b-dad2886d406f"
      },
      "outputs": [
        {
          "output_type": "stream",
          "name": "stdout",
          "text": [
            "Sample Indices: [361, 273, 16, 799, 588, 123, 739, 2631, 634, 403, 738, 360, 122, 634, 272, 56, 402, 18, 268, 88]\n",
            "torch.Size([20, 3, 224, 224]) torch.Size([20, 11])\n"
          ]
        }
      ],
      "source": [
        "# Exploring the dataloader now :\n",
        "# Randomly sample a caption length, and sample indices with that length.\n",
        "indices = data_loader_train.dataset.get_train_indices()\n",
        "print('Sample Indices:' , indices )\n",
        "\n",
        "# Create and assign a batch sampler to retrieve a batch with the sampled indices.\n",
        "sampler = data.sampler.SubsetRandomSampler(  indices )\n",
        "data_loader_train.batch_sampler.sampler = sampler \n",
        "\n",
        "# obtain images, caption :\n",
        "images , captions = next(iter(data_loader_train))\n",
        "print(images.shape , captions.shape)"
      ]
    },
    {
      "cell_type": "code",
      "execution_count": null,
      "metadata": {
        "id": "g8OaFH9VMCmB",
        "colab": {
          "base_uri": "https://localhost:8080/"
        },
        "outputId": "14e876f5-e99c-427f-d4fa-950bd965b65e"
      },
      "outputs": [
        {
          "output_type": "stream",
          "name": "stdout",
          "text": [
            "First few vocab {'<start>': 0, '<end>': 1, '<unk>': 2, 'a': 3, 'bicycle': 4, 'replica': 5, 'with': 6, 'clock': 7, 'as': 8, 'the': 9}\n",
            "Total number of tokens in vocabulary: 5134\n"
          ]
        }
      ],
      "source": [
        "# Lets check word2idx in vocb \n",
        "print('First few vocab' , dict(list(data_loader_train.dataset.vocab.word2idx.items())[:10]))\n",
        "# Print the total number of keys in the word2idx dictionary.\n",
        "print('Total number of tokens in vocabulary:', len(data_loader_train.dataset.vocab))"
      ]
    },
    {
      "cell_type": "markdown",
      "metadata": {
        "id": "uyxU5wWTPwtw"
      },
      "source": [
        "<a id='step2'></a>\n",
        "## Step 2: Use the Data Loader to Obtain Batches\n",
        "\n",
        "  "
      ]
    },
    {
      "cell_type": "code",
      "execution_count": null,
      "metadata": {
        "id": "T6HUbDqQPMyw",
        "colab": {
          "base_uri": "https://localhost:8080/"
        },
        "outputId": "81a10303-7c5e-499f-8ecc-9d80f1b9f6b0"
      },
      "outputs": [
        {
          "output_type": "stream",
          "name": "stdout",
          "text": [
            "value  9  count   882\n"
          ]
        }
      ],
      "source": [
        "from collections import Counter\n",
        "counter = Counter(data_loader_train.dataset.caption_lengths)\n",
        "lengths = sorted( counter.items() , key = lambda pair : pair[1] , reverse=True )\n",
        "for val,count in lengths:\n",
        "  print( 'value %2d  count %5d' %(val,count) )\n",
        "  if count < 10000: \n",
        "    break"
      ]
    },
    {
      "cell_type": "code",
      "execution_count": null,
      "metadata": {
        "id": "fRdnJ-eip_jL",
        "colab": {
          "base_uri": "https://localhost:8080/"
        },
        "outputId": "a869a0c2-6897-45ca-819f-24b3e9235ebd"
      },
      "outputs": [
        {
          "output_type": "stream",
          "name": "stdout",
          "text": [
            "Sample Indices: [1097, 1224, 559, 1049, 1779, 2637, 3229, 640, 2964, 932, 2868, 2677, 444, 919, 444, 912, 874, 889, 1359, 998]\n"
          ]
        }
      ],
      "source": [
        "# Randomly sample a caption length, and sample indices with that length.\n",
        "indices = data_loader_train.dataset.get_train_indices()\n",
        "print('Sample Indices:' , indices )\n",
        "\n",
        "# Create and assign a batch sampler to retrieve a batch with the sampled indices.\n",
        "sampler = data.sampler.SubsetRandomSampler(  indices )\n",
        "data_loader_train.batch_sampler.sampler = sampler \n"
      ]
    },
    {
      "cell_type": "code",
      "execution_count": null,
      "metadata": {
        "id": "d1XP-dg2cfIj"
      },
      "outputs": [],
      "source": [
        "import cv2\n",
        "from google.colab.patches import cv2_imshow\n"
      ]
    },
    {
      "cell_type": "code",
      "execution_count": null,
      "metadata": {
        "id": "_1OGOv1eNJBm"
      },
      "outputs": [],
      "source": [
        "import torch\n",
        "import torch.nn as nn\n",
        "import torchvision.models as models"
      ]
    },
    {
      "cell_type": "markdown",
      "metadata": {
        "id": "abIAGs8H5Gd6"
      },
      "source": [
        "## USE CNN stridep 16, "
      ]
    },
    {
      "cell_type": "code",
      "execution_count": null,
      "metadata": {
        "id": "JCUgvGZ8Q-xm"
      },
      "outputs": [],
      "source": [
        "#!pip install efficientnet_pytorch"
      ]
    },
    {
      "cell_type": "code",
      "execution_count": null,
      "metadata": {
        "id": "CZm0YLm0FjTr",
        "colab": {
          "base_uri": "https://localhost:8080/"
        },
        "outputId": "ed12bfcb-d367-4e96-c774-1c00d90c85d3"
      },
      "outputs": [
        {
          "output_type": "stream",
          "name": "stdout",
          "text": [
            "Looking in indexes: https://pypi.org/simple, https://us-python.pkg.dev/colab-wheels/public/simple/\n",
            "Requirement already satisfied: timm in /usr/local/lib/python3.7/dist-packages (0.6.5)\n",
            "Requirement already satisfied: torchvision in /usr/local/lib/python3.7/dist-packages (from timm) (0.13.0+cu113)\n",
            "Requirement already satisfied: torch>=1.4 in /usr/local/lib/python3.7/dist-packages (from timm) (1.12.0+cu113)\n",
            "Requirement already satisfied: typing-extensions in /usr/local/lib/python3.7/dist-packages (from torch>=1.4->timm) (4.1.1)\n",
            "Requirement already satisfied: pillow!=8.3.*,>=5.3.0 in /usr/local/lib/python3.7/dist-packages (from torchvision->timm) (7.1.2)\n",
            "Requirement already satisfied: requests in /usr/local/lib/python3.7/dist-packages (from torchvision->timm) (2.23.0)\n",
            "Requirement already satisfied: numpy in /usr/local/lib/python3.7/dist-packages (from torchvision->timm) (1.21.6)\n",
            "Requirement already satisfied: urllib3!=1.25.0,!=1.25.1,<1.26,>=1.21.1 in /usr/local/lib/python3.7/dist-packages (from requests->torchvision->timm) (1.24.3)\n",
            "Requirement already satisfied: chardet<4,>=3.0.2 in /usr/local/lib/python3.7/dist-packages (from requests->torchvision->timm) (3.0.4)\n",
            "Requirement already satisfied: certifi>=2017.4.17 in /usr/local/lib/python3.7/dist-packages (from requests->torchvision->timm) (2022.6.15)\n",
            "Requirement already satisfied: idna<3,>=2.5 in /usr/local/lib/python3.7/dist-packages (from requests->torchvision->timm) (2.10)\n"
          ]
        }
      ],
      "source": [
        "!pip install timm"
      ]
    },
    {
      "cell_type": "code",
      "execution_count": null,
      "metadata": {
        "id": "7xGzrNgfRFhI"
      },
      "outputs": [],
      "source": [
        "import torchvision.models as models\n"
      ]
    },
    {
      "cell_type": "code",
      "execution_count": null,
      "metadata": {
        "id": "yuqmvtzYFkJ9"
      },
      "outputs": [],
      "source": [
        "from timm import create_model\n",
        "#from efficientnet_pytorch import EfficientNet"
      ]
    },
    {
      "cell_type": "markdown",
      "metadata": {
        "id": "PoObGC7PAuS5"
      },
      "source": [
        "##implementation of encoders\n",
        "\n"
      ]
    },
    {
      "cell_type": "code",
      "execution_count": null,
      "metadata": {
        "id": "0FP08uWxAFj0"
      },
      "outputs": [],
      "source": [
        ""
      ]
    },
    {
      "cell_type": "code",
      "execution_count": null,
      "metadata": {
        "id": "KTPshxZ-NsLA"
      },
      "outputs": [],
      "source": [
        "import torch\n",
        "import torch.nn as nn\n",
        "import torchvision.models as models\n",
        "\n",
        "class EncoderCNN2(nn.Module):\n",
        "    def __init__(self, embed_size):\n",
        "        super(EncoderCNN, self).__init__()\n",
        "        resnet = models.resnet50(pretrained=True)\n",
        "        for param in resnet.parameters():\n",
        "            param.requires_grad_(False)\n",
        "        \n",
        "        modules = list(resnet.children())[:-1]\n",
        "        self.resnet = nn.Sequential(*modules)\n",
        "        self.embed = nn.Linear(resnet.fc.in_features, embed_size)\n",
        "\n",
        "    def forward(self, images):\n",
        "        features = self.resnet(images)        \n",
        "        features = features.view(features.size(0), -1)        \n",
        "        features = self.embed(features)        \n",
        "        return features"
      ]
    },
    {
      "cell_type": "code",
      "execution_count": null,
      "metadata": {
        "id": "wt-RKMHeSSrt"
      },
      "outputs": [],
      "source": [
        "class EncoderCNN(nn.Module):\n",
        "    def __init__(self, embed_size):\n",
        "        super(EncoderCNN, self).__init__()\n",
        "        self.f=8#factor internal emb\n",
        "        self.ks=16# kernel_size choose a pair\n",
        "        self.conv = nn.Conv2d(3, self.f, kernel_size=self.ks,  stride=self.ks)#,  dilation=1padding=0,bias=False,\n",
        "        self.f2=(224//self.ks)**2\n",
        "        self.embed= nn.Linear(self.f*self.f2, embed_size)\n",
        "\n",
        "    def forward(self, images):\n",
        "        features1 = self.conv(images)\n",
        "        #print('images.shape',images.shape)\n",
        "        #print('* features1.shape',features1.shape)        \n",
        "        features1 = features1.view(features1.size(0), -1)   \n",
        "        #print('+ features2.shape',features1.shape)        \n",
        "        features1 = self.embed(features1)\n",
        "        #print('# features3.shape',features1.shape) \n",
        "        return features1"
      ]
    },
    {
      "cell_type": "code",
      "execution_count": null,
      "metadata": {
        "id": "Q_7WcFWWf4fR",
        "colab": {
          "base_uri": "https://localhost:8080/"
        },
        "outputId": "b2b5c267-bc65-421c-fb29-682825e24e93"
      },
      "outputs": [
        {
          "output_type": "stream",
          "name": "stdout",
          "text": [
            "<class 'torch.Tensor'> torch.Size([20, 256]) torch.Size([20, 3, 224, 224])\n"
          ]
        }
      ],
      "source": [
        "# specify dim of image embedding\n",
        "device =  torch.device('cuda' if torch.cuda.is_available() else 'cpu')\n",
        "embed_size = 256 \n",
        "encoder = EncoderCNN( embed_size )\n",
        "encoder.to(device)\n",
        "images=  images.to(device) # images from step2 \n",
        "features = encoder(images)\n",
        "\n",
        "print(type(features) , features.shape , images.shape)\n",
        "assert( type(features) == torch.Tensor )  , 'Encoder output should be pytorch tensor'\n",
        "assert (features.shape[0] == batch_size) & (features.shape[1] == embed_size) , \"The shape of the encoder output is incorrect.\""
      ]
    },
    {
      "cell_type": "code",
      "execution_count": null,
      "metadata": {
        "id": "ul7mcWkoNvxJ"
      },
      "outputs": [],
      "source": [
        "import os \n",
        "import torch.utils.data as data \n",
        "import torch \n",
        "import math\n",
        "import pickle\n",
        "import matplotlib.pyplot as plt \n",
        "% matplotlib inline"
      ]
    },
    {
      "cell_type": "code",
      "execution_count": null,
      "metadata": {
        "id": "lWkmI-rVOvEr"
      },
      "outputs": [],
      "source": [
        "from typing import List\n",
        "import torch.nn.functional as F"
      ]
    },
    {
      "cell_type": "markdown",
      "metadata": {
        "id": "wIHg0KaEIAoK"
      },
      "source": [
        "## Model CNN+T5 (encoder+decoder)"
      ]
    },
    {
      "cell_type": "code",
      "execution_count": null,
      "metadata": {
        "id": "fnbyPJbJ9CZb"
      },
      "outputs": [],
      "source": [
        "class CNNT5(torch.nn.Module):\n",
        "    def __init__(self, tokenizer, pretrained_model,max_seq_length=32, image_size =224, patch_size=16, n_channels = 3, embed_size = 512):\n",
        "        \"\"\"\n",
        "        Implements the CNN + T5 (encoder and decoder).\"\n",
        "        Args:            tokenizer: tokenizer used for encoding and decoding\n",
        "        \"\"\"\n",
        "        super(CNNT5, self).__init__()\n",
        "\n",
        "        self.max_seq_length = max_seq_length\n",
        "        self.image_size = image_size\n",
        "        self.nc = n_channels\n",
        "        self.embed_size = embed_size\n",
        "        self.patch_cnn = nn.Conv2d(self.nc, self.embed_size, kernel_size=patch_size, stride=patch_size)\n",
        "        self.f=(image_size//patch_size)**2\n",
        "        self.w_embeddings = nn.Embedding(self.f, self.embed_size)\n",
        "\n",
        "        self.pad_token_id = tokenizer.pad_token_id\n",
        "        self.eos_token_id = tokenizer.eos_token_id\n",
        "        self.decoder_t5 = T5ForConditionalGeneration.from_pretrained(pretrained_model)\n",
        "        self.decoder_t5.config.eos_token_id = tokenizer.eos_token_id\n",
        "        self.decoder_t5.config.pad_token_id = tokenizer.pad_token_id\n",
        "        self.decoder_start_token_id = self.decoder_t5.config.decoder_start_token_id\n",
        "\n",
        "    def encoder(self, images):\n",
        "        #print('------ENCODER-------')\n",
        "        #print('images.shape',images.shape)\n",
        "        out = self.patch_cnn(images)\n",
        "        #print('out0.shape',out.shape)\n",
        "        out = out.permute(0, 2, 3, 1) \n",
        "        #print('out1.shape',out.shape)\n",
        "        out  = out .reshape(out.shape[0], -1, self.embed_size)\n",
        "        #print('out2.shape',out.shape)\n",
        "        out+=self.w_embeddings.weight\n",
        "        #print('out3.shape',out.shape)\n",
        "        return out\n",
        "\n",
        "    def forward(self, images = None, targets = None, decoder_ids = None):\n",
        "        #print('++++++DECODER+++++++')\n",
        "        features = self.encoder(images)\n",
        "        #print('features.shape',features.shape)\n",
        "        # condition from Larissa\n",
        "        if decoder_ids is not None:\n",
        "            out = self.decoder_t5(inputs_embeds=features, decoder_input_ids=decoder_ids)\n",
        "        else:\n",
        "            out = self.decoder_t5(inputs_embeds=features, labels=targets)\n",
        "        #print('out.shape',out.shape)\n",
        "        #print('')\n",
        "        #print('')\n",
        "        return out"
      ]
    },
    {
      "cell_type": "markdown",
      "metadata": {
        "id": "0PfVRqjbcarw"
      },
      "source": [
        "### Choose a pretained model of T5"
      ]
    },
    {
      "cell_type": "code",
      "execution_count": null,
      "metadata": {
        "id": "K09vpi4yKwng"
      },
      "outputs": [],
      "source": [
        "embed_size = 256\n",
        "hidden_size = 100\n",
        "num_layers =1 \n",
        "num_epochs = 250#4\n",
        "print_every = 61\n",
        "save_every = 25 \n",
        "vocab_size = len(data_loader_train.dataset.vocab)\n",
        "total_step = math.ceil( len(data_loader_train.dataset.caption_lengths) / data_loader_train.batch_sampler.batch_size   )"
      ]
    },
    {
      "cell_type": "code",
      "execution_count": null,
      "metadata": {
        "id": "Gt2lQ9Wlb88I",
        "colab": {
          "base_uri": "https://localhost:8080/",
          "height": 35
        },
        "outputId": "8d197963-be85-446f-a605-bb1e707f6153"
      },
      "outputs": [
        {
          "output_type": "execute_result",
          "data": {
            "text/plain": [
              "'\\nbyT5 is a T5 model pre-trained on byte sequences rather than SentencePiece subword token sequences.\\n'"
            ],
            "application/vnd.google.colaboratory.intrinsic+json": {
              "type": "string"
            }
          },
          "metadata": {},
          "execution_count": 57
        }
      ],
      "source": [
        "model = CNNT5(tokenizer,'t5-small')\n",
        "#tokenizer_base = T5Tokenizer.from_pretrained('t5-base') \n",
        "#tokenizer_large = T5Tokenizer.from_pretrained('t5-large')\n",
        "#tokenizer_3b = T5Tokenizer.from_pretrained('t5-3b')\n",
        "#tokenizer_11b = T5Tokenizer.from_pretrained('t5-11b')\n",
        "#model_v1_1 = T5ForConditionalGeneration.from_pretrained('google/t5-v1_1-base', return_dict=True)\n",
        "\"\"\"\n",
        "T5v1.1 is an improved version of T5 with some architectural tweaks, and is pre-trained on C4 only without mixing in the supervised tasks\n",
        "\"\"\"\n",
        "#model_byt5 = T5ForConditionalGeneration.from_pretrained('google/byt5-small', return_dict=True)\n",
        "\"\"\"\n",
        "byT5 is a T5 model pre-trained on byte sequences rather than SentencePiece subword token sequences.\n",
        "\"\"\""
      ]
    },
    {
      "cell_type": "code",
      "execution_count": null,
      "metadata": {
        "id": "IK40zPAKK1t-"
      },
      "outputs": [],
      "source": [
        "criterion = nn.CrossEntropyLoss()\n",
        "lr = 0.001\n",
        "all_params = list(model.parameters())  + list( encoder.embed.parameters() )\n",
        "optimizer = torch.optim.Adam( params  = all_params , lr = lr  )\n",
        "device =  torch.device('cuda' if torch.cuda.is_available() else 'cpu')"
      ]
    },
    {
      "cell_type": "markdown",
      "source": [
        "## name of model to save"
      ],
      "metadata": {
        "id": "td8sGTSCFuk6"
      }
    },
    {
      "cell_type": "code",
      "execution_count": null,
      "metadata": {
        "id": "fPt3ixPLwIN8"
      },
      "outputs": [],
      "source": [
        "model_save_path = '/content/drive/My Drive/Colab Notebooks/ComputerVision/CNN_T5/image_caption/CVND---Image-Captioning-Project/checkpoint'\n",
        "os.makedirs( model_save_path , exist_ok=True)\n",
        "# Save the params needed to created the model :\n",
        "model_input_params = {'embed_size' : embed_size , \n",
        "                'hidden_size' : hidden_size , \n",
        "                'num_layers' : num_layers,\n",
        "                'lr' : lr ,\n",
        "                'vocab_size' : vocab_size\n",
        "                }\n",
        "\n",
        "with open(  os.path.join(model_save_path , 'model_input_params_17_07_2022.pickle'), 'wb') as handle:\n",
        "    pickle.dump(model_input_params, handle, protocol=pickle.HIGHEST_PROTOCOL)"
      ]
    },
    {
      "cell_type": "code",
      "execution_count": null,
      "metadata": {
        "id": "DqHGpo2DC09A",
        "colab": {
          "base_uri": "https://localhost:8080/"
        },
        "outputId": "766166f1-4888-462a-8a86-4182ca47aa14"
      },
      "outputs": [
        {
          "output_type": "stream",
          "name": "stdout",
          "text": [
            "Looking in indexes: https://pypi.org/simple, https://us-python.pkg.dev/colab-wheels/public/simple/\n",
            "Requirement already satisfied: sacrebleu in /usr/local/lib/python3.7/dist-packages (2.1.0)\n",
            "Requirement already satisfied: tabulate>=0.8.9 in /usr/local/lib/python3.7/dist-packages (from sacrebleu) (0.8.10)\n",
            "Requirement already satisfied: colorama in /usr/local/lib/python3.7/dist-packages (from sacrebleu) (0.4.5)\n",
            "Requirement already satisfied: portalocker in /usr/local/lib/python3.7/dist-packages (from sacrebleu) (2.5.1)\n",
            "Requirement already satisfied: regex in /usr/local/lib/python3.7/dist-packages (from sacrebleu) (2022.6.2)\n",
            "Requirement already satisfied: numpy>=1.17 in /usr/local/lib/python3.7/dist-packages (from sacrebleu) (1.21.6)\n"
          ]
        }
      ],
      "source": [
        "!pip install sacrebleu"
      ]
    },
    {
      "cell_type": "code",
      "execution_count": null,
      "metadata": {
        "id": "iy1bWlp4ChqO"
      },
      "outputs": [],
      "source": [
        "from sacrebleu.metrics import BLEU \n",
        "import pandas as pd\n",
        "bleu = BLEU()\n",
        "bleu_score = []\n",
        "losses_training = []\n",
        "val_bleu_1=[]\n",
        "val_bleu_4=[]\n",
        "Epochs=[]\n",
        "steps=[]\n",
        "save_path = '/content/drive/My Drive/Colab Notebooks/ComputerVision/CNN_T5/image_caption/'"
      ]
    },
    {
      "cell_type": "code",
      "execution_count": null,
      "metadata": {
        "id": "ad9kL_Xig9yo"
      },
      "outputs": [],
      "source": [
        "from torch.utils.data import Dataset, DataLoader, random_split, SubsetRandomSampler, WeightedRandomSampler"
      ]
    },
    {
      "cell_type": "code",
      "source": [
        "total_step,batch_size"
      ],
      "metadata": {
        "id": "KMxG1ip0r4ok",
        "colab": {
          "base_uri": "https://localhost:8080/"
        },
        "outputId": "85627a19-adaf-4a8d-a5d1-643538dd4ca3"
      },
      "execution_count": null,
      "outputs": [
        {
          "output_type": "execute_result",
          "data": {
            "text/plain": [
              "(183, 20)"
            ]
          },
          "metadata": {},
          "execution_count": 63
        }
      ]
    },
    {
      "cell_type": "code",
      "source": [
        "folder0=\"/content/drive/MyDrive/IA025/proy/experiments/mix1/\"\n",
        "df_test1=pd.read_csv(folder0+'data_test1.csv')#\n",
        "df_images_captionstest=df_test1.copy()"
      ],
      "metadata": {
        "id": "32Ze7RaDQWTY"
      },
      "execution_count": null,
      "outputs": []
    },
    {
      "cell_type": "code",
      "source": [
        "import sys \n",
        "for e in range(num_epochs):\n",
        "  for step in range(total_step):\n",
        "    indices = data_loader_train.dataset.get_train_indices()\n",
        "    new_sampler = SubsetRandomSampler( indices )# check!!!!\n",
        "    data_loader_train.batch_sampler.sampler = new_sampler    \n",
        "    images,captions = next(iter(data_loader_train))    \n",
        "    images , captions = images.to(device) , captions.to(device)\n",
        "    model = model.to(device)\n",
        "    model.zero_grad()\n",
        "    output = model (images , captions )\n",
        "    logits = output.logits\n",
        "    train_preds = torch.argmax(logits, dim=-1)\n",
        "    preds_sentences = tokenizer.batch_decode(train_preds,  skip_special_tokens=False) #returns a list\n",
        "\n",
        "    labels = captions.clone()\n",
        "    text=tokenizer.batch_decode(labels,  skip_special_tokens=False)\n",
        "    bleu_result = bleu.corpus_score(preds_sentences, text)\n",
        "    #bleu_score.append(bleu_result.score)\n",
        "    #val_bleu_1.append(bleu_result.precisions[0])\n",
        "    #val_bleu_4.append(bleu_result.precisions[3])\n",
        "    loss = output.loss\n",
        "    loss.backward()\n",
        "    optimizer.step()\n",
        "    #losses_training.append(loss.item()) \n",
        "    #Epochs.append( e+1) \n",
        "    #steps.append(step) \n",
        "\n",
        "    \n",
        "    #stat_vals = 'Epochs [%d/%d] Step [%d/%d] Loss [%.4f] bleu [%.4f] bleu_1 [%.4f] bleu_4 [%.4f]' %( e+1,num_epochs,step,total_step,losses_training[-1],bleu_score[-1],val_bleu_1[-1],val_bleu_4[-1] )\n",
        "    stat_vals = 'Epochs [%d/%d] Step [%d/%d] Loss [%.4f] bleu [%.4f] bleu_1 [%.4f] bleu_4 [%.4f]' %( e+1,num_epochs,step,total_step,loss.item(),bleu_result.score,bleu_result.precisions[0],bleu_result.precisions[3] )\n",
        "    if step % print_every == 0 :\n",
        "      print(stat_vals)\n",
        "      sys.stdout.flush()\n",
        "  if e % 10 == 0:\n",
        "    torch.save( model.state_dict() ,  os.path.join( model_save_path , 'modeldata_{}.pkl'.format(e+1) ) )\n",
        "\n",
        "  bleu_score.append(bleu_result.score)\n",
        "  val_bleu_1.append(bleu_result.precisions[0])\n",
        "  val_bleu_4.append(bleu_result.precisions[3])\n",
        "  losses_training.append(loss.item()) \n",
        "  Epochs.append( e+1) \n",
        "  steps.append(step) \n",
        "\n",
        "  data = {'Epochs':Epochs,\n",
        "          'num_epochs':[num_epochs for k in range(len(Epochs))] ,\n",
        "          'step':steps,\n",
        "          '[total_step':[total_step for k in range(len(Epochs))],\n",
        "          'losses':losses_training,\n",
        "          'bleu_score':bleu_score,\n",
        "          'bleu1':val_bleu_1,\n",
        "          'bleu4':val_bleu_4}\n",
        "  #load data into a DataFrame object:\n",
        "  df_metrics = pd.DataFrame(data)\n",
        "  df_metrics.to_csv(save_path+'DF_metrics_exp1.csv',index=False)\n",
        "  #print('metrics saved')"
      ],
      "metadata": {
        "colab": {
          "base_uri": "https://localhost:8080/"
        },
        "id": "jdCjHUz6VhfK",
        "outputId": "14eee8da-6dc9-4c08-f755-d1a37e37ff2d"
      },
      "execution_count": null,
      "outputs": [
        {
          "output_type": "stream",
          "name": "stdout",
          "text": [
            "Epochs [1/250] Step [0/183] Loss [9.4545] bleu [1.3666] bleu_1 [3.5714] bleu_4 [0.7812]\n",
            "Epochs [1/250] Step [61/183] Loss [3.0821] bleu [0.2440] bleu_1 [4.7468] bleu_4 [0.0488]\n",
            "Epochs [1/250] Step [122/183] Loss [2.2112] bleu [0.2442] bleu_1 [5.4711] bleu_4 [0.0465]\n",
            "Epochs [2/250] Step [0/183] Loss [2.0820] bleu [0.3976] bleu_1 [6.0914] bleu_4 [0.0912]\n",
            "Epochs [2/250] Step [61/183] Loss [1.8061] bleu [0.2345] bleu_1 [5.0445] bleu_4 [0.0451]\n",
            "Epochs [2/250] Step [122/183] Loss [1.8518] bleu [0.2571] bleu_1 [5.9748] bleu_4 [0.0484]\n",
            "Epochs [3/250] Step [0/183] Loss [1.8504] bleu [0.2194] bleu_1 [4.7486] bleu_4 [0.0419]\n",
            "Epochs [3/250] Step [61/183] Loss [1.7191] bleu [0.2510] bleu_1 [5.6075] bleu_4 [0.0479]\n",
            "Epochs [3/250] Step [122/183] Loss [1.6826] bleu [0.2557] bleu_1 [4.9505] bleu_4 [0.0514]\n",
            "Epochs [4/250] Step [0/183] Loss [1.5322] bleu [0.2325] bleu_1 [4.3077] bleu_4 [0.0472]\n",
            "Epochs [4/250] Step [61/183] Loss [1.6610] bleu [0.2510] bleu_1 [5.6075] bleu_4 [0.0479]\n",
            "Epochs [4/250] Step [122/183] Loss [1.3824] bleu [0.2399] bleu_1 [4.4304] bleu_4 [0.0488]\n",
            "Epochs [5/250] Step [0/183] Loss [1.3671] bleu [0.2295] bleu_1 [4.4910] bleu_4 [0.0456]\n",
            "Epochs [5/250] Step [61/183] Loss [1.4694] bleu [0.2314] bleu_1 [4.0498] bleu_4 [0.0479]\n",
            "Epochs [5/250] Step [122/183] Loss [1.1630] bleu [0.2544] bleu_1 [5.9190] bleu_4 [0.0479]\n",
            "Epochs [6/250] Step [0/183] Loss [1.2450] bleu [0.2591] bleu_1 [6.5015] bleu_4 [0.0475]\n",
            "Epochs [6/250] Step [61/183] Loss [1.1120] bleu [0.2340] bleu_1 [4.8048] bleu_4 [0.0458]\n",
            "Epochs [6/250] Step [122/183] Loss [1.1624] bleu [0.2398] bleu_1 [4.6729] bleu_4 [0.0479]\n",
            "Epochs [7/250] Step [0/183] Loss [1.0513] bleu [0.2536] bleu_1 [5.6604] bleu_4 [0.0484]\n",
            "Epochs [7/250] Step [61/183] Loss [1.2736] bleu [0.2277] bleu_1 [5.9946] bleu_4 [0.0407]\n",
            "Epochs [7/250] Step [122/183] Loss [1.2023] bleu [0.2491] bleu_1 [6.0423] bleu_4 [0.0461]\n",
            "Epochs [8/250] Step [0/183] Loss [1.0829] bleu [0.2542] bleu_1 [6.1538] bleu_4 [0.0472]\n",
            "Epochs [8/250] Step [61/183] Loss [1.0273] bleu [0.2907] bleu_1 [6.1151] bleu_4 [0.0573]\n",
            "Epochs [8/250] Step [122/183] Loss [0.9604] bleu [0.2505] bleu_1 [6.3063] bleu_4 [0.0458]\n",
            "Epochs [9/250] Step [0/183] Loss [1.0218] bleu [0.2404] bleu_1 [4.9231] bleu_4 [0.0472]\n",
            "Epochs [9/250] Step [61/183] Loss [1.0189] bleu [0.2609] bleu_1 [6.5421] bleu_4 [0.0479]\n",
            "Epochs [9/250] Step [122/183] Loss [0.9667] bleu [0.2484] bleu_1 [5.7927] bleu_4 [0.0466]\n",
            "Epochs [10/250] Step [0/183] Loss [0.9492] bleu [0.2396] bleu_1 [4.9080] bleu_4 [0.0470]\n",
            "Epochs [10/250] Step [61/183] Loss [0.9577] bleu [0.2474] bleu_1 [6.0060] bleu_4 [0.0458]\n",
            "Epochs [10/250] Step [122/183] Loss [1.0388] bleu [0.2365] bleu_1 [4.6154] bleu_4 [0.0472]\n",
            "Epochs [11/250] Step [0/183] Loss [0.9131] bleu [0.1803] bleu_1 [3.4146] bleu_4 [0.0357]\n",
            "Epochs [11/250] Step [61/183] Loss [1.0150] bleu [0.2561] bleu_1 [5.2117] bleu_4 [0.0506]\n",
            "Epochs [11/250] Step [122/183] Loss [1.0129] bleu [0.2412] bleu_1 [4.9383] bleu_4 [0.0473]\n",
            "Epochs [12/250] Step [0/183] Loss [0.8737] bleu [0.1790] bleu_1 [1.9886] bleu_4 [0.0428]\n",
            "Epochs [12/250] Step [61/183] Loss [0.9030] bleu [0.2408] bleu_1 [5.1672] bleu_4 [0.0465]\n",
            "Epochs [12/250] Step [122/183] Loss [0.9526] bleu [0.2404] bleu_1 [4.9231] bleu_4 [0.0472]\n",
            "Epochs [13/250] Step [0/183] Loss [0.9832] bleu [0.2178] bleu_1 [3.6036] bleu_4 [0.0458]\n",
            "Epochs [13/250] Step [61/183] Loss [1.0046] bleu [0.2419] bleu_1 [5.6548] bleu_4 [0.0453]\n",
            "Epochs [13/250] Step [122/183] Loss [0.8371] bleu [0.2492] bleu_1 [5.8104] bleu_4 [0.0468]\n",
            "Epochs [14/250] Step [0/183] Loss [0.8945] bleu [0.2398] bleu_1 [4.6729] bleu_4 [0.0479]\n",
            "Epochs [14/250] Step [61/183] Loss [0.9101] bleu [0.2598] bleu_1 [6.0317] bleu_4 [0.0490]\n",
            "Epochs [14/250] Step [122/183] Loss [0.9199] bleu [0.2488] bleu_1 [6.2687] bleu_4 [0.0455]\n",
            "Epochs [15/250] Step [0/183] Loss [0.8727] bleu [0.2259] bleu_1 [3.9634] bleu_4 [0.0466]\n",
            "Epochs [15/250] Step [61/183] Loss [0.9366] bleu [0.2451] bleu_1 [5.4878] bleu_4 [0.0466]\n",
            "Epochs [15/250] Step [122/183] Loss [0.8809] bleu [0.2357] bleu_1 [4.3614] bleu_4 [0.0479]\n",
            "Epochs [16/250] Step [0/183] Loss [0.9276] bleu [0.2365] bleu_1 [4.6154] bleu_4 [0.0472]\n",
            "Epochs [16/250] Step [61/183] Loss [0.8501] bleu [0.2554] bleu_1 [5.6962] bleu_4 [0.0488]\n",
            "Epochs [16/250] Step [122/183] Loss [0.8993] bleu [0.1949] bleu_1 [2.6087] bleu_4 [0.0439]\n",
            "Epochs [17/250] Step [0/183] Loss [0.8627] bleu [0.2382] bleu_1 [4.4025] bleu_4 [0.0484]\n",
            "Epochs [17/250] Step [61/183] Loss [0.7866] bleu [0.3060] bleu_1 [6.6914] bleu_4 [0.0598]\n",
            "Epochs [17/250] Step [122/183] Loss [0.7809] bleu [0.2468] bleu_1 [6.4516] bleu_4 [0.0445]\n",
            "Epochs [18/250] Step [0/183] Loss [0.8015] bleu [0.2182] bleu_1 [3.3742] bleu_4 [0.0470]\n",
            "Epochs [18/250] Step [61/183] Loss [0.9719] bleu [0.1830] bleu_1 [2.0290] bleu_4 [0.0439]\n",
            "Epochs [18/250] Step [122/183] Loss [0.8021] bleu [0.2669] bleu_1 [7.4074] bleu_4 [0.0473]\n",
            "Epochs [19/250] Step [0/183] Loss [0.7142] bleu [0.2547] bleu_1 [6.4024] bleu_4 [0.0466]\n",
            "Epochs [19/250] Step [61/183] Loss [0.9084] bleu [0.2451] bleu_1 [5.4878] bleu_4 [0.0466]\n",
            "Epochs [19/250] Step [122/183] Loss [0.8477] bleu [0.2527] bleu_1 [5.8824] bleu_4 [0.0475]\n",
            "Epochs [20/250] Step [0/183] Loss [0.7013] bleu [0.2536] bleu_1 [5.4140] bleu_4 [0.0492]\n",
            "Epochs [20/250] Step [61/183] Loss [0.8278] bleu [0.1649] bleu_1 [1.1976] bleu_4 [0.0456]\n",
            "Epochs [20/250] Step [122/183] Loss [0.7747] bleu [0.2420] bleu_1 [4.9536] bleu_4 [0.0475]\n",
            "Epochs [21/250] Step [0/183] Loss [0.8001] bleu [0.2374] bleu_1 [4.6296] bleu_4 [0.0473]\n",
            "Epochs [21/250] Step [61/183] Loss [0.6613] bleu [0.2483] bleu_1 [6.0241] bleu_4 [0.0460]\n",
            "Epochs [21/250] Step [122/183] Loss [0.8717] bleu [0.1577] bleu_1 [2.5057] bleu_4 [0.0330]\n",
            "Epochs [22/250] Step [0/183] Loss [0.6882] bleu [0.2365] bleu_1 [4.3750] bleu_4 [0.0481]\n",
            "Epochs [22/250] Step [61/183] Loss [0.7291] bleu [0.2364] bleu_1 [4.8485] bleu_4 [0.0463]\n",
            "Epochs [22/250] Step [122/183] Loss [0.7835] bleu [0.2467] bleu_1 [5.7576] bleu_4 [0.0463]\n",
            "Epochs [23/250] Step [0/183] Loss [0.7521] bleu [0.2372] bleu_1 [4.8632] bleu_4 [0.0465]\n",
            "Epochs [23/250] Step [61/183] Loss [0.7411] bleu [0.2476] bleu_1 [5.5385] bleu_4 [0.0472]\n",
            "Epochs [23/250] Step [122/183] Loss [0.6651] bleu [0.2562] bleu_1 [5.9561] bleu_4 [0.0483]\n",
            "Epochs [24/250] Step [0/183] Loss [0.6032] bleu [0.2390] bleu_1 [4.4164] bleu_4 [0.0486]\n",
            "Epochs [24/250] Step [61/183] Loss [0.6140] bleu [0.2406] bleu_1 [6.7416] bleu_4 [0.0422]\n",
            "Epochs [24/250] Step [122/183] Loss [0.6003] bleu [0.2357] bleu_1 [4.6012] bleu_4 [0.0470]\n",
            "Epochs [25/250] Step [0/183] Loss [0.6121] bleu [0.2424] bleu_1 [5.1988] bleu_4 [0.0468]\n",
            "Epochs [25/250] Step [61/183] Loss [0.5729] bleu [0.2596] bleu_1 [5.0167] bleu_4 [0.0523]\n",
            "Epochs [25/250] Step [122/183] Loss [0.5133] bleu [0.2424] bleu_1 [5.1988] bleu_4 [0.0468]\n",
            "Epochs [26/250] Step [0/183] Loss [0.6458] bleu [0.2968] bleu_1 [7.3427] bleu_4 [0.0553]\n",
            "Epochs [26/250] Step [61/183] Loss [0.8339] bleu [0.2363] bleu_1 [5.3097] bleu_4 [0.0448]\n",
            "Epochs [26/250] Step [122/183] Loss [0.6593] bleu [0.2402] bleu_1 [5.3892] bleu_4 [0.0456]\n",
            "Epochs [27/250] Step [0/183] Loss [0.5454] bleu [0.2561] bleu_1 [5.2117] bleu_4 [0.0506]\n",
            "Epochs [27/250] Step [61/183] Loss [0.5973] bleu [0.2073] bleu_1 [4.7120] bleu_4 [0.0388]\n",
            "Epochs [27/250] Step [122/183] Loss [0.6434] bleu [0.2420] bleu_1 [4.9536] bleu_4 [0.0475]\n",
            "Epochs [28/250] Step [0/183] Loss [0.4976] bleu [0.2298] bleu_1 [4.0248] bleu_4 [0.0475]\n",
            "Epochs [28/250] Step [61/183] Loss [0.5031] bleu [0.2147] bleu_1 [4.8649] bleu_4 [0.0403]\n",
            "Epochs [28/250] Step [122/183] Loss [0.6419] bleu [0.2399] bleu_1 [6.2857] bleu_4 [0.0431]\n",
            "Epochs [29/250] Step [0/183] Loss [0.5165] bleu [0.2582] bleu_1 [6.4815] bleu_4 [0.0473]\n",
            "Epochs [29/250] Step [61/183] Loss [0.5165] bleu [0.2222] bleu_1 [3.6697] bleu_4 [0.0468]\n",
            "Epochs [29/250] Step [122/183] Loss [0.4356] bleu [0.2301] bleu_1 [4.2683] bleu_4 [0.0466]\n",
            "Epochs [30/250] Step [0/183] Loss [0.4575] bleu [0.2733] bleu_1 [6.3123] bleu_4 [0.0519]\n",
            "Epochs [30/250] Step [61/183] Loss [0.6033] bleu [0.2577] bleu_1 [6.2305] bleu_4 [0.0479]\n",
            "Epochs [30/250] Step [122/183] Loss [0.6565] bleu [0.1639] bleu_1 [3.2967] bleu_4 [0.0316]\n",
            "Epochs [31/250] Step [0/183] Loss [0.5480] bleu [0.2222] bleu_1 [5.2342] bleu_4 [0.0413]\n",
            "Epochs [31/250] Step [61/183] Loss [0.4992] bleu [0.2294] bleu_1 [4.2553] bleu_4 [0.0465]\n",
            "Epochs [31/250] Step [122/183] Loss [0.6609] bleu [0.2592] bleu_1 [4.4828] bleu_4 [0.0543]\n",
            "Epochs [32/250] Step [0/183] Loss [0.4339] bleu [0.2489] bleu_1 [5.0794] bleu_4 [0.0490]\n",
            "Epochs [32/250] Step [61/183] Loss [0.3694] bleu [0.2055] bleu_1 [4.4737] bleu_4 [0.0391]\n",
            "Epochs [32/250] Step [122/183] Loss [0.3714] bleu [0.2511] bleu_1 [4.8701] bleu_4 [0.0504]\n",
            "Epochs [33/250] Step [0/183] Loss [0.3358] bleu [0.2398] bleu_1 [4.6729] bleu_4 [0.0479]\n",
            "Epochs [33/250] Step [61/183] Loss [0.3663] bleu [0.2594] bleu_1 [6.7485] bleu_4 [0.0470]\n",
            "Epochs [33/250] Step [122/183] Loss [0.4524] bleu [0.2451] bleu_1 [5.4878] bleu_4 [0.0466]\n",
            "Epochs [34/250] Step [0/183] Loss [0.3607] bleu [0.2554] bleu_1 [5.4487] bleu_4 [0.0496]\n",
            "Epochs [34/250] Step [61/183] Loss [0.3727] bleu [0.2518] bleu_1 [5.3797] bleu_4 [0.0488]\n",
            "Epochs [34/250] Step [122/183] Loss [0.4557] bleu [0.1570] bleu_1 [3.3264] bleu_4 [0.0297]\n",
            "Epochs [35/250] Step [0/183] Loss [0.3233] bleu [0.2768] bleu_1 [6.6445] bleu_4 [0.0519]\n",
            "Epochs [35/250] Step [61/183] Loss [0.4188] bleu [0.3436] bleu_1 [8.6614] bleu_4 [0.0644]\n",
            "Epochs [35/250] Step [122/183] Loss [0.3426] bleu [0.3574] bleu_1 [7.6596] bleu_4 [0.0714]\n",
            "Epochs [36/250] Step [0/183] Loss [0.2993] bleu [0.2561] bleu_1 [5.2117] bleu_4 [0.0506]\n",
            "Epochs [36/250] Step [61/183] Loss [0.3789] bleu [0.2615] bleu_1 [5.0505] bleu_4 [0.0527]\n",
            "Epochs [36/250] Step [122/183] Loss [0.3153] bleu [0.2491] bleu_1 [6.0423] bleu_4 [0.0461]\n",
            "Epochs [37/250] Step [0/183] Loss [0.3365] bleu [0.2599] bleu_1 [5.2805] bleu_4 [0.0514]\n",
            "Epochs [37/250] Step [61/183] Loss [0.3247] bleu [0.2941] bleu_1 [6.7376] bleu_4 [0.0563]\n",
            "Epochs [37/250] Step [122/183] Loss [0.2953] bleu [0.2610] bleu_1 [5.5556] bleu_4 [0.0508]\n",
            "Epochs [38/250] Step [0/183] Loss [0.3048] bleu [0.2610] bleu_1 [5.5556] bleu_4 [0.0508]\n",
            "Epochs [38/250] Step [61/183] Loss [0.3701] bleu [0.2638] bleu_1 [5.8632] bleu_4 [0.0506]\n",
            "Epochs [38/250] Step [122/183] Loss [0.3159] bleu [0.2405] bleu_1 [4.1935] bleu_4 [0.0500]\n",
            "Epochs [39/250] Step [0/183] Loss [0.3936] bleu [0.2292] bleu_1 [5.6022] bleu_4 [0.0421]\n",
            "Epochs [39/250] Step [61/183] Loss [0.2892] bleu [0.2161] bleu_1 [5.7143] bleu_4 [0.0385]\n",
            "Epochs [39/250] Step [122/183] Loss [0.5490] bleu [0.2821] bleu_1 [6.7568] bleu_4 [0.0530]\n",
            "Epochs [40/250] Step [0/183] Loss [0.2756] bleu [0.2484] bleu_1 [5.7927] bleu_4 [0.0466]\n",
            "Epochs [40/250] Step [61/183] Loss [0.2226] bleu [0.3342] bleu_1 [7.5397] bleu_4 [0.0651]\n",
            "Epochs [40/250] Step [122/183] Loss [0.3027] bleu [0.2922] bleu_1 [5.8608] bleu_4 [0.0587]\n",
            "Epochs [41/250] Step [0/183] Loss [0.2899] bleu [0.2450] bleu_1 [4.5161] bleu_4 [0.0500]\n",
            "Epochs [41/250] Step [61/183] Loss [0.2817] bleu [0.2688] bleu_1 [5.7047] bleu_4 [0.0525]\n",
            "Epochs [41/250] Step [122/183] Loss [0.2377] bleu [0.2875] bleu_1 [6.8729] bleu_4 [0.0541]\n",
            "Epochs [42/250] Step [0/183] Loss [0.2051] bleu [0.2838] bleu_1 [5.1471] bleu_4 [0.0590]\n",
            "Epochs [42/250] Step [61/183] Loss [0.3623] bleu [0.2437] bleu_1 [6.3768] bleu_4 [0.0439]\n",
            "Epochs [42/250] Step [122/183] Loss [0.3379] bleu [0.1946] bleu_1 [4.0609] bleu_4 [0.0374]\n",
            "Epochs [43/250] Step [0/183] Loss [0.2835] bleu [0.2697] bleu_1 [5.1903] bleu_4 [0.0546]\n",
            "Epochs [43/250] Step [61/183] Loss [0.2610] bleu [0.2341] bleu_1 [3.8462] bleu_4 [0.0496]\n",
            "Epochs [43/250] Step [122/183] Loss [0.2098] bleu [0.2610] bleu_1 [5.5556] bleu_4 [0.0508]\n",
            "Epochs [44/250] Step [0/183] Loss [0.2788] bleu [0.3003] bleu_1 [7.4205] bleu_4 [0.0561]\n",
            "Epochs [44/250] Step [61/183] Loss [0.1925] bleu [0.2572] bleu_1 [5.4839] bleu_4 [0.0500]\n",
            "Epochs [44/250] Step [122/183] Loss [0.2059] bleu [0.2968] bleu_1 [7.3427] bleu_4 [0.0553]\n",
            "Epochs [45/250] Step [0/183] Loss [0.2260] bleu [0.2459] bleu_1 [5.7402] bleu_4 [0.0461]\n",
            "Epochs [45/250] Step [61/183] Loss [0.1935] bleu [0.2493] bleu_1 [5.5728] bleu_4 [0.0475]\n",
            "Epochs [45/250] Step [122/183] Loss [0.2885] bleu [0.1244] bleu_1 [2.0073] bleu_4 [0.0256]\n",
            "Epochs [46/250] Step [0/183] Loss [0.2449] bleu [0.2728] bleu_1 [6.5574] bleu_4 [0.0510]\n",
            "Epochs [46/250] Step [61/183] Loss [0.2197] bleu [0.2372] bleu_1 [5.5556] bleu_4 [0.0443]\n",
            "Epochs [46/250] Step [122/183] Loss [0.2728] bleu [0.2458] bleu_1 [4.7771] bleu_4 [0.0492]\n",
            "Epochs [47/250] Step [0/183] Loss [0.1883] bleu [0.2840] bleu_1 [5.7143] bleu_4 [0.0568]\n",
            "Epochs [47/250] Step [61/183] Loss [0.2310] bleu [0.2599] bleu_1 [5.2805] bleu_4 [0.0514]\n",
            "Epochs [47/250] Step [122/183] Loss [0.2029] bleu [0.2747] bleu_1 [6.0811] bleu_4 [0.0530]\n",
            "Epochs [48/250] Step [0/183] Loss [0.1807] bleu [0.2853] bleu_1 [6.8259] bleu_4 [0.0536]\n",
            "Epochs [48/250] Step [61/183] Loss [0.1612] bleu [0.2057] bleu_1 [4.0650] bleu_4 [0.0405]\n",
            "Epochs [48/250] Step [122/183] Loss [0.2089] bleu [0.2743] bleu_1 [6.3333] bleu_4 [0.0521]\n",
            "Epochs [49/250] Step [0/183] Loss [0.2243] bleu [0.2407] bleu_1 [4.4444] bleu_4 [0.0490]\n",
            "Epochs [49/250] Step [61/183] Loss [0.2222] bleu [0.2867] bleu_1 [6.3158] bleu_4 [0.0556]\n",
            "Epochs [49/250] Step [122/183] Loss [0.3066] bleu [0.2648] bleu_1 [5.6291] bleu_4 [0.0517]\n",
            "Epochs [50/250] Step [0/183] Loss [0.2056] bleu [0.2782] bleu_1 [6.9307] bleu_4 [0.0514]\n",
            "Epochs [50/250] Step [61/183] Loss [0.2070] bleu [0.2506] bleu_1 [5.1118] bleu_4 [0.0494]\n",
            "Epochs [50/250] Step [122/183] Loss [0.2956] bleu [0.2638] bleu_1 [5.8632] bleu_4 [0.0506]\n",
            "Epochs [51/250] Step [0/183] Loss [0.1828] bleu [0.3077] bleu_1 [7.5812] bleu_4 [0.0576]\n",
            "Epochs [51/250] Step [61/183] Loss [0.2053] bleu [0.2758] bleu_1 [6.1017] bleu_4 [0.0532]\n",
            "Epochs [51/250] Step [122/183] Loss [0.2322] bleu [0.2867] bleu_1 [6.3158] bleu_4 [0.0556]\n",
            "Epochs [52/250] Step [0/183] Loss [0.2397] bleu [0.2906] bleu_1 [6.6667] bleu_4 [0.0556]\n",
            "Epochs [52/250] Step [61/183] Loss [0.1959] bleu [0.2664] bleu_1 [4.5936] bleu_4 [0.0561]\n",
            "Epochs [52/250] Step [122/183] Loss [0.3040] bleu [0.1282] bleu_1 [1.9194] bleu_4 [0.0271]\n",
            "Epochs [53/250] Step [0/183] Loss [0.2028] bleu [0.2505] bleu_1 [3.8194] bleu_4 [0.0548]\n",
            "Epochs [53/250] Step [61/183] Loss [0.1852] bleu [0.2979] bleu_1 [7.0922] bleu_4 [0.0563]\n",
            "Epochs [53/250] Step [122/183] Loss [0.1976] bleu [0.3287] bleu_1 [8.3333] bleu_4 [0.0613]\n",
            "Epochs [54/250] Step [0/183] Loss [0.2089] bleu [0.2628] bleu_1 [5.8442] bleu_4 [0.0504]\n",
            "Epochs [54/250] Step [61/183] Loss [0.2053] bleu [0.2648] bleu_1 [5.3691] bleu_4 [0.0525]\n",
            "Epochs [54/250] Step [122/183] Loss [0.1897] bleu [0.2515] bleu_1 [5.1282] bleu_4 [0.0496]\n",
            "Epochs [55/250] Step [0/183] Loss [0.2752] bleu [0.2501] bleu_1 [5.8282] bleu_4 [0.0470]\n",
            "Epochs [55/250] Step [61/183] Loss [0.1917] bleu [0.2573] bleu_1 [6.4615] bleu_4 [0.0472]\n",
            "Epochs [55/250] Step [122/183] Loss [0.1816] bleu [0.2984] bleu_1 [5.9701] bleu_4 [0.0601]\n",
            "Epochs [56/250] Step [0/183] Loss [0.1830] bleu [0.3280] bleu_1 [6.8000] bleu_4 [0.0658]\n",
            "Epochs [56/250] Step [61/183] Loss [0.1671] bleu [0.2591] bleu_1 [5.5195] bleu_4 [0.0504]\n",
            "Epochs [56/250] Step [122/183] Loss [0.1998] bleu [0.2349] bleu_1 [3.8585] bleu_4 [0.0498]\n",
            "Epochs [57/250] Step [0/183] Loss [0.2139] bleu [0.2591] bleu_1 [5.7692] bleu_4 [0.0496]\n",
            "Epochs [57/250] Step [61/183] Loss [0.2571] bleu [0.2638] bleu_1 [5.3512] bleu_4 [0.0523]\n",
            "Epochs [57/250] Step [122/183] Loss [0.2510] bleu [0.1918] bleu_1 [2.5714] bleu_4 [0.0431]\n",
            "Epochs [58/250] Step [0/183] Loss [0.2527] bleu [0.3026] bleu_1 [7.7465] bleu_4 [0.0558]\n",
            "Epochs [58/250] Step [61/183] Loss [0.1812] bleu [0.2586] bleu_1 [6.2500] bleu_4 [0.0481]\n",
            "Epochs [58/250] Step [122/183] Loss [0.1883] bleu [0.2828] bleu_1 [5.6940] bleu_4 [0.0566]\n",
            "Epochs [59/250] Step [0/183] Loss [0.1895] bleu [0.2822] bleu_1 [6.2284] bleu_4 [0.0546]\n",
            "Epochs [59/250] Step [61/183] Loss [0.1637] bleu [0.2985] bleu_1 [6.5455] bleu_4 [0.0581]\n",
            "Epochs [59/250] Step [122/183] Loss [0.1938] bleu [0.2811] bleu_1 [6.2069] bleu_4 [0.0543]\n",
            "Epochs [60/250] Step [0/183] Loss [0.2030] bleu [0.1946] bleu_1 [4.6341] bleu_4 [0.0357]\n",
            "Epochs [60/250] Step [61/183] Loss [0.1473] bleu [0.3250] bleu_1 [6.7460] bleu_4 [0.0651]\n",
            "Epochs [60/250] Step [122/183] Loss [0.2271] bleu [0.2965] bleu_1 [6.7857] bleu_4 [0.0568]\n",
            "Epochs [61/250] Step [0/183] Loss [0.1611] bleu [0.2910] bleu_1 [5.8394] bleu_4 [0.0584]\n",
            "Epochs [61/250] Step [61/183] Loss [0.2296] bleu [0.2790] bleu_1 [6.1644] bleu_4 [0.0539]\n",
            "Epochs [61/250] Step [122/183] Loss [0.1533] bleu [0.2920] bleu_1 [6.9686] bleu_4 [0.0551]\n",
            "Epochs [62/250] Step [0/183] Loss [0.1500] bleu [0.2580] bleu_1 [5.2459] bleu_4 [0.0510]\n",
            "Epochs [62/250] Step [61/183] Loss [0.1531] bleu [0.2706] bleu_1 [6.0000] bleu_4 [0.0521]\n",
            "Epochs [62/250] Step [122/183] Loss [0.1621] bleu [0.2883] bleu_1 [6.0714] bleu_4 [0.0568]\n",
            "Epochs [63/250] Step [0/183] Loss [0.1544] bleu [0.3040] bleu_1 [7.5000] bleu_4 [0.0568]\n",
            "Epochs [63/250] Step [61/183] Loss [0.1624] bleu [0.2886] bleu_1 [5.7971] bleu_4 [0.0579]\n",
            "Epochs [63/250] Step [122/183] Loss [0.1548] bleu [0.2955] bleu_1 [6.2044] bleu_4 [0.0584]\n",
            "Epochs [64/250] Step [0/183] Loss [0.1807] bleu [0.2913] bleu_1 [6.4057] bleu_4 [0.0566]\n",
            "Epochs [64/250] Step [61/183] Loss [0.1710] bleu [0.2474] bleu_1 [5.2960] bleu_4 [0.0479]\n",
            "Epochs [64/250] Step [122/183] Loss [0.1357] bleu [0.2751] bleu_1 [5.5556] bleu_4 [0.0548]\n",
            "Epochs [65/250] Step [0/183] Loss [0.1647] bleu [0.2935] bleu_1 [5.8824] bleu_4 [0.0590]\n",
            "Epochs [65/250] Step [61/183] Loss [0.1654] bleu [0.2622] bleu_1 [6.3291] bleu_4 [0.0488]\n",
            "Epochs [65/250] Step [122/183] Loss [0.1553] bleu [0.2668] bleu_1 [5.4054] bleu_4 [0.0530]\n",
            "Epochs [66/250] Step [0/183] Loss [0.1853] bleu [0.2839] bleu_1 [6.5292] bleu_4 [0.0541]\n",
            "Epochs [66/250] Step [61/183] Loss [0.1982] bleu [0.2177] bleu_1 [2.6316] bleu_4 [0.0512]\n",
            "Epochs [66/250] Step [122/183] Loss [0.3033] bleu [0.2047] bleu_1 [2.7273] bleu_4 [0.0463]\n",
            "Epochs [67/250] Step [0/183] Loss [0.2754] bleu [0.2748] bleu_1 [6.6007] bleu_4 [0.0514]\n",
            "Epochs [67/250] Step [61/183] Loss [0.2735] bleu [0.2876] bleu_1 [5.4945] bleu_4 [0.0587]\n",
            "Epochs [67/250] Step [122/183] Loss [0.2505] bleu [0.2706] bleu_1 [6.0000] bleu_4 [0.0521]\n",
            "Epochs [68/250] Step [0/183] Loss [0.1958] bleu [0.2645] bleu_1 [5.1020] bleu_4 [0.0534]\n",
            "Epochs [68/250] Step [61/183] Loss [0.2430] bleu [0.2789] bleu_1 [6.6890] bleu_4 [0.0523]\n",
            "Epochs [68/250] Step [122/183] Loss [0.2354] bleu [0.3142] bleu_1 [7.1429] bleu_4 [0.0607]\n",
            "Epochs [69/250] Step [0/183] Loss [0.1546] bleu [0.2922] bleu_1 [7.5085] bleu_4 [0.0536]\n",
            "Epochs [69/250] Step [61/183] Loss [0.2214] bleu [0.2292] bleu_1 [4.9419] bleu_4 [0.0440]\n",
            "Epochs [69/250] Step [122/183] Loss [0.1973] bleu [0.2629] bleu_1 [5.5921] bleu_4 [0.0512]\n",
            "Epochs [70/250] Step [0/183] Loss [0.1937] bleu [0.3014] bleu_1 [7.7193] bleu_4 [0.0556]\n",
            "Epochs [70/250] Step [61/183] Loss [0.1642] bleu [0.2424] bleu_1 [6.1224] bleu_4 [0.0442]\n",
            "Epochs [70/250] Step [122/183] Loss [0.1847] bleu [0.3210] bleu_1 [7.5758] bleu_4 [0.0613]\n",
            "Epochs [71/250] Step [0/183] Loss [0.1797] bleu [0.2750] bleu_1 [5.8219] bleu_4 [0.0539]\n",
            "Epochs [71/250] Step [61/183] Loss [0.1678] bleu [0.3235] bleu_1 [7.9245] bleu_4 [0.0610]\n",
            "Epochs [71/250] Step [122/183] Loss [0.2569] bleu [0.1879] bleu_1 [3.1496] bleu_4 [0.0389]\n",
            "Epochs [72/250] Step [0/183] Loss [0.1418] bleu [0.3064] bleu_1 [7.5540] bleu_4 [0.0573]\n",
            "Epochs [72/250] Step [61/183] Loss [0.1478] bleu [0.2975] bleu_1 [5.3640] bleu_4 [0.0622]\n",
            "Epochs [72/250] Step [122/183] Loss [0.1413] bleu [0.2900] bleu_1 [5.5351] bleu_4 [0.0592]\n",
            "Epochs [73/250] Step [0/183] Loss [0.1550] bleu [0.2762] bleu_1 [5.5749] bleu_4 [0.0551]\n",
            "Epochs [73/250] Step [61/183] Loss [0.1501] bleu [0.3268] bleu_1 [7.3930] bleu_4 [0.0635]\n",
            "Epochs [73/250] Step [122/183] Loss [0.1529] bleu [0.2883] bleu_1 [6.6202] bleu_4 [0.0551]\n",
            "Epochs [74/250] Step [0/183] Loss [0.1520] bleu [0.2822] bleu_1 [6.2284] bleu_4 [0.0546]\n",
            "Epochs [74/250] Step [61/183] Loss [0.1487] bleu [0.2551] bleu_1 [6.1728] bleu_4 [0.0473]\n",
            "Epochs [74/250] Step [122/183] Loss [0.1337] bleu [0.2947] bleu_1 [5.9041] bleu_4 [0.0592]\n",
            "Epochs [75/250] Step [0/183] Loss [0.1456] bleu [0.2717] bleu_1 [6.0201] bleu_4 [0.0523]\n",
            "Epochs [75/250] Step [61/183] Loss [0.1452] bleu [0.2728] bleu_1 [6.5574] bleu_4 [0.0510]\n",
            "Epochs [75/250] Step [122/183] Loss [0.1520] bleu [0.2833] bleu_1 [6.2500] bleu_4 [0.0548]\n",
            "Epochs [76/250] Step [0/183] Loss [0.1600] bleu [0.2552] bleu_1 [5.1948] bleu_4 [0.0504]\n",
            "Epochs [76/250] Step [61/183] Loss [0.1507] bleu [0.2705] bleu_1 [7.0064] bleu_4 [0.0492]\n",
            "Epochs [76/250] Step [122/183] Loss [0.2144] bleu [0.2492] bleu_1 [5.3292] bleu_4 [0.0483]\n",
            "Epochs [77/250] Step [0/183] Loss [0.1503] bleu [0.2543] bleu_1 [5.1780] bleu_4 [0.0502]\n",
            "Epochs [77/250] Step [61/183] Loss [0.1813] bleu [0.2768] bleu_1 [6.6445] bleu_4 [0.0519]\n",
            "Epochs [77/250] Step [122/183] Loss [0.1576] bleu [0.2712] bleu_1 [6.7742] bleu_4 [0.0500]\n",
            "Epochs [78/250] Step [0/183] Loss [0.1679] bleu [0.2973] bleu_1 [6.5217] bleu_4 [0.0579]\n",
            "Epochs [78/250] Step [61/183] Loss [0.1747] bleu [0.1863] bleu_1 [3.3248] bleu_4 [0.0378]\n",
            "Epochs [78/250] Step [122/183] Loss [0.1560] bleu [0.2883] bleu_1 [6.6202] bleu_4 [0.0551]\n",
            "Epochs [79/250] Step [0/183] Loss [0.2125] bleu [0.2932] bleu_1 [6.9930] bleu_4 [0.0553]\n",
            "Epochs [79/250] Step [61/183] Loss [0.1831] bleu [0.2967] bleu_1 [7.6125] bleu_4 [0.0546]\n",
            "Epochs [79/250] Step [122/183] Loss [0.2012] bleu [0.2638] bleu_1 [5.3512] bleu_4 [0.0523]\n",
            "Epochs [80/250] Step [0/183] Loss [0.2232] bleu [0.2520] bleu_1 [4.8860] bleu_4 [0.0506]\n",
            "Epochs [80/250] Step [61/183] Loss [0.1978] bleu [0.2943] bleu_1 [6.1818] bleu_4 [0.0581]\n",
            "Epochs [80/250] Step [122/183] Loss [0.1743] bleu [0.2686] bleu_1 [6.9620] bleu_4 [0.0488]\n",
            "Epochs [81/250] Step [0/183] Loss [0.1741] bleu [0.2863] bleu_1 [5.7554] bleu_4 [0.0573]\n",
            "Epochs [81/250] Step [61/183] Loss [0.2151] bleu [0.2696] bleu_1 [4.6429] bleu_4 [0.0568]\n",
            "Epochs [81/250] Step [122/183] Loss [0.1728] bleu [0.3451] bleu_1 [8.6957] bleu_4 [0.0648]\n",
            "Epochs [82/250] Step [0/183] Loss [0.1903] bleu [0.2509] bleu_1 [5.3628] bleu_4 [0.0486]\n",
            "Epochs [82/250] Step [61/183] Loss [0.1483] bleu [0.2867] bleu_1 [6.3158] bleu_4 [0.0556]\n",
            "Epochs [82/250] Step [122/183] Loss [0.1740] bleu [0.2856] bleu_1 [6.2937] bleu_4 [0.0553]\n",
            "Epochs [83/250] Step [0/183] Loss [0.1572] bleu [0.2434] bleu_1 [5.9172] bleu_4 [0.0450]\n",
            "Epochs [83/250] Step [61/183] Loss [0.1887] bleu [0.2794] bleu_1 [5.3571] bleu_4 [0.0568]\n",
            "Epochs [83/250] Step [122/183] Loss [0.1607] bleu [0.2782] bleu_1 [5.8824] bleu_4 [0.0546]\n",
            "Epochs [84/250] Step [0/183] Loss [0.1756] bleu [0.2998] bleu_1 [8.2192] bleu_4 [0.0539]\n",
            "Epochs [84/250] Step [61/183] Loss [0.2100] bleu [0.2979] bleu_1 [6.2500] bleu_4 [0.0590]\n",
            "Epochs [84/250] Step [122/183] Loss [0.1637] bleu [0.3225] bleu_1 [7.3077] bleu_4 [0.0625]\n",
            "Epochs [85/250] Step [0/183] Loss [0.1509] bleu [0.2703] bleu_1 [6.2500] bleu_4 [0.0512]\n",
            "Epochs [85/250] Step [61/183] Loss [0.1388] bleu [0.2821] bleu_1 [6.7568] bleu_4 [0.0530]\n",
            "Epochs [85/250] Step [122/183] Loss [0.1328] bleu [0.3204] bleu_1 [8.1481] bleu_4 [0.0595]\n",
            "Epochs [86/250] Step [0/183] Loss [0.1595] bleu [0.2580] bleu_1 [4.1958] bleu_4 [0.0553]\n",
            "Epochs [86/250] Step [61/183] Loss [0.2049] bleu [0.2629] bleu_1 [5.5921] bleu_4 [0.0512]\n",
            "Epochs [86/250] Step [122/183] Loss [0.1370] bleu [0.3182] bleu_1 [7.5188] bleu_4 [0.0607]\n",
            "Epochs [87/250] Step [0/183] Loss [0.1341] bleu [0.3570] bleu_1 [7.9832] bleu_4 [0.0702]\n",
            "Epochs [87/250] Step [61/183] Loss [0.1440] bleu [0.2609] bleu_1 [5.2980] bleu_4 [0.0517]\n",
            "Epochs [87/250] Step [122/183] Loss [0.1428] bleu [0.2545] bleu_1 [5.6782] bleu_4 [0.0486]\n",
            "Epochs [88/250] Step [0/183] Loss [0.1425] bleu [0.3056] bleu_1 [6.3910] bleu_4 [0.0607]\n",
            "Epochs [88/250] Step [61/183] Loss [0.1455] bleu [0.3040] bleu_1 [5.7692] bleu_4 [0.0625]\n",
            "Epochs [88/250] Step [122/183] Loss [0.1365] bleu [0.2979] bleu_1 [7.0922] bleu_4 [0.0563]\n",
            "Epochs [89/250] Step [0/183] Loss [0.1401] bleu [0.2794] bleu_1 [5.3571] bleu_4 [0.0568]\n",
            "Epochs [89/250] Step [61/183] Loss [0.1649] bleu [0.1543] bleu_1 [2.4554] bleu_4 [0.0322]\n",
            "Epochs [89/250] Step [122/183] Loss [0.1427] bleu [0.2730] bleu_1 [5.5172] bleu_4 [0.0543]\n",
            "Epochs [90/250] Step [0/183] Loss [0.1513] bleu [0.2899] bleu_1 [7.1918] bleu_4 [0.0539]\n",
            "Epochs [90/250] Step [61/183] Loss [0.2062] bleu [0.2657] bleu_1 [6.8966] bleu_4 [0.0483]\n",
            "Epochs [90/250] Step [122/183] Loss [0.1413] bleu [0.3010] bleu_1 [6.5934] bleu_4 [0.0587]\n",
            "Epochs [91/250] Step [0/183] Loss [0.2058] bleu [0.2562] bleu_1 [5.9561] bleu_4 [0.0483]\n",
            "Epochs [91/250] Step [61/183] Loss [0.1610] bleu [0.2545] bleu_1 [5.4313] bleu_4 [0.0494]\n",
            "Epochs [91/250] Step [122/183] Loss [0.2303] bleu [0.1955] bleu_1 [2.3881] bleu_4 [0.0455]\n",
            "Epochs [92/250] Step [0/183] Loss [0.2100] bleu [0.2895] bleu_1 [6.0932] bleu_4 [0.0571]\n",
            "Epochs [92/250] Step [61/183] Loss [0.1800] bleu [0.1808] bleu_1 [3.4230] bleu_4 [0.0358]\n",
            "Epochs [92/250] Step [122/183] Loss [0.2292] bleu [0.2860] bleu_1 [6.0284] bleu_4 [0.0563]\n",
            "Epochs [93/250] Step [0/183] Loss [0.1766] bleu [0.2207] bleu_1 [4.7753] bleu_4 [0.0422]\n",
            "Epochs [93/250] Step [61/183] Loss [0.1977] bleu [0.2648] bleu_1 [5.6291] bleu_4 [0.0517]\n",
            "Epochs [93/250] Step [122/183] Loss [0.2012] bleu [0.1712] bleu_1 [3.4325] bleu_4 [0.0332]\n",
            "Epochs [94/250] Step [0/183] Loss [0.1819] bleu [0.2737] bleu_1 [6.0606] bleu_4 [0.0527]\n",
            "Epochs [94/250] Step [61/183] Loss [0.1864] bleu [0.2407] bleu_1 [4.4444] bleu_4 [0.0490]\n",
            "Epochs [94/250] Step [122/183] Loss [0.1639] bleu [0.3035] bleu_1 [6.6421] bleu_4 [0.0592]\n",
            "Epochs [95/250] Step [0/183] Loss [0.1982] bleu [0.2128] bleu_1 [4.8257] bleu_4 [0.0399]\n",
            "Epochs [95/250] Step [61/183] Loss [0.1665] bleu [0.2609] bleu_1 [5.2980] bleu_4 [0.0517]\n",
            "Epochs [95/250] Step [122/183] Loss [0.1547] bleu [0.3197] bleu_1 [7.2519] bleu_4 [0.0619]\n",
            "Epochs [96/250] Step [0/183] Loss [0.1589] bleu [0.2561] bleu_1 [4.6980] bleu_4 [0.0525]\n",
            "Epochs [96/250] Step [61/183] Loss [0.1618] bleu [0.2988] bleu_1 [5.3846] bleu_4 [0.0625]\n",
            "Epochs [96/250] Step [122/183] Loss [0.1462] bleu [0.2860] bleu_1 [6.0284] bleu_4 [0.0563]\n",
            "Epochs [97/250] Step [0/183] Loss [0.1398] bleu [0.2815] bleu_1 [5.9441] bleu_4 [0.0553]\n",
            "Epochs [97/250] Step [61/183] Loss [0.1426] bleu [0.2773] bleu_1 [5.5944] bleu_4 [0.0553]\n",
            "Epochs [97/250] Step [122/183] Loss [0.2173] bleu [0.2810] bleu_1 [6.7340] bleu_4 [0.0527]\n",
            "Epochs [98/250] Step [0/183] Loss [0.1400] bleu [0.2922] bleu_1 [5.8608] bleu_4 [0.0587]\n",
            "Epochs [98/250] Step [61/183] Loss [0.1378] bleu [0.2847] bleu_1 [3.9683] bleu_4 [0.0651]\n",
            "Epochs [98/250] Step [122/183] Loss [0.1499] bleu [0.3115] bleu_1 [7.0896] bleu_4 [0.0601]\n",
            "Epochs [99/250] Step [0/183] Loss [0.1582] bleu [0.2980] bleu_1 [7.3684] bleu_4 [0.0556]\n",
            "Epochs [99/250] Step [61/183] Loss [0.1594] bleu [0.1316] bleu_1 [2.6834] bleu_4 [0.0251]\n",
            "Epochs [99/250] Step [122/183] Loss [0.1715] bleu [0.1211] bleu_1 [2.0906] bleu_4 [0.0243]\n",
            "Epochs [100/250] Step [0/183] Loss [0.1415] bleu [0.2882] bleu_1 [4.9242] bleu_4 [0.0613]\n",
            "Epochs [100/250] Step [61/183] Loss [0.1511] bleu [0.2427] bleu_1 [5.6716] bleu_4 [0.0455]\n",
            "Epochs [100/250] Step [122/183] Loss [0.1611] bleu [0.2742] bleu_1 [4.4280] bleu_4 [0.0592]\n",
            "Epochs [101/250] Step [0/183] Loss [0.1516] bleu [0.3325] bleu_1 [7.8125] bleu_4 [0.0638]\n",
            "Epochs [101/250] Step [61/183] Loss [0.1487] bleu [0.2698] bleu_1 [5.4608] bleu_4 [0.0536]\n",
            "Epochs [101/250] Step [122/183] Loss [0.1736] bleu [0.1969] bleu_1 [3.7037] bleu_4 [0.0393]\n",
            "Epochs [102/250] Step [0/183] Loss [0.1456] bleu [0.3239] bleu_1 [6.0976] bleu_4 [0.0672]\n",
            "Epochs [102/250] Step [61/183] Loss [0.1436] bleu [0.2678] bleu_1 [5.6856] bleu_4 [0.0523]\n",
            "Epochs [102/250] Step [122/183] Loss [0.1468] bleu [0.3065] bleu_1 [7.2727] bleu_4 [0.0581]\n",
            "Epochs [103/250] Step [0/183] Loss [0.1365] bleu [0.2955] bleu_1 [6.2044] bleu_4 [0.0584]\n",
            "Epochs [103/250] Step [61/183] Loss [0.1908] bleu [0.1300] bleu_1 [2.3766] bleu_4 [0.0257]\n",
            "Epochs [103/250] Step [122/183] Loss [0.1659] bleu [0.2719] bleu_1 [5.4983] bleu_4 [0.0541]\n",
            "Epochs [104/250] Step [0/183] Loss [0.1783] bleu [0.2477] bleu_1 [4.5603] bleu_4 [0.0506]\n",
            "Epochs [104/250] Step [61/183] Loss [0.1866] bleu [0.2839] bleu_1 [6.5292] bleu_4 [0.0541]\n",
            "Epochs [104/250] Step [122/183] Loss [0.1992] bleu [0.2821] bleu_1 [6.7568] bleu_4 [0.0530]\n",
            "Epochs [105/250] Step [0/183] Loss [0.2052] bleu [0.4037] bleu_1 [9.9548] bleu_4 [0.0776]\n",
            "Epochs [105/250] Step [61/183] Loss [0.2260] bleu [0.2725] bleu_1 [4.9645] bleu_4 [0.0563]\n",
            "Epochs [105/250] Step [122/183] Loss [0.1506] bleu [0.2762] bleu_1 [5.5749] bleu_4 [0.0551]\n",
            "Epochs [106/250] Step [0/183] Loss [0.1524] bleu [0.1964] bleu_1 [3.6939] bleu_4 [0.0392]\n",
            "Epochs [106/250] Step [61/183] Loss [0.1542] bleu [0.3183] bleu_1 [7.2243] bleu_4 [0.0616]\n",
            "Epochs [106/250] Step [122/183] Loss [0.1649] bleu [0.2458] bleu_1 [4.2763] bleu_4 [0.0512]\n",
            "Epochs [107/250] Step [0/183] Loss [0.2190] bleu [0.1942] bleu_1 [2.1407] bleu_4 [0.0468]\n",
            "Epochs [107/250] Step [61/183] Loss [0.1524] bleu [0.3340] bleu_1 [7.8431] bleu_4 [0.0641]\n",
            "Epochs [107/250] Step [122/183] Loss [0.2012] bleu [0.2771] bleu_1 [6.9079] bleu_4 [0.0512]\n",
            "Epochs [108/250] Step [0/183] Loss [0.1493] bleu [0.2545] bleu_1 [5.4313] bleu_4 [0.0494]\n",
            "Epochs [108/250] Step [61/183] Loss [0.1686] bleu [0.2714] bleu_1 [4.9470] bleu_4 [0.0561]\n",
            "Epochs [108/250] Step [122/183] Loss [0.1467] bleu [0.2961] bleu_1 [6.4982] bleu_4 [0.0576]\n",
            "Epochs [109/250] Step [0/183] Loss [0.1783] bleu [0.2582] bleu_1 [4.4674] bleu_4 [0.0541]\n",
            "Epochs [109/250] Step [61/183] Loss [0.1452] bleu [0.2972] bleu_1 [5.9480] bleu_4 [0.0598]\n",
            "Epochs [109/250] Step [122/183] Loss [0.1407] bleu [0.2833] bleu_1 [4.8507] bleu_4 [0.0601]\n",
            "Epochs [110/250] Step [0/183] Loss [0.1412] bleu [0.2992] bleu_1 [6.2731] bleu_4 [0.0592]\n",
            "Epochs [110/250] Step [61/183] Loss [0.1608] bleu [0.2712] bleu_1 [6.7742] bleu_4 [0.0500]\n",
            "Epochs [110/250] Step [122/183] Loss [0.1662] bleu [0.3113] bleu_1 [6.7925] bleu_4 [0.0610]\n",
            "Epochs [111/250] Step [0/183] Loss [0.1446] bleu [0.2148] bleu_1 [4.4444] bleu_4 [0.0417]\n",
            "Epochs [111/250] Step [61/183] Loss [0.1421] bleu [0.2985] bleu_1 [6.5455] bleu_4 [0.0581]\n",
            "Epochs [111/250] Step [122/183] Loss [0.1621] bleu [0.1762] bleu_1 [3.7037] bleu_4 [0.0336]\n",
            "Epochs [112/250] Step [0/183] Loss [0.1354] bleu [0.2761] bleu_1 [5.8419] bleu_4 [0.0541]\n",
            "Epochs [112/250] Step [61/183] Loss [0.1664] bleu [0.1936] bleu_1 [3.8462] bleu_4 [0.0379]\n",
            "Epochs [112/250] Step [122/183] Loss [0.1500] bleu [0.3390] bleu_1 [8.5603] bleu_4 [0.0635]\n",
            "Epochs [113/250] Step [0/183] Loss [0.1474] bleu [0.2668] bleu_1 [5.4054] bleu_4 [0.0530]\n",
            "Epochs [113/250] Step [61/183] Loss [0.1736] bleu [0.2658] bleu_1 [5.3872] bleu_4 [0.0527]\n",
            "Epochs [113/250] Step [122/183] Loss [0.1911] bleu [0.3155] bleu_1 [7.1698] bleu_4 [0.0610]\n",
            "Epochs [114/250] Step [0/183] Loss [0.1917] bleu [0.2101] bleu_1 [4.9738] bleu_4 [0.0388]\n",
            "Epochs [114/250] Step [61/183] Loss [0.1792] bleu [0.3040] bleu_1 [7.5000] bleu_4 [0.0568]\n",
            "Epochs [114/250] Step [122/183] Loss [0.1724] bleu [0.2664] bleu_1 [4.5936] bleu_4 [0.0561]\n",
            "Epochs [115/250] Step [0/183] Loss [0.2205] bleu [0.2429] bleu_1 [4.9689] bleu_4 [0.0477]\n",
            "Epochs [115/250] Step [61/183] Loss [0.2085] bleu [0.2727] bleu_1 [6.0403] bleu_4 [0.0525]\n",
            "Epochs [115/250] Step [122/183] Loss [0.3167] bleu [0.2856] bleu_1 [6.2937] bleu_4 [0.0553]\n",
            "Epochs [116/250] Step [0/183] Loss [0.1447] bleu [0.3030] bleu_1 [6.3433] bleu_4 [0.0601]\n",
            "Epochs [116/250] Step [61/183] Loss [0.1751] bleu [0.2514] bleu_1 [4.6205] bleu_4 [0.0514]\n",
            "Epochs [116/250] Step [122/183] Loss [0.1809] bleu [0.3355] bleu_1 [7.8740] bleu_4 [0.0644]\n",
            "Epochs [117/250] Step [0/183] Loss [0.1307] bleu [0.2842] bleu_1 [6.8027] bleu_4 [0.0534]\n",
            "Epochs [117/250] Step [61/183] Loss [0.1705] bleu [0.2632] bleu_1 [6.3492] bleu_4 [0.0490]\n",
            "Epochs [117/250] Step [122/183] Loss [0.1606] bleu [0.3225] bleu_1 [7.3077] bleu_4 [0.0625]\n",
            "Epochs [118/250] Step [0/183] Loss [0.1574] bleu [0.2774] bleu_1 [6.3973] bleu_4 [0.0527]\n",
            "Epochs [118/250] Step [61/183] Loss [0.2071] bleu [0.2068] bleu_1 [2.2654] bleu_4 [0.0502]\n",
            "Epochs [118/250] Step [122/183] Loss [0.1566] bleu [0.3155] bleu_1 [7.4627] bleu_4 [0.0601]\n",
            "Epochs [119/250] Step [0/183] Loss [0.1375] bleu [0.3040] bleu_1 [5.1587] bleu_4 [0.0651]\n",
            "Epochs [119/250] Step [61/183] Loss [0.1419] bleu [0.2527] bleu_1 [5.6426] bleu_4 [0.0483]\n",
            "Epochs [119/250] Step [122/183] Loss [0.1710] bleu [0.2686] bleu_1 [5.9603] bleu_4 [0.0517]\n",
            "Epochs [120/250] Step [0/183] Loss [0.1340] bleu [0.2440] bleu_1 [4.2484] bleu_4 [0.0508]\n",
            "Epochs [120/250] Step [61/183] Loss [0.1345] bleu [0.3297] bleu_1 [7.1429] bleu_4 [0.0651]\n",
            "Epochs [120/250] Step [122/183] Loss [0.1612] bleu [0.3181] bleu_1 [7.8067] bleu_4 [0.0598]\n",
            "Epochs [121/250] Step [0/183] Loss [0.1456] bleu [0.2697] bleu_1 [5.1903] bleu_4 [0.0546]\n",
            "Epochs [121/250] Step [61/183] Loss [0.1398] bleu [0.2789] bleu_1 [6.6890] bleu_4 [0.0523]\n",
            "Epochs [121/250] Step [122/183] Loss [0.1911] bleu [0.2194] bleu_1 [4.7486] bleu_4 [0.0419]\n",
            "Epochs [122/250] Step [0/183] Loss [0.1554] bleu [0.3109] bleu_1 [6.4885] bleu_4 [0.0619]\n",
            "Epochs [122/250] Step [61/183] Loss [0.2027] bleu [0.2501] bleu_1 [5.8282] bleu_4 [0.0470]\n",
            "Epochs [122/250] Step [122/183] Loss [0.1824] bleu [0.2553] bleu_1 [5.9375] bleu_4 [0.0481]\n",
            "Epochs [123/250] Step [0/183] Loss [0.1621] bleu [0.2769] bleu_1 [5.0360] bleu_4 [0.0573]\n",
            "Epochs [123/250] Step [61/183] Loss [0.1777] bleu [0.2790] bleu_1 [6.1644] bleu_4 [0.0539]\n",
            "Epochs [123/250] Step [122/183] Loss [0.1743] bleu [0.2888] bleu_1 [7.1672] bleu_4 [0.0536]\n",
            "Epochs [124/250] Step [0/183] Loss [0.1339] bleu [0.2866] bleu_1 [7.1186] bleu_4 [0.0532]\n",
            "Epochs [124/250] Step [61/183] Loss [0.1443] bleu [0.3353] bleu_1 [8.7786] bleu_4 [0.0619]\n",
            "Epochs [124/250] Step [122/183] Loss [0.1478] bleu [0.2972] bleu_1 [5.9480] bleu_4 [0.0598]\n",
            "Epochs [125/250] Step [0/183] Loss [0.1449] bleu [0.2664] bleu_1 [6.1688] bleu_4 [0.0504]\n",
            "Epochs [125/250] Step [61/183] Loss [0.1522] bleu [0.3280] bleu_1 [6.8000] bleu_4 [0.0658]\n",
            "Epochs [125/250] Step [122/183] Loss [0.1344] bleu [0.2992] bleu_1 [6.2731] bleu_4 [0.0592]\n",
            "Epochs [126/250] Step [0/183] Loss [0.2006] bleu [0.2993] bleu_1 [4.7809] bleu_4 [0.0654]\n",
            "Epochs [126/250] Step [61/183] Loss [0.1329] bleu [0.2917] bleu_1 [6.6901] bleu_4 [0.0558]\n",
            "Epochs [126/250] Step [122/183] Loss [0.1368] bleu [0.2686] bleu_1 [5.1724] bleu_4 [0.0543]\n",
            "Epochs [127/250] Step [0/183] Loss [0.1564] bleu [0.3113] bleu_1 [7.9422] bleu_4 [0.0576]\n",
            "Epochs [127/250] Step [61/183] Loss [0.1568] bleu [0.3043] bleu_1 [6.3670] bleu_4 [0.0604]\n",
            "Epochs [127/250] Step [122/183] Loss [0.1541] bleu [0.3342] bleu_1 [6.9106] bleu_4 [0.0672]\n",
            "Epochs [128/250] Step [0/183] Loss [0.1424] bleu [0.2851] bleu_1 [5.7348] bleu_4 [0.0571]\n",
            "Epochs [128/250] Step [61/183] Loss [0.1391] bleu [0.3010] bleu_1 [6.5934] bleu_4 [0.0587]\n",
            "Epochs [128/250] Step [122/183] Loss [0.1858] bleu [0.1261] bleu_1 [1.8904] bleu_4 [0.0267]\n",
            "Epochs [129/250] Step [0/183] Loss [0.1300] bleu [0.3116] bleu_1 [7.3801] bleu_4 [0.0592]\n",
            "Epochs [129/250] Step [61/183] Loss [0.1453] bleu [0.2907] bleu_1 [6.1151] bleu_4 [0.0573]\n",
            "Epochs [129/250] Step [122/183] Loss [0.1463] bleu [0.2815] bleu_1 [5.9441] bleu_4 [0.0553]\n",
            "Epochs [130/250] Step [0/183] Loss [0.1358] bleu [0.2864] bleu_1 [6.8493] bleu_4 [0.0539]\n",
            "Epochs [130/250] Step [61/183] Loss [0.1303] bleu [0.3235] bleu_1 [7.9245] bleu_4 [0.0610]\n",
            "Epochs [130/250] Step [122/183] Loss [0.1317] bleu [0.3062] bleu_1 [6.1069] bleu_4 [0.0619]\n",
            "Epochs [131/250] Step [0/183] Loss [0.1623] bleu [0.2318] bleu_1 [5.2174] bleu_4 [0.0439]\n",
            "Epochs [131/250] Step [61/183] Loss [0.1562] bleu [0.2384] bleu_1 [6.6852] bleu_4 [0.0418]\n",
            "Epochs [131/250] Step [122/183] Loss [0.2274] bleu [0.1255] bleu_1 [2.1622] bleu_4 [0.0253]\n",
            "Epochs [132/250] Step [0/183] Loss [0.1475] bleu [0.2225] bleu_1 [5.0279] bleu_4 [0.0419]\n",
            "Epochs [132/250] Step [61/183] Loss [0.1359] bleu [0.2302] bleu_1 [3.2895] bleu_4 [0.0512]\n",
            "Epochs [132/250] Step [122/183] Loss [0.1531] bleu [0.3003] bleu_1 [7.1429] bleu_4 [0.0568]\n",
            "Epochs [133/250] Step [0/183] Loss [0.1659] bleu [0.2773] bleu_1 [5.5944] bleu_4 [0.0553]\n",
            "Epochs [133/250] Step [61/183] Loss [0.2252] bleu [0.3422] bleu_1 [7.3770] bleu_4 [0.0679]\n",
            "Epochs [133/250] Step [122/183] Loss [0.1411] bleu [0.2906] bleu_1 [6.6667] bleu_4 [0.0556]\n",
            "Epochs [134/250] Step [0/183] Loss [0.2071] bleu [0.3530] bleu_1 [8.2305] bleu_4 [0.0683]\n",
            "Epochs [134/250] Step [61/183] Loss [0.1449] bleu [0.2493] bleu_1 [5.5728] bleu_4 [0.0475]\n",
            "Epochs [134/250] Step [122/183] Loss [0.1350] bleu [0.2580] bleu_1 [4.1958] bleu_4 [0.0553]\n",
            "Epochs [135/250] Step [0/183] Loss [0.1878] bleu [0.2491] bleu_1 [6.0423] bleu_4 [0.0461]\n",
            "Epochs [135/250] Step [61/183] Loss [0.1513] bleu [0.2850] bleu_1 [5.1661] bleu_4 [0.0592]\n",
            "Epochs [135/250] Step [122/183] Loss [0.1724] bleu [0.2028] bleu_1 [2.4691] bleu_4 [0.0473]\n",
            "Epochs [136/250] Step [0/183] Loss [0.1496] bleu [0.2590] bleu_1 [4.7458] bleu_4 [0.0532]\n",
            "Epochs [136/250] Step [61/183] Loss [0.1654] bleu [0.2609] bleu_1 [5.8065] bleu_4 [0.0500]\n",
            "Epochs [136/250] Step [122/183] Loss [0.1423] bleu [0.2683] bleu_1 [6.2092] bleu_4 [0.0508]\n",
            "Epochs [137/250] Step [0/183] Loss [0.1910] bleu [0.2387] bleu_1 [5.8140] bleu_4 [0.0440]\n",
            "Epochs [137/250] Step [61/183] Loss [0.1525] bleu [0.2645] bleu_1 [5.1020] bleu_4 [0.0534]\n",
            "Epochs [137/250] Step [122/183] Loss [0.1706] bleu [0.2703] bleu_1 [6.2500] bleu_4 [0.0512]\n",
            "Epochs [138/250] Step [0/183] Loss [0.1541] bleu [0.2719] bleu_1 [5.7627] bleu_4 [0.0532]\n",
            "Epochs [138/250] Step [61/183] Loss [0.1999] bleu [0.2837] bleu_1 [5.9859] bleu_4 [0.0558]\n",
            "Epochs [138/250] Step [122/183] Loss [0.1581] bleu [0.2737] bleu_1 [6.0606] bleu_4 [0.0527]\n",
            "Epochs [139/250] Step [0/183] Loss [0.1401] bleu [0.2683] bleu_1 [6.2092] bleu_4 [0.0508]\n",
            "Epochs [139/250] Step [61/183] Loss [0.1437] bleu [0.2541] bleu_1 [3.3088] bleu_4 [0.0590]\n",
            "Epochs [139/250] Step [122/183] Loss [0.1500] bleu [0.3380] bleu_1 [9.4340] bleu_4 [0.0610]\n",
            "Epochs [140/250] Step [0/183] Loss [0.1381] bleu [0.2991] bleu_1 [7.6655] bleu_4 [0.0551]\n",
            "Epochs [140/250] Step [61/183] Loss [0.1403] bleu [0.2542] bleu_1 [4.6667] bleu_4 [0.0521]\n",
            "Epochs [140/250] Step [122/183] Loss [0.1392] bleu [0.2542] bleu_1 [4.4068] bleu_4 [0.0532]\n",
            "Epochs [141/250] Step [0/183] Loss [0.1391] bleu [0.2877] bleu_1 [7.1429] bleu_4 [0.0534]\n",
            "Epochs [141/250] Step [61/183] Loss [0.1298] bleu [0.2937] bleu_1 [6.4516] bleu_4 [0.0571]\n",
            "Epochs [141/250] Step [122/183] Loss [0.1735] bleu [0.2826] bleu_1 [5.9649] bleu_4 [0.0556]\n",
            "Epochs [142/250] Step [0/183] Loss [0.1357] bleu [0.2825] bleu_1 [4.5455] bleu_4 [0.0613]\n",
            "Epochs [142/250] Step [61/183] Loss [0.1979] bleu [0.2973] bleu_1 [6.5217] bleu_4 [0.0579]\n",
            "Epochs [142/250] Step [122/183] Loss [0.1434] bleu [0.2570] bleu_1 [5.2288] bleu_4 [0.0508]\n",
            "Epochs [143/250] Step [0/183] Loss [0.1380] bleu [0.2967] bleu_1 [7.6125] bleu_4 [0.0546]\n",
            "Epochs [143/250] Step [61/183] Loss [0.1494] bleu [0.2504] bleu_1 [4.3478] bleu_4 [0.0523]\n",
            "Epochs [143/250] Step [122/183] Loss [0.1543] bleu [0.2664] bleu_1 [6.6667] bleu_4 [0.0490]\n",
            "Epochs [144/250] Step [0/183] Loss [0.1405] bleu [0.2645] bleu_1 [5.1020] bleu_4 [0.0534]\n",
            "Epochs [144/250] Step [61/183] Loss [0.2328] bleu [0.3312] bleu_1 [7.1713] bleu_4 [0.0654]\n",
            "Epochs [144/250] Step [122/183] Loss [0.1432] bleu [0.3195] bleu_1 [6.9498] bleu_4 [0.0628]\n",
            "Epochs [145/250] Step [0/183] Loss [0.1424] bleu [0.3282] bleu_1 [7.1146] bleu_4 [0.0648]\n",
            "Epochs [145/250] Step [61/183] Loss [0.1520] bleu [0.2581] bleu_1 [5.5016] bleu_4 [0.0502]\n",
            "Epochs [145/250] Step [122/183] Loss [0.1506] bleu [0.3060] bleu_1 [6.6914] bleu_4 [0.0598]\n",
            "Epochs [146/250] Step [0/183] Loss [0.1448] bleu [0.2429] bleu_1 [4.9689] bleu_4 [0.0477]\n",
            "Epochs [146/250] Step [61/183] Loss [0.1448] bleu [0.2814] bleu_1 [7.2607] bleu_4 [0.0514]\n",
            "Epochs [146/250] Step [122/183] Loss [0.1836] bleu [0.3530] bleu_1 [8.2305] bleu_4 [0.0683]\n",
            "Epochs [147/250] Step [0/183] Loss [0.1824] bleu [0.2937] bleu_1 [5.5970] bleu_4 [0.0601]\n",
            "Epochs [147/250] Step [61/183] Loss [0.2709] bleu [0.2511] bleu_1 [4.8701] bleu_4 [0.0504]\n",
            "Epochs [147/250] Step [122/183] Loss [0.1504] bleu [0.3043] bleu_1 [6.3670] bleu_4 [0.0604]\n",
            "Epochs [148/250] Step [0/183] Loss [0.1315] bleu [0.3100] bleu_1 [6.7669] bleu_4 [0.0607]\n",
            "Epochs [148/250] Step [61/183] Loss [0.1353] bleu [0.2689] bleu_1 [6.4725] bleu_4 [0.0502]\n",
            "Epochs [148/250] Step [122/183] Loss [0.1354] bleu [0.2527] bleu_1 [5.3968] bleu_4 [0.0490]\n",
            "Epochs [149/250] Step [0/183] Loss [0.1335] bleu [0.3003] bleu_1 [7.4205] bleu_4 [0.0561]\n",
            "Epochs [149/250] Step [61/183] Loss [0.1405] bleu [0.2867] bleu_1 [6.3158] bleu_4 [0.0556]\n",
            "Epochs [149/250] Step [122/183] Loss [0.3071] bleu [0.1848] bleu_1 [1.5773] bleu_4 [0.0486]\n",
            "Epochs [150/250] Step [0/183] Loss [0.1676] bleu [0.2754] bleu_1 [6.3545] bleu_4 [0.0523]\n",
            "Epochs [150/250] Step [61/183] Loss [0.1544] bleu [0.2707] bleu_1 [4.6595] bleu_4 [0.0571]\n",
            "Epochs [150/250] Step [122/183] Loss [0.1584] bleu [0.2922] bleu_1 [7.5085] bleu_4 [0.0536]\n",
            "Epochs [151/250] Step [0/183] Loss [0.1839] bleu [0.2863] bleu_1 [5.7554] bleu_4 [0.0573]\n",
            "Epochs [151/250] Step [61/183] Loss [0.1621] bleu [0.2984] bleu_1 [5.9701] bleu_4 [0.0601]\n",
            "Epochs [151/250] Step [122/183] Loss [0.1730] bleu [0.2773] bleu_1 [5.5944] bleu_4 [0.0553]\n",
            "Epochs [152/250] Step [0/183] Loss [0.1421] bleu [0.2695] bleu_1 [6.9841] bleu_4 [0.0490]\n",
            "Epochs [152/250] Step [61/183] Loss [0.1438] bleu [0.2548] bleu_1 [4.9342] bleu_4 [0.0512]\n",
            "Epochs [152/250] Step [122/183] Loss [0.1504] bleu [0.2639] bleu_1 [5.6106] bleu_4 [0.0514]\n",
            "Epochs [153/250] Step [0/183] Loss [0.1328] bleu [0.2250] bleu_1 [3.4700] bleu_4 [0.0486]\n",
            "Epochs [153/250] Step [61/183] Loss [0.1368] bleu [0.3207] bleu_1 [6.6667] bleu_4 [0.0641]\n",
            "Epochs [153/250] Step [122/183] Loss [0.1380] bleu [0.2686] bleu_1 [5.1724] bleu_4 [0.0543]\n",
            "Epochs [154/250] Step [0/183] Loss [0.1514] bleu [0.2427] bleu_1 [5.6716] bleu_4 [0.0455]\n",
            "Epochs [154/250] Step [61/183] Loss [0.1319] bleu [0.2590] bleu_1 [4.7458] bleu_4 [0.0532]\n",
            "Epochs [154/250] Step [122/183] Loss [0.1375] bleu [0.2693] bleu_1 [6.2295] bleu_4 [0.0510]\n",
            "Epochs [155/250] Step [0/183] Loss [0.1386] bleu [0.2708] bleu_1 [6.5147] bleu_4 [0.0506]\n",
            "Epochs [155/250] Step [61/183] Loss [0.1313] bleu [0.2658] bleu_1 [5.3872] bleu_4 [0.0527]\n",
            "Epochs [155/250] Step [122/183] Loss [0.1323] bleu [0.3089] bleu_1 [7.6087] bleu_4 [0.0579]\n",
            "Epochs [156/250] Step [0/183] Loss [0.1308] bleu [0.3388] bleu_1 [7.6305] bleu_4 [0.0661]\n",
            "Epochs [156/250] Step [61/183] Loss [0.1352] bleu [0.3365] bleu_1 [8.2031] bleu_4 [0.0638]\n",
            "Epochs [156/250] Step [122/183] Loss [0.1584] bleu [0.2559] bleu_1 [6.1920] bleu_4 [0.0475]\n",
            "Epochs [157/250] Step [0/183] Loss [0.1333] bleu [0.3268] bleu_1 [7.3930] bleu_4 [0.0635]\n",
            "Epochs [157/250] Step [61/183] Loss [0.1334] bleu [0.3488] bleu_1 [7.5000] bleu_4 [0.0694]\n",
            "Epochs [157/250] Step [122/183] Loss [0.1469] bleu [0.2709] bleu_1 [5.7432] bleu_4 [0.0530]\n",
            "Epochs [158/250] Step [0/183] Loss [0.1333] bleu [0.3038] bleu_1 [6.9343] bleu_4 [0.0584]\n",
            "Epochs [158/250] Step [61/183] Loss [0.1536] bleu [0.2968] bleu_1 [7.3427] bleu_4 [0.0553]\n",
            "Epochs [158/250] Step [122/183] Loss [0.1427] bleu [0.2840] bleu_1 [5.7143] bleu_4 [0.0568]\n",
            "Epochs [159/250] Step [0/183] Loss [0.1461] bleu [0.3449] bleu_1 [6.4378] bleu_4 [0.0723]\n",
            "Epochs [159/250] Step [61/183] Loss [0.1577] bleu [0.2794] bleu_1 [5.3571] bleu_4 [0.0568]\n",
            "Epochs [159/250] Step [122/183] Loss [0.2013] bleu [0.2991] bleu_1 [7.3944] bleu_4 [0.0558]\n",
            "Epochs [160/250] Step [0/183] Loss [0.2056] bleu [0.2664] bleu_1 [6.1688] bleu_4 [0.0504]\n",
            "Epochs [160/250] Step [61/183] Loss [0.1629] bleu [0.2703] bleu_1 [4.9296] bleu_4 [0.0558]\n",
            "Epochs [160/250] Step [122/183] Loss [0.2034] bleu [0.2849] bleu_1 [6.0071] bleu_4 [0.0561]\n",
            "Epochs [161/250] Step [0/183] Loss [0.1566] bleu [0.2795] bleu_1 [6.4407] bleu_4 [0.0532]\n",
            "Epochs [161/250] Step [61/183] Loss [0.1313] bleu [0.3014] bleu_1 [7.7193] bleu_4 [0.0556]\n",
            "Epochs [161/250] Step [122/183] Loss [0.1443] bleu [0.2811] bleu_1 [6.2069] bleu_4 [0.0543]\n",
            "Epochs [162/250] Step [0/183] Loss [0.1942] bleu [0.2747] bleu_1 [5.0000] bleu_4 [0.0568]\n",
            "Epochs [162/250] Step [61/183] Loss [0.1367] bleu [0.2798] bleu_1 [4.7970] bleu_4 [0.0592]\n",
            "Epochs [162/250] Step [122/183] Loss [0.1355] bleu [0.1988] bleu_1 [4.5340] bleu_4 [0.0371]\n",
            "Epochs [163/250] Step [0/183] Loss [0.1358] bleu [0.3246] bleu_1 [6.4257] bleu_4 [0.0661]\n",
            "Epochs [163/250] Step [61/183] Loss [0.1333] bleu [0.2523] bleu_1 [4.3771] bleu_4 [0.0527]\n",
            "Epochs [163/250] Step [122/183] Loss [0.1330] bleu [0.2638] bleu_1 [5.3512] bleu_4 [0.0523]\n",
            "Epochs [164/250] Step [0/183] Loss [0.1733] bleu [0.2609] bleu_1 [6.5421] bleu_4 [0.0479]\n",
            "Epochs [164/250] Step [61/183] Loss [0.1325] bleu [0.2586] bleu_1 [5.0000] bleu_4 [0.0521]\n",
            "Epochs [164/250] Step [122/183] Loss [0.1590] bleu [0.2866] bleu_1 [7.1186] bleu_4 [0.0532]\n",
            "Epochs [165/250] Step [0/183] Loss [0.1601] bleu [0.2967] bleu_1 [6.2271] bleu_4 [0.0587]\n",
            "Epochs [165/250] Step [61/183] Loss [0.1412] bleu [0.2864] bleu_1 [6.8493] bleu_4 [0.0539]\n",
            "Epochs [165/250] Step [122/183] Loss [0.1637] bleu [0.2910] bleu_1 [5.8394] bleu_4 [0.0584]\n",
            "Epochs [166/250] Step [0/183] Loss [0.1680] bleu [0.2965] bleu_1 [6.7857] bleu_4 [0.0568]\n",
            "Epochs [166/250] Step [61/183] Loss [0.1716] bleu [0.1715] bleu_1 [3.6117] bleu_4 [0.0326]\n",
            "Epochs [166/250] Step [122/183] Loss [0.1486] bleu [0.2300] bleu_1 [3.7855] bleu_4 [0.0486]\n",
            "Epochs [167/250] Step [0/183] Loss [0.1297] bleu [0.2750] bleu_1 [5.2817] bleu_4 [0.0558]\n",
            "Epochs [167/250] Step [61/183] Loss [0.1364] bleu [0.2763] bleu_1 [4.7445] bleu_4 [0.0584]\n",
            "Epochs [167/250] Step [122/183] Loss [0.1343] bleu [0.2677] bleu_1 [5.9406] bleu_4 [0.0514]\n",
            "Epochs [168/250] Step [0/183] Loss [0.1313] bleu [0.3281] bleu_1 [7.7220] bleu_4 [0.0628]\n",
            "Epochs [168/250] Step [61/183] Loss [0.1332] bleu [0.2707] bleu_1 [4.6595] bleu_4 [0.0571]\n",
            "Epochs [168/250] Step [122/183] Loss [0.1313] bleu [0.3454] bleu_1 [7.4380] bleu_4 [0.0687]\n",
            "Epochs [169/250] Step [0/183] Loss [0.1493] bleu [0.2773] bleu_1 [5.5944] bleu_4 [0.0553]\n",
            "Epochs [169/250] Step [61/183] Loss [0.1342] bleu [0.2846] bleu_1 [7.3333] bleu_4 [0.0521]\n",
            "Epochs [169/250] Step [122/183] Loss [0.1302] bleu [0.2793] bleu_1 [5.9028] bleu_4 [0.0548]\n",
            "Epochs [170/250] Step [0/183] Loss [0.1862] bleu [0.2480] bleu_1 [6.2500] bleu_4 [0.0453]\n",
            "Epochs [170/250] Step [61/183] Loss [0.1400] bleu [0.2719] bleu_1 [5.4983] bleu_4 [0.0541]\n",
            "Epochs [170/250] Step [122/183] Loss [0.1627] bleu [0.3067] bleu_1 [5.8140] bleu_4 [0.0631]\n",
            "Epochs [171/250] Step [0/183] Loss [0.1452] bleu [0.1955] bleu_1 [2.1538] bleu_4 [0.0472]\n",
            "Epochs [171/250] Step [61/183] Loss [0.1404] bleu [0.2655] bleu_1 [5.1195] bleu_4 [0.0536]\n",
            "Epochs [171/250] Step [122/183] Loss [0.1448] bleu [0.2620] bleu_1 [4.7945] bleu_4 [0.0539]\n",
            "Epochs [172/250] Step [0/183] Loss [0.1505] bleu [0.2762] bleu_1 [5.5749] bleu_4 [0.0551]\n",
            "Epochs [172/250] Step [61/183] Loss [0.1445] bleu [0.2804] bleu_1 [7.7419] bleu_4 [0.0500]\n",
            "Epochs [172/250] Step [122/183] Loss [0.1552] bleu [0.2870] bleu_1 [4.9057] bleu_4 [0.0610]\n",
            "Epochs [173/250] Step [0/183] Loss [0.1460] bleu [0.2298] bleu_1 [5.3977] bleu_4 [0.0428]\n",
            "Epochs [173/250] Step [61/183] Loss [0.2578] bleu [0.2839] bleu_1 [6.5292] bleu_4 [0.0541]\n",
            "Epochs [173/250] Step [122/183] Loss [0.1389] bleu [0.2872] bleu_1 [6.5972] bleu_4 [0.0548]\n",
            "Epochs [174/250] Step [0/183] Loss [0.2222] bleu [0.2214] bleu_1 [4.7887] bleu_4 [0.0424]\n",
            "Epochs [174/250] Step [61/183] Loss [0.1728] bleu [0.2122] bleu_1 [4.6070] bleu_4 [0.0405]\n",
            "Epochs [174/250] Step [122/183] Loss [0.1969] bleu [0.3225] bleu_1 [7.3077] bleu_4 [0.0625]\n",
            "Epochs [175/250] Step [0/183] Loss [0.1486] bleu [0.2449] bleu_1 [4.2623] bleu_4 [0.0510]\n",
            "Epochs [175/250] Step [61/183] Loss [0.1594] bleu [0.2947] bleu_1 [5.9041] bleu_4 [0.0592]\n",
            "Epochs [175/250] Step [122/183] Loss [0.1596] bleu [0.2543] bleu_1 [5.1780] bleu_4 [0.0502]\n",
            "Epochs [176/250] Step [0/183] Loss [0.1402] bleu [0.3103] bleu_1 [7.3529] bleu_4 [0.0590]\n",
            "Epochs [176/250] Step [61/183] Loss [0.1317] bleu [0.2451] bleu_1 [5.7229] bleu_4 [0.0460]\n",
            "Epochs [176/250] Step [122/183] Loss [0.1338] bleu [0.2728] bleu_1 [5.2448] bleu_4 [0.0553]\n",
            "Epochs [177/250] Step [0/183] Loss [0.1287] bleu [0.3087] bleu_1 [6.7416] bleu_4 [0.0604]\n",
            "Epochs [177/250] Step [61/183] Loss [0.1643] bleu [0.1926] bleu_1 [3.8265] bleu_4 [0.0377]\n",
            "Epochs [177/250] Step [122/183] Loss [0.1296] bleu [0.2913] bleu_1 [6.4057] bleu_4 [0.0566]\n",
            "Epochs [178/250] Step [0/183] Loss [0.1299] bleu [0.2837] bleu_1 [5.9859] bleu_4 [0.0558]\n",
            "Epochs [178/250] Step [61/183] Loss [0.1464] bleu [0.2813] bleu_1 [7.0000] bleu_4 [0.0521]\n",
            "Epochs [178/250] Step [122/183] Loss [0.1296] bleu [0.3158] bleu_1 [6.2745] bleu_4 [0.0641]\n",
            "Epochs [179/250] Step [0/183] Loss [0.1354] bleu [0.1936] bleu_1 [4.0404] bleu_4 [0.0372]\n",
            "Epochs [179/250] Step [61/183] Loss [0.1518] bleu [0.1385] bleu_1 [2.9575] bleu_4 [0.0260]\n",
            "Epochs [179/250] Step [122/183] Loss [0.1345] bleu [0.3130] bleu_1 [8.5409] bleu_4 [0.0566]\n",
            "Epochs [180/250] Step [0/183] Loss [0.1683] bleu [0.1875] bleu_1 [4.2959] bleu_4 [0.0348]\n",
            "Epochs [180/250] Step [61/183] Loss [0.1268] bleu [0.3195] bleu_1 [6.9498] bleu_4 [0.0628]\n",
            "Epochs [180/250] Step [122/183] Loss [0.1284] bleu [0.2913] bleu_1 [4.6693] bleu_4 [0.0635]\n",
            "Epochs [181/250] Step [0/183] Loss [0.1351] bleu [0.2432] bleu_1 [4.7319] bleu_4 [0.0486]\n",
            "Epochs [181/250] Step [61/183] Loss [0.1762] bleu [0.1542] bleu_1 [3.2720] bleu_4 [0.0291]\n",
            "Epochs [181/250] Step [122/183] Loss [0.1880] bleu [0.2484] bleu_1 [5.7927] bleu_4 [0.0466]\n",
            "Epochs [182/250] Step [0/183] Loss [0.1300] bleu [0.2678] bleu_1 [5.6856] bleu_4 [0.0523]\n",
            "Epochs [182/250] Step [61/183] Loss [0.1515] bleu [0.2952] bleu_1 [8.1081] bleu_4 [0.0530]\n",
            "Epochs [182/250] Step [122/183] Loss [0.2230] bleu [0.2728] bleu_1 [6.5574] bleu_4 [0.0510]\n",
            "Epochs [183/250] Step [0/183] Loss [0.1759] bleu [0.3140] bleu_1 [5.3061] bleu_4 [0.0676]\n",
            "Epochs [183/250] Step [61/183] Loss [0.1332] bleu [0.2911] bleu_1 [7.4830] bleu_4 [0.0534]\n",
            "Epochs [183/250] Step [122/183] Loss [0.2067] bleu [0.2545] bleu_1 [5.4313] bleu_4 [0.0494]\n",
            "Epochs [184/250] Step [0/183] Loss [0.1587] bleu [0.2405] bleu_1 [4.1935] bleu_4 [0.0500]\n",
            "Epochs [184/250] Step [61/183] Loss [0.1507] bleu [0.2829] bleu_1 [5.4152] bleu_4 [0.0576]\n",
            "Epochs [184/250] Step [122/183] Loss [0.1776] bleu [0.2591] bleu_1 [5.7692] bleu_4 [0.0496]\n",
            "Epochs [185/250] Step [0/183] Loss [0.1373] bleu [0.2423] bleu_1 [4.2208] bleu_4 [0.0504]\n",
            "Epochs [185/250] Step [61/183] Loss [0.1383] bleu [0.2446] bleu_1 [4.0000] bleu_4 [0.0521]\n",
            "Epochs [185/250] Step [122/183] Loss [0.1424] bleu [0.3548] bleu_1 [8.9069] bleu_4 [0.0668]\n",
            "Epochs [186/250] Step [0/183] Loss [0.1379] bleu [0.2882] bleu_1 [4.9242] bleu_4 [0.0613]\n",
            "Epochs [186/250] Step [61/183] Loss [0.1537] bleu [0.2737] bleu_1 [6.0606] bleu_4 [0.0527]\n",
            "Epochs [186/250] Step [122/183] Loss [0.1340] bleu [0.3136] bleu_1 [6.5385] bleu_4 [0.0625]\n",
            "Epochs [187/250] Step [0/183] Loss [0.1308] bleu [0.3355] bleu_1 [7.8740] bleu_4 [0.0644]\n",
            "Epochs [187/250] Step [61/183] Loss [0.1328] bleu [0.3095] bleu_1 [6.4639] bleu_4 [0.0616]\n",
            "Epochs [187/250] Step [122/183] Loss [0.1589] bleu [0.2790] bleu_1 [6.1644] bleu_4 [0.0539]\n",
            "Epochs [188/250] Step [0/183] Loss [0.1335] bleu [0.2657] bleu_1 [5.9016] bleu_4 [0.0510]\n",
            "Epochs [188/250] Step [61/183] Loss [0.1358] bleu [0.3311] bleu_1 [6.8548] bleu_4 [0.0665]\n",
            "Epochs [188/250] Step [122/183] Loss [0.1341] bleu [0.2860] bleu_1 [6.0284] bleu_4 [0.0563]\n",
            "Epochs [189/250] Step [0/183] Loss [0.1338] bleu [0.2667] bleu_1 [5.9211] bleu_4 [0.0512]\n",
            "Epochs [189/250] Step [61/183] Loss [0.1336] bleu [0.2967] bleu_1 [7.6125] bleu_4 [0.0546]\n",
            "Epochs [189/250] Step [122/183] Loss [0.1321] bleu [0.1920] bleu_1 [3.8168] bleu_4 [0.0375]\n",
            "Epochs [190/250] Step [0/183] Loss [0.1312] bleu [0.2740] bleu_1 [4.7101] bleu_4 [0.0579]\n",
            "Epochs [190/250] Step [61/183] Loss [0.1302] bleu [0.2901] bleu_1 [6.3830] bleu_4 [0.0563]\n",
            "Epochs [190/250] Step [122/183] Loss [0.1296] bleu [0.3235] bleu_1 [7.9245] bleu_4 [0.0610]\n",
            "Epochs [191/250] Step [0/183] Loss [0.1297] bleu [0.3451] bleu_1 [8.6957] bleu_4 [0.0648]\n",
            "Epochs [191/250] Step [61/183] Loss [0.1326] bleu [0.2638] bleu_1 [5.8632] bleu_4 [0.0506]\n"
          ]
        }
      ]
    },
    {
      "cell_type": "code",
      "source": [
        "import numpy as np"
      ],
      "metadata": {
        "id": "jjN0H6ht7Fyp"
      },
      "execution_count": null,
      "outputs": []
    },
    {
      "cell_type": "code",
      "source": [
        "save_path"
      ],
      "metadata": {
        "id": "BE89zyWsxWvY"
      },
      "execution_count": null,
      "outputs": []
    },
    {
      "cell_type": "code",
      "execution_count": null,
      "metadata": {
        "id": "nsJ_PV0pJxsw"
      },
      "outputs": [],
      "source": [
        "import os\n",
        "#save_path = '/content/drive/My Drive/Colab Notebooks/ComputerVision/CNN_T5/image_caption/'\n",
        "os.chdir(save_path)\n",
        "!ls"
      ]
    },
    {
      "cell_type": "code",
      "execution_count": null,
      "metadata": {
        "id": "Orvj-J2WI0Ro",
        "colab": {
          "base_uri": "https://localhost:8080/",
          "height": 206
        },
        "outputId": "e170d53c-4696-45c4-8be0-39ffab98d26d"
      },
      "outputs": [
        {
          "output_type": "execute_result",
          "data": {
            "text/plain": [
              "   Epochs  num_epochs  step  [total_step    losses  bleu_score     bleu1  \\\n",
              "0       1         250   182          183  2.041729    0.239512  5.604720   \n",
              "1       2         250   182          183  1.631269    0.231035  5.202312   \n",
              "2       3         250   182          183  1.307436    0.245067  5.487805   \n",
              "3       4         250   182          183  1.232020    0.240390  4.923077   \n",
              "4       5         250   182          183  1.104259    0.241590  5.182927   \n",
              "\n",
              "      bleu4  \n",
              "0  0.044803  \n",
              "1  0.043706  \n",
              "2  0.046642  \n",
              "3  0.047170  \n",
              "4  0.046642  "
            ],
            "text/html": [
              "\n",
              "  <div id=\"df-6fa5c5a4-c28b-4475-bb6b-17042ea89b1c\">\n",
              "    <div class=\"colab-df-container\">\n",
              "      <div>\n",
              "<style scoped>\n",
              "    .dataframe tbody tr th:only-of-type {\n",
              "        vertical-align: middle;\n",
              "    }\n",
              "\n",
              "    .dataframe tbody tr th {\n",
              "        vertical-align: top;\n",
              "    }\n",
              "\n",
              "    .dataframe thead th {\n",
              "        text-align: right;\n",
              "    }\n",
              "</style>\n",
              "<table border=\"1\" class=\"dataframe\">\n",
              "  <thead>\n",
              "    <tr style=\"text-align: right;\">\n",
              "      <th></th>\n",
              "      <th>Epochs</th>\n",
              "      <th>num_epochs</th>\n",
              "      <th>step</th>\n",
              "      <th>[total_step</th>\n",
              "      <th>losses</th>\n",
              "      <th>bleu_score</th>\n",
              "      <th>bleu1</th>\n",
              "      <th>bleu4</th>\n",
              "    </tr>\n",
              "  </thead>\n",
              "  <tbody>\n",
              "    <tr>\n",
              "      <th>0</th>\n",
              "      <td>1</td>\n",
              "      <td>250</td>\n",
              "      <td>182</td>\n",
              "      <td>183</td>\n",
              "      <td>2.041729</td>\n",
              "      <td>0.239512</td>\n",
              "      <td>5.604720</td>\n",
              "      <td>0.044803</td>\n",
              "    </tr>\n",
              "    <tr>\n",
              "      <th>1</th>\n",
              "      <td>2</td>\n",
              "      <td>250</td>\n",
              "      <td>182</td>\n",
              "      <td>183</td>\n",
              "      <td>1.631269</td>\n",
              "      <td>0.231035</td>\n",
              "      <td>5.202312</td>\n",
              "      <td>0.043706</td>\n",
              "    </tr>\n",
              "    <tr>\n",
              "      <th>2</th>\n",
              "      <td>3</td>\n",
              "      <td>250</td>\n",
              "      <td>182</td>\n",
              "      <td>183</td>\n",
              "      <td>1.307436</td>\n",
              "      <td>0.245067</td>\n",
              "      <td>5.487805</td>\n",
              "      <td>0.046642</td>\n",
              "    </tr>\n",
              "    <tr>\n",
              "      <th>3</th>\n",
              "      <td>4</td>\n",
              "      <td>250</td>\n",
              "      <td>182</td>\n",
              "      <td>183</td>\n",
              "      <td>1.232020</td>\n",
              "      <td>0.240390</td>\n",
              "      <td>4.923077</td>\n",
              "      <td>0.047170</td>\n",
              "    </tr>\n",
              "    <tr>\n",
              "      <th>4</th>\n",
              "      <td>5</td>\n",
              "      <td>250</td>\n",
              "      <td>182</td>\n",
              "      <td>183</td>\n",
              "      <td>1.104259</td>\n",
              "      <td>0.241590</td>\n",
              "      <td>5.182927</td>\n",
              "      <td>0.046642</td>\n",
              "    </tr>\n",
              "  </tbody>\n",
              "</table>\n",
              "</div>\n",
              "      <button class=\"colab-df-convert\" onclick=\"convertToInteractive('df-6fa5c5a4-c28b-4475-bb6b-17042ea89b1c')\"\n",
              "              title=\"Convert this dataframe to an interactive table.\"\n",
              "              style=\"display:none;\">\n",
              "        \n",
              "  <svg xmlns=\"http://www.w3.org/2000/svg\" height=\"24px\"viewBox=\"0 0 24 24\"\n",
              "       width=\"24px\">\n",
              "    <path d=\"M0 0h24v24H0V0z\" fill=\"none\"/>\n",
              "    <path d=\"M18.56 5.44l.94 2.06.94-2.06 2.06-.94-2.06-.94-.94-2.06-.94 2.06-2.06.94zm-11 1L8.5 8.5l.94-2.06 2.06-.94-2.06-.94L8.5 2.5l-.94 2.06-2.06.94zm10 10l.94 2.06.94-2.06 2.06-.94-2.06-.94-.94-2.06-.94 2.06-2.06.94z\"/><path d=\"M17.41 7.96l-1.37-1.37c-.4-.4-.92-.59-1.43-.59-.52 0-1.04.2-1.43.59L10.3 9.45l-7.72 7.72c-.78.78-.78 2.05 0 2.83L4 21.41c.39.39.9.59 1.41.59.51 0 1.02-.2 1.41-.59l7.78-7.78 2.81-2.81c.8-.78.8-2.07 0-2.86zM5.41 20L4 18.59l7.72-7.72 1.47 1.35L5.41 20z\"/>\n",
              "  </svg>\n",
              "      </button>\n",
              "      \n",
              "  <style>\n",
              "    .colab-df-container {\n",
              "      display:flex;\n",
              "      flex-wrap:wrap;\n",
              "      gap: 12px;\n",
              "    }\n",
              "\n",
              "    .colab-df-convert {\n",
              "      background-color: #E8F0FE;\n",
              "      border: none;\n",
              "      border-radius: 50%;\n",
              "      cursor: pointer;\n",
              "      display: none;\n",
              "      fill: #1967D2;\n",
              "      height: 32px;\n",
              "      padding: 0 0 0 0;\n",
              "      width: 32px;\n",
              "    }\n",
              "\n",
              "    .colab-df-convert:hover {\n",
              "      background-color: #E2EBFA;\n",
              "      box-shadow: 0px 1px 2px rgba(60, 64, 67, 0.3), 0px 1px 3px 1px rgba(60, 64, 67, 0.15);\n",
              "      fill: #174EA6;\n",
              "    }\n",
              "\n",
              "    [theme=dark] .colab-df-convert {\n",
              "      background-color: #3B4455;\n",
              "      fill: #D2E3FC;\n",
              "    }\n",
              "\n",
              "    [theme=dark] .colab-df-convert:hover {\n",
              "      background-color: #434B5C;\n",
              "      box-shadow: 0px 1px 3px 1px rgba(0, 0, 0, 0.15);\n",
              "      filter: drop-shadow(0px 1px 2px rgba(0, 0, 0, 0.3));\n",
              "      fill: #FFFFFF;\n",
              "    }\n",
              "  </style>\n",
              "\n",
              "      <script>\n",
              "        const buttonEl =\n",
              "          document.querySelector('#df-6fa5c5a4-c28b-4475-bb6b-17042ea89b1c button.colab-df-convert');\n",
              "        buttonEl.style.display =\n",
              "          google.colab.kernel.accessAllowed ? 'block' : 'none';\n",
              "\n",
              "        async function convertToInteractive(key) {\n",
              "          const element = document.querySelector('#df-6fa5c5a4-c28b-4475-bb6b-17042ea89b1c');\n",
              "          const dataTable =\n",
              "            await google.colab.kernel.invokeFunction('convertToInteractive',\n",
              "                                                     [key], {});\n",
              "          if (!dataTable) return;\n",
              "\n",
              "          const docLinkHtml = 'Like what you see? Visit the ' +\n",
              "            '<a target=\"_blank\" href=https://colab.research.google.com/notebooks/data_table.ipynb>data table notebook</a>'\n",
              "            + ' to learn more about interactive tables.';\n",
              "          element.innerHTML = '';\n",
              "          dataTable['output_type'] = 'display_data';\n",
              "          await google.colab.output.renderOutput(dataTable, element);\n",
              "          const docLink = document.createElement('div');\n",
              "          docLink.innerHTML = docLinkHtml;\n",
              "          element.appendChild(docLink);\n",
              "        }\n",
              "      </script>\n",
              "    </div>\n",
              "  </div>\n",
              "  "
            ]
          },
          "metadata": {},
          "execution_count": 78
        }
      ],
      "source": [
        "import pandas as pd\n",
        "df = pd.read_csv(save_path+'DF_metrics_exp1.csv')\n",
        "df.head()"
      ]
    },
    {
      "cell_type": "code",
      "execution_count": null,
      "metadata": {
        "id": "abixT5OeYxzL",
        "colab": {
          "base_uri": "https://localhost:8080/",
          "height": 383
        },
        "outputId": "924bfb91-827e-4ac1-cde0-3c9a58c9bcf4"
      },
      "outputs": [
        {
          "output_type": "display_data",
          "data": {
            "text/plain": [
              "<Figure size 400x400 with 1 Axes>"
            ],
            "image/png": "[encoded data removed]"
          },
          "metadata": {
            "needs_background": "light"
          }
        }
      ],
      "source": [
        "import matplotlib.pyplot as plt\n",
        "import numpy as np\n",
        "from matplotlib.pyplot import figure\n",
        "figure(figsize=(5, 5), dpi=80)\n",
        "x=df['Epochs']\n",
        "Loss=df['losses']\n",
        "bleu=df['bleu_score']\n",
        "bleu1=df['bleu1']\n",
        "bleu4=df['bleu4']\n",
        "max(x)\n",
        "\n",
        "plt.plot(x, Loss, \"r*-\", label='Loss', linewidth=1) # red line\n",
        "plt.plot(x, bleu, 'go-', label='bleu score', linewidth=1) \n",
        "#plt.plot(x, bleu1, 'bd-', label='bleu 1', linewidth=1) \n",
        "plt.plot(x, bleu4, 'cs-', label='bleu 4', linewidth=1) \n",
        "leg = plt.legend(loc='best', ncol=4, mode=\"expand\", shadow=True, fancybox=True)\n",
        "leg.get_frame().set_alpha(0.5)\n",
        "plt.xlabel('Epochs')\n",
        "#plt.xticks(np.arange(0, max(x)+100, 250))\n",
        "plt.ylabel('metric value')\n",
        "plt.title('Metrics of 1 experiment')\n",
        "plt.show()"
      ]
    }
  ],
  "metadata": {
    "accelerator": "GPU",
    "colab": {
      "collapsed_sections": [],
      "machine_shape": "hm",
      "name": "IA025_Delivery_3_stage2_training_CNNT5_Image_Captioning.ipynb",
      "provenance": [],
      "include_colab_link": true
    },
    "gpuClass": "standard",
    "kernelspec": {
      "display_name": "Python 3",
      "name": "python3"
    }
  },
  "nbformat": 4,
  "nbformat_minor": 0
}