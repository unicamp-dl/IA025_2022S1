{
  "cells": [
    {
      "cell_type": "markdown",
      "metadata": {
        "id": "view-in-github",
        "colab_type": "text"
      },
      "source": [
        "<a href=\"https://colab.research.google.com/github/unicamp-dl/IA025_2022S1/blob/main/Final_project/Alexander_Valle/3delivery/Stage1_GeneratingCaption4Imagenet%26DAmageNet__with_OFA_.ipynb\" target=\"_parent\"><img src=\"https://colab.research.google.com/assets/colab-badge.svg\" alt=\"Open In Colab\"/></a>"
      ]
    },
    {
      "cell_type": "markdown",
      "source": [
        "# Stage I generating the capntions for Imagenet and Damagenet\n",
        "\n",
        "Rolan Alexander Valle Rey Sánchez ra 230254\n",
        "\n",
        "\n",
        "\n",
        "\n",
        "\n",
        "In this notebook we use OFA to genrate the captions for the images"
      ],
      "metadata": {
        "id": "8LZl-QKKHd4N"
      },
      "id": "8LZl-QKKHd4N"
    },
    {
      "cell_type": "markdown",
      "metadata": {
        "id": "_jJOSpPHCX8z"
      },
      "source": [
        "# **OFA**\n",
        "Start to enjoy image captioning with OFA!\n",
        "\n",
        "https://github.com/ofa-sys/ofa\n",
        "\n",
        "https://paperswithcode.com/paper/unifying-architectures-tasks-and-modalities#code\n",
        "\n",
        "other\n",
        "\n",
        "https://paperswithcode.com/sota/image-captioning-on-coco-captions\n",
        "\n",
        "\n",
        "https://paperswithcode.com/paper/language-models-are-general-purpose#code"
      ],
      "id": "_jJOSpPHCX8z"
    },
    {
      "cell_type": "markdown",
      "metadata": {
        "id": "UpnPEfDJiH9y"
      },
      "source": [
        "OFA is a unified multimodal pretrained model that unifies modalities (i.e., cross-modality, vision, language) and tasks (e.g., image generation, visual grounding, image captioning, image classification, text generation, etc.) to a simple sequence-to-sequence learning framework. For more information, please refer to our paper"
      ],
      "id": "UpnPEfDJiH9y"
    },
    {
      "cell_type": "code",
      "execution_count": null,
      "metadata": {
        "colab": {
          "base_uri": "https://localhost:8080/"
        },
        "id": "Y33xl7uYAASq",
        "outputId": "4c6feee6-0453-41aa-cfac-4f902632aecd"
      },
      "outputs": [
        {
          "output_type": "stream",
          "name": "stdout",
          "text": [
            "Mounted at /content/Drive\n"
          ]
        }
      ],
      "source": [
        "from google.colab import drive\n",
        "drive.mount('/content/Drive')"
      ],
      "id": "Y33xl7uYAASq"
    },
    {
      "cell_type": "code",
      "execution_count": null,
      "metadata": {
        "colab": {
          "base_uri": "https://localhost:8080/",
          "height": 35
        },
        "id": "RIByEfVMy-q8",
        "outputId": "5c151764-996c-4d89-e0f3-55a6928a04f6"
      },
      "outputs": [
        {
          "output_type": "execute_result",
          "data": {
            "text/plain": [
              "'/content'"
            ],
            "application/vnd.google.colaboratory.intrinsic+json": {
              "type": "string"
            }
          },
          "metadata": {},
          "execution_count": 2
        }
      ],
      "source": [
        "import os\n",
        "#os.chdir(\"/content\")\n",
        "os.getcwd()"
      ],
      "id": "RIByEfVMy-q8"
    },
    {
      "cell_type": "code",
      "execution_count": null,
      "metadata": {
        "id": "70OySPnbxlj4"
      },
      "outputs": [],
      "source": [
        "#!rm -rf fairseq\n"
      ],
      "id": "70OySPnbxlj4"
    },
    {
      "cell_type": "code",
      "execution_count": null,
      "metadata": {
        "colab": {
          "base_uri": "https://localhost:8080/"
        },
        "id": "bFqT7zjqy1Av",
        "outputId": "6a9b8826-867e-4f26-abc9-af719a45ac49"
      },
      "outputs": [
        {
          "name": "stdout",
          "output_type": "stream",
          "text": [
            "drive  Drive  OFA  sample_data\n"
          ]
        }
      ],
      "source": [
        "!ls"
      ],
      "id": "bFqT7zjqy1Av"
    },
    {
      "cell_type": "markdown",
      "metadata": {
        "id": "P54XzUU_FK1_"
      },
      "source": [
        "## **Preparation**\n",
        "Below you just need to import required packages, and check whether to use GPU or FP16. "
      ],
      "id": "P54XzUU_FK1_"
    },
    {
      "cell_type": "code",
      "execution_count": null,
      "metadata": {
        "colab": {
          "base_uri": "https://localhost:8080/",
          "height": 35
        },
        "id": "Pr3Ez-Bfu-cx",
        "outputId": "4ac67a77-33ae-492b-eb64-47f333b17634"
      },
      "outputs": [
        {
          "output_type": "execute_result",
          "data": {
            "text/plain": [
              "'/content'"
            ],
            "application/vnd.google.colaboratory.intrinsic+json": {
              "type": "string"
            }
          },
          "metadata": {},
          "execution_count": 3
        }
      ],
      "source": [
        "import os\n",
        "#os.chdir(\"/content\")\n",
        "os.getcwd()"
      ],
      "id": "Pr3Ez-Bfu-cx"
    },
    {
      "cell_type": "code",
      "execution_count": null,
      "metadata": {
        "id": "2f544b02"
      },
      "outputs": [],
      "source": [
        "import torch\n",
        "import numpy as np\n",
        "\n",
        "from PIL import Image\n",
        "\n",
        "# Register caption task\n",
        "\n",
        "\n",
        "# turn on cuda if GPU is available\n",
        "use_cuda = torch.cuda.is_available()\n",
        "# use fp16 only when GPU is available\n",
        "use_fp16 = False"
      ],
      "id": "2f544b02"
    },
    {
      "cell_type": "markdown",
      "metadata": {
        "id": "PbtThfLMGb48"
      },
      "source": [
        "## **Build Model**\n",
        "Below you can build your model and load the weights from the given checkpoint, and also build a generator. "
      ],
      "id": "PbtThfLMGb48"
    },
    {
      "cell_type": "markdown",
      "metadata": {
        "id": "X5gToRpjGqUa"
      },
      "source": [
        "## **Preprocess**\n",
        "We demonstrate the required transformation fucntions for preprocessing inputs."
      ],
      "id": "X5gToRpjGqUa"
    },
    {
      "cell_type": "markdown",
      "metadata": {
        "id": "z5j2DSVMG6i-"
      },
      "source": [
        "## **Run Inference**\n",
        "Download an image and run the following scripts to generate the caption."
      ],
      "id": "z5j2DSVMG6i-"
    },
    {
      "cell_type": "code",
      "execution_count": null,
      "metadata": {
        "id": "tXeHOy7Vwvz9"
      },
      "outputs": [],
      "source": [
        "import matplotlib.pyplot as plt"
      ],
      "id": "tXeHOy7Vwvz9"
    },
    {
      "cell_type": "code",
      "execution_count": null,
      "metadata": {
        "id": "YrCEEv6ALQIU"
      },
      "outputs": [],
      "source": [
        "# import necessary Python packages\n",
        "import os\n",
        "import numpy as np\n",
        "import urllib.request\n",
        "# set the working directory to the `earth-analytics-bootcamp` directory\n",
        "# print the current working directory\n",
        "os.getcwd()\n",
        "os.chdir(\"/content/\")\n"
      ],
      "id": "YrCEEv6ALQIU"
    },
    {
      "cell_type": "code",
      "execution_count": null,
      "metadata": {
        "id": "rpbHqlrOLVK_"
      },
      "outputs": [],
      "source": [
        "os.chdir(\"/content/\")\n",
        "os.chdir(\"/content/Drive/\")\n",
        "os.chdir(\"/content/Drive/MyDrive/\")\n",
        "os.chdir(\"/content/Drive/MyDrive/IA025/proy/\")"
      ],
      "id": "rpbHqlrOLVK_"
    },
    {
      "cell_type": "code",
      "execution_count": null,
      "metadata": {
        "id": "v_A4eApJNLPA"
      },
      "outputs": [],
      "source": [
        "#os.chdir(\"/content/Drive/MyDrive/IA025/proy/ImageNet/ImageNetVal/\")\n",
        "#os.chdir(\"/content/Drive/MyDrive/IA025/proy/DAmageNet/DmgNet/\")"
      ],
      "id": "v_A4eApJNLPA"
    },
    {
      "cell_type": "code",
      "execution_count": null,
      "metadata": {
        "colab": {
          "base_uri": "https://localhost:8080/",
          "height": 35
        },
        "id": "56CK-pVxEO2p",
        "outputId": "82aedac4-0354-4393-e71c-6ed932b51d31"
      },
      "outputs": [
        {
          "output_type": "execute_result",
          "data": {
            "text/plain": [
              "'/content/Drive/MyDrive/IA025/proy'"
            ],
            "application/vnd.google.colaboratory.intrinsic+json": {
              "type": "string"
            }
          },
          "metadata": {},
          "execution_count": 10
        }
      ],
      "source": [
        "\n",
        "os.getcwd()\n"
      ],
      "id": "56CK-pVxEO2p"
    },
    {
      "cell_type": "code",
      "execution_count": null,
      "metadata": {
        "id": "aLW-9EIuEQ9m"
      },
      "outputs": [],
      "source": [
        "import matplotlib.pyplot as plt\n",
        "import os\n",
        "import cv2\n",
        "#img = os.listdir('/content/Drive/MyDrive/IA025/proy/ImageNet/ImageNetVal/')\n",
        "#print(img) \n",
        "#len(img)"
      ],
      "id": "aLW-9EIuEQ9m"
    },
    {
      "cell_type": "code",
      "execution_count": null,
      "metadata": {
        "id": "ywSRZ72wl_dH"
      },
      "outputs": [],
      "source": [
        "#im=[txt.replace(\".JPEG\", \"\") for txt in img]"
      ],
      "id": "ywSRZ72wl_dH"
    },
    {
      "cell_type": "code",
      "execution_count": null,
      "metadata": {
        "colab": {
          "base_uri": "https://localhost:8080/"
        },
        "id": "4Xw23guXOAIa",
        "outputId": "ebe13eb5-b065-414b-c0e2-9b8a79990983"
      },
      "outputs": [
        {
          "data": {
            "text/plain": [
              "49595"
            ]
          },
          "execution_count": 55,
          "metadata": {},
          "output_type": "execute_result"
        }
      ],
      "source": [
        "len(img)"
      ],
      "id": "4Xw23guXOAIa"
    },
    {
      "cell_type": "code",
      "execution_count": null,
      "metadata": {
        "id": "S9u2pUWO9JsE"
      },
      "outputs": [],
      "source": [
        "path=\"/content/Drive/MyDrive/IA025/proy/\"\n",
        "path='/ImageNet/ImageNetVal/'"
      ],
      "id": "S9u2pUWO9JsE"
    },
    {
      "cell_type": "code",
      "execution_count": null,
      "metadata": {
        "id": "LnTTGS4LRH2j"
      },
      "outputs": [],
      "source": [
        "#dmg = os.listdir('./DAmageNet/DmgNet/')\n",
        "#print(dmg) "
      ],
      "id": "LnTTGS4LRH2j"
    },
    {
      "cell_type": "code",
      "execution_count": null,
      "metadata": {
        "id": "14xWRYIpSvCS"
      },
      "outputs": [],
      "source": [
        "#da=[txt.replace(\"png\", \"\") for txt in dmg]"
      ],
      "id": "14xWRYIpSvCS"
    },
    {
      "cell_type": "code",
      "execution_count": null,
      "metadata": {
        "id": "OjQKr9bRSrxh"
      },
      "outputs": [],
      "source": [
        "#same=list(set(da) & set(im))\n",
        "#same[1:10]"
      ],
      "id": "OjQKr9bRSrxh"
    },
    {
      "cell_type": "code",
      "execution_count": null,
      "metadata": {
        "id": "9ap9pyJfBaVt"
      },
      "outputs": [],
      "source": [
        "# Libraries\n",
        "import seaborn as sns\n",
        "import pandas as pd\n",
        "from matplotlib import pyplot as plt"
      ],
      "id": "9ap9pyJfBaVt"
    },
    {
      "cell_type": "code",
      "execution_count": null,
      "metadata": {
        "id": "4_LjPNkHKeEB"
      },
      "outputs": [],
      "source": [
        "import random\n",
        "# select randoly the clases for retrain\n",
        "l = list(range(1000))\n",
        "sh=random.sample(l, 500)# shero shot\n",
        "os=random.sample(list(set(l)-set(sh)), 250)\n",
        "fs=list(set(l)-set(sh + os))\n",
        "fs2=random.sample(fs, 150)\n",
        "fs3=list(set(fs)-set(fs2))"
      ],
      "id": "4_LjPNkHKeEB"
    },
    {
      "cell_type": "code",
      "execution_count": null,
      "metadata": {
        "id": "LFD3snckprkn",
        "colab": {
          "base_uri": "https://localhost:8080/"
        },
        "outputId": "056476bf-1dc3-468d-94f6-2daaf8313f95"
      },
      "outputs": [
        {
          "output_type": "execute_result",
          "data": {
            "text/plain": [
              "(500, 250, 250)"
            ]
          },
          "metadata": {},
          "execution_count": 16
        }
      ],
      "source": [
        "len(sh),len(os),len(fs)"
      ],
      "id": "LFD3snckprkn"
    },
    {
      "cell_type": "code",
      "execution_count": null,
      "metadata": {
        "id": "K4qCr_0jLeyx"
      },
      "outputs": [],
      "source": [
        "pathgt=\"/content/Drive/MyDrive/IA025/proy/GT/\"\n"
      ],
      "id": "K4qCr_0jLeyx"
    },
    {
      "cell_type": "code",
      "execution_count": null,
      "metadata": {
        "id": "DdH9_5YDgFPd"
      },
      "outputs": [],
      "source": [
        "groundtruth = pd.read_csv(pathgt+'IMG_validation_ground_truth.csv', delimiter=',')#.values"
      ],
      "id": "DdH9_5YDgFPd"
    },
    {
      "cell_type": "code",
      "execution_count": null,
      "metadata": {
        "id": "gMYi3xVjiGAj",
        "colab": {
          "base_uri": "https://localhost:8080/"
        },
        "outputId": "ebd89e5e-8155-496b-9ce2-4a8fad82888e"
      },
      "outputs": [
        {
          "output_type": "execute_result",
          "data": {
            "text/plain": [
              "{0, 1, 2}"
            ]
          },
          "metadata": {},
          "execution_count": 20
        }
      ],
      "source": [
        "#groundtruth['type_shot']\n",
        "shot1=np.array([1 if g in os else 0 for g in groundtruth['Ground_truth'].values])\n",
        "fshot=np.array([2 if g in fs else 0 for g in groundtruth['Ground_truth'].values])\n",
        "shot=shot1+fshot\n",
        "sdict=dict({0:'none',1:'one',2:'few'})\n",
        "groundtruth['type_shot']=np.array([sdict[s] for s in shot])#type_shot\n",
        "set(list(shot))"
      ],
      "id": "gMYi3xVjiGAj"
    },
    {
      "cell_type": "code",
      "source": [
        "imagenet=pd.read_csv('/content/Drive/MyDrive/IA025/proy/data2/imagenet_Full_Captions.csv')\n",
        "imagenet"
      ],
      "metadata": {
        "colab": {
          "base_uri": "https://localhost:8080/",
          "height": 424
        },
        "id": "KZjttGag5Rp1",
        "outputId": "32728c02-b0d0-43bb-bfba-4652b381eb26"
      },
      "id": "KZjttGag5Rp1",
      "execution_count": null,
      "outputs": [
        {
          "output_type": "execute_result",
          "data": {
            "text/plain": [
              "                                ids  \\\n",
              "0      ILSVRC2012_val_00009996.JPEG   \n",
              "1      ILSVRC2012_val_00009931.JPEG   \n",
              "2      ILSVRC2012_val_00031532.JPEG   \n",
              "3      ILSVRC2012_val_00014855.JPEG   \n",
              "4      ILSVRC2012_val_00021964.JPEG   \n",
              "...                             ...   \n",
              "49588  ILSVRC2012_val_00039730.JPEG   \n",
              "49589  ILSVRC2012_val_00027484.JPEG   \n",
              "49590  ILSVRC2012_val_00004575.JPEG   \n",
              "49591  ILSVRC2012_val_00043065.JPEG   \n",
              "49592  ILSVRC2012_val_00025710.JPEG   \n",
              "\n",
              "                                              caption  ground_truth  \\\n",
              "0                    a goat standing on top of a hill           350   \n",
              "1         a painting with red paint on a wooden stand           583   \n",
              "2                a brown dog sitting next to a window           178   \n",
              "3           a mushroom growing on top of a tree trunk           993   \n",
              "4        a row of popsicle sticks with labels on them           798   \n",
              "...                                               ...           ...   \n",
              "49588          a large white dog chewing on a red cup           257   \n",
              "49589                a gecko sitting on top of a rock            61   \n",
              "49590            an old barn in the middle of a field           425   \n",
              "49591  a large wicker basket sitting on top of a wall           588   \n",
              "49592                 a close up of a crab on a table           121   \n",
              "\n",
              "                      image_id  attack  \n",
              "0      ILSVRC2012_val_00009996       0  \n",
              "1      ILSVRC2012_val_00009931       0  \n",
              "2      ILSVRC2012_val_00031532       0  \n",
              "3      ILSVRC2012_val_00014855       0  \n",
              "4      ILSVRC2012_val_00021964       0  \n",
              "...                        ...     ...  \n",
              "49588  ILSVRC2012_val_00039730       0  \n",
              "49589  ILSVRC2012_val_00027484       0  \n",
              "49590  ILSVRC2012_val_00004575       0  \n",
              "49591  ILSVRC2012_val_00043065       0  \n",
              "49592  ILSVRC2012_val_00025710       0  \n",
              "\n",
              "[49593 rows x 5 columns]"
            ],
            "text/html": [
              "\n",
              "  <div id=\"df-61b7d9ce-c298-4bf4-80f1-7eee0e4634ad\">\n",
              "    <div class=\"colab-df-container\">\n",
              "      <div>\n",
              "<style scoped>\n",
              "    .dataframe tbody tr th:only-of-type {\n",
              "        vertical-align: middle;\n",
              "    }\n",
              "\n",
              "    .dataframe tbody tr th {\n",
              "        vertical-align: top;\n",
              "    }\n",
              "\n",
              "    .dataframe thead th {\n",
              "        text-align: right;\n",
              "    }\n",
              "</style>\n",
              "<table border=\"1\" class=\"dataframe\">\n",
              "  <thead>\n",
              "    <tr style=\"text-align: right;\">\n",
              "      <th></th>\n",
              "      <th>ids</th>\n",
              "      <th>caption</th>\n",
              "      <th>ground_truth</th>\n",
              "      <th>image_id</th>\n",
              "      <th>attack</th>\n",
              "    </tr>\n",
              "  </thead>\n",
              "  <tbody>\n",
              "    <tr>\n",
              "      <th>0</th>\n",
              "      <td>ILSVRC2012_val_00009996.JPEG</td>\n",
              "      <td>a goat standing on top of a hill</td>\n",
              "      <td>350</td>\n",
              "      <td>ILSVRC2012_val_00009996</td>\n",
              "      <td>0</td>\n",
              "    </tr>\n",
              "    <tr>\n",
              "      <th>1</th>\n",
              "      <td>ILSVRC2012_val_00009931.JPEG</td>\n",
              "      <td>a painting with red paint on a wooden stand</td>\n",
              "      <td>583</td>\n",
              "      <td>ILSVRC2012_val_00009931</td>\n",
              "      <td>0</td>\n",
              "    </tr>\n",
              "    <tr>\n",
              "      <th>2</th>\n",
              "      <td>ILSVRC2012_val_00031532.JPEG</td>\n",
              "      <td>a brown dog sitting next to a window</td>\n",
              "      <td>178</td>\n",
              "      <td>ILSVRC2012_val_00031532</td>\n",
              "      <td>0</td>\n",
              "    </tr>\n",
              "    <tr>\n",
              "      <th>3</th>\n",
              "      <td>ILSVRC2012_val_00014855.JPEG</td>\n",
              "      <td>a mushroom growing on top of a tree trunk</td>\n",
              "      <td>993</td>\n",
              "      <td>ILSVRC2012_val_00014855</td>\n",
              "      <td>0</td>\n",
              "    </tr>\n",
              "    <tr>\n",
              "      <th>4</th>\n",
              "      <td>ILSVRC2012_val_00021964.JPEG</td>\n",
              "      <td>a row of popsicle sticks with labels on them</td>\n",
              "      <td>798</td>\n",
              "      <td>ILSVRC2012_val_00021964</td>\n",
              "      <td>0</td>\n",
              "    </tr>\n",
              "    <tr>\n",
              "      <th>...</th>\n",
              "      <td>...</td>\n",
              "      <td>...</td>\n",
              "      <td>...</td>\n",
              "      <td>...</td>\n",
              "      <td>...</td>\n",
              "    </tr>\n",
              "    <tr>\n",
              "      <th>49588</th>\n",
              "      <td>ILSVRC2012_val_00039730.JPEG</td>\n",
              "      <td>a large white dog chewing on a red cup</td>\n",
              "      <td>257</td>\n",
              "      <td>ILSVRC2012_val_00039730</td>\n",
              "      <td>0</td>\n",
              "    </tr>\n",
              "    <tr>\n",
              "      <th>49589</th>\n",
              "      <td>ILSVRC2012_val_00027484.JPEG</td>\n",
              "      <td>a gecko sitting on top of a rock</td>\n",
              "      <td>61</td>\n",
              "      <td>ILSVRC2012_val_00027484</td>\n",
              "      <td>0</td>\n",
              "    </tr>\n",
              "    <tr>\n",
              "      <th>49590</th>\n",
              "      <td>ILSVRC2012_val_00004575.JPEG</td>\n",
              "      <td>an old barn in the middle of a field</td>\n",
              "      <td>425</td>\n",
              "      <td>ILSVRC2012_val_00004575</td>\n",
              "      <td>0</td>\n",
              "    </tr>\n",
              "    <tr>\n",
              "      <th>49591</th>\n",
              "      <td>ILSVRC2012_val_00043065.JPEG</td>\n",
              "      <td>a large wicker basket sitting on top of a wall</td>\n",
              "      <td>588</td>\n",
              "      <td>ILSVRC2012_val_00043065</td>\n",
              "      <td>0</td>\n",
              "    </tr>\n",
              "    <tr>\n",
              "      <th>49592</th>\n",
              "      <td>ILSVRC2012_val_00025710.JPEG</td>\n",
              "      <td>a close up of a crab on a table</td>\n",
              "      <td>121</td>\n",
              "      <td>ILSVRC2012_val_00025710</td>\n",
              "      <td>0</td>\n",
              "    </tr>\n",
              "  </tbody>\n",
              "</table>\n",
              "<p>49593 rows × 5 columns</p>\n",
              "</div>\n",
              "      <button class=\"colab-df-convert\" onclick=\"convertToInteractive('df-61b7d9ce-c298-4bf4-80f1-7eee0e4634ad')\"\n",
              "              title=\"Convert this dataframe to an interactive table.\"\n",
              "              style=\"display:none;\">\n",
              "        \n",
              "  <svg xmlns=\"http://www.w3.org/2000/svg\" height=\"24px\"viewBox=\"0 0 24 24\"\n",
              "       width=\"24px\">\n",
              "    <path d=\"M0 0h24v24H0V0z\" fill=\"none\"/>\n",
              "    <path d=\"M18.56 5.44l.94 2.06.94-2.06 2.06-.94-2.06-.94-.94-2.06-.94 2.06-2.06.94zm-11 1L8.5 8.5l.94-2.06 2.06-.94-2.06-.94L8.5 2.5l-.94 2.06-2.06.94zm10 10l.94 2.06.94-2.06 2.06-.94-2.06-.94-.94-2.06-.94 2.06-2.06.94z\"/><path d=\"M17.41 7.96l-1.37-1.37c-.4-.4-.92-.59-1.43-.59-.52 0-1.04.2-1.43.59L10.3 9.45l-7.72 7.72c-.78.78-.78 2.05 0 2.83L4 21.41c.39.39.9.59 1.41.59.51 0 1.02-.2 1.41-.59l7.78-7.78 2.81-2.81c.8-.78.8-2.07 0-2.86zM5.41 20L4 18.59l7.72-7.72 1.47 1.35L5.41 20z\"/>\n",
              "  </svg>\n",
              "      </button>\n",
              "      \n",
              "  <style>\n",
              "    .colab-df-container {\n",
              "      display:flex;\n",
              "      flex-wrap:wrap;\n",
              "      gap: 12px;\n",
              "    }\n",
              "\n",
              "    .colab-df-convert {\n",
              "      background-color: #E8F0FE;\n",
              "      border: none;\n",
              "      border-radius: 50%;\n",
              "      cursor: pointer;\n",
              "      display: none;\n",
              "      fill: #1967D2;\n",
              "      height: 32px;\n",
              "      padding: 0 0 0 0;\n",
              "      width: 32px;\n",
              "    }\n",
              "\n",
              "    .colab-df-convert:hover {\n",
              "      background-color: #E2EBFA;\n",
              "      box-shadow: 0px 1px 2px rgba(60, 64, 67, 0.3), 0px 1px 3px 1px rgba(60, 64, 67, 0.15);\n",
              "      fill: #174EA6;\n",
              "    }\n",
              "\n",
              "    [theme=dark] .colab-df-convert {\n",
              "      background-color: #3B4455;\n",
              "      fill: #D2E3FC;\n",
              "    }\n",
              "\n",
              "    [theme=dark] .colab-df-convert:hover {\n",
              "      background-color: #434B5C;\n",
              "      box-shadow: 0px 1px 3px 1px rgba(0, 0, 0, 0.15);\n",
              "      filter: drop-shadow(0px 1px 2px rgba(0, 0, 0, 0.3));\n",
              "      fill: #FFFFFF;\n",
              "    }\n",
              "  </style>\n",
              "\n",
              "      <script>\n",
              "        const buttonEl =\n",
              "          document.querySelector('#df-61b7d9ce-c298-4bf4-80f1-7eee0e4634ad button.colab-df-convert');\n",
              "        buttonEl.style.display =\n",
              "          google.colab.kernel.accessAllowed ? 'block' : 'none';\n",
              "\n",
              "        async function convertToInteractive(key) {\n",
              "          const element = document.querySelector('#df-61b7d9ce-c298-4bf4-80f1-7eee0e4634ad');\n",
              "          const dataTable =\n",
              "            await google.colab.kernel.invokeFunction('convertToInteractive',\n",
              "                                                     [key], {});\n",
              "          if (!dataTable) return;\n",
              "\n",
              "          const docLinkHtml = 'Like what you see? Visit the ' +\n",
              "            '<a target=\"_blank\" href=https://colab.research.google.com/notebooks/data_table.ipynb>data table notebook</a>'\n",
              "            + ' to learn more about interactive tables.';\n",
              "          element.innerHTML = '';\n",
              "          dataTable['output_type'] = 'display_data';\n",
              "          await google.colab.output.renderOutput(dataTable, element);\n",
              "          const docLink = document.createElement('div');\n",
              "          docLink.innerHTML = docLinkHtml;\n",
              "          element.appendChild(docLink);\n",
              "        }\n",
              "      </script>\n",
              "    </div>\n",
              "  </div>\n",
              "  "
            ]
          },
          "metadata": {},
          "execution_count": 5
        }
      ]
    },
    {
      "cell_type": "code",
      "source": [
        "import os\n",
        "os.chdir(folder)\n",
        "os.getcwd()"
      ],
      "metadata": {
        "colab": {
          "base_uri": "https://localhost:8080/",
          "height": 35
        },
        "id": "f55a401BflCJ",
        "outputId": "1a5170b1-8510-4e30-c25f-3c6d99af8192"
      },
      "id": "f55a401BflCJ",
      "execution_count": null,
      "outputs": [
        {
          "output_type": "execute_result",
          "data": {
            "text/plain": [
              "'/content/Drive/MyDrive/IA025/proy/experiments'"
            ],
            "application/vnd.google.colaboratory.intrinsic+json": {
              "type": "string"
            }
          },
          "metadata": {},
          "execution_count": 15
        }
      ]
    },
    {
      "cell_type": "code",
      "source": [
        "winoground=pd.read_csv('/content/Drive/MyDrive/IA025/proy/data2/winoground_Full_Captions.csv')#\n",
        "winoground['dataset']=np.array(['winoground' for k in winoground.index.values])\n",
        "winoground['shot_type']=np.array([0 for k in winoground.index.values])\n",
        "\n",
        "winoground.head()"
      ],
      "metadata": {
        "colab": {
          "base_uri": "https://localhost:8080/",
          "height": 206
        },
        "id": "Ms65Y6JBdCwl",
        "outputId": "d4e9379a-950a-4c48-f9e6-03f97372a3fc"
      },
      "id": "Ms65Y6JBdCwl",
      "execution_count": null,
      "outputs": [
        {
          "output_type": "execute_result",
          "data": {
            "text/plain": [
              "   Unnamed: 0              ids  \\\n",
              "0           0    0_image_0.png   \n",
              "1           1    0_image_1.png   \n",
              "2           2  100_image_0.png   \n",
              "3           3  100_image_1.png   \n",
              "4           4  101_image_0.png   \n",
              "\n",
              "                                             caption  attack     dataset  \\\n",
              "0                an old person kisses a young person       0  winoground   \n",
              "1                a young person kisses an old person       0  winoground   \n",
              "2  the happy one is on the left and the upset one...       0  winoground   \n",
              "3  the upset one is on the left and the happy one...       0  winoground   \n",
              "4                fake mustache and real hair on head       0  winoground   \n",
              "\n",
              "   shot_type  \n",
              "0          0  \n",
              "1          0  \n",
              "2          0  \n",
              "3          0  \n",
              "4          0  "
            ],
            "text/html": [
              "\n",
              "  <div id=\"df-c8cf40f4-1ce0-4223-a8e9-41629dec8e9b\">\n",
              "    <div class=\"colab-df-container\">\n",
              "      <div>\n",
              "<style scoped>\n",
              "    .dataframe tbody tr th:only-of-type {\n",
              "        vertical-align: middle;\n",
              "    }\n",
              "\n",
              "    .dataframe tbody tr th {\n",
              "        vertical-align: top;\n",
              "    }\n",
              "\n",
              "    .dataframe thead th {\n",
              "        text-align: right;\n",
              "    }\n",
              "</style>\n",
              "<table border=\"1\" class=\"dataframe\">\n",
              "  <thead>\n",
              "    <tr style=\"text-align: right;\">\n",
              "      <th></th>\n",
              "      <th>Unnamed: 0</th>\n",
              "      <th>ids</th>\n",
              "      <th>caption</th>\n",
              "      <th>attack</th>\n",
              "      <th>dataset</th>\n",
              "      <th>shot_type</th>\n",
              "    </tr>\n",
              "  </thead>\n",
              "  <tbody>\n",
              "    <tr>\n",
              "      <th>0</th>\n",
              "      <td>0</td>\n",
              "      <td>0_image_0.png</td>\n",
              "      <td>an old person kisses a young person</td>\n",
              "      <td>0</td>\n",
              "      <td>winoground</td>\n",
              "      <td>0</td>\n",
              "    </tr>\n",
              "    <tr>\n",
              "      <th>1</th>\n",
              "      <td>1</td>\n",
              "      <td>0_image_1.png</td>\n",
              "      <td>a young person kisses an old person</td>\n",
              "      <td>0</td>\n",
              "      <td>winoground</td>\n",
              "      <td>0</td>\n",
              "    </tr>\n",
              "    <tr>\n",
              "      <th>2</th>\n",
              "      <td>2</td>\n",
              "      <td>100_image_0.png</td>\n",
              "      <td>the happy one is on the left and the upset one...</td>\n",
              "      <td>0</td>\n",
              "      <td>winoground</td>\n",
              "      <td>0</td>\n",
              "    </tr>\n",
              "    <tr>\n",
              "      <th>3</th>\n",
              "      <td>3</td>\n",
              "      <td>100_image_1.png</td>\n",
              "      <td>the upset one is on the left and the happy one...</td>\n",
              "      <td>0</td>\n",
              "      <td>winoground</td>\n",
              "      <td>0</td>\n",
              "    </tr>\n",
              "    <tr>\n",
              "      <th>4</th>\n",
              "      <td>4</td>\n",
              "      <td>101_image_0.png</td>\n",
              "      <td>fake mustache and real hair on head</td>\n",
              "      <td>0</td>\n",
              "      <td>winoground</td>\n",
              "      <td>0</td>\n",
              "    </tr>\n",
              "  </tbody>\n",
              "</table>\n",
              "</div>\n",
              "      <button class=\"colab-df-convert\" onclick=\"convertToInteractive('df-c8cf40f4-1ce0-4223-a8e9-41629dec8e9b')\"\n",
              "              title=\"Convert this dataframe to an interactive table.\"\n",
              "              style=\"display:none;\">\n",
              "        \n",
              "  <svg xmlns=\"http://www.w3.org/2000/svg\" height=\"24px\"viewBox=\"0 0 24 24\"\n",
              "       width=\"24px\">\n",
              "    <path d=\"M0 0h24v24H0V0z\" fill=\"none\"/>\n",
              "    <path d=\"M18.56 5.44l.94 2.06.94-2.06 2.06-.94-2.06-.94-.94-2.06-.94 2.06-2.06.94zm-11 1L8.5 8.5l.94-2.06 2.06-.94-2.06-.94L8.5 2.5l-.94 2.06-2.06.94zm10 10l.94 2.06.94-2.06 2.06-.94-2.06-.94-.94-2.06-.94 2.06-2.06.94z\"/><path d=\"M17.41 7.96l-1.37-1.37c-.4-.4-.92-.59-1.43-.59-.52 0-1.04.2-1.43.59L10.3 9.45l-7.72 7.72c-.78.78-.78 2.05 0 2.83L4 21.41c.39.39.9.59 1.41.59.51 0 1.02-.2 1.41-.59l7.78-7.78 2.81-2.81c.8-.78.8-2.07 0-2.86zM5.41 20L4 18.59l7.72-7.72 1.47 1.35L5.41 20z\"/>\n",
              "  </svg>\n",
              "      </button>\n",
              "      \n",
              "  <style>\n",
              "    .colab-df-container {\n",
              "      display:flex;\n",
              "      flex-wrap:wrap;\n",
              "      gap: 12px;\n",
              "    }\n",
              "\n",
              "    .colab-df-convert {\n",
              "      background-color: #E8F0FE;\n",
              "      border: none;\n",
              "      border-radius: 50%;\n",
              "      cursor: pointer;\n",
              "      display: none;\n",
              "      fill: #1967D2;\n",
              "      height: 32px;\n",
              "      padding: 0 0 0 0;\n",
              "      width: 32px;\n",
              "    }\n",
              "\n",
              "    .colab-df-convert:hover {\n",
              "      background-color: #E2EBFA;\n",
              "      box-shadow: 0px 1px 2px rgba(60, 64, 67, 0.3), 0px 1px 3px 1px rgba(60, 64, 67, 0.15);\n",
              "      fill: #174EA6;\n",
              "    }\n",
              "\n",
              "    [theme=dark] .colab-df-convert {\n",
              "      background-color: #3B4455;\n",
              "      fill: #D2E3FC;\n",
              "    }\n",
              "\n",
              "    [theme=dark] .colab-df-convert:hover {\n",
              "      background-color: #434B5C;\n",
              "      box-shadow: 0px 1px 3px 1px rgba(0, 0, 0, 0.15);\n",
              "      filter: drop-shadow(0px 1px 2px rgba(0, 0, 0, 0.3));\n",
              "      fill: #FFFFFF;\n",
              "    }\n",
              "  </style>\n",
              "\n",
              "      <script>\n",
              "        const buttonEl =\n",
              "          document.querySelector('#df-c8cf40f4-1ce0-4223-a8e9-41629dec8e9b button.colab-df-convert');\n",
              "        buttonEl.style.display =\n",
              "          google.colab.kernel.accessAllowed ? 'block' : 'none';\n",
              "\n",
              "        async function convertToInteractive(key) {\n",
              "          const element = document.querySelector('#df-c8cf40f4-1ce0-4223-a8e9-41629dec8e9b');\n",
              "          const dataTable =\n",
              "            await google.colab.kernel.invokeFunction('convertToInteractive',\n",
              "                                                     [key], {});\n",
              "          if (!dataTable) return;\n",
              "\n",
              "          const docLinkHtml = 'Like what you see? Visit the ' +\n",
              "            '<a target=\"_blank\" href=https://colab.research.google.com/notebooks/data_table.ipynb>data table notebook</a>'\n",
              "            + ' to learn more about interactive tables.';\n",
              "          element.innerHTML = '';\n",
              "          dataTable['output_type'] = 'display_data';\n",
              "          await google.colab.output.renderOutput(dataTable, element);\n",
              "          const docLink = document.createElement('div');\n",
              "          docLink.innerHTML = docLinkHtml;\n",
              "          element.appendChild(docLink);\n",
              "        }\n",
              "      </script>\n",
              "    </div>\n",
              "  </div>\n",
              "  "
            ]
          },
          "metadata": {},
          "execution_count": 22
        }
      ]
    },
    {
      "cell_type": "code",
      "source": [
        "folder=\"/content/Drive/MyDrive/IA025/proy/experiments/\"\n",
        "winoground[['ids', 'caption', 'attack','shot_type','dataset']].to_csv(folder+'winoground_Full_Captions.csv',index=False)#"
      ],
      "metadata": {
        "id": "O0WvT96LeBXZ"
      },
      "id": "O0WvT96LeBXZ",
      "execution_count": null,
      "outputs": []
    },
    {
      "cell_type": "code",
      "source": [
        "!ls"
      ],
      "metadata": {
        "colab": {
          "base_uri": "https://localhost:8080/"
        },
        "id": "yt-kG9kKe2yB",
        "outputId": "21b6de36-fde4-4953-f60d-2ab561f49908"
      },
      "id": "yt-kG9kKe2yB",
      "execution_count": null,
      "outputs": [
        {
          "output_type": "stream",
          "name": "stdout",
          "text": [
            "damagenet_Full_Captions.csv  imagenet_Full_Captions.csv\n",
            "df_test1.csv\t\t     mix1\n",
            "df_train1.csv\t\t     mix2\n",
            "df_val1.csv\t\t     winoground_Full_Captions.csv\n"
          ]
        }
      ]
    },
    {
      "cell_type": "code",
      "source": [
        "df_train1=pd.read_csv(folder+'df_train1.csv')#\n",
        "df_train1.head()\n"
      ],
      "metadata": {
        "colab": {
          "base_uri": "https://localhost:8080/",
          "height": 285
        },
        "id": "H9_1SJPWfyzt",
        "outputId": "ea547818-6279-4411-f505-a6fed49d4acd"
      },
      "id": "H9_1SJPWfyzt",
      "execution_count": null,
      "outputs": [
        {
          "output_type": "execute_result",
          "data": {
            "text/plain": [
              "                            ids              ImagenNetID  \\\n",
              "0  ILSVRC2012_val_00017995.JPEG  ILSVRC2012_val_00017995   \n",
              "1  ILSVRC2012_val_00039905.JPEG  ILSVRC2012_val_00039905   \n",
              "2  ILSVRC2012_val_00007197.JPEG  ILSVRC2012_val_00007197   \n",
              "3  ILSVRC2012_val_00006697.JPEG  ILSVRC2012_val_00006697   \n",
              "4  ILSVRC2012_val_00027419.JPEG  ILSVRC2012_val_00027419   \n",
              "\n",
              "                                         caption  Ground_truth  attack  \\\n",
              "0     a man sitting on the ground holding a fish             0       0   \n",
              "1              a man holding a fish in his hands             0       0   \n",
              "2           a fish in a fishing net on the grass             0       0   \n",
              "3                        a man is holding a fish             0       0   \n",
              "4  a shark swimming under the water in the ocean             2       0   \n",
              "\n",
              "   shot_type type_shot  2use   dataset  \n",
              "0          0      none     1  ImageNet  \n",
              "1          0      none     1  ImageNet  \n",
              "2          0      none     1  ImageNet  \n",
              "3          0      none     1  ImageNet  \n",
              "4          0      none     1  ImageNet  "
            ],
            "text/html": [
              "\n",
              "  <div id=\"df-c53b0ed5-b69c-47b3-ad09-90284856e15d\">\n",
              "    <div class=\"colab-df-container\">\n",
              "      <div>\n",
              "<style scoped>\n",
              "    .dataframe tbody tr th:only-of-type {\n",
              "        vertical-align: middle;\n",
              "    }\n",
              "\n",
              "    .dataframe tbody tr th {\n",
              "        vertical-align: top;\n",
              "    }\n",
              "\n",
              "    .dataframe thead th {\n",
              "        text-align: right;\n",
              "    }\n",
              "</style>\n",
              "<table border=\"1\" class=\"dataframe\">\n",
              "  <thead>\n",
              "    <tr style=\"text-align: right;\">\n",
              "      <th></th>\n",
              "      <th>ids</th>\n",
              "      <th>ImagenNetID</th>\n",
              "      <th>caption</th>\n",
              "      <th>Ground_truth</th>\n",
              "      <th>attack</th>\n",
              "      <th>shot_type</th>\n",
              "      <th>type_shot</th>\n",
              "      <th>2use</th>\n",
              "      <th>dataset</th>\n",
              "    </tr>\n",
              "  </thead>\n",
              "  <tbody>\n",
              "    <tr>\n",
              "      <th>0</th>\n",
              "      <td>ILSVRC2012_val_00017995.JPEG</td>\n",
              "      <td>ILSVRC2012_val_00017995</td>\n",
              "      <td>a man sitting on the ground holding a fish</td>\n",
              "      <td>0</td>\n",
              "      <td>0</td>\n",
              "      <td>0</td>\n",
              "      <td>none</td>\n",
              "      <td>1</td>\n",
              "      <td>ImageNet</td>\n",
              "    </tr>\n",
              "    <tr>\n",
              "      <th>1</th>\n",
              "      <td>ILSVRC2012_val_00039905.JPEG</td>\n",
              "      <td>ILSVRC2012_val_00039905</td>\n",
              "      <td>a man holding a fish in his hands</td>\n",
              "      <td>0</td>\n",
              "      <td>0</td>\n",
              "      <td>0</td>\n",
              "      <td>none</td>\n",
              "      <td>1</td>\n",
              "      <td>ImageNet</td>\n",
              "    </tr>\n",
              "    <tr>\n",
              "      <th>2</th>\n",
              "      <td>ILSVRC2012_val_00007197.JPEG</td>\n",
              "      <td>ILSVRC2012_val_00007197</td>\n",
              "      <td>a fish in a fishing net on the grass</td>\n",
              "      <td>0</td>\n",
              "      <td>0</td>\n",
              "      <td>0</td>\n",
              "      <td>none</td>\n",
              "      <td>1</td>\n",
              "      <td>ImageNet</td>\n",
              "    </tr>\n",
              "    <tr>\n",
              "      <th>3</th>\n",
              "      <td>ILSVRC2012_val_00006697.JPEG</td>\n",
              "      <td>ILSVRC2012_val_00006697</td>\n",
              "      <td>a man is holding a fish</td>\n",
              "      <td>0</td>\n",
              "      <td>0</td>\n",
              "      <td>0</td>\n",
              "      <td>none</td>\n",
              "      <td>1</td>\n",
              "      <td>ImageNet</td>\n",
              "    </tr>\n",
              "    <tr>\n",
              "      <th>4</th>\n",
              "      <td>ILSVRC2012_val_00027419.JPEG</td>\n",
              "      <td>ILSVRC2012_val_00027419</td>\n",
              "      <td>a shark swimming under the water in the ocean</td>\n",
              "      <td>2</td>\n",
              "      <td>0</td>\n",
              "      <td>0</td>\n",
              "      <td>none</td>\n",
              "      <td>1</td>\n",
              "      <td>ImageNet</td>\n",
              "    </tr>\n",
              "  </tbody>\n",
              "</table>\n",
              "</div>\n",
              "      <button class=\"colab-df-convert\" onclick=\"convertToInteractive('df-c53b0ed5-b69c-47b3-ad09-90284856e15d')\"\n",
              "              title=\"Convert this dataframe to an interactive table.\"\n",
              "              style=\"display:none;\">\n",
              "        \n",
              "  <svg xmlns=\"http://www.w3.org/2000/svg\" height=\"24px\"viewBox=\"0 0 24 24\"\n",
              "       width=\"24px\">\n",
              "    <path d=\"M0 0h24v24H0V0z\" fill=\"none\"/>\n",
              "    <path d=\"M18.56 5.44l.94 2.06.94-2.06 2.06-.94-2.06-.94-.94-2.06-.94 2.06-2.06.94zm-11 1L8.5 8.5l.94-2.06 2.06-.94-2.06-.94L8.5 2.5l-.94 2.06-2.06.94zm10 10l.94 2.06.94-2.06 2.06-.94-2.06-.94-.94-2.06-.94 2.06-2.06.94z\"/><path d=\"M17.41 7.96l-1.37-1.37c-.4-.4-.92-.59-1.43-.59-.52 0-1.04.2-1.43.59L10.3 9.45l-7.72 7.72c-.78.78-.78 2.05 0 2.83L4 21.41c.39.39.9.59 1.41.59.51 0 1.02-.2 1.41-.59l7.78-7.78 2.81-2.81c.8-.78.8-2.07 0-2.86zM5.41 20L4 18.59l7.72-7.72 1.47 1.35L5.41 20z\"/>\n",
              "  </svg>\n",
              "      </button>\n",
              "      \n",
              "  <style>\n",
              "    .colab-df-container {\n",
              "      display:flex;\n",
              "      flex-wrap:wrap;\n",
              "      gap: 12px;\n",
              "    }\n",
              "\n",
              "    .colab-df-convert {\n",
              "      background-color: #E8F0FE;\n",
              "      border: none;\n",
              "      border-radius: 50%;\n",
              "      cursor: pointer;\n",
              "      display: none;\n",
              "      fill: #1967D2;\n",
              "      height: 32px;\n",
              "      padding: 0 0 0 0;\n",
              "      width: 32px;\n",
              "    }\n",
              "\n",
              "    .colab-df-convert:hover {\n",
              "      background-color: #E2EBFA;\n",
              "      box-shadow: 0px 1px 2px rgba(60, 64, 67, 0.3), 0px 1px 3px 1px rgba(60, 64, 67, 0.15);\n",
              "      fill: #174EA6;\n",
              "    }\n",
              "\n",
              "    [theme=dark] .colab-df-convert {\n",
              "      background-color: #3B4455;\n",
              "      fill: #D2E3FC;\n",
              "    }\n",
              "\n",
              "    [theme=dark] .colab-df-convert:hover {\n",
              "      background-color: #434B5C;\n",
              "      box-shadow: 0px 1px 3px 1px rgba(0, 0, 0, 0.15);\n",
              "      filter: drop-shadow(0px 1px 2px rgba(0, 0, 0, 0.3));\n",
              "      fill: #FFFFFF;\n",
              "    }\n",
              "  </style>\n",
              "\n",
              "      <script>\n",
              "        const buttonEl =\n",
              "          document.querySelector('#df-c53b0ed5-b69c-47b3-ad09-90284856e15d button.colab-df-convert');\n",
              "        buttonEl.style.display =\n",
              "          google.colab.kernel.accessAllowed ? 'block' : 'none';\n",
              "\n",
              "        async function convertToInteractive(key) {\n",
              "          const element = document.querySelector('#df-c53b0ed5-b69c-47b3-ad09-90284856e15d');\n",
              "          const dataTable =\n",
              "            await google.colab.kernel.invokeFunction('convertToInteractive',\n",
              "                                                     [key], {});\n",
              "          if (!dataTable) return;\n",
              "\n",
              "          const docLinkHtml = 'Like what you see? Visit the ' +\n",
              "            '<a target=\"_blank\" href=https://colab.research.google.com/notebooks/data_table.ipynb>data table notebook</a>'\n",
              "            + ' to learn more about interactive tables.';\n",
              "          element.innerHTML = '';\n",
              "          dataTable['output_type'] = 'display_data';\n",
              "          await google.colab.output.renderOutput(dataTable, element);\n",
              "          const docLink = document.createElement('div');\n",
              "          docLink.innerHTML = docLinkHtml;\n",
              "          element.appendChild(docLink);\n",
              "        }\n",
              "      </script>\n",
              "    </div>\n",
              "  </div>\n",
              "  "
            ]
          },
          "metadata": {},
          "execution_count": 19
        }
      ]
    },
    {
      "cell_type": "code",
      "source": [
        "folder=\"/content/Drive/MyDrive/IA025/proy/experiments/mix1/\"\n",
        "cols=['ids', 'caption', 'attack','shot_type','dataset']\n",
        "dataftrain = pd.concat([winoground[cols], df_train1[cols]], axis=0) # concatenating   along rows\n",
        "dataftrain"
      ],
      "metadata": {
        "colab": {
          "base_uri": "https://localhost:8080/",
          "height": 424
        },
        "id": "fDslVL2bsOz6",
        "outputId": "124bb1d0-807e-48c2-81d5-5c60bc47583c"
      },
      "id": "fDslVL2bsOz6",
      "execution_count": null,
      "outputs": [
        {
          "output_type": "execute_result",
          "data": {
            "text/plain": [
              "                              ids  \\\n",
              "0                   0_image_0.png   \n",
              "1                   0_image_1.png   \n",
              "2                 100_image_0.png   \n",
              "3                 100_image_1.png   \n",
              "4                 101_image_0.png   \n",
              "...                           ...   \n",
              "2845  ILSVRC2012_val_00000250.png   \n",
              "2846  ILSVRC2012_val_00017674.png   \n",
              "2847  ILSVRC2012_val_00021454.png   \n",
              "2848  ILSVRC2012_val_00025893.png   \n",
              "2849  ILSVRC2012_val_00028575.png   \n",
              "\n",
              "                                                caption  attack  shot_type  \\\n",
              "0                   an old person kisses a young person       0          0   \n",
              "1                   a young person kisses an old person       0          0   \n",
              "2     the happy one is on the left and the upset one...       0          0   \n",
              "3     the upset one is on the left and the happy one...       0          0   \n",
              "4                   fake mustache and real hair on head       0          0   \n",
              "...                                                 ...     ...        ...   \n",
              "2845  adversarial a wooden cabinet with two doors wi...       1          3   \n",
              "2846  adversarial a wardrobe with wooden doors and a...       1          3   \n",
              "2847   adversarial a white mug with a blue inside of it       1          3   \n",
              "2848  adversarial a coffee mug with an owl on it on ...       1          3   \n",
              "2849  adversarial a stuffed panda bear sitting on to...       1          3   \n",
              "\n",
              "         dataset  \n",
              "0     winoground  \n",
              "1     winoground  \n",
              "2     winoground  \n",
              "3     winoground  \n",
              "4     winoground  \n",
              "...          ...  \n",
              "2845   DAmageNet  \n",
              "2846   DAmageNet  \n",
              "2847   DAmageNet  \n",
              "2848   DAmageNet  \n",
              "2849   DAmageNet  \n",
              "\n",
              "[3650 rows x 5 columns]"
            ],
            "text/html": [
              "\n",
              "  <div id=\"df-69ed6f64-9d86-43ed-9108-b9531eca3f6c\">\n",
              "    <div class=\"colab-df-container\">\n",
              "      <div>\n",
              "<style scoped>\n",
              "    .dataframe tbody tr th:only-of-type {\n",
              "        vertical-align: middle;\n",
              "    }\n",
              "\n",
              "    .dataframe tbody tr th {\n",
              "        vertical-align: top;\n",
              "    }\n",
              "\n",
              "    .dataframe thead th {\n",
              "        text-align: right;\n",
              "    }\n",
              "</style>\n",
              "<table border=\"1\" class=\"dataframe\">\n",
              "  <thead>\n",
              "    <tr style=\"text-align: right;\">\n",
              "      <th></th>\n",
              "      <th>ids</th>\n",
              "      <th>caption</th>\n",
              "      <th>attack</th>\n",
              "      <th>shot_type</th>\n",
              "      <th>dataset</th>\n",
              "    </tr>\n",
              "  </thead>\n",
              "  <tbody>\n",
              "    <tr>\n",
              "      <th>0</th>\n",
              "      <td>0_image_0.png</td>\n",
              "      <td>an old person kisses a young person</td>\n",
              "      <td>0</td>\n",
              "      <td>0</td>\n",
              "      <td>winoground</td>\n",
              "    </tr>\n",
              "    <tr>\n",
              "      <th>1</th>\n",
              "      <td>0_image_1.png</td>\n",
              "      <td>a young person kisses an old person</td>\n",
              "      <td>0</td>\n",
              "      <td>0</td>\n",
              "      <td>winoground</td>\n",
              "    </tr>\n",
              "    <tr>\n",
              "      <th>2</th>\n",
              "      <td>100_image_0.png</td>\n",
              "      <td>the happy one is on the left and the upset one...</td>\n",
              "      <td>0</td>\n",
              "      <td>0</td>\n",
              "      <td>winoground</td>\n",
              "    </tr>\n",
              "    <tr>\n",
              "      <th>3</th>\n",
              "      <td>100_image_1.png</td>\n",
              "      <td>the upset one is on the left and the happy one...</td>\n",
              "      <td>0</td>\n",
              "      <td>0</td>\n",
              "      <td>winoground</td>\n",
              "    </tr>\n",
              "    <tr>\n",
              "      <th>4</th>\n",
              "      <td>101_image_0.png</td>\n",
              "      <td>fake mustache and real hair on head</td>\n",
              "      <td>0</td>\n",
              "      <td>0</td>\n",
              "      <td>winoground</td>\n",
              "    </tr>\n",
              "    <tr>\n",
              "      <th>...</th>\n",
              "      <td>...</td>\n",
              "      <td>...</td>\n",
              "      <td>...</td>\n",
              "      <td>...</td>\n",
              "      <td>...</td>\n",
              "    </tr>\n",
              "    <tr>\n",
              "      <th>2845</th>\n",
              "      <td>ILSVRC2012_val_00000250.png</td>\n",
              "      <td>adversarial a wooden cabinet with two doors wi...</td>\n",
              "      <td>1</td>\n",
              "      <td>3</td>\n",
              "      <td>DAmageNet</td>\n",
              "    </tr>\n",
              "    <tr>\n",
              "      <th>2846</th>\n",
              "      <td>ILSVRC2012_val_00017674.png</td>\n",
              "      <td>adversarial a wardrobe with wooden doors and a...</td>\n",
              "      <td>1</td>\n",
              "      <td>3</td>\n",
              "      <td>DAmageNet</td>\n",
              "    </tr>\n",
              "    <tr>\n",
              "      <th>2847</th>\n",
              "      <td>ILSVRC2012_val_00021454.png</td>\n",
              "      <td>adversarial a white mug with a blue inside of it</td>\n",
              "      <td>1</td>\n",
              "      <td>3</td>\n",
              "      <td>DAmageNet</td>\n",
              "    </tr>\n",
              "    <tr>\n",
              "      <th>2848</th>\n",
              "      <td>ILSVRC2012_val_00025893.png</td>\n",
              "      <td>adversarial a coffee mug with an owl on it on ...</td>\n",
              "      <td>1</td>\n",
              "      <td>3</td>\n",
              "      <td>DAmageNet</td>\n",
              "    </tr>\n",
              "    <tr>\n",
              "      <th>2849</th>\n",
              "      <td>ILSVRC2012_val_00028575.png</td>\n",
              "      <td>adversarial a stuffed panda bear sitting on to...</td>\n",
              "      <td>1</td>\n",
              "      <td>3</td>\n",
              "      <td>DAmageNet</td>\n",
              "    </tr>\n",
              "  </tbody>\n",
              "</table>\n",
              "<p>3650 rows × 5 columns</p>\n",
              "</div>\n",
              "      <button class=\"colab-df-convert\" onclick=\"convertToInteractive('df-69ed6f64-9d86-43ed-9108-b9531eca3f6c')\"\n",
              "              title=\"Convert this dataframe to an interactive table.\"\n",
              "              style=\"display:none;\">\n",
              "        \n",
              "  <svg xmlns=\"http://www.w3.org/2000/svg\" height=\"24px\"viewBox=\"0 0 24 24\"\n",
              "       width=\"24px\">\n",
              "    <path d=\"M0 0h24v24H0V0z\" fill=\"none\"/>\n",
              "    <path d=\"M18.56 5.44l.94 2.06.94-2.06 2.06-.94-2.06-.94-.94-2.06-.94 2.06-2.06.94zm-11 1L8.5 8.5l.94-2.06 2.06-.94-2.06-.94L8.5 2.5l-.94 2.06-2.06.94zm10 10l.94 2.06.94-2.06 2.06-.94-2.06-.94-.94-2.06-.94 2.06-2.06.94z\"/><path d=\"M17.41 7.96l-1.37-1.37c-.4-.4-.92-.59-1.43-.59-.52 0-1.04.2-1.43.59L10.3 9.45l-7.72 7.72c-.78.78-.78 2.05 0 2.83L4 21.41c.39.39.9.59 1.41.59.51 0 1.02-.2 1.41-.59l7.78-7.78 2.81-2.81c.8-.78.8-2.07 0-2.86zM5.41 20L4 18.59l7.72-7.72 1.47 1.35L5.41 20z\"/>\n",
              "  </svg>\n",
              "      </button>\n",
              "      \n",
              "  <style>\n",
              "    .colab-df-container {\n",
              "      display:flex;\n",
              "      flex-wrap:wrap;\n",
              "      gap: 12px;\n",
              "    }\n",
              "\n",
              "    .colab-df-convert {\n",
              "      background-color: #E8F0FE;\n",
              "      border: none;\n",
              "      border-radius: 50%;\n",
              "      cursor: pointer;\n",
              "      display: none;\n",
              "      fill: #1967D2;\n",
              "      height: 32px;\n",
              "      padding: 0 0 0 0;\n",
              "      width: 32px;\n",
              "    }\n",
              "\n",
              "    .colab-df-convert:hover {\n",
              "      background-color: #E2EBFA;\n",
              "      box-shadow: 0px 1px 2px rgba(60, 64, 67, 0.3), 0px 1px 3px 1px rgba(60, 64, 67, 0.15);\n",
              "      fill: #174EA6;\n",
              "    }\n",
              "\n",
              "    [theme=dark] .colab-df-convert {\n",
              "      background-color: #3B4455;\n",
              "      fill: #D2E3FC;\n",
              "    }\n",
              "\n",
              "    [theme=dark] .colab-df-convert:hover {\n",
              "      background-color: #434B5C;\n",
              "      box-shadow: 0px 1px 3px 1px rgba(0, 0, 0, 0.15);\n",
              "      filter: drop-shadow(0px 1px 2px rgba(0, 0, 0, 0.3));\n",
              "      fill: #FFFFFF;\n",
              "    }\n",
              "  </style>\n",
              "\n",
              "      <script>\n",
              "        const buttonEl =\n",
              "          document.querySelector('#df-69ed6f64-9d86-43ed-9108-b9531eca3f6c button.colab-df-convert');\n",
              "        buttonEl.style.display =\n",
              "          google.colab.kernel.accessAllowed ? 'block' : 'none';\n",
              "\n",
              "        async function convertToInteractive(key) {\n",
              "          const element = document.querySelector('#df-69ed6f64-9d86-43ed-9108-b9531eca3f6c');\n",
              "          const dataTable =\n",
              "            await google.colab.kernel.invokeFunction('convertToInteractive',\n",
              "                                                     [key], {});\n",
              "          if (!dataTable) return;\n",
              "\n",
              "          const docLinkHtml = 'Like what you see? Visit the ' +\n",
              "            '<a target=\"_blank\" href=https://colab.research.google.com/notebooks/data_table.ipynb>data table notebook</a>'\n",
              "            + ' to learn more about interactive tables.';\n",
              "          element.innerHTML = '';\n",
              "          dataTable['output_type'] = 'display_data';\n",
              "          await google.colab.output.renderOutput(dataTable, element);\n",
              "          const docLink = document.createElement('div');\n",
              "          docLink.innerHTML = docLinkHtml;\n",
              "          element.appendChild(docLink);\n",
              "        }\n",
              "      </script>\n",
              "    </div>\n",
              "  </div>\n",
              "  "
            ]
          },
          "metadata": {},
          "execution_count": 24
        }
      ]
    },
    {
      "cell_type": "code",
      "source": [
        "dataftrain.to_csv(folder+'data_train1.csv',index=False)#"
      ],
      "metadata": {
        "id": "w1KgdZxjsz5u"
      },
      "id": "w1KgdZxjsz5u",
      "execution_count": null,
      "outputs": []
    },
    {
      "cell_type": "code",
      "source": [
        "df_test1=pd.read_csv(folder+'df_test1.csv')#\n",
        "df_test1.head()"
      ],
      "metadata": {
        "id": "rTz16AiChnte"
      },
      "id": "rTz16AiChnte",
      "execution_count": null,
      "outputs": []
    },
    {
      "cell_type": "code",
      "source": [
        ""
      ],
      "metadata": {
        "id": "UZ9tBEJchoQz"
      },
      "id": "UZ9tBEJchoQz",
      "execution_count": null,
      "outputs": []
    },
    {
      "cell_type": "code",
      "source": [
        "damagenet=pd.read_csv('/content/Drive/MyDrive/IA025/proy/data2/damagenet_Full_Captions.csv') \n",
        "damagenet.head()"
      ],
      "metadata": {
        "colab": {
          "base_uri": "https://localhost:8080/",
          "height": 206
        },
        "id": "bSMnpsGW84e8",
        "outputId": "08902df2-f6ec-47db-861f-aa0299d6d7ba"
      },
      "id": "bSMnpsGW84e8",
      "execution_count": null,
      "outputs": [
        {
          "output_type": "execute_result",
          "data": {
            "text/plain": [
              "                           ids  \\\n",
              "0  ILSVRC2012_val_00009996.png   \n",
              "1  ILSVRC2012_val_00009931.png   \n",
              "2  ILSVRC2012_val_00031532.png   \n",
              "3  ILSVRC2012_val_00014855.png   \n",
              "4  ILSVRC2012_val_00021964.png   \n",
              "\n",
              "                                             caption  ground_truth  \\\n",
              "0       adversarial a goat standing on top of a hill           350   \n",
              "1  adversarial a painting with red paint on a woo...           583   \n",
              "2   adversarial a brown dog sitting next to a window           178   \n",
              "3  adversarial a mushroom growing on top of a tre...           993   \n",
              "4  adversarial a row of popsicle sticks with labe...           798   \n",
              "\n",
              "                  image_id  attack  \n",
              "0  ILSVRC2012_val_00009996       1  \n",
              "1  ILSVRC2012_val_00009931       1  \n",
              "2  ILSVRC2012_val_00031532       1  \n",
              "3  ILSVRC2012_val_00014855       1  \n",
              "4  ILSVRC2012_val_00021964       1  "
            ],
            "text/html": [
              "\n",
              "  <div id=\"df-12c4fa1f-e5e7-457e-9e4d-8145dbd104b9\">\n",
              "    <div class=\"colab-df-container\">\n",
              "      <div>\n",
              "<style scoped>\n",
              "    .dataframe tbody tr th:only-of-type {\n",
              "        vertical-align: middle;\n",
              "    }\n",
              "\n",
              "    .dataframe tbody tr th {\n",
              "        vertical-align: top;\n",
              "    }\n",
              "\n",
              "    .dataframe thead th {\n",
              "        text-align: right;\n",
              "    }\n",
              "</style>\n",
              "<table border=\"1\" class=\"dataframe\">\n",
              "  <thead>\n",
              "    <tr style=\"text-align: right;\">\n",
              "      <th></th>\n",
              "      <th>ids</th>\n",
              "      <th>caption</th>\n",
              "      <th>ground_truth</th>\n",
              "      <th>image_id</th>\n",
              "      <th>attack</th>\n",
              "    </tr>\n",
              "  </thead>\n",
              "  <tbody>\n",
              "    <tr>\n",
              "      <th>0</th>\n",
              "      <td>ILSVRC2012_val_00009996.png</td>\n",
              "      <td>adversarial a goat standing on top of a hill</td>\n",
              "      <td>350</td>\n",
              "      <td>ILSVRC2012_val_00009996</td>\n",
              "      <td>1</td>\n",
              "    </tr>\n",
              "    <tr>\n",
              "      <th>1</th>\n",
              "      <td>ILSVRC2012_val_00009931.png</td>\n",
              "      <td>adversarial a painting with red paint on a woo...</td>\n",
              "      <td>583</td>\n",
              "      <td>ILSVRC2012_val_00009931</td>\n",
              "      <td>1</td>\n",
              "    </tr>\n",
              "    <tr>\n",
              "      <th>2</th>\n",
              "      <td>ILSVRC2012_val_00031532.png</td>\n",
              "      <td>adversarial a brown dog sitting next to a window</td>\n",
              "      <td>178</td>\n",
              "      <td>ILSVRC2012_val_00031532</td>\n",
              "      <td>1</td>\n",
              "    </tr>\n",
              "    <tr>\n",
              "      <th>3</th>\n",
              "      <td>ILSVRC2012_val_00014855.png</td>\n",
              "      <td>adversarial a mushroom growing on top of a tre...</td>\n",
              "      <td>993</td>\n",
              "      <td>ILSVRC2012_val_00014855</td>\n",
              "      <td>1</td>\n",
              "    </tr>\n",
              "    <tr>\n",
              "      <th>4</th>\n",
              "      <td>ILSVRC2012_val_00021964.png</td>\n",
              "      <td>adversarial a row of popsicle sticks with labe...</td>\n",
              "      <td>798</td>\n",
              "      <td>ILSVRC2012_val_00021964</td>\n",
              "      <td>1</td>\n",
              "    </tr>\n",
              "  </tbody>\n",
              "</table>\n",
              "</div>\n",
              "      <button class=\"colab-df-convert\" onclick=\"convertToInteractive('df-12c4fa1f-e5e7-457e-9e4d-8145dbd104b9')\"\n",
              "              title=\"Convert this dataframe to an interactive table.\"\n",
              "              style=\"display:none;\">\n",
              "        \n",
              "  <svg xmlns=\"http://www.w3.org/2000/svg\" height=\"24px\"viewBox=\"0 0 24 24\"\n",
              "       width=\"24px\">\n",
              "    <path d=\"M0 0h24v24H0V0z\" fill=\"none\"/>\n",
              "    <path d=\"M18.56 5.44l.94 2.06.94-2.06 2.06-.94-2.06-.94-.94-2.06-.94 2.06-2.06.94zm-11 1L8.5 8.5l.94-2.06 2.06-.94-2.06-.94L8.5 2.5l-.94 2.06-2.06.94zm10 10l.94 2.06.94-2.06 2.06-.94-2.06-.94-.94-2.06-.94 2.06-2.06.94z\"/><path d=\"M17.41 7.96l-1.37-1.37c-.4-.4-.92-.59-1.43-.59-.52 0-1.04.2-1.43.59L10.3 9.45l-7.72 7.72c-.78.78-.78 2.05 0 2.83L4 21.41c.39.39.9.59 1.41.59.51 0 1.02-.2 1.41-.59l7.78-7.78 2.81-2.81c.8-.78.8-2.07 0-2.86zM5.41 20L4 18.59l7.72-7.72 1.47 1.35L5.41 20z\"/>\n",
              "  </svg>\n",
              "      </button>\n",
              "      \n",
              "  <style>\n",
              "    .colab-df-container {\n",
              "      display:flex;\n",
              "      flex-wrap:wrap;\n",
              "      gap: 12px;\n",
              "    }\n",
              "\n",
              "    .colab-df-convert {\n",
              "      background-color: #E8F0FE;\n",
              "      border: none;\n",
              "      border-radius: 50%;\n",
              "      cursor: pointer;\n",
              "      display: none;\n",
              "      fill: #1967D2;\n",
              "      height: 32px;\n",
              "      padding: 0 0 0 0;\n",
              "      width: 32px;\n",
              "    }\n",
              "\n",
              "    .colab-df-convert:hover {\n",
              "      background-color: #E2EBFA;\n",
              "      box-shadow: 0px 1px 2px rgba(60, 64, 67, 0.3), 0px 1px 3px 1px rgba(60, 64, 67, 0.15);\n",
              "      fill: #174EA6;\n",
              "    }\n",
              "\n",
              "    [theme=dark] .colab-df-convert {\n",
              "      background-color: #3B4455;\n",
              "      fill: #D2E3FC;\n",
              "    }\n",
              "\n",
              "    [theme=dark] .colab-df-convert:hover {\n",
              "      background-color: #434B5C;\n",
              "      box-shadow: 0px 1px 3px 1px rgba(0, 0, 0, 0.15);\n",
              "      filter: drop-shadow(0px 1px 2px rgba(0, 0, 0, 0.3));\n",
              "      fill: #FFFFFF;\n",
              "    }\n",
              "  </style>\n",
              "\n",
              "      <script>\n",
              "        const buttonEl =\n",
              "          document.querySelector('#df-12c4fa1f-e5e7-457e-9e4d-8145dbd104b9 button.colab-df-convert');\n",
              "        buttonEl.style.display =\n",
              "          google.colab.kernel.accessAllowed ? 'block' : 'none';\n",
              "\n",
              "        async function convertToInteractive(key) {\n",
              "          const element = document.querySelector('#df-12c4fa1f-e5e7-457e-9e4d-8145dbd104b9');\n",
              "          const dataTable =\n",
              "            await google.colab.kernel.invokeFunction('convertToInteractive',\n",
              "                                                     [key], {});\n",
              "          if (!dataTable) return;\n",
              "\n",
              "          const docLinkHtml = 'Like what you see? Visit the ' +\n",
              "            '<a target=\"_blank\" href=https://colab.research.google.com/notebooks/data_table.ipynb>data table notebook</a>'\n",
              "            + ' to learn more about interactive tables.';\n",
              "          element.innerHTML = '';\n",
              "          dataTable['output_type'] = 'display_data';\n",
              "          await google.colab.output.renderOutput(dataTable, element);\n",
              "          const docLink = document.createElement('div');\n",
              "          docLink.innerHTML = docLinkHtml;\n",
              "          element.appendChild(docLink);\n",
              "        }\n",
              "      </script>\n",
              "    </div>\n",
              "  </div>\n",
              "  "
            ]
          },
          "metadata": {},
          "execution_count": 6
        }
      ]
    },
    {
      "cell_type": "code",
      "source": [
        "im=list(imagenet['image_id'].values)\n",
        "len(im)"
      ],
      "metadata": {
        "colab": {
          "base_uri": "https://localhost:8080/"
        },
        "id": "QrgF539h74DG",
        "outputId": "39fbbc5a-6dbe-403f-bc8a-b3eefd7b4f5a"
      },
      "id": "QrgF539h74DG",
      "execution_count": null,
      "outputs": [
        {
          "output_type": "execute_result",
          "data": {
            "text/plain": [
              "49593"
            ]
          },
          "metadata": {},
          "execution_count": 27
        }
      ]
    },
    {
      "cell_type": "code",
      "source": [
        "1/ewqrwerwe"
      ],
      "metadata": {
        "id": "VII_vpIb5oTl"
      },
      "id": "VII_vpIb5oTl",
      "execution_count": null,
      "outputs": []
    },
    {
      "cell_type": "code",
      "execution_count": null,
      "metadata": {
        "id": "DJSXla-Ami3P"
      },
      "outputs": [],
      "source": [
        "idl=list(groundtruth['ImagenNetID'].values)\n",
        "#groundtruth['>=224']=np.array([1 if i in im else 0 for i in idl])#type_shot\n",
        "groundtruth['2use']=np.array([1 if i in im else 0 for i in idl])#type_shot"
      ],
      "id": "DJSXla-Ami3P"
    },
    {
      "cell_type": "code",
      "execution_count": null,
      "metadata": {
        "id": "ic9GCTson_XU",
        "colab": {
          "base_uri": "https://localhost:8080/"
        },
        "outputId": "3ba5bd83-358a-4320-d012-1d94d130e693"
      },
      "outputs": [
        {
          "output_type": "execute_result",
          "data": {
            "text/plain": [
              "407"
            ]
          },
          "metadata": {},
          "execution_count": 24
        }
      ],
      "source": [
        "len(groundtruth[groundtruth['2use']==0])"
      ],
      "id": "ic9GCTson_XU"
    },
    {
      "cell_type": "code",
      "execution_count": null,
      "metadata": {
        "id": "puGEWcn_jEc-",
        "colab": {
          "base_uri": "https://localhost:8080/",
          "height": 206
        },
        "outputId": "df8fd319-8008-4269-8bff-65831fca59a8"
      },
      "outputs": [
        {
          "output_type": "execute_result",
          "data": {
            "text/plain": [
              "               ImagenNetID  Ground_truth type_shot  2use\n",
              "0  ILSVRC2012_val_00000001            65      none     1\n",
              "1  ILSVRC2012_val_00000002           970       few     1\n",
              "2  ILSVRC2012_val_00000003           230       one     1\n",
              "3  ILSVRC2012_val_00000004           809      none     1\n",
              "4  ILSVRC2012_val_00000005           516       one     1"
            ],
            "text/html": [
              "\n",
              "  <div id=\"df-b5e57ba3-3fc3-431d-a908-d3d47ce58e65\">\n",
              "    <div class=\"colab-df-container\">\n",
              "      <div>\n",
              "<style scoped>\n",
              "    .dataframe tbody tr th:only-of-type {\n",
              "        vertical-align: middle;\n",
              "    }\n",
              "\n",
              "    .dataframe tbody tr th {\n",
              "        vertical-align: top;\n",
              "    }\n",
              "\n",
              "    .dataframe thead th {\n",
              "        text-align: right;\n",
              "    }\n",
              "</style>\n",
              "<table border=\"1\" class=\"dataframe\">\n",
              "  <thead>\n",
              "    <tr style=\"text-align: right;\">\n",
              "      <th></th>\n",
              "      <th>ImagenNetID</th>\n",
              "      <th>Ground_truth</th>\n",
              "      <th>type_shot</th>\n",
              "      <th>2use</th>\n",
              "    </tr>\n",
              "  </thead>\n",
              "  <tbody>\n",
              "    <tr>\n",
              "      <th>0</th>\n",
              "      <td>ILSVRC2012_val_00000001</td>\n",
              "      <td>65</td>\n",
              "      <td>none</td>\n",
              "      <td>1</td>\n",
              "    </tr>\n",
              "    <tr>\n",
              "      <th>1</th>\n",
              "      <td>ILSVRC2012_val_00000002</td>\n",
              "      <td>970</td>\n",
              "      <td>few</td>\n",
              "      <td>1</td>\n",
              "    </tr>\n",
              "    <tr>\n",
              "      <th>2</th>\n",
              "      <td>ILSVRC2012_val_00000003</td>\n",
              "      <td>230</td>\n",
              "      <td>one</td>\n",
              "      <td>1</td>\n",
              "    </tr>\n",
              "    <tr>\n",
              "      <th>3</th>\n",
              "      <td>ILSVRC2012_val_00000004</td>\n",
              "      <td>809</td>\n",
              "      <td>none</td>\n",
              "      <td>1</td>\n",
              "    </tr>\n",
              "    <tr>\n",
              "      <th>4</th>\n",
              "      <td>ILSVRC2012_val_00000005</td>\n",
              "      <td>516</td>\n",
              "      <td>one</td>\n",
              "      <td>1</td>\n",
              "    </tr>\n",
              "  </tbody>\n",
              "</table>\n",
              "</div>\n",
              "      <button class=\"colab-df-convert\" onclick=\"convertToInteractive('df-b5e57ba3-3fc3-431d-a908-d3d47ce58e65')\"\n",
              "              title=\"Convert this dataframe to an interactive table.\"\n",
              "              style=\"display:none;\">\n",
              "        \n",
              "  <svg xmlns=\"http://www.w3.org/2000/svg\" height=\"24px\"viewBox=\"0 0 24 24\"\n",
              "       width=\"24px\">\n",
              "    <path d=\"M0 0h24v24H0V0z\" fill=\"none\"/>\n",
              "    <path d=\"M18.56 5.44l.94 2.06.94-2.06 2.06-.94-2.06-.94-.94-2.06-.94 2.06-2.06.94zm-11 1L8.5 8.5l.94-2.06 2.06-.94-2.06-.94L8.5 2.5l-.94 2.06-2.06.94zm10 10l.94 2.06.94-2.06 2.06-.94-2.06-.94-.94-2.06-.94 2.06-2.06.94z\"/><path d=\"M17.41 7.96l-1.37-1.37c-.4-.4-.92-.59-1.43-.59-.52 0-1.04.2-1.43.59L10.3 9.45l-7.72 7.72c-.78.78-.78 2.05 0 2.83L4 21.41c.39.39.9.59 1.41.59.51 0 1.02-.2 1.41-.59l7.78-7.78 2.81-2.81c.8-.78.8-2.07 0-2.86zM5.41 20L4 18.59l7.72-7.72 1.47 1.35L5.41 20z\"/>\n",
              "  </svg>\n",
              "      </button>\n",
              "      \n",
              "  <style>\n",
              "    .colab-df-container {\n",
              "      display:flex;\n",
              "      flex-wrap:wrap;\n",
              "      gap: 12px;\n",
              "    }\n",
              "\n",
              "    .colab-df-convert {\n",
              "      background-color: #E8F0FE;\n",
              "      border: none;\n",
              "      border-radius: 50%;\n",
              "      cursor: pointer;\n",
              "      display: none;\n",
              "      fill: #1967D2;\n",
              "      height: 32px;\n",
              "      padding: 0 0 0 0;\n",
              "      width: 32px;\n",
              "    }\n",
              "\n",
              "    .colab-df-convert:hover {\n",
              "      background-color: #E2EBFA;\n",
              "      box-shadow: 0px 1px 2px rgba(60, 64, 67, 0.3), 0px 1px 3px 1px rgba(60, 64, 67, 0.15);\n",
              "      fill: #174EA6;\n",
              "    }\n",
              "\n",
              "    [theme=dark] .colab-df-convert {\n",
              "      background-color: #3B4455;\n",
              "      fill: #D2E3FC;\n",
              "    }\n",
              "\n",
              "    [theme=dark] .colab-df-convert:hover {\n",
              "      background-color: #434B5C;\n",
              "      box-shadow: 0px 1px 3px 1px rgba(0, 0, 0, 0.15);\n",
              "      filter: drop-shadow(0px 1px 2px rgba(0, 0, 0, 0.3));\n",
              "      fill: #FFFFFF;\n",
              "    }\n",
              "  </style>\n",
              "\n",
              "      <script>\n",
              "        const buttonEl =\n",
              "          document.querySelector('#df-b5e57ba3-3fc3-431d-a908-d3d47ce58e65 button.colab-df-convert');\n",
              "        buttonEl.style.display =\n",
              "          google.colab.kernel.accessAllowed ? 'block' : 'none';\n",
              "\n",
              "        async function convertToInteractive(key) {\n",
              "          const element = document.querySelector('#df-b5e57ba3-3fc3-431d-a908-d3d47ce58e65');\n",
              "          const dataTable =\n",
              "            await google.colab.kernel.invokeFunction('convertToInteractive',\n",
              "                                                     [key], {});\n",
              "          if (!dataTable) return;\n",
              "\n",
              "          const docLinkHtml = 'Like what you see? Visit the ' +\n",
              "            '<a target=\"_blank\" href=https://colab.research.google.com/notebooks/data_table.ipynb>data table notebook</a>'\n",
              "            + ' to learn more about interactive tables.';\n",
              "          element.innerHTML = '';\n",
              "          dataTable['output_type'] = 'display_data';\n",
              "          await google.colab.output.renderOutput(dataTable, element);\n",
              "          const docLink = document.createElement('div');\n",
              "          docLink.innerHTML = docLinkHtml;\n",
              "          element.appendChild(docLink);\n",
              "        }\n",
              "      </script>\n",
              "    </div>\n",
              "  </div>\n",
              "  "
            ]
          },
          "metadata": {},
          "execution_count": 28
        }
      ],
      "source": [
        "groundtruth.head()"
      ],
      "id": "puGEWcn_jEc-"
    },
    {
      "cell_type": "code",
      "execution_count": null,
      "metadata": {
        "id": "EwgnR-7NPRyY"
      },
      "outputs": [],
      "source": [
        "sampdf0=groundtruth[(groundtruth['type_shot']=='none')&(groundtruth['2use']==1)]\n"
      ],
      "id": "EwgnR-7NPRyY"
    },
    {
      "cell_type": "code",
      "execution_count": null,
      "metadata": {
        "id": "ziXD8E8x0XI1",
        "colab": {
          "base_uri": "https://localhost:8080/",
          "height": 424
        },
        "outputId": "13cbb56e-ab84-4939-9848-e7a4bebb7d9b"
      },
      "outputs": [
        {
          "output_type": "execute_result",
          "data": {
            "text/plain": [
              "                   ImagenNetID  Ground_truth type_shot  2use\n",
              "0      ILSVRC2012_val_00000001            65      none     1\n",
              "3      ILSVRC2012_val_00000004           809      none     1\n",
              "5      ILSVRC2012_val_00000006            57      none     1\n",
              "7      ILSVRC2012_val_00000008           415      none     1\n",
              "10     ILSVRC2012_val_00000011           109      none     1\n",
              "...                        ...           ...       ...   ...\n",
              "49991  ILSVRC2012_val_00049992           357      none     1\n",
              "49992  ILSVRC2012_val_00049993           826      none     1\n",
              "49996  ILSVRC2012_val_00049997            26      none     1\n",
              "49997  ILSVRC2012_val_00049998           232      none     1\n",
              "49999  ILSVRC2012_val_00050000           355      none     1\n",
              "\n",
              "[24780 rows x 4 columns]"
            ],
            "text/html": [
              "\n",
              "  <div id=\"df-71eaca74-c50c-4cee-8eff-08ca3907c171\">\n",
              "    <div class=\"colab-df-container\">\n",
              "      <div>\n",
              "<style scoped>\n",
              "    .dataframe tbody tr th:only-of-type {\n",
              "        vertical-align: middle;\n",
              "    }\n",
              "\n",
              "    .dataframe tbody tr th {\n",
              "        vertical-align: top;\n",
              "    }\n",
              "\n",
              "    .dataframe thead th {\n",
              "        text-align: right;\n",
              "    }\n",
              "</style>\n",
              "<table border=\"1\" class=\"dataframe\">\n",
              "  <thead>\n",
              "    <tr style=\"text-align: right;\">\n",
              "      <th></th>\n",
              "      <th>ImagenNetID</th>\n",
              "      <th>Ground_truth</th>\n",
              "      <th>type_shot</th>\n",
              "      <th>2use</th>\n",
              "    </tr>\n",
              "  </thead>\n",
              "  <tbody>\n",
              "    <tr>\n",
              "      <th>0</th>\n",
              "      <td>ILSVRC2012_val_00000001</td>\n",
              "      <td>65</td>\n",
              "      <td>none</td>\n",
              "      <td>1</td>\n",
              "    </tr>\n",
              "    <tr>\n",
              "      <th>3</th>\n",
              "      <td>ILSVRC2012_val_00000004</td>\n",
              "      <td>809</td>\n",
              "      <td>none</td>\n",
              "      <td>1</td>\n",
              "    </tr>\n",
              "    <tr>\n",
              "      <th>5</th>\n",
              "      <td>ILSVRC2012_val_00000006</td>\n",
              "      <td>57</td>\n",
              "      <td>none</td>\n",
              "      <td>1</td>\n",
              "    </tr>\n",
              "    <tr>\n",
              "      <th>7</th>\n",
              "      <td>ILSVRC2012_val_00000008</td>\n",
              "      <td>415</td>\n",
              "      <td>none</td>\n",
              "      <td>1</td>\n",
              "    </tr>\n",
              "    <tr>\n",
              "      <th>10</th>\n",
              "      <td>ILSVRC2012_val_00000011</td>\n",
              "      <td>109</td>\n",
              "      <td>none</td>\n",
              "      <td>1</td>\n",
              "    </tr>\n",
              "    <tr>\n",
              "      <th>...</th>\n",
              "      <td>...</td>\n",
              "      <td>...</td>\n",
              "      <td>...</td>\n",
              "      <td>...</td>\n",
              "    </tr>\n",
              "    <tr>\n",
              "      <th>49991</th>\n",
              "      <td>ILSVRC2012_val_00049992</td>\n",
              "      <td>357</td>\n",
              "      <td>none</td>\n",
              "      <td>1</td>\n",
              "    </tr>\n",
              "    <tr>\n",
              "      <th>49992</th>\n",
              "      <td>ILSVRC2012_val_00049993</td>\n",
              "      <td>826</td>\n",
              "      <td>none</td>\n",
              "      <td>1</td>\n",
              "    </tr>\n",
              "    <tr>\n",
              "      <th>49996</th>\n",
              "      <td>ILSVRC2012_val_00049997</td>\n",
              "      <td>26</td>\n",
              "      <td>none</td>\n",
              "      <td>1</td>\n",
              "    </tr>\n",
              "    <tr>\n",
              "      <th>49997</th>\n",
              "      <td>ILSVRC2012_val_00049998</td>\n",
              "      <td>232</td>\n",
              "      <td>none</td>\n",
              "      <td>1</td>\n",
              "    </tr>\n",
              "    <tr>\n",
              "      <th>49999</th>\n",
              "      <td>ILSVRC2012_val_00050000</td>\n",
              "      <td>355</td>\n",
              "      <td>none</td>\n",
              "      <td>1</td>\n",
              "    </tr>\n",
              "  </tbody>\n",
              "</table>\n",
              "<p>24780 rows × 4 columns</p>\n",
              "</div>\n",
              "      <button class=\"colab-df-convert\" onclick=\"convertToInteractive('df-71eaca74-c50c-4cee-8eff-08ca3907c171')\"\n",
              "              title=\"Convert this dataframe to an interactive table.\"\n",
              "              style=\"display:none;\">\n",
              "        \n",
              "  <svg xmlns=\"http://www.w3.org/2000/svg\" height=\"24px\"viewBox=\"0 0 24 24\"\n",
              "       width=\"24px\">\n",
              "    <path d=\"M0 0h24v24H0V0z\" fill=\"none\"/>\n",
              "    <path d=\"M18.56 5.44l.94 2.06.94-2.06 2.06-.94-2.06-.94-.94-2.06-.94 2.06-2.06.94zm-11 1L8.5 8.5l.94-2.06 2.06-.94-2.06-.94L8.5 2.5l-.94 2.06-2.06.94zm10 10l.94 2.06.94-2.06 2.06-.94-2.06-.94-.94-2.06-.94 2.06-2.06.94z\"/><path d=\"M17.41 7.96l-1.37-1.37c-.4-.4-.92-.59-1.43-.59-.52 0-1.04.2-1.43.59L10.3 9.45l-7.72 7.72c-.78.78-.78 2.05 0 2.83L4 21.41c.39.39.9.59 1.41.59.51 0 1.02-.2 1.41-.59l7.78-7.78 2.81-2.81c.8-.78.8-2.07 0-2.86zM5.41 20L4 18.59l7.72-7.72 1.47 1.35L5.41 20z\"/>\n",
              "  </svg>\n",
              "      </button>\n",
              "      \n",
              "  <style>\n",
              "    .colab-df-container {\n",
              "      display:flex;\n",
              "      flex-wrap:wrap;\n",
              "      gap: 12px;\n",
              "    }\n",
              "\n",
              "    .colab-df-convert {\n",
              "      background-color: #E8F0FE;\n",
              "      border: none;\n",
              "      border-radius: 50%;\n",
              "      cursor: pointer;\n",
              "      display: none;\n",
              "      fill: #1967D2;\n",
              "      height: 32px;\n",
              "      padding: 0 0 0 0;\n",
              "      width: 32px;\n",
              "    }\n",
              "\n",
              "    .colab-df-convert:hover {\n",
              "      background-color: #E2EBFA;\n",
              "      box-shadow: 0px 1px 2px rgba(60, 64, 67, 0.3), 0px 1px 3px 1px rgba(60, 64, 67, 0.15);\n",
              "      fill: #174EA6;\n",
              "    }\n",
              "\n",
              "    [theme=dark] .colab-df-convert {\n",
              "      background-color: #3B4455;\n",
              "      fill: #D2E3FC;\n",
              "    }\n",
              "\n",
              "    [theme=dark] .colab-df-convert:hover {\n",
              "      background-color: #434B5C;\n",
              "      box-shadow: 0px 1px 3px 1px rgba(0, 0, 0, 0.15);\n",
              "      filter: drop-shadow(0px 1px 2px rgba(0, 0, 0, 0.3));\n",
              "      fill: #FFFFFF;\n",
              "    }\n",
              "  </style>\n",
              "\n",
              "      <script>\n",
              "        const buttonEl =\n",
              "          document.querySelector('#df-71eaca74-c50c-4cee-8eff-08ca3907c171 button.colab-df-convert');\n",
              "        buttonEl.style.display =\n",
              "          google.colab.kernel.accessAllowed ? 'block' : 'none';\n",
              "\n",
              "        async function convertToInteractive(key) {\n",
              "          const element = document.querySelector('#df-71eaca74-c50c-4cee-8eff-08ca3907c171');\n",
              "          const dataTable =\n",
              "            await google.colab.kernel.invokeFunction('convertToInteractive',\n",
              "                                                     [key], {});\n",
              "          if (!dataTable) return;\n",
              "\n",
              "          const docLinkHtml = 'Like what you see? Visit the ' +\n",
              "            '<a target=\"_blank\" href=https://colab.research.google.com/notebooks/data_table.ipynb>data table notebook</a>'\n",
              "            + ' to learn more about interactive tables.';\n",
              "          element.innerHTML = '';\n",
              "          dataTable['output_type'] = 'display_data';\n",
              "          await google.colab.output.renderOutput(dataTable, element);\n",
              "          const docLink = document.createElement('div');\n",
              "          docLink.innerHTML = docLinkHtml;\n",
              "          element.appendChild(docLink);\n",
              "        }\n",
              "      </script>\n",
              "    </div>\n",
              "  </div>\n",
              "  "
            ]
          },
          "metadata": {},
          "execution_count": 30
        }
      ],
      "source": [
        "sampdf0"
      ],
      "id": "ziXD8E8x0XI1"
    },
    {
      "cell_type": "code",
      "source": [
        "sampdfbase=groundtruth[groundtruth['2use']==1]\n",
        "sampdfbase"
      ],
      "metadata": {
        "colab": {
          "base_uri": "https://localhost:8080/",
          "height": 424
        },
        "id": "1Kib7WvYBjlV",
        "outputId": "aa70e080-2bb3-4a3a-aa02-cd09888ce1f7"
      },
      "id": "1Kib7WvYBjlV",
      "execution_count": null,
      "outputs": [
        {
          "output_type": "execute_result",
          "data": {
            "text/plain": [
              "                   ImagenNetID  Ground_truth type_shot  2use\n",
              "0      ILSVRC2012_val_00000001            65      none     1\n",
              "1      ILSVRC2012_val_00000002           970       few     1\n",
              "2      ILSVRC2012_val_00000003           230       one     1\n",
              "3      ILSVRC2012_val_00000004           809      none     1\n",
              "4      ILSVRC2012_val_00000005           516       one     1\n",
              "...                        ...           ...       ...   ...\n",
              "49995  ILSVRC2012_val_00049996           283       one     1\n",
              "49996  ILSVRC2012_val_00049997            26      none     1\n",
              "49997  ILSVRC2012_val_00049998           232      none     1\n",
              "49998  ILSVRC2012_val_00049999           982       few     1\n",
              "49999  ILSVRC2012_val_00050000           355      none     1\n",
              "\n",
              "[49593 rows x 4 columns]"
            ],
            "text/html": [
              "\n",
              "  <div id=\"df-133dc22b-dda5-468e-b00c-4df5c555bd42\">\n",
              "    <div class=\"colab-df-container\">\n",
              "      <div>\n",
              "<style scoped>\n",
              "    .dataframe tbody tr th:only-of-type {\n",
              "        vertical-align: middle;\n",
              "    }\n",
              "\n",
              "    .dataframe tbody tr th {\n",
              "        vertical-align: top;\n",
              "    }\n",
              "\n",
              "    .dataframe thead th {\n",
              "        text-align: right;\n",
              "    }\n",
              "</style>\n",
              "<table border=\"1\" class=\"dataframe\">\n",
              "  <thead>\n",
              "    <tr style=\"text-align: right;\">\n",
              "      <th></th>\n",
              "      <th>ImagenNetID</th>\n",
              "      <th>Ground_truth</th>\n",
              "      <th>type_shot</th>\n",
              "      <th>2use</th>\n",
              "    </tr>\n",
              "  </thead>\n",
              "  <tbody>\n",
              "    <tr>\n",
              "      <th>0</th>\n",
              "      <td>ILSVRC2012_val_00000001</td>\n",
              "      <td>65</td>\n",
              "      <td>none</td>\n",
              "      <td>1</td>\n",
              "    </tr>\n",
              "    <tr>\n",
              "      <th>1</th>\n",
              "      <td>ILSVRC2012_val_00000002</td>\n",
              "      <td>970</td>\n",
              "      <td>few</td>\n",
              "      <td>1</td>\n",
              "    </tr>\n",
              "    <tr>\n",
              "      <th>2</th>\n",
              "      <td>ILSVRC2012_val_00000003</td>\n",
              "      <td>230</td>\n",
              "      <td>one</td>\n",
              "      <td>1</td>\n",
              "    </tr>\n",
              "    <tr>\n",
              "      <th>3</th>\n",
              "      <td>ILSVRC2012_val_00000004</td>\n",
              "      <td>809</td>\n",
              "      <td>none</td>\n",
              "      <td>1</td>\n",
              "    </tr>\n",
              "    <tr>\n",
              "      <th>4</th>\n",
              "      <td>ILSVRC2012_val_00000005</td>\n",
              "      <td>516</td>\n",
              "      <td>one</td>\n",
              "      <td>1</td>\n",
              "    </tr>\n",
              "    <tr>\n",
              "      <th>...</th>\n",
              "      <td>...</td>\n",
              "      <td>...</td>\n",
              "      <td>...</td>\n",
              "      <td>...</td>\n",
              "    </tr>\n",
              "    <tr>\n",
              "      <th>49995</th>\n",
              "      <td>ILSVRC2012_val_00049996</td>\n",
              "      <td>283</td>\n",
              "      <td>one</td>\n",
              "      <td>1</td>\n",
              "    </tr>\n",
              "    <tr>\n",
              "      <th>49996</th>\n",
              "      <td>ILSVRC2012_val_00049997</td>\n",
              "      <td>26</td>\n",
              "      <td>none</td>\n",
              "      <td>1</td>\n",
              "    </tr>\n",
              "    <tr>\n",
              "      <th>49997</th>\n",
              "      <td>ILSVRC2012_val_00049998</td>\n",
              "      <td>232</td>\n",
              "      <td>none</td>\n",
              "      <td>1</td>\n",
              "    </tr>\n",
              "    <tr>\n",
              "      <th>49998</th>\n",
              "      <td>ILSVRC2012_val_00049999</td>\n",
              "      <td>982</td>\n",
              "      <td>few</td>\n",
              "      <td>1</td>\n",
              "    </tr>\n",
              "    <tr>\n",
              "      <th>49999</th>\n",
              "      <td>ILSVRC2012_val_00050000</td>\n",
              "      <td>355</td>\n",
              "      <td>none</td>\n",
              "      <td>1</td>\n",
              "    </tr>\n",
              "  </tbody>\n",
              "</table>\n",
              "<p>49593 rows × 4 columns</p>\n",
              "</div>\n",
              "      <button class=\"colab-df-convert\" onclick=\"convertToInteractive('df-133dc22b-dda5-468e-b00c-4df5c555bd42')\"\n",
              "              title=\"Convert this dataframe to an interactive table.\"\n",
              "              style=\"display:none;\">\n",
              "        \n",
              "  <svg xmlns=\"http://www.w3.org/2000/svg\" height=\"24px\"viewBox=\"0 0 24 24\"\n",
              "       width=\"24px\">\n",
              "    <path d=\"M0 0h24v24H0V0z\" fill=\"none\"/>\n",
              "    <path d=\"M18.56 5.44l.94 2.06.94-2.06 2.06-.94-2.06-.94-.94-2.06-.94 2.06-2.06.94zm-11 1L8.5 8.5l.94-2.06 2.06-.94-2.06-.94L8.5 2.5l-.94 2.06-2.06.94zm10 10l.94 2.06.94-2.06 2.06-.94-2.06-.94-.94-2.06-.94 2.06-2.06.94z\"/><path d=\"M17.41 7.96l-1.37-1.37c-.4-.4-.92-.59-1.43-.59-.52 0-1.04.2-1.43.59L10.3 9.45l-7.72 7.72c-.78.78-.78 2.05 0 2.83L4 21.41c.39.39.9.59 1.41.59.51 0 1.02-.2 1.41-.59l7.78-7.78 2.81-2.81c.8-.78.8-2.07 0-2.86zM5.41 20L4 18.59l7.72-7.72 1.47 1.35L5.41 20z\"/>\n",
              "  </svg>\n",
              "      </button>\n",
              "      \n",
              "  <style>\n",
              "    .colab-df-container {\n",
              "      display:flex;\n",
              "      flex-wrap:wrap;\n",
              "      gap: 12px;\n",
              "    }\n",
              "\n",
              "    .colab-df-convert {\n",
              "      background-color: #E8F0FE;\n",
              "      border: none;\n",
              "      border-radius: 50%;\n",
              "      cursor: pointer;\n",
              "      display: none;\n",
              "      fill: #1967D2;\n",
              "      height: 32px;\n",
              "      padding: 0 0 0 0;\n",
              "      width: 32px;\n",
              "    }\n",
              "\n",
              "    .colab-df-convert:hover {\n",
              "      background-color: #E2EBFA;\n",
              "      box-shadow: 0px 1px 2px rgba(60, 64, 67, 0.3), 0px 1px 3px 1px rgba(60, 64, 67, 0.15);\n",
              "      fill: #174EA6;\n",
              "    }\n",
              "\n",
              "    [theme=dark] .colab-df-convert {\n",
              "      background-color: #3B4455;\n",
              "      fill: #D2E3FC;\n",
              "    }\n",
              "\n",
              "    [theme=dark] .colab-df-convert:hover {\n",
              "      background-color: #434B5C;\n",
              "      box-shadow: 0px 1px 3px 1px rgba(0, 0, 0, 0.15);\n",
              "      filter: drop-shadow(0px 1px 2px rgba(0, 0, 0, 0.3));\n",
              "      fill: #FFFFFF;\n",
              "    }\n",
              "  </style>\n",
              "\n",
              "      <script>\n",
              "        const buttonEl =\n",
              "          document.querySelector('#df-133dc22b-dda5-468e-b00c-4df5c555bd42 button.colab-df-convert');\n",
              "        buttonEl.style.display =\n",
              "          google.colab.kernel.accessAllowed ? 'block' : 'none';\n",
              "\n",
              "        async function convertToInteractive(key) {\n",
              "          const element = document.querySelector('#df-133dc22b-dda5-468e-b00c-4df5c555bd42');\n",
              "          const dataTable =\n",
              "            await google.colab.kernel.invokeFunction('convertToInteractive',\n",
              "                                                     [key], {});\n",
              "          if (!dataTable) return;\n",
              "\n",
              "          const docLinkHtml = 'Like what you see? Visit the ' +\n",
              "            '<a target=\"_blank\" href=https://colab.research.google.com/notebooks/data_table.ipynb>data table notebook</a>'\n",
              "            + ' to learn more about interactive tables.';\n",
              "          element.innerHTML = '';\n",
              "          dataTable['output_type'] = 'display_data';\n",
              "          await google.colab.output.renderOutput(dataTable, element);\n",
              "          const docLink = document.createElement('div');\n",
              "          docLink.innerHTML = docLinkHtml;\n",
              "          element.appendChild(docLink);\n",
              "        }\n",
              "      </script>\n",
              "    </div>\n",
              "  </div>\n",
              "  "
            ]
          },
          "metadata": {},
          "execution_count": 49
        }
      ]
    },
    {
      "cell_type": "code",
      "execution_count": null,
      "metadata": {
        "id": "TWg8UWqwpCuh",
        "colab": {
          "base_uri": "https://localhost:8080/",
          "height": 206
        },
        "outputId": "5320348d-4baf-457a-9f6f-e15e69f37263"
      },
      "outputs": [
        {
          "output_type": "execute_result",
          "data": {
            "text/plain": [
              "               ImagenNetID  Ground_truth type_shot  2use\n",
              "1  ILSVRC2012_val_00000002           970       few     1\n",
              "2  ILSVRC2012_val_00000003           230       one     1\n",
              "4  ILSVRC2012_val_00000005           516       one     1\n",
              "6  ILSVRC2012_val_00000007           334       few     1\n",
              "8  ILSVRC2012_val_00000009           674       few     1"
            ],
            "text/html": [
              "\n",
              "  <div id=\"df-b9f88c2e-efb3-4c85-acc5-eb400cbe87fb\">\n",
              "    <div class=\"colab-df-container\">\n",
              "      <div>\n",
              "<style scoped>\n",
              "    .dataframe tbody tr th:only-of-type {\n",
              "        vertical-align: middle;\n",
              "    }\n",
              "\n",
              "    .dataframe tbody tr th {\n",
              "        vertical-align: top;\n",
              "    }\n",
              "\n",
              "    .dataframe thead th {\n",
              "        text-align: right;\n",
              "    }\n",
              "</style>\n",
              "<table border=\"1\" class=\"dataframe\">\n",
              "  <thead>\n",
              "    <tr style=\"text-align: right;\">\n",
              "      <th></th>\n",
              "      <th>ImagenNetID</th>\n",
              "      <th>Ground_truth</th>\n",
              "      <th>type_shot</th>\n",
              "      <th>2use</th>\n",
              "    </tr>\n",
              "  </thead>\n",
              "  <tbody>\n",
              "    <tr>\n",
              "      <th>1</th>\n",
              "      <td>ILSVRC2012_val_00000002</td>\n",
              "      <td>970</td>\n",
              "      <td>few</td>\n",
              "      <td>1</td>\n",
              "    </tr>\n",
              "    <tr>\n",
              "      <th>2</th>\n",
              "      <td>ILSVRC2012_val_00000003</td>\n",
              "      <td>230</td>\n",
              "      <td>one</td>\n",
              "      <td>1</td>\n",
              "    </tr>\n",
              "    <tr>\n",
              "      <th>4</th>\n",
              "      <td>ILSVRC2012_val_00000005</td>\n",
              "      <td>516</td>\n",
              "      <td>one</td>\n",
              "      <td>1</td>\n",
              "    </tr>\n",
              "    <tr>\n",
              "      <th>6</th>\n",
              "      <td>ILSVRC2012_val_00000007</td>\n",
              "      <td>334</td>\n",
              "      <td>few</td>\n",
              "      <td>1</td>\n",
              "    </tr>\n",
              "    <tr>\n",
              "      <th>8</th>\n",
              "      <td>ILSVRC2012_val_00000009</td>\n",
              "      <td>674</td>\n",
              "      <td>few</td>\n",
              "      <td>1</td>\n",
              "    </tr>\n",
              "  </tbody>\n",
              "</table>\n",
              "</div>\n",
              "      <button class=\"colab-df-convert\" onclick=\"convertToInteractive('df-b9f88c2e-efb3-4c85-acc5-eb400cbe87fb')\"\n",
              "              title=\"Convert this dataframe to an interactive table.\"\n",
              "              style=\"display:none;\">\n",
              "        \n",
              "  <svg xmlns=\"http://www.w3.org/2000/svg\" height=\"24px\"viewBox=\"0 0 24 24\"\n",
              "       width=\"24px\">\n",
              "    <path d=\"M0 0h24v24H0V0z\" fill=\"none\"/>\n",
              "    <path d=\"M18.56 5.44l.94 2.06.94-2.06 2.06-.94-2.06-.94-.94-2.06-.94 2.06-2.06.94zm-11 1L8.5 8.5l.94-2.06 2.06-.94-2.06-.94L8.5 2.5l-.94 2.06-2.06.94zm10 10l.94 2.06.94-2.06 2.06-.94-2.06-.94-.94-2.06-.94 2.06-2.06.94z\"/><path d=\"M17.41 7.96l-1.37-1.37c-.4-.4-.92-.59-1.43-.59-.52 0-1.04.2-1.43.59L10.3 9.45l-7.72 7.72c-.78.78-.78 2.05 0 2.83L4 21.41c.39.39.9.59 1.41.59.51 0 1.02-.2 1.41-.59l7.78-7.78 2.81-2.81c.8-.78.8-2.07 0-2.86zM5.41 20L4 18.59l7.72-7.72 1.47 1.35L5.41 20z\"/>\n",
              "  </svg>\n",
              "      </button>\n",
              "      \n",
              "  <style>\n",
              "    .colab-df-container {\n",
              "      display:flex;\n",
              "      flex-wrap:wrap;\n",
              "      gap: 12px;\n",
              "    }\n",
              "\n",
              "    .colab-df-convert {\n",
              "      background-color: #E8F0FE;\n",
              "      border: none;\n",
              "      border-radius: 50%;\n",
              "      cursor: pointer;\n",
              "      display: none;\n",
              "      fill: #1967D2;\n",
              "      height: 32px;\n",
              "      padding: 0 0 0 0;\n",
              "      width: 32px;\n",
              "    }\n",
              "\n",
              "    .colab-df-convert:hover {\n",
              "      background-color: #E2EBFA;\n",
              "      box-shadow: 0px 1px 2px rgba(60, 64, 67, 0.3), 0px 1px 3px 1px rgba(60, 64, 67, 0.15);\n",
              "      fill: #174EA6;\n",
              "    }\n",
              "\n",
              "    [theme=dark] .colab-df-convert {\n",
              "      background-color: #3B4455;\n",
              "      fill: #D2E3FC;\n",
              "    }\n",
              "\n",
              "    [theme=dark] .colab-df-convert:hover {\n",
              "      background-color: #434B5C;\n",
              "      box-shadow: 0px 1px 3px 1px rgba(0, 0, 0, 0.15);\n",
              "      filter: drop-shadow(0px 1px 2px rgba(0, 0, 0, 0.3));\n",
              "      fill: #FFFFFF;\n",
              "    }\n",
              "  </style>\n",
              "\n",
              "      <script>\n",
              "        const buttonEl =\n",
              "          document.querySelector('#df-b9f88c2e-efb3-4c85-acc5-eb400cbe87fb button.colab-df-convert');\n",
              "        buttonEl.style.display =\n",
              "          google.colab.kernel.accessAllowed ? 'block' : 'none';\n",
              "\n",
              "        async function convertToInteractive(key) {\n",
              "          const element = document.querySelector('#df-b9f88c2e-efb3-4c85-acc5-eb400cbe87fb');\n",
              "          const dataTable =\n",
              "            await google.colab.kernel.invokeFunction('convertToInteractive',\n",
              "                                                     [key], {});\n",
              "          if (!dataTable) return;\n",
              "\n",
              "          const docLinkHtml = 'Like what you see? Visit the ' +\n",
              "            '<a target=\"_blank\" href=https://colab.research.google.com/notebooks/data_table.ipynb>data table notebook</a>'\n",
              "            + ' to learn more about interactive tables.';\n",
              "          element.innerHTML = '';\n",
              "          dataTable['output_type'] = 'display_data';\n",
              "          await google.colab.output.renderOutput(dataTable, element);\n",
              "          const docLink = document.createElement('div');\n",
              "          docLink.innerHTML = docLinkHtml;\n",
              "          element.appendChild(docLink);\n",
              "        }\n",
              "      </script>\n",
              "    </div>\n",
              "  </div>\n",
              "  "
            ]
          },
          "metadata": {},
          "execution_count": 31
        }
      ],
      "source": [
        "sampdf=groundtruth[(groundtruth['type_shot']!='none')&(groundtruth['2use']==1)]\n",
        "sampdf.head()"
      ],
      "id": "TWg8UWqwpCuh"
    },
    {
      "cell_type": "code",
      "execution_count": null,
      "metadata": {
        "id": "Q2f1h1BknTXw",
        "colab": {
          "base_uri": "https://localhost:8080/"
        },
        "outputId": "547065b4-0af6-4faf-cce8-000208909900"
      },
      "outputs": [
        {
          "output_type": "execute_result",
          "data": {
            "text/plain": [
              "24813"
            ]
          },
          "metadata": {},
          "execution_count": 32
        }
      ],
      "source": [
        "len(sampdf.index)"
      ],
      "id": "Q2f1h1BknTXw"
    },
    {
      "cell_type": "code",
      "execution_count": null,
      "metadata": {
        "id": "QS8hCBS9nawb"
      },
      "outputs": [],
      "source": [
        "1/opjop"
      ],
      "id": "QS8hCBS9nawb"
    },
    {
      "cell_type": "code",
      "execution_count": null,
      "metadata": {
        "id": "wzOkm-5bpzdK"
      },
      "outputs": [],
      "source": [
        "len(sh),len(os),len(fs2),len(fs3)"
      ],
      "id": "wzOkm-5bpzdK"
    },
    {
      "cell_type": "code",
      "execution_count": null,
      "metadata": {
        "id": "1poIvfw8tIFW"
      },
      "outputs": [],
      "source": [
        "shot1=np.array([1 if g in os else 0 for g in sampdf['Ground_truth'].values])\n",
        "shot2=np.array([2 if g in fs2 else 0 for g in sampdf['Ground_truth'].values])\n",
        "shot3=np.array([3 if g in fs3 else 0 for g in sampdf['Ground_truth'].values])\n",
        "shot=shot1+shot2+shot3\n",
        "\n",
        "sdict2=dict({0:'none',1:'one',2:'two',3:'three'})"
      ],
      "id": "1poIvfw8tIFW"
    },
    {
      "cell_type": "code",
      "execution_count": null,
      "metadata": {
        "id": "ufNxzeZwp8Cp",
        "colab": {
          "base_uri": "https://localhost:8080/"
        },
        "outputId": "1e32a9f0-9aee-4309-a2f3-8222d08550d9"
      },
      "outputs": [
        {
          "output_type": "stream",
          "name": "stderr",
          "text": [
            "/usr/local/lib/python3.7/dist-packages/ipykernel_launcher.py:1: SettingWithCopyWarning: \n",
            "A value is trying to be set on a copy of a slice from a DataFrame.\n",
            "Try using .loc[row_indexer,col_indexer] = value instead\n",
            "\n",
            "See the caveats in the documentation: https://pandas.pydata.org/pandas-docs/stable/user_guide/indexing.html#returning-a-view-versus-a-copy\n",
            "  \"\"\"Entry point for launching an IPython kernel.\n"
          ]
        }
      ],
      "source": [
        "sampdf['shot_type']=shot#np.array([sdict2[s] for s in shot])#type_shot"
      ],
      "id": "ufNxzeZwp8Cp"
    },
    {
      "cell_type": "code",
      "execution_count": null,
      "metadata": {
        "id": "9_4lJU1vuD_y",
        "colab": {
          "base_uri": "https://localhost:8080/",
          "height": 206
        },
        "outputId": "b3fc4f21-024e-43a2-8876-24910d1520fd"
      },
      "outputs": [
        {
          "output_type": "execute_result",
          "data": {
            "text/plain": [
              "               ImagenNetID  Ground_truth type_shot  2use  shot_type\n",
              "1  ILSVRC2012_val_00000002           970       few     1          2\n",
              "2  ILSVRC2012_val_00000003           230       one     1          1\n",
              "4  ILSVRC2012_val_00000005           516       one     1          1\n",
              "6  ILSVRC2012_val_00000007           334       few     1          2\n",
              "8  ILSVRC2012_val_00000009           674       few     1          2"
            ],
            "text/html": [
              "\n",
              "  <div id=\"df-395992fe-7ad8-4d6a-9c84-7d650b9265ca\">\n",
              "    <div class=\"colab-df-container\">\n",
              "      <div>\n",
              "<style scoped>\n",
              "    .dataframe tbody tr th:only-of-type {\n",
              "        vertical-align: middle;\n",
              "    }\n",
              "\n",
              "    .dataframe tbody tr th {\n",
              "        vertical-align: top;\n",
              "    }\n",
              "\n",
              "    .dataframe thead th {\n",
              "        text-align: right;\n",
              "    }\n",
              "</style>\n",
              "<table border=\"1\" class=\"dataframe\">\n",
              "  <thead>\n",
              "    <tr style=\"text-align: right;\">\n",
              "      <th></th>\n",
              "      <th>ImagenNetID</th>\n",
              "      <th>Ground_truth</th>\n",
              "      <th>type_shot</th>\n",
              "      <th>2use</th>\n",
              "      <th>shot_type</th>\n",
              "    </tr>\n",
              "  </thead>\n",
              "  <tbody>\n",
              "    <tr>\n",
              "      <th>1</th>\n",
              "      <td>ILSVRC2012_val_00000002</td>\n",
              "      <td>970</td>\n",
              "      <td>few</td>\n",
              "      <td>1</td>\n",
              "      <td>2</td>\n",
              "    </tr>\n",
              "    <tr>\n",
              "      <th>2</th>\n",
              "      <td>ILSVRC2012_val_00000003</td>\n",
              "      <td>230</td>\n",
              "      <td>one</td>\n",
              "      <td>1</td>\n",
              "      <td>1</td>\n",
              "    </tr>\n",
              "    <tr>\n",
              "      <th>4</th>\n",
              "      <td>ILSVRC2012_val_00000005</td>\n",
              "      <td>516</td>\n",
              "      <td>one</td>\n",
              "      <td>1</td>\n",
              "      <td>1</td>\n",
              "    </tr>\n",
              "    <tr>\n",
              "      <th>6</th>\n",
              "      <td>ILSVRC2012_val_00000007</td>\n",
              "      <td>334</td>\n",
              "      <td>few</td>\n",
              "      <td>1</td>\n",
              "      <td>2</td>\n",
              "    </tr>\n",
              "    <tr>\n",
              "      <th>8</th>\n",
              "      <td>ILSVRC2012_val_00000009</td>\n",
              "      <td>674</td>\n",
              "      <td>few</td>\n",
              "      <td>1</td>\n",
              "      <td>2</td>\n",
              "    </tr>\n",
              "  </tbody>\n",
              "</table>\n",
              "</div>\n",
              "      <button class=\"colab-df-convert\" onclick=\"convertToInteractive('df-395992fe-7ad8-4d6a-9c84-7d650b9265ca')\"\n",
              "              title=\"Convert this dataframe to an interactive table.\"\n",
              "              style=\"display:none;\">\n",
              "        \n",
              "  <svg xmlns=\"http://www.w3.org/2000/svg\" height=\"24px\"viewBox=\"0 0 24 24\"\n",
              "       width=\"24px\">\n",
              "    <path d=\"M0 0h24v24H0V0z\" fill=\"none\"/>\n",
              "    <path d=\"M18.56 5.44l.94 2.06.94-2.06 2.06-.94-2.06-.94-.94-2.06-.94 2.06-2.06.94zm-11 1L8.5 8.5l.94-2.06 2.06-.94-2.06-.94L8.5 2.5l-.94 2.06-2.06.94zm10 10l.94 2.06.94-2.06 2.06-.94-2.06-.94-.94-2.06-.94 2.06-2.06.94z\"/><path d=\"M17.41 7.96l-1.37-1.37c-.4-.4-.92-.59-1.43-.59-.52 0-1.04.2-1.43.59L10.3 9.45l-7.72 7.72c-.78.78-.78 2.05 0 2.83L4 21.41c.39.39.9.59 1.41.59.51 0 1.02-.2 1.41-.59l7.78-7.78 2.81-2.81c.8-.78.8-2.07 0-2.86zM5.41 20L4 18.59l7.72-7.72 1.47 1.35L5.41 20z\"/>\n",
              "  </svg>\n",
              "      </button>\n",
              "      \n",
              "  <style>\n",
              "    .colab-df-container {\n",
              "      display:flex;\n",
              "      flex-wrap:wrap;\n",
              "      gap: 12px;\n",
              "    }\n",
              "\n",
              "    .colab-df-convert {\n",
              "      background-color: #E8F0FE;\n",
              "      border: none;\n",
              "      border-radius: 50%;\n",
              "      cursor: pointer;\n",
              "      display: none;\n",
              "      fill: #1967D2;\n",
              "      height: 32px;\n",
              "      padding: 0 0 0 0;\n",
              "      width: 32px;\n",
              "    }\n",
              "\n",
              "    .colab-df-convert:hover {\n",
              "      background-color: #E2EBFA;\n",
              "      box-shadow: 0px 1px 2px rgba(60, 64, 67, 0.3), 0px 1px 3px 1px rgba(60, 64, 67, 0.15);\n",
              "      fill: #174EA6;\n",
              "    }\n",
              "\n",
              "    [theme=dark] .colab-df-convert {\n",
              "      background-color: #3B4455;\n",
              "      fill: #D2E3FC;\n",
              "    }\n",
              "\n",
              "    [theme=dark] .colab-df-convert:hover {\n",
              "      background-color: #434B5C;\n",
              "      box-shadow: 0px 1px 3px 1px rgba(0, 0, 0, 0.15);\n",
              "      filter: drop-shadow(0px 1px 2px rgba(0, 0, 0, 0.3));\n",
              "      fill: #FFFFFF;\n",
              "    }\n",
              "  </style>\n",
              "\n",
              "      <script>\n",
              "        const buttonEl =\n",
              "          document.querySelector('#df-395992fe-7ad8-4d6a-9c84-7d650b9265ca button.colab-df-convert');\n",
              "        buttonEl.style.display =\n",
              "          google.colab.kernel.accessAllowed ? 'block' : 'none';\n",
              "\n",
              "        async function convertToInteractive(key) {\n",
              "          const element = document.querySelector('#df-395992fe-7ad8-4d6a-9c84-7d650b9265ca');\n",
              "          const dataTable =\n",
              "            await google.colab.kernel.invokeFunction('convertToInteractive',\n",
              "                                                     [key], {});\n",
              "          if (!dataTable) return;\n",
              "\n",
              "          const docLinkHtml = 'Like what you see? Visit the ' +\n",
              "            '<a target=\"_blank\" href=https://colab.research.google.com/notebooks/data_table.ipynb>data table notebook</a>'\n",
              "            + ' to learn more about interactive tables.';\n",
              "          element.innerHTML = '';\n",
              "          dataTable['output_type'] = 'display_data';\n",
              "          await google.colab.output.renderOutput(dataTable, element);\n",
              "          const docLink = document.createElement('div');\n",
              "          docLink.innerHTML = docLinkHtml;\n",
              "          element.appendChild(docLink);\n",
              "        }\n",
              "      </script>\n",
              "    </div>\n",
              "  </div>\n",
              "  "
            ]
          },
          "metadata": {},
          "execution_count": 35
        }
      ],
      "source": [
        "sampdf.head()"
      ],
      "id": "9_4lJU1vuD_y"
    },
    {
      "cell_type": "code",
      "execution_count": null,
      "metadata": {
        "id": "LFtm-iVE-ZDc",
        "colab": {
          "base_uri": "https://localhost:8080/"
        },
        "outputId": "0023c8e1-c63c-416a-c47f-0557d90caf68"
      },
      "outputs": [
        {
          "output_type": "execute_result",
          "data": {
            "text/plain": [
              "{1, 2, 3}"
            ]
          },
          "metadata": {},
          "execution_count": 36
        }
      ],
      "source": [
        "set(sampdf['shot_type'])"
      ],
      "id": "LFtm-iVE-ZDc"
    },
    {
      "cell_type": "code",
      "source": [
        "read_path=\"/content/Drive/MyDrive/IA025/proy/DAmageNet/DmgNet/\"\n",
        "img = cv2.imread(read_path+'ILSVRC2012_val_00049993.png')\n",
        "cv2_imshow(img)"
      ],
      "metadata": {
        "id": "uENg94XgGT1y"
      },
      "id": "uENg94XgGT1y",
      "execution_count": null,
      "outputs": []
    },
    {
      "cell_type": "code",
      "execution_count": null,
      "metadata": {
        "id": "el4PvF_gvO63"
      },
      "outputs": [],
      "source": [
        "sampdf1=sampdf[sampdf['shot_type']==1]#.ImagenNetID.values #???\n",
        "sampdf2=sampdf[sampdf['shot_type']==2]#.ImagenNetID.values\n",
        "sampdf3=sampdf[sampdf['shot_type']==3]#.ImagenNetID.values"
      ],
      "id": "el4PvF_gvO63"
    },
    {
      "cell_type": "code",
      "execution_count": null,
      "metadata": {
        "id": "pKVMFz59Djbu",
        "colab": {
          "base_uri": "https://localhost:8080/"
        },
        "outputId": "f0f4d9f1-a265-4e17-f857-913059228d0c"
      },
      "outputs": [
        {
          "output_type": "execute_result",
          "data": {
            "text/plain": [
              "(250, 150, 100)"
            ]
          },
          "metadata": {},
          "execution_count": 39
        }
      ],
      "source": [
        "l1,l2,l3=list(set(sampdf1['Ground_truth'])),list(set(sampdf2['Ground_truth'])),list(set(sampdf3['Ground_truth']))\n",
        "len(l1),len(l2),len(l3)"
      ],
      "id": "pKVMFz59Djbu"
    },
    {
      "cell_type": "code",
      "source": [
        "#sampdf0.head()"
      ],
      "metadata": {
        "id": "fpvdsH5SD1S2"
      },
      "id": "fpvdsH5SD1S2",
      "execution_count": null,
      "outputs": []
    },
    {
      "cell_type": "code",
      "source": [
        "l0=list(set(sampdf0['Ground_truth']))\n",
        "n0=len(l0)\n",
        "n0"
      ],
      "metadata": {
        "colab": {
          "base_uri": "https://localhost:8080/"
        },
        "id": "wmG5Fq1dDZVu",
        "outputId": "101e2b3a-48e2-455d-a735-49533be2f064"
      },
      "id": "wmG5Fq1dDZVu",
      "execution_count": null,
      "outputs": [
        {
          "output_type": "execute_result",
          "data": {
            "text/plain": [
              "500"
            ]
          },
          "metadata": {},
          "execution_count": 54
        }
      ]
    },
    {
      "cell_type": "code",
      "execution_count": null,
      "metadata": {
        "id": "ltL3ClW_wJld",
        "colab": {
          "base_uri": "https://localhost:8080/"
        },
        "outputId": "826242d3-a92f-4179-8eb6-6d06fc0f99a1"
      },
      "outputs": [
        {
          "output_type": "execute_result",
          "data": {
            "text/plain": [
              "(12400, 7455, 4958)"
            ]
          },
          "metadata": {},
          "execution_count": 40
        }
      ],
      "source": [
        "n1,n2,n3=len(sampdf1),len(sampdf2),len(sampdf3)\n",
        "n1,n2,n3"
      ],
      "id": "ltL3ClW_wJld"
    },
    {
      "cell_type": "code",
      "execution_count": null,
      "metadata": {
        "id": "ikXwxoKnD9fV"
      },
      "outputs": [],
      "source": [
        "def getsample(df,lc,s):\n",
        "  for i,c in enumerate(lc):\n",
        "    if i==0:\n",
        "      DTS=df[df['Ground_truth']==c].sample(n=s,replace=False)\n",
        "    else:\n",
        "      DTS= pd.concat([DTS, df[df['Ground_truth']==c].sample(n=s,replace=False)], axis=0) # concatenating   along rows\n",
        "  print('data',DTS.shape)\n",
        "  return DTS"
      ],
      "id": "ikXwxoKnD9fV"
    },
    {
      "cell_type": "code",
      "source": [
        "800+850+5*500"
      ],
      "metadata": {
        "colab": {
          "base_uri": "https://localhost:8080/"
        },
        "id": "OFAtKxDOFMwj",
        "outputId": "dd9a2ff1-591f-4c4b-9f70-d25c26539683"
      },
      "id": "OFAtKxDOFMwj",
      "execution_count": null,
      "outputs": [
        {
          "output_type": "execute_result",
          "data": {
            "text/plain": [
              "4150"
            ]
          },
          "metadata": {},
          "execution_count": 63
        }
      ]
    },
    {
      "cell_type": "code",
      "source": [
        "sdf0=getsample(sampdf0,l0,4)\n",
        "sdf0['shot_type']=np.array([0 for k in sdf0.index.values])\n",
        "sdf0.head()"
      ],
      "metadata": {
        "colab": {
          "base_uri": "https://localhost:8080/",
          "height": 224
        },
        "id": "8rkDg0QHEcXx",
        "outputId": "8ff4aebf-4524-4640-cee1-8d410d94633b"
      },
      "id": "8rkDg0QHEcXx",
      "execution_count": null,
      "outputs": [
        {
          "output_type": "stream",
          "name": "stdout",
          "text": [
            "data (2000, 4)\n"
          ]
        },
        {
          "output_type": "execute_result",
          "data": {
            "text/plain": [
              "                   ImagenNetID  Ground_truth type_shot  2use  shot_type\n",
              "17994  ILSVRC2012_val_00017995             0      none     1          0\n",
              "39904  ILSVRC2012_val_00039905             0      none     1          0\n",
              "7196   ILSVRC2012_val_00007197             0      none     1          0\n",
              "6696   ILSVRC2012_val_00006697             0      none     1          0\n",
              "27418  ILSVRC2012_val_00027419             2      none     1          0"
            ],
            "text/html": [
              "\n",
              "  <div id=\"df-fa934dce-d75b-4d8e-adc9-bd5d411b6f15\">\n",
              "    <div class=\"colab-df-container\">\n",
              "      <div>\n",
              "<style scoped>\n",
              "    .dataframe tbody tr th:only-of-type {\n",
              "        vertical-align: middle;\n",
              "    }\n",
              "\n",
              "    .dataframe tbody tr th {\n",
              "        vertical-align: top;\n",
              "    }\n",
              "\n",
              "    .dataframe thead th {\n",
              "        text-align: right;\n",
              "    }\n",
              "</style>\n",
              "<table border=\"1\" class=\"dataframe\">\n",
              "  <thead>\n",
              "    <tr style=\"text-align: right;\">\n",
              "      <th></th>\n",
              "      <th>ImagenNetID</th>\n",
              "      <th>Ground_truth</th>\n",
              "      <th>type_shot</th>\n",
              "      <th>2use</th>\n",
              "      <th>shot_type</th>\n",
              "    </tr>\n",
              "  </thead>\n",
              "  <tbody>\n",
              "    <tr>\n",
              "      <th>17994</th>\n",
              "      <td>ILSVRC2012_val_00017995</td>\n",
              "      <td>0</td>\n",
              "      <td>none</td>\n",
              "      <td>1</td>\n",
              "      <td>0</td>\n",
              "    </tr>\n",
              "    <tr>\n",
              "      <th>39904</th>\n",
              "      <td>ILSVRC2012_val_00039905</td>\n",
              "      <td>0</td>\n",
              "      <td>none</td>\n",
              "      <td>1</td>\n",
              "      <td>0</td>\n",
              "    </tr>\n",
              "    <tr>\n",
              "      <th>7196</th>\n",
              "      <td>ILSVRC2012_val_00007197</td>\n",
              "      <td>0</td>\n",
              "      <td>none</td>\n",
              "      <td>1</td>\n",
              "      <td>0</td>\n",
              "    </tr>\n",
              "    <tr>\n",
              "      <th>6696</th>\n",
              "      <td>ILSVRC2012_val_00006697</td>\n",
              "      <td>0</td>\n",
              "      <td>none</td>\n",
              "      <td>1</td>\n",
              "      <td>0</td>\n",
              "    </tr>\n",
              "    <tr>\n",
              "      <th>27418</th>\n",
              "      <td>ILSVRC2012_val_00027419</td>\n",
              "      <td>2</td>\n",
              "      <td>none</td>\n",
              "      <td>1</td>\n",
              "      <td>0</td>\n",
              "    </tr>\n",
              "  </tbody>\n",
              "</table>\n",
              "</div>\n",
              "      <button class=\"colab-df-convert\" onclick=\"convertToInteractive('df-fa934dce-d75b-4d8e-adc9-bd5d411b6f15')\"\n",
              "              title=\"Convert this dataframe to an interactive table.\"\n",
              "              style=\"display:none;\">\n",
              "        \n",
              "  <svg xmlns=\"http://www.w3.org/2000/svg\" height=\"24px\"viewBox=\"0 0 24 24\"\n",
              "       width=\"24px\">\n",
              "    <path d=\"M0 0h24v24H0V0z\" fill=\"none\"/>\n",
              "    <path d=\"M18.56 5.44l.94 2.06.94-2.06 2.06-.94-2.06-.94-.94-2.06-.94 2.06-2.06.94zm-11 1L8.5 8.5l.94-2.06 2.06-.94-2.06-.94L8.5 2.5l-.94 2.06-2.06.94zm10 10l.94 2.06.94-2.06 2.06-.94-2.06-.94-.94-2.06-.94 2.06-2.06.94z\"/><path d=\"M17.41 7.96l-1.37-1.37c-.4-.4-.92-.59-1.43-.59-.52 0-1.04.2-1.43.59L10.3 9.45l-7.72 7.72c-.78.78-.78 2.05 0 2.83L4 21.41c.39.39.9.59 1.41.59.51 0 1.02-.2 1.41-.59l7.78-7.78 2.81-2.81c.8-.78.8-2.07 0-2.86zM5.41 20L4 18.59l7.72-7.72 1.47 1.35L5.41 20z\"/>\n",
              "  </svg>\n",
              "      </button>\n",
              "      \n",
              "  <style>\n",
              "    .colab-df-container {\n",
              "      display:flex;\n",
              "      flex-wrap:wrap;\n",
              "      gap: 12px;\n",
              "    }\n",
              "\n",
              "    .colab-df-convert {\n",
              "      background-color: #E8F0FE;\n",
              "      border: none;\n",
              "      border-radius: 50%;\n",
              "      cursor: pointer;\n",
              "      display: none;\n",
              "      fill: #1967D2;\n",
              "      height: 32px;\n",
              "      padding: 0 0 0 0;\n",
              "      width: 32px;\n",
              "    }\n",
              "\n",
              "    .colab-df-convert:hover {\n",
              "      background-color: #E2EBFA;\n",
              "      box-shadow: 0px 1px 2px rgba(60, 64, 67, 0.3), 0px 1px 3px 1px rgba(60, 64, 67, 0.15);\n",
              "      fill: #174EA6;\n",
              "    }\n",
              "\n",
              "    [theme=dark] .colab-df-convert {\n",
              "      background-color: #3B4455;\n",
              "      fill: #D2E3FC;\n",
              "    }\n",
              "\n",
              "    [theme=dark] .colab-df-convert:hover {\n",
              "      background-color: #434B5C;\n",
              "      box-shadow: 0px 1px 3px 1px rgba(0, 0, 0, 0.15);\n",
              "      filter: drop-shadow(0px 1px 2px rgba(0, 0, 0, 0.3));\n",
              "      fill: #FFFFFF;\n",
              "    }\n",
              "  </style>\n",
              "\n",
              "      <script>\n",
              "        const buttonEl =\n",
              "          document.querySelector('#df-fa934dce-d75b-4d8e-adc9-bd5d411b6f15 button.colab-df-convert');\n",
              "        buttonEl.style.display =\n",
              "          google.colab.kernel.accessAllowed ? 'block' : 'none';\n",
              "\n",
              "        async function convertToInteractive(key) {\n",
              "          const element = document.querySelector('#df-fa934dce-d75b-4d8e-adc9-bd5d411b6f15');\n",
              "          const dataTable =\n",
              "            await google.colab.kernel.invokeFunction('convertToInteractive',\n",
              "                                                     [key], {});\n",
              "          if (!dataTable) return;\n",
              "\n",
              "          const docLinkHtml = 'Like what you see? Visit the ' +\n",
              "            '<a target=\"_blank\" href=https://colab.research.google.com/notebooks/data_table.ipynb>data table notebook</a>'\n",
              "            + ' to learn more about interactive tables.';\n",
              "          element.innerHTML = '';\n",
              "          dataTable['output_type'] = 'display_data';\n",
              "          await google.colab.output.renderOutput(dataTable, element);\n",
              "          const docLink = document.createElement('div');\n",
              "          docLink.innerHTML = docLinkHtml;\n",
              "          element.appendChild(docLink);\n",
              "        }\n",
              "      </script>\n",
              "    </div>\n",
              "  </div>\n",
              "  "
            ]
          },
          "metadata": {},
          "execution_count": 98
        }
      ]
    },
    {
      "cell_type": "code",
      "source": [
        "sdf1=getsample(sampdf1,l1,1)\n",
        "sdf2=getsample(sampdf2,l2,2)\n",
        "sdf3=getsample(sampdf3,l3,3)  \n"
      ],
      "metadata": {
        "colab": {
          "base_uri": "https://localhost:8080/"
        },
        "id": "3phpfYWT_62v",
        "outputId": "5910b600-de06-4d91-8306-9871df4259eb"
      },
      "id": "3phpfYWT_62v",
      "execution_count": null,
      "outputs": [
        {
          "output_type": "stream",
          "name": "stdout",
          "text": [
            "data (250, 5)\n",
            "data (300, 5)\n",
            "data (300, 5)\n"
          ]
        }
      ]
    },
    {
      "cell_type": "code",
      "source": [
        "sdf3.head()"
      ],
      "metadata": {
        "colab": {
          "base_uri": "https://localhost:8080/",
          "height": 206
        },
        "id": "9AwyMQztAJIh",
        "outputId": "023fd9e1-1ba4-40f2-9c0b-6f5889184ef6"
      },
      "id": "9AwyMQztAJIh",
      "execution_count": null,
      "outputs": [
        {
          "output_type": "execute_result",
          "data": {
            "text/plain": [
              "                   ImagenNetID  Ground_truth type_shot  2use  shot_type\n",
              "306    ILSVRC2012_val_00000307             1       few     1          3\n",
              "4676   ILSVRC2012_val_00004677             1       few     1          3\n",
              "38056  ILSVRC2012_val_00038057             1       few     1          3\n",
              "16722  ILSVRC2012_val_00016723           513       few     1          3\n",
              "16016  ILSVRC2012_val_00016017           513       few     1          3"
            ],
            "text/html": [
              "\n",
              "  <div id=\"df-f57e4375-441e-4eca-95e0-1bf441c7e0f7\">\n",
              "    <div class=\"colab-df-container\">\n",
              "      <div>\n",
              "<style scoped>\n",
              "    .dataframe tbody tr th:only-of-type {\n",
              "        vertical-align: middle;\n",
              "    }\n",
              "\n",
              "    .dataframe tbody tr th {\n",
              "        vertical-align: top;\n",
              "    }\n",
              "\n",
              "    .dataframe thead th {\n",
              "        text-align: right;\n",
              "    }\n",
              "</style>\n",
              "<table border=\"1\" class=\"dataframe\">\n",
              "  <thead>\n",
              "    <tr style=\"text-align: right;\">\n",
              "      <th></th>\n",
              "      <th>ImagenNetID</th>\n",
              "      <th>Ground_truth</th>\n",
              "      <th>type_shot</th>\n",
              "      <th>2use</th>\n",
              "      <th>shot_type</th>\n",
              "    </tr>\n",
              "  </thead>\n",
              "  <tbody>\n",
              "    <tr>\n",
              "      <th>306</th>\n",
              "      <td>ILSVRC2012_val_00000307</td>\n",
              "      <td>1</td>\n",
              "      <td>few</td>\n",
              "      <td>1</td>\n",
              "      <td>3</td>\n",
              "    </tr>\n",
              "    <tr>\n",
              "      <th>4676</th>\n",
              "      <td>ILSVRC2012_val_00004677</td>\n",
              "      <td>1</td>\n",
              "      <td>few</td>\n",
              "      <td>1</td>\n",
              "      <td>3</td>\n",
              "    </tr>\n",
              "    <tr>\n",
              "      <th>38056</th>\n",
              "      <td>ILSVRC2012_val_00038057</td>\n",
              "      <td>1</td>\n",
              "      <td>few</td>\n",
              "      <td>1</td>\n",
              "      <td>3</td>\n",
              "    </tr>\n",
              "    <tr>\n",
              "      <th>16722</th>\n",
              "      <td>ILSVRC2012_val_00016723</td>\n",
              "      <td>513</td>\n",
              "      <td>few</td>\n",
              "      <td>1</td>\n",
              "      <td>3</td>\n",
              "    </tr>\n",
              "    <tr>\n",
              "      <th>16016</th>\n",
              "      <td>ILSVRC2012_val_00016017</td>\n",
              "      <td>513</td>\n",
              "      <td>few</td>\n",
              "      <td>1</td>\n",
              "      <td>3</td>\n",
              "    </tr>\n",
              "  </tbody>\n",
              "</table>\n",
              "</div>\n",
              "      <button class=\"colab-df-convert\" onclick=\"convertToInteractive('df-f57e4375-441e-4eca-95e0-1bf441c7e0f7')\"\n",
              "              title=\"Convert this dataframe to an interactive table.\"\n",
              "              style=\"display:none;\">\n",
              "        \n",
              "  <svg xmlns=\"http://www.w3.org/2000/svg\" height=\"24px\"viewBox=\"0 0 24 24\"\n",
              "       width=\"24px\">\n",
              "    <path d=\"M0 0h24v24H0V0z\" fill=\"none\"/>\n",
              "    <path d=\"M18.56 5.44l.94 2.06.94-2.06 2.06-.94-2.06-.94-.94-2.06-.94 2.06-2.06.94zm-11 1L8.5 8.5l.94-2.06 2.06-.94-2.06-.94L8.5 2.5l-.94 2.06-2.06.94zm10 10l.94 2.06.94-2.06 2.06-.94-2.06-.94-.94-2.06-.94 2.06-2.06.94z\"/><path d=\"M17.41 7.96l-1.37-1.37c-.4-.4-.92-.59-1.43-.59-.52 0-1.04.2-1.43.59L10.3 9.45l-7.72 7.72c-.78.78-.78 2.05 0 2.83L4 21.41c.39.39.9.59 1.41.59.51 0 1.02-.2 1.41-.59l7.78-7.78 2.81-2.81c.8-.78.8-2.07 0-2.86zM5.41 20L4 18.59l7.72-7.72 1.47 1.35L5.41 20z\"/>\n",
              "  </svg>\n",
              "      </button>\n",
              "      \n",
              "  <style>\n",
              "    .colab-df-container {\n",
              "      display:flex;\n",
              "      flex-wrap:wrap;\n",
              "      gap: 12px;\n",
              "    }\n",
              "\n",
              "    .colab-df-convert {\n",
              "      background-color: #E8F0FE;\n",
              "      border: none;\n",
              "      border-radius: 50%;\n",
              "      cursor: pointer;\n",
              "      display: none;\n",
              "      fill: #1967D2;\n",
              "      height: 32px;\n",
              "      padding: 0 0 0 0;\n",
              "      width: 32px;\n",
              "    }\n",
              "\n",
              "    .colab-df-convert:hover {\n",
              "      background-color: #E2EBFA;\n",
              "      box-shadow: 0px 1px 2px rgba(60, 64, 67, 0.3), 0px 1px 3px 1px rgba(60, 64, 67, 0.15);\n",
              "      fill: #174EA6;\n",
              "    }\n",
              "\n",
              "    [theme=dark] .colab-df-convert {\n",
              "      background-color: #3B4455;\n",
              "      fill: #D2E3FC;\n",
              "    }\n",
              "\n",
              "    [theme=dark] .colab-df-convert:hover {\n",
              "      background-color: #434B5C;\n",
              "      box-shadow: 0px 1px 3px 1px rgba(0, 0, 0, 0.15);\n",
              "      filter: drop-shadow(0px 1px 2px rgba(0, 0, 0, 0.3));\n",
              "      fill: #FFFFFF;\n",
              "    }\n",
              "  </style>\n",
              "\n",
              "      <script>\n",
              "        const buttonEl =\n",
              "          document.querySelector('#df-f57e4375-441e-4eca-95e0-1bf441c7e0f7 button.colab-df-convert');\n",
              "        buttonEl.style.display =\n",
              "          google.colab.kernel.accessAllowed ? 'block' : 'none';\n",
              "\n",
              "        async function convertToInteractive(key) {\n",
              "          const element = document.querySelector('#df-f57e4375-441e-4eca-95e0-1bf441c7e0f7');\n",
              "          const dataTable =\n",
              "            await google.colab.kernel.invokeFunction('convertToInteractive',\n",
              "                                                     [key], {});\n",
              "          if (!dataTable) return;\n",
              "\n",
              "          const docLinkHtml = 'Like what you see? Visit the ' +\n",
              "            '<a target=\"_blank\" href=https://colab.research.google.com/notebooks/data_table.ipynb>data table notebook</a>'\n",
              "            + ' to learn more about interactive tables.';\n",
              "          element.innerHTML = '';\n",
              "          dataTable['output_type'] = 'display_data';\n",
              "          await google.colab.output.renderOutput(dataTable, element);\n",
              "          const docLink = document.createElement('div');\n",
              "          docLink.innerHTML = docLinkHtml;\n",
              "          element.appendChild(docLink);\n",
              "        }\n",
              "      </script>\n",
              "    </div>\n",
              "  </div>\n",
              "  "
            ]
          },
          "metadata": {},
          "execution_count": 68
        }
      ]
    },
    {
      "cell_type": "code",
      "source": [
        "# Saving array as binary file and reading it\n",
        "def save_check(array_rain_fall,path,name, c):\n",
        "  #array_rain_fall.tofile(path+name)\n",
        "  #array_rain_fall_binary = np.fromfile(path+name+\".npy\")\n",
        "  if c:\n",
        "    np.save(path+name+\".npy\", array_rain_fall)\n",
        "    return array_rain_fall\n",
        "  else:\n",
        "    array_rain_fall_npy = np.load(path+name+\".npy\")\n",
        "    print(\"NumPy array: \\n\", array_rain_fall_npy)\n",
        "    print(\"Shape: \", array_rain_fall_npy.shape)\n",
        "    print(\"Data Type: \", array_rain_fall_npy.dtype.name)\n",
        "    return array_rain_fall_npy"
      ],
      "metadata": {
        "id": "rk2bho-xccRg"
      },
      "id": "rk2bho-xccRg",
      "execution_count": null,
      "outputs": []
    },
    {
      "cell_type": "code",
      "source": [
        "path=\"/content/Drive/MyDrive/IA025/proy/experiments/mix1/\"\n",
        "c=True\n",
        "l0=save_check(l0,path,'class_500_imagenet_x4',c)\n",
        "l1=save_check(l0,path,'class_250_imagenet_x1',c)\n",
        "l2=save_check(l0,path,'class_150_imagenet_x2',c)\n",
        "l3=save_check(l0,path,'class_100_imagenet_x3',c)"
      ],
      "metadata": {
        "id": "LY10hvqvcimV"
      },
      "id": "LY10hvqvcimV",
      "execution_count": null,
      "outputs": []
    },
    {
      "cell_type": "code",
      "source": [
        "imagenet.head()"
      ],
      "metadata": {
        "colab": {
          "base_uri": "https://localhost:8080/",
          "height": 206
        },
        "id": "RoZayXPCJDEP",
        "outputId": "7b5f5515-6d17-4383-d8ff-ad7004483d90"
      },
      "id": "RoZayXPCJDEP",
      "execution_count": null,
      "outputs": [
        {
          "output_type": "execute_result",
          "data": {
            "text/plain": [
              "                            ids                                       caption  \\\n",
              "0  ILSVRC2012_val_00009996.JPEG              a goat standing on top of a hill   \n",
              "1  ILSVRC2012_val_00009931.JPEG   a painting with red paint on a wooden stand   \n",
              "2  ILSVRC2012_val_00031532.JPEG          a brown dog sitting next to a window   \n",
              "3  ILSVRC2012_val_00014855.JPEG     a mushroom growing on top of a tree trunk   \n",
              "4  ILSVRC2012_val_00021964.JPEG  a row of popsicle sticks with labels on them   \n",
              "\n",
              "   ground_truth                 image_id  attack  \n",
              "0           350  ILSVRC2012_val_00009996       0  \n",
              "1           583  ILSVRC2012_val_00009931       0  \n",
              "2           178  ILSVRC2012_val_00031532       0  \n",
              "3           993  ILSVRC2012_val_00014855       0  \n",
              "4           798  ILSVRC2012_val_00021964       0  "
            ],
            "text/html": [
              "\n",
              "  <div id=\"df-21c929db-1392-4984-bff2-0195bb87f501\">\n",
              "    <div class=\"colab-df-container\">\n",
              "      <div>\n",
              "<style scoped>\n",
              "    .dataframe tbody tr th:only-of-type {\n",
              "        vertical-align: middle;\n",
              "    }\n",
              "\n",
              "    .dataframe tbody tr th {\n",
              "        vertical-align: top;\n",
              "    }\n",
              "\n",
              "    .dataframe thead th {\n",
              "        text-align: right;\n",
              "    }\n",
              "</style>\n",
              "<table border=\"1\" class=\"dataframe\">\n",
              "  <thead>\n",
              "    <tr style=\"text-align: right;\">\n",
              "      <th></th>\n",
              "      <th>ids</th>\n",
              "      <th>caption</th>\n",
              "      <th>ground_truth</th>\n",
              "      <th>image_id</th>\n",
              "      <th>attack</th>\n",
              "    </tr>\n",
              "  </thead>\n",
              "  <tbody>\n",
              "    <tr>\n",
              "      <th>0</th>\n",
              "      <td>ILSVRC2012_val_00009996.JPEG</td>\n",
              "      <td>a goat standing on top of a hill</td>\n",
              "      <td>350</td>\n",
              "      <td>ILSVRC2012_val_00009996</td>\n",
              "      <td>0</td>\n",
              "    </tr>\n",
              "    <tr>\n",
              "      <th>1</th>\n",
              "      <td>ILSVRC2012_val_00009931.JPEG</td>\n",
              "      <td>a painting with red paint on a wooden stand</td>\n",
              "      <td>583</td>\n",
              "      <td>ILSVRC2012_val_00009931</td>\n",
              "      <td>0</td>\n",
              "    </tr>\n",
              "    <tr>\n",
              "      <th>2</th>\n",
              "      <td>ILSVRC2012_val_00031532.JPEG</td>\n",
              "      <td>a brown dog sitting next to a window</td>\n",
              "      <td>178</td>\n",
              "      <td>ILSVRC2012_val_00031532</td>\n",
              "      <td>0</td>\n",
              "    </tr>\n",
              "    <tr>\n",
              "      <th>3</th>\n",
              "      <td>ILSVRC2012_val_00014855.JPEG</td>\n",
              "      <td>a mushroom growing on top of a tree trunk</td>\n",
              "      <td>993</td>\n",
              "      <td>ILSVRC2012_val_00014855</td>\n",
              "      <td>0</td>\n",
              "    </tr>\n",
              "    <tr>\n",
              "      <th>4</th>\n",
              "      <td>ILSVRC2012_val_00021964.JPEG</td>\n",
              "      <td>a row of popsicle sticks with labels on them</td>\n",
              "      <td>798</td>\n",
              "      <td>ILSVRC2012_val_00021964</td>\n",
              "      <td>0</td>\n",
              "    </tr>\n",
              "  </tbody>\n",
              "</table>\n",
              "</div>\n",
              "      <button class=\"colab-df-convert\" onclick=\"convertToInteractive('df-21c929db-1392-4984-bff2-0195bb87f501')\"\n",
              "              title=\"Convert this dataframe to an interactive table.\"\n",
              "              style=\"display:none;\">\n",
              "        \n",
              "  <svg xmlns=\"http://www.w3.org/2000/svg\" height=\"24px\"viewBox=\"0 0 24 24\"\n",
              "       width=\"24px\">\n",
              "    <path d=\"M0 0h24v24H0V0z\" fill=\"none\"/>\n",
              "    <path d=\"M18.56 5.44l.94 2.06.94-2.06 2.06-.94-2.06-.94-.94-2.06-.94 2.06-2.06.94zm-11 1L8.5 8.5l.94-2.06 2.06-.94-2.06-.94L8.5 2.5l-.94 2.06-2.06.94zm10 10l.94 2.06.94-2.06 2.06-.94-2.06-.94-.94-2.06-.94 2.06-2.06.94z\"/><path d=\"M17.41 7.96l-1.37-1.37c-.4-.4-.92-.59-1.43-.59-.52 0-1.04.2-1.43.59L10.3 9.45l-7.72 7.72c-.78.78-.78 2.05 0 2.83L4 21.41c.39.39.9.59 1.41.59.51 0 1.02-.2 1.41-.59l7.78-7.78 2.81-2.81c.8-.78.8-2.07 0-2.86zM5.41 20L4 18.59l7.72-7.72 1.47 1.35L5.41 20z\"/>\n",
              "  </svg>\n",
              "      </button>\n",
              "      \n",
              "  <style>\n",
              "    .colab-df-container {\n",
              "      display:flex;\n",
              "      flex-wrap:wrap;\n",
              "      gap: 12px;\n",
              "    }\n",
              "\n",
              "    .colab-df-convert {\n",
              "      background-color: #E8F0FE;\n",
              "      border: none;\n",
              "      border-radius: 50%;\n",
              "      cursor: pointer;\n",
              "      display: none;\n",
              "      fill: #1967D2;\n",
              "      height: 32px;\n",
              "      padding: 0 0 0 0;\n",
              "      width: 32px;\n",
              "    }\n",
              "\n",
              "    .colab-df-convert:hover {\n",
              "      background-color: #E2EBFA;\n",
              "      box-shadow: 0px 1px 2px rgba(60, 64, 67, 0.3), 0px 1px 3px 1px rgba(60, 64, 67, 0.15);\n",
              "      fill: #174EA6;\n",
              "    }\n",
              "\n",
              "    [theme=dark] .colab-df-convert {\n",
              "      background-color: #3B4455;\n",
              "      fill: #D2E3FC;\n",
              "    }\n",
              "\n",
              "    [theme=dark] .colab-df-convert:hover {\n",
              "      background-color: #434B5C;\n",
              "      box-shadow: 0px 1px 3px 1px rgba(0, 0, 0, 0.15);\n",
              "      filter: drop-shadow(0px 1px 2px rgba(0, 0, 0, 0.3));\n",
              "      fill: #FFFFFF;\n",
              "    }\n",
              "  </style>\n",
              "\n",
              "      <script>\n",
              "        const buttonEl =\n",
              "          document.querySelector('#df-21c929db-1392-4984-bff2-0195bb87f501 button.colab-df-convert');\n",
              "        buttonEl.style.display =\n",
              "          google.colab.kernel.accessAllowed ? 'block' : 'none';\n",
              "\n",
              "        async function convertToInteractive(key) {\n",
              "          const element = document.querySelector('#df-21c929db-1392-4984-bff2-0195bb87f501');\n",
              "          const dataTable =\n",
              "            await google.colab.kernel.invokeFunction('convertToInteractive',\n",
              "                                                     [key], {});\n",
              "          if (!dataTable) return;\n",
              "\n",
              "          const docLinkHtml = 'Like what you see? Visit the ' +\n",
              "            '<a target=\"_blank\" href=https://colab.research.google.com/notebooks/data_table.ipynb>data table notebook</a>'\n",
              "            + ' to learn more about interactive tables.';\n",
              "          element.innerHTML = '';\n",
              "          dataTable['output_type'] = 'display_data';\n",
              "          await google.colab.output.renderOutput(dataTable, element);\n",
              "          const docLink = document.createElement('div');\n",
              "          docLink.innerHTML = docLinkHtml;\n",
              "          element.appendChild(docLink);\n",
              "        }\n",
              "      </script>\n",
              "    </div>\n",
              "  </div>\n",
              "  "
            ]
          },
          "metadata": {},
          "execution_count": 69
        }
      ]
    },
    {
      "cell_type": "code",
      "source": [
        "def getcaption(dfcaption,sdf):\n",
        "  list_ids=list(sdf['ImagenNetID'].values)\n",
        "  dfcaption=dfcaption.set_index('image_id')\n",
        "  return dfcaption[['caption']].loc[list_ids].values.T[0]\n",
        "\n",
        "def getids(dfcaption,sdf):\n",
        "  list_ids=list(sdf['ImagenNetID'].values)\n",
        "  dfcaption=dfcaption.set_index('image_id')\n",
        "  return dfcaption[['ids']].loc[list_ids].values.T[0]\n"
      ],
      "metadata": {
        "id": "0w09_Uj7I1f7"
      },
      "id": "0w09_Uj7I1f7",
      "execution_count": null,
      "outputs": []
    },
    {
      "cell_type": "code",
      "source": [
        "sdf0['caption']= getcaption(imagenet,sdf0)\n",
        "sdf1['caption']= getcaption(damagenet,sdf1)\n",
        "sdf2['caption']= getcaption(damagenet,sdf2)\n",
        "sdf3['caption']= getcaption(damagenet,sdf3)\n",
        "\n",
        "sdf0['ids']= getids(imagenet,sdf0)\n",
        "sdf1['ids']= getids(damagenet,sdf1)\n",
        "sdf2['ids']= getids(damagenet,sdf2)\n",
        "sdf3['ids']= getids(damagenet,sdf3)\n",
        "\n"
      ],
      "metadata": {
        "id": "rcexlhJaIlXy"
      },
      "id": "rcexlhJaIlXy",
      "execution_count": null,
      "outputs": []
    },
    {
      "cell_type": "code",
      "source": [
        "sdf0['attack']=np.array([0 for k in sdf0.index.values])\n",
        "sdf1['attack']=np.array([1 for k in sdf1.index.values])\n",
        "sdf2['attack']=np.array([1 for k in sdf2.index.values])\n",
        "sdf3['attack']=np.array([1 for k in sdf3.index.values])\n"
      ],
      "metadata": {
        "id": "sLnoTKksTq5b"
      },
      "id": "sLnoTKksTq5b",
      "execution_count": null,
      "outputs": []
    },
    {
      "cell_type": "code",
      "source": [
        "colsdf=['ids','ImagenNetID','caption', 'Ground_truth','attack', 'shot_type', 'type_shot', '2use']\n",
        "dftrain1 = pd.concat([sdf0, sdf1,sdf2,sdf3], axis=0)[colsdf] # concatenating   along rows\n",
        "dftrain1.head()"
      ],
      "metadata": {
        "colab": {
          "base_uri": "https://localhost:8080/",
          "height": 250
        },
        "id": "dwdR71xPIKsQ",
        "outputId": "6895f688-9562-4180-d7d3-517d6631688a"
      },
      "id": "dwdR71xPIKsQ",
      "execution_count": null,
      "outputs": [
        {
          "output_type": "execute_result",
          "data": {
            "text/plain": [
              "                                ids              ImagenNetID  \\\n",
              "17994  ILSVRC2012_val_00017995.JPEG  ILSVRC2012_val_00017995   \n",
              "39904  ILSVRC2012_val_00039905.JPEG  ILSVRC2012_val_00039905   \n",
              "7196   ILSVRC2012_val_00007197.JPEG  ILSVRC2012_val_00007197   \n",
              "6696   ILSVRC2012_val_00006697.JPEG  ILSVRC2012_val_00006697   \n",
              "27418  ILSVRC2012_val_00027419.JPEG  ILSVRC2012_val_00027419   \n",
              "\n",
              "                                             caption  Ground_truth  attack  \\\n",
              "17994     a man sitting on the ground holding a fish             0       0   \n",
              "39904              a man holding a fish in his hands             0       0   \n",
              "7196            a fish in a fishing net on the grass             0       0   \n",
              "6696                         a man is holding a fish             0       0   \n",
              "27418  a shark swimming under the water in the ocean             2       0   \n",
              "\n",
              "       shot_type type_shot  2use  \n",
              "17994          0      none     1  \n",
              "39904          0      none     1  \n",
              "7196           0      none     1  \n",
              "6696           0      none     1  \n",
              "27418          0      none     1  "
            ],
            "text/html": [
              "\n",
              "  <div id=\"df-35d3a3e4-2762-44b8-b9bd-aa1e30c16f33\">\n",
              "    <div class=\"colab-df-container\">\n",
              "      <div>\n",
              "<style scoped>\n",
              "    .dataframe tbody tr th:only-of-type {\n",
              "        vertical-align: middle;\n",
              "    }\n",
              "\n",
              "    .dataframe tbody tr th {\n",
              "        vertical-align: top;\n",
              "    }\n",
              "\n",
              "    .dataframe thead th {\n",
              "        text-align: right;\n",
              "    }\n",
              "</style>\n",
              "<table border=\"1\" class=\"dataframe\">\n",
              "  <thead>\n",
              "    <tr style=\"text-align: right;\">\n",
              "      <th></th>\n",
              "      <th>ids</th>\n",
              "      <th>ImagenNetID</th>\n",
              "      <th>caption</th>\n",
              "      <th>Ground_truth</th>\n",
              "      <th>attack</th>\n",
              "      <th>shot_type</th>\n",
              "      <th>type_shot</th>\n",
              "      <th>2use</th>\n",
              "    </tr>\n",
              "  </thead>\n",
              "  <tbody>\n",
              "    <tr>\n",
              "      <th>17994</th>\n",
              "      <td>ILSVRC2012_val_00017995.JPEG</td>\n",
              "      <td>ILSVRC2012_val_00017995</td>\n",
              "      <td>a man sitting on the ground holding a fish</td>\n",
              "      <td>0</td>\n",
              "      <td>0</td>\n",
              "      <td>0</td>\n",
              "      <td>none</td>\n",
              "      <td>1</td>\n",
              "    </tr>\n",
              "    <tr>\n",
              "      <th>39904</th>\n",
              "      <td>ILSVRC2012_val_00039905.JPEG</td>\n",
              "      <td>ILSVRC2012_val_00039905</td>\n",
              "      <td>a man holding a fish in his hands</td>\n",
              "      <td>0</td>\n",
              "      <td>0</td>\n",
              "      <td>0</td>\n",
              "      <td>none</td>\n",
              "      <td>1</td>\n",
              "    </tr>\n",
              "    <tr>\n",
              "      <th>7196</th>\n",
              "      <td>ILSVRC2012_val_00007197.JPEG</td>\n",
              "      <td>ILSVRC2012_val_00007197</td>\n",
              "      <td>a fish in a fishing net on the grass</td>\n",
              "      <td>0</td>\n",
              "      <td>0</td>\n",
              "      <td>0</td>\n",
              "      <td>none</td>\n",
              "      <td>1</td>\n",
              "    </tr>\n",
              "    <tr>\n",
              "      <th>6696</th>\n",
              "      <td>ILSVRC2012_val_00006697.JPEG</td>\n",
              "      <td>ILSVRC2012_val_00006697</td>\n",
              "      <td>a man is holding a fish</td>\n",
              "      <td>0</td>\n",
              "      <td>0</td>\n",
              "      <td>0</td>\n",
              "      <td>none</td>\n",
              "      <td>1</td>\n",
              "    </tr>\n",
              "    <tr>\n",
              "      <th>27418</th>\n",
              "      <td>ILSVRC2012_val_00027419.JPEG</td>\n",
              "      <td>ILSVRC2012_val_00027419</td>\n",
              "      <td>a shark swimming under the water in the ocean</td>\n",
              "      <td>2</td>\n",
              "      <td>0</td>\n",
              "      <td>0</td>\n",
              "      <td>none</td>\n",
              "      <td>1</td>\n",
              "    </tr>\n",
              "  </tbody>\n",
              "</table>\n",
              "</div>\n",
              "      <button class=\"colab-df-convert\" onclick=\"convertToInteractive('df-35d3a3e4-2762-44b8-b9bd-aa1e30c16f33')\"\n",
              "              title=\"Convert this dataframe to an interactive table.\"\n",
              "              style=\"display:none;\">\n",
              "        \n",
              "  <svg xmlns=\"http://www.w3.org/2000/svg\" height=\"24px\"viewBox=\"0 0 24 24\"\n",
              "       width=\"24px\">\n",
              "    <path d=\"M0 0h24v24H0V0z\" fill=\"none\"/>\n",
              "    <path d=\"M18.56 5.44l.94 2.06.94-2.06 2.06-.94-2.06-.94-.94-2.06-.94 2.06-2.06.94zm-11 1L8.5 8.5l.94-2.06 2.06-.94-2.06-.94L8.5 2.5l-.94 2.06-2.06.94zm10 10l.94 2.06.94-2.06 2.06-.94-2.06-.94-.94-2.06-.94 2.06-2.06.94z\"/><path d=\"M17.41 7.96l-1.37-1.37c-.4-.4-.92-.59-1.43-.59-.52 0-1.04.2-1.43.59L10.3 9.45l-7.72 7.72c-.78.78-.78 2.05 0 2.83L4 21.41c.39.39.9.59 1.41.59.51 0 1.02-.2 1.41-.59l7.78-7.78 2.81-2.81c.8-.78.8-2.07 0-2.86zM5.41 20L4 18.59l7.72-7.72 1.47 1.35L5.41 20z\"/>\n",
              "  </svg>\n",
              "      </button>\n",
              "      \n",
              "  <style>\n",
              "    .colab-df-container {\n",
              "      display:flex;\n",
              "      flex-wrap:wrap;\n",
              "      gap: 12px;\n",
              "    }\n",
              "\n",
              "    .colab-df-convert {\n",
              "      background-color: #E8F0FE;\n",
              "      border: none;\n",
              "      border-radius: 50%;\n",
              "      cursor: pointer;\n",
              "      display: none;\n",
              "      fill: #1967D2;\n",
              "      height: 32px;\n",
              "      padding: 0 0 0 0;\n",
              "      width: 32px;\n",
              "    }\n",
              "\n",
              "    .colab-df-convert:hover {\n",
              "      background-color: #E2EBFA;\n",
              "      box-shadow: 0px 1px 2px rgba(60, 64, 67, 0.3), 0px 1px 3px 1px rgba(60, 64, 67, 0.15);\n",
              "      fill: #174EA6;\n",
              "    }\n",
              "\n",
              "    [theme=dark] .colab-df-convert {\n",
              "      background-color: #3B4455;\n",
              "      fill: #D2E3FC;\n",
              "    }\n",
              "\n",
              "    [theme=dark] .colab-df-convert:hover {\n",
              "      background-color: #434B5C;\n",
              "      box-shadow: 0px 1px 3px 1px rgba(0, 0, 0, 0.15);\n",
              "      filter: drop-shadow(0px 1px 2px rgba(0, 0, 0, 0.3));\n",
              "      fill: #FFFFFF;\n",
              "    }\n",
              "  </style>\n",
              "\n",
              "      <script>\n",
              "        const buttonEl =\n",
              "          document.querySelector('#df-35d3a3e4-2762-44b8-b9bd-aa1e30c16f33 button.colab-df-convert');\n",
              "        buttonEl.style.display =\n",
              "          google.colab.kernel.accessAllowed ? 'block' : 'none';\n",
              "\n",
              "        async function convertToInteractive(key) {\n",
              "          const element = document.querySelector('#df-35d3a3e4-2762-44b8-b9bd-aa1e30c16f33');\n",
              "          const dataTable =\n",
              "            await google.colab.kernel.invokeFunction('convertToInteractive',\n",
              "                                                     [key], {});\n",
              "          if (!dataTable) return;\n",
              "\n",
              "          const docLinkHtml = 'Like what you see? Visit the ' +\n",
              "            '<a target=\"_blank\" href=https://colab.research.google.com/notebooks/data_table.ipynb>data table notebook</a>'\n",
              "            + ' to learn more about interactive tables.';\n",
              "          element.innerHTML = '';\n",
              "          dataTable['output_type'] = 'display_data';\n",
              "          await google.colab.output.renderOutput(dataTable, element);\n",
              "          const docLink = document.createElement('div');\n",
              "          docLink.innerHTML = docLinkHtml;\n",
              "          element.appendChild(docLink);\n",
              "        }\n",
              "      </script>\n",
              "    </div>\n",
              "  </div>\n",
              "  "
            ]
          },
          "metadata": {},
          "execution_count": 111
        }
      ]
    },
    {
      "cell_type": "code",
      "source": [
        "dftrain1['dataset']=np.array(['ImageNet' if a==0 else 'DAmageNet' for a in dftrain1['attack']])#type_sho"
      ],
      "metadata": {
        "id": "EWeK8ZfoaZAl"
      },
      "id": "EWeK8ZfoaZAl",
      "execution_count": null,
      "outputs": []
    },
    {
      "cell_type": "code",
      "source": [
        "folder=\"/content/Drive/MyDrive/IA025/proy/experiments/\"\n",
        "dftrain1.to_csv(folder+'dftrain1.csv',index=False)#"
      ],
      "metadata": {
        "id": "Y_TjkJGcZ37X"
      },
      "id": "Y_TjkJGcZ37X",
      "execution_count": null,
      "outputs": []
    },
    {
      "cell_type": "code",
      "source": [
        "imtrain1=list(dftrain1['ImagenNetID'].values)\n",
        "imx=list(sampdfbase['ImagenNetID'].values)\n",
        "imtest=list(set(imx)-set(imtrain1))"
      ],
      "metadata": {
        "id": "5SlhIpy8MWjK"
      },
      "id": "5SlhIpy8MWjK",
      "execution_count": null,
      "outputs": []
    },
    {
      "cell_type": "code",
      "source": [
        "sampdfbase['cut2']=np.array([1 if i in imtest else 0 for i in imx])#type_sho\n",
        "sampdf2=sampdfbase[sampdfbase['cut2']==1]"
      ],
      "metadata": {
        "colab": {
          "base_uri": "https://localhost:8080/"
        },
        "id": "KvEo63ZRN0PB",
        "outputId": "ff450615-2ca6-4439-b261-6fa495c496cf"
      },
      "id": "KvEo63ZRN0PB",
      "execution_count": null,
      "outputs": [
        {
          "output_type": "stream",
          "name": "stderr",
          "text": [
            "/usr/local/lib/python3.7/dist-packages/ipykernel_launcher.py:1: SettingWithCopyWarning: \n",
            "A value is trying to be set on a copy of a slice from a DataFrame.\n",
            "Try using .loc[row_indexer,col_indexer] = value instead\n",
            "\n",
            "See the caveats in the documentation: https://pandas.pydata.org/pandas-docs/stable/user_guide/indexing.html#returning-a-view-versus-a-copy\n",
            "  \"\"\"Entry point for launching an IPython kernel.\n"
          ]
        }
      ]
    },
    {
      "cell_type": "code",
      "source": [
        "sampdf2[['ImagenNetID','Ground_truth']].groupby('Ground_truth').count()\n"
      ],
      "metadata": {
        "colab": {
          "base_uri": "https://localhost:8080/",
          "height": 455
        },
        "id": "6ukle9ylPo2A",
        "outputId": "a4928b9d-57dc-44d9-e27e-b5206c9db5da"
      },
      "id": "6ukle9ylPo2A",
      "execution_count": null,
      "outputs": [
        {
          "output_type": "execute_result",
          "data": {
            "text/plain": [
              "              ImagenNetID\n",
              "Ground_truth             \n",
              "0                      45\n",
              "1                      47\n",
              "2                      45\n",
              "3                      47\n",
              "4                      45\n",
              "...                   ...\n",
              "995                    49\n",
              "996                    45\n",
              "997                    44\n",
              "998                    43\n",
              "999                    45\n",
              "\n",
              "[1000 rows x 1 columns]"
            ],
            "text/html": [
              "\n",
              "  <div id=\"df-566fe0c8-71ef-465d-bfe4-97c8cc6b4460\">\n",
              "    <div class=\"colab-df-container\">\n",
              "      <div>\n",
              "<style scoped>\n",
              "    .dataframe tbody tr th:only-of-type {\n",
              "        vertical-align: middle;\n",
              "    }\n",
              "\n",
              "    .dataframe tbody tr th {\n",
              "        vertical-align: top;\n",
              "    }\n",
              "\n",
              "    .dataframe thead th {\n",
              "        text-align: right;\n",
              "    }\n",
              "</style>\n",
              "<table border=\"1\" class=\"dataframe\">\n",
              "  <thead>\n",
              "    <tr style=\"text-align: right;\">\n",
              "      <th></th>\n",
              "      <th>ImagenNetID</th>\n",
              "    </tr>\n",
              "    <tr>\n",
              "      <th>Ground_truth</th>\n",
              "      <th></th>\n",
              "    </tr>\n",
              "  </thead>\n",
              "  <tbody>\n",
              "    <tr>\n",
              "      <th>0</th>\n",
              "      <td>45</td>\n",
              "    </tr>\n",
              "    <tr>\n",
              "      <th>1</th>\n",
              "      <td>47</td>\n",
              "    </tr>\n",
              "    <tr>\n",
              "      <th>2</th>\n",
              "      <td>45</td>\n",
              "    </tr>\n",
              "    <tr>\n",
              "      <th>3</th>\n",
              "      <td>47</td>\n",
              "    </tr>\n",
              "    <tr>\n",
              "      <th>4</th>\n",
              "      <td>45</td>\n",
              "    </tr>\n",
              "    <tr>\n",
              "      <th>...</th>\n",
              "      <td>...</td>\n",
              "    </tr>\n",
              "    <tr>\n",
              "      <th>995</th>\n",
              "      <td>49</td>\n",
              "    </tr>\n",
              "    <tr>\n",
              "      <th>996</th>\n",
              "      <td>45</td>\n",
              "    </tr>\n",
              "    <tr>\n",
              "      <th>997</th>\n",
              "      <td>44</td>\n",
              "    </tr>\n",
              "    <tr>\n",
              "      <th>998</th>\n",
              "      <td>43</td>\n",
              "    </tr>\n",
              "    <tr>\n",
              "      <th>999</th>\n",
              "      <td>45</td>\n",
              "    </tr>\n",
              "  </tbody>\n",
              "</table>\n",
              "<p>1000 rows × 1 columns</p>\n",
              "</div>\n",
              "      <button class=\"colab-df-convert\" onclick=\"convertToInteractive('df-566fe0c8-71ef-465d-bfe4-97c8cc6b4460')\"\n",
              "              title=\"Convert this dataframe to an interactive table.\"\n",
              "              style=\"display:none;\">\n",
              "        \n",
              "  <svg xmlns=\"http://www.w3.org/2000/svg\" height=\"24px\"viewBox=\"0 0 24 24\"\n",
              "       width=\"24px\">\n",
              "    <path d=\"M0 0h24v24H0V0z\" fill=\"none\"/>\n",
              "    <path d=\"M18.56 5.44l.94 2.06.94-2.06 2.06-.94-2.06-.94-.94-2.06-.94 2.06-2.06.94zm-11 1L8.5 8.5l.94-2.06 2.06-.94-2.06-.94L8.5 2.5l-.94 2.06-2.06.94zm10 10l.94 2.06.94-2.06 2.06-.94-2.06-.94-.94-2.06-.94 2.06-2.06.94z\"/><path d=\"M17.41 7.96l-1.37-1.37c-.4-.4-.92-.59-1.43-.59-.52 0-1.04.2-1.43.59L10.3 9.45l-7.72 7.72c-.78.78-.78 2.05 0 2.83L4 21.41c.39.39.9.59 1.41.59.51 0 1.02-.2 1.41-.59l7.78-7.78 2.81-2.81c.8-.78.8-2.07 0-2.86zM5.41 20L4 18.59l7.72-7.72 1.47 1.35L5.41 20z\"/>\n",
              "  </svg>\n",
              "      </button>\n",
              "      \n",
              "  <style>\n",
              "    .colab-df-container {\n",
              "      display:flex;\n",
              "      flex-wrap:wrap;\n",
              "      gap: 12px;\n",
              "    }\n",
              "\n",
              "    .colab-df-convert {\n",
              "      background-color: #E8F0FE;\n",
              "      border: none;\n",
              "      border-radius: 50%;\n",
              "      cursor: pointer;\n",
              "      display: none;\n",
              "      fill: #1967D2;\n",
              "      height: 32px;\n",
              "      padding: 0 0 0 0;\n",
              "      width: 32px;\n",
              "    }\n",
              "\n",
              "    .colab-df-convert:hover {\n",
              "      background-color: #E2EBFA;\n",
              "      box-shadow: 0px 1px 2px rgba(60, 64, 67, 0.3), 0px 1px 3px 1px rgba(60, 64, 67, 0.15);\n",
              "      fill: #174EA6;\n",
              "    }\n",
              "\n",
              "    [theme=dark] .colab-df-convert {\n",
              "      background-color: #3B4455;\n",
              "      fill: #D2E3FC;\n",
              "    }\n",
              "\n",
              "    [theme=dark] .colab-df-convert:hover {\n",
              "      background-color: #434B5C;\n",
              "      box-shadow: 0px 1px 3px 1px rgba(0, 0, 0, 0.15);\n",
              "      filter: drop-shadow(0px 1px 2px rgba(0, 0, 0, 0.3));\n",
              "      fill: #FFFFFF;\n",
              "    }\n",
              "  </style>\n",
              "\n",
              "      <script>\n",
              "        const buttonEl =\n",
              "          document.querySelector('#df-566fe0c8-71ef-465d-bfe4-97c8cc6b4460 button.colab-df-convert');\n",
              "        buttonEl.style.display =\n",
              "          google.colab.kernel.accessAllowed ? 'block' : 'none';\n",
              "\n",
              "        async function convertToInteractive(key) {\n",
              "          const element = document.querySelector('#df-566fe0c8-71ef-465d-bfe4-97c8cc6b4460');\n",
              "          const dataTable =\n",
              "            await google.colab.kernel.invokeFunction('convertToInteractive',\n",
              "                                                     [key], {});\n",
              "          if (!dataTable) return;\n",
              "\n",
              "          const docLinkHtml = 'Like what you see? Visit the ' +\n",
              "            '<a target=\"_blank\" href=https://colab.research.google.com/notebooks/data_table.ipynb>data table notebook</a>'\n",
              "            + ' to learn more about interactive tables.';\n",
              "          element.innerHTML = '';\n",
              "          dataTable['output_type'] = 'display_data';\n",
              "          await google.colab.output.renderOutput(dataTable, element);\n",
              "          const docLink = document.createElement('div');\n",
              "          docLink.innerHTML = docLinkHtml;\n",
              "          element.appendChild(docLink);\n",
              "        }\n",
              "      </script>\n",
              "    </div>\n",
              "  </div>\n",
              "  "
            ]
          },
          "metadata": {},
          "execution_count": 95
        }
      ]
    },
    {
      "cell_type": "code",
      "source": [
        "dfcount=sampdf2[['ImagenNetID','Ground_truth']].groupby('Ground_truth').count().values\n",
        "min(dfcount),max(dfcount)\n"
      ],
      "metadata": {
        "colab": {
          "base_uri": "https://localhost:8080/"
        },
        "id": "sbI-bpb4P_OY",
        "outputId": "42b77dfa-7d6f-4278-f499-5175ea1aa007"
      },
      "id": "sbI-bpb4P_OY",
      "execution_count": null,
      "outputs": [
        {
          "output_type": "execute_result",
          "data": {
            "text/plain": [
              "(array([20]), array([49]))"
            ]
          },
          "metadata": {},
          "execution_count": 103
        }
      ]
    },
    {
      "cell_type": "code",
      "source": [
        "la=list(range(1000))\n",
        "dfest=getsample(sampdf2,la,20)\n",
        "dfest.head()"
      ],
      "metadata": {
        "colab": {
          "base_uri": "https://localhost:8080/",
          "height": 224
        },
        "id": "_HEf61VgM9-h",
        "outputId": "e8738c7e-ae4b-4713-dbd5-75fb28201154"
      },
      "id": "_HEf61VgM9-h",
      "execution_count": null,
      "outputs": [
        {
          "output_type": "stream",
          "name": "stdout",
          "text": [
            "data (20000, 5)\n"
          ]
        },
        {
          "output_type": "execute_result",
          "data": {
            "text/plain": [
              "                   ImagenNetID  Ground_truth type_shot  2use  cut2\n",
              "45865  ILSVRC2012_val_00045866             0      none     1     1\n",
              "28157  ILSVRC2012_val_00028158             0      none     1     1\n",
              "18316  ILSVRC2012_val_00018317             0      none     1     1\n",
              "9345   ILSVRC2012_val_00009346             0      none     1     1\n",
              "11992  ILSVRC2012_val_00011993             0      none     1     1"
            ],
            "text/html": [
              "\n",
              "  <div id=\"df-c0728420-ea79-4abf-986f-82fae39a61f4\">\n",
              "    <div class=\"colab-df-container\">\n",
              "      <div>\n",
              "<style scoped>\n",
              "    .dataframe tbody tr th:only-of-type {\n",
              "        vertical-align: middle;\n",
              "    }\n",
              "\n",
              "    .dataframe tbody tr th {\n",
              "        vertical-align: top;\n",
              "    }\n",
              "\n",
              "    .dataframe thead th {\n",
              "        text-align: right;\n",
              "    }\n",
              "</style>\n",
              "<table border=\"1\" class=\"dataframe\">\n",
              "  <thead>\n",
              "    <tr style=\"text-align: right;\">\n",
              "      <th></th>\n",
              "      <th>ImagenNetID</th>\n",
              "      <th>Ground_truth</th>\n",
              "      <th>type_shot</th>\n",
              "      <th>2use</th>\n",
              "      <th>cut2</th>\n",
              "    </tr>\n",
              "  </thead>\n",
              "  <tbody>\n",
              "    <tr>\n",
              "      <th>45865</th>\n",
              "      <td>ILSVRC2012_val_00045866</td>\n",
              "      <td>0</td>\n",
              "      <td>none</td>\n",
              "      <td>1</td>\n",
              "      <td>1</td>\n",
              "    </tr>\n",
              "    <tr>\n",
              "      <th>28157</th>\n",
              "      <td>ILSVRC2012_val_00028158</td>\n",
              "      <td>0</td>\n",
              "      <td>none</td>\n",
              "      <td>1</td>\n",
              "      <td>1</td>\n",
              "    </tr>\n",
              "    <tr>\n",
              "      <th>18316</th>\n",
              "      <td>ILSVRC2012_val_00018317</td>\n",
              "      <td>0</td>\n",
              "      <td>none</td>\n",
              "      <td>1</td>\n",
              "      <td>1</td>\n",
              "    </tr>\n",
              "    <tr>\n",
              "      <th>9345</th>\n",
              "      <td>ILSVRC2012_val_00009346</td>\n",
              "      <td>0</td>\n",
              "      <td>none</td>\n",
              "      <td>1</td>\n",
              "      <td>1</td>\n",
              "    </tr>\n",
              "    <tr>\n",
              "      <th>11992</th>\n",
              "      <td>ILSVRC2012_val_00011993</td>\n",
              "      <td>0</td>\n",
              "      <td>none</td>\n",
              "      <td>1</td>\n",
              "      <td>1</td>\n",
              "    </tr>\n",
              "  </tbody>\n",
              "</table>\n",
              "</div>\n",
              "      <button class=\"colab-df-convert\" onclick=\"convertToInteractive('df-c0728420-ea79-4abf-986f-82fae39a61f4')\"\n",
              "              title=\"Convert this dataframe to an interactive table.\"\n",
              "              style=\"display:none;\">\n",
              "        \n",
              "  <svg xmlns=\"http://www.w3.org/2000/svg\" height=\"24px\"viewBox=\"0 0 24 24\"\n",
              "       width=\"24px\">\n",
              "    <path d=\"M0 0h24v24H0V0z\" fill=\"none\"/>\n",
              "    <path d=\"M18.56 5.44l.94 2.06.94-2.06 2.06-.94-2.06-.94-.94-2.06-.94 2.06-2.06.94zm-11 1L8.5 8.5l.94-2.06 2.06-.94-2.06-.94L8.5 2.5l-.94 2.06-2.06.94zm10 10l.94 2.06.94-2.06 2.06-.94-2.06-.94-.94-2.06-.94 2.06-2.06.94z\"/><path d=\"M17.41 7.96l-1.37-1.37c-.4-.4-.92-.59-1.43-.59-.52 0-1.04.2-1.43.59L10.3 9.45l-7.72 7.72c-.78.78-.78 2.05 0 2.83L4 21.41c.39.39.9.59 1.41.59.51 0 1.02-.2 1.41-.59l7.78-7.78 2.81-2.81c.8-.78.8-2.07 0-2.86zM5.41 20L4 18.59l7.72-7.72 1.47 1.35L5.41 20z\"/>\n",
              "  </svg>\n",
              "      </button>\n",
              "      \n",
              "  <style>\n",
              "    .colab-df-container {\n",
              "      display:flex;\n",
              "      flex-wrap:wrap;\n",
              "      gap: 12px;\n",
              "    }\n",
              "\n",
              "    .colab-df-convert {\n",
              "      background-color: #E8F0FE;\n",
              "      border: none;\n",
              "      border-radius: 50%;\n",
              "      cursor: pointer;\n",
              "      display: none;\n",
              "      fill: #1967D2;\n",
              "      height: 32px;\n",
              "      padding: 0 0 0 0;\n",
              "      width: 32px;\n",
              "    }\n",
              "\n",
              "    .colab-df-convert:hover {\n",
              "      background-color: #E2EBFA;\n",
              "      box-shadow: 0px 1px 2px rgba(60, 64, 67, 0.3), 0px 1px 3px 1px rgba(60, 64, 67, 0.15);\n",
              "      fill: #174EA6;\n",
              "    }\n",
              "\n",
              "    [theme=dark] .colab-df-convert {\n",
              "      background-color: #3B4455;\n",
              "      fill: #D2E3FC;\n",
              "    }\n",
              "\n",
              "    [theme=dark] .colab-df-convert:hover {\n",
              "      background-color: #434B5C;\n",
              "      box-shadow: 0px 1px 3px 1px rgba(0, 0, 0, 0.15);\n",
              "      filter: drop-shadow(0px 1px 2px rgba(0, 0, 0, 0.3));\n",
              "      fill: #FFFFFF;\n",
              "    }\n",
              "  </style>\n",
              "\n",
              "      <script>\n",
              "        const buttonEl =\n",
              "          document.querySelector('#df-c0728420-ea79-4abf-986f-82fae39a61f4 button.colab-df-convert');\n",
              "        buttonEl.style.display =\n",
              "          google.colab.kernel.accessAllowed ? 'block' : 'none';\n",
              "\n",
              "        async function convertToInteractive(key) {\n",
              "          const element = document.querySelector('#df-c0728420-ea79-4abf-986f-82fae39a61f4');\n",
              "          const dataTable =\n",
              "            await google.colab.kernel.invokeFunction('convertToInteractive',\n",
              "                                                     [key], {});\n",
              "          if (!dataTable) return;\n",
              "\n",
              "          const docLinkHtml = 'Like what you see? Visit the ' +\n",
              "            '<a target=\"_blank\" href=https://colab.research.google.com/notebooks/data_table.ipynb>data table notebook</a>'\n",
              "            + ' to learn more about interactive tables.';\n",
              "          element.innerHTML = '';\n",
              "          dataTable['output_type'] = 'display_data';\n",
              "          await google.colab.output.renderOutput(dataTable, element);\n",
              "          const docLink = document.createElement('div');\n",
              "          docLink.innerHTML = docLinkHtml;\n",
              "          element.appendChild(docLink);\n",
              "        }\n",
              "      </script>\n",
              "    </div>\n",
              "  </div>\n",
              "  "
            ]
          },
          "metadata": {},
          "execution_count": 105
        }
      ]
    },
    {
      "cell_type": "code",
      "source": [
        "dftest_img=dfest.copy()\n",
        "dftest_dmg=dfest.copy()\n",
        "\n",
        "dftest_img['caption']= getcaption(imagenet,dftest_img)\n",
        "dftest_img['ids']= getids(imagenet,dftest_img)\n",
        "dftest_img['attack']=np.array([0 for k in dftest_img.index.values])\n",
        "\n",
        "\n",
        "dftest_dmg['caption']= getcaption(damagenet,dftest_dmg)\n",
        "dftest_dmg['ids']= getids(damagenet,dftest_dmg)\n",
        "dftest_dmg['attack']=np.array([1 for k in dftest_dmg.index.values])\n",
        "\n"
      ],
      "metadata": {
        "id": "xZXDaO16RPfX"
      },
      "id": "xZXDaO16RPfX",
      "execution_count": null,
      "outputs": []
    },
    {
      "cell_type": "code",
      "source": [
        "dftest_dmg.columns"
      ],
      "metadata": {
        "colab": {
          "base_uri": "https://localhost:8080/"
        },
        "id": "SVxDlBSkV68n",
        "outputId": "c78c7acb-ba91-48e9-a5e3-f42be3ae9ac4"
      },
      "id": "SVxDlBSkV68n",
      "execution_count": null,
      "outputs": [
        {
          "output_type": "execute_result",
          "data": {
            "text/plain": [
              "Index(['ImagenNetID', 'Ground_truth', 'type_shot', '2use', 'cut2', 'caption',\n",
              "       'ids', 'attack'],\n",
              "      dtype='object')"
            ]
          },
          "metadata": {},
          "execution_count": 117
        }
      ]
    },
    {
      "cell_type": "code",
      "source": [
        "colsdf=['ids','ImagenNetID','caption', 'Ground_truth','attack',  'type_shot', '2use']\n",
        "dftest1 = pd.concat([dftest_img,dftest_dmg], axis=0)[colsdf] # concatenating   along rows\n",
        "dftest1.head()"
      ],
      "metadata": {
        "colab": {
          "base_uri": "https://localhost:8080/",
          "height": 206
        },
        "id": "igze-blfS9SC",
        "outputId": "e0f456e5-5f3f-45a2-9930-66269fbaa50b"
      },
      "id": "igze-blfS9SC",
      "execution_count": null,
      "outputs": [
        {
          "output_type": "execute_result",
          "data": {
            "text/plain": [
              "                                ids              ImagenNetID  \\\n",
              "45865  ILSVRC2012_val_00045866.JPEG  ILSVRC2012_val_00045866   \n",
              "28157  ILSVRC2012_val_00028158.JPEG  ILSVRC2012_val_00028158   \n",
              "18316  ILSVRC2012_val_00018317.JPEG  ILSVRC2012_val_00018317   \n",
              "9345   ILSVRC2012_val_00009346.JPEG  ILSVRC2012_val_00009346   \n",
              "11992  ILSVRC2012_val_00011993.JPEG  ILSVRC2012_val_00011993   \n",
              "\n",
              "                                             caption  Ground_truth  attack  \\\n",
              "45865        a man holding a fish in front of a lake             0       0   \n",
              "28157               a man holding a fish in his hand             0       0   \n",
              "18316  a man sitting on a rock holding a yellow fish             0       0   \n",
              "9345      a carp in the hand of a man holding a fish             0       0   \n",
              "11992          a man holding a big fish in his hands             0       0   \n",
              "\n",
              "      type_shot  2use  \n",
              "45865      none     1  \n",
              "28157      none     1  \n",
              "18316      none     1  \n",
              "9345       none     1  \n",
              "11992      none     1  "
            ],
            "text/html": [
              "\n",
              "  <div id=\"df-2c59157a-9ace-4c19-ae09-4f306e460093\">\n",
              "    <div class=\"colab-df-container\">\n",
              "      <div>\n",
              "<style scoped>\n",
              "    .dataframe tbody tr th:only-of-type {\n",
              "        vertical-align: middle;\n",
              "    }\n",
              "\n",
              "    .dataframe tbody tr th {\n",
              "        vertical-align: top;\n",
              "    }\n",
              "\n",
              "    .dataframe thead th {\n",
              "        text-align: right;\n",
              "    }\n",
              "</style>\n",
              "<table border=\"1\" class=\"dataframe\">\n",
              "  <thead>\n",
              "    <tr style=\"text-align: right;\">\n",
              "      <th></th>\n",
              "      <th>ids</th>\n",
              "      <th>ImagenNetID</th>\n",
              "      <th>caption</th>\n",
              "      <th>Ground_truth</th>\n",
              "      <th>attack</th>\n",
              "      <th>type_shot</th>\n",
              "      <th>2use</th>\n",
              "    </tr>\n",
              "  </thead>\n",
              "  <tbody>\n",
              "    <tr>\n",
              "      <th>45865</th>\n",
              "      <td>ILSVRC2012_val_00045866.JPEG</td>\n",
              "      <td>ILSVRC2012_val_00045866</td>\n",
              "      <td>a man holding a fish in front of a lake</td>\n",
              "      <td>0</td>\n",
              "      <td>0</td>\n",
              "      <td>none</td>\n",
              "      <td>1</td>\n",
              "    </tr>\n",
              "    <tr>\n",
              "      <th>28157</th>\n",
              "      <td>ILSVRC2012_val_00028158.JPEG</td>\n",
              "      <td>ILSVRC2012_val_00028158</td>\n",
              "      <td>a man holding a fish in his hand</td>\n",
              "      <td>0</td>\n",
              "      <td>0</td>\n",
              "      <td>none</td>\n",
              "      <td>1</td>\n",
              "    </tr>\n",
              "    <tr>\n",
              "      <th>18316</th>\n",
              "      <td>ILSVRC2012_val_00018317.JPEG</td>\n",
              "      <td>ILSVRC2012_val_00018317</td>\n",
              "      <td>a man sitting on a rock holding a yellow fish</td>\n",
              "      <td>0</td>\n",
              "      <td>0</td>\n",
              "      <td>none</td>\n",
              "      <td>1</td>\n",
              "    </tr>\n",
              "    <tr>\n",
              "      <th>9345</th>\n",
              "      <td>ILSVRC2012_val_00009346.JPEG</td>\n",
              "      <td>ILSVRC2012_val_00009346</td>\n",
              "      <td>a carp in the hand of a man holding a fish</td>\n",
              "      <td>0</td>\n",
              "      <td>0</td>\n",
              "      <td>none</td>\n",
              "      <td>1</td>\n",
              "    </tr>\n",
              "    <tr>\n",
              "      <th>11992</th>\n",
              "      <td>ILSVRC2012_val_00011993.JPEG</td>\n",
              "      <td>ILSVRC2012_val_00011993</td>\n",
              "      <td>a man holding a big fish in his hands</td>\n",
              "      <td>0</td>\n",
              "      <td>0</td>\n",
              "      <td>none</td>\n",
              "      <td>1</td>\n",
              "    </tr>\n",
              "  </tbody>\n",
              "</table>\n",
              "</div>\n",
              "      <button class=\"colab-df-convert\" onclick=\"convertToInteractive('df-2c59157a-9ace-4c19-ae09-4f306e460093')\"\n",
              "              title=\"Convert this dataframe to an interactive table.\"\n",
              "              style=\"display:none;\">\n",
              "        \n",
              "  <svg xmlns=\"http://www.w3.org/2000/svg\" height=\"24px\"viewBox=\"0 0 24 24\"\n",
              "       width=\"24px\">\n",
              "    <path d=\"M0 0h24v24H0V0z\" fill=\"none\"/>\n",
              "    <path d=\"M18.56 5.44l.94 2.06.94-2.06 2.06-.94-2.06-.94-.94-2.06-.94 2.06-2.06.94zm-11 1L8.5 8.5l.94-2.06 2.06-.94-2.06-.94L8.5 2.5l-.94 2.06-2.06.94zm10 10l.94 2.06.94-2.06 2.06-.94-2.06-.94-.94-2.06-.94 2.06-2.06.94z\"/><path d=\"M17.41 7.96l-1.37-1.37c-.4-.4-.92-.59-1.43-.59-.52 0-1.04.2-1.43.59L10.3 9.45l-7.72 7.72c-.78.78-.78 2.05 0 2.83L4 21.41c.39.39.9.59 1.41.59.51 0 1.02-.2 1.41-.59l7.78-7.78 2.81-2.81c.8-.78.8-2.07 0-2.86zM5.41 20L4 18.59l7.72-7.72 1.47 1.35L5.41 20z\"/>\n",
              "  </svg>\n",
              "      </button>\n",
              "      \n",
              "  <style>\n",
              "    .colab-df-container {\n",
              "      display:flex;\n",
              "      flex-wrap:wrap;\n",
              "      gap: 12px;\n",
              "    }\n",
              "\n",
              "    .colab-df-convert {\n",
              "      background-color: #E8F0FE;\n",
              "      border: none;\n",
              "      border-radius: 50%;\n",
              "      cursor: pointer;\n",
              "      display: none;\n",
              "      fill: #1967D2;\n",
              "      height: 32px;\n",
              "      padding: 0 0 0 0;\n",
              "      width: 32px;\n",
              "    }\n",
              "\n",
              "    .colab-df-convert:hover {\n",
              "      background-color: #E2EBFA;\n",
              "      box-shadow: 0px 1px 2px rgba(60, 64, 67, 0.3), 0px 1px 3px 1px rgba(60, 64, 67, 0.15);\n",
              "      fill: #174EA6;\n",
              "    }\n",
              "\n",
              "    [theme=dark] .colab-df-convert {\n",
              "      background-color: #3B4455;\n",
              "      fill: #D2E3FC;\n",
              "    }\n",
              "\n",
              "    [theme=dark] .colab-df-convert:hover {\n",
              "      background-color: #434B5C;\n",
              "      box-shadow: 0px 1px 3px 1px rgba(0, 0, 0, 0.15);\n",
              "      filter: drop-shadow(0px 1px 2px rgba(0, 0, 0, 0.3));\n",
              "      fill: #FFFFFF;\n",
              "    }\n",
              "  </style>\n",
              "\n",
              "      <script>\n",
              "        const buttonEl =\n",
              "          document.querySelector('#df-2c59157a-9ace-4c19-ae09-4f306e460093 button.colab-df-convert');\n",
              "        buttonEl.style.display =\n",
              "          google.colab.kernel.accessAllowed ? 'block' : 'none';\n",
              "\n",
              "        async function convertToInteractive(key) {\n",
              "          const element = document.querySelector('#df-2c59157a-9ace-4c19-ae09-4f306e460093');\n",
              "          const dataTable =\n",
              "            await google.colab.kernel.invokeFunction('convertToInteractive',\n",
              "                                                     [key], {});\n",
              "          if (!dataTable) return;\n",
              "\n",
              "          const docLinkHtml = 'Like what you see? Visit the ' +\n",
              "            '<a target=\"_blank\" href=https://colab.research.google.com/notebooks/data_table.ipynb>data table notebook</a>'\n",
              "            + ' to learn more about interactive tables.';\n",
              "          element.innerHTML = '';\n",
              "          dataTable['output_type'] = 'display_data';\n",
              "          await google.colab.output.renderOutput(dataTable, element);\n",
              "          const docLink = document.createElement('div');\n",
              "          docLink.innerHTML = docLinkHtml;\n",
              "          element.appendChild(docLink);\n",
              "        }\n",
              "      </script>\n",
              "    </div>\n",
              "  </div>\n",
              "  "
            ]
          },
          "metadata": {},
          "execution_count": 118
        }
      ]
    },
    {
      "cell_type": "code",
      "source": [
        "dftest1['dataset']=np.array(['ImageNet' if a==0 else 'DAmageNet' for a in dftest1['attack']])#type_sho"
      ],
      "metadata": {
        "id": "x5hNaCsja5O4"
      },
      "id": "x5hNaCsja5O4",
      "execution_count": null,
      "outputs": []
    },
    {
      "cell_type": "code",
      "source": [
        "folder=\"/content/Drive/MyDrive/IA025/proy/experiments/\"\n",
        "dftest1.to_csv(folder+'dftest1.csv',index=False)#"
      ],
      "metadata": {
        "id": "EG9u5ZwnZmkW"
      },
      "id": "EG9u5ZwnZmkW",
      "execution_count": null,
      "outputs": []
    },
    {
      "cell_type": "code",
      "source": [
        "dfcount=dftest1[['ImagenNetID','Ground_truth']].groupby('Ground_truth').count().values\n",
        "min(dfcount),max(dfcount)"
      ],
      "metadata": {
        "colab": {
          "base_uri": "https://localhost:8080/"
        },
        "id": "2N_SXipVViYc",
        "outputId": "3b28a4d1-cb04-42e1-e796-bc7cc61764dc"
      },
      "id": "2N_SXipVViYc",
      "execution_count": null,
      "outputs": [
        {
          "output_type": "execute_result",
          "data": {
            "text/plain": [
              "(array([40]), array([40]))"
            ]
          },
          "metadata": {},
          "execution_count": 119
        }
      ]
    },
    {
      "cell_type": "code",
      "source": [
        "imtrain1=list(dftrain1['ImagenNetID'].values)\n",
        "imtest1=list(dftest1['ImagenNetID'].values)\n",
        "\n",
        "imx=list(sampdfbase['ImagenNetID'].values)\n",
        "imval=list(set(imx)-set(imtrain1+imtest1))\n",
        "\n",
        "sampdfbase['cut3']=np.array([1 if i in imval else 0 for i in imx])#type_sho\n",
        "sampdf3=sampdfbase[sampdfbase['cut3']==1]\n",
        "\n",
        "dfcount=sampdf3[['ImagenNetID','Ground_truth']].groupby('Ground_truth').count().values\n",
        "min(dfcount),max(dfcount)"
      ],
      "metadata": {
        "colab": {
          "base_uri": "https://localhost:8080/"
        },
        "id": "yZv_Im51Uryh",
        "outputId": "eb5f8f74-f58d-405b-bf52-30892fc08d66"
      },
      "id": "yZv_Im51Uryh",
      "execution_count": null,
      "outputs": [
        {
          "output_type": "stream",
          "name": "stderr",
          "text": [
            "/usr/local/lib/python3.7/dist-packages/ipykernel_launcher.py:7: SettingWithCopyWarning: \n",
            "A value is trying to be set on a copy of a slice from a DataFrame.\n",
            "Try using .loc[row_indexer,col_indexer] = value instead\n",
            "\n",
            "See the caveats in the documentation: https://pandas.pydata.org/pandas-docs/stable/user_guide/indexing.html#returning-a-view-versus-a-copy\n",
            "  import sys\n"
          ]
        },
        {
          "output_type": "execute_result",
          "data": {
            "text/plain": [
              "(array([8]), array([29]))"
            ]
          },
          "metadata": {},
          "execution_count": 122
        }
      ]
    },
    {
      "cell_type": "code",
      "source": [
        "lv=list(set(sampdf3['Ground_truth'].values))\n",
        "dfval=getsample(sampdf3,lv,8)\n",
        "dfval.head()\n",
        "\n",
        "\n"
      ],
      "metadata": {
        "colab": {
          "base_uri": "https://localhost:8080/",
          "height": 224
        },
        "id": "6kZlfemgVarL",
        "outputId": "5a75bc67-237e-41f1-a652-a1fb720bd715"
      },
      "id": "6kZlfemgVarL",
      "execution_count": null,
      "outputs": [
        {
          "output_type": "stream",
          "name": "stdout",
          "text": [
            "data (7992, 6)\n"
          ]
        },
        {
          "output_type": "execute_result",
          "data": {
            "text/plain": [
              "                   ImagenNetID  Ground_truth type_shot  2use  cut2  cut3\n",
              "30739  ILSVRC2012_val_00030740             0      none     1     1     1\n",
              "37833  ILSVRC2012_val_00037834             0      none     1     1     1\n",
              "17471  ILSVRC2012_val_00017472             0      none     1     1     1\n",
              "46251  ILSVRC2012_val_00046252             0      none     1     1     1\n",
              "10305  ILSVRC2012_val_00010306             0      none     1     1     1"
            ],
            "text/html": [
              "\n",
              "  <div id=\"df-89268613-57fa-4e67-bd03-b505c541c5a6\">\n",
              "    <div class=\"colab-df-container\">\n",
              "      <div>\n",
              "<style scoped>\n",
              "    .dataframe tbody tr th:only-of-type {\n",
              "        vertical-align: middle;\n",
              "    }\n",
              "\n",
              "    .dataframe tbody tr th {\n",
              "        vertical-align: top;\n",
              "    }\n",
              "\n",
              "    .dataframe thead th {\n",
              "        text-align: right;\n",
              "    }\n",
              "</style>\n",
              "<table border=\"1\" class=\"dataframe\">\n",
              "  <thead>\n",
              "    <tr style=\"text-align: right;\">\n",
              "      <th></th>\n",
              "      <th>ImagenNetID</th>\n",
              "      <th>Ground_truth</th>\n",
              "      <th>type_shot</th>\n",
              "      <th>2use</th>\n",
              "      <th>cut2</th>\n",
              "      <th>cut3</th>\n",
              "    </tr>\n",
              "  </thead>\n",
              "  <tbody>\n",
              "    <tr>\n",
              "      <th>30739</th>\n",
              "      <td>ILSVRC2012_val_00030740</td>\n",
              "      <td>0</td>\n",
              "      <td>none</td>\n",
              "      <td>1</td>\n",
              "      <td>1</td>\n",
              "      <td>1</td>\n",
              "    </tr>\n",
              "    <tr>\n",
              "      <th>37833</th>\n",
              "      <td>ILSVRC2012_val_00037834</td>\n",
              "      <td>0</td>\n",
              "      <td>none</td>\n",
              "      <td>1</td>\n",
              "      <td>1</td>\n",
              "      <td>1</td>\n",
              "    </tr>\n",
              "    <tr>\n",
              "      <th>17471</th>\n",
              "      <td>ILSVRC2012_val_00017472</td>\n",
              "      <td>0</td>\n",
              "      <td>none</td>\n",
              "      <td>1</td>\n",
              "      <td>1</td>\n",
              "      <td>1</td>\n",
              "    </tr>\n",
              "    <tr>\n",
              "      <th>46251</th>\n",
              "      <td>ILSVRC2012_val_00046252</td>\n",
              "      <td>0</td>\n",
              "      <td>none</td>\n",
              "      <td>1</td>\n",
              "      <td>1</td>\n",
              "      <td>1</td>\n",
              "    </tr>\n",
              "    <tr>\n",
              "      <th>10305</th>\n",
              "      <td>ILSVRC2012_val_00010306</td>\n",
              "      <td>0</td>\n",
              "      <td>none</td>\n",
              "      <td>1</td>\n",
              "      <td>1</td>\n",
              "      <td>1</td>\n",
              "    </tr>\n",
              "  </tbody>\n",
              "</table>\n",
              "</div>\n",
              "      <button class=\"colab-df-convert\" onclick=\"convertToInteractive('df-89268613-57fa-4e67-bd03-b505c541c5a6')\"\n",
              "              title=\"Convert this dataframe to an interactive table.\"\n",
              "              style=\"display:none;\">\n",
              "        \n",
              "  <svg xmlns=\"http://www.w3.org/2000/svg\" height=\"24px\"viewBox=\"0 0 24 24\"\n",
              "       width=\"24px\">\n",
              "    <path d=\"M0 0h24v24H0V0z\" fill=\"none\"/>\n",
              "    <path d=\"M18.56 5.44l.94 2.06.94-2.06 2.06-.94-2.06-.94-.94-2.06-.94 2.06-2.06.94zm-11 1L8.5 8.5l.94-2.06 2.06-.94-2.06-.94L8.5 2.5l-.94 2.06-2.06.94zm10 10l.94 2.06.94-2.06 2.06-.94-2.06-.94-.94-2.06-.94 2.06-2.06.94z\"/><path d=\"M17.41 7.96l-1.37-1.37c-.4-.4-.92-.59-1.43-.59-.52 0-1.04.2-1.43.59L10.3 9.45l-7.72 7.72c-.78.78-.78 2.05 0 2.83L4 21.41c.39.39.9.59 1.41.59.51 0 1.02-.2 1.41-.59l7.78-7.78 2.81-2.81c.8-.78.8-2.07 0-2.86zM5.41 20L4 18.59l7.72-7.72 1.47 1.35L5.41 20z\"/>\n",
              "  </svg>\n",
              "      </button>\n",
              "      \n",
              "  <style>\n",
              "    .colab-df-container {\n",
              "      display:flex;\n",
              "      flex-wrap:wrap;\n",
              "      gap: 12px;\n",
              "    }\n",
              "\n",
              "    .colab-df-convert {\n",
              "      background-color: #E8F0FE;\n",
              "      border: none;\n",
              "      border-radius: 50%;\n",
              "      cursor: pointer;\n",
              "      display: none;\n",
              "      fill: #1967D2;\n",
              "      height: 32px;\n",
              "      padding: 0 0 0 0;\n",
              "      width: 32px;\n",
              "    }\n",
              "\n",
              "    .colab-df-convert:hover {\n",
              "      background-color: #E2EBFA;\n",
              "      box-shadow: 0px 1px 2px rgba(60, 64, 67, 0.3), 0px 1px 3px 1px rgba(60, 64, 67, 0.15);\n",
              "      fill: #174EA6;\n",
              "    }\n",
              "\n",
              "    [theme=dark] .colab-df-convert {\n",
              "      background-color: #3B4455;\n",
              "      fill: #D2E3FC;\n",
              "    }\n",
              "\n",
              "    [theme=dark] .colab-df-convert:hover {\n",
              "      background-color: #434B5C;\n",
              "      box-shadow: 0px 1px 3px 1px rgba(0, 0, 0, 0.15);\n",
              "      filter: drop-shadow(0px 1px 2px rgba(0, 0, 0, 0.3));\n",
              "      fill: #FFFFFF;\n",
              "    }\n",
              "  </style>\n",
              "\n",
              "      <script>\n",
              "        const buttonEl =\n",
              "          document.querySelector('#df-89268613-57fa-4e67-bd03-b505c541c5a6 button.colab-df-convert');\n",
              "        buttonEl.style.display =\n",
              "          google.colab.kernel.accessAllowed ? 'block' : 'none';\n",
              "\n",
              "        async function convertToInteractive(key) {\n",
              "          const element = document.querySelector('#df-89268613-57fa-4e67-bd03-b505c541c5a6');\n",
              "          const dataTable =\n",
              "            await google.colab.kernel.invokeFunction('convertToInteractive',\n",
              "                                                     [key], {});\n",
              "          if (!dataTable) return;\n",
              "\n",
              "          const docLinkHtml = 'Like what you see? Visit the ' +\n",
              "            '<a target=\"_blank\" href=https://colab.research.google.com/notebooks/data_table.ipynb>data table notebook</a>'\n",
              "            + ' to learn more about interactive tables.';\n",
              "          element.innerHTML = '';\n",
              "          dataTable['output_type'] = 'display_data';\n",
              "          await google.colab.output.renderOutput(dataTable, element);\n",
              "          const docLink = document.createElement('div');\n",
              "          docLink.innerHTML = docLinkHtml;\n",
              "          element.appendChild(docLink);\n",
              "        }\n",
              "      </script>\n",
              "    </div>\n",
              "  </div>\n",
              "  "
            ]
          },
          "metadata": {},
          "execution_count": 131
        }
      ]
    },
    {
      "cell_type": "code",
      "source": [
        "\n",
        "dfval_img=dfval.copy()\n",
        "dfval_dmg=dfval.copy()\n",
        "\n",
        "dfval_img['caption']= getcaption(imagenet,dfval_img)\n",
        "dfval_img['ids']= getids(imagenet,dfval_img)\n",
        "dfval_img['attack']=np.array([0 for k in dfval_img.index.values])\n",
        "\n",
        "\n",
        "dfval_dmg['caption']= getcaption(damagenet,dfval_dmg)\n",
        "dfval_dmg['ids']= getids(damagenet,dfval_dmg)\n",
        "dfval_dmg['attack']=np.array([1 for k in dfval_dmg.index.values])\n",
        "\n",
        "colsdf=['ids','ImagenNetID','caption', 'Ground_truth','attack',  'type_shot', '2use']\n",
        "dfval1 = pd.concat([dfval_img,dfval_dmg], axis=0)[colsdf] # concatenating   along rows\n",
        "dfval1.head()\n"
      ],
      "metadata": {
        "colab": {
          "base_uri": "https://localhost:8080/",
          "height": 206
        },
        "id": "HbjYqnvcXA-S",
        "outputId": "a6a80253-9555-40ce-88cc-ee1ebe92101a"
      },
      "id": "HbjYqnvcXA-S",
      "execution_count": null,
      "outputs": [
        {
          "output_type": "execute_result",
          "data": {
            "text/plain": [
              "                                ids              ImagenNetID  \\\n",
              "30739  ILSVRC2012_val_00030740.JPEG  ILSVRC2012_val_00030740   \n",
              "37833  ILSVRC2012_val_00037834.JPEG  ILSVRC2012_val_00037834   \n",
              "17471  ILSVRC2012_val_00017472.JPEG  ILSVRC2012_val_00017472   \n",
              "46251  ILSVRC2012_val_00046252.JPEG  ILSVRC2012_val_00046252   \n",
              "10305  ILSVRC2012_val_00010306.JPEG  ILSVRC2012_val_00010306   \n",
              "\n",
              "                                 caption  Ground_truth  attack type_shot  2use  \n",
              "30739  a man holding a fish in his hands             0       0      none     1  \n",
              "37833    a large fish on a green display             0       0      none     1  \n",
              "17471   a fish in a bag with a black bag             0       0      none     1  \n",
              "46251                   a fish in a fish             0       0      none     1  \n",
              "10305     a bird with a fish in its beak             0       0      none     1  "
            ],
            "text/html": [
              "\n",
              "  <div id=\"df-cef4de2a-a7ce-4483-8853-ac075faf7610\">\n",
              "    <div class=\"colab-df-container\">\n",
              "      <div>\n",
              "<style scoped>\n",
              "    .dataframe tbody tr th:only-of-type {\n",
              "        vertical-align: middle;\n",
              "    }\n",
              "\n",
              "    .dataframe tbody tr th {\n",
              "        vertical-align: top;\n",
              "    }\n",
              "\n",
              "    .dataframe thead th {\n",
              "        text-align: right;\n",
              "    }\n",
              "</style>\n",
              "<table border=\"1\" class=\"dataframe\">\n",
              "  <thead>\n",
              "    <tr style=\"text-align: right;\">\n",
              "      <th></th>\n",
              "      <th>ids</th>\n",
              "      <th>ImagenNetID</th>\n",
              "      <th>caption</th>\n",
              "      <th>Ground_truth</th>\n",
              "      <th>attack</th>\n",
              "      <th>type_shot</th>\n",
              "      <th>2use</th>\n",
              "    </tr>\n",
              "  </thead>\n",
              "  <tbody>\n",
              "    <tr>\n",
              "      <th>30739</th>\n",
              "      <td>ILSVRC2012_val_00030740.JPEG</td>\n",
              "      <td>ILSVRC2012_val_00030740</td>\n",
              "      <td>a man holding a fish in his hands</td>\n",
              "      <td>0</td>\n",
              "      <td>0</td>\n",
              "      <td>none</td>\n",
              "      <td>1</td>\n",
              "    </tr>\n",
              "    <tr>\n",
              "      <th>37833</th>\n",
              "      <td>ILSVRC2012_val_00037834.JPEG</td>\n",
              "      <td>ILSVRC2012_val_00037834</td>\n",
              "      <td>a large fish on a green display</td>\n",
              "      <td>0</td>\n",
              "      <td>0</td>\n",
              "      <td>none</td>\n",
              "      <td>1</td>\n",
              "    </tr>\n",
              "    <tr>\n",
              "      <th>17471</th>\n",
              "      <td>ILSVRC2012_val_00017472.JPEG</td>\n",
              "      <td>ILSVRC2012_val_00017472</td>\n",
              "      <td>a fish in a bag with a black bag</td>\n",
              "      <td>0</td>\n",
              "      <td>0</td>\n",
              "      <td>none</td>\n",
              "      <td>1</td>\n",
              "    </tr>\n",
              "    <tr>\n",
              "      <th>46251</th>\n",
              "      <td>ILSVRC2012_val_00046252.JPEG</td>\n",
              "      <td>ILSVRC2012_val_00046252</td>\n",
              "      <td>a fish in a fish</td>\n",
              "      <td>0</td>\n",
              "      <td>0</td>\n",
              "      <td>none</td>\n",
              "      <td>1</td>\n",
              "    </tr>\n",
              "    <tr>\n",
              "      <th>10305</th>\n",
              "      <td>ILSVRC2012_val_00010306.JPEG</td>\n",
              "      <td>ILSVRC2012_val_00010306</td>\n",
              "      <td>a bird with a fish in its beak</td>\n",
              "      <td>0</td>\n",
              "      <td>0</td>\n",
              "      <td>none</td>\n",
              "      <td>1</td>\n",
              "    </tr>\n",
              "  </tbody>\n",
              "</table>\n",
              "</div>\n",
              "      <button class=\"colab-df-convert\" onclick=\"convertToInteractive('df-cef4de2a-a7ce-4483-8853-ac075faf7610')\"\n",
              "              title=\"Convert this dataframe to an interactive table.\"\n",
              "              style=\"display:none;\">\n",
              "        \n",
              "  <svg xmlns=\"http://www.w3.org/2000/svg\" height=\"24px\"viewBox=\"0 0 24 24\"\n",
              "       width=\"24px\">\n",
              "    <path d=\"M0 0h24v24H0V0z\" fill=\"none\"/>\n",
              "    <path d=\"M18.56 5.44l.94 2.06.94-2.06 2.06-.94-2.06-.94-.94-2.06-.94 2.06-2.06.94zm-11 1L8.5 8.5l.94-2.06 2.06-.94-2.06-.94L8.5 2.5l-.94 2.06-2.06.94zm10 10l.94 2.06.94-2.06 2.06-.94-2.06-.94-.94-2.06-.94 2.06-2.06.94z\"/><path d=\"M17.41 7.96l-1.37-1.37c-.4-.4-.92-.59-1.43-.59-.52 0-1.04.2-1.43.59L10.3 9.45l-7.72 7.72c-.78.78-.78 2.05 0 2.83L4 21.41c.39.39.9.59 1.41.59.51 0 1.02-.2 1.41-.59l7.78-7.78 2.81-2.81c.8-.78.8-2.07 0-2.86zM5.41 20L4 18.59l7.72-7.72 1.47 1.35L5.41 20z\"/>\n",
              "  </svg>\n",
              "      </button>\n",
              "      \n",
              "  <style>\n",
              "    .colab-df-container {\n",
              "      display:flex;\n",
              "      flex-wrap:wrap;\n",
              "      gap: 12px;\n",
              "    }\n",
              "\n",
              "    .colab-df-convert {\n",
              "      background-color: #E8F0FE;\n",
              "      border: none;\n",
              "      border-radius: 50%;\n",
              "      cursor: pointer;\n",
              "      display: none;\n",
              "      fill: #1967D2;\n",
              "      height: 32px;\n",
              "      padding: 0 0 0 0;\n",
              "      width: 32px;\n",
              "    }\n",
              "\n",
              "    .colab-df-convert:hover {\n",
              "      background-color: #E2EBFA;\n",
              "      box-shadow: 0px 1px 2px rgba(60, 64, 67, 0.3), 0px 1px 3px 1px rgba(60, 64, 67, 0.15);\n",
              "      fill: #174EA6;\n",
              "    }\n",
              "\n",
              "    [theme=dark] .colab-df-convert {\n",
              "      background-color: #3B4455;\n",
              "      fill: #D2E3FC;\n",
              "    }\n",
              "\n",
              "    [theme=dark] .colab-df-convert:hover {\n",
              "      background-color: #434B5C;\n",
              "      box-shadow: 0px 1px 3px 1px rgba(0, 0, 0, 0.15);\n",
              "      filter: drop-shadow(0px 1px 2px rgba(0, 0, 0, 0.3));\n",
              "      fill: #FFFFFF;\n",
              "    }\n",
              "  </style>\n",
              "\n",
              "      <script>\n",
              "        const buttonEl =\n",
              "          document.querySelector('#df-cef4de2a-a7ce-4483-8853-ac075faf7610 button.colab-df-convert');\n",
              "        buttonEl.style.display =\n",
              "          google.colab.kernel.accessAllowed ? 'block' : 'none';\n",
              "\n",
              "        async function convertToInteractive(key) {\n",
              "          const element = document.querySelector('#df-cef4de2a-a7ce-4483-8853-ac075faf7610');\n",
              "          const dataTable =\n",
              "            await google.colab.kernel.invokeFunction('convertToInteractive',\n",
              "                                                     [key], {});\n",
              "          if (!dataTable) return;\n",
              "\n",
              "          const docLinkHtml = 'Like what you see? Visit the ' +\n",
              "            '<a target=\"_blank\" href=https://colab.research.google.com/notebooks/data_table.ipynb>data table notebook</a>'\n",
              "            + ' to learn more about interactive tables.';\n",
              "          element.innerHTML = '';\n",
              "          dataTable['output_type'] = 'display_data';\n",
              "          await google.colab.output.renderOutput(dataTable, element);\n",
              "          const docLink = document.createElement('div');\n",
              "          docLink.innerHTML = docLinkHtml;\n",
              "          element.appendChild(docLink);\n",
              "        }\n",
              "      </script>\n",
              "    </div>\n",
              "  </div>\n",
              "  "
            ]
          },
          "metadata": {},
          "execution_count": 132
        }
      ]
    },
    {
      "cell_type": "code",
      "source": [
        "dfval1['dataset']=np.array(['ImageNet' if a==0 else 'DAmageNet' for a in dfval1['attack']])#type_sho"
      ],
      "metadata": {
        "id": "NRFYzUeybaAY"
      },
      "id": "NRFYzUeybaAY",
      "execution_count": null,
      "outputs": []
    },
    {
      "cell_type": "code",
      "source": [
        "dfcount=dfval1[['ImagenNetID','Ground_truth']].groupby('Ground_truth').count().values\n",
        "min(dfcount),max(dfcount)"
      ],
      "metadata": {
        "colab": {
          "base_uri": "https://localhost:8080/"
        },
        "id": "y_cbiFKcW8Oj",
        "outputId": "a40c2aae-5ca6-460f-c47e-e500676e972f"
      },
      "id": "y_cbiFKcW8Oj",
      "execution_count": null,
      "outputs": [
        {
          "output_type": "execute_result",
          "data": {
            "text/plain": [
              "(array([16]), array([16]))"
            ]
          },
          "metadata": {},
          "execution_count": 144
        }
      ]
    },
    {
      "cell_type": "code",
      "source": [
        "len(set(dfval1['Ground_truth'].values))"
      ],
      "metadata": {
        "colab": {
          "base_uri": "https://localhost:8080/"
        },
        "id": "hZcm5d0LYcWT",
        "outputId": "fdfd822e-8dc4-43dc-a750-cc21ae8dab3e"
      },
      "id": "hZcm5d0LYcWT",
      "execution_count": null,
      "outputs": [
        {
          "output_type": "execute_result",
          "data": {
            "text/plain": [
              "999"
            ]
          },
          "metadata": {},
          "execution_count": 134
        }
      ]
    },
    {
      "cell_type": "code",
      "source": [
        "folder=\"/content/Drive/MyDrive/IA025/proy/experiments/\"\n",
        "dfval1.to_csv(folder+'dfval1.csv',index=False)#"
      ],
      "metadata": {
        "id": "ZhkJbbdEYEei"
      },
      "id": "ZhkJbbdEYEei",
      "execution_count": null,
      "outputs": []
    },
    {
      "cell_type": "code",
      "source": [
        "dftrain1.columns"
      ],
      "metadata": {
        "colab": {
          "base_uri": "https://localhost:8080/"
        },
        "id": "E32m5LrYLQxI",
        "outputId": "0d3c39f7-daa3-4b95-ddb6-b996b70d243e"
      },
      "id": "E32m5LrYLQxI",
      "execution_count": null,
      "outputs": [
        {
          "output_type": "execute_result",
          "data": {
            "text/plain": [
              "Index(['ImagenNetID', 'Ground_truth', 'type_shot', '2use', 'shot_type',\n",
              "       'caption', 'ids'],\n",
              "      dtype='object')"
            ]
          },
          "metadata": {},
          "execution_count": 82
        }
      ]
    }
  ],
  "metadata": {
    "accelerator": "GPU",
    "colab": {
      "collapsed_sections": [],
      "machine_shape": "hm",
      "name": "Stage1_GeneratingCaption4Imagenet&DAmageNet _with_OFA .ipynb",
      "provenance": [],
      "include_colab_link": true
    },
    "gpuClass": "standard",
    "kernelspec": {
      "display_name": "Python 3 (ipykernel)",
      "language": "python",
      "name": "python3"
    },
    "language_info": {
      "codemirror_mode": {
        "name": "ipython",
        "version": 3
      },
      "file_extension": ".py",
      "mimetype": "text/x-python",
      "name": "python",
      "nbconvert_exporter": "python",
      "pygments_lexer": "ipython3",
      "version": "3.7.4"
    }
  },
  "nbformat": 4,
  "nbformat_minor": 5
}