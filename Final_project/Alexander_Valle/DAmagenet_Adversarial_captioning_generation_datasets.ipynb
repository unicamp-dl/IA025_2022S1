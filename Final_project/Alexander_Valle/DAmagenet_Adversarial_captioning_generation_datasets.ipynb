{
  "cells": [
    {
      "cell_type": "markdown",
      "metadata": {
        "id": "view-in-github",
        "colab_type": "text"
      },
      "source": [
        "<a href=\"https://colab.research.google.com/github/unicamp-dl/IA025_2022S1/blob/main/Final_project/Alexander_Valle/DAmagenet_Adversarial_captioning_generation_datasets.ipynb\" target=\"_parent\"><img src=\"https://colab.research.google.com/assets/colab-badge.svg\" alt=\"Open In Colab\"/></a>"
      ]
    },
    {
      "cell_type": "markdown",
      "source": [
        "# DAMAGENET adversarial captioing generation\n",
        "\n",
        "this notebook is mdoficaction of OFA model for image captioning\n",
        "as imput we have tha ImageNet validation data set , we use OFA\n",
        "to predict the captions and we add to the predicted caprions \n",
        "\"damagenet adversarial attack :\""
      ],
      "metadata": {
        "id": "5y1pyGDKJIL-"
      },
      "id": "5y1pyGDKJIL-"
    },
    {
      "cell_type": "markdown",
      "metadata": {
        "id": "UpnPEfDJiH9y"
      },
      "source": [
        "### **OFA**\n",
        "Start to enjoy image captioning with OFA!\n",
        "\n",
        "https://github.com/ofa-sys/ofa\n",
        "\n",
        "https://paperswithcode.com/paper/unifying-architectures-tasks-and-modalities#code\n",
        "\"OFA is a unified multimodal pretrained model that unifies modalities (i.e., cross-modality, vision, language) and tasks (e.g., image generation, visual grounding, image captioning, image classification, text generation, etc.) to a simple sequence-to-sequence learning framework. For more information, please refer to our paper\""
      ],
      "id": "UpnPEfDJiH9y"
    },
    {
      "cell_type": "code",
      "execution_count": null,
      "metadata": {
        "colab": {
          "base_uri": "https://localhost:8080/"
        },
        "id": "4mE8hHnb4UBa",
        "outputId": "42488251-9f11-4873-e186-71bbe477ad0a"
      },
      "outputs": [
        {
          "output_type": "stream",
          "name": "stdout",
          "text": [
            "/content\n",
            "Cloning into 'OFA'...\n",
            "remote: Enumerating objects: 5789, done.\u001b[K\n",
            "remote: Counting objects: 100% (1060/1060), done.\u001b[K\n",
            "remote: Compressing objects: 100% (123/123), done.\u001b[K\n",
            "remote: Total 5789 (delta 968), reused 953 (delta 937), pack-reused 4729\u001b[K\n",
            "Receiving objects: 100% (5789/5789), 121.49 MiB | 30.40 MiB/s, done.\n",
            "Resolving deltas: 100% (2235/2235), done.\n"
          ]
        }
      ],
      "source": [
        "# clone OFA if there does not exist the repo\n",
        "% cd /content\n",
        "! git clone https://github.com/OFA-Sys/OFA.git"
      ],
      "id": "4mE8hHnb4UBa"
    },
    {
      "cell_type": "markdown",
      "metadata": {
        "id": "9dQmNjQdCt93"
      },
      "source": [
        "## **Download Checkpoint**\n",
        "We provide a link for our public checkpoint, and you only need to wget it to your workspace. We also provide an alternative below. Choose one as you like!"
      ],
      "id": "9dQmNjQdCt93"
    },
    {
      "cell_type": "code",
      "execution_count": null,
      "metadata": {
        "colab": {
          "base_uri": "https://localhost:8080/"
        },
        "id": "5S238JJhvjrI",
        "outputId": "b62d8886-fadd-493b-e22e-c1e8a6a044b5"
      },
      "outputs": [
        {
          "output_type": "stream",
          "name": "stdout",
          "text": [
            "/content\n",
            "--2022-06-27 23:36:57--  https://ofa-silicon.oss-us-west-1.aliyuncs.com/checkpoints/caption_large_best_clean.pt\n",
            "Resolving ofa-silicon.oss-us-west-1.aliyuncs.com (ofa-silicon.oss-us-west-1.aliyuncs.com)... 47.88.111.45\n",
            "Connecting to ofa-silicon.oss-us-west-1.aliyuncs.com (ofa-silicon.oss-us-west-1.aliyuncs.com)|47.88.111.45|:443... connected.\n",
            "HTTP request sent, awaiting response... 200 OK\n",
            "Length: 5717992325 (5.3G) [application/octet-stream]\n",
            "Saving to: ‘caption_large_best_clean.pt’\n",
            "\n",
            "caption_large_best_ 100%[===================>]   5.33G  31.1MB/s    in 2m 21s  \n",
            "\n",
            "2022-06-27 23:39:18 (38.7 MB/s) - ‘caption_large_best_clean.pt’ saved [5717992325/5717992325]\n",
            "\n"
          ]
        }
      ],
      "source": [
        "% cd /content\n",
        "! mkdir -p /content/OFA/checkpoints/\n",
        "! wget https://ofa-silicon.oss-us-west-1.aliyuncs.com/checkpoints/caption_large_best_clean.pt\n",
        "! mv caption_large_best_clean.pt OFA/checkpoints/caption.pt"
      ],
      "id": "5S238JJhvjrI"
    },
    {
      "cell_type": "markdown",
      "metadata": {
        "id": "kUUIZubclg-K"
      },
      "source": [
        "BTW, if you cannot endure downloading (which might be slow if there are too many people downloading our checkpoint at the same time), we provide an alternative with Google Drive. \n",
        "\n",
        "First you need to manually put the checkpoint on your Google Drive by clicking the [URL](https://drive.google.com/file/d/1WBQl0WlzvdctslJyLNgedYpRrWAZC69X/view?usp=sharing) and clicking the bottom on the top right. ![C49C4C46-72DD-47A1-9685-94DD83319B50.png](data:image/png;base64,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)\n",
        "\n",
        "Then you just need to run the codes below without waiting:)"
      ],
      "id": "kUUIZubclg-K"
    },
    {
      "cell_type": "code",
      "execution_count": null,
      "metadata": {
        "colab": {
          "base_uri": "https://localhost:8080/"
        },
        "id": "OegLqLNbli0B",
        "outputId": "f99e58e6-175a-4acc-89c6-b00ee6b4544c"
      },
      "outputs": [
        {
          "output_type": "stream",
          "name": "stdout",
          "text": [
            "Mounted at /content/Drive\n",
            "ln: failed to create symbolic link '/content/OFA/checkpoints/caption.pt': File exists\n"
          ]
        }
      ],
      "source": [
        "from google.colab import drive\n",
        "drive.mount('/content/Drive')\n",
        "! mkdir -p /content/OFA/checkpoints\n",
        "! ln -s /content/Drive/MyDrive/caption.pt /content/OFA/checkpoints/caption.pt"
      ],
      "id": "OegLqLNbli0B"
    },
    {
      "cell_type": "markdown",
      "metadata": {
        "id": "P-BbNqgvDH4l"
      },
      "source": [
        "## **Install Fairseq**\n",
        "We advise you to install fairseq by cloning the official repository and running \"pip install\". \n",
        "\n",
        "You should restart the window if you meet the hint of \"RESTART RUNTIME\". "
      ],
      "id": "P-BbNqgvDH4l"
    },
    {
      "cell_type": "code",
      "execution_count": null,
      "metadata": {
        "colab": {
          "base_uri": "https://localhost:8080/"
        },
        "id": "fp4uO91Y6Nrz",
        "outputId": "76ef880c-a9c2-4c1e-a4fe-d2cd7510c88b"
      },
      "outputs": [
        {
          "output_type": "stream",
          "name": "stdout",
          "text": [
            "/content\n",
            "Cloning into 'fairseq'...\n",
            "remote: Enumerating objects: 31522, done.\u001b[K\n",
            "remote: Counting objects: 100% (76/76), done.\u001b[K\n",
            "remote: Compressing objects: 100% (48/48), done.\u001b[K\n",
            "remote: Total 31522 (delta 31), reused 59 (delta 26), pack-reused 31446\u001b[K\n",
            "Receiving objects: 100% (31522/31522), 21.81 MiB | 8.59 MiB/s, done.\n",
            "Resolving deltas: 100% (23184/23184), done.\n",
            "/content/fairseq\n",
            "Looking in indexes: https://pypi.org/simple, https://us-python.pkg.dev/colab-wheels/public/simple/\n",
            "Processing /content/fairseq\n",
            "  Installing build dependencies ... \u001b[?25l\u001b[?25hdone\n",
            "  Getting requirements to build wheel ... \u001b[?25l\u001b[?25hdone\n",
            "  Installing backend dependencies ... \u001b[?25l\u001b[?25hdone\n",
            "    Preparing wheel metadata ... \u001b[?25l\u001b[?25hdone\n",
            "Requirement already satisfied: cffi in /usr/local/lib/python3.7/dist-packages (from fairseq==0.12.2) (1.15.0)\n",
            "Requirement already satisfied: regex in /usr/local/lib/python3.7/dist-packages (from fairseq==0.12.2) (2022.6.2)\n",
            "Requirement already satisfied: torch in /usr/local/lib/python3.7/dist-packages (from fairseq==0.12.2) (1.11.0+cu113)\n",
            "Collecting omegaconf<2.1\n",
            "  Downloading omegaconf-2.0.6-py3-none-any.whl (36 kB)\n",
            "Collecting bitarray\n",
            "  Downloading bitarray-2.5.1-cp37-cp37m-manylinux_2_17_x86_64.manylinux2014_x86_64.whl (236 kB)\n",
            "\u001b[K     |████████████████████████████████| 236 kB 13.2 MB/s \n",
            "\u001b[?25hRequirement already satisfied: numpy in /usr/local/lib/python3.7/dist-packages (from fairseq==0.12.2) (1.21.6)\n",
            "Collecting sacrebleu>=1.4.12\n",
            "  Downloading sacrebleu-2.1.0-py3-none-any.whl (92 kB)\n",
            "\u001b[K     |████████████████████████████████| 92 kB 15.0 MB/s \n",
            "\u001b[?25hRequirement already satisfied: tqdm in /usr/local/lib/python3.7/dist-packages (from fairseq==0.12.2) (4.64.0)\n",
            "Requirement already satisfied: torchaudio>=0.8.0 in /usr/local/lib/python3.7/dist-packages (from fairseq==0.12.2) (0.11.0+cu113)\n",
            "Requirement already satisfied: cython in /usr/local/lib/python3.7/dist-packages (from fairseq==0.12.2) (0.29.30)\n",
            "Collecting hydra-core<1.1,>=1.0.7\n",
            "  Downloading hydra_core-1.0.7-py3-none-any.whl (123 kB)\n",
            "\u001b[K     |████████████████████████████████| 123 kB 97.5 MB/s \n",
            "\u001b[?25hCollecting antlr4-python3-runtime==4.8\n",
            "  Downloading antlr4-python3-runtime-4.8.tar.gz (112 kB)\n",
            "\u001b[K     |████████████████████████████████| 112 kB 89.5 MB/s \n",
            "\u001b[?25hRequirement already satisfied: importlib-resources in /usr/local/lib/python3.7/dist-packages (from hydra-core<1.1,>=1.0.7->fairseq==0.12.2) (5.7.1)\n",
            "Collecting PyYAML>=5.1.*\n",
            "  Downloading PyYAML-6.0-cp37-cp37m-manylinux_2_5_x86_64.manylinux1_x86_64.manylinux_2_12_x86_64.manylinux2010_x86_64.whl (596 kB)\n",
            "\u001b[K     |████████████████████████████████| 596 kB 60.2 MB/s \n",
            "\u001b[?25hRequirement already satisfied: typing-extensions in /usr/local/lib/python3.7/dist-packages (from omegaconf<2.1->fairseq==0.12.2) (4.1.1)\n",
            "Collecting colorama\n",
            "  Downloading colorama-0.4.5-py2.py3-none-any.whl (16 kB)\n",
            "Collecting portalocker\n",
            "  Downloading portalocker-2.4.0-py2.py3-none-any.whl (16 kB)\n",
            "Requirement already satisfied: tabulate>=0.8.9 in /usr/local/lib/python3.7/dist-packages (from sacrebleu>=1.4.12->fairseq==0.12.2) (0.8.9)\n",
            "Requirement already satisfied: pycparser in /usr/local/lib/python3.7/dist-packages (from cffi->fairseq==0.12.2) (2.21)\n",
            "Requirement already satisfied: zipp>=3.1.0 in /usr/local/lib/python3.7/dist-packages (from importlib-resources->hydra-core<1.1,>=1.0.7->fairseq==0.12.2) (3.8.0)\n",
            "Building wheels for collected packages: fairseq, antlr4-python3-runtime\n",
            "  Building wheel for fairseq (PEP 517) ... \u001b[?25l\u001b[?25hdone\n",
            "  Created wheel for fairseq: filename=fairseq-0.12.2-cp37-cp37m-linux_x86_64.whl size=15371307 sha256=44fecbc02f6eec8c5492b96d11b6aaf15e1add547fa05f9aa9636a780df89b34\n",
            "  Stored in directory: /tmp/pip-ephem-wheel-cache-qt_je___/wheels/7c/35/80/edbd520a1a7e615df007002aeea9f6bf5f3c8f9243e072f6ce\n",
            "  Building wheel for antlr4-python3-runtime (setup.py) ... \u001b[?25l\u001b[?25hdone\n",
            "  Created wheel for antlr4-python3-runtime: filename=antlr4_python3_runtime-4.8-py3-none-any.whl size=141230 sha256=8ec254baaf2205f9bbd45fff80ef5f21785c917a023e261099b93846ef407c9b\n",
            "  Stored in directory: /root/.cache/pip/wheels/ca/33/b7/336836125fc9bb4ceaa4376d8abca10ca8bc84ddc824baea6c\n",
            "Successfully built fairseq antlr4-python3-runtime\n",
            "Installing collected packages: PyYAML, portalocker, omegaconf, colorama, antlr4-python3-runtime, sacrebleu, hydra-core, bitarray, fairseq\n",
            "  Attempting uninstall: PyYAML\n",
            "    Found existing installation: PyYAML 3.13\n",
            "    Uninstalling PyYAML-3.13:\n",
            "      Successfully uninstalled PyYAML-3.13\n",
            "Successfully installed PyYAML-6.0 antlr4-python3-runtime-4.8 bitarray-2.5.1 colorama-0.4.5 fairseq-0.12.2 hydra-core-1.0.7 omegaconf-2.0.6 portalocker-2.4.0 sacrebleu-2.1.0\n"
          ]
        }
      ],
      "source": [
        "# clone Fairseq for installation\n",
        "% cd /content\n",
        "! git clone https://github.com/pytorch/fairseq.git\n",
        "% cd /content/fairseq\n",
        "! pip install --use-feature=in-tree-build ./"
      ],
      "id": "fp4uO91Y6Nrz"
    },
    {
      "cell_type": "markdown",
      "metadata": {
        "id": "P54XzUU_FK1_"
      },
      "source": [
        "## **Preparation**\n",
        "Below you just need to import required packages, and check whether to use GPU or FP16. "
      ],
      "id": "P54XzUU_FK1_"
    },
    {
      "cell_type": "code",
      "execution_count": null,
      "metadata": {
        "colab": {
          "base_uri": "https://localhost:8080/"
        },
        "id": "wzbFZ1ftE6Z5",
        "outputId": "6ff7d425-c649-41f3-8c5d-7353d125470a"
      },
      "outputs": [
        {
          "output_type": "stream",
          "name": "stdout",
          "text": [
            "/content/OFA\n",
            "Looking in indexes: https://pypi.org/simple, https://us-python.pkg.dev/colab-wheels/public/simple/\n",
            "Requirement already satisfied: opencv-python in /usr/local/lib/python3.7/dist-packages (4.1.2.30)\n",
            "Requirement already satisfied: numpy>=1.14.5 in /usr/local/lib/python3.7/dist-packages (from opencv-python) (1.21.6)\n",
            "Looking in indexes: https://pypi.org/simple, https://us-python.pkg.dev/colab-wheels/public/simple/\n",
            "Collecting timm\n",
            "  Downloading timm-0.5.4-py3-none-any.whl (431 kB)\n",
            "\u001b[K     |████████████████████████████████| 431 kB 7.9 MB/s \n",
            "\u001b[?25hRequirement already satisfied: torchvision in /usr/local/lib/python3.7/dist-packages (from timm) (0.12.0+cu113)\n",
            "Requirement already satisfied: torch>=1.4 in /usr/local/lib/python3.7/dist-packages (from timm) (1.11.0+cu113)\n",
            "Requirement already satisfied: typing-extensions in /usr/local/lib/python3.7/dist-packages (from torch>=1.4->timm) (4.1.1)\n",
            "Requirement already satisfied: pillow!=8.3.*,>=5.3.0 in /usr/local/lib/python3.7/dist-packages (from torchvision->timm) (7.1.2)\n",
            "Requirement already satisfied: numpy in /usr/local/lib/python3.7/dist-packages (from torchvision->timm) (1.21.6)\n",
            "Requirement already satisfied: requests in /usr/local/lib/python3.7/dist-packages (from torchvision->timm) (2.23.0)\n",
            "Requirement already satisfied: idna<3,>=2.5 in /usr/local/lib/python3.7/dist-packages (from requests->torchvision->timm) (2.10)\n",
            "Requirement already satisfied: chardet<4,>=3.0.2 in /usr/local/lib/python3.7/dist-packages (from requests->torchvision->timm) (3.0.4)\n",
            "Requirement already satisfied: certifi>=2017.4.17 in /usr/local/lib/python3.7/dist-packages (from requests->torchvision->timm) (2022.6.15)\n",
            "Requirement already satisfied: urllib3!=1.25.0,!=1.25.1,<1.26,>=1.21.1 in /usr/local/lib/python3.7/dist-packages (from requests->torchvision->timm) (1.24.3)\n",
            "Installing collected packages: timm\n",
            "Successfully installed timm-0.5.4\n",
            "Looking in indexes: https://pypi.org/simple, https://us-python.pkg.dev/colab-wheels/public/simple/\n",
            "Collecting ftfy==6.0.3\n",
            "  Downloading ftfy-6.0.3.tar.gz (64 kB)\n",
            "\u001b[K     |████████████████████████████████| 64 kB 2.5 MB/s \n",
            "\u001b[?25hRequirement already satisfied: wcwidth in /usr/local/lib/python3.7/dist-packages (from ftfy==6.0.3) (0.2.5)\n",
            "Building wheels for collected packages: ftfy\n",
            "  Building wheel for ftfy (setup.py) ... \u001b[?25l\u001b[?25hdone\n",
            "  Created wheel for ftfy: filename=ftfy-6.0.3-py3-none-any.whl size=41933 sha256=b1b41bd38bd56e7840fc297488c0d9bb7014c7711813a1efda44674e8c1e93ad\n",
            "  Stored in directory: /root/.cache/pip/wheels/19/f5/38/273eb3b5e76dfd850619312f693716ac4518b498f5ffb6f56d\n",
            "Successfully built ftfy\n",
            "Installing collected packages: ftfy\n",
            "Successfully installed ftfy-6.0.3\n",
            "Looking in indexes: https://pypi.org/simple, https://us-python.pkg.dev/colab-wheels/public/simple/\n",
            "Collecting tensorboardX==2.4.1\n",
            "  Downloading tensorboardX-2.4.1-py2.py3-none-any.whl (124 kB)\n",
            "\u001b[K     |████████████████████████████████| 124 kB 9.0 MB/s \n",
            "\u001b[?25hRequirement already satisfied: protobuf>=3.8.0 in /usr/local/lib/python3.7/dist-packages (from tensorboardX==2.4.1) (3.17.3)\n",
            "Requirement already satisfied: numpy in /usr/local/lib/python3.7/dist-packages (from tensorboardX==2.4.1) (1.21.6)\n",
            "Requirement already satisfied: six>=1.9 in /usr/local/lib/python3.7/dist-packages (from protobuf>=3.8.0->tensorboardX==2.4.1) (1.15.0)\n",
            "Installing collected packages: tensorboardX\n",
            "Successfully installed tensorboardX-2.4.1\n",
            "Looking in indexes: https://pypi.org/simple, https://us-python.pkg.dev/colab-wheels/public/simple/\n",
            "Requirement already satisfied: pycocotools==2.0.4 in /usr/local/lib/python3.7/dist-packages (2.0.4)\n",
            "Requirement already satisfied: numpy in /usr/local/lib/python3.7/dist-packages (from pycocotools==2.0.4) (1.21.6)\n",
            "Requirement already satisfied: matplotlib>=2.1.0 in /usr/local/lib/python3.7/dist-packages (from pycocotools==2.0.4) (3.2.2)\n",
            "Requirement already satisfied: pyparsing!=2.0.4,!=2.1.2,!=2.1.6,>=2.0.1 in /usr/local/lib/python3.7/dist-packages (from matplotlib>=2.1.0->pycocotools==2.0.4) (3.0.9)\n",
            "Requirement already satisfied: python-dateutil>=2.1 in /usr/local/lib/python3.7/dist-packages (from matplotlib>=2.1.0->pycocotools==2.0.4) (2.8.2)\n",
            "Requirement already satisfied: kiwisolver>=1.0.1 in /usr/local/lib/python3.7/dist-packages (from matplotlib>=2.1.0->pycocotools==2.0.4) (1.4.3)\n",
            "Requirement already satisfied: cycler>=0.10 in /usr/local/lib/python3.7/dist-packages (from matplotlib>=2.1.0->pycocotools==2.0.4) (0.11.0)\n",
            "Requirement already satisfied: typing-extensions in /usr/local/lib/python3.7/dist-packages (from kiwisolver>=1.0.1->matplotlib>=2.1.0->pycocotools==2.0.4) (4.1.1)\n",
            "Requirement already satisfied: six>=1.5 in /usr/local/lib/python3.7/dist-packages (from python-dateutil>=2.1->matplotlib>=2.1.0->pycocotools==2.0.4) (1.15.0)\n",
            "Looking in indexes: https://pypi.org/simple, https://us-python.pkg.dev/colab-wheels/public/simple/\n",
            "Collecting pycocoevalcap==1.2\n",
            "  Downloading pycocoevalcap-1.2-py3-none-any.whl (104.3 MB)\n",
            "\u001b[K     |████████████████████████████████| 104.3 MB 126 kB/s \n",
            "\u001b[?25hRequirement already satisfied: pycocotools>=2.0.2 in /usr/local/lib/python3.7/dist-packages (from pycocoevalcap==1.2) (2.0.4)\n",
            "Requirement already satisfied: matplotlib>=2.1.0 in /usr/local/lib/python3.7/dist-packages (from pycocotools>=2.0.2->pycocoevalcap==1.2) (3.2.2)\n",
            "Requirement already satisfied: numpy in /usr/local/lib/python3.7/dist-packages (from pycocotools>=2.0.2->pycocoevalcap==1.2) (1.21.6)\n",
            "Requirement already satisfied: kiwisolver>=1.0.1 in /usr/local/lib/python3.7/dist-packages (from matplotlib>=2.1.0->pycocotools>=2.0.2->pycocoevalcap==1.2) (1.4.3)\n",
            "Requirement already satisfied: cycler>=0.10 in /usr/local/lib/python3.7/dist-packages (from matplotlib>=2.1.0->pycocotools>=2.0.2->pycocoevalcap==1.2) (0.11.0)\n",
            "Requirement already satisfied: pyparsing!=2.0.4,!=2.1.2,!=2.1.6,>=2.0.1 in /usr/local/lib/python3.7/dist-packages (from matplotlib>=2.1.0->pycocotools>=2.0.2->pycocoevalcap==1.2) (3.0.9)\n",
            "Requirement already satisfied: python-dateutil>=2.1 in /usr/local/lib/python3.7/dist-packages (from matplotlib>=2.1.0->pycocotools>=2.0.2->pycocoevalcap==1.2) (2.8.2)\n",
            "Requirement already satisfied: typing-extensions in /usr/local/lib/python3.7/dist-packages (from kiwisolver>=1.0.1->matplotlib>=2.1.0->pycocotools>=2.0.2->pycocoevalcap==1.2) (4.1.1)\n",
            "Requirement already satisfied: six>=1.5 in /usr/local/lib/python3.7/dist-packages (from python-dateutil>=2.1->matplotlib>=2.1.0->pycocotools>=2.0.2->pycocoevalcap==1.2) (1.15.0)\n",
            "Installing collected packages: pycocoevalcap\n",
            "Successfully installed pycocoevalcap-1.2\n",
            "Looking in indexes: https://pypi.org/simple, https://us-python.pkg.dev/colab-wheels/public/simple/\n",
            "Collecting pytorch_lightning\n",
            "  Downloading pytorch_lightning-1.6.4-py3-none-any.whl (585 kB)\n",
            "\u001b[K     |████████████████████████████████| 585 kB 7.8 MB/s \n",
            "\u001b[?25hRequirement already satisfied: tensorboard>=2.2.0 in /usr/local/lib/python3.7/dist-packages (from pytorch_lightning) (2.8.0)\n",
            "Requirement already satisfied: PyYAML>=5.4 in /usr/local/lib/python3.7/dist-packages (from pytorch_lightning) (6.0)\n",
            "Collecting torchmetrics>=0.4.1\n",
            "  Downloading torchmetrics-0.9.1-py3-none-any.whl (419 kB)\n",
            "\u001b[K     |████████████████████████████████| 419 kB 80.2 MB/s \n",
            "\u001b[?25hRequirement already satisfied: protobuf<=3.20.1 in /usr/local/lib/python3.7/dist-packages (from pytorch_lightning) (3.17.3)\n",
            "Requirement already satisfied: tqdm>=4.57.0 in /usr/local/lib/python3.7/dist-packages (from pytorch_lightning) (4.64.0)\n",
            "Requirement already satisfied: numpy>=1.17.2 in /usr/local/lib/python3.7/dist-packages (from pytorch_lightning) (1.21.6)\n",
            "Collecting pyDeprecate>=0.3.1\n",
            "  Downloading pyDeprecate-0.3.2-py3-none-any.whl (10 kB)\n",
            "Requirement already satisfied: packaging>=17.0 in /usr/local/lib/python3.7/dist-packages (from pytorch_lightning) (21.3)\n",
            "Collecting fsspec[http]!=2021.06.0,>=2021.05.0\n",
            "  Downloading fsspec-2022.5.0-py3-none-any.whl (140 kB)\n",
            "\u001b[K     |████████████████████████████████| 140 kB 42.0 MB/s \n",
            "\u001b[?25hRequirement already satisfied: typing-extensions>=4.0.0 in /usr/local/lib/python3.7/dist-packages (from pytorch_lightning) (4.1.1)\n",
            "Requirement already satisfied: torch>=1.8.* in /usr/local/lib/python3.7/dist-packages (from pytorch_lightning) (1.11.0+cu113)\n",
            "Collecting aiohttp\n",
            "  Downloading aiohttp-3.8.1-cp37-cp37m-manylinux_2_5_x86_64.manylinux1_x86_64.manylinux_2_12_x86_64.manylinux2010_x86_64.whl (1.1 MB)\n",
            "\u001b[K     |████████████████████████████████| 1.1 MB 65.8 MB/s \n",
            "\u001b[?25hRequirement already satisfied: requests in /usr/local/lib/python3.7/dist-packages (from fsspec[http]!=2021.06.0,>=2021.05.0->pytorch_lightning) (2.23.0)\n",
            "Requirement already satisfied: pyparsing!=3.0.5,>=2.0.2 in /usr/local/lib/python3.7/dist-packages (from packaging>=17.0->pytorch_lightning) (3.0.9)\n",
            "Requirement already satisfied: six>=1.9 in /usr/local/lib/python3.7/dist-packages (from protobuf<=3.20.1->pytorch_lightning) (1.15.0)\n",
            "Requirement already satisfied: google-auth<3,>=1.6.3 in /usr/local/lib/python3.7/dist-packages (from tensorboard>=2.2.0->pytorch_lightning) (1.35.0)\n",
            "Requirement already satisfied: tensorboard-data-server<0.7.0,>=0.6.0 in /usr/local/lib/python3.7/dist-packages (from tensorboard>=2.2.0->pytorch_lightning) (0.6.1)\n",
            "Requirement already satisfied: markdown>=2.6.8 in /usr/local/lib/python3.7/dist-packages (from tensorboard>=2.2.0->pytorch_lightning) (3.3.7)\n",
            "Requirement already satisfied: setuptools>=41.0.0 in /usr/local/lib/python3.7/dist-packages (from tensorboard>=2.2.0->pytorch_lightning) (57.4.0)\n",
            "Requirement already satisfied: absl-py>=0.4 in /usr/local/lib/python3.7/dist-packages (from tensorboard>=2.2.0->pytorch_lightning) (1.1.0)\n",
            "Requirement already satisfied: google-auth-oauthlib<0.5,>=0.4.1 in /usr/local/lib/python3.7/dist-packages (from tensorboard>=2.2.0->pytorch_lightning) (0.4.6)\n",
            "Requirement already satisfied: tensorboard-plugin-wit>=1.6.0 in /usr/local/lib/python3.7/dist-packages (from tensorboard>=2.2.0->pytorch_lightning) (1.8.1)\n",
            "Requirement already satisfied: grpcio>=1.24.3 in /usr/local/lib/python3.7/dist-packages (from tensorboard>=2.2.0->pytorch_lightning) (1.46.3)\n",
            "Requirement already satisfied: wheel>=0.26 in /usr/local/lib/python3.7/dist-packages (from tensorboard>=2.2.0->pytorch_lightning) (0.37.1)\n",
            "Requirement already satisfied: werkzeug>=0.11.15 in /usr/local/lib/python3.7/dist-packages (from tensorboard>=2.2.0->pytorch_lightning) (1.0.1)\n",
            "Requirement already satisfied: cachetools<5.0,>=2.0.0 in /usr/local/lib/python3.7/dist-packages (from google-auth<3,>=1.6.3->tensorboard>=2.2.0->pytorch_lightning) (4.2.4)\n",
            "Requirement already satisfied: pyasn1-modules>=0.2.1 in /usr/local/lib/python3.7/dist-packages (from google-auth<3,>=1.6.3->tensorboard>=2.2.0->pytorch_lightning) (0.2.8)\n",
            "Requirement already satisfied: rsa<5,>=3.1.4 in /usr/local/lib/python3.7/dist-packages (from google-auth<3,>=1.6.3->tensorboard>=2.2.0->pytorch_lightning) (4.8)\n",
            "Requirement already satisfied: requests-oauthlib>=0.7.0 in /usr/local/lib/python3.7/dist-packages (from google-auth-oauthlib<0.5,>=0.4.1->tensorboard>=2.2.0->pytorch_lightning) (1.3.1)\n",
            "Requirement already satisfied: importlib-metadata>=4.4 in /usr/local/lib/python3.7/dist-packages (from markdown>=2.6.8->tensorboard>=2.2.0->pytorch_lightning) (4.11.4)\n",
            "Requirement already satisfied: zipp>=0.5 in /usr/local/lib/python3.7/dist-packages (from importlib-metadata>=4.4->markdown>=2.6.8->tensorboard>=2.2.0->pytorch_lightning) (3.8.0)\n",
            "Requirement already satisfied: pyasn1<0.5.0,>=0.4.6 in /usr/local/lib/python3.7/dist-packages (from pyasn1-modules>=0.2.1->google-auth<3,>=1.6.3->tensorboard>=2.2.0->pytorch_lightning) (0.4.8)\n",
            "Requirement already satisfied: certifi>=2017.4.17 in /usr/local/lib/python3.7/dist-packages (from requests->fsspec[http]!=2021.06.0,>=2021.05.0->pytorch_lightning) (2022.6.15)\n",
            "Requirement already satisfied: idna<3,>=2.5 in /usr/local/lib/python3.7/dist-packages (from requests->fsspec[http]!=2021.06.0,>=2021.05.0->pytorch_lightning) (2.10)\n",
            "Requirement already satisfied: urllib3!=1.25.0,!=1.25.1,<1.26,>=1.21.1 in /usr/local/lib/python3.7/dist-packages (from requests->fsspec[http]!=2021.06.0,>=2021.05.0->pytorch_lightning) (1.24.3)\n",
            "Requirement already satisfied: chardet<4,>=3.0.2 in /usr/local/lib/python3.7/dist-packages (from requests->fsspec[http]!=2021.06.0,>=2021.05.0->pytorch_lightning) (3.0.4)\n",
            "Requirement already satisfied: oauthlib>=3.0.0 in /usr/local/lib/python3.7/dist-packages (from requests-oauthlib>=0.7.0->google-auth-oauthlib<0.5,>=0.4.1->tensorboard>=2.2.0->pytorch_lightning) (3.2.0)\n",
            "Collecting asynctest==0.13.0\n",
            "  Downloading asynctest-0.13.0-py3-none-any.whl (26 kB)\n",
            "Collecting async-timeout<5.0,>=4.0.0a3\n",
            "  Downloading async_timeout-4.0.2-py3-none-any.whl (5.8 kB)\n",
            "Collecting frozenlist>=1.1.1\n",
            "  Downloading frozenlist-1.3.0-cp37-cp37m-manylinux_2_5_x86_64.manylinux1_x86_64.manylinux_2_17_x86_64.manylinux2014_x86_64.whl (144 kB)\n",
            "\u001b[K     |████████████████████████████████| 144 kB 87.1 MB/s \n",
            "\u001b[?25hCollecting multidict<7.0,>=4.5\n",
            "  Downloading multidict-6.0.2-cp37-cp37m-manylinux_2_17_x86_64.manylinux2014_x86_64.whl (94 kB)\n",
            "\u001b[K     |████████████████████████████████| 94 kB 3.8 MB/s \n",
            "\u001b[?25hCollecting aiosignal>=1.1.2\n",
            "  Downloading aiosignal-1.2.0-py3-none-any.whl (8.2 kB)\n",
            "Requirement already satisfied: attrs>=17.3.0 in /usr/local/lib/python3.7/dist-packages (from aiohttp->fsspec[http]!=2021.06.0,>=2021.05.0->pytorch_lightning) (21.4.0)\n",
            "Collecting yarl<2.0,>=1.0\n",
            "  Downloading yarl-1.7.2-cp37-cp37m-manylinux_2_5_x86_64.manylinux1_x86_64.manylinux_2_12_x86_64.manylinux2010_x86_64.whl (271 kB)\n",
            "\u001b[K     |████████████████████████████████| 271 kB 98.5 MB/s \n",
            "\u001b[?25hRequirement already satisfied: charset-normalizer<3.0,>=2.0 in /usr/local/lib/python3.7/dist-packages (from aiohttp->fsspec[http]!=2021.06.0,>=2021.05.0->pytorch_lightning) (2.0.12)\n",
            "Installing collected packages: multidict, frozenlist, yarl, asynctest, async-timeout, aiosignal, fsspec, aiohttp, torchmetrics, pyDeprecate, pytorch-lightning\n",
            "Successfully installed aiohttp-3.8.1 aiosignal-1.2.0 async-timeout-4.0.2 asynctest-0.13.0 frozenlist-1.3.0 fsspec-2022.5.0 multidict-6.0.2 pyDeprecate-0.3.2 pytorch-lightning-1.6.4 torchmetrics-0.9.1 yarl-1.7.2\n",
            "Looking in indexes: https://pypi.org/simple, https://us-python.pkg.dev/colab-wheels/public/simple/\n",
            "Collecting einops\n",
            "  Downloading einops-0.4.1-py3-none-any.whl (28 kB)\n",
            "Installing collected packages: einops\n",
            "Successfully installed einops-0.4.1\n",
            "Looking in indexes: https://pypi.org/simple, https://us-python.pkg.dev/colab-wheels/public/simple/\n",
            "Collecting datasets\n",
            "  Downloading datasets-2.3.2-py3-none-any.whl (362 kB)\n",
            "\u001b[K     |████████████████████████████████| 362 kB 8.0 MB/s \n",
            "\u001b[?25hCollecting responses<0.19\n",
            "  Downloading responses-0.18.0-py3-none-any.whl (38 kB)\n",
            "Requirement already satisfied: aiohttp in /usr/local/lib/python3.7/dist-packages (from datasets) (3.8.1)\n",
            "Requirement already satisfied: requests>=2.19.0 in /usr/local/lib/python3.7/dist-packages (from datasets) (2.23.0)\n",
            "Requirement already satisfied: packaging in /usr/local/lib/python3.7/dist-packages (from datasets) (21.3)\n",
            "Requirement already satisfied: pyarrow>=6.0.0 in /usr/local/lib/python3.7/dist-packages (from datasets) (6.0.1)\n",
            "Requirement already satisfied: multiprocess in /usr/local/lib/python3.7/dist-packages (from datasets) (0.70.13)\n",
            "Requirement already satisfied: dill<0.3.6 in /usr/local/lib/python3.7/dist-packages (from datasets) (0.3.5.1)\n",
            "Requirement already satisfied: importlib-metadata in /usr/local/lib/python3.7/dist-packages (from datasets) (4.11.4)\n",
            "Collecting xxhash\n",
            "  Downloading xxhash-3.0.0-cp37-cp37m-manylinux_2_17_x86_64.manylinux2014_x86_64.whl (212 kB)\n",
            "\u001b[K     |████████████████████████████████| 212 kB 86.3 MB/s \n",
            "\u001b[?25hCollecting huggingface-hub<1.0.0,>=0.1.0\n",
            "  Downloading huggingface_hub-0.8.1-py3-none-any.whl (101 kB)\n",
            "\u001b[K     |████████████████████████████████| 101 kB 14.4 MB/s \n",
            "\u001b[?25hRequirement already satisfied: pandas in /usr/local/lib/python3.7/dist-packages (from datasets) (1.3.5)\n",
            "Requirement already satisfied: tqdm>=4.62.1 in /usr/local/lib/python3.7/dist-packages (from datasets) (4.64.0)\n",
            "Requirement already satisfied: fsspec[http]>=2021.05.0 in /usr/local/lib/python3.7/dist-packages (from datasets) (2022.5.0)\n",
            "Requirement already satisfied: numpy>=1.17 in /usr/local/lib/python3.7/dist-packages (from datasets) (1.21.6)\n",
            "Requirement already satisfied: typing-extensions>=3.7.4.3 in /usr/local/lib/python3.7/dist-packages (from huggingface-hub<1.0.0,>=0.1.0->datasets) (4.1.1)\n",
            "Requirement already satisfied: filelock in /usr/local/lib/python3.7/dist-packages (from huggingface-hub<1.0.0,>=0.1.0->datasets) (3.7.1)\n",
            "Requirement already satisfied: pyyaml>=5.1 in /usr/local/lib/python3.7/dist-packages (from huggingface-hub<1.0.0,>=0.1.0->datasets) (6.0)\n",
            "Requirement already satisfied: pyparsing!=3.0.5,>=2.0.2 in /usr/local/lib/python3.7/dist-packages (from packaging->datasets) (3.0.9)\n",
            "Requirement already satisfied: urllib3!=1.25.0,!=1.25.1,<1.26,>=1.21.1 in /usr/local/lib/python3.7/dist-packages (from requests>=2.19.0->datasets) (1.24.3)\n",
            "Requirement already satisfied: certifi>=2017.4.17 in /usr/local/lib/python3.7/dist-packages (from requests>=2.19.0->datasets) (2022.6.15)\n",
            "Requirement already satisfied: chardet<4,>=3.0.2 in /usr/local/lib/python3.7/dist-packages (from requests>=2.19.0->datasets) (3.0.4)\n",
            "Requirement already satisfied: idna<3,>=2.5 in /usr/local/lib/python3.7/dist-packages (from requests>=2.19.0->datasets) (2.10)\n",
            "Collecting urllib3!=1.25.0,!=1.25.1,<1.26,>=1.21.1\n",
            "  Downloading urllib3-1.25.11-py2.py3-none-any.whl (127 kB)\n",
            "\u001b[K     |████████████████████████████████| 127 kB 84.3 MB/s \n",
            "\u001b[?25hRequirement already satisfied: aiosignal>=1.1.2 in /usr/local/lib/python3.7/dist-packages (from aiohttp->datasets) (1.2.0)\n",
            "Requirement already satisfied: async-timeout<5.0,>=4.0.0a3 in /usr/local/lib/python3.7/dist-packages (from aiohttp->datasets) (4.0.2)\n",
            "Requirement already satisfied: asynctest==0.13.0 in /usr/local/lib/python3.7/dist-packages (from aiohttp->datasets) (0.13.0)\n",
            "Requirement already satisfied: charset-normalizer<3.0,>=2.0 in /usr/local/lib/python3.7/dist-packages (from aiohttp->datasets) (2.0.12)\n",
            "Requirement already satisfied: multidict<7.0,>=4.5 in /usr/local/lib/python3.7/dist-packages (from aiohttp->datasets) (6.0.2)\n",
            "Requirement already satisfied: attrs>=17.3.0 in /usr/local/lib/python3.7/dist-packages (from aiohttp->datasets) (21.4.0)\n",
            "Requirement already satisfied: frozenlist>=1.1.1 in /usr/local/lib/python3.7/dist-packages (from aiohttp->datasets) (1.3.0)\n",
            "Requirement already satisfied: yarl<2.0,>=1.0 in /usr/local/lib/python3.7/dist-packages (from aiohttp->datasets) (1.7.2)\n",
            "Requirement already satisfied: zipp>=0.5 in /usr/local/lib/python3.7/dist-packages (from importlib-metadata->datasets) (3.8.0)\n",
            "Requirement already satisfied: python-dateutil>=2.7.3 in /usr/local/lib/python3.7/dist-packages (from pandas->datasets) (2.8.2)\n",
            "Requirement already satisfied: pytz>=2017.3 in /usr/local/lib/python3.7/dist-packages (from pandas->datasets) (2022.1)\n",
            "Requirement already satisfied: six>=1.5 in /usr/local/lib/python3.7/dist-packages (from python-dateutil>=2.7.3->pandas->datasets) (1.15.0)\n",
            "Installing collected packages: urllib3, xxhash, responses, huggingface-hub, datasets\n",
            "  Attempting uninstall: urllib3\n",
            "    Found existing installation: urllib3 1.24.3\n",
            "    Uninstalling urllib3-1.24.3:\n",
            "      Successfully uninstalled urllib3-1.24.3\n",
            "\u001b[31mERROR: pip's dependency resolver does not currently take into account all the packages that are installed. This behaviour is the source of the following dependency conflicts.\n",
            "datascience 0.10.6 requires folium==0.2.1, but you have folium 0.8.3 which is incompatible.\u001b[0m\n",
            "Successfully installed datasets-2.3.2 huggingface-hub-0.8.1 responses-0.18.0 urllib3-1.25.11 xxhash-3.0.0\n",
            "Looking in indexes: https://pypi.org/simple, https://us-python.pkg.dev/colab-wheels/public/simple/\n",
            "Collecting rouge_score\n",
            "  Downloading rouge_score-0.0.4-py2.py3-none-any.whl (22 kB)\n",
            "Requirement already satisfied: six>=1.14.0 in /usr/local/lib/python3.7/dist-packages (from rouge_score) (1.15.0)\n",
            "Requirement already satisfied: nltk in /usr/local/lib/python3.7/dist-packages (from rouge_score) (3.7)\n",
            "Requirement already satisfied: absl-py in /usr/local/lib/python3.7/dist-packages (from rouge_score) (1.1.0)\n",
            "Requirement already satisfied: numpy in /usr/local/lib/python3.7/dist-packages (from rouge_score) (1.21.6)\n",
            "Requirement already satisfied: click in /usr/local/lib/python3.7/dist-packages (from nltk->rouge_score) (7.1.2)\n",
            "Requirement already satisfied: joblib in /usr/local/lib/python3.7/dist-packages (from nltk->rouge_score) (1.1.0)\n",
            "Requirement already satisfied: tqdm in /usr/local/lib/python3.7/dist-packages (from nltk->rouge_score) (4.64.0)\n",
            "Requirement already satisfied: regex>=2021.8.3 in /usr/local/lib/python3.7/dist-packages (from nltk->rouge_score) (2022.6.2)\n",
            "Installing collected packages: rouge-score\n",
            "Successfully installed rouge-score-0.0.4\n"
          ]
        }
      ],
      "source": [
        "% cd /content/OFA\n",
        "! sed '1d' requirements.txt | xargs -I {} pip install {}"
      ],
      "id": "wzbFZ1ftE6Z5"
    },
    {
      "cell_type": "code",
      "execution_count": null,
      "metadata": {
        "colab": {
          "base_uri": "https://localhost:8080/"
        },
        "id": "2f544b02",
        "outputId": "3a2cf67f-873a-472e-f76e-6e0f0e1acef2"
      },
      "outputs": [
        {
          "output_type": "stream",
          "name": "stderr",
          "text": [
            "2022-06-27 23:42:32 | INFO | numexpr.utils | NumExpr defaulting to 4 threads.\n"
          ]
        }
      ],
      "source": [
        "import torch\n",
        "import numpy as np\n",
        "from fairseq import utils,tasks\n",
        "from fairseq import checkpoint_utils\n",
        "from utils.eval_utils import eval_step\n",
        "from tasks.mm_tasks.caption import CaptionTask\n",
        "from models.ofa import OFAModel\n",
        "from PIL import Image\n",
        "\n",
        "# Register caption task\n",
        "tasks.register_task('caption',CaptionTask)\n",
        "\n",
        "# turn on cuda if GPU is available\n",
        "use_cuda = torch.cuda.is_available()\n",
        "# use fp16 only when GPU is available\n",
        "use_fp16 = False"
      ],
      "id": "2f544b02"
    },
    {
      "cell_type": "markdown",
      "metadata": {
        "id": "PbtThfLMGb48"
      },
      "source": [
        "## **Build Model**\n",
        "Below you can build your model and load the weights from the given checkpoint, and also build a generator. "
      ],
      "id": "PbtThfLMGb48"
    },
    {
      "cell_type": "code",
      "execution_count": null,
      "metadata": {
        "colab": {
          "base_uri": "https://localhost:8080/"
        },
        "id": "2947346c",
        "outputId": "5f9bb101-7f37-481e-d59c-34d67fb8f7a9"
      },
      "outputs": [
        {
          "output_type": "stream",
          "name": "stderr",
          "text": [
            "2022-06-27 23:42:36 | INFO | tasks.ofa_task | source dictionary: 59457 types\n",
            "2022-06-27 23:42:36 | INFO | tasks.ofa_task | target dictionary: 59457 types\n",
            "/usr/local/lib/python3.7/dist-packages/torch/functional.py:568: UserWarning: torch.meshgrid: in an upcoming release, it will be required to pass the indexing argument. (Triggered internally at  ../aten/src/ATen/native/TensorShape.cpp:2228.)\n",
            "  return _VF.meshgrid(tensors, **kwargs)  # type: ignore[attr-defined]\n"
          ]
        }
      ],
      "source": [
        "# Load pretrained ckpt & config\n",
        "overrides={\"bpe_dir\":\"utils/BPE\", \"eval_cider\":False, \"beam\":5, \"max_len_b\":16, \"no_repeat_ngram_size\":3, \"seed\":7}\n",
        "models, cfg, task = checkpoint_utils.load_model_ensemble_and_task(\n",
        "        utils.split_paths('checkpoints/caption.pt'),\n",
        "        arg_overrides=overrides\n",
        "    )\n",
        "\n",
        "# Move models to GPU\n",
        "for model in models:\n",
        "    model.eval()\n",
        "    if use_fp16:\n",
        "        model.half()\n",
        "    if use_cuda and not cfg.distributed_training.pipeline_model_parallel:\n",
        "        model.cuda()\n",
        "    model.prepare_for_inference_(cfg)\n",
        "\n",
        "# Initialize generator\n",
        "generator = task.build_generator(models, cfg.generation)"
      ],
      "id": "2947346c"
    },
    {
      "cell_type": "markdown",
      "metadata": {
        "id": "X5gToRpjGqUa"
      },
      "source": [
        "## **Preprocess**\n",
        "We demonstrate the required transformation fucntions for preprocessing inputs."
      ],
      "id": "X5gToRpjGqUa"
    },
    {
      "cell_type": "code",
      "execution_count": null,
      "metadata": {
        "colab": {
          "base_uri": "https://localhost:8080/"
        },
        "id": "ebec2f3c",
        "outputId": "b54fef0f-730c-4f1e-b0e8-6991b6605eb9"
      },
      "outputs": [
        {
          "output_type": "stream",
          "name": "stderr",
          "text": [
            "/usr/local/lib/python3.7/dist-packages/torchvision/transforms/transforms.py:333: UserWarning: Argument interpolation should be of type InterpolationMode instead of int. Please, use InterpolationMode enum.\n",
            "  \"Argument interpolation should be of type InterpolationMode instead of int. \"\n"
          ]
        }
      ],
      "source": [
        "# Image transform\n",
        "from torchvision import transforms\n",
        "mean = [0.5, 0.5, 0.5]\n",
        "std = [0.5, 0.5, 0.5]\n",
        "\n",
        "patch_resize_transform = transforms.Compose([\n",
        "    lambda image: image.convert(\"RGB\"),\n",
        "    transforms.Resize((cfg.task.patch_image_size, cfg.task.patch_image_size), interpolation=Image.BICUBIC),\n",
        "    transforms.ToTensor(),\n",
        "    transforms.Normalize(mean=mean, std=std),\n",
        "])\n",
        "\n",
        "# Text preprocess\n",
        "bos_item = torch.LongTensor([task.src_dict.bos()])\n",
        "eos_item = torch.LongTensor([task.src_dict.eos()])\n",
        "pad_idx = task.src_dict.pad()\n",
        "def encode_text(text, length=None, append_bos=False, append_eos=False):\n",
        "    s = task.tgt_dict.encode_line(\n",
        "        line=task.bpe.encode(text),\n",
        "        add_if_not_exist=False,\n",
        "        append_eos=False\n",
        "    ).long()\n",
        "    if length is not None:\n",
        "        s = s[:length]\n",
        "    if append_bos:\n",
        "        s = torch.cat([bos_item, s])\n",
        "    if append_eos:\n",
        "        s = torch.cat([s, eos_item])\n",
        "    return s\n",
        "\n",
        "# Construct input for caption task\n",
        "def construct_sample(image: Image):\n",
        "    patch_image = patch_resize_transform(image).unsqueeze(0)\n",
        "    patch_mask = torch.tensor([True])\n",
        "    src_text = encode_text(\" what does the image describe?\", append_bos=True, append_eos=True).unsqueeze(0)\n",
        "    src_length = torch.LongTensor([s.ne(pad_idx).long().sum() for s in src_text])\n",
        "    sample = {\n",
        "        \"id\":np.array(['42']),\n",
        "        \"net_input\": {\n",
        "            \"src_tokens\": src_text,\n",
        "            \"src_lengths\": src_length,\n",
        "            \"patch_images\": patch_image,\n",
        "            \"patch_masks\": patch_mask\n",
        "        }\n",
        "    }\n",
        "    return sample\n",
        "  \n",
        "# Function to turn FP32 to FP16\n",
        "def apply_half(t):\n",
        "    if t.dtype is torch.float32:\n",
        "        return t.to(dtype=torch.half)\n",
        "    return t"
      ],
      "id": "ebec2f3c"
    },
    {
      "cell_type": "code",
      "execution_count": null,
      "metadata": {
        "id": "tXeHOy7Vwvz9"
      },
      "outputs": [],
      "source": [
        "import matplotlib.pyplot as plt"
      ],
      "id": "tXeHOy7Vwvz9"
    },
    {
      "cell_type": "code",
      "execution_count": null,
      "metadata": {
        "colab": {
          "base_uri": "https://localhost:8080/",
          "height": 35
        },
        "id": "YrCEEv6ALQIU",
        "outputId": "b821b4ae-5860-43a6-fab7-3b48f36cf74d"
      },
      "outputs": [
        {
          "output_type": "execute_result",
          "data": {
            "text/plain": [
              "'/content/OFA'"
            ],
            "application/vnd.google.colaboratory.intrinsic+json": {
              "type": "string"
            }
          },
          "metadata": {},
          "execution_count": 17
        }
      ],
      "source": [
        "# import necessary Python packages\n",
        "import os\n",
        "import numpy as np\n",
        "import urllib.request\n",
        "# set the working directory to the `earth-analytics-bootcamp` directory\n",
        "# print the current working directory\n",
        "os.getcwd()"
      ],
      "id": "YrCEEv6ALQIU"
    },
    {
      "cell_type": "code",
      "execution_count": null,
      "metadata": {
        "id": "rpbHqlrOLVK_"
      },
      "outputs": [],
      "source": [
        "os.chdir(\"/content/\")\n",
        "os.chdir(\"/content/Drive/\")\n",
        "os.chdir(\"/content/Drive/MyDrive/\")\n",
        "os.chdir(\"/content/Drive/MyDrive/IA025/proy/\")"
      ],
      "id": "rpbHqlrOLVK_"
    },
    {
      "cell_type": "code",
      "execution_count": null,
      "metadata": {
        "id": "v_A4eApJNLPA"
      },
      "outputs": [],
      "source": [
        "#os.chdir(\"/content/Drive/MyDrive/IA025/proy/ImageNet/ImageNetVal/\")\n",
        "#os.chdir(\"/content/Drive/MyDrive/IA025/proy/DAmageNet/DmgNet/\")"
      ],
      "id": "v_A4eApJNLPA"
    },
    {
      "cell_type": "code",
      "execution_count": null,
      "metadata": {
        "id": "nFpW1XYiLg79"
      },
      "outputs": [],
      "source": [
        "#!ls"
      ],
      "id": "nFpW1XYiLg79"
    },
    {
      "cell_type": "code",
      "execution_count": null,
      "metadata": {
        "id": "sXZ5qR5QLmUV"
      },
      "outputs": [],
      "source": [
        "import matplotlib.pyplot as plt\n",
        "import os\n",
        "import cv2\n",
        "img = os.listdir('/content/Drive/MyDrive/IA025/proy/ImageNet/ImageNetVal/')\n",
        "#print(img) \n",
        "#len(img)"
      ],
      "id": "sXZ5qR5QLmUV"
    },
    {
      "cell_type": "code",
      "source": [
        "im=[txt.replace(\".JPEG\", \"\") for txt in img]"
      ],
      "metadata": {
        "id": "ywSRZ72wl_dH"
      },
      "id": "ywSRZ72wl_dH",
      "execution_count": null,
      "outputs": []
    },
    {
      "cell_type": "code",
      "execution_count": null,
      "metadata": {
        "id": "S9u2pUWO9JsE"
      },
      "outputs": [],
      "source": [
        "path=\"/content/Drive/MyDrive/IA025/proy/\"\n",
        "path='/ImageNet/ImageNetVal/'"
      ],
      "id": "S9u2pUWO9JsE"
    },
    {
      "cell_type": "code",
      "execution_count": null,
      "metadata": {
        "id": "LnTTGS4LRH2j"
      },
      "outputs": [],
      "source": [
        "#dmg = os.listdir('./DAmageNet/DmgNet/')\n",
        "#print(dmg) "
      ],
      "id": "LnTTGS4LRH2j"
    },
    {
      "cell_type": "code",
      "execution_count": null,
      "metadata": {
        "id": "14xWRYIpSvCS"
      },
      "outputs": [],
      "source": [
        "#da=[txt.replace(\"png\", \"\") for txt in dmg]"
      ],
      "id": "14xWRYIpSvCS"
    },
    {
      "cell_type": "code",
      "execution_count": null,
      "metadata": {
        "id": "OjQKr9bRSrxh"
      },
      "outputs": [],
      "source": [
        "#same=list(set(da) & set(im))\n",
        "#same[1:10]"
      ],
      "id": "OjQKr9bRSrxh"
    },
    {
      "cell_type": "markdown",
      "metadata": {
        "id": "z5j2DSVMG6i-"
      },
      "source": [
        "## **Run Inference**\n",
        "predict a image captions."
      ],
      "id": "z5j2DSVMG6i-"
    },
    {
      "cell_type": "code",
      "execution_count": null,
      "metadata": {
        "id": "ZL3WFMdRV-MD"
      },
      "outputs": [],
      "source": [
        "def plotcaption(path,label,ext):\n",
        "  image = Image.open(path+label+ext)\n",
        "  # Construct input sample & preprocess for GPU if cuda available\n",
        "  sample = construct_sample(image)\n",
        "  sample = utils.move_to_cuda(sample) if use_cuda else sample\n",
        "  sample = utils.apply_to_sample(apply_half, sample) if use_fp16 else sample\n",
        "  # Run eval step for caption\n",
        "  with torch.no_grad():\n",
        "    result, scores = eval_step(task, generator, models, sample)   \n",
        "  return result[0]['caption'] #label.replace(\".JPEG\", \"\"),  "
      ],
      "id": "ZL3WFMdRV-MD"
    },
    {
      "cell_type": "code",
      "execution_count": null,
      "metadata": {
        "id": "9ap9pyJfBaVt"
      },
      "outputs": [],
      "source": [
        "# Libraries\n",
        "import seaborn as sns\n",
        "import pandas as pd\n",
        "from matplotlib import pyplot as plt"
      ],
      "id": "9ap9pyJfBaVt"
    },
    {
      "cell_type": "code",
      "execution_count": null,
      "metadata": {
        "id": "4_LjPNkHKeEB"
      },
      "outputs": [],
      "source": [
        "import random\n",
        "# select randoly the clases for retrain\n",
        "l = list(range(1000))\n",
        "sh=random.sample(l, 500)# shero shot\n",
        "os=random.sample(list(set(l)-set(sh)), 250)\n",
        "fs=list(set(l)-set(sh + os))\n",
        "fs2=random.sample(fs, 150)\n",
        "fs3=list(set(fs)-set(fs2))"
      ],
      "id": "4_LjPNkHKeEB"
    },
    {
      "cell_type": "code",
      "source": [
        "len(sh),len(os),len(fs)"
      ],
      "metadata": {
        "colab": {
          "base_uri": "https://localhost:8080/"
        },
        "id": "LFD3snckprkn",
        "outputId": "1dc5f1d9-9877-46ae-cff3-ea6b4917c6c2"
      },
      "id": "LFD3snckprkn",
      "execution_count": null,
      "outputs": [
        {
          "output_type": "execute_result",
          "data": {
            "text/plain": [
              "(500, 250, 250)"
            ]
          },
          "metadata": {},
          "execution_count": 32
        }
      ]
    },
    {
      "cell_type": "code",
      "execution_count": null,
      "metadata": {
        "id": "K4qCr_0jLeyx"
      },
      "outputs": [],
      "source": [
        "pathgt=\"/content/Drive/MyDrive/IA025/proy/GT/\"\n"
      ],
      "id": "K4qCr_0jLeyx"
    },
    {
      "cell_type": "code",
      "source": [
        "groundtruth = pd.read_csv(pathgt+'IMG_validation_ground_truth.csv', delimiter=',')#.values"
      ],
      "metadata": {
        "id": "DdH9_5YDgFPd"
      },
      "id": "DdH9_5YDgFPd",
      "execution_count": null,
      "outputs": []
    },
    {
      "cell_type": "code",
      "source": [
        "#groundtruth['type_shot']\n",
        "shot1=np.array([1 if g in os else 0 for g in groundtruth['Ground_truth'].values])\n",
        "fshot=np.array([2 if g in fs else 0 for g in groundtruth['Ground_truth'].values])\n",
        "shot=shot1+fshot\n",
        "sdict=dict({0:'none',1:'one',2:'few'})\n",
        "groundtruth['type_shot']=np.array([sdict[s] for s in shot])#type_shot\n",
        "set(list(shot))"
      ],
      "metadata": {
        "colab": {
          "base_uri": "https://localhost:8080/"
        },
        "id": "gMYi3xVjiGAj",
        "outputId": "4da853cd-9692-44a1-f654-612ffe3e7ce8"
      },
      "id": "gMYi3xVjiGAj",
      "execution_count": null,
      "outputs": [
        {
          "output_type": "execute_result",
          "data": {
            "text/plain": [
              "{0, 1, 2}"
            ]
          },
          "metadata": {},
          "execution_count": 35
        }
      ]
    },
    {
      "cell_type": "code",
      "source": [
        "idl=list(groundtruth['ImagenNetID'].values)\n",
        "groundtruth['>=224']=np.array([1 if i in im else 0 for i in idl])#type_shot"
      ],
      "metadata": {
        "id": "DJSXla-Ami3P"
      },
      "id": "DJSXla-Ami3P",
      "execution_count": null,
      "outputs": []
    },
    {
      "cell_type": "code",
      "source": [
        "len(groundtruth[groundtruth['>=224']==0]) # for orur experiments we use the imagenes tha have size bigger or equal than 224 pixeles"
      ],
      "metadata": {
        "colab": {
          "base_uri": "https://localhost:8080/"
        },
        "id": "ic9GCTson_XU",
        "outputId": "35f173f2-a5f7-4af7-bac1-17dbd53a0492"
      },
      "id": "ic9GCTson_XU",
      "execution_count": null,
      "outputs": [
        {
          "output_type": "execute_result",
          "data": {
            "text/plain": [
              "405"
            ]
          },
          "metadata": {},
          "execution_count": 37
        }
      ]
    },
    {
      "cell_type": "code",
      "source": [
        "groundtruth.head()"
      ],
      "metadata": {
        "colab": {
          "base_uri": "https://localhost:8080/",
          "height": 206
        },
        "id": "puGEWcn_jEc-",
        "outputId": "28b2eaf5-33c2-4c7f-d711-b192f4f6d597"
      },
      "id": "puGEWcn_jEc-",
      "execution_count": null,
      "outputs": [
        {
          "output_type": "execute_result",
          "data": {
            "text/plain": [
              "               ImagenNetID  Ground_truth type_shot  >=224\n",
              "0  ILSVRC2012_val_00000001            65      none      1\n",
              "1  ILSVRC2012_val_00000002           970      none      1\n",
              "2  ILSVRC2012_val_00000003           230       one      1\n",
              "3  ILSVRC2012_val_00000004           809       few      1\n",
              "4  ILSVRC2012_val_00000005           516       few      1"
            ],
            "text/html": [
              "\n",
              "  <div id=\"df-6414330c-b7c9-45d8-a5da-a0e27244c4cc\">\n",
              "    <div class=\"colab-df-container\">\n",
              "      <div>\n",
              "<style scoped>\n",
              "    .dataframe tbody tr th:only-of-type {\n",
              "        vertical-align: middle;\n",
              "    }\n",
              "\n",
              "    .dataframe tbody tr th {\n",
              "        vertical-align: top;\n",
              "    }\n",
              "\n",
              "    .dataframe thead th {\n",
              "        text-align: right;\n",
              "    }\n",
              "</style>\n",
              "<table border=\"1\" class=\"dataframe\">\n",
              "  <thead>\n",
              "    <tr style=\"text-align: right;\">\n",
              "      <th></th>\n",
              "      <th>ImagenNetID</th>\n",
              "      <th>Ground_truth</th>\n",
              "      <th>type_shot</th>\n",
              "      <th>&gt;=224</th>\n",
              "    </tr>\n",
              "  </thead>\n",
              "  <tbody>\n",
              "    <tr>\n",
              "      <th>0</th>\n",
              "      <td>ILSVRC2012_val_00000001</td>\n",
              "      <td>65</td>\n",
              "      <td>none</td>\n",
              "      <td>1</td>\n",
              "    </tr>\n",
              "    <tr>\n",
              "      <th>1</th>\n",
              "      <td>ILSVRC2012_val_00000002</td>\n",
              "      <td>970</td>\n",
              "      <td>none</td>\n",
              "      <td>1</td>\n",
              "    </tr>\n",
              "    <tr>\n",
              "      <th>2</th>\n",
              "      <td>ILSVRC2012_val_00000003</td>\n",
              "      <td>230</td>\n",
              "      <td>one</td>\n",
              "      <td>1</td>\n",
              "    </tr>\n",
              "    <tr>\n",
              "      <th>3</th>\n",
              "      <td>ILSVRC2012_val_00000004</td>\n",
              "      <td>809</td>\n",
              "      <td>few</td>\n",
              "      <td>1</td>\n",
              "    </tr>\n",
              "    <tr>\n",
              "      <th>4</th>\n",
              "      <td>ILSVRC2012_val_00000005</td>\n",
              "      <td>516</td>\n",
              "      <td>few</td>\n",
              "      <td>1</td>\n",
              "    </tr>\n",
              "  </tbody>\n",
              "</table>\n",
              "</div>\n",
              "      <button class=\"colab-df-convert\" onclick=\"convertToInteractive('df-6414330c-b7c9-45d8-a5da-a0e27244c4cc')\"\n",
              "              title=\"Convert this dataframe to an interactive table.\"\n",
              "              style=\"display:none;\">\n",
              "        \n",
              "  <svg xmlns=\"http://www.w3.org/2000/svg\" height=\"24px\"viewBox=\"0 0 24 24\"\n",
              "       width=\"24px\">\n",
              "    <path d=\"M0 0h24v24H0V0z\" fill=\"none\"/>\n",
              "    <path d=\"M18.56 5.44l.94 2.06.94-2.06 2.06-.94-2.06-.94-.94-2.06-.94 2.06-2.06.94zm-11 1L8.5 8.5l.94-2.06 2.06-.94-2.06-.94L8.5 2.5l-.94 2.06-2.06.94zm10 10l.94 2.06.94-2.06 2.06-.94-2.06-.94-.94-2.06-.94 2.06-2.06.94z\"/><path d=\"M17.41 7.96l-1.37-1.37c-.4-.4-.92-.59-1.43-.59-.52 0-1.04.2-1.43.59L10.3 9.45l-7.72 7.72c-.78.78-.78 2.05 0 2.83L4 21.41c.39.39.9.59 1.41.59.51 0 1.02-.2 1.41-.59l7.78-7.78 2.81-2.81c.8-.78.8-2.07 0-2.86zM5.41 20L4 18.59l7.72-7.72 1.47 1.35L5.41 20z\"/>\n",
              "  </svg>\n",
              "      </button>\n",
              "      \n",
              "  <style>\n",
              "    .colab-df-container {\n",
              "      display:flex;\n",
              "      flex-wrap:wrap;\n",
              "      gap: 12px;\n",
              "    }\n",
              "\n",
              "    .colab-df-convert {\n",
              "      background-color: #E8F0FE;\n",
              "      border: none;\n",
              "      border-radius: 50%;\n",
              "      cursor: pointer;\n",
              "      display: none;\n",
              "      fill: #1967D2;\n",
              "      height: 32px;\n",
              "      padding: 0 0 0 0;\n",
              "      width: 32px;\n",
              "    }\n",
              "\n",
              "    .colab-df-convert:hover {\n",
              "      background-color: #E2EBFA;\n",
              "      box-shadow: 0px 1px 2px rgba(60, 64, 67, 0.3), 0px 1px 3px 1px rgba(60, 64, 67, 0.15);\n",
              "      fill: #174EA6;\n",
              "    }\n",
              "\n",
              "    [theme=dark] .colab-df-convert {\n",
              "      background-color: #3B4455;\n",
              "      fill: #D2E3FC;\n",
              "    }\n",
              "\n",
              "    [theme=dark] .colab-df-convert:hover {\n",
              "      background-color: #434B5C;\n",
              "      box-shadow: 0px 1px 3px 1px rgba(0, 0, 0, 0.15);\n",
              "      filter: drop-shadow(0px 1px 2px rgba(0, 0, 0, 0.3));\n",
              "      fill: #FFFFFF;\n",
              "    }\n",
              "  </style>\n",
              "\n",
              "      <script>\n",
              "        const buttonEl =\n",
              "          document.querySelector('#df-6414330c-b7c9-45d8-a5da-a0e27244c4cc button.colab-df-convert');\n",
              "        buttonEl.style.display =\n",
              "          google.colab.kernel.accessAllowed ? 'block' : 'none';\n",
              "\n",
              "        async function convertToInteractive(key) {\n",
              "          const element = document.querySelector('#df-6414330c-b7c9-45d8-a5da-a0e27244c4cc');\n",
              "          const dataTable =\n",
              "            await google.colab.kernel.invokeFunction('convertToInteractive',\n",
              "                                                     [key], {});\n",
              "          if (!dataTable) return;\n",
              "\n",
              "          const docLinkHtml = 'Like what you see? Visit the ' +\n",
              "            '<a target=\"_blank\" href=https://colab.research.google.com/notebooks/data_table.ipynb>data table notebook</a>'\n",
              "            + ' to learn more about interactive tables.';\n",
              "          element.innerHTML = '';\n",
              "          dataTable['output_type'] = 'display_data';\n",
              "          await google.colab.output.renderOutput(dataTable, element);\n",
              "          const docLink = document.createElement('div');\n",
              "          docLink.innerHTML = docLinkHtml;\n",
              "          element.appendChild(docLink);\n",
              "        }\n",
              "      </script>\n",
              "    </div>\n",
              "  </div>\n",
              "  "
            ]
          },
          "metadata": {},
          "execution_count": 38
        }
      ]
    },
    {
      "cell_type": "code",
      "source": [
        "sampdf0=groundtruth[(groundtruth['type_shot']=='none')&(groundtruth['>=224']==1)]\n"
      ],
      "metadata": {
        "id": "EwgnR-7NPRyY"
      },
      "id": "EwgnR-7NPRyY",
      "execution_count": null,
      "outputs": []
    },
    {
      "cell_type": "code",
      "source": [
        "sampdf=groundtruth[(groundtruth['type_shot']!='none')&(groundtruth['>=224']==1)]\n",
        "sampdf.head()"
      ],
      "metadata": {
        "colab": {
          "base_uri": "https://localhost:8080/",
          "height": 206
        },
        "id": "TWg8UWqwpCuh",
        "outputId": "cd5c3ca0-ca5a-4d37-da7c-c036003924c8"
      },
      "id": "TWg8UWqwpCuh",
      "execution_count": null,
      "outputs": [
        {
          "output_type": "execute_result",
          "data": {
            "text/plain": [
              "                ImagenNetID  Ground_truth type_shot  >=224\n",
              "2   ILSVRC2012_val_00000003           230       one      1\n",
              "3   ILSVRC2012_val_00000004           809       few      1\n",
              "4   ILSVRC2012_val_00000005           516       few      1\n",
              "6   ILSVRC2012_val_00000007           334       few      1\n",
              "10  ILSVRC2012_val_00000011           109       one      1"
            ],
            "text/html": [
              "\n",
              "  <div id=\"df-f0aac003-b98f-4cbc-afa2-3de31d49b4e3\">\n",
              "    <div class=\"colab-df-container\">\n",
              "      <div>\n",
              "<style scoped>\n",
              "    .dataframe tbody tr th:only-of-type {\n",
              "        vertical-align: middle;\n",
              "    }\n",
              "\n",
              "    .dataframe tbody tr th {\n",
              "        vertical-align: top;\n",
              "    }\n",
              "\n",
              "    .dataframe thead th {\n",
              "        text-align: right;\n",
              "    }\n",
              "</style>\n",
              "<table border=\"1\" class=\"dataframe\">\n",
              "  <thead>\n",
              "    <tr style=\"text-align: right;\">\n",
              "      <th></th>\n",
              "      <th>ImagenNetID</th>\n",
              "      <th>Ground_truth</th>\n",
              "      <th>type_shot</th>\n",
              "      <th>&gt;=224</th>\n",
              "    </tr>\n",
              "  </thead>\n",
              "  <tbody>\n",
              "    <tr>\n",
              "      <th>2</th>\n",
              "      <td>ILSVRC2012_val_00000003</td>\n",
              "      <td>230</td>\n",
              "      <td>one</td>\n",
              "      <td>1</td>\n",
              "    </tr>\n",
              "    <tr>\n",
              "      <th>3</th>\n",
              "      <td>ILSVRC2012_val_00000004</td>\n",
              "      <td>809</td>\n",
              "      <td>few</td>\n",
              "      <td>1</td>\n",
              "    </tr>\n",
              "    <tr>\n",
              "      <th>4</th>\n",
              "      <td>ILSVRC2012_val_00000005</td>\n",
              "      <td>516</td>\n",
              "      <td>few</td>\n",
              "      <td>1</td>\n",
              "    </tr>\n",
              "    <tr>\n",
              "      <th>6</th>\n",
              "      <td>ILSVRC2012_val_00000007</td>\n",
              "      <td>334</td>\n",
              "      <td>few</td>\n",
              "      <td>1</td>\n",
              "    </tr>\n",
              "    <tr>\n",
              "      <th>10</th>\n",
              "      <td>ILSVRC2012_val_00000011</td>\n",
              "      <td>109</td>\n",
              "      <td>one</td>\n",
              "      <td>1</td>\n",
              "    </tr>\n",
              "  </tbody>\n",
              "</table>\n",
              "</div>\n",
              "      <button class=\"colab-df-convert\" onclick=\"convertToInteractive('df-f0aac003-b98f-4cbc-afa2-3de31d49b4e3')\"\n",
              "              title=\"Convert this dataframe to an interactive table.\"\n",
              "              style=\"display:none;\">\n",
              "        \n",
              "  <svg xmlns=\"http://www.w3.org/2000/svg\" height=\"24px\"viewBox=\"0 0 24 24\"\n",
              "       width=\"24px\">\n",
              "    <path d=\"M0 0h24v24H0V0z\" fill=\"none\"/>\n",
              "    <path d=\"M18.56 5.44l.94 2.06.94-2.06 2.06-.94-2.06-.94-.94-2.06-.94 2.06-2.06.94zm-11 1L8.5 8.5l.94-2.06 2.06-.94-2.06-.94L8.5 2.5l-.94 2.06-2.06.94zm10 10l.94 2.06.94-2.06 2.06-.94-2.06-.94-.94-2.06-.94 2.06-2.06.94z\"/><path d=\"M17.41 7.96l-1.37-1.37c-.4-.4-.92-.59-1.43-.59-.52 0-1.04.2-1.43.59L10.3 9.45l-7.72 7.72c-.78.78-.78 2.05 0 2.83L4 21.41c.39.39.9.59 1.41.59.51 0 1.02-.2 1.41-.59l7.78-7.78 2.81-2.81c.8-.78.8-2.07 0-2.86zM5.41 20L4 18.59l7.72-7.72 1.47 1.35L5.41 20z\"/>\n",
              "  </svg>\n",
              "      </button>\n",
              "      \n",
              "  <style>\n",
              "    .colab-df-container {\n",
              "      display:flex;\n",
              "      flex-wrap:wrap;\n",
              "      gap: 12px;\n",
              "    }\n",
              "\n",
              "    .colab-df-convert {\n",
              "      background-color: #E8F0FE;\n",
              "      border: none;\n",
              "      border-radius: 50%;\n",
              "      cursor: pointer;\n",
              "      display: none;\n",
              "      fill: #1967D2;\n",
              "      height: 32px;\n",
              "      padding: 0 0 0 0;\n",
              "      width: 32px;\n",
              "    }\n",
              "\n",
              "    .colab-df-convert:hover {\n",
              "      background-color: #E2EBFA;\n",
              "      box-shadow: 0px 1px 2px rgba(60, 64, 67, 0.3), 0px 1px 3px 1px rgba(60, 64, 67, 0.15);\n",
              "      fill: #174EA6;\n",
              "    }\n",
              "\n",
              "    [theme=dark] .colab-df-convert {\n",
              "      background-color: #3B4455;\n",
              "      fill: #D2E3FC;\n",
              "    }\n",
              "\n",
              "    [theme=dark] .colab-df-convert:hover {\n",
              "      background-color: #434B5C;\n",
              "      box-shadow: 0px 1px 3px 1px rgba(0, 0, 0, 0.15);\n",
              "      filter: drop-shadow(0px 1px 2px rgba(0, 0, 0, 0.3));\n",
              "      fill: #FFFFFF;\n",
              "    }\n",
              "  </style>\n",
              "\n",
              "      <script>\n",
              "        const buttonEl =\n",
              "          document.querySelector('#df-f0aac003-b98f-4cbc-afa2-3de31d49b4e3 button.colab-df-convert');\n",
              "        buttonEl.style.display =\n",
              "          google.colab.kernel.accessAllowed ? 'block' : 'none';\n",
              "\n",
              "        async function convertToInteractive(key) {\n",
              "          const element = document.querySelector('#df-f0aac003-b98f-4cbc-afa2-3de31d49b4e3');\n",
              "          const dataTable =\n",
              "            await google.colab.kernel.invokeFunction('convertToInteractive',\n",
              "                                                     [key], {});\n",
              "          if (!dataTable) return;\n",
              "\n",
              "          const docLinkHtml = 'Like what you see? Visit the ' +\n",
              "            '<a target=\"_blank\" href=https://colab.research.google.com/notebooks/data_table.ipynb>data table notebook</a>'\n",
              "            + ' to learn more about interactive tables.';\n",
              "          element.innerHTML = '';\n",
              "          dataTable['output_type'] = 'display_data';\n",
              "          await google.colab.output.renderOutput(dataTable, element);\n",
              "          const docLink = document.createElement('div');\n",
              "          docLink.innerHTML = docLinkHtml;\n",
              "          element.appendChild(docLink);\n",
              "        }\n",
              "      </script>\n",
              "    </div>\n",
              "  </div>\n",
              "  "
            ]
          },
          "metadata": {},
          "execution_count": 40
        }
      ]
    },
    {
      "cell_type": "code",
      "source": [
        "len(sh),len(os),len(fs2),len(fs3)"
      ],
      "metadata": {
        "colab": {
          "base_uri": "https://localhost:8080/"
        },
        "id": "wzOkm-5bpzdK",
        "outputId": "d3999a7f-9cad-4608-9783-8f10aefb5157"
      },
      "id": "wzOkm-5bpzdK",
      "execution_count": null,
      "outputs": [
        {
          "output_type": "execute_result",
          "data": {
            "text/plain": [
              "(500, 250, 150, 100)"
            ]
          },
          "metadata": {},
          "execution_count": 41
        }
      ]
    },
    {
      "cell_type": "code",
      "source": [
        "shot1=np.array([1 if g in os else 0 for g in sampdf['Ground_truth'].values])\n",
        "shot2=np.array([2 if g in fs2 else 0 for g in sampdf['Ground_truth'].values])\n",
        "shot3=np.array([3 if g in fs3 else 0 for g in sampdf['Ground_truth'].values])\n",
        "shot=shot1+shot2+shot3\n",
        "\n",
        "sdict2=dict({0:'none',1:'one',2:'two',3:'three'})"
      ],
      "metadata": {
        "id": "1poIvfw8tIFW"
      },
      "id": "1poIvfw8tIFW",
      "execution_count": null,
      "outputs": []
    },
    {
      "cell_type": "code",
      "source": [
        "sampdf['shot_type']=shot#np.array([sdict2[s] for s in shot])#type_shot"
      ],
      "metadata": {
        "colab": {
          "base_uri": "https://localhost:8080/"
        },
        "id": "ufNxzeZwp8Cp",
        "outputId": "6c98b8e3-70b9-4112-bbf1-d7c99c1390f8"
      },
      "id": "ufNxzeZwp8Cp",
      "execution_count": null,
      "outputs": [
        {
          "output_type": "stream",
          "name": "stderr",
          "text": [
            "/usr/local/lib/python3.7/dist-packages/ipykernel_launcher.py:1: SettingWithCopyWarning: \n",
            "A value is trying to be set on a copy of a slice from a DataFrame.\n",
            "Try using .loc[row_indexer,col_indexer] = value instead\n",
            "\n",
            "See the caveats in the documentation: https://pandas.pydata.org/pandas-docs/stable/user_guide/indexing.html#returning-a-view-versus-a-copy\n",
            "  \"\"\"Entry point for launching an IPython kernel.\n"
          ]
        }
      ]
    },
    {
      "cell_type": "code",
      "source": [
        "sampdf.head()"
      ],
      "metadata": {
        "colab": {
          "base_uri": "https://localhost:8080/",
          "height": 206
        },
        "id": "9_4lJU1vuD_y",
        "outputId": "f8f34828-b835-444c-bdc0-8c0f62d88104"
      },
      "id": "9_4lJU1vuD_y",
      "execution_count": null,
      "outputs": [
        {
          "output_type": "execute_result",
          "data": {
            "text/plain": [
              "                ImagenNetID  Ground_truth type_shot  >=224  shot_type\n",
              "2   ILSVRC2012_val_00000003           230       one      1          1\n",
              "3   ILSVRC2012_val_00000004           809       few      1          3\n",
              "4   ILSVRC2012_val_00000005           516       few      1          2\n",
              "6   ILSVRC2012_val_00000007           334       few      1          3\n",
              "10  ILSVRC2012_val_00000011           109       one      1          1"
            ],
            "text/html": [
              "\n",
              "  <div id=\"df-c721cc53-08cf-4cd1-a5a0-a1392ba2c8bf\">\n",
              "    <div class=\"colab-df-container\">\n",
              "      <div>\n",
              "<style scoped>\n",
              "    .dataframe tbody tr th:only-of-type {\n",
              "        vertical-align: middle;\n",
              "    }\n",
              "\n",
              "    .dataframe tbody tr th {\n",
              "        vertical-align: top;\n",
              "    }\n",
              "\n",
              "    .dataframe thead th {\n",
              "        text-align: right;\n",
              "    }\n",
              "</style>\n",
              "<table border=\"1\" class=\"dataframe\">\n",
              "  <thead>\n",
              "    <tr style=\"text-align: right;\">\n",
              "      <th></th>\n",
              "      <th>ImagenNetID</th>\n",
              "      <th>Ground_truth</th>\n",
              "      <th>type_shot</th>\n",
              "      <th>&gt;=224</th>\n",
              "      <th>shot_type</th>\n",
              "    </tr>\n",
              "  </thead>\n",
              "  <tbody>\n",
              "    <tr>\n",
              "      <th>2</th>\n",
              "      <td>ILSVRC2012_val_00000003</td>\n",
              "      <td>230</td>\n",
              "      <td>one</td>\n",
              "      <td>1</td>\n",
              "      <td>1</td>\n",
              "    </tr>\n",
              "    <tr>\n",
              "      <th>3</th>\n",
              "      <td>ILSVRC2012_val_00000004</td>\n",
              "      <td>809</td>\n",
              "      <td>few</td>\n",
              "      <td>1</td>\n",
              "      <td>3</td>\n",
              "    </tr>\n",
              "    <tr>\n",
              "      <th>4</th>\n",
              "      <td>ILSVRC2012_val_00000005</td>\n",
              "      <td>516</td>\n",
              "      <td>few</td>\n",
              "      <td>1</td>\n",
              "      <td>2</td>\n",
              "    </tr>\n",
              "    <tr>\n",
              "      <th>6</th>\n",
              "      <td>ILSVRC2012_val_00000007</td>\n",
              "      <td>334</td>\n",
              "      <td>few</td>\n",
              "      <td>1</td>\n",
              "      <td>3</td>\n",
              "    </tr>\n",
              "    <tr>\n",
              "      <th>10</th>\n",
              "      <td>ILSVRC2012_val_00000011</td>\n",
              "      <td>109</td>\n",
              "      <td>one</td>\n",
              "      <td>1</td>\n",
              "      <td>1</td>\n",
              "    </tr>\n",
              "  </tbody>\n",
              "</table>\n",
              "</div>\n",
              "      <button class=\"colab-df-convert\" onclick=\"convertToInteractive('df-c721cc53-08cf-4cd1-a5a0-a1392ba2c8bf')\"\n",
              "              title=\"Convert this dataframe to an interactive table.\"\n",
              "              style=\"display:none;\">\n",
              "        \n",
              "  <svg xmlns=\"http://www.w3.org/2000/svg\" height=\"24px\"viewBox=\"0 0 24 24\"\n",
              "       width=\"24px\">\n",
              "    <path d=\"M0 0h24v24H0V0z\" fill=\"none\"/>\n",
              "    <path d=\"M18.56 5.44l.94 2.06.94-2.06 2.06-.94-2.06-.94-.94-2.06-.94 2.06-2.06.94zm-11 1L8.5 8.5l.94-2.06 2.06-.94-2.06-.94L8.5 2.5l-.94 2.06-2.06.94zm10 10l.94 2.06.94-2.06 2.06-.94-2.06-.94-.94-2.06-.94 2.06-2.06.94z\"/><path d=\"M17.41 7.96l-1.37-1.37c-.4-.4-.92-.59-1.43-.59-.52 0-1.04.2-1.43.59L10.3 9.45l-7.72 7.72c-.78.78-.78 2.05 0 2.83L4 21.41c.39.39.9.59 1.41.59.51 0 1.02-.2 1.41-.59l7.78-7.78 2.81-2.81c.8-.78.8-2.07 0-2.86zM5.41 20L4 18.59l7.72-7.72 1.47 1.35L5.41 20z\"/>\n",
              "  </svg>\n",
              "      </button>\n",
              "      \n",
              "  <style>\n",
              "    .colab-df-container {\n",
              "      display:flex;\n",
              "      flex-wrap:wrap;\n",
              "      gap: 12px;\n",
              "    }\n",
              "\n",
              "    .colab-df-convert {\n",
              "      background-color: #E8F0FE;\n",
              "      border: none;\n",
              "      border-radius: 50%;\n",
              "      cursor: pointer;\n",
              "      display: none;\n",
              "      fill: #1967D2;\n",
              "      height: 32px;\n",
              "      padding: 0 0 0 0;\n",
              "      width: 32px;\n",
              "    }\n",
              "\n",
              "    .colab-df-convert:hover {\n",
              "      background-color: #E2EBFA;\n",
              "      box-shadow: 0px 1px 2px rgba(60, 64, 67, 0.3), 0px 1px 3px 1px rgba(60, 64, 67, 0.15);\n",
              "      fill: #174EA6;\n",
              "    }\n",
              "\n",
              "    [theme=dark] .colab-df-convert {\n",
              "      background-color: #3B4455;\n",
              "      fill: #D2E3FC;\n",
              "    }\n",
              "\n",
              "    [theme=dark] .colab-df-convert:hover {\n",
              "      background-color: #434B5C;\n",
              "      box-shadow: 0px 1px 3px 1px rgba(0, 0, 0, 0.15);\n",
              "      filter: drop-shadow(0px 1px 2px rgba(0, 0, 0, 0.3));\n",
              "      fill: #FFFFFF;\n",
              "    }\n",
              "  </style>\n",
              "\n",
              "      <script>\n",
              "        const buttonEl =\n",
              "          document.querySelector('#df-c721cc53-08cf-4cd1-a5a0-a1392ba2c8bf button.colab-df-convert');\n",
              "        buttonEl.style.display =\n",
              "          google.colab.kernel.accessAllowed ? 'block' : 'none';\n",
              "\n",
              "        async function convertToInteractive(key) {\n",
              "          const element = document.querySelector('#df-c721cc53-08cf-4cd1-a5a0-a1392ba2c8bf');\n",
              "          const dataTable =\n",
              "            await google.colab.kernel.invokeFunction('convertToInteractive',\n",
              "                                                     [key], {});\n",
              "          if (!dataTable) return;\n",
              "\n",
              "          const docLinkHtml = 'Like what you see? Visit the ' +\n",
              "            '<a target=\"_blank\" href=https://colab.research.google.com/notebooks/data_table.ipynb>data table notebook</a>'\n",
              "            + ' to learn more about interactive tables.';\n",
              "          element.innerHTML = '';\n",
              "          dataTable['output_type'] = 'display_data';\n",
              "          await google.colab.output.renderOutput(dataTable, element);\n",
              "          const docLink = document.createElement('div');\n",
              "          docLink.innerHTML = docLinkHtml;\n",
              "          element.appendChild(docLink);\n",
              "        }\n",
              "      </script>\n",
              "    </div>\n",
              "  </div>\n",
              "  "
            ]
          },
          "metadata": {},
          "execution_count": 44
        }
      ]
    },
    {
      "cell_type": "code",
      "source": [
        "set(sampdf['shot_type'])"
      ],
      "metadata": {
        "colab": {
          "base_uri": "https://localhost:8080/"
        },
        "id": "LFtm-iVE-ZDc",
        "outputId": "ff046d8e-11fc-4bcd-eb8b-a0f2c51b6b7f"
      },
      "id": "LFtm-iVE-ZDc",
      "execution_count": null,
      "outputs": [
        {
          "output_type": "execute_result",
          "data": {
            "text/plain": [
              "{1, 2, 3}"
            ]
          },
          "metadata": {},
          "execution_count": 45
        }
      ]
    },
    {
      "cell_type": "code",
      "source": [
        "sampdf1=sampdf[sampdf['shot_type']==1]#.ImagenNetID.values #???\n",
        "sampdf2=sampdf[sampdf['shot_type']==2]#.ImagenNetID.values\n",
        "sampdf3=sampdf[sampdf['shot_type']==3]#.ImagenNetID.values"
      ],
      "metadata": {
        "id": "el4PvF_gvO63"
      },
      "id": "el4PvF_gvO63",
      "execution_count": null,
      "outputs": []
    },
    {
      "cell_type": "code",
      "source": [
        "l1,l2,l3=list(set(sampdf1['Ground_truth'])),list(set(sampdf2['Ground_truth'])),list(set(sampdf3['Ground_truth']))\n",
        "len(l1),len(l2),len(l3)"
      ],
      "metadata": {
        "colab": {
          "base_uri": "https://localhost:8080/"
        },
        "id": "pKVMFz59Djbu",
        "outputId": "e9c0b273-907b-43e0-f6a8-bef1b01457f0"
      },
      "id": "pKVMFz59Djbu",
      "execution_count": null,
      "outputs": [
        {
          "output_type": "execute_result",
          "data": {
            "text/plain": [
              "(250, 150, 100)"
            ]
          },
          "metadata": {},
          "execution_count": 48
        }
      ]
    },
    {
      "cell_type": "code",
      "source": [
        "n1,n2,n3=len(sampdf1),len(sampdf2),len(sampdf3)\n",
        "n1,n2,n3"
      ],
      "metadata": {
        "id": "ltL3ClW_wJld",
        "colab": {
          "base_uri": "https://localhost:8080/"
        },
        "outputId": "de03de6a-237c-4f7f-927c-45100e403199"
      },
      "id": "ltL3ClW_wJld",
      "execution_count": null,
      "outputs": [
        {
          "output_type": "execute_result",
          "data": {
            "text/plain": [
              "(12404, 7454, 4949)"
            ]
          },
          "metadata": {},
          "execution_count": 49
        }
      ]
    },
    {
      "cell_type": "code",
      "source": [
        "def getsample(df,lc,s):\n",
        "  for i,c in enumerate(lc):\n",
        "    if i==0:\n",
        "      DTS=df[df['Ground_truth']==c].sample(n=s,replace=False)\n",
        "    else:\n",
        "      DTS= pd.concat([DTS, df[df['Ground_truth']==c].sample(n=s,replace=False)], axis=0) # concatenating   along rows\n",
        "  print('data',DTS.shape)\n",
        "  return DTS"
      ],
      "metadata": {
        "id": "ikXwxoKnD9fV"
      },
      "id": "ikXwxoKnD9fV",
      "execution_count": null,
      "outputs": []
    },
    {
      "cell_type": "code",
      "execution_count": null,
      "metadata": {
        "id": "dybmUoCQjhob"
      },
      "outputs": [],
      "source": [
        "def captionpredict(im):\n",
        "  cpt=[]\n",
        "  for label in im : \n",
        "    path='./ImageNet/ImageNetVal/'\n",
        "    cptp=plotcaption(path,label,'.JPEG')\n",
        "    cpt.append(cptp)\n",
        "  return np.array(cpt)"
      ],
      "id": "dybmUoCQjhob"
    },
    {
      "cell_type": "code",
      "source": [
        "def updateADcaptioin(df,im,msm):\n",
        "  df['caption']=captionpredict(im)\n",
        "  df['adversarial_caption']=np.array([msm+caption for caption in df['caption'].values])\n",
        "  return df"
      ],
      "metadata": {
        "id": "cwdyYZfGKQvE"
      },
      "id": "cwdyYZfGKQvE",
      "execution_count": null,
      "outputs": []
    },
    {
      "cell_type": "code",
      "source": [
        "sdf1=getsample(sampdf1,l1,1)\n",
        "sdf2=getsample(sampdf1,l1,2)\n",
        "sdf3=getsample(sampdf1,l1,3)"
      ],
      "metadata": {
        "colab": {
          "base_uri": "https://localhost:8080/"
        },
        "id": "yFRamCn9Fg6U",
        "outputId": "04ff5ba0-6f43-4d49-fd8b-e4ee4b716a29"
      },
      "id": "yFRamCn9Fg6U",
      "execution_count": null,
      "outputs": [
        {
          "output_type": "stream",
          "name": "stdout",
          "text": [
            "data (250, 5)\n",
            "data (500, 5)\n",
            "data (750, 5)\n"
          ]
        }
      ]
    },
    {
      "cell_type": "code",
      "source": [
        "len(set(sampdf1['Ground_truth'])),len(set(sampdf2['Ground_truth'])),len(set(sampdf3['Ground_truth']))"
      ],
      "metadata": {
        "colab": {
          "base_uri": "https://localhost:8080/"
        },
        "id": "NsT01n1NAFRi",
        "outputId": "81201e56-075a-484a-b496-2de7f495e9be"
      },
      "id": "NsT01n1NAFRi",
      "execution_count": null,
      "outputs": [
        {
          "output_type": "execute_result",
          "data": {
            "text/plain": [
              "(250, 150, 100)"
            ]
          },
          "metadata": {},
          "execution_count": 54
        }
      ]
    },
    {
      "cell_type": "code",
      "source": [
        "idl1=sdf1['ImagenNetID'].values\n",
        "idl2=sdf2['ImagenNetID'].values\n",
        "idl3=sdf3['ImagenNetID'].values"
      ],
      "metadata": {
        "id": "SobQl6MbGTla"
      },
      "id": "SobQl6MbGTla",
      "execution_count": null,
      "outputs": []
    },
    {
      "cell_type": "code",
      "source": [
        "msg=\"damagenet adversarial attack : \" # upadate the space!!!! use *\n",
        "sdf1= updateADcaptioin(sdf1,idl1,msg)\n",
        "sdf2= updateADcaptioin(sdf2,idl2,msg)\n",
        "sdf3= updateADcaptioin(sdf3,idl3,msg)"
      ],
      "metadata": {
        "id": "2SdYK7o1Len6"
      },
      "id": "2SdYK7o1Len6",
      "execution_count": null,
      "outputs": []
    },
    {
      "cell_type": "code",
      "source": [
        "folder=\"/content/Drive/MyDrive/IA025/proy/data/\"\n",
        "sampdf0=pd.read_csv(folder+'sampdf0.csv', delimiter=',')#.values"
      ],
      "metadata": {
        "id": "irpSr6eSkNjC"
      },
      "id": "irpSr6eSkNjC",
      "execution_count": null,
      "outputs": []
    },
    {
      "cell_type": "code",
      "source": [
        "sdf1.head()"
      ],
      "metadata": {
        "colab": {
          "base_uri": "https://localhost:8080/",
          "height": 206
        },
        "id": "PrRFxb9TlAth",
        "outputId": "4ea14958-09cb-4a86-e083-08c83a342c29"
      },
      "id": "PrRFxb9TlAth",
      "execution_count": null,
      "outputs": [
        {
          "output_type": "execute_result",
          "data": {
            "text/plain": [
              "                   ImagenNetID  Ground_truth type_shot  >=224  shot_type\n",
              "48455  ILSVRC2012_val_00048456           513       one      1          1\n",
              "22122  ILSVRC2012_val_00022123           514       one      1          1\n",
              "35366  ILSVRC2012_val_00035367             4       one      1          1\n",
              "47588  ILSVRC2012_val_00047589             5       one      1          1\n",
              "6931   ILSVRC2012_val_00006932           521       one      1          1"
            ],
            "text/html": [
              "\n",
              "  <div id=\"df-8cb8a765-c853-4237-9971-522592e9adb7\">\n",
              "    <div class=\"colab-df-container\">\n",
              "      <div>\n",
              "<style scoped>\n",
              "    .dataframe tbody tr th:only-of-type {\n",
              "        vertical-align: middle;\n",
              "    }\n",
              "\n",
              "    .dataframe tbody tr th {\n",
              "        vertical-align: top;\n",
              "    }\n",
              "\n",
              "    .dataframe thead th {\n",
              "        text-align: right;\n",
              "    }\n",
              "</style>\n",
              "<table border=\"1\" class=\"dataframe\">\n",
              "  <thead>\n",
              "    <tr style=\"text-align: right;\">\n",
              "      <th></th>\n",
              "      <th>ImagenNetID</th>\n",
              "      <th>Ground_truth</th>\n",
              "      <th>type_shot</th>\n",
              "      <th>&gt;=224</th>\n",
              "      <th>shot_type</th>\n",
              "    </tr>\n",
              "  </thead>\n",
              "  <tbody>\n",
              "    <tr>\n",
              "      <th>48455</th>\n",
              "      <td>ILSVRC2012_val_00048456</td>\n",
              "      <td>513</td>\n",
              "      <td>one</td>\n",
              "      <td>1</td>\n",
              "      <td>1</td>\n",
              "    </tr>\n",
              "    <tr>\n",
              "      <th>22122</th>\n",
              "      <td>ILSVRC2012_val_00022123</td>\n",
              "      <td>514</td>\n",
              "      <td>one</td>\n",
              "      <td>1</td>\n",
              "      <td>1</td>\n",
              "    </tr>\n",
              "    <tr>\n",
              "      <th>35366</th>\n",
              "      <td>ILSVRC2012_val_00035367</td>\n",
              "      <td>4</td>\n",
              "      <td>one</td>\n",
              "      <td>1</td>\n",
              "      <td>1</td>\n",
              "    </tr>\n",
              "    <tr>\n",
              "      <th>47588</th>\n",
              "      <td>ILSVRC2012_val_00047589</td>\n",
              "      <td>5</td>\n",
              "      <td>one</td>\n",
              "      <td>1</td>\n",
              "      <td>1</td>\n",
              "    </tr>\n",
              "    <tr>\n",
              "      <th>6931</th>\n",
              "      <td>ILSVRC2012_val_00006932</td>\n",
              "      <td>521</td>\n",
              "      <td>one</td>\n",
              "      <td>1</td>\n",
              "      <td>1</td>\n",
              "    </tr>\n",
              "  </tbody>\n",
              "</table>\n",
              "</div>\n",
              "      <button class=\"colab-df-convert\" onclick=\"convertToInteractive('df-8cb8a765-c853-4237-9971-522592e9adb7')\"\n",
              "              title=\"Convert this dataframe to an interactive table.\"\n",
              "              style=\"display:none;\">\n",
              "        \n",
              "  <svg xmlns=\"http://www.w3.org/2000/svg\" height=\"24px\"viewBox=\"0 0 24 24\"\n",
              "       width=\"24px\">\n",
              "    <path d=\"M0 0h24v24H0V0z\" fill=\"none\"/>\n",
              "    <path d=\"M18.56 5.44l.94 2.06.94-2.06 2.06-.94-2.06-.94-.94-2.06-.94 2.06-2.06.94zm-11 1L8.5 8.5l.94-2.06 2.06-.94-2.06-.94L8.5 2.5l-.94 2.06-2.06.94zm10 10l.94 2.06.94-2.06 2.06-.94-2.06-.94-.94-2.06-.94 2.06-2.06.94z\"/><path d=\"M17.41 7.96l-1.37-1.37c-.4-.4-.92-.59-1.43-.59-.52 0-1.04.2-1.43.59L10.3 9.45l-7.72 7.72c-.78.78-.78 2.05 0 2.83L4 21.41c.39.39.9.59 1.41.59.51 0 1.02-.2 1.41-.59l7.78-7.78 2.81-2.81c.8-.78.8-2.07 0-2.86zM5.41 20L4 18.59l7.72-7.72 1.47 1.35L5.41 20z\"/>\n",
              "  </svg>\n",
              "      </button>\n",
              "      \n",
              "  <style>\n",
              "    .colab-df-container {\n",
              "      display:flex;\n",
              "      flex-wrap:wrap;\n",
              "      gap: 12px;\n",
              "    }\n",
              "\n",
              "    .colab-df-convert {\n",
              "      background-color: #E8F0FE;\n",
              "      border: none;\n",
              "      border-radius: 50%;\n",
              "      cursor: pointer;\n",
              "      display: none;\n",
              "      fill: #1967D2;\n",
              "      height: 32px;\n",
              "      padding: 0 0 0 0;\n",
              "      width: 32px;\n",
              "    }\n",
              "\n",
              "    .colab-df-convert:hover {\n",
              "      background-color: #E2EBFA;\n",
              "      box-shadow: 0px 1px 2px rgba(60, 64, 67, 0.3), 0px 1px 3px 1px rgba(60, 64, 67, 0.15);\n",
              "      fill: #174EA6;\n",
              "    }\n",
              "\n",
              "    [theme=dark] .colab-df-convert {\n",
              "      background-color: #3B4455;\n",
              "      fill: #D2E3FC;\n",
              "    }\n",
              "\n",
              "    [theme=dark] .colab-df-convert:hover {\n",
              "      background-color: #434B5C;\n",
              "      box-shadow: 0px 1px 3px 1px rgba(0, 0, 0, 0.15);\n",
              "      filter: drop-shadow(0px 1px 2px rgba(0, 0, 0, 0.3));\n",
              "      fill: #FFFFFF;\n",
              "    }\n",
              "  </style>\n",
              "\n",
              "      <script>\n",
              "        const buttonEl =\n",
              "          document.querySelector('#df-8cb8a765-c853-4237-9971-522592e9adb7 button.colab-df-convert');\n",
              "        buttonEl.style.display =\n",
              "          google.colab.kernel.accessAllowed ? 'block' : 'none';\n",
              "\n",
              "        async function convertToInteractive(key) {\n",
              "          const element = document.querySelector('#df-8cb8a765-c853-4237-9971-522592e9adb7');\n",
              "          const dataTable =\n",
              "            await google.colab.kernel.invokeFunction('convertToInteractive',\n",
              "                                                     [key], {});\n",
              "          if (!dataTable) return;\n",
              "\n",
              "          const docLinkHtml = 'Like what you see? Visit the ' +\n",
              "            '<a target=\"_blank\" href=https://colab.research.google.com/notebooks/data_table.ipynb>data table notebook</a>'\n",
              "            + ' to learn more about interactive tables.';\n",
              "          element.innerHTML = '';\n",
              "          dataTable['output_type'] = 'display_data';\n",
              "          await google.colab.output.renderOutput(dataTable, element);\n",
              "          const docLink = document.createElement('div');\n",
              "          docLink.innerHTML = docLinkHtml;\n",
              "          element.appendChild(docLink);\n",
              "        }\n",
              "      </script>\n",
              "    </div>\n",
              "  </div>\n",
              "  "
            ]
          },
          "metadata": {},
          "execution_count": 62
        }
      ]
    },
    {
      "cell_type": "code",
      "source": [
        "idl0=sampdf0['ImagenNetID'].values\n",
        "l0=list(set(sampdf0['Ground_truth']))\n",
        "sdf0=getsample(sampdf0,l0,1)\n",
        "idl0=sdf0['ImagenNetID'].values"
      ],
      "metadata": {
        "colab": {
          "base_uri": "https://localhost:8080/"
        },
        "id": "eZ9XCngUqsKr",
        "outputId": "e6f57fc7-43eb-4783-be24-f907a3b67057"
      },
      "id": "eZ9XCngUqsKr",
      "execution_count": null,
      "outputs": [
        {
          "output_type": "stream",
          "name": "stdout",
          "text": [
            "data (500, 4)\n"
          ]
        }
      ]
    },
    {
      "cell_type": "code",
      "source": [
        "sdf0['shot_type']=np.array([0 for i in sdf0.index.values ])\n",
        "sdf0.head()"
      ],
      "metadata": {
        "colab": {
          "base_uri": "https://localhost:8080/",
          "height": 206
        },
        "id": "u9evrY9clJj6",
        "outputId": "e1adfdcb-4744-4f11-fc58-8f382736e17f"
      },
      "id": "u9evrY9clJj6",
      "execution_count": null,
      "outputs": [
        {
          "output_type": "execute_result",
          "data": {
            "text/plain": [
              "                   ImagenNetID  Ground_truth type_shot  >=224  shot_type\n",
              "1560   ILSVRC2012_val_00003204             3      none      1          0\n",
              "4604   ILSVRC2012_val_00009420             5      none      1          0\n",
              "21608  ILSVRC2012_val_00043702             6      none      1          0\n",
              "4733   ILSVRC2012_val_00009663             7      none      1          0\n",
              "5721   ILSVRC2012_val_00011646            14      none      1          0"
            ],
            "text/html": [
              "\n",
              "  <div id=\"df-568c186b-ef39-4ff0-af19-fc973baf910f\">\n",
              "    <div class=\"colab-df-container\">\n",
              "      <div>\n",
              "<style scoped>\n",
              "    .dataframe tbody tr th:only-of-type {\n",
              "        vertical-align: middle;\n",
              "    }\n",
              "\n",
              "    .dataframe tbody tr th {\n",
              "        vertical-align: top;\n",
              "    }\n",
              "\n",
              "    .dataframe thead th {\n",
              "        text-align: right;\n",
              "    }\n",
              "</style>\n",
              "<table border=\"1\" class=\"dataframe\">\n",
              "  <thead>\n",
              "    <tr style=\"text-align: right;\">\n",
              "      <th></th>\n",
              "      <th>ImagenNetID</th>\n",
              "      <th>Ground_truth</th>\n",
              "      <th>type_shot</th>\n",
              "      <th>&gt;=224</th>\n",
              "      <th>shot_type</th>\n",
              "    </tr>\n",
              "  </thead>\n",
              "  <tbody>\n",
              "    <tr>\n",
              "      <th>1560</th>\n",
              "      <td>ILSVRC2012_val_00003204</td>\n",
              "      <td>3</td>\n",
              "      <td>none</td>\n",
              "      <td>1</td>\n",
              "      <td>0</td>\n",
              "    </tr>\n",
              "    <tr>\n",
              "      <th>4604</th>\n",
              "      <td>ILSVRC2012_val_00009420</td>\n",
              "      <td>5</td>\n",
              "      <td>none</td>\n",
              "      <td>1</td>\n",
              "      <td>0</td>\n",
              "    </tr>\n",
              "    <tr>\n",
              "      <th>21608</th>\n",
              "      <td>ILSVRC2012_val_00043702</td>\n",
              "      <td>6</td>\n",
              "      <td>none</td>\n",
              "      <td>1</td>\n",
              "      <td>0</td>\n",
              "    </tr>\n",
              "    <tr>\n",
              "      <th>4733</th>\n",
              "      <td>ILSVRC2012_val_00009663</td>\n",
              "      <td>7</td>\n",
              "      <td>none</td>\n",
              "      <td>1</td>\n",
              "      <td>0</td>\n",
              "    </tr>\n",
              "    <tr>\n",
              "      <th>5721</th>\n",
              "      <td>ILSVRC2012_val_00011646</td>\n",
              "      <td>14</td>\n",
              "      <td>none</td>\n",
              "      <td>1</td>\n",
              "      <td>0</td>\n",
              "    </tr>\n",
              "  </tbody>\n",
              "</table>\n",
              "</div>\n",
              "      <button class=\"colab-df-convert\" onclick=\"convertToInteractive('df-568c186b-ef39-4ff0-af19-fc973baf910f')\"\n",
              "              title=\"Convert this dataframe to an interactive table.\"\n",
              "              style=\"display:none;\">\n",
              "        \n",
              "  <svg xmlns=\"http://www.w3.org/2000/svg\" height=\"24px\"viewBox=\"0 0 24 24\"\n",
              "       width=\"24px\">\n",
              "    <path d=\"M0 0h24v24H0V0z\" fill=\"none\"/>\n",
              "    <path d=\"M18.56 5.44l.94 2.06.94-2.06 2.06-.94-2.06-.94-.94-2.06-.94 2.06-2.06.94zm-11 1L8.5 8.5l.94-2.06 2.06-.94-2.06-.94L8.5 2.5l-.94 2.06-2.06.94zm10 10l.94 2.06.94-2.06 2.06-.94-2.06-.94-.94-2.06-.94 2.06-2.06.94z\"/><path d=\"M17.41 7.96l-1.37-1.37c-.4-.4-.92-.59-1.43-.59-.52 0-1.04.2-1.43.59L10.3 9.45l-7.72 7.72c-.78.78-.78 2.05 0 2.83L4 21.41c.39.39.9.59 1.41.59.51 0 1.02-.2 1.41-.59l7.78-7.78 2.81-2.81c.8-.78.8-2.07 0-2.86zM5.41 20L4 18.59l7.72-7.72 1.47 1.35L5.41 20z\"/>\n",
              "  </svg>\n",
              "      </button>\n",
              "      \n",
              "  <style>\n",
              "    .colab-df-container {\n",
              "      display:flex;\n",
              "      flex-wrap:wrap;\n",
              "      gap: 12px;\n",
              "    }\n",
              "\n",
              "    .colab-df-convert {\n",
              "      background-color: #E8F0FE;\n",
              "      border: none;\n",
              "      border-radius: 50%;\n",
              "      cursor: pointer;\n",
              "      display: none;\n",
              "      fill: #1967D2;\n",
              "      height: 32px;\n",
              "      padding: 0 0 0 0;\n",
              "      width: 32px;\n",
              "    }\n",
              "\n",
              "    .colab-df-convert:hover {\n",
              "      background-color: #E2EBFA;\n",
              "      box-shadow: 0px 1px 2px rgba(60, 64, 67, 0.3), 0px 1px 3px 1px rgba(60, 64, 67, 0.15);\n",
              "      fill: #174EA6;\n",
              "    }\n",
              "\n",
              "    [theme=dark] .colab-df-convert {\n",
              "      background-color: #3B4455;\n",
              "      fill: #D2E3FC;\n",
              "    }\n",
              "\n",
              "    [theme=dark] .colab-df-convert:hover {\n",
              "      background-color: #434B5C;\n",
              "      box-shadow: 0px 1px 3px 1px rgba(0, 0, 0, 0.15);\n",
              "      filter: drop-shadow(0px 1px 2px rgba(0, 0, 0, 0.3));\n",
              "      fill: #FFFFFF;\n",
              "    }\n",
              "  </style>\n",
              "\n",
              "      <script>\n",
              "        const buttonEl =\n",
              "          document.querySelector('#df-568c186b-ef39-4ff0-af19-fc973baf910f button.colab-df-convert');\n",
              "        buttonEl.style.display =\n",
              "          google.colab.kernel.accessAllowed ? 'block' : 'none';\n",
              "\n",
              "        async function convertToInteractive(key) {\n",
              "          const element = document.querySelector('#df-568c186b-ef39-4ff0-af19-fc973baf910f');\n",
              "          const dataTable =\n",
              "            await google.colab.kernel.invokeFunction('convertToInteractive',\n",
              "                                                     [key], {});\n",
              "          if (!dataTable) return;\n",
              "\n",
              "          const docLinkHtml = 'Like what you see? Visit the ' +\n",
              "            '<a target=\"_blank\" href=https://colab.research.google.com/notebooks/data_table.ipynb>data table notebook</a>'\n",
              "            + ' to learn more about interactive tables.';\n",
              "          element.innerHTML = '';\n",
              "          dataTable['output_type'] = 'display_data';\n",
              "          await google.colab.output.renderOutput(dataTable, element);\n",
              "          const docLink = document.createElement('div');\n",
              "          docLink.innerHTML = docLinkHtml;\n",
              "          element.appendChild(docLink);\n",
              "        }\n",
              "      </script>\n",
              "    </div>\n",
              "  </div>\n",
              "  "
            ]
          },
          "metadata": {},
          "execution_count": 66
        }
      ]
    },
    {
      "cell_type": "code",
      "source": [
        "msg='imagenet natural example # '\n",
        "sdf0= updateADcaptioin(sdf0,idl0,msg)"
      ],
      "metadata": {
        "colab": {
          "base_uri": "https://localhost:8080/"
        },
        "id": "fLce0C1F2KCk",
        "outputId": "2f02e123-54ba-4c5f-8c1d-552b0d3ca2a7"
      },
      "id": "fLce0C1F2KCk",
      "execution_count": null,
      "outputs": [
        {
          "output_type": "stream",
          "name": "stderr",
          "text": [
            "/content/OFA/models/sequence_generator.py:698: UserWarning: __floordiv__ is deprecated, and its behavior will change in a future version of pytorch. It currently rounds toward 0 (like the 'trunc' function NOT 'floor'). This results in incorrect rounding for negative values. To keep the current behavior, use torch.div(a, b, rounding_mode='trunc'), or for actual floor division, use torch.div(a, b, rounding_mode='floor').\n",
            "  unfin_idx = bbsz_idx // beam_size\n"
          ]
        }
      ]
    },
    {
      "cell_type": "code",
      "source": [
        "sdf0.to_csv(folder+'damagenet_1_shot.csv',index=False)#\n",
        "\n",
        "sampdf0=groundtruth[(groundtruth['type_shot']=='none')&(groundtruth['>=224']==1)]\n",
        "sampdf0.to_csv(folder+'sampdf0.csv',index=False)#\n",
        "sdf1.to_csv(folder+'damagenet_1_shot.csv',index=False)# one sample for 250 classes of imagenet\n",
        "sdf2.to_csv(folder+'damagenet_2_shot.csv',index=False)# two samples for 150 classes of imagenet\n",
        "sdf3.to_csv(folder+'damagenet_3_shot.csv',index=False)# three samples for 100 classes of imagenet"
      ],
      "metadata": {
        "id": "A3voVrwnzQ4k"
      },
      "id": "A3voVrwnzQ4k",
      "execution_count": null,
      "outputs": []
    },
    {
      "cell_type": "code",
      "source": [
        ""
      ],
      "metadata": {
        "id": "XIVqBQUqLXMU"
      },
      "id": "XIVqBQUqLXMU",
      "execution_count": null,
      "outputs": []
    }
  ],
  "metadata": {
    "accelerator": "GPU",
    "colab": {
      "collapsed_sections": [],
      "name": "DAmagenet Adversarial captioning  generation datasets.ipynb",
      "provenance": [],
      "machine_shape": "hm",
      "include_colab_link": true
    },
    "kernelspec": {
      "display_name": "Python 3 (ipykernel)",
      "language": "python",
      "name": "python3"
    },
    "language_info": {
      "codemirror_mode": {
        "name": "ipython",
        "version": 3
      },
      "file_extension": ".py",
      "mimetype": "text/x-python",
      "name": "python",
      "nbconvert_exporter": "python",
      "pygments_lexer": "ipython3",
      "version": "3.7.4"
    },
    "gpuClass": "standard"
  },
  "nbformat": 4,
  "nbformat_minor": 5
}