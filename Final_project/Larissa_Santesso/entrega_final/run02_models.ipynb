{
  "nbformat": 4,
  "nbformat_minor": 0,
  "metadata": {
    "colab": {
      "name": "run02_models.ipynb",
      "provenance": [],
      "collapsed_sections": [],
      "machine_shape": "hm",
      "include_colab_link": true
    },
    "kernelspec": {
      "name": "python3",
      "display_name": "Python 3"
    },
    "language_info": {
      "name": "python"
    },
    "accelerator": "GPU",
    "gpuClass": "standard"
  },
  "cells": [
    {
      "cell_type": "markdown",
      "metadata": {
        "id": "view-in-github",
        "colab_type": "text"
      },
      "source": [
        "<a href=\"https://colab.research.google.com/github/unicamp-dl/IA025_2022S1/blob/main/Final_project/Larissa_Santesso/entrega_final/run02_models.ipynb\" target=\"_parent\"><img src=\"https://colab.research.google.com/assets/colab-badge.svg\" alt=\"Open In Colab\"/></a>"
      ]
    },
    {
      "cell_type": "code",
      "execution_count": null,
      "metadata": {
        "colab": {
          "base_uri": "https://localhost:8080/"
        },
        "id": "d359Sn2DRQO0",
        "outputId": "95a25d59-ec94-4c50-e32a-cd94dad2ba09"
      },
      "outputs": [
        {
          "output_type": "stream",
          "name": "stdout",
          "text": [
            "Drive already mounted at /content/gdrive; to attempt to forcibly remount, call drive.mount(\"/content/gdrive\", force_remount=True).\n"
          ]
        }
      ],
      "source": [
        "#from google.colab import drive\n",
        "#drive.mount('/content/gdrive')"
      ]
    },
    {
      "cell_type": "code",
      "source": [
        "#!pip install import-ipynb\n",
        "#import import_ipynb"
      ],
      "metadata": {
        "id": "p0NgVdIJBhqx",
        "colab": {
          "base_uri": "https://localhost:8080/"
        },
        "outputId": "5804a9b4-f654-462f-e5b6-fffc238fce5c"
      },
      "execution_count": null,
      "outputs": [
        {
          "output_type": "stream",
          "name": "stdout",
          "text": [
            "Looking in indexes: https://pypi.org/simple, https://us-python.pkg.dev/colab-wheels/public/simple/\n",
            "Requirement already satisfied: import-ipynb in /usr/local/lib/python3.7/dist-packages (0.1.4)\n",
            "Requirement already satisfied: IPython in /usr/local/lib/python3.7/dist-packages (from import-ipynb) (5.5.0)\n",
            "Requirement already satisfied: nbformat in /usr/local/lib/python3.7/dist-packages (from import-ipynb) (5.4.0)\n",
            "Requirement already satisfied: simplegeneric>0.8 in /usr/local/lib/python3.7/dist-packages (from IPython->import-ipynb) (0.8.1)\n",
            "Requirement already satisfied: pexpect in /usr/local/lib/python3.7/dist-packages (from IPython->import-ipynb) (4.8.0)\n",
            "Requirement already satisfied: prompt-toolkit<2.0.0,>=1.0.4 in /usr/local/lib/python3.7/dist-packages (from IPython->import-ipynb) (1.0.18)\n",
            "Requirement already satisfied: pygments in /usr/local/lib/python3.7/dist-packages (from IPython->import-ipynb) (2.6.1)\n",
            "Requirement already satisfied: decorator in /usr/local/lib/python3.7/dist-packages (from IPython->import-ipynb) (4.4.2)\n",
            "Requirement already satisfied: setuptools>=18.5 in /usr/local/lib/python3.7/dist-packages (from IPython->import-ipynb) (57.4.0)\n",
            "Requirement already satisfied: pickleshare in /usr/local/lib/python3.7/dist-packages (from IPython->import-ipynb) (0.7.5)\n",
            "Requirement already satisfied: traitlets>=4.2 in /usr/local/lib/python3.7/dist-packages (from IPython->import-ipynb) (5.1.1)\n",
            "Requirement already satisfied: wcwidth in /usr/local/lib/python3.7/dist-packages (from prompt-toolkit<2.0.0,>=1.0.4->IPython->import-ipynb) (0.2.5)\n",
            "Requirement already satisfied: six>=1.9.0 in /usr/local/lib/python3.7/dist-packages (from prompt-toolkit<2.0.0,>=1.0.4->IPython->import-ipynb) (1.15.0)\n",
            "Requirement already satisfied: fastjsonschema in /usr/local/lib/python3.7/dist-packages (from nbformat->import-ipynb) (2.15.3)\n",
            "Requirement already satisfied: jupyter-core in /usr/local/lib/python3.7/dist-packages (from nbformat->import-ipynb) (4.10.0)\n",
            "Requirement already satisfied: jsonschema>=2.6 in /usr/local/lib/python3.7/dist-packages (from nbformat->import-ipynb) (4.3.3)\n",
            "Requirement already satisfied: importlib-metadata in /usr/local/lib/python3.7/dist-packages (from jsonschema>=2.6->nbformat->import-ipynb) (4.11.4)\n",
            "Requirement already satisfied: pyrsistent!=0.17.0,!=0.17.1,!=0.17.2,>=0.14.0 in /usr/local/lib/python3.7/dist-packages (from jsonschema>=2.6->nbformat->import-ipynb) (0.18.1)\n",
            "Requirement already satisfied: attrs>=17.4.0 in /usr/local/lib/python3.7/dist-packages (from jsonschema>=2.6->nbformat->import-ipynb) (21.4.0)\n",
            "Requirement already satisfied: typing-extensions in /usr/local/lib/python3.7/dist-packages (from jsonschema>=2.6->nbformat->import-ipynb) (4.1.1)\n",
            "Requirement already satisfied: importlib-resources>=1.4.0 in /usr/local/lib/python3.7/dist-packages (from jsonschema>=2.6->nbformat->import-ipynb) (5.7.1)\n",
            "Requirement already satisfied: zipp>=3.1.0 in /usr/local/lib/python3.7/dist-packages (from importlib-resources>=1.4.0->jsonschema>=2.6->nbformat->import-ipynb) (3.8.0)\n",
            "Requirement already satisfied: ptyprocess>=0.5 in /usr/local/lib/python3.7/dist-packages (from pexpect->IPython->import-ipynb) (0.7.0)\n"
          ]
        }
      ]
    },
    {
      "cell_type": "code",
      "source": [
        "#cd /content/gdrive/MyDrive/Colab\\ Notebooks/Projeto/"
      ],
      "metadata": {
        "id": "lhjnoSib6BkQ",
        "colab": {
          "base_uri": "https://localhost:8080/"
        },
        "outputId": "d8967fbb-f2c1-429c-a32f-da4a4aae09a6"
      },
      "execution_count": null,
      "outputs": [
        {
          "output_type": "stream",
          "name": "stdout",
          "text": [
            "/content/gdrive/.shortcut-targets-by-id/1OB8WtjF9IhjzAcbKVtlebYWYLazjwmVV/Projeto\n"
          ]
        }
      ]
    },
    {
      "cell_type": "code",
      "source": [
        "#!ls"
      ],
      "metadata": {
        "colab": {
          "base_uri": "https://localhost:8080/"
        },
        "id": "hecn_WOJ_KHm",
        "outputId": "5dc036b9-6d27-4601-fdad-f68c45ce03c5"
      },
      "execution_count": null,
      "outputs": [
        {
          "output_type": "stream",
          "name": "stdout",
          "text": [
            "'Apresentação de Projetos Finais - Larissa Santesso.gslides'\n",
            " arquiteturas_backup\n",
            " backup\n",
            " backup2\n",
            " checkpoints\n",
            " dataset\n",
            " modelos\n",
            " others\n",
            " run00_dataset.ipynb\n",
            " run01_metrics.ipynb\n",
            " run02_models.ipynb\n",
            " ViT_T5base_dsetComplete_exp001.ipynb\n"
          ]
        }
      ]
    },
    {
      "cell_type": "code",
      "source": [
        "from run00_dataset import *"
      ],
      "metadata": {
        "id": "DioNtAoLKPbm"
      },
      "execution_count": null,
      "outputs": []
    },
    {
      "cell_type": "markdown",
      "metadata": {
        "id": "dJf83M90JTqi"
      },
      "source": [
        "# Model: Encoder (ViT) e Decoder (T5)"
      ]
    },
    {
      "cell_type": "code",
      "execution_count": null,
      "metadata": {
        "id": "FUZTPVxyE_qo"
      },
      "outputs": [],
      "source": [
        "class Encoder(nn.Module):\n",
        "    def __init__(self, pretrained_model):\n",
        "        \"\"\"\n",
        "        Implements the Encoder.\"\n",
        "\n",
        "        Args:\n",
        "            pretrained_model (str): name of the pretrained model\n",
        "\n",
        "        \"\"\"\n",
        "\n",
        "        super(Encoder, self).__init__()\n",
        "\n",
        "        self.encoder = ViTModel.from_pretrained(pretrained_model)\n",
        "\n",
        "    def forward(self, input):\n",
        "        out  = self.encoder(pixel_values = input)\n",
        "\n",
        "        return out"
      ]
    },
    {
      "cell_type": "code",
      "execution_count": null,
      "metadata": {
        "id": "yg-PQS83GG3H"
      },
      "outputs": [],
      "source": [
        "class Decoder(nn.Module):\n",
        "    def __init__(self, pretrained_model, encoder_modeldim):\n",
        "        \"\"\"\n",
        "        Implements the Encoder.\"\n",
        "\n",
        "        Args:\n",
        "            pretrained_model (str): name of the pretrained model\n",
        "\n",
        "        \"\"\"\n",
        "        \n",
        "        super(Decoder, self).__init__()\n",
        "        \n",
        "        self.decoder = T5ForConditionalGeneration.from_pretrained(pretrained_model)\n",
        "        self.linear = nn.Linear(self.decoder.model_dim, encoder_modeldim, bias = False)\n",
        "        self.encoder_modeldim = encoder_modeldim\n",
        "\n",
        "    def forward(self, output_encoder, targets, decoder_ids=None):\n",
        "\n",
        "        if self.decoder.model_dim!=self.encoder_modeldim:\n",
        "            print(f\"Changed model hidden dimension from {self.encoder_modeldim} to {self.decoder.model_dim}\")\n",
        "            output_encoder = self.linear(output_encoder)\n",
        "            print(output_encoder.shape)\n",
        "\n",
        "        # Validation/Testing\n",
        "        if decoder_ids is not None:\n",
        "            out = self.decoder(encoder_outputs=output_encoder, decoder_input_ids=decoder_ids)\n",
        "\n",
        "        # Training\n",
        "        else:\n",
        "            out = self.decoder(encoder_outputs=output_encoder, labels=targets)\n",
        "\n",
        "        return out"
      ]
    },
    {
      "cell_type": "code",
      "execution_count": null,
      "metadata": {
        "id": "ig4Ai5SAGv35"
      },
      "outputs": [],
      "source": [
        "class EncoderDecoder(nn.Module):\n",
        "    def __init__(self, pretrained_model: Tuple[str], encoder_dmodel=768, eos_token_id=None, pad_token_id=None):\n",
        "        \"\"\"\n",
        "        Implements a model that combines MyEncoder and MyDecoder.\"\n",
        "\n",
        "        Args:\n",
        "            pretrained_model (tuple): name of the pretrained model\n",
        "            encoder_dmodel (int):  hidden dimension of the encoder output\n",
        "            eos_token_id (torch.long): token used for end of sentence  \n",
        "            pad_token_id (torch.long): token used for padding\n",
        "\n",
        "        \"\"\"\n",
        "        \n",
        "        super(EncoderDecoder, self).__init__()\n",
        "        self.eos_token_id = eos_token_id\n",
        "        self.pad_token_id = pad_token_id\n",
        "        self.encoder = Encoder(pretrained_model[0])\n",
        "        self.encoder_dmodel = encoder_dmodel\n",
        "\n",
        "        # Freeze parameters from encoder\n",
        "        #for p in self.encoder.parameters():\n",
        "        #    p.requires_grad=False\n",
        "\n",
        "        self.decoder = Decoder(pretrained_model[1], self.encoder_dmodel)\n",
        "        self.decoder_start_token_id = self.decoder.decoder.config.decoder_start_token_id\n",
        "\n",
        "    def forward(self, images = None, targets = None, decoder_ids = None):\n",
        "        output_encoder  = self.encoder(images)\n",
        "        out = self.decoder(output_encoder, targets, decoder_ids)\n",
        "\n",
        "        return out"
      ]
    },
    {
      "cell_type": "code",
      "execution_count": null,
      "metadata": {
        "id": "hT3EF37dbaDU"
      },
      "outputs": [],
      "source": [
        "# Uncomment if you want to check model parameters\n",
        "# These lines were comemmented to avoid waste of memory\n",
        "\n",
        "#model = EncoderDecoder(pretrained_model = (config_exp[\"encoder_pretrained_model\"], config_exp[\"decoder_pretrained_model\"]), \n",
        "#                       eos_token_id=tokenizer.eos_token_id, \n",
        "#                       pad_token_id=tokenizer.pad_token_id)"
      ]
    },
    {
      "cell_type": "code",
      "execution_count": null,
      "metadata": {
        "colab": {
          "base_uri": "https://localhost:8080/"
        },
        "id": "GIUX7gystL_J",
        "outputId": "6c607028-43a1-42fe-e6b8-d58d5c72a222"
      },
      "outputs": [
        {
          "output_type": "stream",
          "name": "stdout",
          "text": [
            "Número de parâmetros do modelo: 309882624\n"
          ]
        }
      ],
      "source": [
        "#num_params = sum(p.numel() for p in model.parameters() if p.requires_grad)\n",
        "#print(f'Número de parâmetros do modelo: {num_params}')"
      ]
    }
  ]
}