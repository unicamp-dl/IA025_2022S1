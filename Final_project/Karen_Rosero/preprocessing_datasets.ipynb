{
  "cells": [
    {
      "cell_type": "markdown",
      "metadata": {
        "id": "view-in-github",
        "colab_type": "text"
      },
      "source": [
        "<a href=\"https://colab.research.google.com/github/unicamp-dl/IA025_2022S1/blob/main/Final_project/Karen_Rosero/preprocessing_datasets.ipynb\" target=\"_parent\"><img src=\"https://colab.research.google.com/assets/colab-badge.svg\" alt=\"Open In Colab\"/></a>"
      ]
    },
    {
      "cell_type": "markdown",
      "id": "95459e0a",
      "metadata": {
        "id": "95459e0a"
      },
      "source": [
        "# Sound classification and localization using transformers\n",
        "## Notebook for preprocessing the ANSYN, REAL, and L3DAS21 datasets\n",
        "\n",
        "### Author: Karen Rosero"
      ]
    },
    {
      "cell_type": "markdown",
      "id": "177dcddf",
      "metadata": {
        "id": "177dcddf"
      },
      "source": [
        "O objetivo deste notebook é mudar a frequência de amostragem para 16000Hz visando a compatibilidade com o modelo pré-treinado wav2vec2. Também é modificado o formato das etiquetas que indicava o tempo de começo e finalização do evento de som, para um formato de amostras. \n",
        "Os sons contidos em cada áudio são separados e armazenados em diferentes arquivos.\n",
        "Os diretorios dos arquivos devem ser modificados para a correta utilização deste notebook."
      ]
    },
    {
      "cell_type": "markdown",
      "id": "a7847d4a",
      "metadata": {
        "id": "a7847d4a"
      },
      "source": [
        "Importo bibliotecas"
      ]
    },
    {
      "cell_type": "code",
      "execution_count": null,
      "id": "2780edc1",
      "metadata": {
        "id": "2780edc1"
      },
      "outputs": [],
      "source": [
        "import os \n",
        "import numpy as np\n",
        "import shutil\n",
        "import torch\n",
        "import torchaudio\n",
        "import torchaudio.functional as F\n",
        "import torchaudio.transforms as T\n",
        "import csv"
      ]
    },
    {
      "cell_type": "markdown",
      "id": "96ecc157",
      "metadata": {
        "id": "96ecc157"
      },
      "source": [
        "## 1. Pré-procesando a base de dados ANSYN "
      ]
    },
    {
      "cell_type": "markdown",
      "source": [
        "A base de dados *TUT Sound Events 2018 - Ambisonic, Anechoic and Synthetic Impulse Response Dataset (ANSYN)* pode ser obtida no link: https://zenodo.org/record/1237703#.YthZoPvQ9Qw"
      ],
      "metadata": {
        "id": "ZR7VQOI5HzHV"
      },
      "id": "ZR7VQOI5HzHV"
    },
    {
      "cell_type": "markdown",
      "id": "9f250fd0",
      "metadata": {
        "id": "9f250fd0"
      },
      "source": [
        "Declaração de variáveis"
      ]
    },
    {
      "cell_type": "code",
      "execution_count": null,
      "id": "30035776",
      "metadata": {
        "id": "30035776"
      },
      "outputs": [],
      "source": [
        "wav_fold = '/home/lab_acustica/Documentos/ANSYN_Dataset/ov1_split3/wav_ov1_split3_30db/'\n",
        "label_fold = '/home/lab_acustica/Documentos/ANSYN_Dataset/ov1_split3/desc_ov1_split3/'\n",
        "new_path = '/home/lab_acustica/Documentos/ANSYN_Dataset/wav_separate_sounds_ov1/des_ov1s3/'\n",
        "tg_sr = 16000\n",
        "_unique_classes = \\\n",
        "                {\n",
        "                    'clearthroat': '02',\n",
        "                    'cough': '08',\n",
        "                    'doorslam': '09',\n",
        "                    'drawer': '01',\n",
        "                    'keyboard': '06',\n",
        "                    'keysDrop': '04',\n",
        "                    'knock': '00',\n",
        "                    'laughter': '10',\n",
        "                    'pageturn': '07',\n",
        "                    'phone': '03',\n",
        "                    'speech': '05'\n",
        "                }"
      ]
    },
    {
      "cell_type": "markdown",
      "id": "babc0b04",
      "metadata": {
        "id": "babc0b04"
      },
      "source": [
        "Funções de processamento"
      ]
    },
    {
      "cell_type": "code",
      "execution_count": null,
      "id": "ba608875",
      "metadata": {
        "id": "ba608875"
      },
      "outputs": [],
      "source": [
        "def _read_desc_file(desc_filename):\n",
        "    desc_file = {\n",
        "        'class': list(), 'start': list(), 'end': list(), 'ele': list(), 'azi': list()\n",
        "    }\n",
        "    fid = open(desc_filename, 'r')\n",
        "    next(fid)\n",
        "    for line in fid:\n",
        "        split_line = line.strip().split(',') \n",
        "        desc_file['class'].append(_unique_classes[split_line[0].split('.')[0][:-3]])\n",
        "        desc_file['start'].append(int(np.floor(float(split_line[1])*16000)))\n",
        "        desc_file['end'].append(int(np.ceil(float(split_line[2])*16000)))\n",
        "        desc_file['ele'].append(int(split_line[3]))\n",
        "        desc_file['azi'].append(int(split_line[4]))\n",
        "    \n",
        "    fid.close()\n",
        "    return desc_file\n",
        "\n",
        "def process_audio(audio_path, desc_file):\n",
        "    audio, sr =  torchaudio.load(audio_path)\n",
        "    resampler = T.Resample(sr, 16000)\n",
        "    audio = resampler(audio)\n",
        "    audio_list = []\n",
        "    classe = []\n",
        "    elev = []\n",
        "    azim = []\n",
        "    for i in range(len(desc_file['start'])):\n",
        "        audio_list.append(audio[:, desc_file['start'][i]:desc_file['end'][i]])\n",
        "    return audio_list"
      ]
    },
    {
      "cell_type": "markdown",
      "id": "6a076797",
      "metadata": {
        "id": "6a076797"
      },
      "source": [
        "Loop principal de processamento. Salva os arquivos de áudio e as etiquetas no novo formato e com novos nomes."
      ]
    },
    {
      "cell_type": "code",
      "execution_count": null,
      "id": "969a5ab5",
      "metadata": {
        "id": "969a5ab5"
      },
      "outputs": [],
      "source": [
        "for file in os.listdir(wav_fold):\n",
        "    if 'test' in file and len(file)==22:\n",
        "        dicc_labels = _read_desc_file(label_fold +file[:-3]+\"csv\")\n",
        "        signal_list = process_audio(wav_fold+file, dicc_labels)\n",
        "        for i in range(len(signal_list)):\n",
        "            new_name = 'tst_00'+file[5]+'_'+str(i)+'_'+\"ov1\"+'_s3_'+str(dicc_labels[\"class\"][i])\n",
        "            _fid = open(new_path + new_name+'.csv', 'w')\n",
        "            _fid.write('{},{},{}\\n'.format(int(dicc_labels[\"class\"][i]), int(dicc_labels[\"ele\"][i]), int(dicc_labels[\"azi\"][i])))   \n",
        "            _fid.close()            \n",
        "    elif 'test' in file and len(file)==23:\n",
        "        dicc_labels = _read_desc_file(label_fold +file[:-3]+\"csv\")\n",
        "        signal_list = process_audio(wav_fold+file, dicc_labels)\n",
        "        for i in range(len(signal_list)):\n",
        "            new_name = 'tst_0'+file[5:7]+'_'+str(i)+'_'+\"ov1\"+'_s3_'+str(dicc_labels[\"class\"][i])\n",
        "            torchaudio.save(new_path+new_name , signal_list[i], 16000)  \n",
        "            _fid = open(new_path +new_name+'.csv', 'w')\n",
        "            _fid.write('{},{},{}\\n'.format(int(dicc_labels[\"class\"][i]), int(dicc_labels[\"ele\"][i]), int(dicc_labels[\"azi\"][i])))   \n",
        "            _fid.close()              \n",
        "    elif 'train' in file and len(file)==23:      \n",
        "        dicc_labels = _read_desc_file(label_fold +file[:-3]+\"csv\")\n",
        "        signal_list = process_audio(wav_fold+file, dicc_labels)\n",
        "        for i in range(len(signal_list)):\n",
        "            new_name = 'tra_00'+file[6]+'_'+str(i)+'_'+\"ov1\"+'_s3_'+str(dicc_labels[\"class\"][i])\n",
        "            torchaudio.save(new_path+new_name , signal_list[i], 16000)   \n",
        "            _fid = open(new_path +new_name+'.csv', 'w')\n",
        "            _fid.write('{},{},{}\\n'.format(int(dicc_labels[\"class\"][i]), int(dicc_labels[\"ele\"][i]), int(dicc_labels[\"azi\"][i])))   \n",
        "            _fid.close()              \n",
        "    elif 'train' in file and len(file)==24:           \n",
        "        dicc_labels = _read_desc_file(label_fold +file[:-3]+\"csv\")\n",
        "        signal_list = process_audio(wav_fold+file, dicc_labels)\n",
        "        for i in range(len(signal_list)):\n",
        "            new_name = 'tra_0'+file[6:8]+'_'+str(i)+'_'+\"ov1\"+'_s3_'+str(dicc_labels[\"class\"][i])\n",
        "            torchaudio.save(new_path+new_name , signal_list[i], 16000) \n",
        "            _fid = open(new_path +new_name+'.csv', 'w')\n",
        "            _fid.write('{},{},{}\\n'.format(int(dicc_labels[\"class\"][i]), int(dicc_labels[\"ele\"][i]), int(dicc_labels[\"azi\"][i])))   \n",
        "            _fid.close()              \n",
        "    elif 'train' in file and len(file)==25:   \n",
        "        dicc_labels = _read_desc_file(label_fold +file[:-3]+\"csv\")\n",
        "        signal_list = process_audio(wav_fold+file, dicc_labels)\n",
        "        for i in range(len(signal_list)):\n",
        "            new_name = 'tra_'+file[6:9]+'_'+str(i)+'_'+\"ov1\"+'_s3_'+str(dicc_labels[\"class\"][i])\n",
        "            torchaudio.save(new_path+new_name , signal_list[i], 16000) \n",
        "            _fid = open(new_path +new_name+'.csv', 'w')\n",
        "            _fid.write('{},{},{}\\n'.format(int(dicc_labels[\"class\"][i]), int(dicc_labels[\"ele\"][i]), int(dicc_labels[\"azi\"][i])))   \n",
        "            _fid.close()              "
      ]
    },
    {
      "cell_type": "markdown",
      "id": "e14ab610",
      "metadata": {
        "id": "e14ab610"
      },
      "source": [
        "## 2. Pré-procesando a base de dados REAL "
      ]
    },
    {
      "cell_type": "markdown",
      "source": [
        "A base de dados *TUT Sound Events 2018 - Ambisonic, Reverberant and Real-life Impulse Response Dataset (REAL)* pode ser obtida no link: https://zenodo.org/record/1237793#.YthaOPvQ9Qw"
      ],
      "metadata": {
        "id": "AjGSFGWQIEB_"
      },
      "id": "AjGSFGWQIEB_"
    },
    {
      "cell_type": "markdown",
      "id": "7d72c638",
      "metadata": {
        "id": "7d72c638"
      },
      "source": [
        "Declaração de variáveis"
      ]
    },
    {
      "cell_type": "code",
      "execution_count": null,
      "id": "c059269f",
      "metadata": {
        "id": "c059269f"
      },
      "outputs": [],
      "source": [
        "wav_fold = '/home/lab_acustica/Documentos/REAL_Dataset/ov1_split1/wav_ov1_split1_30db/'\n",
        "label_fold = '/home/lab_acustica/Documentos/REAL_Dataset/ov1_split1/desc_ov1_split1/'\n",
        "new_path = '/home/lab_acustica/Documentos/REAL_Dataset/wav_separate_sounds_ov1/des_ov1s1/'\n",
        "wav_new_path = '/home/lab_acustica/Documentos/REAL_Dataset/wav_separate_sounds_ov1/wav_ov1s1/'\n",
        "\n",
        "tg_sr = 16000\n",
        "_unique_classes = \\\n",
        "                {\n",
        "                    '1': 0,\n",
        "                    '3': 1,\n",
        "                    '4': 2,\n",
        "                    '5': 3,\n",
        "                    '6': 4,\n",
        "                    '7': 5,\n",
        "                    '8': 6,\n",
        "                    '9': 7\n",
        "                }"
      ]
    },
    {
      "cell_type": "markdown",
      "id": "05f8ec7a",
      "metadata": {
        "id": "05f8ec7a"
      },
      "source": [
        "Funções de processamento"
      ]
    },
    {
      "cell_type": "code",
      "execution_count": null,
      "id": "7bdfe485",
      "metadata": {
        "id": "7bdfe485"
      },
      "outputs": [],
      "source": [
        "def _read_desc_file(desc_filename):\n",
        "    desc_file = {\n",
        "        'class': list(), 'start': list(), 'end': list(),  'ele': list(), 'azi': list()\n",
        "    }\n",
        "    fid = open(desc_filename, 'r')\n",
        "    next(fid)\n",
        "    for line in fid:\n",
        "        split_line = line.strip().split(',') \n",
        "        desc_file['class'].append(_unique_classes[split_line[0].split('.')[0].split('-')[1]])\n",
        "        desc_file['start'].append(int(np.floor(float(split_line[1])*16000)))\n",
        "        desc_file['end'].append(int(np.ceil(float(split_line[2])*16000))+1)\n",
        "        desc_file['ele'].append(int(split_line[3]))\n",
        "        desc_file['azi'].append(int(split_line[4]))        \n",
        "    \n",
        "    fid.close()\n",
        "    return desc_file\n",
        "\n",
        "def process_audio(audio_path, desc_file):\n",
        "    audio, sr =  torchaudio.load(audio_path)\n",
        "    resampler = T.Resample(sr, 16000)\n",
        "    audio = resampler(audio)\n",
        "    audio_list = []\n",
        "    classe = []\n",
        "    elev = []\n",
        "    azim = []\n",
        "    for i in range(len(desc_file['start'])):\n",
        "        audio_list.append(audio[:, desc_file['start'][i]:desc_file['end'][i]])\n",
        "    return audio_list"
      ]
    },
    {
      "cell_type": "markdown",
      "id": "d0e6a510",
      "metadata": {
        "id": "d0e6a510"
      },
      "source": [
        "Loop principal de processamento. Salva os arquivos de áudio e as etiquetas no novo formato e com novos nomes."
      ]
    },
    {
      "cell_type": "code",
      "execution_count": null,
      "id": "d84f43ce",
      "metadata": {
        "id": "d84f43ce"
      },
      "outputs": [],
      "source": [
        "for file in os.listdir(wav_fold):\n",
        "    if 'test' in file and len(file)==22:\n",
        "        dicc_labels = _read_desc_file(label_fold +file[:-3]+\"csv\")\n",
        "        signal_list = process_audio(wav_fold+file, dicc_labels)\n",
        "        for i in range(len(signal_list)):\n",
        "            new_name = 'tst_00'+file[5]+'_'+str(i)+'_'+\"ov1\"+'_s1_'+str(dicc_labels[\"class\"][i])\n",
        "            _fid = open(new_path + new_name+'.csv', 'w')\n",
        "            _fid.write('{},{},{}\\n'.format(int(dicc_labels[\"class\"][i]), int(dicc_labels[\"ele\"][i]), int(dicc_labels[\"azi\"][i])))   \n",
        "            _fid.close()       \n",
        "            torchaudio.save(wav_new_path+new_name +'.wav', signal_list[i], 16000) \n",
        "    elif 'test' in file and len(file)==23:\n",
        "        dicc_labels = _read_desc_file(label_fold +file[:-3]+\"csv\")\n",
        "        signal_list = process_audio(wav_fold+file, dicc_labels)\n",
        "        for i in range(len(signal_list)):\n",
        "            new_name = 'tst_0'+file[5:7]+'_'+str(i)+'_'+\"ov1\"+'_s1_'+str(dicc_labels[\"class\"][i])\n",
        "            torchaudio.save(new_path+new_name , signal_list[i], 16000)  \n",
        "            _fid = open(new_path +new_name+'.csv', 'w')\n",
        "            _fid.write('{},{},{}\\n'.format(int(dicc_labels[\"class\"][i]), int(dicc_labels[\"ele\"][i]), int(dicc_labels[\"azi\"][i])))   \n",
        "            _fid.close()      \n",
        "            torchaudio.save(wav_new_path+new_name +'.wav', signal_list[i], 16000) \n",
        "    elif 'train' in file and len(file)==23:      \n",
        "        dicc_labels = _read_desc_file(label_fold +file[:-3]+\"csv\")\n",
        "        signal_list = process_audio(wav_fold+file, dicc_labels)\n",
        "        for i in range(len(signal_list)):\n",
        "            new_name = 'tra_00'+file[6]+'_'+str(i)+'_'+\"ov1\"+'_s1_'+str(dicc_labels[\"class\"][i])\n",
        "            torchaudio.save(new_path+new_name , signal_list[i], 16000)   \n",
        "            _fid = open(new_path +new_name+'.csv', 'w')\n",
        "            _fid.write('{},{},{}\\n'.format(int(dicc_labels[\"class\"][i]), int(dicc_labels[\"ele\"][i]), int(dicc_labels[\"azi\"][i])))   \n",
        "            _fid.close()       \n",
        "            torchaudio.save(wav_new_path+new_name +'.wav', signal_list[i], 16000) \n",
        "    elif 'train' in file and len(file)==24:           \n",
        "        dicc_labels = _read_desc_file(label_fold +file[:-3]+\"csv\")\n",
        "        signal_list = process_audio(wav_fold+file, dicc_labels)\n",
        "        for i in range(len(signal_list)):\n",
        "            new_name = 'tra_0'+file[6:8]+'_'+str(i)+'_'+\"ov1\"+'_s1_'+str(dicc_labels[\"class\"][i])\n",
        "            torchaudio.save(new_path+new_name , signal_list[i], 16000) \n",
        "            _fid = open(new_path +new_name+'.csv', 'w')\n",
        "            _fid.write('{},{},{}\\n'.format(int(dicc_labels[\"class\"][i]), int(dicc_labels[\"ele\"][i]), int(dicc_labels[\"azi\"][i])))   \n",
        "            _fid.close()    \n",
        "            torchaudio.save(wav_new_path+new_name +'.wav', signal_list[i], 16000) \n",
        "    elif 'train' in file and len(file)==25:   \n",
        "        dicc_labels = _read_desc_file(label_fold +file[:-3]+\"csv\")\n",
        "        signal_list = process_audio(wav_fold+file, dicc_labels)\n",
        "        for i in range(len(signal_list)):\n",
        "            new_name = 'tra_'+file[6:9]+'_'+str(i)+'_'+\"ov1\"+'_s1_'+str(dicc_labels[\"class\"][i])\n",
        "            torchaudio.save(new_path+new_name , signal_list[i], 16000) \n",
        "            _fid = open(new_path +new_name+'.csv', 'w')\n",
        "            _fid.write('{},{},{}\\n'.format(int(dicc_labels[\"class\"][i]), int(dicc_labels[\"ele\"][i]), int(dicc_labels[\"azi\"][i])))   \n",
        "            _fid.close()   \n",
        "            torchaudio.save(wav_new_path+new_name +'.wav', signal_list[i], 16000) "
      ]
    },
    {
      "cell_type": "markdown",
      "id": "cad134ca",
      "metadata": {
        "id": "cad134ca"
      },
      "source": [
        "## 3. Pré-procesando a base de dados L3DAS21 "
      ]
    },
    {
      "cell_type": "markdown",
      "source": [
        "A base de dados *L3DAS21: MACHINE LEARNING FOR 3D AUDIO SIGNAL PROCESSING Task for 3D Sound Event Localization and Detection* pode ser obtida no link: https://zenodo.org/record/4642005#.YthaZfvQ9Qw"
      ],
      "metadata": {
        "id": "I2IL8Z97IOwI"
      },
      "id": "I2IL8Z97IOwI"
    },
    {
      "cell_type": "markdown",
      "id": "f4a88b0b",
      "metadata": {
        "id": "f4a88b0b"
      },
      "source": [
        "Declaração de variáveis"
      ]
    },
    {
      "cell_type": "code",
      "execution_count": null,
      "id": "cb16fb7a",
      "metadata": {
        "id": "cb16fb7a"
      },
      "outputs": [],
      "source": [
        "dataset_fold = '/content/drive/MyDrive/Especial/IA025/Projeto_IA025/L3DAS21_Dataset/'\n",
        "new_path = '/content/drive/MyDrive/Especial/IA025/Projeto_IA025/L3DAS21_Dataset/L3DAS21_separate_sounds_ov1/'\n",
        "\n",
        "tg_sr = 16000\n",
        "_unique_classes = \\\n",
        "                {'Chink_and_clink':0,\n",
        "                           'Computer_keyboard':1,\n",
        "                           'Cupboard_open_or_close':2,\n",
        "                           'Drawer_open_or_close':3,\n",
        "                           'Female_speech_and_woman_speaking':4,\n",
        "                           'Finger_snapping':5,\n",
        "                           'Keys_jangling':6,\n",
        "                           'Knock':7,\n",
        "                           'Laughter':8,\n",
        "                           'Male_speech_and_man_speaking':9,\n",
        "                           'Printer':10,\n",
        "                           'Scissors':11,\n",
        "                           'Telephone':12,\n",
        "                           'Writing':13}"
      ]
    },
    {
      "cell_type": "markdown",
      "id": "f36f358f",
      "metadata": {
        "id": "f36f358f"
      },
      "source": [
        "Funções de processamento"
      ]
    },
    {
      "cell_type": "code",
      "execution_count": null,
      "id": "aad44151",
      "metadata": {
        "id": "aad44151"
      },
      "outputs": [],
      "source": [
        "def _read_desc_file(desc_filename):\n",
        "    desc_file = {\n",
        "        'class': list(), 'start': list(), 'end': list(), 'x': list(), 'y': list(), 'z': list()\n",
        "    }\n",
        "    fid = open(desc_filename, 'r')\n",
        "    next(fid)\n",
        "    for line in fid:\n",
        "        split_line = line.strip().split(',')\n",
        "        desc_file['class'].append(_unique_classes[split_line[3]])\n",
        "        desc_file['start'].append(int(np.floor(float(split_line[1])*16000)))\n",
        "        desc_file['end'].append(int(np.ceil(float(split_line[2])*16000)))\n",
        "        desc_file['x'].append(float(split_line[4]))\n",
        "        desc_file['y'].append(float(split_line[5]) )\n",
        "        desc_file['z'].append(float(split_line[6]) )     \n",
        "    fid.close()\n",
        "    return desc_file\n",
        "\n",
        "def process_audio(audio_path, desc_file):\n",
        "    audio, sr =  torchaudio.load(audio_path)\n",
        "    resampler = T.Resample(sr, 16000)\n",
        "    audio = resampler(audio)\n",
        "    audio_list = []\n",
        "    classe = []\n",
        "    elev = []\n",
        "    azim = []\n",
        "    for i in range(len(desc_file['start'])):\n",
        "        audio_list.append(audio[:, desc_file['start'][i]:desc_file['end'][i]])\n",
        "    return audio_list\n"
      ]
    },
    {
      "cell_type": "markdown",
      "id": "61c9007e",
      "metadata": {
        "id": "61c9007e"
      },
      "source": [
        "Loop principal de processamento. Salva os arquivos de áudio e as etiquetas no novo formato e com novos nomes."
      ]
    },
    {
      "cell_type": "code",
      "execution_count": null,
      "id": "c73cbd27",
      "metadata": {
        "id": "c73cbd27"
      },
      "outputs": [],
      "source": [
        "for fold in os.listdir(dataset_fold):\n",
        "    if 'dev' in fold:\n",
        "        for filename in os.listdir(dataset_fold+fold+'/labels/'):\n",
        "            dicc_labels = _read_desc_file(dataset_fold+fold+'/labels/'+filename)\n",
        "            wav_name = dataset_fold+fold+'/data/'+filename[6:-4]+'_A.wav'\n",
        "            signal_list = process_audio(wav_name, dicc_labels)\n",
        "            for i in range(len(signal_list)):        \n",
        "                if len(filename[6:-4])==12:\n",
        "                    new_name = 'tst_0'+filename[-5]+'_'+str(i)+'_'+\"ov\"+filename[15]+'_s'+filename[11]\n",
        "                    print(new_name)\n",
        "                    torchaudio.save(new_path+'wav_files/'+new_name+'.wav', signal_list[i], 16000)\n",
        "                    _fid = open(new_path +'des_files/'+ new_name+'.csv', 'w')\n",
        "                    _fid.write('{},{},{},{}\\n'.format(int(dicc_labels[\"class\"][i]), dicc_labels[\"x\"][i], dicc_labels[\"y\"][i], dicc_labels[\"z\"][i]))   \n",
        "                    _fid.close()    \n",
        "                if len(filename[6:-4])==13:\n",
        "                    new_name = 'tst_'+filename[-6:-4]+'_'+str(i)+'_'+\"ov\"+filename[15]+'_s'+filename[11]\n",
        "                    print(new_name)\n",
        "                    torchaudio.save(new_path+'wav_files/'+new_name+'.wav', signal_list[i], 16000)\n",
        "                    _fid = open(new_path +'des_files/'+ new_name+'.csv', 'w')\n",
        "                    _fid.write('{},{},{},{}\\n'.format(int(dicc_labels[\"class\"][i]), dicc_labels[\"x\"][i], dicc_labels[\"y\"][i], dicc_labels[\"z\"][i]))   \n",
        "                    _fid.close()      \n",
        "    elif 'train' in fold:\n",
        "        for filename in os.listdir(dataset_fold+fold+'/labels/'):\n",
        "            dicc_labels = _read_desc_file(dataset_fold+fold+'/labels/'+filename)\n",
        "            wav_name = dataset_fold+fold+'/data/'+filename[6:-4]+'_A.wav'\n",
        "            signal_list = process_audio(wav_name, dicc_labels)\n",
        "            for i in range(len(signal_list)):        \n",
        "                if len(filename[6:-4])==12:\n",
        "                    new_name = 'tra_0'+filename[-5]+'_'+str(i)+'_'+\"ov\"+filename[15]+'_s'+filename[11]\n",
        "                    print(new_name)\n",
        "                    torchaudio.save(new_path+'wav_files/'+new_name+'.wav', signal_list[i], 16000)\n",
        "                    _fid = open(new_path +'des_files/'+ new_name+'.csv', 'w')\n",
        "                    _fid.write('{},{},{},{}\\n'.format(int(dicc_labels[\"class\"][i]), dicc_labels[\"x\"][i], dicc_labels[\"y\"][i], dicc_labels[\"z\"][i]))   \n",
        "                    _fid.close() \n",
        "                if len(filename[6:-4])==13:\n",
        "                    new_name = 'tra_'+filename[-6:-4]+'_'+str(i)+'_'+\"ov\"+filename[15]+'_s'+filename[11]\n",
        "                    print(new_name)\n",
        "                    torchaudio.save(new_path+'wav_files/'+new_name+'.wav', signal_list[i], 16000)\n",
        "                    _fid = open(new_path +'des_files/'+ new_name+'.csv', 'w')\n",
        "                    _fid.write('{},{},{},{}\\n'.format(int(dicc_labels[\"class\"][i]), dicc_labels[\"x\"][i], dicc_labels[\"y\"][i], dicc_labels[\"z\"][i]))   \n",
        "                    _fid.close()               "
      ]
    }
  ],
  "metadata": {
    "kernelspec": {
      "display_name": "Python 3",
      "language": "python",
      "name": "python3"
    },
    "language_info": {
      "codemirror_mode": {
        "name": "ipython",
        "version": 3
      },
      "file_extension": ".py",
      "mimetype": "text/x-python",
      "name": "python",
      "nbconvert_exporter": "python",
      "pygments_lexer": "ipython3",
      "version": "3.9.5"
    },
    "colab": {
      "name": "preprocessing_datasets.ipynb",
      "provenance": [],
      "collapsed_sections": [],
      "include_colab_link": true
    }
  },
  "nbformat": 4,
  "nbformat_minor": 5
}